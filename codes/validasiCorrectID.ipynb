{
 "cells": [
  {
   "cell_type": "code",
   "execution_count": 1,
   "metadata": {},
   "outputs": [],
   "source": [
    "import pandas as pd\n",
    "import numpy as np\n",
    "import sqlite3\n",
    "\n",
    "# Database 1\n",
    "# product.db\n",
    "############\n",
    "# make connection to sqlite db\n",
    "conn1 = sqlite3.connect('product.db')\n",
    "c1 = conn1.cursor()\n",
    "\n",
    "# enable foreign keys\n",
    "c1.execute(\"PRAGMA foreign_keys = ON\")\n",
    "conn1.commit()\n",
    "\n",
    "# Database 2\n",
    "# validasi.db\n",
    "############\n",
    "# make connection to sqlite db\n",
    "conn2 = sqlite3.connect('validasi.db')\n",
    "c2 = conn2.cursor()\n",
    "\n",
    "# enable foreign keys\n",
    "c2.execute(\"PRAGMA foreign_keys = ON\")\n",
    "conn2.commit()\n",
    "\n",
    "# Query 1\n",
    "#########\n",
    "sqlc1 = 'SELECT id, uri FROM prodpage'\n",
    "c1.execute(sqlc1)\n",
    "conn1.commit()\n",
    "prod = c1.fetchall()\n",
    "prod = pd.DataFrame(prod)\n",
    "prod.columns = ['id', 'uri']\n",
    "\n",
    "# Query 2\n",
    "#########\n",
    "sqlc2 = 'SELECT id, uri FROM prodpage'\n",
    "c2.execute(sqlc2)\n",
    "conn2.commit()\n",
    "validasi = c2.fetchall()\n",
    "validasi = pd.DataFrame(validasi)\n",
    "validasi.columns = ['id', 'uri']\n",
    "\n",
    "# Merge\n"
   ]
  },
  {
   "cell_type": "code",
   "execution_count": 2,
   "metadata": {},
   "outputs": [
    {
     "data": {
      "text/html": [
       "<div>\n",
       "<style scoped>\n",
       "    .dataframe tbody tr th:only-of-type {\n",
       "        vertical-align: middle;\n",
       "    }\n",
       "\n",
       "    .dataframe tbody tr th {\n",
       "        vertical-align: top;\n",
       "    }\n",
       "\n",
       "    .dataframe thead th {\n",
       "        text-align: right;\n",
       "    }\n",
       "</style>\n",
       "<table border=\"1\" class=\"dataframe\">\n",
       "  <thead>\n",
       "    <tr style=\"text-align: right;\">\n",
       "      <th></th>\n",
       "      <th>id</th>\n",
       "      <th>uri</th>\n",
       "    </tr>\n",
       "  </thead>\n",
       "  <tbody>\n",
       "    <tr>\n",
       "      <th>0</th>\n",
       "      <td>5aa2ad7735d6d34b0032a795</td>\n",
       "      <td>https://www.tokopedia.com/philipselectric/lamp...</td>\n",
       "    </tr>\n",
       "    <tr>\n",
       "      <th>1</th>\n",
       "      <td>5aa39533ae1f941be7165ecd</td>\n",
       "      <td>https://www.tokopedia.com/momoboutique/mesin-j...</td>\n",
       "    </tr>\n",
       "    <tr>\n",
       "      <th>2</th>\n",
       "      <td>5a93e8768cbad97881597597</td>\n",
       "      <td>https://www.tokopedia.com/tokotoped/kapas-japa...</td>\n",
       "    </tr>\n",
       "    <tr>\n",
       "      <th>3</th>\n",
       "      <td>5a95d7ae35d6d33d3fea56ff</td>\n",
       "      <td>https://www.tokopedia.com/souvigameshop/paling...</td>\n",
       "    </tr>\n",
       "    <tr>\n",
       "      <th>4</th>\n",
       "      <td>5aa274ad8cbad96d9a0c50be</td>\n",
       "      <td>https://www.tokopedia.com/haryokostore/headset...</td>\n",
       "    </tr>\n",
       "  </tbody>\n",
       "</table>\n",
       "</div>"
      ],
      "text/plain": [
       "                         id                                                uri\n",
       "0  5aa2ad7735d6d34b0032a795  https://www.tokopedia.com/philipselectric/lamp...\n",
       "1  5aa39533ae1f941be7165ecd  https://www.tokopedia.com/momoboutique/mesin-j...\n",
       "2  5a93e8768cbad97881597597  https://www.tokopedia.com/tokotoped/kapas-japa...\n",
       "3  5a95d7ae35d6d33d3fea56ff  https://www.tokopedia.com/souvigameshop/paling...\n",
       "4  5aa274ad8cbad96d9a0c50be  https://www.tokopedia.com/haryokostore/headset..."
      ]
     },
     "execution_count": 2,
     "metadata": {},
     "output_type": "execute_result"
    }
   ],
   "source": [
    "prod.head()"
   ]
  },
  {
   "cell_type": "code",
   "execution_count": 3,
   "metadata": {},
   "outputs": [
    {
     "data": {
      "text/html": [
       "<div>\n",
       "<style scoped>\n",
       "    .dataframe tbody tr th:only-of-type {\n",
       "        vertical-align: middle;\n",
       "    }\n",
       "\n",
       "    .dataframe tbody tr th {\n",
       "        vertical-align: top;\n",
       "    }\n",
       "\n",
       "    .dataframe thead th {\n",
       "        text-align: right;\n",
       "    }\n",
       "</style>\n",
       "<table border=\"1\" class=\"dataframe\">\n",
       "  <thead>\n",
       "    <tr style=\"text-align: right;\">\n",
       "      <th></th>\n",
       "      <th>id</th>\n",
       "      <th>uri</th>\n",
       "    </tr>\n",
       "  </thead>\n",
       "  <tbody>\n",
       "    <tr>\n",
       "      <th>0</th>\n",
       "      <td>5b32126eb8a9f70142f6a766</td>\n",
       "      <td>https://www.tokopedia.com/philipselectric/lamp...</td>\n",
       "    </tr>\n",
       "    <tr>\n",
       "      <th>1</th>\n",
       "      <td>5b322e9cb8a9f70142f6a767</td>\n",
       "      <td>https://www.tokopedia.com/momoboutique/mesin-j...</td>\n",
       "    </tr>\n",
       "    <tr>\n",
       "      <th>2</th>\n",
       "      <td>5b346235b8a9f70142f6a786</td>\n",
       "      <td>https://www.tokopedia.com/jbl-official/jbl-t20...</td>\n",
       "    </tr>\n",
       "    <tr>\n",
       "      <th>3</th>\n",
       "      <td>5b32509bb8a9f70142f6a769</td>\n",
       "      <td>https://www.tokopedia.com/souvigameshop/paling...</td>\n",
       "    </tr>\n",
       "    <tr>\n",
       "      <th>4</th>\n",
       "      <td>5b3277a3b8a9f70142f6a76b</td>\n",
       "      <td>https://www.tokopedia.com/philipselectric/lamp...</td>\n",
       "    </tr>\n",
       "  </tbody>\n",
       "</table>\n",
       "</div>"
      ],
      "text/plain": [
       "                         id                                                uri\n",
       "0  5b32126eb8a9f70142f6a766  https://www.tokopedia.com/philipselectric/lamp...\n",
       "1  5b322e9cb8a9f70142f6a767  https://www.tokopedia.com/momoboutique/mesin-j...\n",
       "2  5b346235b8a9f70142f6a786  https://www.tokopedia.com/jbl-official/jbl-t20...\n",
       "3  5b32509bb8a9f70142f6a769  https://www.tokopedia.com/souvigameshop/paling...\n",
       "4  5b3277a3b8a9f70142f6a76b  https://www.tokopedia.com/philipselectric/lamp..."
      ]
     },
     "execution_count": 3,
     "metadata": {},
     "output_type": "execute_result"
    }
   ],
   "source": [
    "validasi.head()"
   ]
  },
  {
   "cell_type": "code",
   "execution_count": 4,
   "metadata": {},
   "outputs": [],
   "source": [
    "merged = pd.merge(prod, validasi, how='inner', on='uri', suffixes=('_prod', '_val'))"
   ]
  },
  {
   "cell_type": "code",
   "execution_count": 5,
   "metadata": {},
   "outputs": [
    {
     "data": {
      "text/html": [
       "<div>\n",
       "<style scoped>\n",
       "    .dataframe tbody tr th:only-of-type {\n",
       "        vertical-align: middle;\n",
       "    }\n",
       "\n",
       "    .dataframe tbody tr th {\n",
       "        vertical-align: top;\n",
       "    }\n",
       "\n",
       "    .dataframe thead th {\n",
       "        text-align: right;\n",
       "    }\n",
       "</style>\n",
       "<table border=\"1\" class=\"dataframe\">\n",
       "  <thead>\n",
       "    <tr style=\"text-align: right;\">\n",
       "      <th></th>\n",
       "      <th>id_prod</th>\n",
       "      <th>uri</th>\n",
       "      <th>id_val</th>\n",
       "    </tr>\n",
       "  </thead>\n",
       "  <tbody>\n",
       "    <tr>\n",
       "      <th>0</th>\n",
       "      <td>5aa2ad7735d6d34b0032a795</td>\n",
       "      <td>https://www.tokopedia.com/philipselectric/lamp...</td>\n",
       "      <td>5b32126eb8a9f70142f6a766</td>\n",
       "    </tr>\n",
       "    <tr>\n",
       "      <th>1</th>\n",
       "      <td>5aa39533ae1f941be7165ecd</td>\n",
       "      <td>https://www.tokopedia.com/momoboutique/mesin-j...</td>\n",
       "      <td>5b322e9cb8a9f70142f6a767</td>\n",
       "    </tr>\n",
       "    <tr>\n",
       "      <th>2</th>\n",
       "      <td>5a93e8768cbad97881597597</td>\n",
       "      <td>https://www.tokopedia.com/tokotoped/kapas-japa...</td>\n",
       "      <td>5b324265b8a9f70142f6a768</td>\n",
       "    </tr>\n",
       "    <tr>\n",
       "      <th>3</th>\n",
       "      <td>5a95d7ae35d6d33d3fea56ff</td>\n",
       "      <td>https://www.tokopedia.com/souvigameshop/paling...</td>\n",
       "      <td>5b32509bb8a9f70142f6a769</td>\n",
       "    </tr>\n",
       "    <tr>\n",
       "      <th>4</th>\n",
       "      <td>5aa274ad8cbad96d9a0c50be</td>\n",
       "      <td>https://www.tokopedia.com/haryokostore/headset...</td>\n",
       "      <td>5b326399b8a9f70142f6a76a</td>\n",
       "    </tr>\n",
       "  </tbody>\n",
       "</table>\n",
       "</div>"
      ],
      "text/plain": [
       "                    id_prod  \\\n",
       "0  5aa2ad7735d6d34b0032a795   \n",
       "1  5aa39533ae1f941be7165ecd   \n",
       "2  5a93e8768cbad97881597597   \n",
       "3  5a95d7ae35d6d33d3fea56ff   \n",
       "4  5aa274ad8cbad96d9a0c50be   \n",
       "\n",
       "                                                 uri                    id_val  \n",
       "0  https://www.tokopedia.com/philipselectric/lamp...  5b32126eb8a9f70142f6a766  \n",
       "1  https://www.tokopedia.com/momoboutique/mesin-j...  5b322e9cb8a9f70142f6a767  \n",
       "2  https://www.tokopedia.com/tokotoped/kapas-japa...  5b324265b8a9f70142f6a768  \n",
       "3  https://www.tokopedia.com/souvigameshop/paling...  5b32509bb8a9f70142f6a769  \n",
       "4  https://www.tokopedia.com/haryokostore/headset...  5b326399b8a9f70142f6a76a  "
      ]
     },
     "execution_count": 5,
     "metadata": {},
     "output_type": "execute_result"
    }
   ],
   "source": [
    "merged.head()"
   ]
  },
  {
   "cell_type": "code",
   "execution_count": 6,
   "metadata": {
    "scrolled": true
   },
   "outputs": [
    {
     "data": {
      "text/html": [
       "<div>\n",
       "<style scoped>\n",
       "    .dataframe tbody tr th:only-of-type {\n",
       "        vertical-align: middle;\n",
       "    }\n",
       "\n",
       "    .dataframe tbody tr th {\n",
       "        vertical-align: top;\n",
       "    }\n",
       "\n",
       "    .dataframe thead th {\n",
       "        text-align: right;\n",
       "    }\n",
       "</style>\n",
       "<table border=\"1\" class=\"dataframe\">\n",
       "  <thead>\n",
       "    <tr style=\"text-align: right;\">\n",
       "      <th></th>\n",
       "      <th>id_prod</th>\n",
       "      <th>uri</th>\n",
       "      <th>id_val</th>\n",
       "    </tr>\n",
       "  </thead>\n",
       "  <tbody>\n",
       "  </tbody>\n",
       "</table>\n",
       "</div>"
      ],
      "text/plain": [
       "Empty DataFrame\n",
       "Columns: [id_prod, uri, id_val]\n",
       "Index: []"
      ]
     },
     "execution_count": 6,
     "metadata": {},
     "output_type": "execute_result"
    }
   ],
   "source": [
    "merged[merged['id_val'].isna()]"
   ]
  },
  {
   "cell_type": "code",
   "execution_count": 7,
   "metadata": {},
   "outputs": [
    {
     "data": {
      "text/plain": [
       "((41596, 2), (1582, 2), (1582, 3))"
      ]
     },
     "execution_count": 7,
     "metadata": {},
     "output_type": "execute_result"
    }
   ],
   "source": [
    "prod.shape, validasi.shape, merged.shape"
   ]
  },
  {
   "cell_type": "code",
   "execution_count": 8,
   "metadata": {},
   "outputs": [],
   "source": [
    "??pd.merge"
   ]
  },
  {
   "cell_type": "code",
   "execution_count": 9,
   "metadata": {},
   "outputs": [],
   "source": [
    "# save it into csv file\n",
    "csvoutput = './csvfiles/validasi_merged.csv'\n",
    "merged.to_csv(csvoutput, index=False)"
   ]
  },
  {
   "cell_type": "code",
   "execution_count": null,
   "metadata": {},
   "outputs": [],
   "source": []
  }
 ],
 "metadata": {
  "kernelspec": {
   "display_name": "Python 3",
   "language": "python",
   "name": "python3"
  },
  "language_info": {
   "codemirror_mode": {
    "name": "ipython",
    "version": 3
   },
   "file_extension": ".py",
   "mimetype": "text/x-python",
   "name": "python",
   "nbconvert_exporter": "python",
   "pygments_lexer": "ipython3",
   "version": "3.6.5"
  }
 },
 "nbformat": 4,
 "nbformat_minor": 2
}
