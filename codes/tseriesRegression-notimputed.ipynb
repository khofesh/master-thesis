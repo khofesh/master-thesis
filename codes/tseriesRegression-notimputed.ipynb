{
 "cells": [
  {
   "cell_type": "markdown",
   "metadata": {},
   "source": [
    "# Linear Regression Forecasting Model"
   ]
  },
  {
   "cell_type": "code",
   "execution_count": 1,
   "metadata": {},
   "outputs": [],
   "source": [
    "import tseriesRoutines as routines\n",
    "import pandas as pd\n",
    "import numpy as np\n",
    "import matplotlib as mpl\n",
    "import matplotlib.pyplot as plt\n",
    "import sqlite3\n",
    "from sklearn.metrics import mean_squared_error, r2_score, mean_absolute_error\n",
    "from sklearn.preprocessing import LabelEncoder, OneHotEncoder\n",
    "from sklearn.preprocessing import StandardScaler\n",
    "from sklearn.model_selection import train_test_split\n",
    "from sklearn.model_selection import GridSearchCV\n",
    "from sklearn.model_selection import cross_val_score\n",
    "from sklearn.externals import joblib"
   ]
  },
  {
   "cell_type": "code",
   "execution_count": 2,
   "metadata": {},
   "outputs": [],
   "source": [
    "# RESULT REPRODUCIBILITY\n",
    "# The below is necessary for starting Numpy generated random numbers\n",
    "# in a well-defined initial state.\n",
    "np.random.seed(42)"
   ]
  },
  {
   "cell_type": "code",
   "execution_count": 3,
   "metadata": {},
   "outputs": [],
   "source": [
    "def genData(mongoid, conn, cursor, impute=True, freq='daily'):\n",
    "    '''\n",
    "    Generate a timeseries dataframe for timeseries modelling.\n",
    "    mongoid: str. string of mongodb id.\n",
    "    conn: sqlite3 connection.\n",
    "    cursor: sqlite3 cursor.\n",
    "    impute:\n",
    "    freq:\n",
    "    actualrevcount:\n",
    "    '''\n",
    "    np.random.seed(42)\n",
    "    initial = routines.sqlToDf(conn, cursor)\n",
    "    allproduct = initial.selectReview3(mongoid, impute=impute)\n",
    "    product = routines.tsSalesRateSentiment(allproduct, freq=freq)\n",
    "    return product\n",
    "    # product = genData('5aa2ad7735d6d34b0032a795', conn, c, impute=True, \n",
    "    #   freq='daily')"
   ]
  },
  {
   "cell_type": "code",
   "execution_count": 4,
   "metadata": {},
   "outputs": [],
   "source": [
    "def series_to_supervised(data, n_in=1, n_out=1, dropnan=True):\n",
    "    # https://machinelearningmastery.com/multivariate-time-series-forecasting-lstms-keras/\n",
    "    n_vars = 1 if type(data) is list else data.shape[1]\n",
    "    df = data.copy()\n",
    "    cols, names = list(), list()\n",
    "    # input sequence (t-n, ... t-1)\n",
    "    for i in range(n_in, 0, -1):\n",
    "        cols.append(df.shift(i))\n",
    "        names += [('var%d(t-%d)' % (j+1, i)) for j in range(n_vars)]\n",
    "\n",
    "    # forecast sequence (t, t+1, ... t+n)\n",
    "    for i in range(0, n_out):\n",
    "        cols.append(df.shift(-i))\n",
    "        if i == 0:\n",
    "            names += [('var%d(t)' % (j+1)) for j in range(n_vars)]\n",
    "        else:\n",
    "            names += [('var%d(t+%d)' % (j+1, i)) for j in range(n_vars)]\n",
    "\n",
    "    # put it all together\n",
    "    agg = pd.concat(cols, axis=1)\n",
    "    agg.columns = names\n",
    "    # drop rows with NaN values\n",
    "    if dropnan:\n",
    "        agg = agg.dropna()\n",
    "    return agg"
   ]
  },
  {
   "cell_type": "code",
   "execution_count": 5,
   "metadata": {},
   "outputs": [],
   "source": [
    "#Adj R square\n",
    "def adj_r2_score(model,X_test, y_test,):\n",
    "    y_pred = model.predict(X_test)\n",
    "    # model.coefs_ doesn't exist\n",
    "    adj = 1 - float(len(y_test)-1)/(len(y_test)-model.n_features_-1) * \\\n",
    "            (1 - r2_score(y_test,y_pred))\n",
    "    return adj\n",
    "\n",
    "# Evalute random search\n",
    "def evaluate(model, X_test, y_test):\n",
    "    y_pred = model.predict(X_test)\n",
    "    MSE = mean_squared_error(y_test, y_pred)\n",
    "    r2 = r2_score(y_test, y_pred)\n",
    "#    r2_adjusted = adj_r2_score(model, X_test, y_test)\n",
    "    print('Model Validation')\n",
    "    print('MSE: {0}'.format(MSE))\n",
    "    print('R^2: {0}'.format(r2))\n",
    "#    print('R^2 Adjusted: {0}'.format(r2_adjusted))"
   ]
  },
  {
   "cell_type": "code",
   "execution_count": 6,
   "metadata": {},
   "outputs": [],
   "source": [
    "def splitDataNN(df, n_in=1, n_out=1, scale=True, percent=0.2):\n",
    "    '''\n",
    "    df: pandas dataframe. 3 columns (sales, rating, ovsentiment) with date as index\n",
    "    n_in:\n",
    "    n_out:\n",
    "    scale:\n",
    "    percent:\n",
    "    X_train, y_train, X_test, y_test, dftrain = splitDataNN(product, n_in=1, \n",
    "        n_out=1, scale=True, percent=0.2)\n",
    "    '''\n",
    "    dftrain = series_to_supervised(df, n_in=n_in, n_out=n_out)\n",
    "    # specific to this case\n",
    "    dftrain = dftrain.drop(dftrain.columns[[4, 5]], axis=1)\n",
    "    values = dftrain.values\n",
    "\n",
    "    if scale:\n",
    "        scaler = StandardScaler()\n",
    "        values = scaler.fit_transform(values)\n",
    "    else:\n",
    "        pass\n",
    "\n",
    "    # training data\n",
    "    X, y = values[:, :-1], values[:, -1]\n",
    "    # train and test set\n",
    "    X_train, X_test, y_train, y_test = train_test_split(X, y, test_size=percent, \n",
    "            shuffle=False, random_state=42)\n",
    "    return X_train, y_train, X_test, y_test, dftrain, scaler"
   ]
  },
  {
   "cell_type": "code",
   "execution_count": 7,
   "metadata": {},
   "outputs": [],
   "source": [
    "def evalForecast(model, X, y, inverse=False, scaler=None):\n",
    "    '''\n",
    "    Evaluate time series forecasting model\n",
    "    '''\n",
    "    if inverse and scaler:\n",
    "        # make prediction\n",
    "        ypred = model.predict(X)\n",
    "        # invert scaling predicted data\n",
    "        inv_ypred = np.concatenate((X[:, :], ypred.reshape((-1,1))), axis=1)\n",
    "        inv_ypred = scaler.inverse_transform(inv_ypred)\n",
    "        inv_ypred = inv_ypred[:, -1]\n",
    "        # invert scaling for actual data\n",
    "        y = y.reshape((len(y), 1))\n",
    "        inv_y = np.concatenate((X[:, :], y.reshape((-1,1))), axis=1)\n",
    "        inv_y = scaler.inverse_transform(inv_y)\n",
    "        inv_y = inv_y[:, -1]\n",
    "        # RMSE\n",
    "        rmse = np.sqrt(mean_squared_error(y_pred=inv_ypred, y_true=inv_y))\n",
    "        # MAE\n",
    "        mae = mean_absolute_error(y_pred=inv_ypred, y_true=inv_y)\n",
    "    else:\n",
    "        # make prediction\n",
    "        ypred = model.model.predict(X)\n",
    "        # RMSE\n",
    "        rmse = np.sqrt(mean_squared_error(y_pred=ypred, y_true=y))\n",
    "        # MAE\n",
    "        mae = mean_absolute_error(y_pred=ypred, y_true=y)\n",
    "\n",
    "    print('Validasi RMSE: {0:.5f}'.format(rmse))\n",
    "    print('Validasi MAE: {0:.5f}'.format(mae))"
   ]
  },
  {
   "cell_type": "code",
   "execution_count": 8,
   "metadata": {},
   "outputs": [],
   "source": [
    "# make connection to sqlite db\n",
    "conn = sqlite3.connect('product.db')\n",
    "c = conn.cursor()\n",
    "\n",
    "# enable foreign keys\n",
    "c.execute(\"PRAGMA foreign_keys = ON\")\n",
    "conn.commit()"
   ]
  },
  {
   "cell_type": "markdown",
   "metadata": {},
   "source": [
    "<br>pilihan:\n",
    ">     2 data di database product.db dgn review > 900:\n",
    ">         5aa2ad7735d6d34b0032a795\n",
    ">         5aa39533ae1f941be7165ecd\n",
    ">     cluster 3\n",
    ">         5a93e8768cbad97881597597\n",
    ">         or \n",
    ">         5a95d7ae35d6d33d3fea56ff\n",
    ">     cluster 1\n",
    ">         5aa2c35e35d6d34b0032a796\n",
    ">     cluster 2 \n",
    ">         5a92474635d6d32207bcd343\n",
    "</br>"
   ]
  },
  {
   "cell_type": "markdown",
   "metadata": {},
   "source": [
    "## <font color=blue> 1. Mongodb ID: 5aa2ad7735d6d34b0032a795 </font>"
   ]
  },
  {
   "cell_type": "code",
   "execution_count": 8,
   "metadata": {},
   "outputs": [],
   "source": [
    "product = genData('5aa2ad7735d6d34b0032a795', conn, c, impute=True, freq='daily')\n",
    "X_train, y_train, X_test, y_test, dftrain, scaler = splitDataNN(product, percent=0.2)"
   ]
  },
  {
   "cell_type": "code",
   "execution_count": 9,
   "metadata": {},
   "outputs": [
    {
     "data": {
      "text/plain": [
       "(479, 3)"
      ]
     },
     "execution_count": 9,
     "metadata": {},
     "output_type": "execute_result"
    }
   ],
   "source": [
    "product.shape"
   ]
  },
  {
   "cell_type": "code",
   "execution_count": 10,
   "metadata": {},
   "outputs": [
    {
     "data": {
      "text/plain": [
       "41548"
      ]
     },
     "execution_count": 10,
     "metadata": {},
     "output_type": "execute_result"
    }
   ],
   "source": [
    "product['Sales'].sum()"
   ]
  },
  {
   "cell_type": "code",
   "execution_count": 11,
   "metadata": {},
   "outputs": [
    {
     "data": {
      "text/html": [
       "<div>\n",
       "<style scoped>\n",
       "    .dataframe tbody tr th:only-of-type {\n",
       "        vertical-align: middle;\n",
       "    }\n",
       "\n",
       "    .dataframe tbody tr th {\n",
       "        vertical-align: top;\n",
       "    }\n",
       "\n",
       "    .dataframe thead th {\n",
       "        text-align: right;\n",
       "    }\n",
       "</style>\n",
       "<table border=\"1\" class=\"dataframe\">\n",
       "  <thead>\n",
       "    <tr style=\"text-align: right;\">\n",
       "      <th></th>\n",
       "      <th>Sales</th>\n",
       "      <th>rating</th>\n",
       "      <th>ovsentiment</th>\n",
       "    </tr>\n",
       "    <tr>\n",
       "      <th>date</th>\n",
       "      <th></th>\n",
       "      <th></th>\n",
       "      <th></th>\n",
       "    </tr>\n",
       "  </thead>\n",
       "  <tbody>\n",
       "    <tr>\n",
       "      <th>2016-11-06</th>\n",
       "      <td>82</td>\n",
       "      <td>3.500000</td>\n",
       "      <td>0.500000</td>\n",
       "    </tr>\n",
       "    <tr>\n",
       "      <th>2016-11-07</th>\n",
       "      <td>88</td>\n",
       "      <td>5.000000</td>\n",
       "      <td>1.000000</td>\n",
       "    </tr>\n",
       "    <tr>\n",
       "      <th>2016-11-08</th>\n",
       "      <td>74</td>\n",
       "      <td>0.000000</td>\n",
       "      <td>0.000000</td>\n",
       "    </tr>\n",
       "    <tr>\n",
       "      <th>2016-11-09</th>\n",
       "      <td>72</td>\n",
       "      <td>0.000000</td>\n",
       "      <td>0.000000</td>\n",
       "    </tr>\n",
       "    <tr>\n",
       "      <th>2016-11-10</th>\n",
       "      <td>98</td>\n",
       "      <td>4.666667</td>\n",
       "      <td>0.333333</td>\n",
       "    </tr>\n",
       "  </tbody>\n",
       "</table>\n",
       "</div>"
      ],
      "text/plain": [
       "            Sales    rating  ovsentiment\n",
       "date                                    \n",
       "2016-11-06     82  3.500000     0.500000\n",
       "2016-11-07     88  5.000000     1.000000\n",
       "2016-11-08     74  0.000000     0.000000\n",
       "2016-11-09     72  0.000000     0.000000\n",
       "2016-11-10     98  4.666667     0.333333"
      ]
     },
     "execution_count": 11,
     "metadata": {},
     "output_type": "execute_result"
    }
   ],
   "source": [
    "product.head()"
   ]
  },
  {
   "cell_type": "code",
   "execution_count": 12,
   "metadata": {},
   "outputs": [
    {
     "data": {
      "text/plain": [
       "(382, 3)"
      ]
     },
     "execution_count": 12,
     "metadata": {},
     "output_type": "execute_result"
    }
   ],
   "source": [
    "X_train.shape"
   ]
  },
  {
   "cell_type": "code",
   "execution_count": 8,
   "metadata": {},
   "outputs": [],
   "source": [
    "from sklearn.linear_model import LinearRegression\n",
    "slr = LinearRegression()"
   ]
  },
  {
   "cell_type": "code",
   "execution_count": 14,
   "metadata": {},
   "outputs": [
    {
     "data": {
      "text/plain": [
       "LinearRegression(copy_X=True, fit_intercept=True, n_jobs=1, normalize=False)"
      ]
     },
     "execution_count": 14,
     "metadata": {},
     "output_type": "execute_result"
    }
   ],
   "source": [
    "slr.fit(X_train, y_train)"
   ]
  },
  {
   "cell_type": "code",
   "execution_count": 15,
   "metadata": {},
   "outputs": [
    {
     "name": "stdout",
     "output_type": "stream",
     "text": [
      "Model Validation\n",
      "MSE: 1.0625613715252527\n",
      "R^2: -0.023007491415257597\n"
     ]
    }
   ],
   "source": [
    "evaluate(slr, X_test, y_test)"
   ]
  },
  {
   "cell_type": "code",
   "execution_count": 16,
   "metadata": {},
   "outputs": [
    {
     "data": {
      "text/plain": [
       "1.0308061755370175"
      ]
     },
     "execution_count": 16,
     "metadata": {},
     "output_type": "execute_result"
    }
   ],
   "source": [
    "y_pred = slr.predict(X_test)\n",
    "np.sqrt(mean_squared_error(y_pred=y_pred, y_true=y_test.reshape(-1,1)))"
   ]
  },
  {
   "cell_type": "code",
   "execution_count": 17,
   "metadata": {},
   "outputs": [
    {
     "data": {
      "text/plain": [
       "0.8307621628305174"
      ]
     },
     "execution_count": 17,
     "metadata": {},
     "output_type": "execute_result"
    }
   ],
   "source": [
    "mean_absolute_error(y_pred=y_pred, y_true=y_test.reshape(-1,1))"
   ]
  },
  {
   "cell_type": "code",
   "execution_count": 9,
   "metadata": {
    "scrolled": true
   },
   "outputs": [],
   "source": [
    "# POLYNOMIAL REGRESSION\n",
    "###########################\n",
    "from sklearn.preprocessing import PolynomialFeatures\n",
    "regr = LinearRegression()\n",
    "quadratic = PolynomialFeatures(degree=2)\n",
    "cubic = PolynomialFeatures(degree=3)"
   ]
  },
  {
   "cell_type": "code",
   "execution_count": 19,
   "metadata": {},
   "outputs": [],
   "source": [
    "X_train_quad = quadratic.fit_transform(X_train)\n",
    "X_train_cubic = cubic.fit_transform(X_train)\n",
    "X_test_quad = quadratic.fit_transform(X_test)\n",
    "X_test_cubic = cubic.fit_transform(X_test)"
   ]
  },
  {
   "cell_type": "code",
   "execution_count": 20,
   "metadata": {},
   "outputs": [],
   "source": [
    "# quadratic\n",
    "regr = regr.fit(X_train_quad, y_train)"
   ]
  },
  {
   "cell_type": "code",
   "execution_count": 21,
   "metadata": {},
   "outputs": [
    {
     "name": "stdout",
     "output_type": "stream",
     "text": [
      "Model Validation\n",
      "MSE: 1.1190428923998945\n",
      "R^2: -0.07738648591827091\n"
     ]
    }
   ],
   "source": [
    "evaluate(regr, X_test_quad, y_test)"
   ]
  },
  {
   "cell_type": "code",
   "execution_count": 22,
   "metadata": {},
   "outputs": [
    {
     "data": {
      "text/plain": [
       "1.0578482369413367"
      ]
     },
     "execution_count": 22,
     "metadata": {},
     "output_type": "execute_result"
    }
   ],
   "source": [
    "y_pred = regr.predict(X_test_quad)\n",
    "np.sqrt(mean_squared_error(y_pred=y_pred, y_true=y_test.reshape(-1,1)))"
   ]
  },
  {
   "cell_type": "code",
   "execution_count": 23,
   "metadata": {},
   "outputs": [
    {
     "data": {
      "text/plain": [
       "0.8451088115561755"
      ]
     },
     "execution_count": 23,
     "metadata": {},
     "output_type": "execute_result"
    }
   ],
   "source": [
    "mean_absolute_error(y_pred=y_pred, y_true=y_test.reshape(-1,1))"
   ]
  },
  {
   "cell_type": "code",
   "execution_count": 24,
   "metadata": {},
   "outputs": [],
   "source": [
    "# cubic\n",
    "regr = regr.fit(X_train_cubic, y_train)"
   ]
  },
  {
   "cell_type": "code",
   "execution_count": 25,
   "metadata": {
    "scrolled": true
   },
   "outputs": [
    {
     "data": {
      "text/plain": [
       "1.0407992278813654"
      ]
     },
     "execution_count": 25,
     "metadata": {},
     "output_type": "execute_result"
    }
   ],
   "source": [
    "y_pred = regr.predict(X_test_cubic)\n",
    "np.sqrt(mean_squared_error(y_pred=y_pred, y_true=y_test.reshape(-1,1)))"
   ]
  },
  {
   "cell_type": "code",
   "execution_count": 26,
   "metadata": {},
   "outputs": [
    {
     "data": {
      "text/plain": [
       "0.8354795394765859"
      ]
     },
     "execution_count": 26,
     "metadata": {},
     "output_type": "execute_result"
    }
   ],
   "source": [
    "mean_absolute_error(y_pred=y_pred, y_true=y_test.reshape(-1,1))"
   ]
  },
  {
   "cell_type": "markdown",
   "metadata": {},
   "source": [
    "## <font color=blue> 2. Mongodb ID: 5aa39533ae1f941be7165ecd </font>"
   ]
  },
  {
   "cell_type": "code",
   "execution_count": 27,
   "metadata": {},
   "outputs": [],
   "source": [
    "product = genData('5aa39533ae1f941be7165ecd', conn, c, impute=True, freq='daily')\n",
    "X_train, y_train, X_test, y_test, dftrain, scaler = splitDataNN(product, percent=0.2)"
   ]
  },
  {
   "cell_type": "code",
   "execution_count": 28,
   "metadata": {},
   "outputs": [
    {
     "data": {
      "text/plain": [
       "LinearRegression(copy_X=True, fit_intercept=True, n_jobs=1, normalize=False)"
      ]
     },
     "execution_count": 28,
     "metadata": {},
     "output_type": "execute_result"
    }
   ],
   "source": [
    "slr = LinearRegression()\n",
    "slr.fit(X_train, y_train)"
   ]
  },
  {
   "cell_type": "code",
   "execution_count": 29,
   "metadata": {},
   "outputs": [
    {
     "name": "stdout",
     "output_type": "stream",
     "text": [
      "Model Validation\n",
      "MSE: 1.1860735338073864\n",
      "R^2: 0.006855414766489765\n"
     ]
    }
   ],
   "source": [
    "evaluate(slr, X_test, y_test)"
   ]
  },
  {
   "cell_type": "code",
   "execution_count": 30,
   "metadata": {},
   "outputs": [
    {
     "data": {
      "text/plain": [
       "1.0890700316358846"
      ]
     },
     "execution_count": 30,
     "metadata": {},
     "output_type": "execute_result"
    }
   ],
   "source": [
    "y_pred = slr.predict(X_test)\n",
    "np.sqrt(mean_squared_error(y_pred=y_pred, y_true=y_test.reshape(-1,1)))"
   ]
  },
  {
   "cell_type": "code",
   "execution_count": 31,
   "metadata": {},
   "outputs": [
    {
     "data": {
      "text/plain": [
       "0.8410492013956025"
      ]
     },
     "execution_count": 31,
     "metadata": {},
     "output_type": "execute_result"
    }
   ],
   "source": [
    "mean_absolute_error(y_pred=y_pred, y_true=y_test.reshape(-1,1))"
   ]
  },
  {
   "cell_type": "code",
   "execution_count": 32,
   "metadata": {
    "scrolled": true
   },
   "outputs": [],
   "source": [
    "regr = LinearRegression()\n",
    "quadratic = PolynomialFeatures(degree=2)\n",
    "cubic = PolynomialFeatures(degree=3)"
   ]
  },
  {
   "cell_type": "code",
   "execution_count": 33,
   "metadata": {},
   "outputs": [],
   "source": [
    "X_train_quad = quadratic.fit_transform(X_train)\n",
    "X_train_cubic = cubic.fit_transform(X_train)\n",
    "X_test_quad = quadratic.fit_transform(X_test)\n",
    "X_test_cubic = cubic.fit_transform(X_test)"
   ]
  },
  {
   "cell_type": "code",
   "execution_count": 34,
   "metadata": {},
   "outputs": [],
   "source": [
    "# quadratic\n",
    "regr = regr.fit(X_train_quad, y_train)"
   ]
  },
  {
   "cell_type": "code",
   "execution_count": 35,
   "metadata": {},
   "outputs": [
    {
     "name": "stdout",
     "output_type": "stream",
     "text": [
      "Model Validation\n",
      "MSE: 1.2574847555240893\n",
      "R^2: -0.05293992350835475\n"
     ]
    }
   ],
   "source": [
    "evaluate(regr, X_test_quad, y_test)"
   ]
  },
  {
   "cell_type": "code",
   "execution_count": 36,
   "metadata": {},
   "outputs": [
    {
     "data": {
      "text/plain": [
       "1.121376277403838"
      ]
     },
     "execution_count": 36,
     "metadata": {},
     "output_type": "execute_result"
    }
   ],
   "source": [
    "y_pred = regr.predict(X_test_quad)\n",
    "np.sqrt(mean_squared_error(y_pred=y_pred, y_true=y_test.reshape(-1,1)))"
   ]
  },
  {
   "cell_type": "code",
   "execution_count": 37,
   "metadata": {},
   "outputs": [
    {
     "data": {
      "text/plain": [
       "0.8684426792408699"
      ]
     },
     "execution_count": 37,
     "metadata": {},
     "output_type": "execute_result"
    }
   ],
   "source": [
    "mean_absolute_error(y_pred=y_pred, y_true=y_test.reshape(-1,1))"
   ]
  },
  {
   "cell_type": "code",
   "execution_count": 38,
   "metadata": {},
   "outputs": [],
   "source": [
    "# cubic\n",
    "regr = regr.fit(X_train_cubic, y_train)"
   ]
  },
  {
   "cell_type": "code",
   "execution_count": 39,
   "metadata": {},
   "outputs": [
    {
     "data": {
      "text/plain": [
       "1.4898142161370418"
      ]
     },
     "execution_count": 39,
     "metadata": {},
     "output_type": "execute_result"
    }
   ],
   "source": [
    "y_pred = regr.predict(X_test_cubic)\n",
    "np.sqrt(mean_squared_error(y_pred=y_pred, y_true=y_test.reshape(-1,1)))"
   ]
  },
  {
   "cell_type": "code",
   "execution_count": 40,
   "metadata": {},
   "outputs": [
    {
     "data": {
      "text/plain": [
       "0.9484523286665023"
      ]
     },
     "execution_count": 40,
     "metadata": {},
     "output_type": "execute_result"
    }
   ],
   "source": [
    "mean_absolute_error(y_pred=y_pred, y_true=y_test.reshape(-1,1))"
   ]
  },
  {
   "cell_type": "markdown",
   "metadata": {},
   "source": [
    "## <font color=blue> 3. Mongodb ID: 5a93e8768cbad97881597597 </font>"
   ]
  },
  {
   "cell_type": "code",
   "execution_count": 41,
   "metadata": {},
   "outputs": [],
   "source": [
    "product = genData('5a93e8768cbad97881597597', conn, c, impute=True, freq='daily')\n",
    "X_train, y_train, X_test, y_test, dftrain, scaler = splitDataNN(product, percent=0.2)"
   ]
  },
  {
   "cell_type": "code",
   "execution_count": 42,
   "metadata": {},
   "outputs": [
    {
     "data": {
      "text/plain": [
       "LinearRegression(copy_X=True, fit_intercept=True, n_jobs=1, normalize=False)"
      ]
     },
     "execution_count": 42,
     "metadata": {},
     "output_type": "execute_result"
    }
   ],
   "source": [
    "slr = LinearRegression()\n",
    "slr.fit(X_train, y_train)"
   ]
  },
  {
   "cell_type": "code",
   "execution_count": 43,
   "metadata": {},
   "outputs": [
    {
     "name": "stdout",
     "output_type": "stream",
     "text": [
      "Model Validation\n",
      "MSE: 1.0790735990572746\n",
      "R^2: -0.00880186883541878\n"
     ]
    }
   ],
   "source": [
    "evaluate(slr, X_test, y_test)"
   ]
  },
  {
   "cell_type": "code",
   "execution_count": 44,
   "metadata": {},
   "outputs": [
    {
     "data": {
      "text/plain": [
       "1.0387846740577542"
      ]
     },
     "execution_count": 44,
     "metadata": {},
     "output_type": "execute_result"
    }
   ],
   "source": [
    "y_pred = slr.predict(X_test)\n",
    "np.sqrt(mean_squared_error(y_pred=y_pred, y_true=y_test.reshape(-1,1)))"
   ]
  },
  {
   "cell_type": "code",
   "execution_count": 45,
   "metadata": {},
   "outputs": [
    {
     "data": {
      "text/plain": [
       "0.8366687466529"
      ]
     },
     "execution_count": 45,
     "metadata": {},
     "output_type": "execute_result"
    }
   ],
   "source": [
    "mean_absolute_error(y_pred=y_pred, y_true=y_test.reshape(-1,1))"
   ]
  },
  {
   "cell_type": "code",
   "execution_count": 46,
   "metadata": {},
   "outputs": [],
   "source": [
    "regr = LinearRegression()\n",
    "quadratic = PolynomialFeatures(degree=2)\n",
    "cubic = PolynomialFeatures(degree=3)"
   ]
  },
  {
   "cell_type": "code",
   "execution_count": 47,
   "metadata": {},
   "outputs": [],
   "source": [
    "X_train_quad = quadratic.fit_transform(X_train)\n",
    "X_train_cubic = cubic.fit_transform(X_train)\n",
    "X_test_quad = quadratic.fit_transform(X_test)\n",
    "X_test_cubic = cubic.fit_transform(X_test)"
   ]
  },
  {
   "cell_type": "code",
   "execution_count": 48,
   "metadata": {},
   "outputs": [],
   "source": [
    "# quadratic\n",
    "regr = regr.fit(X_train_quad, y_train)"
   ]
  },
  {
   "cell_type": "code",
   "execution_count": 49,
   "metadata": {
    "scrolled": true
   },
   "outputs": [
    {
     "name": "stdout",
     "output_type": "stream",
     "text": [
      "Model Validation\n",
      "MSE: 1.0762114581821525\n",
      "R^2: -0.006126117092241978\n"
     ]
    }
   ],
   "source": [
    "evaluate(regr, X_test_quad, y_test)"
   ]
  },
  {
   "cell_type": "code",
   "execution_count": 50,
   "metadata": {},
   "outputs": [
    {
     "data": {
      "text/plain": [
       "1.0374061201777018"
      ]
     },
     "execution_count": 50,
     "metadata": {},
     "output_type": "execute_result"
    }
   ],
   "source": [
    "y_pred = regr.predict(X_test_quad)\n",
    "np.sqrt(mean_squared_error(y_pred=y_pred, y_true=y_test.reshape(-1,1)))"
   ]
  },
  {
   "cell_type": "code",
   "execution_count": 51,
   "metadata": {},
   "outputs": [
    {
     "data": {
      "text/plain": [
       "0.840553366207255"
      ]
     },
     "execution_count": 51,
     "metadata": {},
     "output_type": "execute_result"
    }
   ],
   "source": [
    "mean_absolute_error(y_pred=y_pred, y_true=y_test.reshape(-1,1))"
   ]
  },
  {
   "cell_type": "code",
   "execution_count": 52,
   "metadata": {},
   "outputs": [],
   "source": [
    "# cubic\n",
    "regr = regr.fit(X_train_cubic, y_train)"
   ]
  },
  {
   "cell_type": "code",
   "execution_count": 53,
   "metadata": {},
   "outputs": [
    {
     "data": {
      "text/plain": [
       "1.0362859463072278"
      ]
     },
     "execution_count": 53,
     "metadata": {},
     "output_type": "execute_result"
    }
   ],
   "source": [
    "y_pred = regr.predict(X_test_cubic)\n",
    "np.sqrt(mean_squared_error(y_pred=y_pred, y_true=y_test.reshape(-1,1)))"
   ]
  },
  {
   "cell_type": "code",
   "execution_count": 54,
   "metadata": {},
   "outputs": [
    {
     "data": {
      "text/plain": [
       "0.8355312105700679"
      ]
     },
     "execution_count": 54,
     "metadata": {},
     "output_type": "execute_result"
    }
   ],
   "source": [
    "mean_absolute_error(y_pred=y_pred, y_true=y_test.reshape(-1,1))"
   ]
  },
  {
   "cell_type": "markdown",
   "metadata": {},
   "source": [
    "## <font color=blue> 5. Mongodb ID: 5aa2c35e35d6d34b0032a796 </font>"
   ]
  },
  {
   "cell_type": "code",
   "execution_count": 69,
   "metadata": {},
   "outputs": [],
   "source": [
    "product = genData('5aa2c35e35d6d34b0032a796', conn, c, impute=True, freq='daily')\n",
    "X_train, y_train, X_test, y_test, dftrain, scaler = splitDataNN(product, percent=0.2)"
   ]
  },
  {
   "cell_type": "code",
   "execution_count": 70,
   "metadata": {},
   "outputs": [
    {
     "data": {
      "text/plain": [
       "LinearRegression(copy_X=True, fit_intercept=True, n_jobs=1, normalize=False)"
      ]
     },
     "execution_count": 70,
     "metadata": {},
     "output_type": "execute_result"
    }
   ],
   "source": [
    "slr = LinearRegression()\n",
    "slr.fit(X_train, y_train)"
   ]
  },
  {
   "cell_type": "code",
   "execution_count": 71,
   "metadata": {},
   "outputs": [
    {
     "name": "stdout",
     "output_type": "stream",
     "text": [
      "Model Validation\n",
      "MSE: 1.61718036004619\n",
      "R^2: 0.01138448531197278\n"
     ]
    }
   ],
   "source": [
    "evaluate(slr, X_test, y_test)"
   ]
  },
  {
   "cell_type": "code",
   "execution_count": 72,
   "metadata": {},
   "outputs": [
    {
     "data": {
      "text/plain": [
       "1.2716840645562049"
      ]
     },
     "execution_count": 72,
     "metadata": {},
     "output_type": "execute_result"
    }
   ],
   "source": [
    "y_pred = slr.predict(X_test)\n",
    "np.sqrt(mean_squared_error(y_pred=y_pred, y_true=y_test.reshape(-1,1)))"
   ]
  },
  {
   "cell_type": "code",
   "execution_count": 73,
   "metadata": {},
   "outputs": [
    {
     "data": {
      "text/plain": [
       "0.33147496352025696"
      ]
     },
     "execution_count": 73,
     "metadata": {},
     "output_type": "execute_result"
    }
   ],
   "source": [
    "mean_absolute_error(y_pred=y_pred, y_true=y_test.reshape(-1,1))"
   ]
  },
  {
   "cell_type": "code",
   "execution_count": 74,
   "metadata": {},
   "outputs": [],
   "source": [
    "regr = LinearRegression()\n",
    "quadratic = PolynomialFeatures(degree=2)\n",
    "cubic = PolynomialFeatures(degree=3)"
   ]
  },
  {
   "cell_type": "code",
   "execution_count": 75,
   "metadata": {},
   "outputs": [],
   "source": [
    "X_train_quad = quadratic.fit_transform(X_train)\n",
    "X_train_cubic = cubic.fit_transform(X_train)\n",
    "X_test_quad = quadratic.fit_transform(X_test)\n",
    "X_test_cubic = cubic.fit_transform(X_test)"
   ]
  },
  {
   "cell_type": "code",
   "execution_count": 76,
   "metadata": {},
   "outputs": [],
   "source": [
    "# quadratic\n",
    "regr = regr.fit(X_train_quad, y_train)"
   ]
  },
  {
   "cell_type": "code",
   "execution_count": 77,
   "metadata": {
    "scrolled": true
   },
   "outputs": [
    {
     "name": "stdout",
     "output_type": "stream",
     "text": [
      "Model Validation\n",
      "MSE: 1.6565134808303148\n",
      "R^2: -0.012660657956507837\n"
     ]
    }
   ],
   "source": [
    "evaluate(regr, X_test_quad, y_test)"
   ]
  },
  {
   "cell_type": "code",
   "execution_count": 78,
   "metadata": {},
   "outputs": [
    {
     "data": {
      "text/plain": [
       "1.2870561296347238"
      ]
     },
     "execution_count": 78,
     "metadata": {},
     "output_type": "execute_result"
    }
   ],
   "source": [
    "y_pred = regr.predict(X_test_quad)\n",
    "np.sqrt(mean_squared_error(y_pred=y_pred, y_true=y_test.reshape(-1,1)))"
   ]
  },
  {
   "cell_type": "code",
   "execution_count": 79,
   "metadata": {},
   "outputs": [
    {
     "data": {
      "text/plain": [
       "0.34248574384825864"
      ]
     },
     "execution_count": 79,
     "metadata": {},
     "output_type": "execute_result"
    }
   ],
   "source": [
    "mean_absolute_error(y_pred=y_pred, y_true=y_test.reshape(-1,1))"
   ]
  },
  {
   "cell_type": "code",
   "execution_count": 80,
   "metadata": {},
   "outputs": [],
   "source": [
    "# cubic\n",
    "regr = regr.fit(X_train_cubic, y_train)"
   ]
  },
  {
   "cell_type": "code",
   "execution_count": 81,
   "metadata": {},
   "outputs": [
    {
     "data": {
      "text/plain": [
       "1.3154266069559164"
      ]
     },
     "execution_count": 81,
     "metadata": {},
     "output_type": "execute_result"
    }
   ],
   "source": [
    "y_pred = regr.predict(X_test_cubic)\n",
    "np.sqrt(mean_squared_error(y_pred=y_pred, y_true=y_test.reshape(-1,1)))"
   ]
  },
  {
   "cell_type": "code",
   "execution_count": 82,
   "metadata": {},
   "outputs": [
    {
     "data": {
      "text/plain": [
       "0.35463042867713773"
      ]
     },
     "execution_count": 82,
     "metadata": {},
     "output_type": "execute_result"
    }
   ],
   "source": [
    "mean_absolute_error(y_pred=y_pred, y_true=y_test.reshape(-1,1))"
   ]
  },
  {
   "cell_type": "markdown",
   "metadata": {},
   "source": [
    "## <font color=blue> 7. Mongodb ID: 5a9347b98cbad97074cb1890 </font>"
   ]
  },
  {
   "cell_type": "code",
   "execution_count": 13,
   "metadata": {},
   "outputs": [],
   "source": [
    "product = genData('5a9347b98cbad97074cb1890', conn, c, impute=True, freq='daily')\n",
    "X_train, y_train, X_test, y_test, dftrain, scaler = splitDataNN(product, percent=0.2)"
   ]
  },
  {
   "cell_type": "code",
   "execution_count": 14,
   "metadata": {},
   "outputs": [
    {
     "data": {
      "text/plain": [
       "LinearRegression(copy_X=True, fit_intercept=True, n_jobs=1, normalize=False)"
      ]
     },
     "execution_count": 14,
     "metadata": {},
     "output_type": "execute_result"
    }
   ],
   "source": [
    "slr = LinearRegression()\n",
    "slr.fit(X_train, y_train)"
   ]
  },
  {
   "cell_type": "code",
   "execution_count": 15,
   "metadata": {},
   "outputs": [
    {
     "name": "stdout",
     "output_type": "stream",
     "text": [
      "Model Validation\n",
      "MSE: 0.9694820025711656\n",
      "R^2: 0.023861396592282702\n"
     ]
    }
   ],
   "source": [
    "evaluate(slr, X_train, y_train)"
   ]
  },
  {
   "cell_type": "code",
   "execution_count": 16,
   "metadata": {},
   "outputs": [
    {
     "data": {
      "text/plain": [
       "0.9846227717106514"
      ]
     },
     "execution_count": 16,
     "metadata": {},
     "output_type": "execute_result"
    }
   ],
   "source": [
    "y_pred = slr.predict(X_train)\n",
    "np.sqrt(mean_squared_error(y_pred=y_pred, y_true=y_train.reshape(-1,1)))"
   ]
  },
  {
   "cell_type": "code",
   "execution_count": 17,
   "metadata": {},
   "outputs": [
    {
     "data": {
      "text/plain": [
       "0.7073056178537338"
      ]
     },
     "execution_count": 17,
     "metadata": {},
     "output_type": "execute_result"
    }
   ],
   "source": [
    "mean_absolute_error(y_pred=y_pred, y_true=y_train.reshape(-1,1))"
   ]
  },
  {
   "cell_type": "code",
   "execution_count": 18,
   "metadata": {},
   "outputs": [],
   "source": [
    "regr = LinearRegression()\n",
    "quadratic = PolynomialFeatures(degree=2)\n",
    "cubic = PolynomialFeatures(degree=3)"
   ]
  },
  {
   "cell_type": "code",
   "execution_count": 19,
   "metadata": {},
   "outputs": [],
   "source": [
    "X_train_quad = quadratic.fit_transform(X_train)\n",
    "X_train_cubic = cubic.fit_transform(X_train)\n",
    "X_test_quad = quadratic.fit_transform(X_test)\n",
    "X_test_cubic = cubic.fit_transform(X_test)"
   ]
  },
  {
   "cell_type": "code",
   "execution_count": 20,
   "metadata": {},
   "outputs": [],
   "source": [
    "# quadratic\n",
    "regr = regr.fit(X_train_quad, y_train)"
   ]
  },
  {
   "cell_type": "code",
   "execution_count": null,
   "metadata": {},
   "outputs": [],
   "source": [
    "evaluate(regr, X_test_quad, y_test)"
   ]
  },
  {
   "cell_type": "code",
   "execution_count": null,
   "metadata": {},
   "outputs": [],
   "source": [
    "y_pred = regr.predict(X_test_quad)\n",
    "np.sqrt(mean_squared_error(y_pred=y_pred, y_true=y_test.reshape(-1,1)))"
   ]
  },
  {
   "cell_type": "code",
   "execution_count": null,
   "metadata": {},
   "outputs": [],
   "source": [
    "mean_absolute_error(y_pred=y_pred, y_true=y_test.reshape(-1,1))"
   ]
  },
  {
   "cell_type": "code",
   "execution_count": null,
   "metadata": {},
   "outputs": [],
   "source": [
    "# cubic\n",
    "regr = regr.fit(X_train_cubic, y_train)"
   ]
  },
  {
   "cell_type": "code",
   "execution_count": null,
   "metadata": {},
   "outputs": [],
   "source": [
    "y_pred = regr.predict(X_test_cubic)\n",
    "np.sqrt(mean_squared_error(y_pred=y_pred, y_true=y_test.reshape(-1,1)))"
   ]
  },
  {
   "cell_type": "code",
   "execution_count": null,
   "metadata": {},
   "outputs": [],
   "source": [
    "mean_absolute_error(y_pred=y_pred, y_true=y_test.reshape(-1,1))"
   ]
  },
  {
   "cell_type": "code",
   "execution_count": 21,
   "metadata": {},
   "outputs": [
    {
     "name": "stdout",
     "output_type": "stream",
     "text": [
      "Model Validation\n",
      "MSE: 1.0543450280396718\n",
      "R^2: -0.027600666352811887\n"
     ]
    }
   ],
   "source": [
    "evaluate(slr, X_test, y_test)"
   ]
  },
  {
   "cell_type": "markdown",
   "metadata": {},
   "source": [
    "## performansi pada train set"
   ]
  },
  {
   "cell_type": "code",
   "execution_count": 9,
   "metadata": {},
   "outputs": [],
   "source": [
    "from sklearn.linear_model import LinearRegression"
   ]
  },
  {
   "cell_type": "code",
   "execution_count": 30,
   "metadata": {},
   "outputs": [],
   "source": [
    "product = genData('5a9347b98cbad97074cb1890', conn, c, impute=False, freq='daily')\n",
    "X_train, y_train, X_test, y_test, dftrain, scaler = splitDataNN(product, percent=0.2)"
   ]
  },
  {
   "cell_type": "code",
   "execution_count": 31,
   "metadata": {},
   "outputs": [
    {
     "data": {
      "text/plain": [
       "LinearRegression(copy_X=True, fit_intercept=True, n_jobs=1, normalize=False)"
      ]
     },
     "execution_count": 31,
     "metadata": {},
     "output_type": "execute_result"
    }
   ],
   "source": [
    "slr = LinearRegression()\n",
    "slr.fit(X_train, y_train)"
   ]
  },
  {
   "cell_type": "code",
   "execution_count": 32,
   "metadata": {},
   "outputs": [
    {
     "name": "stdout",
     "output_type": "stream",
     "text": [
      "Model Validation\n",
      "MSE: 0.5744981747895025\n",
      "R^2: 0.031684148889806196\n"
     ]
    }
   ],
   "source": [
    "evaluate(slr, X_train, y_train)"
   ]
  },
  {
   "cell_type": "code",
   "execution_count": 33,
   "metadata": {},
   "outputs": [],
   "source": [
    "y_pred = slr.predict(X_train)"
   ]
  },
  {
   "cell_type": "code",
   "execution_count": 34,
   "metadata": {},
   "outputs": [
    {
     "name": "stdout",
     "output_type": "stream",
     "text": [
      "Validasi RMSE: 0.26816\n",
      "Validasi MAE: 0.13051\n"
     ]
    }
   ],
   "source": [
    "evalForecast(slr, X_train, y_train, inverse=True, scaler=scaler)"
   ]
  },
  {
   "cell_type": "code",
   "execution_count": null,
   "metadata": {},
   "outputs": [],
   "source": []
  }
 ],
 "metadata": {
  "kernelspec": {
   "display_name": "Python 3",
   "language": "python",
   "name": "python3"
  },
  "language_info": {
   "codemirror_mode": {
    "name": "ipython",
    "version": 3
   },
   "file_extension": ".py",
   "mimetype": "text/x-python",
   "name": "python",
   "nbconvert_exporter": "python",
   "pygments_lexer": "ipython3",
   "version": "3.6.6"
  }
 },
 "nbformat": 4,
 "nbformat_minor": 2
}
