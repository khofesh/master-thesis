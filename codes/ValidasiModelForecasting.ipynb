{
 "cells": [
  {
   "cell_type": "code",
   "execution_count": 1,
   "metadata": {},
   "outputs": [
    {
     "name": "stderr",
     "output_type": "stream",
     "text": [
      "Using TensorFlow backend.\n"
     ]
    }
   ],
   "source": [
    "import tseriesRoutines as routines\n",
    "import matplotlib.pyplot as plt\n",
    "import numpy as np\n",
    "import pandas as pd\n",
    "import sqlite3\n",
    "from sklearn.preprocessing import StandardScaler, MinMaxScaler\n",
    "from sklearn.metrics import mean_squared_error, mean_absolute_error\n",
    "from math import ceil, sqrt\n",
    "from keras.models import Sequential\n",
    "from keras import layers\n",
    "from keras.optimizers import RMSprop\n",
    "from keras.models import load_model"
   ]
  },
  {
   "cell_type": "code",
   "execution_count": 2,
   "metadata": {},
   "outputs": [],
   "source": [
    "def forecastModelVal(mongoid, conn, cursor, folder, salescluster=None):\n",
    "    '''\n",
    "    '''\n",
    "    # clusters\n",
    "    listOfClusters = (1, 2, 3)\n",
    "    # list of old id-s\n",
    "    listOfId = ('5aa2ad7735d6d34b0032a795', '5aa39533ae1f941be7165ecd',\n",
    "               '5a93e8768cbad97881597597', '5a95d7ae35d6d33d3fea56ff',\n",
    "               '5aa2c35e35d6d34b0032a796', '5a92474635d6d32207bcd343')\n",
    "    # models' path\n",
    "    dictOfModels = {\n",
    "            # 1st special\n",
    "            'sp1': folder + 'forecast_nn_5aa2ad7735d6d34b0032a795_bigrumodel.h5',\n",
    "            'sp2': folder + 'forecast_nn_5aa39533ae1f941be7165ecd_flatmodel.h5',\n",
    "            # cluster 3\n",
    "            'c3': folder + 'forecast_nn_5a93e8768cbad97881597597_grudropmodel.h5',\n",
    "            'c3_2': folder + 'forecast_nn_5a95d7ae35d6d33d3fea56ff_grumodel.h5',\n",
    "            # cluster 1\n",
    "            'c1': folder + 'forecast_nn_5aa2c35e35d6d34b0032a796_bigrumodel.h5',\n",
    "            # cluster 2\n",
    "            'c2': folder + 'forecast_nn_5a92474635d6d32207bcd343_flatmodel.h5'\n",
    "            }\n",
    "\n",
    "#    if mongoid in listOfId:\n",
    "    if mongoid == '5aa2ad7735d6d34b0032a795' or '5b32126eb8a9f70142f6a766':\n",
    "        model = load_model(dictOfModels['sp1'])\n",
    "    elif mongoid == '5aa39533ae1f941be7165ecd' or '5b322e9cb8a9f70142f6a767': \n",
    "        model = load_model(dictOfModels['sp2'])\n",
    "    elif mongoid == '5a93e8768cbad97881597597' or '5b324265b8a9f70142f6a768': \n",
    "        model = load_model(dictOfModels['c3'])\n",
    "    elif mongoid == '5a95d7ae35d6d33d3fea56ff' or '5b32509bb8a9f70142f6a769': \n",
    "        model = load_model(dictOfModels['c3_2'])\n",
    "    elif mongoid == '5aa2c35e35d6d34b0032a796' or '5b3277a3b8a9f70142f6a76b': \n",
    "        model = load_model(dictOfModels['c1'])\n",
    "    elif mongoid == '5a92474635d6d32207bcd343' or '5b36082535d6d30034572c71': \n",
    "        model = load_model(dictOfModels['c2'])\n",
    "    else:\n",
    "        if salescluster in listOfClusters:\n",
    "            if salescluster == 1:\n",
    "                model = load_model(dictOfModels['c1'])\n",
    "            elif salescluster == 2:\n",
    "                model = load_model(dictOfModels['c2'])\n",
    "            elif salescluster == 3:\n",
    "                model = load_model(dictOfModels['c3'])\n",
    "        else:\n",
    "            print('Enter ID\\'s Sales Cluster')\n",
    "\n",
    "    return model"
   ]
  },
  {
   "cell_type": "code",
   "execution_count": 3,
   "metadata": {},
   "outputs": [],
   "source": [
    "def splitDataNN(df, n_in=1, n_out=1, scale=True):\n",
    "    '''\n",
    "    unlike routines.splitDataNN, this splitDataNN doesn't split data \n",
    "    into train and test set data\n",
    "    '''\n",
    "    dftrain = routines.series_to_supervised(df, n_in=n_in, n_out=n_out)\n",
    "    # specific to this case\n",
    "    dftrain = dftrain.drop(dftrain.columns[[4, 5]], axis=1)\n",
    "    values = dftrain.values\n",
    "\n",
    "    if scale:\n",
    "        scaler = MinMaxScaler()\n",
    "        values = scaler.fit_transform(values)\n",
    "    else:\n",
    "        pass\n",
    "\n",
    "    # training data\n",
    "    X, y = values[:, :-1], values[:, -1]\n",
    "    X = X.reshape((X.shape[0], 1, X.shape[1]))\n",
    "    return X, y, dftrain, scaler"
   ]
  },
  {
   "cell_type": "code",
   "execution_count": 4,
   "metadata": {},
   "outputs": [],
   "source": [
    "# make connection to sqlite db\n",
    "conn = sqlite3.connect('validasi.db')\n",
    "c = conn.cursor()\n",
    "\n",
    "# enable foreign keys\n",
    "c.execute(\"PRAGMA foreign_keys = ON\")\n",
    "conn.commit()\n",
    "\n",
    "# Folder contains saved models\n",
    "folder = './training/'\n",
    "# IDs to validate models\n",
    "listOfId = ('5aa2ad7735d6d34b0032a795', '5aa39533ae1f941be7165ecd',\n",
    "           '5a93e8768cbad97881597597', '5a95d7ae35d6d33d3fea56ff',\n",
    "           '5aa2c35e35d6d34b0032a796', '5a92474635d6d32207bcd343')"
   ]
  },
  {
   "cell_type": "code",
   "execution_count": 32,
   "metadata": {},
   "outputs": [],
   "source": [
    "product = routines.genDataVal('5aa2ad7735d6d34b0032a795', conn, c, impute=False, freq='daily')\n",
    "X, y, dftrain, scaler = splitDataNN(product)"
   ]
  },
  {
   "cell_type": "code",
   "execution_count": 33,
   "metadata": {},
   "outputs": [],
   "source": [
    "# load model\n",
    "model = forecastModelVal('5aa2ad7735d6d34b0032a795', conn, c, folder=folder, salescluster=None)\n"
   ]
  },
  {
   "cell_type": "code",
   "execution_count": 35,
   "metadata": {},
   "outputs": [],
   "source": [
    "# make prediction\n",
    "ypred = model.predict(X)"
   ]
  },
  {
   "cell_type": "code",
   "execution_count": 36,
   "metadata": {},
   "outputs": [
    {
     "data": {
      "text/plain": [
       "(116, 1)"
      ]
     },
     "execution_count": 36,
     "metadata": {},
     "output_type": "execute_result"
    }
   ],
   "source": [
    "ypred.shape"
   ]
  },
  {
   "cell_type": "code",
   "execution_count": 37,
   "metadata": {},
   "outputs": [],
   "source": [
    "    # reshape X\n",
    "    X = X.reshape((X.shape[0], X.shape[2]))\n"
   ]
  },
  {
   "cell_type": "code",
   "execution_count": 38,
   "metadata": {},
   "outputs": [
    {
     "data": {
      "text/plain": [
       "(116, 3)"
      ]
     },
     "execution_count": 38,
     "metadata": {},
     "output_type": "execute_result"
    }
   ],
   "source": [
    "X.shape"
   ]
  },
  {
   "cell_type": "code",
   "execution_count": 39,
   "metadata": {},
   "outputs": [
    {
     "data": {
      "text/plain": [
       "array([[0.42857143, 1.        , 0.83333333],\n",
       "       [0.42857143, 1.        , 1.        ],\n",
       "       [0.        , 0.        , 0.5       ],\n",
       "       [0.71428571, 0.96      , 0.9       ],\n",
       "       [0.14285714, 1.        , 1.        ],\n",
       "       [0.85714286, 0.96666667, 0.91666667],\n",
       "       [0.28571429, 0.9       , 1.        ],\n",
       "       [0.14285714, 1.        , 1.        ],\n",
       "       [0.42857143, 1.        , 0.83333333],\n",
       "       [0.42857143, 1.        , 0.66666667],\n",
       "       [0.42857143, 1.        , 0.66666667],\n",
       "       [0.42857143, 1.        , 1.        ],\n",
       "       [0.42857143, 0.93333333, 0.83333333],\n",
       "       [0.42857143, 1.        , 1.        ],\n",
       "       [0.42857143, 1.        , 0.83333333],\n",
       "       [0.42857143, 1.        , 1.        ],\n",
       "       [0.        , 0.        , 0.5       ],\n",
       "       [0.42857143, 1.        , 1.        ],\n",
       "       [0.85714286, 0.96666667, 0.91666667],\n",
       "       [0.        , 0.        , 0.5       ],\n",
       "       [0.42857143, 0.93333333, 1.        ],\n",
       "       [0.42857143, 1.        , 0.83333333],\n",
       "       [0.42857143, 1.        , 1.        ],\n",
       "       [0.42857143, 0.93333333, 1.        ],\n",
       "       [0.57142857, 1.        , 1.        ],\n",
       "       [0.71428571, 1.        , 0.9       ],\n",
       "       [0.85714286, 1.        , 0.83333333],\n",
       "       [0.42857143, 1.        , 0.83333333],\n",
       "       [0.42857143, 0.73333333, 0.66666667],\n",
       "       [0.42857143, 1.        , 0.83333333],\n",
       "       [0.        , 0.        , 0.5       ],\n",
       "       [0.42857143, 1.        , 0.83333333],\n",
       "       [0.42857143, 1.        , 0.83333333],\n",
       "       [0.85714286, 0.96666667, 1.        ],\n",
       "       [0.42857143, 1.        , 0.83333333],\n",
       "       [0.42857143, 1.        , 0.83333333],\n",
       "       [0.42857143, 1.        , 1.        ],\n",
       "       [0.42857143, 1.        , 0.66666667],\n",
       "       [0.71428571, 1.        , 1.        ],\n",
       "       [0.28571429, 1.        , 1.        ],\n",
       "       [0.71428571, 1.        , 1.        ],\n",
       "       [0.42857143, 0.86666667, 1.        ],\n",
       "       [0.85714286, 0.83333333, 0.83333333],\n",
       "       [0.        , 0.        , 0.5       ],\n",
       "       [0.42857143, 1.        , 1.        ],\n",
       "       [0.14285714, 1.        , 1.        ],\n",
       "       [0.28571429, 0.9       , 1.        ],\n",
       "       [0.71428571, 1.        , 0.9       ],\n",
       "       [0.28571429, 1.        , 1.        ],\n",
       "       [0.71428571, 0.88      , 1.        ],\n",
       "       [0.57142857, 0.95      , 0.625     ],\n",
       "       [0.28571429, 1.        , 0.75      ],\n",
       "       [0.42857143, 0.93333333, 1.        ],\n",
       "       [0.42857143, 1.        , 1.        ],\n",
       "       [0.71428571, 1.        , 0.9       ],\n",
       "       [0.57142857, 1.        , 0.875     ],\n",
       "       [0.42857143, 0.86666667, 0.83333333],\n",
       "       [0.42857143, 1.        , 1.        ],\n",
       "       [0.42857143, 1.        , 1.        ],\n",
       "       [0.42857143, 1.        , 1.        ],\n",
       "       [0.        , 0.        , 0.5       ],\n",
       "       [0.85714286, 0.93333333, 1.        ],\n",
       "       [0.42857143, 1.        , 1.        ],\n",
       "       [0.42857143, 0.93333333, 1.        ],\n",
       "       [0.42857143, 0.93333333, 0.5       ],\n",
       "       [0.42857143, 1.        , 1.        ],\n",
       "       [0.28571429, 1.        , 1.        ],\n",
       "       [0.14285714, 1.        , 1.        ],\n",
       "       [0.42857143, 1.        , 1.        ],\n",
       "       [0.28571429, 1.        , 0.75      ],\n",
       "       [0.14285714, 0.4       , 0.        ],\n",
       "       [0.42857143, 1.        , 0.83333333],\n",
       "       [0.28571429, 0.9       , 0.75      ],\n",
       "       [0.14285714, 1.        , 0.5       ],\n",
       "       [0.14285714, 1.        , 0.5       ],\n",
       "       [0.71428571, 1.        , 0.9       ],\n",
       "       [0.        , 0.        , 0.5       ],\n",
       "       [0.42857143, 0.93333333, 0.83333333],\n",
       "       [0.14285714, 1.        , 1.        ],\n",
       "       [0.14285714, 1.        , 1.        ],\n",
       "       [0.14285714, 1.        , 1.        ],\n",
       "       [0.42857143, 0.93333333, 0.83333333],\n",
       "       [0.        , 0.        , 0.5       ],\n",
       "       [0.14285714, 1.        , 0.5       ],\n",
       "       [0.28571429, 1.        , 1.        ],\n",
       "       [0.42857143, 0.93333333, 1.        ],\n",
       "       [0.        , 0.        , 0.5       ],\n",
       "       [0.14285714, 1.        , 1.        ],\n",
       "       [0.28571429, 1.        , 0.75      ],\n",
       "       [0.42857143, 1.        , 0.66666667],\n",
       "       [0.28571429, 0.9       , 0.75      ],\n",
       "       [0.28571429, 1.        , 0.5       ],\n",
       "       [0.42857143, 1.        , 1.        ],\n",
       "       [0.        , 0.        , 0.5       ],\n",
       "       [0.42857143, 1.        , 0.66666667],\n",
       "       [0.42857143, 1.        , 0.66666667],\n",
       "       [0.        , 0.        , 0.5       ],\n",
       "       [1.        , 1.        , 1.        ],\n",
       "       [1.        , 0.97142857, 0.64285714],\n",
       "       [0.71428571, 1.        , 0.8       ],\n",
       "       [0.14285714, 0.8       , 1.        ],\n",
       "       [0.42857143, 1.        , 1.        ],\n",
       "       [0.28571429, 0.7       , 0.5       ],\n",
       "       [0.28571429, 1.        , 1.        ],\n",
       "       [0.14285714, 1.        , 1.        ],\n",
       "       [0.        , 0.        , 0.5       ],\n",
       "       [0.        , 0.        , 0.5       ],\n",
       "       [0.        , 0.        , 0.5       ],\n",
       "       [0.        , 0.        , 0.5       ],\n",
       "       [0.28571429, 1.        , 0.75      ],\n",
       "       [0.28571429, 1.        , 1.        ],\n",
       "       [0.42857143, 0.93333333, 0.83333333],\n",
       "       [0.        , 0.        , 0.5       ],\n",
       "       [0.14285714, 1.        , 0.5       ],\n",
       "       [0.28571429, 0.9       , 0.5       ],\n",
       "       [0.42857143, 1.        , 0.83333333]])"
      ]
     },
     "execution_count": 39,
     "metadata": {},
     "output_type": "execute_result"
    }
   ],
   "source": [
    "X"
   ]
  },
  {
   "cell_type": "code",
   "execution_count": 40,
   "metadata": {},
   "outputs": [],
   "source": [
    "#invert scaling for forecast\n",
    "inv_ypred = np.concatenate((X[:, :], ypred), axis=1)"
   ]
  },
  {
   "cell_type": "code",
   "execution_count": 41,
   "metadata": {},
   "outputs": [
    {
     "data": {
      "text/plain": [
       "(116, 4)"
      ]
     },
     "execution_count": 41,
     "metadata": {},
     "output_type": "execute_result"
    }
   ],
   "source": [
    "inv_ypred.shape"
   ]
  },
  {
   "cell_type": "code",
   "execution_count": 42,
   "metadata": {},
   "outputs": [
    {
     "data": {
      "text/plain": [
       "array([0.42857143, 1.        , 0.83333333, 0.24428488])"
      ]
     },
     "execution_count": 42,
     "metadata": {},
     "output_type": "execute_result"
    }
   ],
   "source": [
    "inv_ypred[0]"
   ]
  },
  {
   "cell_type": "code",
   "execution_count": 43,
   "metadata": {},
   "outputs": [
    {
     "data": {
      "text/plain": [
       "(116, 4)"
      ]
     },
     "execution_count": 43,
     "metadata": {},
     "output_type": "execute_result"
    }
   ],
   "source": [
    "dftrain.shape"
   ]
  },
  {
   "cell_type": "code",
   "execution_count": 44,
   "metadata": {},
   "outputs": [
    {
     "data": {
      "text/html": [
       "<div>\n",
       "<style scoped>\n",
       "    .dataframe tbody tr th:only-of-type {\n",
       "        vertical-align: middle;\n",
       "    }\n",
       "\n",
       "    .dataframe tbody tr th {\n",
       "        vertical-align: top;\n",
       "    }\n",
       "\n",
       "    .dataframe thead th {\n",
       "        text-align: right;\n",
       "    }\n",
       "</style>\n",
       "<table border=\"1\" class=\"dataframe\">\n",
       "  <thead>\n",
       "    <tr style=\"text-align: right;\">\n",
       "      <th></th>\n",
       "      <th>var1(t-1)</th>\n",
       "      <th>var2(t-1)</th>\n",
       "      <th>var3(t-1)</th>\n",
       "      <th>var1(t)</th>\n",
       "    </tr>\n",
       "    <tr>\n",
       "      <th>date</th>\n",
       "      <th></th>\n",
       "      <th></th>\n",
       "      <th></th>\n",
       "      <th></th>\n",
       "    </tr>\n",
       "  </thead>\n",
       "  <tbody>\n",
       "    <tr>\n",
       "      <th>2018-03-03</th>\n",
       "      <td>3.0</td>\n",
       "      <td>5.0</td>\n",
       "      <td>0.666667</td>\n",
       "      <td>3</td>\n",
       "    </tr>\n",
       "    <tr>\n",
       "      <th>2018-03-04</th>\n",
       "      <td>3.0</td>\n",
       "      <td>5.0</td>\n",
       "      <td>1.000000</td>\n",
       "      <td>0</td>\n",
       "    </tr>\n",
       "    <tr>\n",
       "      <th>2018-03-05</th>\n",
       "      <td>0.0</td>\n",
       "      <td>0.0</td>\n",
       "      <td>0.000000</td>\n",
       "      <td>5</td>\n",
       "    </tr>\n",
       "    <tr>\n",
       "      <th>2018-03-06</th>\n",
       "      <td>5.0</td>\n",
       "      <td>4.8</td>\n",
       "      <td>0.800000</td>\n",
       "      <td>1</td>\n",
       "    </tr>\n",
       "    <tr>\n",
       "      <th>2018-03-07</th>\n",
       "      <td>1.0</td>\n",
       "      <td>5.0</td>\n",
       "      <td>1.000000</td>\n",
       "      <td>6</td>\n",
       "    </tr>\n",
       "  </tbody>\n",
       "</table>\n",
       "</div>"
      ],
      "text/plain": [
       "            var1(t-1)  var2(t-1)  var3(t-1)  var1(t)\n",
       "date                                                \n",
       "2018-03-03        3.0        5.0   0.666667        3\n",
       "2018-03-04        3.0        5.0   1.000000        0\n",
       "2018-03-05        0.0        0.0   0.000000        5\n",
       "2018-03-06        5.0        4.8   0.800000        1\n",
       "2018-03-07        1.0        5.0   1.000000        6"
      ]
     },
     "execution_count": 44,
     "metadata": {},
     "output_type": "execute_result"
    }
   ],
   "source": [
    "dftrain.head()"
   ]
  },
  {
   "cell_type": "code",
   "execution_count": 45,
   "metadata": {},
   "outputs": [],
   "source": [
    "inv_ypred = scaler.inverse_transform(inv_ypred)"
   ]
  },
  {
   "cell_type": "code",
   "execution_count": 46,
   "metadata": {},
   "outputs": [],
   "source": [
    "inv_ypred = inv_ypred[:, -1]"
   ]
  },
  {
   "cell_type": "code",
   "execution_count": 47,
   "metadata": {},
   "outputs": [],
   "source": [
    "inv_ypred = np.ceil(inv_ypred)"
   ]
  },
  {
   "cell_type": "code",
   "execution_count": 48,
   "metadata": {},
   "outputs": [],
   "source": [
    "y = y.reshape((len(y), 1))"
   ]
  },
  {
   "cell_type": "code",
   "execution_count": 49,
   "metadata": {},
   "outputs": [
    {
     "data": {
      "text/plain": [
       "array([[0.42857143],\n",
       "       [0.        ],\n",
       "       [0.71428571],\n",
       "       [0.14285714],\n",
       "       [0.85714286],\n",
       "       [0.28571429],\n",
       "       [0.14285714],\n",
       "       [0.42857143],\n",
       "       [0.42857143],\n",
       "       [0.42857143],\n",
       "       [0.42857143],\n",
       "       [0.42857143],\n",
       "       [0.42857143],\n",
       "       [0.42857143],\n",
       "       [0.42857143],\n",
       "       [0.        ],\n",
       "       [0.42857143],\n",
       "       [0.85714286],\n",
       "       [0.        ],\n",
       "       [0.42857143],\n",
       "       [0.42857143],\n",
       "       [0.42857143],\n",
       "       [0.42857143],\n",
       "       [0.57142857],\n",
       "       [0.71428571],\n",
       "       [0.85714286],\n",
       "       [0.42857143],\n",
       "       [0.42857143],\n",
       "       [0.42857143],\n",
       "       [0.        ],\n",
       "       [0.42857143],\n",
       "       [0.42857143],\n",
       "       [0.85714286],\n",
       "       [0.42857143],\n",
       "       [0.42857143],\n",
       "       [0.42857143],\n",
       "       [0.42857143],\n",
       "       [0.71428571],\n",
       "       [0.28571429],\n",
       "       [0.71428571],\n",
       "       [0.42857143],\n",
       "       [0.85714286],\n",
       "       [0.        ],\n",
       "       [0.42857143],\n",
       "       [0.14285714],\n",
       "       [0.28571429],\n",
       "       [0.71428571],\n",
       "       [0.28571429],\n",
       "       [0.71428571],\n",
       "       [0.57142857],\n",
       "       [0.28571429],\n",
       "       [0.42857143],\n",
       "       [0.42857143],\n",
       "       [0.71428571],\n",
       "       [0.57142857],\n",
       "       [0.42857143],\n",
       "       [0.42857143],\n",
       "       [0.42857143],\n",
       "       [0.42857143],\n",
       "       [0.        ],\n",
       "       [0.85714286],\n",
       "       [0.42857143],\n",
       "       [0.42857143],\n",
       "       [0.42857143],\n",
       "       [0.42857143],\n",
       "       [0.28571429],\n",
       "       [0.14285714],\n",
       "       [0.42857143],\n",
       "       [0.28571429],\n",
       "       [0.14285714],\n",
       "       [0.42857143],\n",
       "       [0.28571429],\n",
       "       [0.14285714],\n",
       "       [0.14285714],\n",
       "       [0.71428571],\n",
       "       [0.        ],\n",
       "       [0.42857143],\n",
       "       [0.14285714],\n",
       "       [0.14285714],\n",
       "       [0.14285714],\n",
       "       [0.42857143],\n",
       "       [0.        ],\n",
       "       [0.14285714],\n",
       "       [0.28571429],\n",
       "       [0.42857143],\n",
       "       [0.        ],\n",
       "       [0.14285714],\n",
       "       [0.28571429],\n",
       "       [0.42857143],\n",
       "       [0.28571429],\n",
       "       [0.28571429],\n",
       "       [0.42857143],\n",
       "       [0.        ],\n",
       "       [0.42857143],\n",
       "       [0.42857143],\n",
       "       [0.        ],\n",
       "       [1.        ],\n",
       "       [1.        ],\n",
       "       [0.71428571],\n",
       "       [0.14285714],\n",
       "       [0.42857143],\n",
       "       [0.28571429],\n",
       "       [0.28571429],\n",
       "       [0.14285714],\n",
       "       [0.        ],\n",
       "       [0.        ],\n",
       "       [0.        ],\n",
       "       [0.        ],\n",
       "       [0.28571429],\n",
       "       [0.28571429],\n",
       "       [0.42857143],\n",
       "       [0.        ],\n",
       "       [0.14285714],\n",
       "       [0.28571429],\n",
       "       [0.42857143],\n",
       "       [0.14285714]])"
      ]
     },
     "execution_count": 49,
     "metadata": {},
     "output_type": "execute_result"
    }
   ],
   "source": [
    "y"
   ]
  },
  {
   "cell_type": "code",
   "execution_count": 50,
   "metadata": {},
   "outputs": [
    {
     "data": {
      "text/plain": [
       "(116, 1)"
      ]
     },
     "execution_count": 50,
     "metadata": {},
     "output_type": "execute_result"
    }
   ],
   "source": [
    "y.shape"
   ]
  },
  {
   "cell_type": "code",
   "execution_count": 51,
   "metadata": {},
   "outputs": [
    {
     "data": {
      "text/plain": [
       "(116, 3)"
      ]
     },
     "execution_count": 51,
     "metadata": {},
     "output_type": "execute_result"
    }
   ],
   "source": [
    "X.shape"
   ]
  },
  {
   "cell_type": "code",
   "execution_count": 52,
   "metadata": {},
   "outputs": [],
   "source": [
    "inv_y = np.concatenate((X[:, :], y), axis=1)"
   ]
  },
  {
   "cell_type": "code",
   "execution_count": 53,
   "metadata": {},
   "outputs": [],
   "source": [
    "inv_y = scaler.inverse_transform(inv_y)"
   ]
  },
  {
   "cell_type": "code",
   "execution_count": 54,
   "metadata": {},
   "outputs": [
    {
     "data": {
      "text/plain": [
       "array([[ 3.        ,  5.        ,  0.66666667,  3.        ],\n",
       "       [ 3.        ,  5.        ,  1.        ,  0.        ],\n",
       "       [ 0.        ,  0.        ,  0.        ,  5.        ],\n",
       "       [ 5.        ,  4.8       ,  0.8       ,  1.        ],\n",
       "       [ 1.        ,  5.        ,  1.        ,  6.        ],\n",
       "       [ 6.        ,  4.83333333,  0.83333333,  2.        ],\n",
       "       [ 2.        ,  4.5       ,  1.        ,  1.        ],\n",
       "       [ 1.        ,  5.        ,  1.        ,  3.        ],\n",
       "       [ 3.        ,  5.        ,  0.66666667,  3.        ],\n",
       "       [ 3.        ,  5.        ,  0.33333333,  3.        ],\n",
       "       [ 3.        ,  5.        ,  0.33333333,  3.        ],\n",
       "       [ 3.        ,  5.        ,  1.        ,  3.        ],\n",
       "       [ 3.        ,  4.66666667,  0.66666667,  3.        ],\n",
       "       [ 3.        ,  5.        ,  1.        ,  3.        ],\n",
       "       [ 3.        ,  5.        ,  0.66666667,  3.        ],\n",
       "       [ 3.        ,  5.        ,  1.        ,  0.        ],\n",
       "       [ 0.        ,  0.        ,  0.        ,  3.        ],\n",
       "       [ 3.        ,  5.        ,  1.        ,  6.        ],\n",
       "       [ 6.        ,  4.83333333,  0.83333333,  0.        ],\n",
       "       [ 0.        ,  0.        ,  0.        ,  3.        ],\n",
       "       [ 3.        ,  4.66666667,  1.        ,  3.        ],\n",
       "       [ 3.        ,  5.        ,  0.66666667,  3.        ],\n",
       "       [ 3.        ,  5.        ,  1.        ,  3.        ],\n",
       "       [ 3.        ,  4.66666667,  1.        ,  4.        ],\n",
       "       [ 4.        ,  5.        ,  1.        ,  5.        ],\n",
       "       [ 5.        ,  5.        ,  0.8       ,  6.        ],\n",
       "       [ 6.        ,  5.        ,  0.66666667,  3.        ],\n",
       "       [ 3.        ,  5.        ,  0.66666667,  3.        ],\n",
       "       [ 3.        ,  3.66666667,  0.33333333,  3.        ],\n",
       "       [ 3.        ,  5.        ,  0.66666667,  0.        ],\n",
       "       [ 0.        ,  0.        ,  0.        ,  3.        ],\n",
       "       [ 3.        ,  5.        ,  0.66666667,  3.        ],\n",
       "       [ 3.        ,  5.        ,  0.66666667,  6.        ],\n",
       "       [ 6.        ,  4.83333333,  1.        ,  3.        ],\n",
       "       [ 3.        ,  5.        ,  0.66666667,  3.        ],\n",
       "       [ 3.        ,  5.        ,  0.66666667,  3.        ],\n",
       "       [ 3.        ,  5.        ,  1.        ,  3.        ],\n",
       "       [ 3.        ,  5.        ,  0.33333333,  5.        ],\n",
       "       [ 5.        ,  5.        ,  1.        ,  2.        ],\n",
       "       [ 2.        ,  5.        ,  1.        ,  5.        ],\n",
       "       [ 5.        ,  5.        ,  1.        ,  3.        ],\n",
       "       [ 3.        ,  4.33333333,  1.        ,  6.        ],\n",
       "       [ 6.        ,  4.16666667,  0.66666667,  0.        ],\n",
       "       [ 0.        ,  0.        ,  0.        ,  3.        ],\n",
       "       [ 3.        ,  5.        ,  1.        ,  1.        ],\n",
       "       [ 1.        ,  5.        ,  1.        ,  2.        ],\n",
       "       [ 2.        ,  4.5       ,  1.        ,  5.        ],\n",
       "       [ 5.        ,  5.        ,  0.8       ,  2.        ],\n",
       "       [ 2.        ,  5.        ,  1.        ,  5.        ],\n",
       "       [ 5.        ,  4.4       ,  1.        ,  4.        ],\n",
       "       [ 4.        ,  4.75      ,  0.25      ,  2.        ],\n",
       "       [ 2.        ,  5.        ,  0.5       ,  3.        ],\n",
       "       [ 3.        ,  4.66666667,  1.        ,  3.        ],\n",
       "       [ 3.        ,  5.        ,  1.        ,  5.        ],\n",
       "       [ 5.        ,  5.        ,  0.8       ,  4.        ],\n",
       "       [ 4.        ,  5.        ,  0.75      ,  3.        ],\n",
       "       [ 3.        ,  4.33333333,  0.66666667,  3.        ],\n",
       "       [ 3.        ,  5.        ,  1.        ,  3.        ],\n",
       "       [ 3.        ,  5.        ,  1.        ,  3.        ],\n",
       "       [ 3.        ,  5.        ,  1.        ,  0.        ],\n",
       "       [ 0.        ,  0.        ,  0.        ,  6.        ],\n",
       "       [ 6.        ,  4.66666667,  1.        ,  3.        ],\n",
       "       [ 3.        ,  5.        ,  1.        ,  3.        ],\n",
       "       [ 3.        ,  4.66666667,  1.        ,  3.        ],\n",
       "       [ 3.        ,  4.66666667,  0.        ,  3.        ],\n",
       "       [ 3.        ,  5.        ,  1.        ,  2.        ],\n",
       "       [ 2.        ,  5.        ,  1.        ,  1.        ],\n",
       "       [ 1.        ,  5.        ,  1.        ,  3.        ],\n",
       "       [ 3.        ,  5.        ,  1.        ,  2.        ],\n",
       "       [ 2.        ,  5.        ,  0.5       ,  1.        ],\n",
       "       [ 1.        ,  2.        , -1.        ,  3.        ],\n",
       "       [ 3.        ,  5.        ,  0.66666667,  2.        ],\n",
       "       [ 2.        ,  4.5       ,  0.5       ,  1.        ],\n",
       "       [ 1.        ,  5.        ,  0.        ,  1.        ],\n",
       "       [ 1.        ,  5.        ,  0.        ,  5.        ],\n",
       "       [ 5.        ,  5.        ,  0.8       ,  0.        ],\n",
       "       [ 0.        ,  0.        ,  0.        ,  3.        ],\n",
       "       [ 3.        ,  4.66666667,  0.66666667,  1.        ],\n",
       "       [ 1.        ,  5.        ,  1.        ,  1.        ],\n",
       "       [ 1.        ,  5.        ,  1.        ,  1.        ],\n",
       "       [ 1.        ,  5.        ,  1.        ,  3.        ],\n",
       "       [ 3.        ,  4.66666667,  0.66666667,  0.        ],\n",
       "       [ 0.        ,  0.        ,  0.        ,  1.        ],\n",
       "       [ 1.        ,  5.        ,  0.        ,  2.        ],\n",
       "       [ 2.        ,  5.        ,  1.        ,  3.        ],\n",
       "       [ 3.        ,  4.66666667,  1.        ,  0.        ],\n",
       "       [ 0.        ,  0.        ,  0.        ,  1.        ],\n",
       "       [ 1.        ,  5.        ,  1.        ,  2.        ],\n",
       "       [ 2.        ,  5.        ,  0.5       ,  3.        ],\n",
       "       [ 3.        ,  5.        ,  0.33333333,  2.        ],\n",
       "       [ 2.        ,  4.5       ,  0.5       ,  2.        ],\n",
       "       [ 2.        ,  5.        ,  0.        ,  3.        ],\n",
       "       [ 3.        ,  5.        ,  1.        ,  0.        ],\n",
       "       [ 0.        ,  0.        ,  0.        ,  3.        ],\n",
       "       [ 3.        ,  5.        ,  0.33333333,  3.        ],\n",
       "       [ 3.        ,  5.        ,  0.33333333,  0.        ],\n",
       "       [ 0.        ,  0.        ,  0.        ,  7.        ],\n",
       "       [ 7.        ,  5.        ,  1.        ,  7.        ],\n",
       "       [ 7.        ,  4.85714286,  0.28571429,  5.        ],\n",
       "       [ 5.        ,  5.        ,  0.6       ,  1.        ],\n",
       "       [ 1.        ,  4.        ,  1.        ,  3.        ],\n",
       "       [ 3.        ,  5.        ,  1.        ,  2.        ],\n",
       "       [ 2.        ,  3.5       ,  0.        ,  2.        ],\n",
       "       [ 2.        ,  5.        ,  1.        ,  1.        ],\n",
       "       [ 1.        ,  5.        ,  1.        ,  0.        ],\n",
       "       [ 0.        ,  0.        ,  0.        ,  0.        ],\n",
       "       [ 0.        ,  0.        ,  0.        ,  0.        ],\n",
       "       [ 0.        ,  0.        ,  0.        ,  0.        ],\n",
       "       [ 0.        ,  0.        ,  0.        ,  2.        ],\n",
       "       [ 2.        ,  5.        ,  0.5       ,  2.        ],\n",
       "       [ 2.        ,  5.        ,  1.        ,  3.        ],\n",
       "       [ 3.        ,  4.66666667,  0.66666667,  0.        ],\n",
       "       [ 0.        ,  0.        ,  0.        ,  1.        ],\n",
       "       [ 1.        ,  5.        ,  0.        ,  2.        ],\n",
       "       [ 2.        ,  4.5       ,  0.        ,  3.        ],\n",
       "       [ 3.        ,  5.        ,  0.66666667,  1.        ]])"
      ]
     },
     "execution_count": 54,
     "metadata": {},
     "output_type": "execute_result"
    }
   ],
   "source": [
    "inv_y"
   ]
  },
  {
   "cell_type": "code",
   "execution_count": 55,
   "metadata": {},
   "outputs": [],
   "source": [
    "inv_y = inv_y[:, -1]"
   ]
  },
  {
   "cell_type": "code",
   "execution_count": 56,
   "metadata": {},
   "outputs": [
    {
     "data": {
      "text/plain": [
       "1.7419766814227708"
      ]
     },
     "execution_count": 56,
     "metadata": {},
     "output_type": "execute_result"
    }
   ],
   "source": [
    "np.sqrt(mean_squared_error(y_pred=inv_ypred, y_true=inv_y))"
   ]
  },
  {
   "cell_type": "code",
   "execution_count": 57,
   "metadata": {},
   "outputs": [
    {
     "data": {
      "text/plain": [
       "1.3793103448275863"
      ]
     },
     "execution_count": 57,
     "metadata": {},
     "output_type": "execute_result"
    }
   ],
   "source": [
    "mean_absolute_error(y_pred=inv_ypred, y_true=inv_y)"
   ]
  },
  {
   "cell_type": "code",
   "execution_count": 58,
   "metadata": {},
   "outputs": [],
   "source": [
    "listOfId2 = ('5b32126eb8a9f70142f6a766', '5b322e9cb8a9f70142f6a767',\n",
    "        '5b324265b8a9f70142f6a768', '5b32509bb8a9f70142f6a769',\n",
    "        '5b3277a3b8a9f70142f6a76b', '5b36082535d6d30034572c71')"
   ]
  },
  {
   "cell_type": "code",
   "execution_count": 59,
   "metadata": {},
   "outputs": [
    {
     "name": "stdout",
     "output_type": "stream",
     "text": [
      "MongoDB ID: 5b32126eb8a9f70142f6a766\n",
      "Validasi RMSE: 1.91848\n",
      "Validasi MAE: 1.54137\n",
      "MongoDB ID: 5b322e9cb8a9f70142f6a767\n",
      "Validasi RMSE: 1.11741\n",
      "Validasi MAE: 0.97843\n",
      "MongoDB ID: 5b324265b8a9f70142f6a768\n",
      "Validasi RMSE: 3.60600\n",
      "Validasi MAE: 3.18236\n",
      "MongoDB ID: 5b32509bb8a9f70142f6a769\n",
      "Validasi RMSE: 1.39227\n",
      "Validasi MAE: 1.20846\n",
      "MongoDB ID: 5b3277a3b8a9f70142f6a76b\n",
      "Validasi RMSE: 5.57222\n",
      "Validasi MAE: 5.01857\n",
      "MongoDB ID: 5b36082535d6d30034572c71\n",
      "Validasi RMSE: 0.49319\n",
      "Validasi MAE: 0.45304\n"
     ]
    }
   ],
   "source": [
    "for i in listOfId2:\n",
    "    # Generate dataframe and X & y\n",
    "    product = routines.genDataVal(i, conn, c, impute=False, freq='daily')\n",
    "    X, y, dftrain, scaler = splitDataNN(product)\n",
    "\n",
    "    # load model\n",
    "    model = forecastModelVal(i, conn, c, folder=folder, salescluster=None)\n",
    "    # make prediction\n",
    "    ypred = model.predict(X)\n",
    "    # reshape X\n",
    "    X = X.reshape((X.shape[0], X.shape[2]))\n",
    "    #invert scaling for forecast\n",
    "    inv_ypred = np.concatenate((X[:, :], ypred), axis=1)\n",
    "    inv_ypred = scaler.inverse_transform(inv_ypred)\n",
    "    inv_ypred = inv_ypred[:, -1]\n",
    "    # invert scaling for actual\n",
    "    y = y.reshape((len(y), 1))\n",
    "    inv_y = np.concatenate((X[:, :], y), axis=1)\n",
    "    inv_y = scaler.inverse_transform(inv_y)\n",
    "    inv_y = inv_y[:, -1]\n",
    "\n",
    "    # RMSE\n",
    "    rmse = np.sqrt(mean_squared_error(y_pred=inv_ypred, y_true=inv_y))\n",
    "    # MAE\n",
    "    mae = mean_absolute_error(y_pred=inv_ypred, y_true=inv_y)\n",
    "\n",
    "    print('MongoDB ID: {0}'.format(i))\n",
    "    print('Validasi RMSE: {0:.5f}'.format(rmse))\n",
    "    print('Validasi MAE: {0:.5f}'.format(mae))"
   ]
  },
  {
   "cell_type": "code",
   "execution_count": null,
   "metadata": {},
   "outputs": [],
   "source": []
  }
 ],
 "metadata": {
  "kernelspec": {
   "display_name": "Python 3",
   "language": "python",
   "name": "python3"
  },
  "language_info": {
   "codemirror_mode": {
    "name": "ipython",
    "version": 3
   },
   "file_extension": ".py",
   "mimetype": "text/x-python",
   "name": "python",
   "nbconvert_exporter": "python",
   "pygments_lexer": "ipython3",
   "version": "3.6.5"
  }
 },
 "nbformat": 4,
 "nbformat_minor": 2
}
