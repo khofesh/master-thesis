{
 "cells": [
  {
   "cell_type": "code",
   "execution_count": 1,
   "metadata": {},
   "outputs": [],
   "source": [
    "import pandas as pd\n",
    "import numpy as np\n",
    "import sqlite3\n",
    "import matplotlib as mpl\n",
    "import matplotlib.pyplot as plt\n",
    "# import validasiVariable.py\n",
    "import validasiVariable as valVar\n",
    "from sklearn.metrics import mean_squared_error, r2_score\n",
    "from sklearn.preprocessing import LabelEncoder, OneHotEncoder\n",
    "from sklearn.preprocessing import StandardScaler\n",
    "from sklearn.model_selection import train_test_split\n",
    "from sklearn.ensemble import RandomForestRegressor\n",
    "from sklearn.model_selection import GridSearchCV\n",
    "from sklearn.model_selection import cross_val_score\n",
    "from sklearn.externals import joblib"
   ]
  },
  {
   "cell_type": "code",
   "execution_count": 48,
   "metadata": {},
   "outputs": [],
   "source": [
    "#Adj R square\n",
    "def adj_r2_score(model,X_test, y_test,):\n",
    "    y_pred = model.predict(X_test)\n",
    "    # model.coefs_ doesn't exist\n",
    "    adj = 1 - float(len(y_test)-1)/(len(y_test)-model.n_features_-1) * \\\n",
    "            (1 - r2_score(y_test,y_pred))\n",
    "    return adj\n",
    "\n",
    "# Evalute random search\n",
    "def evaluate(model, X_test, y_test):\n",
    "    y_pred = model.predict(X_test)\n",
    "    MSE = mean_squared_error(y_test, y_pred)\n",
    "    r2 = r2_score(y_test, y_pred)\n",
    "#    r2_adjusted = adj_r2_score(model, X_test, y_test)\n",
    "    print('Model Validation')\n",
    "    print('MSE: {0}'.format(MSE))\n",
    "    print('R^2: {0}'.format(r2))\n",
    "#    print('R^2 Adjusted: {0}'.format(r2_adjusted))"
   ]
  },
  {
   "cell_type": "code",
   "execution_count": 3,
   "metadata": {},
   "outputs": [],
   "source": [
    "# make connection to sqlite db\n",
    "conn = sqlite3.connect('validasi.db')\n",
    "c = conn.cursor()\n",
    "\n",
    "# enable foreign keys\n",
    "c.execute(\"PRAGMA foreign_keys = ON\")\n",
    "conn.commit()"
   ]
  },
  {
   "cell_type": "code",
   "execution_count": 4,
   "metadata": {},
   "outputs": [
    {
     "name": "stderr",
     "output_type": "stream",
     "text": [
      "  2%|▏         | 24/1582 [00:00<00:06, 235.30it/s]"
     ]
    },
    {
     "name": "stdout",
     "output_type": "stream",
     "text": [
      "Updating 'ranking' column\n"
     ]
    },
    {
     "name": "stderr",
     "output_type": "stream",
     "text": [
      "100%|██████████| 1582/1582 [00:06<00:00, 230.67it/s]\n"
     ]
    }
   ],
   "source": [
    "# rank product\n",
    "csvoutput = './csvfiles/validasi_ranking.csv'\n",
    "valVar.meanRank(conn, c, csvoutput)"
   ]
  },
  {
   "cell_type": "code",
   "execution_count": 31,
   "metadata": {},
   "outputs": [],
   "source": [
    "# get training data from database\n",
    "# the output is dataframe\n",
    "dftrain = valVar.prodpageTrain(conn, c)"
   ]
  },
  {
   "cell_type": "code",
   "execution_count": 32,
   "metadata": {},
   "outputs": [],
   "source": [
    "# preprocessing\n",
    "dftrain['merchanttype'] = dftrain['merchanttype'].astype('category')\n",
    "dftrain['merchantname'] = dftrain['merchantname'].astype('category')\n",
    "dftrain['topads'] = dftrain['topads'].replace((1,0), ('yes', 'no'))\n",
    "dftrain['topads'] = dftrain['topads'].astype('category')\n",
    "# drop column 'id' and 'prodname'\n",
    "dftrain = dftrain.drop(['id', 'prodname', 'merchantname', 'actualrevcount'], axis=1)"
   ]
  },
  {
   "cell_type": "code",
   "execution_count": 33,
   "metadata": {},
   "outputs": [
    {
     "data": {
      "text/html": [
       "<div>\n",
       "<style scoped>\n",
       "    .dataframe tbody tr th:only-of-type {\n",
       "        vertical-align: middle;\n",
       "    }\n",
       "\n",
       "    .dataframe tbody tr th {\n",
       "        vertical-align: top;\n",
       "    }\n",
       "\n",
       "    .dataframe thead th {\n",
       "        text-align: right;\n",
       "    }\n",
       "</style>\n",
       "<table border=\"1\" class=\"dataframe\">\n",
       "  <thead>\n",
       "    <tr style=\"text-align: right;\">\n",
       "      <th></th>\n",
       "      <th>merchanttype</th>\n",
       "      <th>topads</th>\n",
       "      <th>cashback</th>\n",
       "      <th>cashbackval</th>\n",
       "      <th>price</th>\n",
       "      <th>prodrating</th>\n",
       "      <th>reviewcount</th>\n",
       "      <th>negreview</th>\n",
       "      <th>posreview</th>\n",
       "      <th>answerscnt</th>\n",
       "      <th>otheragreemean</th>\n",
       "      <th>ratingmosthelpful</th>\n",
       "      <th>possentiment</th>\n",
       "      <th>negsentiment</th>\n",
       "      <th>sentipolarity</th>\n",
       "      <th>reviewersrep</th>\n",
       "      <th>revpictotal</th>\n",
       "      <th>prodpicstotal</th>\n",
       "      <th>ranking</th>\n",
       "    </tr>\n",
       "  </thead>\n",
       "  <tbody>\n",
       "    <tr>\n",
       "      <th>0</th>\n",
       "      <td>biasa</td>\n",
       "      <td>no</td>\n",
       "      <td>0.0</td>\n",
       "      <td>0.0</td>\n",
       "      <td>32977</td>\n",
       "      <td>4.8</td>\n",
       "      <td>4100</td>\n",
       "      <td>0.005804</td>\n",
       "      <td>0.994196</td>\n",
       "      <td>1763</td>\n",
       "      <td>0.0</td>\n",
       "      <td>5</td>\n",
       "      <td>3</td>\n",
       "      <td>-1</td>\n",
       "      <td>1</td>\n",
       "      <td>1</td>\n",
       "      <td>545</td>\n",
       "      <td>23</td>\n",
       "      <td>1580.0</td>\n",
       "    </tr>\n",
       "    <tr>\n",
       "      <th>1</th>\n",
       "      <td>gold</td>\n",
       "      <td>no</td>\n",
       "      <td>0.0</td>\n",
       "      <td>0.0</td>\n",
       "      <td>103000</td>\n",
       "      <td>4.6</td>\n",
       "      <td>3300</td>\n",
       "      <td>0.008502</td>\n",
       "      <td>0.991498</td>\n",
       "      <td>190</td>\n",
       "      <td>0.0</td>\n",
       "      <td>5</td>\n",
       "      <td>3</td>\n",
       "      <td>-1</td>\n",
       "      <td>1</td>\n",
       "      <td>1</td>\n",
       "      <td>653</td>\n",
       "      <td>48</td>\n",
       "      <td>1407.5</td>\n",
       "    </tr>\n",
       "    <tr>\n",
       "      <th>2</th>\n",
       "      <td>official</td>\n",
       "      <td>no</td>\n",
       "      <td>0.0</td>\n",
       "      <td>0.0</td>\n",
       "      <td>399000</td>\n",
       "      <td>4.6</td>\n",
       "      <td>3100</td>\n",
       "      <td>0.038106</td>\n",
       "      <td>0.961894</td>\n",
       "      <td>1053</td>\n",
       "      <td>0.0</td>\n",
       "      <td>5</td>\n",
       "      <td>3</td>\n",
       "      <td>-1</td>\n",
       "      <td>1</td>\n",
       "      <td>1</td>\n",
       "      <td>187</td>\n",
       "      <td>22</td>\n",
       "      <td>1349.5</td>\n",
       "    </tr>\n",
       "    <tr>\n",
       "      <th>3</th>\n",
       "      <td>gold</td>\n",
       "      <td>no</td>\n",
       "      <td>0.0</td>\n",
       "      <td>0.0</td>\n",
       "      <td>599000</td>\n",
       "      <td>4.8</td>\n",
       "      <td>2500</td>\n",
       "      <td>0.005340</td>\n",
       "      <td>0.994660</td>\n",
       "      <td>1782</td>\n",
       "      <td>0.0</td>\n",
       "      <td>5</td>\n",
       "      <td>3</td>\n",
       "      <td>-1</td>\n",
       "      <td>1</td>\n",
       "      <td>1</td>\n",
       "      <td>341</td>\n",
       "      <td>26</td>\n",
       "      <td>1294.0</td>\n",
       "    </tr>\n",
       "    <tr>\n",
       "      <th>4</th>\n",
       "      <td>biasa</td>\n",
       "      <td>no</td>\n",
       "      <td>0.0</td>\n",
       "      <td>0.0</td>\n",
       "      <td>27987</td>\n",
       "      <td>4.8</td>\n",
       "      <td>2500</td>\n",
       "      <td>0.006684</td>\n",
       "      <td>0.993316</td>\n",
       "      <td>915</td>\n",
       "      <td>0.0</td>\n",
       "      <td>5</td>\n",
       "      <td>3</td>\n",
       "      <td>-1</td>\n",
       "      <td>1</td>\n",
       "      <td>1</td>\n",
       "      <td>316</td>\n",
       "      <td>14</td>\n",
       "      <td>1572.0</td>\n",
       "    </tr>\n",
       "  </tbody>\n",
       "</table>\n",
       "</div>"
      ],
      "text/plain": [
       "  merchanttype topads  cashback  cashbackval   price  prodrating  reviewcount  \\\n",
       "0        biasa     no       0.0          0.0   32977         4.8         4100   \n",
       "1         gold     no       0.0          0.0  103000         4.6         3300   \n",
       "2     official     no       0.0          0.0  399000         4.6         3100   \n",
       "3         gold     no       0.0          0.0  599000         4.8         2500   \n",
       "4        biasa     no       0.0          0.0   27987         4.8         2500   \n",
       "\n",
       "   negreview  posreview  answerscnt  otheragreemean  ratingmosthelpful  \\\n",
       "0   0.005804   0.994196        1763             0.0                  5   \n",
       "1   0.008502   0.991498         190             0.0                  5   \n",
       "2   0.038106   0.961894        1053             0.0                  5   \n",
       "3   0.005340   0.994660        1782             0.0                  5   \n",
       "4   0.006684   0.993316         915             0.0                  5   \n",
       "\n",
       "   possentiment  negsentiment  sentipolarity  reviewersrep  revpictotal  \\\n",
       "0             3            -1              1             1          545   \n",
       "1             3            -1              1             1          653   \n",
       "2             3            -1              1             1          187   \n",
       "3             3            -1              1             1          341   \n",
       "4             3            -1              1             1          316   \n",
       "\n",
       "   prodpicstotal  ranking  \n",
       "0             23   1580.0  \n",
       "1             48   1407.5  \n",
       "2             22   1349.5  \n",
       "3             26   1294.0  \n",
       "4             14   1572.0  "
      ]
     },
     "execution_count": 33,
     "metadata": {},
     "output_type": "execute_result"
    }
   ],
   "source": [
    "dftrain.head()"
   ]
  },
  {
   "cell_type": "code",
   "execution_count": 34,
   "metadata": {},
   "outputs": [],
   "source": [
    "dftrain = dftrain.values\n",
    "# Encoding categorical data ('merchanttype' and 'topads')\n",
    "labelencoder1 = LabelEncoder()\n",
    "labelencoder2 = LabelEncoder()\n",
    "# 'merchanttype'\n",
    "dftrain[:, 0] = labelencoder1.fit_transform(dftrain[:, 0])\n",
    "# 'topads'\n",
    "dftrain[:, 1] = labelencoder2.fit_transform(dftrain[:, 1])\n",
    "# onehotencoder for both 'merchanttype'\n",
    "onehotencoder = OneHotEncoder(categorical_features=[0])\n",
    "dftrain = onehotencoder.fit_transform(dftrain).toarray()"
   ]
  },
  {
   "cell_type": "code",
   "execution_count": 35,
   "metadata": {},
   "outputs": [],
   "source": [
    "# dummy variables for merchanttype (3-1)\n",
    "# avoiding dummy variable trap\n",
    "dftrain = dftrain[:, 1:]"
   ]
  },
  {
   "cell_type": "code",
   "execution_count": 36,
   "metadata": {},
   "outputs": [],
   "source": [
    "sc = StandardScaler()\n",
    "dftrain = sc.fit_transform(dftrain)"
   ]
  },
  {
   "cell_type": "code",
   "execution_count": 37,
   "metadata": {},
   "outputs": [],
   "source": [
    "X = dftrain[:, :-1].copy()\n",
    "y = dftrain[:, 19].copy()"
   ]
  },
  {
   "cell_type": "code",
   "execution_count": 38,
   "metadata": {},
   "outputs": [
    {
     "name": "stdout",
     "output_type": "stream",
     "text": [
      "Model Validation\n",
      "MSE: 1.9740488691126206\n",
      "R^2: -0.9740488691126203\n",
      "R^2 Adjusted: -0.9980609872388304\n"
     ]
    }
   ],
   "source": [
    "# DECISION TREE\n",
    "# load model\n",
    "model = joblib.load('./training/regressor_destree_new.pkl')\n",
    "\n",
    "# validate chosen model\n",
    "evaluate(model, X, y)"
   ]
  },
  {
   "cell_type": "code",
   "execution_count": 44,
   "metadata": {},
   "outputs": [
    {
     "name": "stdout",
     "output_type": "stream",
     "text": [
      "Model Validation\n",
      "MSE: 1.8490725682241387\n",
      "R^2: -0.8490725682241382\n",
      "R^2 Adjusted: -0.871564488068094\n"
     ]
    }
   ],
   "source": [
    "# Random Forest\n",
    "# load model\n",
    "model = joblib.load('./training/regressor_randforest.pkl')\n",
    "\n",
    "# validate chosen model\n",
    "evaluate(model, X, y)"
   ]
  },
  {
   "cell_type": "code",
   "execution_count": 49,
   "metadata": {},
   "outputs": [
    {
     "name": "stdout",
     "output_type": "stream",
     "text": [
      "Model Validation\n",
      "MSE: 53.55342972545439\n",
      "R^2: -52.553429725454386\n"
     ]
    }
   ],
   "source": [
    "# MLP\n",
    "# load model\n",
    "model = joblib.load('./training/regressor_mlp.pkl')\n",
    "\n",
    "# validate chosen model\n",
    "evaluate(model, X, y)"
   ]
  },
  {
   "cell_type": "code",
   "execution_count": 51,
   "metadata": {},
   "outputs": [
    {
     "name": "stdout",
     "output_type": "stream",
     "text": [
      "Model Validation\n",
      "MSE: 1.4076950686106993\n",
      "R^2: -0.40769506861069904\n"
     ]
    }
   ],
   "source": [
    "# SVR\n",
    "# load model\n",
    "model = joblib.load('./training/regressor_svr_new.pkl')\n",
    "\n",
    "# validate chosen model\n",
    "evaluate(model, X, y)"
   ]
  },
  {
   "cell_type": "code",
   "execution_count": null,
   "metadata": {},
   "outputs": [],
   "source": []
  }
 ],
 "metadata": {
  "kernelspec": {
   "display_name": "Python 3",
   "language": "python",
   "name": "python3"
  },
  "language_info": {
   "codemirror_mode": {
    "name": "ipython",
    "version": 3
   },
   "file_extension": ".py",
   "mimetype": "text/x-python",
   "name": "python",
   "nbconvert_exporter": "python",
   "pygments_lexer": "ipython3",
   "version": "3.6.5"
  }
 },
 "nbformat": 4,
 "nbformat_minor": 2
}
