{
 "cells": [
  {
   "cell_type": "code",
   "execution_count": 1,
   "metadata": {},
   "outputs": [],
   "source": [
    "import pandas as pd\n",
    "import sqlite3\n",
    "\n",
    "# make connection to sqlite db\n",
    "conn = sqlite3.connect('product.db')\n",
    "c = conn.cursor()\n",
    "\n",
    "# enable foreign keys\n",
    "c.execute(\"PRAGMA foreign_keys = ON\")\n",
    "conn.commit()\n",
    "\n"
   ]
  },
  {
   "cell_type": "code",
   "execution_count": 2,
   "metadata": {},
   "outputs": [],
   "source": [
    "# query 2\n",
    "sqlc2 = 'SELECT id, uri, actualrevcount, salescluster FROM prodpage WHERE salescluster == 2.0 AND actualrevcount <= '\n",
    "revcount2 = 24\n",
    "sqlcall2 = sqlc2 + str(revcount2)\n",
    "c.execute(sqlcall2)\n",
    "conn.commit()\n",
    "\n",
    "# dataframe 2\n",
    "prod2 = c.fetchall()\n",
    "prod2 = pd.DataFrame(prod2)\n",
    "prod2.columns = ['id', 'uri', 'actualrevcount', 'salescluster']\n"
   ]
  },
  {
   "cell_type": "code",
   "execution_count": 3,
   "metadata": {},
   "outputs": [
    {
     "data": {
      "text/html": [
       "<div>\n",
       "<style scoped>\n",
       "    .dataframe tbody tr th:only-of-type {\n",
       "        vertical-align: middle;\n",
       "    }\n",
       "\n",
       "    .dataframe tbody tr th {\n",
       "        vertical-align: top;\n",
       "    }\n",
       "\n",
       "    .dataframe thead th {\n",
       "        text-align: right;\n",
       "    }\n",
       "</style>\n",
       "<table border=\"1\" class=\"dataframe\">\n",
       "  <thead>\n",
       "    <tr style=\"text-align: right;\">\n",
       "      <th></th>\n",
       "      <th>id</th>\n",
       "      <th>uri</th>\n",
       "      <th>actualrevcount</th>\n",
       "      <th>salescluster</th>\n",
       "    </tr>\n",
       "  </thead>\n",
       "  <tbody>\n",
       "    <tr>\n",
       "      <th>0</th>\n",
       "      <td>5a8ec5a28cbad90032a23295</td>\n",
       "      <td>https://www.tokopedia.com/anursyam/stop-kontak...</td>\n",
       "      <td>22.0</td>\n",
       "      <td>2.0</td>\n",
       "    </tr>\n",
       "    <tr>\n",
       "      <th>1</th>\n",
       "      <td>5a9373baf97c5d4771156a4e</td>\n",
       "      <td>https://www.tokopedia.com/parts-shop/resistor-...</td>\n",
       "      <td>22.0</td>\n",
       "      <td>2.0</td>\n",
       "    </tr>\n",
       "    <tr>\n",
       "      <th>2</th>\n",
       "      <td>5aa4950eb8a9f72d89fe0730</td>\n",
       "      <td>https://www.tokopedia.com/thepremierevape/sony...</td>\n",
       "      <td>22.0</td>\n",
       "      <td>2.0</td>\n",
       "    </tr>\n",
       "    <tr>\n",
       "      <th>3</th>\n",
       "      <td>5a98ee39ae1f94092ea0b568</td>\n",
       "      <td>https://www.tokopedia.com/arttechno/esp-8266-e...</td>\n",
       "      <td>22.0</td>\n",
       "      <td>2.0</td>\n",
       "    </tr>\n",
       "    <tr>\n",
       "      <th>4</th>\n",
       "      <td>5a9178ed35d6d31ce0504294</td>\n",
       "      <td>https://www.tokopedia.com/s3-satriasecure/adap...</td>\n",
       "      <td>22.0</td>\n",
       "      <td>2.0</td>\n",
       "    </tr>\n",
       "  </tbody>\n",
       "</table>\n",
       "</div>"
      ],
      "text/plain": [
       "                         id  \\\n",
       "0  5a8ec5a28cbad90032a23295   \n",
       "1  5a9373baf97c5d4771156a4e   \n",
       "2  5aa4950eb8a9f72d89fe0730   \n",
       "3  5a98ee39ae1f94092ea0b568   \n",
       "4  5a9178ed35d6d31ce0504294   \n",
       "\n",
       "                                                 uri  actualrevcount  \\\n",
       "0  https://www.tokopedia.com/anursyam/stop-kontak...            22.0   \n",
       "1  https://www.tokopedia.com/parts-shop/resistor-...            22.0   \n",
       "2  https://www.tokopedia.com/thepremierevape/sony...            22.0   \n",
       "3  https://www.tokopedia.com/arttechno/esp-8266-e...            22.0   \n",
       "4  https://www.tokopedia.com/s3-satriasecure/adap...            22.0   \n",
       "\n",
       "   salescluster  \n",
       "0           2.0  \n",
       "1           2.0  \n",
       "2           2.0  \n",
       "3           2.0  \n",
       "4           2.0  "
      ]
     },
     "execution_count": 3,
     "metadata": {},
     "output_type": "execute_result"
    }
   ],
   "source": [
    "prod2.head()"
   ]
  },
  {
   "cell_type": "code",
   "execution_count": 4,
   "metadata": {},
   "outputs": [
    {
     "data": {
      "text/plain": [
       "(21078, 4)"
      ]
     },
     "execution_count": 4,
     "metadata": {},
     "output_type": "execute_result"
    }
   ],
   "source": [
    "prod2.shape"
   ]
  },
  {
   "cell_type": "code",
   "execution_count": 5,
   "metadata": {},
   "outputs": [
    {
     "data": {
      "text/html": [
       "<div>\n",
       "<style scoped>\n",
       "    .dataframe tbody tr th:only-of-type {\n",
       "        vertical-align: middle;\n",
       "    }\n",
       "\n",
       "    .dataframe tbody tr th {\n",
       "        vertical-align: top;\n",
       "    }\n",
       "\n",
       "    .dataframe thead th {\n",
       "        text-align: right;\n",
       "    }\n",
       "</style>\n",
       "<table border=\"1\" class=\"dataframe\">\n",
       "  <thead>\n",
       "    <tr style=\"text-align: right;\">\n",
       "      <th></th>\n",
       "      <th>id</th>\n",
       "      <th>uri</th>\n",
       "      <th>actualrevcount</th>\n",
       "      <th>salescluster</th>\n",
       "    </tr>\n",
       "  </thead>\n",
       "  <tbody>\n",
       "    <tr>\n",
       "      <th>21073</th>\n",
       "      <td>5a967e02ae1f94501a18e91a</td>\n",
       "      <td>https://www.tokopedia.com/paketpasangcctv/ip-c...</td>\n",
       "      <td>5.0</td>\n",
       "      <td>2.0</td>\n",
       "    </tr>\n",
       "    <tr>\n",
       "      <th>21074</th>\n",
       "      <td>5a8f7fa535d6d31fcf0e0707</td>\n",
       "      <td>https://www.tokopedia.com/onoshop/lcr-meter-de...</td>\n",
       "      <td>5.0</td>\n",
       "      <td>2.0</td>\n",
       "    </tr>\n",
       "    <tr>\n",
       "      <th>21075</th>\n",
       "      <td>5a9dd539f97c5d0be3f21675</td>\n",
       "      <td>https://www.tokopedia.com/exxen/dvd-player-oxx...</td>\n",
       "      <td>6.0</td>\n",
       "      <td>2.0</td>\n",
       "    </tr>\n",
       "    <tr>\n",
       "      <th>21076</th>\n",
       "      <td>5a9dd5dcf97c5d0be3f21677</td>\n",
       "      <td>https://www.tokopedia.com/pedagangremot/remote...</td>\n",
       "      <td>5.0</td>\n",
       "      <td>2.0</td>\n",
       "    </tr>\n",
       "    <tr>\n",
       "      <th>21077</th>\n",
       "      <td>5a9dd7e3f97c5d0be3f2167d</td>\n",
       "      <td>https://www.tokopedia.com/asiakomputer/android...</td>\n",
       "      <td>5.0</td>\n",
       "      <td>2.0</td>\n",
       "    </tr>\n",
       "  </tbody>\n",
       "</table>\n",
       "</div>"
      ],
      "text/plain": [
       "                             id  \\\n",
       "21073  5a967e02ae1f94501a18e91a   \n",
       "21074  5a8f7fa535d6d31fcf0e0707   \n",
       "21075  5a9dd539f97c5d0be3f21675   \n",
       "21076  5a9dd5dcf97c5d0be3f21677   \n",
       "21077  5a9dd7e3f97c5d0be3f2167d   \n",
       "\n",
       "                                                     uri  actualrevcount  \\\n",
       "21073  https://www.tokopedia.com/paketpasangcctv/ip-c...             5.0   \n",
       "21074  https://www.tokopedia.com/onoshop/lcr-meter-de...             5.0   \n",
       "21075  https://www.tokopedia.com/exxen/dvd-player-oxx...             6.0   \n",
       "21076  https://www.tokopedia.com/pedagangremot/remote...             5.0   \n",
       "21077  https://www.tokopedia.com/asiakomputer/android...             5.0   \n",
       "\n",
       "       salescluster  \n",
       "21073           2.0  \n",
       "21074           2.0  \n",
       "21075           2.0  \n",
       "21076           2.0  \n",
       "21077           2.0  "
      ]
     },
     "execution_count": 5,
     "metadata": {},
     "output_type": "execute_result"
    }
   ],
   "source": [
    "prod2.tail()"
   ]
  },
  {
   "cell_type": "code",
   "execution_count": 7,
   "metadata": {},
   "outputs": [],
   "source": [
    "prod2 = prod2.iloc[0:101, ]"
   ]
  },
  {
   "cell_type": "code",
   "execution_count": 8,
   "metadata": {},
   "outputs": [
    {
     "data": {
      "text/plain": [
       "(101, 4)"
      ]
     },
     "execution_count": 8,
     "metadata": {},
     "output_type": "execute_result"
    }
   ],
   "source": [
    "prod2.shape"
   ]
  },
  {
   "cell_type": "code",
   "execution_count": 9,
   "metadata": {},
   "outputs": [],
   "source": [
    "# folder path\n",
    "destpath = './crawler/validasi/validasi/spiders/urlValidasi2.csv'\n",
    "prod2.to_csv(destpath, header=False, index=False)"
   ]
  },
  {
   "cell_type": "code",
   "execution_count": null,
   "metadata": {},
   "outputs": [],
   "source": []
  }
 ],
 "metadata": {
  "kernelspec": {
   "display_name": "Python 3",
   "language": "python",
   "name": "python3"
  },
  "language_info": {
   "codemirror_mode": {
    "name": "ipython",
    "version": 3
   },
   "file_extension": ".py",
   "mimetype": "text/x-python",
   "name": "python",
   "nbconvert_exporter": "python",
   "pygments_lexer": "ipython3",
   "version": "3.6.5"
  }
 },
 "nbformat": 4,
 "nbformat_minor": 2
}
