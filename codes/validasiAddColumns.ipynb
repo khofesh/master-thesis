{
 "cells": [
  {
   "cell_type": "markdown",
   "metadata": {},
   "source": [
    "# Create required columns for validation process"
   ]
  },
  {
   "cell_type": "code",
   "execution_count": 1,
   "metadata": {},
   "outputs": [],
   "source": [
    "import pandas as pd\n",
    "import numpy as np\n",
    "import sqlite3\n",
    "import validasiVariable as createVar\n",
    "from tqdm import tqdm"
   ]
  },
  {
   "cell_type": "code",
   "execution_count": 2,
   "metadata": {},
   "outputs": [],
   "source": [
    "# Database \n",
    "# validasi.db\n",
    "############\n",
    "# make connection to sqlite db\n",
    "conn = sqlite3.connect('validasi.db')\n",
    "c = conn.cursor()\n",
    "\n",
    "# enable foreign keys\n",
    "c.execute(\"PRAGMA foreign_keys = ON\")\n",
    "conn.commit()"
   ]
  },
  {
   "cell_type": "code",
   "execution_count": null,
   "metadata": {},
   "outputs": [],
   "source": [
    "'''\n",
    "id TEXT PRIMARY KEY, \n",
    "uri TEXT, \n",
    "prodname TEXT, \n",
    "prodpic BOOLEAN, \n",
    "price INTEGER, \n",
    "prodrating REAL, \n",
    "prodseen INTEGER, \n",
    "prodsold INTEGER, \n",
    "category TEXT, \n",
    "topads BOOLEAN, \n",
    "subcat TEXT, \n",
    "subsubcat TEXT, \n",
    "merchantname TEXT, \n",
    "reputation INTEGER, \n",
    "merchanttype TEXT, \n",
    "cashback REAL, \n",
    "rone INTEGER, \n",
    "rtwo INTEGER, \n",
    "rthree INTEGER, \n",
    "rfour INTEGER, \n",
    "rfive INTEGER, \n",
    "reviewcount INTEGER, \n",
    "discussionscnt INTEGER, \n",
    "questionscnt INTEGER, \n",
    "answerscnt INTEGER, \n",
    "helpfulreviewerscnt INTEGER, \n",
    "ranking INTEGER , \n",
    "possentiment INTEGER, \n",
    "negsentiment INTEGER, \n",
    "sentipolarity INTEGER, \n",
    "\n",
    "idProd TEXT,\n",
    "minbeli INTEGER, \n",
    "prodpicstotal INTEGER, \n",
    "reviewersrep INTEGER, \n",
    "revpictotal INTEGER, \n",
    "ratingmosthelpful INTEGER, \n",
    "otheragreemean REAL, \n",
    "posreview REAL, \n",
    "negreview REAL, \n",
    "cashbackval REAL, \n",
    "actualrevcount REAL, \n",
    "salescluster REAL\n",
    "'''"
   ]
  },
  {
   "cell_type": "code",
   "execution_count": 3,
   "metadata": {},
   "outputs": [],
   "source": [
    "# column idProd (prodpage)\n",
    "sqlc = 'ALTER TABLE prodpage ADD COLUMN idProd TEXT'\n",
    "c.execute(sqlc)\n",
    "conn.commit()"
   ]
  },
  {
   "cell_type": "code",
   "execution_count": 4,
   "metadata": {},
   "outputs": [],
   "source": [
    "# column idProd (prodpage)\n",
    "sqlc = 'ALTER TABLE prodpage ADD COLUMN minbeli INTEGER'\n",
    "c.execute(sqlc)\n",
    "conn.commit()"
   ]
  },
  {
   "cell_type": "code",
   "execution_count": 5,
   "metadata": {},
   "outputs": [],
   "source": [
    "# column idProd (prodpage)\n",
    "sqlc = 'ALTER TABLE prodpage ADD COLUMN prodpicstotal INTEGER'\n",
    "c.execute(sqlc)\n",
    "conn.commit()"
   ]
  },
  {
   "cell_type": "code",
   "execution_count": 6,
   "metadata": {},
   "outputs": [],
   "source": [
    "# column idProd (prodpage)\n",
    "sqlc = 'ALTER TABLE prodpage ADD COLUMN reviewersrep INTEGER'\n",
    "c.execute(sqlc)\n",
    "conn.commit()"
   ]
  },
  {
   "cell_type": "code",
   "execution_count": 7,
   "metadata": {},
   "outputs": [],
   "source": [
    "# column idProd (prodpage)\n",
    "sqlc = 'ALTER TABLE prodpage ADD COLUMN revpictotal INTEGER'\n",
    "c.execute(sqlc)\n",
    "conn.commit()"
   ]
  },
  {
   "cell_type": "code",
   "execution_count": 8,
   "metadata": {},
   "outputs": [],
   "source": [
    "# column idProd (prodpage)\n",
    "sqlc = 'ALTER TABLE prodpage ADD COLUMN ratingmosthelpful INTEGER'\n",
    "c.execute(sqlc)\n",
    "conn.commit()"
   ]
  },
  {
   "cell_type": "code",
   "execution_count": 9,
   "metadata": {},
   "outputs": [],
   "source": [
    "# column idProd (prodpage)\n",
    "sqlc = 'ALTER TABLE prodpage ADD COLUMN otheragreemean REAL'\n",
    "c.execute(sqlc)\n",
    "conn.commit()"
   ]
  },
  {
   "cell_type": "code",
   "execution_count": 10,
   "metadata": {},
   "outputs": [],
   "source": [
    "# column idProd (prodpage)\n",
    "sqlc = 'ALTER TABLE prodpage ADD COLUMN posreview REAL'\n",
    "c.execute(sqlc)\n",
    "conn.commit()"
   ]
  },
  {
   "cell_type": "code",
   "execution_count": 11,
   "metadata": {},
   "outputs": [],
   "source": [
    "# column idProd (prodpage)\n",
    "sqlc = 'ALTER TABLE prodpage ADD COLUMN negreview REAL'\n",
    "c.execute(sqlc)\n",
    "conn.commit()"
   ]
  },
  {
   "cell_type": "code",
   "execution_count": 12,
   "metadata": {},
   "outputs": [],
   "source": [
    "# column idProd (prodpage)\n",
    "sqlc = 'ALTER TABLE prodpage ADD COLUMN cashbackval REAL'\n",
    "c.execute(sqlc)\n",
    "conn.commit()"
   ]
  },
  {
   "cell_type": "code",
   "execution_count": 13,
   "metadata": {},
   "outputs": [],
   "source": [
    "# column idProd (prodpage)\n",
    "sqlc = 'ALTER TABLE prodpage ADD COLUMN actualrevcount REAL'\n",
    "c.execute(sqlc)\n",
    "conn.commit()"
   ]
  },
  {
   "cell_type": "code",
   "execution_count": 14,
   "metadata": {},
   "outputs": [],
   "source": [
    "# column idProd (prodpage)\n",
    "sqlc = 'ALTER TABLE prodpage ADD COLUMN salescluster REAL'\n",
    "c.execute(sqlc)\n",
    "conn.commit()"
   ]
  },
  {
   "cell_type": "code",
   "execution_count": null,
   "metadata": {},
   "outputs": [],
   "source": [
    "'''\n",
    "id TEXT NOT NULL, \n",
    "review TEXT, \n",
    "datereview TEXT, \n",
    "timereview TEXT, \n",
    "negsmiley INTEGER, \n",
    "possmiley INTEGER, \n",
    "neutsmiley INTEGER, \n",
    "helpful NUMERIC, \n",
    "ordinary NUMERIC, \n",
    "profpic TEXT, \n",
    "prodpic BOOLEAN, \n",
    "otheragree INTEGER, \n",
    "rating INTEGER, \n",
    "subsubcat TEXT, \n",
    "profpic2 BOOLEAN, \n",
    "negsentiment INTEGER, \n",
    "possentiment INTEGER, \n",
    "ovsentiment INTEGER, \n",
    "FOREIGN KEY (id) REFERENCES prodpage(id) ON UPDATE CASCADE ON DELETE CASCADE\n",
    "'''"
   ]
  },
  {
   "cell_type": "markdown",
   "metadata": {},
   "source": [
    "## Update columns' values"
   ]
  },
  {
   "cell_type": "code",
   "execution_count": 15,
   "metadata": {},
   "outputs": [
    {
     "name": "stderr",
     "output_type": "stream",
     "text": [
      "  1%|▏         | 23/1582 [00:00<00:06, 224.35it/s]"
     ]
    },
    {
     "name": "stdout",
     "output_type": "stream",
     "text": [
      "Updating 'actualrevcount' column\n"
     ]
    },
    {
     "name": "stderr",
     "output_type": "stream",
     "text": [
      "100%|██████████| 1582/1582 [00:07<00:00, 215.77it/s]\n"
     ]
    }
   ],
   "source": [
    "# update 'actualrevcount'\n",
    "csvoutput = './csvfiles/validasi_variable.csv'\n",
    "createVar.actualRevCount(conn, c, csvoutput)"
   ]
  },
  {
   "cell_type": "code",
   "execution_count": 16,
   "metadata": {},
   "outputs": [
    {
     "name": "stderr",
     "output_type": "stream",
     "text": [
      "  1%|▏         | 23/1582 [00:00<00:07, 222.65it/s]"
     ]
    },
    {
     "name": "stdout",
     "output_type": "stream",
     "text": [
      "Updating 'cashbackval' column\n"
     ]
    },
    {
     "name": "stderr",
     "output_type": "stream",
     "text": [
      "100%|██████████| 1582/1582 [00:07<00:00, 217.04it/s]\n"
     ]
    }
   ],
   "source": [
    "# update 'cashbackval'\n",
    "createVar.cashbackVal(conn, c, csvoutput)"
   ]
  },
  {
   "cell_type": "code",
   "execution_count": 17,
   "metadata": {},
   "outputs": [
    {
     "name": "stderr",
     "output_type": "stream",
     "text": [
      "  1%|▏         | 23/1582 [00:00<00:06, 228.60it/s]"
     ]
    },
    {
     "name": "stdout",
     "output_type": "stream",
     "text": [
      "Updating 'posreview' column\n"
     ]
    },
    {
     "name": "stderr",
     "output_type": "stream",
     "text": [
      "100%|██████████| 1582/1582 [00:07<00:00, 221.26it/s]\n",
      "  2%|▏         | 24/1582 [00:00<00:06, 238.50it/s]"
     ]
    },
    {
     "name": "stdout",
     "output_type": "stream",
     "text": [
      "Updating 'negreview' column\n"
     ]
    },
    {
     "name": "stderr",
     "output_type": "stream",
     "text": [
      "100%|██████████| 1582/1582 [00:07<00:00, 223.09it/s]\n"
     ]
    }
   ],
   "source": [
    "# update 'posreview' and 'negreview'\n",
    "createVar.posNegReview(conn, c, csvoutput)"
   ]
  },
  {
   "cell_type": "code",
   "execution_count": 18,
   "metadata": {},
   "outputs": [
    {
     "name": "stderr",
     "output_type": "stream",
     "text": [
      "  1%|▏         | 20/1582 [00:00<00:08, 193.65it/s]"
     ]
    },
    {
     "name": "stdout",
     "output_type": "stream",
     "text": [
      "Updating 'otheragreemean' column\n"
     ]
    },
    {
     "name": "stderr",
     "output_type": "stream",
     "text": [
      "100%|██████████| 1582/1582 [00:07<00:00, 223.75it/s]\n"
     ]
    }
   ],
   "source": [
    "# update 'otheragreemean'\n",
    "createVar.otherAgree(conn, c, csvoutput)"
   ]
  },
  {
   "cell_type": "code",
   "execution_count": 19,
   "metadata": {},
   "outputs": [
    {
     "name": "stderr",
     "output_type": "stream",
     "text": [
      "  2%|▏         | 24/1582 [00:00<00:06, 232.22it/s]"
     ]
    },
    {
     "name": "stdout",
     "output_type": "stream",
     "text": [
      "Updating 'ratingmosthelpful' column\n"
     ]
    },
    {
     "name": "stderr",
     "output_type": "stream",
     "text": [
      "100%|██████████| 1582/1582 [00:07<00:00, 219.75it/s]\n"
     ]
    }
   ],
   "source": [
    "# update 'ratingmosthelpful'\n",
    "createVar.ratingMostHelpful(conn, c, csvoutput)"
   ]
  },
  {
   "cell_type": "code",
   "execution_count": 20,
   "metadata": {},
   "outputs": [
    {
     "name": "stderr",
     "output_type": "stream",
     "text": [
      "  2%|▏         | 24/1582 [00:00<00:06, 235.48it/s]"
     ]
    },
    {
     "name": "stdout",
     "output_type": "stream",
     "text": [
      "Update 'reviewersrep' column in prodpage table\n"
     ]
    },
    {
     "name": "stderr",
     "output_type": "stream",
     "text": [
      "100%|██████████| 1582/1582 [00:07<00:00, 220.22it/s]\n"
     ]
    }
   ],
   "source": [
    "# update 'reviewersrep'\n",
    "createVar.reviewersRep(conn, c, csvoutput)"
   ]
  },
  {
   "cell_type": "code",
   "execution_count": 22,
   "metadata": {},
   "outputs": [
    {
     "name": "stderr",
     "output_type": "stream",
     "text": [
      "  2%|▏         | 25/1582 [00:00<00:06, 244.05it/s]"
     ]
    },
    {
     "name": "stdout",
     "output_type": "stream",
     "text": [
      "Updating sql column 'idProd'\n"
     ]
    },
    {
     "name": "stderr",
     "output_type": "stream",
     "text": [
      "100%|██████████| 1582/1582 [00:07<00:00, 223.81it/s]\n"
     ]
    }
   ],
   "source": [
    "# update 'idProd'\n",
    "def upIdProd(connection, cursor, csvinput):\n",
    "    # read csv file\n",
    "    idprod = pd.read_csv(csvinput)\n",
    "\n",
    "    # update validasi.db 'idProd' column\n",
    "    sqlc1 = 'UPDATE prodpage SET '\n",
    "    sqlc2 = 'idProd = '\n",
    "    sqlc3 = 'WHERE id = '\n",
    "\n",
    "    print('Updating sql column \\'idProd\\'')\n",
    "    for i in tqdm(range(len(idprod))):\n",
    "        mongoid = idprod.loc[i, 'id_val']\n",
    "        idupdate = str(idprod.loc[i, 'id_prod'])\n",
    "        sqlall = sqlc1 + sqlc2 + '\"'+idupdate+'\"' + ' ' + sqlc3 + '\"' + mongoid + '\"'\n",
    "#        print(sqlall)\n",
    "        cursor.execute(sqlall)\n",
    "        connection.commit()\n",
    "\n",
    "csvinput = './csvfiles/validasi_merged.csv'\n",
    "upIdProd(conn, c, csvinput)"
   ]
  },
  {
   "cell_type": "markdown",
   "metadata": {},
   "source": [
    "###### update 'revpictotal'"
   ]
  },
  {
   "cell_type": "code",
   "execution_count": 23,
   "metadata": {},
   "outputs": [],
   "source": [
    "# update 'revpictotal'\n",
    "\n",
    "# Database 1\n",
    "# product.db\n",
    "############\n",
    "# make connection to sqlite db\n",
    "conn1 = sqlite3.connect('product.db')\n",
    "c1 = conn1.cursor()\n",
    "\n",
    "# enable foreign keys\n",
    "c1.execute(\"PRAGMA foreign_keys = ON\")\n",
    "conn1.commit()\n",
    "\n",
    "# Database 2\n",
    "# validasi.db\n",
    "############\n",
    "# make connection to sqlite db\n",
    "conn2 = sqlite3.connect('validasi.db')\n",
    "c2 = conn2.cursor()\n",
    "\n",
    "# enable foreign keys\n",
    "c2.execute(\"PRAGMA foreign_keys = ON\")\n",
    "conn2.commit()\n",
    "\n",
    "# Query 1\n",
    "#########\n",
    "sqlc1 = 'SELECT id, revpictotal FROM prodpage'\n",
    "c1.execute(sqlc1)\n",
    "conn1.commit()\n",
    "prod = c1.fetchall()\n",
    "prod = pd.DataFrame(prod)\n",
    "prod.columns = ['idprod', 'revpictotal']\n",
    "\n",
    "# Query 2\n",
    "#########\n",
    "sqlc2 = 'SELECT id, revpictotal, idprod FROM prodpage'\n",
    "c2.execute(sqlc2)\n",
    "conn2.commit()\n",
    "validasi = c2.fetchall()\n",
    "validasi = pd.DataFrame(validasi)\n",
    "validasi.columns = ['id', 'revpictotal', 'idprod']\n"
   ]
  },
  {
   "cell_type": "code",
   "execution_count": 24,
   "metadata": {},
   "outputs": [
    {
     "data": {
      "text/plain": [
       "((41596, 2), (1582, 3))"
      ]
     },
     "execution_count": 24,
     "metadata": {},
     "output_type": "execute_result"
    }
   ],
   "source": [
    "prod.shape, validasi.shape"
   ]
  },
  {
   "cell_type": "code",
   "execution_count": 25,
   "metadata": {},
   "outputs": [
    {
     "data": {
      "text/html": [
       "<div>\n",
       "<style scoped>\n",
       "    .dataframe tbody tr th:only-of-type {\n",
       "        vertical-align: middle;\n",
       "    }\n",
       "\n",
       "    .dataframe tbody tr th {\n",
       "        vertical-align: top;\n",
       "    }\n",
       "\n",
       "    .dataframe thead th {\n",
       "        text-align: right;\n",
       "    }\n",
       "</style>\n",
       "<table border=\"1\" class=\"dataframe\">\n",
       "  <thead>\n",
       "    <tr style=\"text-align: right;\">\n",
       "      <th></th>\n",
       "      <th>idprod</th>\n",
       "      <th>revpictotal</th>\n",
       "    </tr>\n",
       "  </thead>\n",
       "  <tbody>\n",
       "    <tr>\n",
       "      <th>0</th>\n",
       "      <td>5aa2ad7735d6d34b0032a795</td>\n",
       "      <td>545</td>\n",
       "    </tr>\n",
       "    <tr>\n",
       "      <th>1</th>\n",
       "      <td>5aa39533ae1f941be7165ecd</td>\n",
       "      <td>653</td>\n",
       "    </tr>\n",
       "    <tr>\n",
       "      <th>2</th>\n",
       "      <td>5a93e8768cbad97881597597</td>\n",
       "      <td>494</td>\n",
       "    </tr>\n",
       "    <tr>\n",
       "      <th>3</th>\n",
       "      <td>5a95d7ae35d6d33d3fea56ff</td>\n",
       "      <td>341</td>\n",
       "    </tr>\n",
       "    <tr>\n",
       "      <th>4</th>\n",
       "      <td>5aa274ad8cbad96d9a0c50be</td>\n",
       "      <td>403</td>\n",
       "    </tr>\n",
       "  </tbody>\n",
       "</table>\n",
       "</div>"
      ],
      "text/plain": [
       "                     idprod  revpictotal\n",
       "0  5aa2ad7735d6d34b0032a795          545\n",
       "1  5aa39533ae1f941be7165ecd          653\n",
       "2  5a93e8768cbad97881597597          494\n",
       "3  5a95d7ae35d6d33d3fea56ff          341\n",
       "4  5aa274ad8cbad96d9a0c50be          403"
      ]
     },
     "execution_count": 25,
     "metadata": {},
     "output_type": "execute_result"
    }
   ],
   "source": [
    "prod.head()"
   ]
  },
  {
   "cell_type": "code",
   "execution_count": 26,
   "metadata": {},
   "outputs": [
    {
     "data": {
      "text/html": [
       "<div>\n",
       "<style scoped>\n",
       "    .dataframe tbody tr th:only-of-type {\n",
       "        vertical-align: middle;\n",
       "    }\n",
       "\n",
       "    .dataframe tbody tr th {\n",
       "        vertical-align: top;\n",
       "    }\n",
       "\n",
       "    .dataframe thead th {\n",
       "        text-align: right;\n",
       "    }\n",
       "</style>\n",
       "<table border=\"1\" class=\"dataframe\">\n",
       "  <thead>\n",
       "    <tr style=\"text-align: right;\">\n",
       "      <th></th>\n",
       "      <th>id</th>\n",
       "      <th>revpictotal</th>\n",
       "      <th>idprod</th>\n",
       "    </tr>\n",
       "  </thead>\n",
       "  <tbody>\n",
       "    <tr>\n",
       "      <th>0</th>\n",
       "      <td>5b32126eb8a9f70142f6a766</td>\n",
       "      <td>None</td>\n",
       "      <td>5aa2ad7735d6d34b0032a795</td>\n",
       "    </tr>\n",
       "    <tr>\n",
       "      <th>1</th>\n",
       "      <td>5b322e9cb8a9f70142f6a767</td>\n",
       "      <td>None</td>\n",
       "      <td>5aa39533ae1f941be7165ecd</td>\n",
       "    </tr>\n",
       "    <tr>\n",
       "      <th>2</th>\n",
       "      <td>5b346235b8a9f70142f6a786</td>\n",
       "      <td>None</td>\n",
       "      <td>5aa54e9c35d6d336b75ec484</td>\n",
       "    </tr>\n",
       "    <tr>\n",
       "      <th>3</th>\n",
       "      <td>5b32509bb8a9f70142f6a769</td>\n",
       "      <td>None</td>\n",
       "      <td>5a95d7ae35d6d33d3fea56ff</td>\n",
       "    </tr>\n",
       "    <tr>\n",
       "      <th>4</th>\n",
       "      <td>5b3277a3b8a9f70142f6a76b</td>\n",
       "      <td>None</td>\n",
       "      <td>5aa2c35e35d6d34b0032a796</td>\n",
       "    </tr>\n",
       "  </tbody>\n",
       "</table>\n",
       "</div>"
      ],
      "text/plain": [
       "                         id revpictotal                    idprod\n",
       "0  5b32126eb8a9f70142f6a766        None  5aa2ad7735d6d34b0032a795\n",
       "1  5b322e9cb8a9f70142f6a767        None  5aa39533ae1f941be7165ecd\n",
       "2  5b346235b8a9f70142f6a786        None  5aa54e9c35d6d336b75ec484\n",
       "3  5b32509bb8a9f70142f6a769        None  5a95d7ae35d6d33d3fea56ff\n",
       "4  5b3277a3b8a9f70142f6a76b        None  5aa2c35e35d6d34b0032a796"
      ]
     },
     "execution_count": 26,
     "metadata": {},
     "output_type": "execute_result"
    }
   ],
   "source": [
    "validasi.head()"
   ]
  },
  {
   "cell_type": "code",
   "execution_count": 27,
   "metadata": {},
   "outputs": [
    {
     "data": {
      "text/html": [
       "<div>\n",
       "<style scoped>\n",
       "    .dataframe tbody tr th:only-of-type {\n",
       "        vertical-align: middle;\n",
       "    }\n",
       "\n",
       "    .dataframe tbody tr th {\n",
       "        vertical-align: top;\n",
       "    }\n",
       "\n",
       "    .dataframe thead th {\n",
       "        text-align: right;\n",
       "    }\n",
       "</style>\n",
       "<table border=\"1\" class=\"dataframe\">\n",
       "  <thead>\n",
       "    <tr style=\"text-align: right;\">\n",
       "      <th></th>\n",
       "      <th>idprod</th>\n",
       "      <th>revpictotal_prod</th>\n",
       "      <th>id</th>\n",
       "      <th>revpictotal_val</th>\n",
       "    </tr>\n",
       "  </thead>\n",
       "  <tbody>\n",
       "    <tr>\n",
       "      <th>0</th>\n",
       "      <td>5aa2ad7735d6d34b0032a795</td>\n",
       "      <td>545</td>\n",
       "      <td>5b32126eb8a9f70142f6a766</td>\n",
       "      <td>None</td>\n",
       "    </tr>\n",
       "    <tr>\n",
       "      <th>1</th>\n",
       "      <td>5aa39533ae1f941be7165ecd</td>\n",
       "      <td>653</td>\n",
       "      <td>5b322e9cb8a9f70142f6a767</td>\n",
       "      <td>None</td>\n",
       "    </tr>\n",
       "    <tr>\n",
       "      <th>2</th>\n",
       "      <td>5a93e8768cbad97881597597</td>\n",
       "      <td>494</td>\n",
       "      <td>5b324265b8a9f70142f6a768</td>\n",
       "      <td>None</td>\n",
       "    </tr>\n",
       "    <tr>\n",
       "      <th>3</th>\n",
       "      <td>5a95d7ae35d6d33d3fea56ff</td>\n",
       "      <td>341</td>\n",
       "      <td>5b32509bb8a9f70142f6a769</td>\n",
       "      <td>None</td>\n",
       "    </tr>\n",
       "    <tr>\n",
       "      <th>4</th>\n",
       "      <td>5aa274ad8cbad96d9a0c50be</td>\n",
       "      <td>403</td>\n",
       "      <td>5b326399b8a9f70142f6a76a</td>\n",
       "      <td>None</td>\n",
       "    </tr>\n",
       "  </tbody>\n",
       "</table>\n",
       "</div>"
      ],
      "text/plain": [
       "                     idprod  revpictotal_prod                        id  \\\n",
       "0  5aa2ad7735d6d34b0032a795               545  5b32126eb8a9f70142f6a766   \n",
       "1  5aa39533ae1f941be7165ecd               653  5b322e9cb8a9f70142f6a767   \n",
       "2  5a93e8768cbad97881597597               494  5b324265b8a9f70142f6a768   \n",
       "3  5a95d7ae35d6d33d3fea56ff               341  5b32509bb8a9f70142f6a769   \n",
       "4  5aa274ad8cbad96d9a0c50be               403  5b326399b8a9f70142f6a76a   \n",
       "\n",
       "  revpictotal_val  \n",
       "0            None  \n",
       "1            None  \n",
       "2            None  \n",
       "3            None  \n",
       "4            None  "
      ]
     },
     "execution_count": 27,
     "metadata": {},
     "output_type": "execute_result"
    }
   ],
   "source": [
    "revpictotal = pd.merge(prod, validasi, how='inner', on='idprod', suffixes=('_prod', '_val'))\n",
    "revpictotal.head()"
   ]
  },
  {
   "cell_type": "code",
   "execution_count": 28,
   "metadata": {},
   "outputs": [],
   "source": [
    "revpictotal = revpictotal[['id', 'revpictotal_prod']]"
   ]
  },
  {
   "cell_type": "code",
   "execution_count": 29,
   "metadata": {},
   "outputs": [
    {
     "data": {
      "text/html": [
       "<div>\n",
       "<style scoped>\n",
       "    .dataframe tbody tr th:only-of-type {\n",
       "        vertical-align: middle;\n",
       "    }\n",
       "\n",
       "    .dataframe tbody tr th {\n",
       "        vertical-align: top;\n",
       "    }\n",
       "\n",
       "    .dataframe thead th {\n",
       "        text-align: right;\n",
       "    }\n",
       "</style>\n",
       "<table border=\"1\" class=\"dataframe\">\n",
       "  <thead>\n",
       "    <tr style=\"text-align: right;\">\n",
       "      <th></th>\n",
       "      <th>id</th>\n",
       "      <th>revpictotal</th>\n",
       "    </tr>\n",
       "  </thead>\n",
       "  <tbody>\n",
       "    <tr>\n",
       "      <th>0</th>\n",
       "      <td>5b32126eb8a9f70142f6a766</td>\n",
       "      <td>545</td>\n",
       "    </tr>\n",
       "    <tr>\n",
       "      <th>1</th>\n",
       "      <td>5b322e9cb8a9f70142f6a767</td>\n",
       "      <td>653</td>\n",
       "    </tr>\n",
       "    <tr>\n",
       "      <th>2</th>\n",
       "      <td>5b324265b8a9f70142f6a768</td>\n",
       "      <td>494</td>\n",
       "    </tr>\n",
       "    <tr>\n",
       "      <th>3</th>\n",
       "      <td>5b32509bb8a9f70142f6a769</td>\n",
       "      <td>341</td>\n",
       "    </tr>\n",
       "    <tr>\n",
       "      <th>4</th>\n",
       "      <td>5b326399b8a9f70142f6a76a</td>\n",
       "      <td>403</td>\n",
       "    </tr>\n",
       "  </tbody>\n",
       "</table>\n",
       "</div>"
      ],
      "text/plain": [
       "                         id  revpictotal\n",
       "0  5b32126eb8a9f70142f6a766          545\n",
       "1  5b322e9cb8a9f70142f6a767          653\n",
       "2  5b324265b8a9f70142f6a768          494\n",
       "3  5b32509bb8a9f70142f6a769          341\n",
       "4  5b326399b8a9f70142f6a76a          403"
      ]
     },
     "execution_count": 29,
     "metadata": {},
     "output_type": "execute_result"
    }
   ],
   "source": [
    "revpictotal.columns = ['id', 'revpictotal']\n",
    "revpictotal.head()"
   ]
  },
  {
   "cell_type": "code",
   "execution_count": 30,
   "metadata": {},
   "outputs": [
    {
     "name": "stderr",
     "output_type": "stream",
     "text": [
      "  1%|▏         | 22/1582 [00:00<00:07, 217.71it/s]"
     ]
    },
    {
     "name": "stdout",
     "output_type": "stream",
     "text": [
      "Updating sql column 'revpictotal'\n"
     ]
    },
    {
     "name": "stderr",
     "output_type": "stream",
     "text": [
      "100%|██████████| 1582/1582 [00:07<00:00, 225.87it/s]\n"
     ]
    }
   ],
   "source": [
    "def upRevpictotal(connection, cursor, df):\n",
    "    # read csv file\n",
    "    revpictotal = df\n",
    "\n",
    "    # update validasi.db 'idProd' column\n",
    "    sqlc1 = 'UPDATE prodpage SET '\n",
    "    sqlc2 = 'revpictotal = '\n",
    "    sqlc3 = 'WHERE id = '\n",
    "\n",
    "    print('Updating sql column \\'revpictotal\\'')\n",
    "    for i in tqdm(range(len(revpictotal))):\n",
    "        mongoid = revpictotal.loc[i, 'id']\n",
    "        revpic = str(revpictotal.loc[i, 'revpictotal'])\n",
    "        sqlall = sqlc1 + sqlc2 + revpic + ' ' + sqlc3 + '\"' + mongoid + '\"'\n",
    "#        print(sqlall)\n",
    "        cursor.execute(sqlall)\n",
    "        connection.commit()\n",
    "\n",
    "upRevpictotal(conn, c, revpictotal)"
   ]
  },
  {
   "cell_type": "markdown",
   "metadata": {},
   "source": [
    "###### update 'prodpicstotal'"
   ]
  },
  {
   "cell_type": "code",
   "execution_count": 31,
   "metadata": {},
   "outputs": [],
   "source": [
    "# update 'prodpictotal'\n",
    "\n",
    "# Database 1\n",
    "# product.db\n",
    "############\n",
    "# make connection to sqlite db\n",
    "conn1 = sqlite3.connect('product.db')\n",
    "c1 = conn1.cursor()\n",
    "\n",
    "# enable foreign keys\n",
    "c1.execute(\"PRAGMA foreign_keys = ON\")\n",
    "conn1.commit()\n",
    "\n",
    "# Database 2\n",
    "# validasi.db\n",
    "############\n",
    "# make connection to sqlite db\n",
    "conn2 = sqlite3.connect('validasi.db')\n",
    "c2 = conn2.cursor()\n",
    "\n",
    "# enable foreign keys\n",
    "c2.execute(\"PRAGMA foreign_keys = ON\")\n",
    "conn2.commit()\n",
    "\n",
    "# Query 1\n",
    "#########\n",
    "sqlc1 = 'SELECT id, prodpicstotal FROM prodpage'\n",
    "c1.execute(sqlc1)\n",
    "conn1.commit()\n",
    "prod = c1.fetchall()\n",
    "prod = pd.DataFrame(prod)\n",
    "prod.columns = ['idprod', 'prodpicstotal']\n",
    "\n",
    "# Query 2\n",
    "#########\n",
    "sqlc2 = 'SELECT id, prodpicstotal, idprod FROM prodpage'\n",
    "c2.execute(sqlc2)\n",
    "conn2.commit()\n",
    "validasi = c2.fetchall()\n",
    "validasi = pd.DataFrame(validasi)\n",
    "validasi.columns = ['id', 'prodpicstotal', 'idprod']\n"
   ]
  },
  {
   "cell_type": "code",
   "execution_count": 32,
   "metadata": {},
   "outputs": [
    {
     "data": {
      "text/plain": [
       "((41596, 2), (1582, 3))"
      ]
     },
     "execution_count": 32,
     "metadata": {},
     "output_type": "execute_result"
    }
   ],
   "source": [
    "prod.shape, validasi.shape"
   ]
  },
  {
   "cell_type": "code",
   "execution_count": 33,
   "metadata": {},
   "outputs": [
    {
     "data": {
      "text/html": [
       "<div>\n",
       "<style scoped>\n",
       "    .dataframe tbody tr th:only-of-type {\n",
       "        vertical-align: middle;\n",
       "    }\n",
       "\n",
       "    .dataframe tbody tr th {\n",
       "        vertical-align: top;\n",
       "    }\n",
       "\n",
       "    .dataframe thead th {\n",
       "        text-align: right;\n",
       "    }\n",
       "</style>\n",
       "<table border=\"1\" class=\"dataframe\">\n",
       "  <thead>\n",
       "    <tr style=\"text-align: right;\">\n",
       "      <th></th>\n",
       "      <th>idprod</th>\n",
       "      <th>prodpicstotal</th>\n",
       "    </tr>\n",
       "  </thead>\n",
       "  <tbody>\n",
       "    <tr>\n",
       "      <th>0</th>\n",
       "      <td>5aa2ad7735d6d34b0032a795</td>\n",
       "      <td>23</td>\n",
       "    </tr>\n",
       "    <tr>\n",
       "      <th>1</th>\n",
       "      <td>5aa39533ae1f941be7165ecd</td>\n",
       "      <td>48</td>\n",
       "    </tr>\n",
       "    <tr>\n",
       "      <th>2</th>\n",
       "      <td>5a93e8768cbad97881597597</td>\n",
       "      <td>10</td>\n",
       "    </tr>\n",
       "    <tr>\n",
       "      <th>3</th>\n",
       "      <td>5a95d7ae35d6d33d3fea56ff</td>\n",
       "      <td>26</td>\n",
       "    </tr>\n",
       "    <tr>\n",
       "      <th>4</th>\n",
       "      <td>5aa274ad8cbad96d9a0c50be</td>\n",
       "      <td>28</td>\n",
       "    </tr>\n",
       "  </tbody>\n",
       "</table>\n",
       "</div>"
      ],
      "text/plain": [
       "                     idprod  prodpicstotal\n",
       "0  5aa2ad7735d6d34b0032a795             23\n",
       "1  5aa39533ae1f941be7165ecd             48\n",
       "2  5a93e8768cbad97881597597             10\n",
       "3  5a95d7ae35d6d33d3fea56ff             26\n",
       "4  5aa274ad8cbad96d9a0c50be             28"
      ]
     },
     "execution_count": 33,
     "metadata": {},
     "output_type": "execute_result"
    }
   ],
   "source": [
    "prod.head()"
   ]
  },
  {
   "cell_type": "code",
   "execution_count": 34,
   "metadata": {},
   "outputs": [
    {
     "data": {
      "text/html": [
       "<div>\n",
       "<style scoped>\n",
       "    .dataframe tbody tr th:only-of-type {\n",
       "        vertical-align: middle;\n",
       "    }\n",
       "\n",
       "    .dataframe tbody tr th {\n",
       "        vertical-align: top;\n",
       "    }\n",
       "\n",
       "    .dataframe thead th {\n",
       "        text-align: right;\n",
       "    }\n",
       "</style>\n",
       "<table border=\"1\" class=\"dataframe\">\n",
       "  <thead>\n",
       "    <tr style=\"text-align: right;\">\n",
       "      <th></th>\n",
       "      <th>id</th>\n",
       "      <th>prodpicstotal</th>\n",
       "      <th>idprod</th>\n",
       "    </tr>\n",
       "  </thead>\n",
       "  <tbody>\n",
       "    <tr>\n",
       "      <th>0</th>\n",
       "      <td>5b32126eb8a9f70142f6a766</td>\n",
       "      <td>None</td>\n",
       "      <td>5aa2ad7735d6d34b0032a795</td>\n",
       "    </tr>\n",
       "    <tr>\n",
       "      <th>1</th>\n",
       "      <td>5b322e9cb8a9f70142f6a767</td>\n",
       "      <td>None</td>\n",
       "      <td>5aa39533ae1f941be7165ecd</td>\n",
       "    </tr>\n",
       "    <tr>\n",
       "      <th>2</th>\n",
       "      <td>5b346235b8a9f70142f6a786</td>\n",
       "      <td>None</td>\n",
       "      <td>5aa54e9c35d6d336b75ec484</td>\n",
       "    </tr>\n",
       "    <tr>\n",
       "      <th>3</th>\n",
       "      <td>5b32509bb8a9f70142f6a769</td>\n",
       "      <td>None</td>\n",
       "      <td>5a95d7ae35d6d33d3fea56ff</td>\n",
       "    </tr>\n",
       "    <tr>\n",
       "      <th>4</th>\n",
       "      <td>5b3277a3b8a9f70142f6a76b</td>\n",
       "      <td>None</td>\n",
       "      <td>5aa2c35e35d6d34b0032a796</td>\n",
       "    </tr>\n",
       "  </tbody>\n",
       "</table>\n",
       "</div>"
      ],
      "text/plain": [
       "                         id prodpicstotal                    idprod\n",
       "0  5b32126eb8a9f70142f6a766          None  5aa2ad7735d6d34b0032a795\n",
       "1  5b322e9cb8a9f70142f6a767          None  5aa39533ae1f941be7165ecd\n",
       "2  5b346235b8a9f70142f6a786          None  5aa54e9c35d6d336b75ec484\n",
       "3  5b32509bb8a9f70142f6a769          None  5a95d7ae35d6d33d3fea56ff\n",
       "4  5b3277a3b8a9f70142f6a76b          None  5aa2c35e35d6d34b0032a796"
      ]
     },
     "execution_count": 34,
     "metadata": {},
     "output_type": "execute_result"
    }
   ],
   "source": [
    "validasi.head()"
   ]
  },
  {
   "cell_type": "code",
   "execution_count": 35,
   "metadata": {},
   "outputs": [
    {
     "data": {
      "text/html": [
       "<div>\n",
       "<style scoped>\n",
       "    .dataframe tbody tr th:only-of-type {\n",
       "        vertical-align: middle;\n",
       "    }\n",
       "\n",
       "    .dataframe tbody tr th {\n",
       "        vertical-align: top;\n",
       "    }\n",
       "\n",
       "    .dataframe thead th {\n",
       "        text-align: right;\n",
       "    }\n",
       "</style>\n",
       "<table border=\"1\" class=\"dataframe\">\n",
       "  <thead>\n",
       "    <tr style=\"text-align: right;\">\n",
       "      <th></th>\n",
       "      <th>idprod</th>\n",
       "      <th>prodpicstotal_prod</th>\n",
       "      <th>id</th>\n",
       "      <th>prodpicstotal_val</th>\n",
       "    </tr>\n",
       "  </thead>\n",
       "  <tbody>\n",
       "    <tr>\n",
       "      <th>0</th>\n",
       "      <td>5aa2ad7735d6d34b0032a795</td>\n",
       "      <td>23</td>\n",
       "      <td>5b32126eb8a9f70142f6a766</td>\n",
       "      <td>None</td>\n",
       "    </tr>\n",
       "    <tr>\n",
       "      <th>1</th>\n",
       "      <td>5aa39533ae1f941be7165ecd</td>\n",
       "      <td>48</td>\n",
       "      <td>5b322e9cb8a9f70142f6a767</td>\n",
       "      <td>None</td>\n",
       "    </tr>\n",
       "    <tr>\n",
       "      <th>2</th>\n",
       "      <td>5a93e8768cbad97881597597</td>\n",
       "      <td>10</td>\n",
       "      <td>5b324265b8a9f70142f6a768</td>\n",
       "      <td>None</td>\n",
       "    </tr>\n",
       "    <tr>\n",
       "      <th>3</th>\n",
       "      <td>5a95d7ae35d6d33d3fea56ff</td>\n",
       "      <td>26</td>\n",
       "      <td>5b32509bb8a9f70142f6a769</td>\n",
       "      <td>None</td>\n",
       "    </tr>\n",
       "    <tr>\n",
       "      <th>4</th>\n",
       "      <td>5aa274ad8cbad96d9a0c50be</td>\n",
       "      <td>28</td>\n",
       "      <td>5b326399b8a9f70142f6a76a</td>\n",
       "      <td>None</td>\n",
       "    </tr>\n",
       "  </tbody>\n",
       "</table>\n",
       "</div>"
      ],
      "text/plain": [
       "                     idprod  prodpicstotal_prod                        id  \\\n",
       "0  5aa2ad7735d6d34b0032a795                  23  5b32126eb8a9f70142f6a766   \n",
       "1  5aa39533ae1f941be7165ecd                  48  5b322e9cb8a9f70142f6a767   \n",
       "2  5a93e8768cbad97881597597                  10  5b324265b8a9f70142f6a768   \n",
       "3  5a95d7ae35d6d33d3fea56ff                  26  5b32509bb8a9f70142f6a769   \n",
       "4  5aa274ad8cbad96d9a0c50be                  28  5b326399b8a9f70142f6a76a   \n",
       "\n",
       "  prodpicstotal_val  \n",
       "0              None  \n",
       "1              None  \n",
       "2              None  \n",
       "3              None  \n",
       "4              None  "
      ]
     },
     "execution_count": 35,
     "metadata": {},
     "output_type": "execute_result"
    }
   ],
   "source": [
    "prodpicstotal = pd.merge(prod, validasi, how='inner', on='idprod', suffixes=('_prod', '_val'))\n",
    "prodpicstotal.head()"
   ]
  },
  {
   "cell_type": "code",
   "execution_count": 36,
   "metadata": {},
   "outputs": [
    {
     "data": {
      "text/html": [
       "<div>\n",
       "<style scoped>\n",
       "    .dataframe tbody tr th:only-of-type {\n",
       "        vertical-align: middle;\n",
       "    }\n",
       "\n",
       "    .dataframe tbody tr th {\n",
       "        vertical-align: top;\n",
       "    }\n",
       "\n",
       "    .dataframe thead th {\n",
       "        text-align: right;\n",
       "    }\n",
       "</style>\n",
       "<table border=\"1\" class=\"dataframe\">\n",
       "  <thead>\n",
       "    <tr style=\"text-align: right;\">\n",
       "      <th></th>\n",
       "      <th>id</th>\n",
       "      <th>prodpicstotal</th>\n",
       "    </tr>\n",
       "  </thead>\n",
       "  <tbody>\n",
       "    <tr>\n",
       "      <th>0</th>\n",
       "      <td>5b32126eb8a9f70142f6a766</td>\n",
       "      <td>23</td>\n",
       "    </tr>\n",
       "    <tr>\n",
       "      <th>1</th>\n",
       "      <td>5b322e9cb8a9f70142f6a767</td>\n",
       "      <td>48</td>\n",
       "    </tr>\n",
       "    <tr>\n",
       "      <th>2</th>\n",
       "      <td>5b324265b8a9f70142f6a768</td>\n",
       "      <td>10</td>\n",
       "    </tr>\n",
       "    <tr>\n",
       "      <th>3</th>\n",
       "      <td>5b32509bb8a9f70142f6a769</td>\n",
       "      <td>26</td>\n",
       "    </tr>\n",
       "    <tr>\n",
       "      <th>4</th>\n",
       "      <td>5b326399b8a9f70142f6a76a</td>\n",
       "      <td>28</td>\n",
       "    </tr>\n",
       "  </tbody>\n",
       "</table>\n",
       "</div>"
      ],
      "text/plain": [
       "                         id  prodpicstotal\n",
       "0  5b32126eb8a9f70142f6a766             23\n",
       "1  5b322e9cb8a9f70142f6a767             48\n",
       "2  5b324265b8a9f70142f6a768             10\n",
       "3  5b32509bb8a9f70142f6a769             26\n",
       "4  5b326399b8a9f70142f6a76a             28"
      ]
     },
     "execution_count": 36,
     "metadata": {},
     "output_type": "execute_result"
    }
   ],
   "source": [
    "prodpicstotal = prodpicstotal[['id', 'prodpicstotal_prod']]\n",
    "prodpicstotal.columns = ['id', 'prodpicstotal']\n",
    "prodpicstotal.head()"
   ]
  },
  {
   "cell_type": "code",
   "execution_count": 37,
   "metadata": {},
   "outputs": [
    {
     "name": "stderr",
     "output_type": "stream",
     "text": [
      "  1%|▏         | 23/1582 [00:00<00:06, 224.92it/s]"
     ]
    },
    {
     "name": "stdout",
     "output_type": "stream",
     "text": [
      "Updating sql column 'prodpicstotal'\n"
     ]
    },
    {
     "name": "stderr",
     "output_type": "stream",
     "text": [
      "100%|██████████| 1582/1582 [00:07<00:00, 221.99it/s]\n"
     ]
    }
   ],
   "source": [
    "def upProdpicstotal(connection, cursor, df):\n",
    "    # read csv file\n",
    "    prodpicstotal = df\n",
    "\n",
    "    # update validasi.db 'idProd' column\n",
    "    sqlc1 = 'UPDATE prodpage SET '\n",
    "    sqlc2 = 'prodpicstotal = '\n",
    "    sqlc3 = 'WHERE id = '\n",
    "\n",
    "    print('Updating sql column \\'prodpicstotal\\'')\n",
    "    for i in tqdm(range(len(prodpicstotal))):\n",
    "        mongoid = prodpicstotal.loc[i, 'id']\n",
    "        prodpic = str(prodpicstotal.loc[i, 'prodpicstotal'])\n",
    "        sqlall = sqlc1 + sqlc2 + prodpic + ' ' + sqlc3 + '\"' + mongoid + '\"'\n",
    "#        print(sqlall)\n",
    "        cursor.execute(sqlall)\n",
    "        connection.commit()\n",
    "\n",
    "upProdpicstotal(conn, c, prodpicstotal)"
   ]
  },
  {
   "cell_type": "markdown",
   "metadata": {},
   "source": [
    "###### update 'minbeli'"
   ]
  },
  {
   "cell_type": "code",
   "execution_count": 38,
   "metadata": {},
   "outputs": [],
   "source": [
    "# update 'prodpictotal'\n",
    "\n",
    "# Database 1\n",
    "# product.db\n",
    "############\n",
    "# make connection to sqlite db\n",
    "conn1 = sqlite3.connect('product.db')\n",
    "c1 = conn1.cursor()\n",
    "\n",
    "# enable foreign keys\n",
    "c1.execute(\"PRAGMA foreign_keys = ON\")\n",
    "conn1.commit()\n",
    "\n",
    "# Database 2\n",
    "# validasi.db\n",
    "############\n",
    "# make connection to sqlite db\n",
    "conn2 = sqlite3.connect('validasi.db')\n",
    "c2 = conn2.cursor()\n",
    "\n",
    "# enable foreign keys\n",
    "c2.execute(\"PRAGMA foreign_keys = ON\")\n",
    "conn2.commit()\n",
    "\n",
    "# Query 1\n",
    "#########\n",
    "sqlc1 = 'SELECT id, minbeli FROM prodpage'\n",
    "c1.execute(sqlc1)\n",
    "conn1.commit()\n",
    "prod = c1.fetchall()\n",
    "prod = pd.DataFrame(prod)\n",
    "prod.columns = ['idprod', 'minbeli']\n",
    "\n",
    "# Query 2\n",
    "#########\n",
    "sqlc2 = 'SELECT id, minbeli, idprod FROM prodpage'\n",
    "c2.execute(sqlc2)\n",
    "conn2.commit()\n",
    "validasi = c2.fetchall()\n",
    "validasi = pd.DataFrame(validasi)\n",
    "validasi.columns = ['id', 'minbeli', 'idprod']"
   ]
  },
  {
   "cell_type": "code",
   "execution_count": 39,
   "metadata": {},
   "outputs": [
    {
     "data": {
      "text/plain": [
       "((41596, 2), (1582, 3))"
      ]
     },
     "execution_count": 39,
     "metadata": {},
     "output_type": "execute_result"
    }
   ],
   "source": [
    "prod.shape, validasi.shape"
   ]
  },
  {
   "cell_type": "code",
   "execution_count": 40,
   "metadata": {},
   "outputs": [
    {
     "data": {
      "text/html": [
       "<div>\n",
       "<style scoped>\n",
       "    .dataframe tbody tr th:only-of-type {\n",
       "        vertical-align: middle;\n",
       "    }\n",
       "\n",
       "    .dataframe tbody tr th {\n",
       "        vertical-align: top;\n",
       "    }\n",
       "\n",
       "    .dataframe thead th {\n",
       "        text-align: right;\n",
       "    }\n",
       "</style>\n",
       "<table border=\"1\" class=\"dataframe\">\n",
       "  <thead>\n",
       "    <tr style=\"text-align: right;\">\n",
       "      <th></th>\n",
       "      <th>idprod</th>\n",
       "      <th>minbeli</th>\n",
       "    </tr>\n",
       "  </thead>\n",
       "  <tbody>\n",
       "    <tr>\n",
       "      <th>0</th>\n",
       "      <td>5aa2ad7735d6d34b0032a795</td>\n",
       "      <td>1</td>\n",
       "    </tr>\n",
       "    <tr>\n",
       "      <th>1</th>\n",
       "      <td>5aa39533ae1f941be7165ecd</td>\n",
       "      <td>1</td>\n",
       "    </tr>\n",
       "    <tr>\n",
       "      <th>2</th>\n",
       "      <td>5a93e8768cbad97881597597</td>\n",
       "      <td>5</td>\n",
       "    </tr>\n",
       "    <tr>\n",
       "      <th>3</th>\n",
       "      <td>5a95d7ae35d6d33d3fea56ff</td>\n",
       "      <td>1</td>\n",
       "    </tr>\n",
       "    <tr>\n",
       "      <th>4</th>\n",
       "      <td>5aa274ad8cbad96d9a0c50be</td>\n",
       "      <td>1</td>\n",
       "    </tr>\n",
       "  </tbody>\n",
       "</table>\n",
       "</div>"
      ],
      "text/plain": [
       "                     idprod  minbeli\n",
       "0  5aa2ad7735d6d34b0032a795        1\n",
       "1  5aa39533ae1f941be7165ecd        1\n",
       "2  5a93e8768cbad97881597597        5\n",
       "3  5a95d7ae35d6d33d3fea56ff        1\n",
       "4  5aa274ad8cbad96d9a0c50be        1"
      ]
     },
     "execution_count": 40,
     "metadata": {},
     "output_type": "execute_result"
    }
   ],
   "source": [
    "prod.head()"
   ]
  },
  {
   "cell_type": "code",
   "execution_count": 41,
   "metadata": {},
   "outputs": [
    {
     "data": {
      "text/html": [
       "<div>\n",
       "<style scoped>\n",
       "    .dataframe tbody tr th:only-of-type {\n",
       "        vertical-align: middle;\n",
       "    }\n",
       "\n",
       "    .dataframe tbody tr th {\n",
       "        vertical-align: top;\n",
       "    }\n",
       "\n",
       "    .dataframe thead th {\n",
       "        text-align: right;\n",
       "    }\n",
       "</style>\n",
       "<table border=\"1\" class=\"dataframe\">\n",
       "  <thead>\n",
       "    <tr style=\"text-align: right;\">\n",
       "      <th></th>\n",
       "      <th>id</th>\n",
       "      <th>minbeli</th>\n",
       "      <th>idprod</th>\n",
       "    </tr>\n",
       "  </thead>\n",
       "  <tbody>\n",
       "    <tr>\n",
       "      <th>0</th>\n",
       "      <td>5b32126eb8a9f70142f6a766</td>\n",
       "      <td>None</td>\n",
       "      <td>5aa2ad7735d6d34b0032a795</td>\n",
       "    </tr>\n",
       "    <tr>\n",
       "      <th>1</th>\n",
       "      <td>5b322e9cb8a9f70142f6a767</td>\n",
       "      <td>None</td>\n",
       "      <td>5aa39533ae1f941be7165ecd</td>\n",
       "    </tr>\n",
       "    <tr>\n",
       "      <th>2</th>\n",
       "      <td>5b346235b8a9f70142f6a786</td>\n",
       "      <td>None</td>\n",
       "      <td>5aa54e9c35d6d336b75ec484</td>\n",
       "    </tr>\n",
       "    <tr>\n",
       "      <th>3</th>\n",
       "      <td>5b32509bb8a9f70142f6a769</td>\n",
       "      <td>None</td>\n",
       "      <td>5a95d7ae35d6d33d3fea56ff</td>\n",
       "    </tr>\n",
       "    <tr>\n",
       "      <th>4</th>\n",
       "      <td>5b3277a3b8a9f70142f6a76b</td>\n",
       "      <td>None</td>\n",
       "      <td>5aa2c35e35d6d34b0032a796</td>\n",
       "    </tr>\n",
       "  </tbody>\n",
       "</table>\n",
       "</div>"
      ],
      "text/plain": [
       "                         id minbeli                    idprod\n",
       "0  5b32126eb8a9f70142f6a766    None  5aa2ad7735d6d34b0032a795\n",
       "1  5b322e9cb8a9f70142f6a767    None  5aa39533ae1f941be7165ecd\n",
       "2  5b346235b8a9f70142f6a786    None  5aa54e9c35d6d336b75ec484\n",
       "3  5b32509bb8a9f70142f6a769    None  5a95d7ae35d6d33d3fea56ff\n",
       "4  5b3277a3b8a9f70142f6a76b    None  5aa2c35e35d6d34b0032a796"
      ]
     },
     "execution_count": 41,
     "metadata": {},
     "output_type": "execute_result"
    }
   ],
   "source": [
    "validasi.head()"
   ]
  },
  {
   "cell_type": "code",
   "execution_count": 42,
   "metadata": {},
   "outputs": [
    {
     "data": {
      "text/html": [
       "<div>\n",
       "<style scoped>\n",
       "    .dataframe tbody tr th:only-of-type {\n",
       "        vertical-align: middle;\n",
       "    }\n",
       "\n",
       "    .dataframe tbody tr th {\n",
       "        vertical-align: top;\n",
       "    }\n",
       "\n",
       "    .dataframe thead th {\n",
       "        text-align: right;\n",
       "    }\n",
       "</style>\n",
       "<table border=\"1\" class=\"dataframe\">\n",
       "  <thead>\n",
       "    <tr style=\"text-align: right;\">\n",
       "      <th></th>\n",
       "      <th>idprod</th>\n",
       "      <th>minbeli_prod</th>\n",
       "      <th>id</th>\n",
       "      <th>minbeli_val</th>\n",
       "    </tr>\n",
       "  </thead>\n",
       "  <tbody>\n",
       "    <tr>\n",
       "      <th>0</th>\n",
       "      <td>5aa2ad7735d6d34b0032a795</td>\n",
       "      <td>1</td>\n",
       "      <td>5b32126eb8a9f70142f6a766</td>\n",
       "      <td>None</td>\n",
       "    </tr>\n",
       "    <tr>\n",
       "      <th>1</th>\n",
       "      <td>5aa39533ae1f941be7165ecd</td>\n",
       "      <td>1</td>\n",
       "      <td>5b322e9cb8a9f70142f6a767</td>\n",
       "      <td>None</td>\n",
       "    </tr>\n",
       "    <tr>\n",
       "      <th>2</th>\n",
       "      <td>5a93e8768cbad97881597597</td>\n",
       "      <td>5</td>\n",
       "      <td>5b324265b8a9f70142f6a768</td>\n",
       "      <td>None</td>\n",
       "    </tr>\n",
       "    <tr>\n",
       "      <th>3</th>\n",
       "      <td>5a95d7ae35d6d33d3fea56ff</td>\n",
       "      <td>1</td>\n",
       "      <td>5b32509bb8a9f70142f6a769</td>\n",
       "      <td>None</td>\n",
       "    </tr>\n",
       "    <tr>\n",
       "      <th>4</th>\n",
       "      <td>5aa274ad8cbad96d9a0c50be</td>\n",
       "      <td>1</td>\n",
       "      <td>5b326399b8a9f70142f6a76a</td>\n",
       "      <td>None</td>\n",
       "    </tr>\n",
       "  </tbody>\n",
       "</table>\n",
       "</div>"
      ],
      "text/plain": [
       "                     idprod  minbeli_prod                        id  \\\n",
       "0  5aa2ad7735d6d34b0032a795             1  5b32126eb8a9f70142f6a766   \n",
       "1  5aa39533ae1f941be7165ecd             1  5b322e9cb8a9f70142f6a767   \n",
       "2  5a93e8768cbad97881597597             5  5b324265b8a9f70142f6a768   \n",
       "3  5a95d7ae35d6d33d3fea56ff             1  5b32509bb8a9f70142f6a769   \n",
       "4  5aa274ad8cbad96d9a0c50be             1  5b326399b8a9f70142f6a76a   \n",
       "\n",
       "  minbeli_val  \n",
       "0        None  \n",
       "1        None  \n",
       "2        None  \n",
       "3        None  \n",
       "4        None  "
      ]
     },
     "execution_count": 42,
     "metadata": {},
     "output_type": "execute_result"
    }
   ],
   "source": [
    "minbeli = pd.merge(prod, validasi, how='inner', on='idprod', suffixes=('_prod', '_val'))\n",
    "minbeli.head()"
   ]
  },
  {
   "cell_type": "code",
   "execution_count": 43,
   "metadata": {},
   "outputs": [
    {
     "data": {
      "text/html": [
       "<div>\n",
       "<style scoped>\n",
       "    .dataframe tbody tr th:only-of-type {\n",
       "        vertical-align: middle;\n",
       "    }\n",
       "\n",
       "    .dataframe tbody tr th {\n",
       "        vertical-align: top;\n",
       "    }\n",
       "\n",
       "    .dataframe thead th {\n",
       "        text-align: right;\n",
       "    }\n",
       "</style>\n",
       "<table border=\"1\" class=\"dataframe\">\n",
       "  <thead>\n",
       "    <tr style=\"text-align: right;\">\n",
       "      <th></th>\n",
       "      <th>id</th>\n",
       "      <th>minbeli</th>\n",
       "    </tr>\n",
       "  </thead>\n",
       "  <tbody>\n",
       "    <tr>\n",
       "      <th>0</th>\n",
       "      <td>5b32126eb8a9f70142f6a766</td>\n",
       "      <td>1</td>\n",
       "    </tr>\n",
       "    <tr>\n",
       "      <th>1</th>\n",
       "      <td>5b322e9cb8a9f70142f6a767</td>\n",
       "      <td>1</td>\n",
       "    </tr>\n",
       "    <tr>\n",
       "      <th>2</th>\n",
       "      <td>5b324265b8a9f70142f6a768</td>\n",
       "      <td>5</td>\n",
       "    </tr>\n",
       "    <tr>\n",
       "      <th>3</th>\n",
       "      <td>5b32509bb8a9f70142f6a769</td>\n",
       "      <td>1</td>\n",
       "    </tr>\n",
       "    <tr>\n",
       "      <th>4</th>\n",
       "      <td>5b326399b8a9f70142f6a76a</td>\n",
       "      <td>1</td>\n",
       "    </tr>\n",
       "  </tbody>\n",
       "</table>\n",
       "</div>"
      ],
      "text/plain": [
       "                         id  minbeli\n",
       "0  5b32126eb8a9f70142f6a766        1\n",
       "1  5b322e9cb8a9f70142f6a767        1\n",
       "2  5b324265b8a9f70142f6a768        5\n",
       "3  5b32509bb8a9f70142f6a769        1\n",
       "4  5b326399b8a9f70142f6a76a        1"
      ]
     },
     "execution_count": 43,
     "metadata": {},
     "output_type": "execute_result"
    }
   ],
   "source": [
    "minbeli = minbeli[['id', 'minbeli_prod']]\n",
    "minbeli.columns = ['id', 'minbeli']\n",
    "minbeli.head()"
   ]
  },
  {
   "cell_type": "code",
   "execution_count": 44,
   "metadata": {},
   "outputs": [
    {
     "name": "stderr",
     "output_type": "stream",
     "text": [
      "  2%|▏         | 24/1582 [00:00<00:06, 231.05it/s]"
     ]
    },
    {
     "name": "stdout",
     "output_type": "stream",
     "text": [
      "Updating sql column 'minbeli'\n"
     ]
    },
    {
     "name": "stderr",
     "output_type": "stream",
     "text": [
      "100%|██████████| 1582/1582 [00:07<00:00, 224.78it/s]\n"
     ]
    }
   ],
   "source": [
    "def upMinbeli(connection, cursor, df):\n",
    "    # read csv file\n",
    "    minbeli = df\n",
    "\n",
    "    # update validasi.db 'minbeli' column\n",
    "    sqlc1 = 'UPDATE prodpage SET '\n",
    "    sqlc2 = 'minbeli = '\n",
    "    sqlc3 = 'WHERE id = '\n",
    "\n",
    "    print('Updating sql column \\'minbeli\\'')\n",
    "    for i in tqdm(range(len(minbeli))):\n",
    "        mongoid = minbeli.loc[i, 'id']\n",
    "        minpurchase = str(minbeli.loc[i, 'minbeli'])\n",
    "        sqlall = sqlc1 + sqlc2 + minpurchase + ' ' + sqlc3 + '\"' + mongoid + '\"'\n",
    "#        print(sqlall)\n",
    "        cursor.execute(sqlall)\n",
    "        connection.commit()\n",
    "\n",
    "upMinbeli(conn, c, minbeli)"
   ]
  },
  {
   "cell_type": "markdown",
   "metadata": {},
   "source": [
    "###### Fix 'merchanttype'"
   ]
  },
  {
   "cell_type": "code",
   "execution_count": 45,
   "metadata": {},
   "outputs": [],
   "source": [
    "# Database 1\n",
    "# product.db\n",
    "############\n",
    "# make connection to sqlite db\n",
    "conn1 = sqlite3.connect('product.db')\n",
    "c1 = conn1.cursor()\n",
    "\n",
    "# enable foreign keys\n",
    "c1.execute(\"PRAGMA foreign_keys = ON\")\n",
    "conn1.commit()\n",
    "\n",
    "# Database 2\n",
    "# validasi.db\n",
    "############\n",
    "# make connection to sqlite db\n",
    "conn2 = sqlite3.connect('validasi.db')\n",
    "c2 = conn2.cursor()\n",
    "\n",
    "# enable foreign keys\n",
    "c2.execute(\"PRAGMA foreign_keys = ON\")\n",
    "conn2.commit()\n",
    "\n",
    "# Query 1\n",
    "#########\n",
    "sqlc1 = 'SELECT id, merchanttype FROM prodpage'\n",
    "c1.execute(sqlc1)\n",
    "conn1.commit()\n",
    "prod = c1.fetchall()\n",
    "prod = pd.DataFrame(prod)\n",
    "prod.columns = ['idprod', 'merchanttype']\n",
    "\n",
    "# Query 2\n",
    "#########\n",
    "sqlc2 = 'SELECT id, merchanttype, idprod FROM prodpage'\n",
    "c2.execute(sqlc2)\n",
    "conn2.commit()\n",
    "validasi = c2.fetchall()\n",
    "validasi = pd.DataFrame(validasi)\n",
    "validasi.columns = ['id', 'merchanttype', 'idprod']"
   ]
  },
  {
   "cell_type": "code",
   "execution_count": 46,
   "metadata": {},
   "outputs": [
    {
     "data": {
      "text/plain": [
       "((41596, 2), (1582, 3))"
      ]
     },
     "execution_count": 46,
     "metadata": {},
     "output_type": "execute_result"
    }
   ],
   "source": [
    "prod.shape, validasi.shape"
   ]
  },
  {
   "cell_type": "code",
   "execution_count": 47,
   "metadata": {},
   "outputs": [
    {
     "data": {
      "text/html": [
       "<div>\n",
       "<style scoped>\n",
       "    .dataframe tbody tr th:only-of-type {\n",
       "        vertical-align: middle;\n",
       "    }\n",
       "\n",
       "    .dataframe tbody tr th {\n",
       "        vertical-align: top;\n",
       "    }\n",
       "\n",
       "    .dataframe thead th {\n",
       "        text-align: right;\n",
       "    }\n",
       "</style>\n",
       "<table border=\"1\" class=\"dataframe\">\n",
       "  <thead>\n",
       "    <tr style=\"text-align: right;\">\n",
       "      <th></th>\n",
       "      <th>idprod</th>\n",
       "      <th>merchanttype</th>\n",
       "    </tr>\n",
       "  </thead>\n",
       "  <tbody>\n",
       "    <tr>\n",
       "      <th>0</th>\n",
       "      <td>5aa2ad7735d6d34b0032a795</td>\n",
       "      <td>biasa</td>\n",
       "    </tr>\n",
       "    <tr>\n",
       "      <th>1</th>\n",
       "      <td>5aa39533ae1f941be7165ecd</td>\n",
       "      <td>gold</td>\n",
       "    </tr>\n",
       "    <tr>\n",
       "      <th>2</th>\n",
       "      <td>5a93e8768cbad97881597597</td>\n",
       "      <td>gold</td>\n",
       "    </tr>\n",
       "    <tr>\n",
       "      <th>3</th>\n",
       "      <td>5a95d7ae35d6d33d3fea56ff</td>\n",
       "      <td>gold</td>\n",
       "    </tr>\n",
       "    <tr>\n",
       "      <th>4</th>\n",
       "      <td>5aa274ad8cbad96d9a0c50be</td>\n",
       "      <td>gold</td>\n",
       "    </tr>\n",
       "  </tbody>\n",
       "</table>\n",
       "</div>"
      ],
      "text/plain": [
       "                     idprod merchanttype\n",
       "0  5aa2ad7735d6d34b0032a795        biasa\n",
       "1  5aa39533ae1f941be7165ecd         gold\n",
       "2  5a93e8768cbad97881597597         gold\n",
       "3  5a95d7ae35d6d33d3fea56ff         gold\n",
       "4  5aa274ad8cbad96d9a0c50be         gold"
      ]
     },
     "execution_count": 47,
     "metadata": {},
     "output_type": "execute_result"
    }
   ],
   "source": [
    "prod.head()"
   ]
  },
  {
   "cell_type": "code",
   "execution_count": 48,
   "metadata": {},
   "outputs": [
    {
     "data": {
      "text/html": [
       "<div>\n",
       "<style scoped>\n",
       "    .dataframe tbody tr th:only-of-type {\n",
       "        vertical-align: middle;\n",
       "    }\n",
       "\n",
       "    .dataframe tbody tr th {\n",
       "        vertical-align: top;\n",
       "    }\n",
       "\n",
       "    .dataframe thead th {\n",
       "        text-align: right;\n",
       "    }\n",
       "</style>\n",
       "<table border=\"1\" class=\"dataframe\">\n",
       "  <thead>\n",
       "    <tr style=\"text-align: right;\">\n",
       "      <th></th>\n",
       "      <th>id</th>\n",
       "      <th>merchanttype</th>\n",
       "      <th>idprod</th>\n",
       "    </tr>\n",
       "  </thead>\n",
       "  <tbody>\n",
       "    <tr>\n",
       "      <th>0</th>\n",
       "      <td>5b32126eb8a9f70142f6a766</td>\n",
       "      <td>bigoldsgold</td>\n",
       "      <td>5aa2ad7735d6d34b0032a795</td>\n",
       "    </tr>\n",
       "    <tr>\n",
       "      <th>1</th>\n",
       "      <td>5b322e9cb8a9f70142f6a767</td>\n",
       "      <td>None</td>\n",
       "      <td>5aa39533ae1f941be7165ecd</td>\n",
       "    </tr>\n",
       "    <tr>\n",
       "      <th>2</th>\n",
       "      <td>5b346235b8a9f70142f6a786</td>\n",
       "      <td>bigoldsgold</td>\n",
       "      <td>5aa54e9c35d6d336b75ec484</td>\n",
       "    </tr>\n",
       "    <tr>\n",
       "      <th>3</th>\n",
       "      <td>5b32509bb8a9f70142f6a769</td>\n",
       "      <td>None</td>\n",
       "      <td>5a95d7ae35d6d33d3fea56ff</td>\n",
       "    </tr>\n",
       "    <tr>\n",
       "      <th>4</th>\n",
       "      <td>5b3277a3b8a9f70142f6a76b</td>\n",
       "      <td>bigoldsgold</td>\n",
       "      <td>5aa2c35e35d6d34b0032a796</td>\n",
       "    </tr>\n",
       "  </tbody>\n",
       "</table>\n",
       "</div>"
      ],
      "text/plain": [
       "                         id merchanttype                    idprod\n",
       "0  5b32126eb8a9f70142f6a766  bigoldsgold  5aa2ad7735d6d34b0032a795\n",
       "1  5b322e9cb8a9f70142f6a767         None  5aa39533ae1f941be7165ecd\n",
       "2  5b346235b8a9f70142f6a786  bigoldsgold  5aa54e9c35d6d336b75ec484\n",
       "3  5b32509bb8a9f70142f6a769         None  5a95d7ae35d6d33d3fea56ff\n",
       "4  5b3277a3b8a9f70142f6a76b  bigoldsgold  5aa2c35e35d6d34b0032a796"
      ]
     },
     "execution_count": 48,
     "metadata": {},
     "output_type": "execute_result"
    }
   ],
   "source": [
    "validasi.head()"
   ]
  },
  {
   "cell_type": "code",
   "execution_count": 49,
   "metadata": {},
   "outputs": [
    {
     "data": {
      "text/html": [
       "<div>\n",
       "<style scoped>\n",
       "    .dataframe tbody tr th:only-of-type {\n",
       "        vertical-align: middle;\n",
       "    }\n",
       "\n",
       "    .dataframe tbody tr th {\n",
       "        vertical-align: top;\n",
       "    }\n",
       "\n",
       "    .dataframe thead th {\n",
       "        text-align: right;\n",
       "    }\n",
       "</style>\n",
       "<table border=\"1\" class=\"dataframe\">\n",
       "  <thead>\n",
       "    <tr style=\"text-align: right;\">\n",
       "      <th></th>\n",
       "      <th>idprod</th>\n",
       "      <th>merchanttype_prod</th>\n",
       "      <th>id</th>\n",
       "      <th>merchanttype_val</th>\n",
       "    </tr>\n",
       "  </thead>\n",
       "  <tbody>\n",
       "    <tr>\n",
       "      <th>0</th>\n",
       "      <td>5aa2ad7735d6d34b0032a795</td>\n",
       "      <td>biasa</td>\n",
       "      <td>5b32126eb8a9f70142f6a766</td>\n",
       "      <td>bigoldsgold</td>\n",
       "    </tr>\n",
       "    <tr>\n",
       "      <th>1</th>\n",
       "      <td>5aa39533ae1f941be7165ecd</td>\n",
       "      <td>gold</td>\n",
       "      <td>5b322e9cb8a9f70142f6a767</td>\n",
       "      <td>None</td>\n",
       "    </tr>\n",
       "    <tr>\n",
       "      <th>2</th>\n",
       "      <td>5a93e8768cbad97881597597</td>\n",
       "      <td>gold</td>\n",
       "      <td>5b324265b8a9f70142f6a768</td>\n",
       "      <td>None</td>\n",
       "    </tr>\n",
       "    <tr>\n",
       "      <th>3</th>\n",
       "      <td>5a95d7ae35d6d33d3fea56ff</td>\n",
       "      <td>gold</td>\n",
       "      <td>5b32509bb8a9f70142f6a769</td>\n",
       "      <td>None</td>\n",
       "    </tr>\n",
       "    <tr>\n",
       "      <th>4</th>\n",
       "      <td>5aa274ad8cbad96d9a0c50be</td>\n",
       "      <td>gold</td>\n",
       "      <td>5b326399b8a9f70142f6a76a</td>\n",
       "      <td>None</td>\n",
       "    </tr>\n",
       "  </tbody>\n",
       "</table>\n",
       "</div>"
      ],
      "text/plain": [
       "                     idprod merchanttype_prod                        id  \\\n",
       "0  5aa2ad7735d6d34b0032a795             biasa  5b32126eb8a9f70142f6a766   \n",
       "1  5aa39533ae1f941be7165ecd              gold  5b322e9cb8a9f70142f6a767   \n",
       "2  5a93e8768cbad97881597597              gold  5b324265b8a9f70142f6a768   \n",
       "3  5a95d7ae35d6d33d3fea56ff              gold  5b32509bb8a9f70142f6a769   \n",
       "4  5aa274ad8cbad96d9a0c50be              gold  5b326399b8a9f70142f6a76a   \n",
       "\n",
       "  merchanttype_val  \n",
       "0      bigoldsgold  \n",
       "1             None  \n",
       "2             None  \n",
       "3             None  \n",
       "4             None  "
      ]
     },
     "execution_count": 49,
     "metadata": {},
     "output_type": "execute_result"
    }
   ],
   "source": [
    "merchanttype = pd.merge(prod, validasi, how='inner', on='idprod', suffixes=('_prod', '_val'))\n",
    "merchanttype.head()"
   ]
  },
  {
   "cell_type": "code",
   "execution_count": 50,
   "metadata": {},
   "outputs": [
    {
     "data": {
      "text/plain": [
       "(1582, 4)"
      ]
     },
     "execution_count": 50,
     "metadata": {},
     "output_type": "execute_result"
    }
   ],
   "source": [
    "merchanttype.shape"
   ]
  },
  {
   "cell_type": "code",
   "execution_count": 51,
   "metadata": {},
   "outputs": [
    {
     "data": {
      "text/html": [
       "<div>\n",
       "<style scoped>\n",
       "    .dataframe tbody tr th:only-of-type {\n",
       "        vertical-align: middle;\n",
       "    }\n",
       "\n",
       "    .dataframe tbody tr th {\n",
       "        vertical-align: top;\n",
       "    }\n",
       "\n",
       "    .dataframe thead th {\n",
       "        text-align: right;\n",
       "    }\n",
       "</style>\n",
       "<table border=\"1\" class=\"dataframe\">\n",
       "  <thead>\n",
       "    <tr style=\"text-align: right;\">\n",
       "      <th></th>\n",
       "      <th>id</th>\n",
       "      <th>merchanttype</th>\n",
       "    </tr>\n",
       "  </thead>\n",
       "  <tbody>\n",
       "    <tr>\n",
       "      <th>0</th>\n",
       "      <td>5b32126eb8a9f70142f6a766</td>\n",
       "      <td>biasa</td>\n",
       "    </tr>\n",
       "    <tr>\n",
       "      <th>1</th>\n",
       "      <td>5b322e9cb8a9f70142f6a767</td>\n",
       "      <td>gold</td>\n",
       "    </tr>\n",
       "    <tr>\n",
       "      <th>2</th>\n",
       "      <td>5b324265b8a9f70142f6a768</td>\n",
       "      <td>gold</td>\n",
       "    </tr>\n",
       "    <tr>\n",
       "      <th>3</th>\n",
       "      <td>5b32509bb8a9f70142f6a769</td>\n",
       "      <td>gold</td>\n",
       "    </tr>\n",
       "    <tr>\n",
       "      <th>4</th>\n",
       "      <td>5b326399b8a9f70142f6a76a</td>\n",
       "      <td>gold</td>\n",
       "    </tr>\n",
       "  </tbody>\n",
       "</table>\n",
       "</div>"
      ],
      "text/plain": [
       "                         id merchanttype\n",
       "0  5b32126eb8a9f70142f6a766        biasa\n",
       "1  5b322e9cb8a9f70142f6a767         gold\n",
       "2  5b324265b8a9f70142f6a768         gold\n",
       "3  5b32509bb8a9f70142f6a769         gold\n",
       "4  5b326399b8a9f70142f6a76a         gold"
      ]
     },
     "execution_count": 51,
     "metadata": {},
     "output_type": "execute_result"
    }
   ],
   "source": [
    "merchanttype = merchanttype[['id', 'merchanttype_prod']]\n",
    "merchanttype.columns = ['id', 'merchanttype']\n",
    "merchanttype.head()"
   ]
  },
  {
   "cell_type": "code",
   "execution_count": 52,
   "metadata": {},
   "outputs": [
    {
     "name": "stderr",
     "output_type": "stream",
     "text": [
      "  1%|          | 16/1582 [00:00<00:10, 154.51it/s]"
     ]
    },
    {
     "name": "stdout",
     "output_type": "stream",
     "text": [
      "Updating sql column 'merchanttype'\n"
     ]
    },
    {
     "name": "stderr",
     "output_type": "stream",
     "text": [
      "100%|██████████| 1582/1582 [00:07<00:00, 222.67it/s]\n"
     ]
    }
   ],
   "source": [
    "def upMerchant(connection, cursor, df):\n",
    "    # read csv file\n",
    "    merchanttype = df\n",
    "\n",
    "    # update validasi.db 'merchanttype' column\n",
    "    sqlc1 = 'UPDATE prodpage SET '\n",
    "    sqlc2 = 'merchanttype = '\n",
    "    sqlc3 = 'WHERE id = '\n",
    "\n",
    "    print('Updating sql column \\'merchanttype\\'')\n",
    "    for i in tqdm(range(len(merchanttype))):\n",
    "        mongoid = merchanttype.loc[i, 'id']\n",
    "        merchant = str(merchanttype.loc[i, 'merchanttype'])\n",
    "        sqlall = sqlc1 + sqlc2 + '\"'+merchant+'\"' + ' ' + sqlc3 + '\"' + mongoid + '\"'\n",
    "#       print(sqlall)\n",
    "        cursor.execute(sqlall)\n",
    "        connection.commit()\n",
    "\n",
    "upMerchant(conn, c, merchanttype)"
   ]
  },
  {
   "cell_type": "markdown",
   "metadata": {},
   "source": [
    "###### update 'ranking'"
   ]
  },
  {
   "cell_type": "code",
   "execution_count": 53,
   "metadata": {},
   "outputs": [],
   "source": [
    "# Database 1\n",
    "# product.db\n",
    "############\n",
    "# make connection to sqlite db\n",
    "conn1 = sqlite3.connect('product.db')\n",
    "c1 = conn1.cursor()\n",
    "\n",
    "# enable foreign keys\n",
    "c1.execute(\"PRAGMA foreign_keys = ON\")\n",
    "conn1.commit()\n",
    "\n",
    "# Database 2\n",
    "# validasi.db\n",
    "############\n",
    "# make connection to sqlite db\n",
    "conn2 = sqlite3.connect('validasi.db')\n",
    "c2 = conn2.cursor()\n",
    "\n",
    "# enable foreign keys\n",
    "c2.execute(\"PRAGMA foreign_keys = ON\")\n",
    "conn2.commit()\n",
    "\n",
    "# Query 1\n",
    "#########\n",
    "sqlc1 = 'SELECT id, ranking FROM prodpage'\n",
    "c1.execute(sqlc1)\n",
    "conn1.commit()\n",
    "prod = c1.fetchall()\n",
    "prod = pd.DataFrame(prod)\n",
    "prod.columns = ['idprod', 'ranking']\n",
    "\n",
    "# Query 2\n",
    "#########\n",
    "sqlc2 = 'SELECT id, ranking, idprod FROM prodpage'\n",
    "c2.execute(sqlc2)\n",
    "conn2.commit()\n",
    "validasi = c2.fetchall()\n",
    "validasi = pd.DataFrame(validasi)\n",
    "validasi.columns = ['id', 'ranking', 'idprod']"
   ]
  },
  {
   "cell_type": "code",
   "execution_count": 54,
   "metadata": {},
   "outputs": [
    {
     "data": {
      "text/plain": [
       "((41596, 2), (1582, 3))"
      ]
     },
     "execution_count": 54,
     "metadata": {},
     "output_type": "execute_result"
    }
   ],
   "source": [
    "prod.shape, validasi.shape"
   ]
  },
  {
   "cell_type": "code",
   "execution_count": 55,
   "metadata": {},
   "outputs": [
    {
     "data": {
      "text/html": [
       "<div>\n",
       "<style scoped>\n",
       "    .dataframe tbody tr th:only-of-type {\n",
       "        vertical-align: middle;\n",
       "    }\n",
       "\n",
       "    .dataframe tbody tr th {\n",
       "        vertical-align: top;\n",
       "    }\n",
       "\n",
       "    .dataframe thead th {\n",
       "        text-align: right;\n",
       "    }\n",
       "</style>\n",
       "<table border=\"1\" class=\"dataframe\">\n",
       "  <thead>\n",
       "    <tr style=\"text-align: right;\">\n",
       "      <th></th>\n",
       "      <th>idprod</th>\n",
       "      <th>ranking</th>\n",
       "    </tr>\n",
       "  </thead>\n",
       "  <tbody>\n",
       "    <tr>\n",
       "      <th>0</th>\n",
       "      <td>5aa2ad7735d6d34b0032a795</td>\n",
       "      <td>41580.0</td>\n",
       "    </tr>\n",
       "    <tr>\n",
       "      <th>1</th>\n",
       "      <td>5aa39533ae1f941be7165ecd</td>\n",
       "      <td>41233.5</td>\n",
       "    </tr>\n",
       "    <tr>\n",
       "      <th>2</th>\n",
       "      <td>5a93e8768cbad97881597597</td>\n",
       "      <td>41571.0</td>\n",
       "    </tr>\n",
       "    <tr>\n",
       "      <th>3</th>\n",
       "      <td>5a95d7ae35d6d33d3fea56ff</td>\n",
       "      <td>41052.5</td>\n",
       "    </tr>\n",
       "    <tr>\n",
       "      <th>4</th>\n",
       "      <td>5aa274ad8cbad96d9a0c50be</td>\n",
       "      <td>40821.5</td>\n",
       "    </tr>\n",
       "  </tbody>\n",
       "</table>\n",
       "</div>"
      ],
      "text/plain": [
       "                     idprod  ranking\n",
       "0  5aa2ad7735d6d34b0032a795  41580.0\n",
       "1  5aa39533ae1f941be7165ecd  41233.5\n",
       "2  5a93e8768cbad97881597597  41571.0\n",
       "3  5a95d7ae35d6d33d3fea56ff  41052.5\n",
       "4  5aa274ad8cbad96d9a0c50be  40821.5"
      ]
     },
     "execution_count": 55,
     "metadata": {},
     "output_type": "execute_result"
    }
   ],
   "source": [
    "prod.head()"
   ]
  },
  {
   "cell_type": "code",
   "execution_count": 56,
   "metadata": {},
   "outputs": [
    {
     "data": {
      "text/html": [
       "<div>\n",
       "<style scoped>\n",
       "    .dataframe tbody tr th:only-of-type {\n",
       "        vertical-align: middle;\n",
       "    }\n",
       "\n",
       "    .dataframe tbody tr th {\n",
       "        vertical-align: top;\n",
       "    }\n",
       "\n",
       "    .dataframe thead th {\n",
       "        text-align: right;\n",
       "    }\n",
       "</style>\n",
       "<table border=\"1\" class=\"dataframe\">\n",
       "  <thead>\n",
       "    <tr style=\"text-align: right;\">\n",
       "      <th></th>\n",
       "      <th>id</th>\n",
       "      <th>ranking</th>\n",
       "      <th>idprod</th>\n",
       "    </tr>\n",
       "  </thead>\n",
       "  <tbody>\n",
       "    <tr>\n",
       "      <th>0</th>\n",
       "      <td>5b32126eb8a9f70142f6a766</td>\n",
       "      <td>0</td>\n",
       "      <td>5aa2ad7735d6d34b0032a795</td>\n",
       "    </tr>\n",
       "    <tr>\n",
       "      <th>1</th>\n",
       "      <td>5b322e9cb8a9f70142f6a767</td>\n",
       "      <td>0</td>\n",
       "      <td>5aa39533ae1f941be7165ecd</td>\n",
       "    </tr>\n",
       "    <tr>\n",
       "      <th>2</th>\n",
       "      <td>5b346235b8a9f70142f6a786</td>\n",
       "      <td>0</td>\n",
       "      <td>5aa54e9c35d6d336b75ec484</td>\n",
       "    </tr>\n",
       "    <tr>\n",
       "      <th>3</th>\n",
       "      <td>5b32509bb8a9f70142f6a769</td>\n",
       "      <td>0</td>\n",
       "      <td>5a95d7ae35d6d33d3fea56ff</td>\n",
       "    </tr>\n",
       "    <tr>\n",
       "      <th>4</th>\n",
       "      <td>5b3277a3b8a9f70142f6a76b</td>\n",
       "      <td>0</td>\n",
       "      <td>5aa2c35e35d6d34b0032a796</td>\n",
       "    </tr>\n",
       "  </tbody>\n",
       "</table>\n",
       "</div>"
      ],
      "text/plain": [
       "                         id  ranking                    idprod\n",
       "0  5b32126eb8a9f70142f6a766        0  5aa2ad7735d6d34b0032a795\n",
       "1  5b322e9cb8a9f70142f6a767        0  5aa39533ae1f941be7165ecd\n",
       "2  5b346235b8a9f70142f6a786        0  5aa54e9c35d6d336b75ec484\n",
       "3  5b32509bb8a9f70142f6a769        0  5a95d7ae35d6d33d3fea56ff\n",
       "4  5b3277a3b8a9f70142f6a76b        0  5aa2c35e35d6d34b0032a796"
      ]
     },
     "execution_count": 56,
     "metadata": {},
     "output_type": "execute_result"
    }
   ],
   "source": [
    "validasi.head()"
   ]
  },
  {
   "cell_type": "code",
   "execution_count": 57,
   "metadata": {},
   "outputs": [
    {
     "data": {
      "text/html": [
       "<div>\n",
       "<style scoped>\n",
       "    .dataframe tbody tr th:only-of-type {\n",
       "        vertical-align: middle;\n",
       "    }\n",
       "\n",
       "    .dataframe tbody tr th {\n",
       "        vertical-align: top;\n",
       "    }\n",
       "\n",
       "    .dataframe thead th {\n",
       "        text-align: right;\n",
       "    }\n",
       "</style>\n",
       "<table border=\"1\" class=\"dataframe\">\n",
       "  <thead>\n",
       "    <tr style=\"text-align: right;\">\n",
       "      <th></th>\n",
       "      <th>idprod</th>\n",
       "      <th>ranking_prod</th>\n",
       "      <th>id</th>\n",
       "      <th>ranking_val</th>\n",
       "    </tr>\n",
       "  </thead>\n",
       "  <tbody>\n",
       "    <tr>\n",
       "      <th>0</th>\n",
       "      <td>5aa2ad7735d6d34b0032a795</td>\n",
       "      <td>41580.0</td>\n",
       "      <td>5b32126eb8a9f70142f6a766</td>\n",
       "      <td>0</td>\n",
       "    </tr>\n",
       "    <tr>\n",
       "      <th>1</th>\n",
       "      <td>5aa39533ae1f941be7165ecd</td>\n",
       "      <td>41233.5</td>\n",
       "      <td>5b322e9cb8a9f70142f6a767</td>\n",
       "      <td>0</td>\n",
       "    </tr>\n",
       "    <tr>\n",
       "      <th>2</th>\n",
       "      <td>5a93e8768cbad97881597597</td>\n",
       "      <td>41571.0</td>\n",
       "      <td>5b324265b8a9f70142f6a768</td>\n",
       "      <td>0</td>\n",
       "    </tr>\n",
       "    <tr>\n",
       "      <th>3</th>\n",
       "      <td>5a95d7ae35d6d33d3fea56ff</td>\n",
       "      <td>41052.5</td>\n",
       "      <td>5b32509bb8a9f70142f6a769</td>\n",
       "      <td>0</td>\n",
       "    </tr>\n",
       "    <tr>\n",
       "      <th>4</th>\n",
       "      <td>5aa274ad8cbad96d9a0c50be</td>\n",
       "      <td>40821.5</td>\n",
       "      <td>5b326399b8a9f70142f6a76a</td>\n",
       "      <td>0</td>\n",
       "    </tr>\n",
       "  </tbody>\n",
       "</table>\n",
       "</div>"
      ],
      "text/plain": [
       "                     idprod  ranking_prod                        id  \\\n",
       "0  5aa2ad7735d6d34b0032a795       41580.0  5b32126eb8a9f70142f6a766   \n",
       "1  5aa39533ae1f941be7165ecd       41233.5  5b322e9cb8a9f70142f6a767   \n",
       "2  5a93e8768cbad97881597597       41571.0  5b324265b8a9f70142f6a768   \n",
       "3  5a95d7ae35d6d33d3fea56ff       41052.5  5b32509bb8a9f70142f6a769   \n",
       "4  5aa274ad8cbad96d9a0c50be       40821.5  5b326399b8a9f70142f6a76a   \n",
       "\n",
       "   ranking_val  \n",
       "0            0  \n",
       "1            0  \n",
       "2            0  \n",
       "3            0  \n",
       "4            0  "
      ]
     },
     "execution_count": 57,
     "metadata": {},
     "output_type": "execute_result"
    }
   ],
   "source": [
    "ranking = pd.merge(prod, validasi, how='inner', on='idprod', suffixes=('_prod', '_val'))\n",
    "ranking.head()"
   ]
  },
  {
   "cell_type": "code",
   "execution_count": 58,
   "metadata": {},
   "outputs": [
    {
     "data": {
      "text/plain": [
       "(1582, 4)"
      ]
     },
     "execution_count": 58,
     "metadata": {},
     "output_type": "execute_result"
    }
   ],
   "source": [
    "ranking.shape"
   ]
  },
  {
   "cell_type": "code",
   "execution_count": 59,
   "metadata": {},
   "outputs": [
    {
     "data": {
      "text/html": [
       "<div>\n",
       "<style scoped>\n",
       "    .dataframe tbody tr th:only-of-type {\n",
       "        vertical-align: middle;\n",
       "    }\n",
       "\n",
       "    .dataframe tbody tr th {\n",
       "        vertical-align: top;\n",
       "    }\n",
       "\n",
       "    .dataframe thead th {\n",
       "        text-align: right;\n",
       "    }\n",
       "</style>\n",
       "<table border=\"1\" class=\"dataframe\">\n",
       "  <thead>\n",
       "    <tr style=\"text-align: right;\">\n",
       "      <th></th>\n",
       "      <th>id</th>\n",
       "      <th>ranking</th>\n",
       "    </tr>\n",
       "  </thead>\n",
       "  <tbody>\n",
       "    <tr>\n",
       "      <th>0</th>\n",
       "      <td>5b32126eb8a9f70142f6a766</td>\n",
       "      <td>41580.0</td>\n",
       "    </tr>\n",
       "    <tr>\n",
       "      <th>1</th>\n",
       "      <td>5b322e9cb8a9f70142f6a767</td>\n",
       "      <td>41233.5</td>\n",
       "    </tr>\n",
       "    <tr>\n",
       "      <th>2</th>\n",
       "      <td>5b324265b8a9f70142f6a768</td>\n",
       "      <td>41571.0</td>\n",
       "    </tr>\n",
       "    <tr>\n",
       "      <th>3</th>\n",
       "      <td>5b32509bb8a9f70142f6a769</td>\n",
       "      <td>41052.5</td>\n",
       "    </tr>\n",
       "    <tr>\n",
       "      <th>4</th>\n",
       "      <td>5b326399b8a9f70142f6a76a</td>\n",
       "      <td>40821.5</td>\n",
       "    </tr>\n",
       "  </tbody>\n",
       "</table>\n",
       "</div>"
      ],
      "text/plain": [
       "                         id  ranking\n",
       "0  5b32126eb8a9f70142f6a766  41580.0\n",
       "1  5b322e9cb8a9f70142f6a767  41233.5\n",
       "2  5b324265b8a9f70142f6a768  41571.0\n",
       "3  5b32509bb8a9f70142f6a769  41052.5\n",
       "4  5b326399b8a9f70142f6a76a  40821.5"
      ]
     },
     "execution_count": 59,
     "metadata": {},
     "output_type": "execute_result"
    }
   ],
   "source": [
    "ranking = ranking[['id', 'ranking_prod']]\n",
    "ranking.columns = ['id', 'ranking']\n",
    "ranking.head()"
   ]
  },
  {
   "cell_type": "code",
   "execution_count": 60,
   "metadata": {},
   "outputs": [
    {
     "name": "stderr",
     "output_type": "stream",
     "text": [
      "  1%|▏         | 23/1582 [00:00<00:06, 228.47it/s]"
     ]
    },
    {
     "name": "stdout",
     "output_type": "stream",
     "text": [
      "Updating sql column 'ranking'\n"
     ]
    },
    {
     "name": "stderr",
     "output_type": "stream",
     "text": [
      "100%|██████████| 1582/1582 [00:07<00:00, 223.29it/s]\n"
     ]
    }
   ],
   "source": [
    "def upRanking(connection, cursor, df):\n",
    "    # read csv file\n",
    "    ranking = df\n",
    "\n",
    "    # update validasi.db 'merchanttype' column\n",
    "    sqlc1 = 'UPDATE prodpage SET '\n",
    "    sqlc2 = 'ranking = '\n",
    "    sqlc3 = 'WHERE id = '\n",
    "\n",
    "    print('Updating sql column \\'ranking\\'')\n",
    "    for i in tqdm(range(len(ranking))):\n",
    "        mongoid = ranking.loc[i, 'id']\n",
    "        rank = str(ranking.loc[i, 'ranking'])\n",
    "        sqlall = sqlc1 + sqlc2 + rank + ' ' + sqlc3 + '\"' + mongoid + '\"'\n",
    "#        print(sqlall)\n",
    "        cursor.execute(sqlall)\n",
    "        connection.commit()\n",
    "\n",
    "upRanking(conn, c, ranking)"
   ]
  },
  {
   "cell_type": "markdown",
   "metadata": {},
   "source": [
    "###### update 'salescluster'"
   ]
  },
  {
   "cell_type": "code",
   "execution_count": 61,
   "metadata": {},
   "outputs": [],
   "source": [
    "# Database 1\n",
    "# product.db\n",
    "############\n",
    "# make connection to sqlite db\n",
    "conn1 = sqlite3.connect('product.db')\n",
    "c1 = conn1.cursor()\n",
    "\n",
    "# enable foreign keys\n",
    "c1.execute(\"PRAGMA foreign_keys = ON\")\n",
    "conn1.commit()\n",
    "\n",
    "# Database 2\n",
    "# validasi.db\n",
    "############\n",
    "# make connection to sqlite db\n",
    "conn2 = sqlite3.connect('validasi.db')\n",
    "c2 = conn2.cursor()\n",
    "\n",
    "# enable foreign keys\n",
    "c2.execute(\"PRAGMA foreign_keys = ON\")\n",
    "conn2.commit()\n",
    "\n",
    "# Query 1\n",
    "#########\n",
    "sqlc1 = 'SELECT id, salescluster FROM prodpage'\n",
    "c1.execute(sqlc1)\n",
    "conn1.commit()\n",
    "prod = c1.fetchall()\n",
    "prod = pd.DataFrame(prod)\n",
    "prod.columns = ['idprod', 'salescluster']\n",
    "\n",
    "# Query 2\n",
    "#########\n",
    "sqlc2 = 'SELECT id, salescluster, idprod FROM prodpage'\n",
    "c2.execute(sqlc2)\n",
    "conn2.commit()\n",
    "validasi = c2.fetchall()\n",
    "validasi = pd.DataFrame(validasi)\n",
    "validasi.columns = ['id', 'salescluster', 'idprod']"
   ]
  },
  {
   "cell_type": "code",
   "execution_count": 62,
   "metadata": {},
   "outputs": [
    {
     "data": {
      "text/plain": [
       "((41596, 2), (1582, 3))"
      ]
     },
     "execution_count": 62,
     "metadata": {},
     "output_type": "execute_result"
    }
   ],
   "source": [
    "prod.shape, validasi.shape"
   ]
  },
  {
   "cell_type": "code",
   "execution_count": 63,
   "metadata": {},
   "outputs": [
    {
     "data": {
      "text/html": [
       "<div>\n",
       "<style scoped>\n",
       "    .dataframe tbody tr th:only-of-type {\n",
       "        vertical-align: middle;\n",
       "    }\n",
       "\n",
       "    .dataframe tbody tr th {\n",
       "        vertical-align: top;\n",
       "    }\n",
       "\n",
       "    .dataframe thead th {\n",
       "        text-align: right;\n",
       "    }\n",
       "</style>\n",
       "<table border=\"1\" class=\"dataframe\">\n",
       "  <thead>\n",
       "    <tr style=\"text-align: right;\">\n",
       "      <th></th>\n",
       "      <th>idprod</th>\n",
       "      <th>salescluster</th>\n",
       "    </tr>\n",
       "  </thead>\n",
       "  <tbody>\n",
       "    <tr>\n",
       "      <th>0</th>\n",
       "      <td>5aa2ad7735d6d34b0032a795</td>\n",
       "      <td>3.0</td>\n",
       "    </tr>\n",
       "    <tr>\n",
       "      <th>1</th>\n",
       "      <td>5aa39533ae1f941be7165ecd</td>\n",
       "      <td>3.0</td>\n",
       "    </tr>\n",
       "    <tr>\n",
       "      <th>2</th>\n",
       "      <td>5a93e8768cbad97881597597</td>\n",
       "      <td>3.0</td>\n",
       "    </tr>\n",
       "    <tr>\n",
       "      <th>3</th>\n",
       "      <td>5a95d7ae35d6d33d3fea56ff</td>\n",
       "      <td>3.0</td>\n",
       "    </tr>\n",
       "    <tr>\n",
       "      <th>4</th>\n",
       "      <td>5aa274ad8cbad96d9a0c50be</td>\n",
       "      <td>3.0</td>\n",
       "    </tr>\n",
       "  </tbody>\n",
       "</table>\n",
       "</div>"
      ],
      "text/plain": [
       "                     idprod  salescluster\n",
       "0  5aa2ad7735d6d34b0032a795           3.0\n",
       "1  5aa39533ae1f941be7165ecd           3.0\n",
       "2  5a93e8768cbad97881597597           3.0\n",
       "3  5a95d7ae35d6d33d3fea56ff           3.0\n",
       "4  5aa274ad8cbad96d9a0c50be           3.0"
      ]
     },
     "execution_count": 63,
     "metadata": {},
     "output_type": "execute_result"
    }
   ],
   "source": [
    "prod.head()"
   ]
  },
  {
   "cell_type": "code",
   "execution_count": 64,
   "metadata": {},
   "outputs": [
    {
     "data": {
      "text/html": [
       "<div>\n",
       "<style scoped>\n",
       "    .dataframe tbody tr th:only-of-type {\n",
       "        vertical-align: middle;\n",
       "    }\n",
       "\n",
       "    .dataframe tbody tr th {\n",
       "        vertical-align: top;\n",
       "    }\n",
       "\n",
       "    .dataframe thead th {\n",
       "        text-align: right;\n",
       "    }\n",
       "</style>\n",
       "<table border=\"1\" class=\"dataframe\">\n",
       "  <thead>\n",
       "    <tr style=\"text-align: right;\">\n",
       "      <th></th>\n",
       "      <th>id</th>\n",
       "      <th>salescluster</th>\n",
       "      <th>idprod</th>\n",
       "    </tr>\n",
       "  </thead>\n",
       "  <tbody>\n",
       "    <tr>\n",
       "      <th>0</th>\n",
       "      <td>5b32126eb8a9f70142f6a766</td>\n",
       "      <td>None</td>\n",
       "      <td>5aa2ad7735d6d34b0032a795</td>\n",
       "    </tr>\n",
       "    <tr>\n",
       "      <th>1</th>\n",
       "      <td>5b322e9cb8a9f70142f6a767</td>\n",
       "      <td>None</td>\n",
       "      <td>5aa39533ae1f941be7165ecd</td>\n",
       "    </tr>\n",
       "    <tr>\n",
       "      <th>2</th>\n",
       "      <td>5b346235b8a9f70142f6a786</td>\n",
       "      <td>None</td>\n",
       "      <td>5aa54e9c35d6d336b75ec484</td>\n",
       "    </tr>\n",
       "    <tr>\n",
       "      <th>3</th>\n",
       "      <td>5b32509bb8a9f70142f6a769</td>\n",
       "      <td>None</td>\n",
       "      <td>5a95d7ae35d6d33d3fea56ff</td>\n",
       "    </tr>\n",
       "    <tr>\n",
       "      <th>4</th>\n",
       "      <td>5b3277a3b8a9f70142f6a76b</td>\n",
       "      <td>None</td>\n",
       "      <td>5aa2c35e35d6d34b0032a796</td>\n",
       "    </tr>\n",
       "  </tbody>\n",
       "</table>\n",
       "</div>"
      ],
      "text/plain": [
       "                         id salescluster                    idprod\n",
       "0  5b32126eb8a9f70142f6a766         None  5aa2ad7735d6d34b0032a795\n",
       "1  5b322e9cb8a9f70142f6a767         None  5aa39533ae1f941be7165ecd\n",
       "2  5b346235b8a9f70142f6a786         None  5aa54e9c35d6d336b75ec484\n",
       "3  5b32509bb8a9f70142f6a769         None  5a95d7ae35d6d33d3fea56ff\n",
       "4  5b3277a3b8a9f70142f6a76b         None  5aa2c35e35d6d34b0032a796"
      ]
     },
     "execution_count": 64,
     "metadata": {},
     "output_type": "execute_result"
    }
   ],
   "source": [
    "validasi.head()"
   ]
  },
  {
   "cell_type": "code",
   "execution_count": 65,
   "metadata": {},
   "outputs": [
    {
     "data": {
      "text/html": [
       "<div>\n",
       "<style scoped>\n",
       "    .dataframe tbody tr th:only-of-type {\n",
       "        vertical-align: middle;\n",
       "    }\n",
       "\n",
       "    .dataframe tbody tr th {\n",
       "        vertical-align: top;\n",
       "    }\n",
       "\n",
       "    .dataframe thead th {\n",
       "        text-align: right;\n",
       "    }\n",
       "</style>\n",
       "<table border=\"1\" class=\"dataframe\">\n",
       "  <thead>\n",
       "    <tr style=\"text-align: right;\">\n",
       "      <th></th>\n",
       "      <th>idprod</th>\n",
       "      <th>salescluster_prod</th>\n",
       "      <th>id</th>\n",
       "      <th>salescluster_val</th>\n",
       "    </tr>\n",
       "  </thead>\n",
       "  <tbody>\n",
       "    <tr>\n",
       "      <th>0</th>\n",
       "      <td>5aa2ad7735d6d34b0032a795</td>\n",
       "      <td>3.0</td>\n",
       "      <td>5b32126eb8a9f70142f6a766</td>\n",
       "      <td>None</td>\n",
       "    </tr>\n",
       "    <tr>\n",
       "      <th>1</th>\n",
       "      <td>5aa39533ae1f941be7165ecd</td>\n",
       "      <td>3.0</td>\n",
       "      <td>5b322e9cb8a9f70142f6a767</td>\n",
       "      <td>None</td>\n",
       "    </tr>\n",
       "    <tr>\n",
       "      <th>2</th>\n",
       "      <td>5a93e8768cbad97881597597</td>\n",
       "      <td>3.0</td>\n",
       "      <td>5b324265b8a9f70142f6a768</td>\n",
       "      <td>None</td>\n",
       "    </tr>\n",
       "    <tr>\n",
       "      <th>3</th>\n",
       "      <td>5a95d7ae35d6d33d3fea56ff</td>\n",
       "      <td>3.0</td>\n",
       "      <td>5b32509bb8a9f70142f6a769</td>\n",
       "      <td>None</td>\n",
       "    </tr>\n",
       "    <tr>\n",
       "      <th>4</th>\n",
       "      <td>5aa274ad8cbad96d9a0c50be</td>\n",
       "      <td>3.0</td>\n",
       "      <td>5b326399b8a9f70142f6a76a</td>\n",
       "      <td>None</td>\n",
       "    </tr>\n",
       "  </tbody>\n",
       "</table>\n",
       "</div>"
      ],
      "text/plain": [
       "                     idprod  salescluster_prod                        id  \\\n",
       "0  5aa2ad7735d6d34b0032a795                3.0  5b32126eb8a9f70142f6a766   \n",
       "1  5aa39533ae1f941be7165ecd                3.0  5b322e9cb8a9f70142f6a767   \n",
       "2  5a93e8768cbad97881597597                3.0  5b324265b8a9f70142f6a768   \n",
       "3  5a95d7ae35d6d33d3fea56ff                3.0  5b32509bb8a9f70142f6a769   \n",
       "4  5aa274ad8cbad96d9a0c50be                3.0  5b326399b8a9f70142f6a76a   \n",
       "\n",
       "  salescluster_val  \n",
       "0             None  \n",
       "1             None  \n",
       "2             None  \n",
       "3             None  \n",
       "4             None  "
      ]
     },
     "execution_count": 65,
     "metadata": {},
     "output_type": "execute_result"
    }
   ],
   "source": [
    "salescluster = pd.merge(prod, validasi, how='inner', on='idprod', suffixes=('_prod', '_val'))\n",
    "salescluster.head()"
   ]
  },
  {
   "cell_type": "code",
   "execution_count": 66,
   "metadata": {},
   "outputs": [
    {
     "data": {
      "text/plain": [
       "(1582, 4)"
      ]
     },
     "execution_count": 66,
     "metadata": {},
     "output_type": "execute_result"
    }
   ],
   "source": [
    "salescluster.shape"
   ]
  },
  {
   "cell_type": "code",
   "execution_count": 67,
   "metadata": {},
   "outputs": [
    {
     "data": {
      "text/html": [
       "<div>\n",
       "<style scoped>\n",
       "    .dataframe tbody tr th:only-of-type {\n",
       "        vertical-align: middle;\n",
       "    }\n",
       "\n",
       "    .dataframe tbody tr th {\n",
       "        vertical-align: top;\n",
       "    }\n",
       "\n",
       "    .dataframe thead th {\n",
       "        text-align: right;\n",
       "    }\n",
       "</style>\n",
       "<table border=\"1\" class=\"dataframe\">\n",
       "  <thead>\n",
       "    <tr style=\"text-align: right;\">\n",
       "      <th></th>\n",
       "      <th>id</th>\n",
       "      <th>salescluster</th>\n",
       "    </tr>\n",
       "  </thead>\n",
       "  <tbody>\n",
       "    <tr>\n",
       "      <th>0</th>\n",
       "      <td>5b32126eb8a9f70142f6a766</td>\n",
       "      <td>3.0</td>\n",
       "    </tr>\n",
       "    <tr>\n",
       "      <th>1</th>\n",
       "      <td>5b322e9cb8a9f70142f6a767</td>\n",
       "      <td>3.0</td>\n",
       "    </tr>\n",
       "    <tr>\n",
       "      <th>2</th>\n",
       "      <td>5b324265b8a9f70142f6a768</td>\n",
       "      <td>3.0</td>\n",
       "    </tr>\n",
       "    <tr>\n",
       "      <th>3</th>\n",
       "      <td>5b32509bb8a9f70142f6a769</td>\n",
       "      <td>3.0</td>\n",
       "    </tr>\n",
       "    <tr>\n",
       "      <th>4</th>\n",
       "      <td>5b326399b8a9f70142f6a76a</td>\n",
       "      <td>3.0</td>\n",
       "    </tr>\n",
       "  </tbody>\n",
       "</table>\n",
       "</div>"
      ],
      "text/plain": [
       "                         id  salescluster\n",
       "0  5b32126eb8a9f70142f6a766           3.0\n",
       "1  5b322e9cb8a9f70142f6a767           3.0\n",
       "2  5b324265b8a9f70142f6a768           3.0\n",
       "3  5b32509bb8a9f70142f6a769           3.0\n",
       "4  5b326399b8a9f70142f6a76a           3.0"
      ]
     },
     "execution_count": 67,
     "metadata": {},
     "output_type": "execute_result"
    }
   ],
   "source": [
    "salescluster = salescluster[['id', 'salescluster_prod']]\n",
    "salescluster.columns = ['id', 'salescluster']\n",
    "salescluster.head()"
   ]
  },
  {
   "cell_type": "code",
   "execution_count": 68,
   "metadata": {},
   "outputs": [
    {
     "name": "stderr",
     "output_type": "stream",
     "text": [
      "  1%|▏         | 22/1582 [00:00<00:07, 217.41it/s]"
     ]
    },
    {
     "name": "stdout",
     "output_type": "stream",
     "text": [
      "Updating sql column 'salescluster'\n"
     ]
    },
    {
     "name": "stderr",
     "output_type": "stream",
     "text": [
      "100%|██████████| 1582/1582 [00:06<00:00, 227.09it/s]\n"
     ]
    }
   ],
   "source": [
    "def upSalescluster(connection, cursor, df):\n",
    "    # read csv file\n",
    "    salescluster = df\n",
    "\n",
    "    # update validasi.db 'merchanttype' column\n",
    "    sqlc1 = 'UPDATE prodpage SET '\n",
    "    sqlc2 = 'salescluster = '\n",
    "    sqlc3 = 'WHERE id = '\n",
    "\n",
    "    print('Updating sql column \\'salescluster\\'')\n",
    "    for i in tqdm(range(len(salescluster))):\n",
    "        mongoid = salescluster.loc[i, 'id']\n",
    "        cluster = str(salescluster.loc[i, 'salescluster'])\n",
    "        sqlall = sqlc1 + sqlc2 + cluster + ' ' + sqlc3 + '\"' + mongoid + '\"'\n",
    "#        print(sqlall)\n",
    "        cursor.execute(sqlall)\n",
    "        connection.commit()\n",
    "\n",
    "upSalescluster(conn, c, salescluster)"
   ]
  },
  {
   "cell_type": "code",
   "execution_count": null,
   "metadata": {},
   "outputs": [],
   "source": [
    "# ranking, update dengan model regressor setelah semua \n",
    "#          feature lengkap\n",
    "# salescluster, update dengan model groupClass"
   ]
  }
 ],
 "metadata": {
  "kernelspec": {
   "display_name": "Python 3",
   "language": "python",
   "name": "python3"
  },
  "language_info": {
   "codemirror_mode": {
    "name": "ipython",
    "version": 3
   },
   "file_extension": ".py",
   "mimetype": "text/x-python",
   "name": "python",
   "nbconvert_exporter": "python",
   "pygments_lexer": "ipython3",
   "version": "3.6.5"
  }
 },
 "nbformat": 4,
 "nbformat_minor": 2
}
