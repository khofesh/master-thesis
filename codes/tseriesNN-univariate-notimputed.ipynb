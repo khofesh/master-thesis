{
 "cells": [
  {
   "cell_type": "markdown",
   "metadata": {},
   "source": [
    "# Recurrent Neural Network Forecasting Model"
   ]
  },
  {
   "cell_type": "code",
   "execution_count": 1,
   "metadata": {},
   "outputs": [
    {
     "name": "stderr",
     "output_type": "stream",
     "text": [
      "Using TensorFlow backend.\n"
     ]
    }
   ],
   "source": [
    "import tseriesRoutines as routines\n",
    "import matplotlib.pyplot as plt\n",
    "import numpy as np\n",
    "import pandas as pd\n",
    "import sqlite3\n",
    "from sklearn.preprocessing import StandardScaler, MinMaxScaler\n",
    "from sklearn.model_selection import train_test_split\n",
    "from sklearn.metrics import mean_squared_error, mean_absolute_error\n",
    "from math import ceil, sqrt\n",
    "from keras.models import Sequential\n",
    "from keras import layers\n",
    "from keras.optimizers import RMSprop, Adam, SGD, Adagrad, Adadelta"
   ]
  },
  {
   "cell_type": "code",
   "execution_count": 2,
   "metadata": {},
   "outputs": [],
   "source": [
    "# RESULT REPRODUCIBILITY\n",
    "########################\n",
    "import tensorflow as tf\n",
    "import random as rn\n",
    "\n",
    "# The below is necessary in Python 3.2.3 onwards to\n",
    "# have reproducible behavior for certain hash-based operations.\n",
    "# See these references for further details:\n",
    "# https://docs.python.org/3.4/using/cmdline.html#envvar-PYTHONHASHSEED\n",
    "# https://github.com/keras-team/keras/issues/2280#issuecomment-306959926\n",
    "import os\n",
    "os.environ['PYTHONHASHSEED'] = '0'\n",
    "\n",
    "# The below is necessary for starting Numpy generated random numbers\n",
    "# in a well-defined initial state.\n",
    "np.random.seed(42)\n",
    "\n",
    "# The below is necessary for starting core Python generated random numbers\n",
    "# in a well-defined state.\n",
    "rn.seed(42)\n",
    "\n",
    "# The below tf.set_random_seed() will make random number generation\n",
    "# in the TensorFlow backend have a well-defined initial state.\n",
    "# For further details, see: https://www.tensorflow.org/api_docs/python/tf/set_random_seed\n",
    "tf.set_random_seed(42)"
   ]
  },
  {
   "cell_type": "code",
   "execution_count": 3,
   "metadata": {},
   "outputs": [],
   "source": [
    "def genData(mongoid, conn, cursor, impute=True, freq='daily'):\n",
    "    '''\n",
    "    Generate a timeseries dataframe for timeseries modelling.\n",
    "    mongoid: str. string of mongodb id.\n",
    "    conn: sqlite3 connection.\n",
    "    cursor: sqlite3 cursor.\n",
    "    impute:\n",
    "    freq:\n",
    "    actualrevcount:\n",
    "    '''\n",
    "    initial = routines.sqlToDf(conn, cursor)\n",
    "    allproduct = initial.selectReview3(mongoid, impute=impute)\n",
    "    product = routines.tsSalesRateSentiment(allproduct, freq=freq)\n",
    "    return product\n",
    "    # product = genData('5aa2ad7735d6d34b0032a795', conn, c, impute=True, \n",
    "    #   freq='daily')\n"
   ]
  },
  {
   "cell_type": "code",
   "execution_count": 4,
   "metadata": {},
   "outputs": [],
   "source": [
    "def series_to_supervised(data, n_in=1, n_out=1, dropnan=True):\n",
    "    # https://machinelearningmastery.com/multivariate-time-series-forecasting-lstms-keras/\n",
    "    n_vars = 1 if type(data) is list else data.shape[1]\n",
    "    df = data.copy()\n",
    "    cols, names = list(), list()\n",
    "    # input sequence (t-n, ... t-1)\n",
    "    for i in range(n_in, 0, -1):\n",
    "        cols.append(df.shift(i))\n",
    "        names += [('var%d(t-%d)' % (j+1, i)) for j in range(n_vars)]\n",
    "\n",
    "    # forecast sequence (t, t+1, ... t+n)\n",
    "    for i in range(0, n_out):\n",
    "        cols.append(df.shift(-i))\n",
    "        if i == 0:\n",
    "            names += [('var%d(t)' % (j+1)) for j in range(n_vars)]\n",
    "        else:\n",
    "            names += [('var%d(t+%d)' % (j+1, i)) for j in range(n_vars)]\n",
    "\n",
    "    # put it all together\n",
    "    agg = pd.concat(cols, axis=1)\n",
    "    agg.columns = names\n",
    "    # drop rows with NaN values\n",
    "    if dropnan:\n",
    "        agg = agg.dropna()\n",
    "    return agg"
   ]
  },
  {
   "cell_type": "code",
   "execution_count": 26,
   "metadata": {},
   "outputs": [],
   "source": [
    "def splitDataNN(df, n_in=1, n_out=1, scale=True, percent=0.2):\n",
    "    '''\n",
    "    df: pandas dataframe. 3 columns (sales, rating, ovsentiment) with date as index\n",
    "    n_in:\n",
    "    n_out:\n",
    "    scale:\n",
    "    percent:\n",
    "    X_train, y_train, X_test, y_test, dftrain = splitDataNN(product, n_in=1, \n",
    "        n_out=1, scale=True, percent=0.2)\n",
    "    '''\n",
    "    dftrain = series_to_supervised(df, n_in=n_in, n_out=n_out)\n",
    "    # specific to this case\n",
    "    dftrain = dftrain.drop(dftrain.columns[[4, 5]], axis=1)\n",
    "    dftrain = dftrain[['var1(t-1)', 'var1(t)']]\n",
    "    values = dftrain.values\n",
    "\n",
    "    if scale:\n",
    "        scaler = MinMaxScaler()\n",
    "        values = scaler.fit_transform(values)\n",
    "    else:\n",
    "        pass\n",
    "\n",
    "    # training data\n",
    "    X, y = values[:, :-1], values[:, -1]\n",
    "    # train and test set\n",
    "    X_train, X_test, y_train, y_test = train_test_split(X, y, test_size=percent, \n",
    "            shuffle=False, random_state=42)\n",
    "    # reshape input to be 3D [samples, timesteps, features]\n",
    "    X_train = X_train.reshape((X_train.shape[0], 1, X_train.shape[1]))\n",
    "    X_test = X_test.reshape((X_test.shape[0], 1, X_test.shape[1]))\n",
    "    return X_train, y_train, X_test, y_test, dftrain, scaler"
   ]
  },
  {
   "cell_type": "code",
   "execution_count": 6,
   "metadata": {},
   "outputs": [],
   "source": [
    "# computing the common-sense baseline MAE\n",
    "def evaluate_naive_method(val_steps, val_gen):\n",
    "    batch_maes = []\n",
    "    for step in range(val_steps):\n",
    "        samples, targets = next(val_gen)\n",
    "        preds = samples[:, -1, 1]\n",
    "        mae = np.mean(np.abs(preds-targets))\n",
    "        batch_maes.append(mae)\n",
    "    print(np.mean(batch_maes))"
   ]
  },
  {
   "cell_type": "code",
   "execution_count": 8,
   "metadata": {},
   "outputs": [],
   "source": [
    "def flatModel(xtrain, ytrain, xtest, ytest, epochs, batch_size, units=50, shuffle=False, \n",
    "        metrics=['accuracy'], loss='mae', plot=True, lr=0.001, accplot=False):\n",
    "    '''\n",
    "    xtrain:\n",
    "    ytrain:\n",
    "    epochs:\n",
    "    batch_size:\n",
    "    units:\n",
    "    shuffle:\n",
    "    metrics:\n",
    "    loss:\n",
    "    plot:\n",
    "    flatmodel = flatModel(X_train, y_train, epochs=80, batch_size=64)\n",
    "    '''\n",
    "    # 1 - densely connected model\n",
    "    #############################\n",
    "    model = Sequential()\n",
    "    model.add(layers.Flatten(input_shape=(xtrain.shape[1], xtrain.shape[2])))\n",
    "    model.add(layers.Dense(units, activation='relu'))\n",
    "    model.add(layers.Dense(1))\n",
    "    model.compile(optimizer=RMSprop(lr=lr), loss=loss, metrics=metrics)\n",
    "    history = model.fit(xtrain, ytrain, \n",
    "                        epochs=epochs, batch_size=batch_size, \n",
    "                        validation_data=(xtest, ytest),\n",
    "                        verbose=0, shuffle=False)\n",
    "    # save the output\n",
    "    loss = history.history['loss']\n",
    "    val_loss = history.history['val_loss']\n",
    "    acc = history.history['acc']\n",
    "    val_acc = history.history['val_acc']\n",
    "    epochs = range(1, len(loss) + 1)\n",
    "\n",
    "    # plot\n",
    "    if plot and accplot:\n",
    "        # loss plot\n",
    "        plt.figure(1)\n",
    "        plt.plot(epochs, loss, label='Training loss')\n",
    "        plt.plot(epochs, val_loss, label='Validation loss')\n",
    "        plt.title('Training and validation loss')\n",
    "        plt.legend()\n",
    "        # accuracy plot\n",
    "        plt.figure(2)\n",
    "        plt.plot(epochs, acc, label='Training acc')\n",
    "        plt.plot(epochs, val_acc, label='Validation acc')\n",
    "        plt.title('Training and validation Accuracy')\n",
    "        plt.legend()\n",
    "        plt.show()\n",
    "        # print results\n",
    "        print('loss: {0}'.format(np.mean(loss)))\n",
    "        print('val_loss: {0}'.format(np.mean(val_loss)))\n",
    "        print('acc: {0}'.format(np.mean(acc)))\n",
    "        print('val_acc: {0}'.format(np.mean(val_acc)))\n",
    "    elif plot:\n",
    "        # loss plot\n",
    "        plt.figure(1)\n",
    "        plt.plot(epochs, loss, label='Training loss')\n",
    "        plt.plot(epochs, val_loss, label='Validation loss')\n",
    "        plt.title('Training and validation loss')\n",
    "        plt.legend()\n",
    "        plt.show()\n",
    "        # print results\n",
    "        print('loss: {0}'.format(np.mean(loss)))\n",
    "        print('val_loss: {0}'.format(np.mean(val_loss)))\n",
    "    else:\n",
    "        pass\n",
    "\n",
    "    plt.clf()\n",
    "    # return model\n",
    "    return history\n",
    "\n",
    "def gruDropModel(xtrain, ytrain, xtest, ytest, epochs, batch_size, units, drop, recdrop, \n",
    "        shuffle=False, metrics=['accuracy'], loss='mae', plot=True, lr=0.001, accplot=False):\n",
    "    '''\n",
    "    xtrain:\n",
    "    ytrain:\n",
    "    epochs:\n",
    "    batch_size:\n",
    "    units:\n",
    "    shuffle:\n",
    "    metrics:\n",
    "    loss:\n",
    "    plot:\n",
    "    grudropmodel = gruDropModel(X_train, y_train, epochs=1000, batch_size=64, units=256, \n",
    "        drop=0.2, recdrop=0.2)\n",
    "    '''\n",
    "    # 3 - GRU-based model with dropout\n",
    "    ##################################\n",
    "    model = Sequential()\n",
    "    model.add(layers.GRU(units, \n",
    "        dropout=drop,\n",
    "        recurrent_dropout=recdrop,\n",
    "        input_shape=(xtrain.shape[1], xtrain.shape[2])))\n",
    "    model.add(layers.Dense(1))\n",
    "    model.compile(optimizer=RMSprop(lr=lr), loss=loss, metrics=metrics)\n",
    "    history = model.fit(xtrain, ytrain, \n",
    "                        epochs=epochs, batch_size=batch_size, \n",
    "                        validation_data=(xtest, ytest),\n",
    "                        verbose=0, shuffle=False)\n",
    "    # save the output\n",
    "    loss = history.history['loss']\n",
    "    val_loss = history.history['val_loss']\n",
    "    acc = history.history['acc']\n",
    "    val_acc = history.history['val_acc']\n",
    "    epochs = range(1, len(loss) + 1)\n",
    "\n",
    "    # plot\n",
    "    if plot and accplot:\n",
    "        # loss plot\n",
    "        plt.figure(1)\n",
    "        plt.plot(epochs, loss, label='Training loss')\n",
    "        plt.plot(epochs, val_loss, label='Validation loss')\n",
    "        plt.title('Training and validation loss')\n",
    "        plt.legend()\n",
    "        # accuracy plot\n",
    "        plt.figure(2)\n",
    "        plt.plot(epochs, acc, label='Training acc')\n",
    "        plt.plot(epochs, val_acc, label='Validation acc')\n",
    "        plt.title('Training and validation Accuracy')\n",
    "        plt.legend()\n",
    "        plt.show()\n",
    "        # print results\n",
    "        print('loss: {0}'.format(np.mean(loss)))\n",
    "        print('val_loss: {0}'.format(np.mean(val_loss)))\n",
    "        print('acc: {0}'.format(np.mean(acc)))\n",
    "        print('val_acc: {0}'.format(np.mean(val_acc)))\n",
    "    elif plot:\n",
    "        # loss plot\n",
    "        plt.figure(1)\n",
    "        plt.plot(epochs, loss, label='Training loss')\n",
    "        plt.plot(epochs, val_loss, label='Validation loss')\n",
    "        plt.title('Training and validation loss')\n",
    "        plt.legend()\n",
    "        plt.show()\n",
    "        # print results\n",
    "        print('loss: {0}'.format(np.mean(loss)))\n",
    "        print('val_loss: {0}'.format(np.mean(val_loss)))\n",
    "    else:\n",
    "        pass\n",
    "\n",
    "    plt.clf()\n",
    "    # return model\n",
    "    return history\n",
    "\n",
    "def lstmModel(xtrain, ytrain, xtest, ytest, epochs, batch_size, units, drop, recdrop, \n",
    "        shuffle=False, metrics=['accuracy'], loss='mae', plot=True, lr=0.001, accplot=False):\n",
    "    '''\n",
    "    xtrain:\n",
    "    ytrain:\n",
    "    epochs:\n",
    "    batch_size:\n",
    "    units:\n",
    "    shuffle:\n",
    "    metrics:\n",
    "    loss:\n",
    "    plot:\n",
    "    lstmmodel = lstmModel(X_train, y_train, epochs=500, batch_size=64, units=256, \n",
    "        drop=0.2, recdrop=0.2)\n",
    "    '''\n",
    "    # 4 - LSTM-based model\n",
    "    ######################\n",
    "    model = Sequential()\n",
    "    model.add(layers.LSTM(units, dropout=drop, recurrent_dropout=recdrop,\n",
    "        input_shape=(xtrain.shape[1], xtrain.shape[2])))\n",
    "    model.add(layers.Dense(1))\n",
    "    model.compile(optimizer=RMSprop(lr=lr), loss=loss, metrics=metrics)\n",
    "    history = model.fit(xtrain, ytrain, \n",
    "                        epochs=epochs, batch_size=batch_size, \n",
    "                        validation_data=(xtest, ytest),\n",
    "                        verbose=0, shuffle=False)\n",
    "    # save the output\n",
    "    loss = history.history['loss']\n",
    "    val_loss = history.history['val_loss']\n",
    "    acc = history.history['acc']\n",
    "    val_acc = history.history['val_acc']\n",
    "    epochs = range(1, len(loss) + 1)\n",
    "\n",
    "    # plot\n",
    "    if plot and accplot:\n",
    "        # loss plot\n",
    "        plt.figure(1)\n",
    "        plt.plot(epochs, loss, label='Training loss')\n",
    "        plt.plot(epochs, val_loss, label='Validation loss')\n",
    "        plt.title('Training and validation loss')\n",
    "        plt.legend()\n",
    "        # accuracy plot\n",
    "        plt.figure(2)\n",
    "        plt.plot(epochs, acc, label='Training acc')\n",
    "        plt.plot(epochs, val_acc, label='Validation acc')\n",
    "        plt.title('Training and validation Accuracy')\n",
    "        plt.legend()\n",
    "        plt.show()\n",
    "        # print results\n",
    "        print('loss: {0}'.format(np.mean(loss)))\n",
    "        print('val_loss: {0}'.format(np.mean(val_loss)))\n",
    "        print('acc: {0}'.format(np.mean(acc)))\n",
    "        print('val_acc: {0}'.format(np.mean(val_acc)))\n",
    "    elif plot:\n",
    "        # loss plot\n",
    "        plt.figure(1)\n",
    "        plt.plot(epochs, loss, label='Training loss')\n",
    "        plt.plot(epochs, val_loss, label='Validation loss')\n",
    "        plt.title('Training and validation loss')\n",
    "        plt.legend()\n",
    "        plt.show()\n",
    "        # print results\n",
    "        print('loss: {0}'.format(np.mean(loss)))\n",
    "        print('val_loss: {0}'.format(np.mean(val_loss)))\n",
    "    else:\n",
    "        pass\n",
    "\n",
    "    plt.clf()\n",
    "    # return model\n",
    "    return history"
   ]
  },
  {
   "cell_type": "code",
   "execution_count": 9,
   "metadata": {},
   "outputs": [],
   "source": [
    "def evalForecast(model, X, y, inverse=False, scaler=None):\n",
    "    '''\n",
    "    Evaluate time series forecasting model\n",
    "    '''\n",
    "    if inverse and scaler:\n",
    "        # make prediction\n",
    "        ypred = model.model.predict(X)\n",
    "        # reshape X\n",
    "        X = X.reshape((X.shape[0], X.shape[2]))\n",
    "        # invert scaling predicted data\n",
    "        inv_ypred = np.concatenate((X[:, :], ypred), axis=1)\n",
    "        inv_ypred = scaler.inverse_transform(inv_ypred)\n",
    "        inv_ypred = inv_ypred[:, -1]\n",
    "        # invert scaling for actual data\n",
    "        y = y.reshape((len(y), 1))\n",
    "        inv_y = np.concatenate((X[:, :], y), axis=1)\n",
    "        inv_y = scaler.inverse_transform(inv_y)\n",
    "        inv_y = inv_y[:, -1]\n",
    "        # RMSE\n",
    "        rmse = np.sqrt(mean_squared_error(y_pred=inv_ypred, y_true=inv_y))\n",
    "        # MAE\n",
    "        mae = mean_absolute_error(y_pred=inv_ypred, y_true=inv_y)\n",
    "    else:\n",
    "        # make prediction\n",
    "        ypred = model.model.predict(X)\n",
    "        # RMSE\n",
    "        rmse = np.sqrt(mean_squared_error(y_pred=ypred, y_true=y))\n",
    "        # MAE\n",
    "        mae = mean_absolute_error(y_pred=ypred, y_true=y)\n",
    "\n",
    "    print('Validasi RMSE: {0:.5f}'.format(rmse))\n",
    "    print('Validasi MAE: {0:.5f}'.format(mae))"
   ]
  },
  {
   "cell_type": "code",
   "execution_count": 10,
   "metadata": {},
   "outputs": [],
   "source": [
    "# make connection to sqlite db\n",
    "conn = sqlite3.connect('product.db')\n",
    "c = conn.cursor()\n",
    "\n",
    "# enable foreign keys\n",
    "c.execute(\"PRAGMA foreign_keys = ON\")\n",
    "conn.commit()"
   ]
  },
  {
   "cell_type": "markdown",
   "metadata": {},
   "source": [
    "<br>pilihan:\n",
    ">     2 data di database product.db dgn review > 900:\n",
    ">         5aa2ad7735d6d34b0032a795\n",
    ">         5aa39533ae1f941be7165ecd\n",
    ">     cluster 3\n",
    ">         5a93e8768cbad97881597597\n",
    ">         or \n",
    ">         5a95d7ae35d6d33d3fea56ff\n",
    ">     cluster 1\n",
    ">         5aa2c35e35d6d34b0032a796\n",
    ">     cluster 2 \n",
    ">         5a92474635d6d32207bcd343\n",
    "</br>"
   ]
  },
  {
   "cell_type": "markdown",
   "metadata": {},
   "source": [
    "## <font color=blue> 1. Mongodb ID: 5aa2ad7735d6d34b0032a795 </font>"
   ]
  },
  {
   "cell_type": "code",
   "execution_count": 27,
   "metadata": {},
   "outputs": [],
   "source": [
    "product = genData('5aa2ad7735d6d34b0032a795', conn, c, impute=False, freq='daily')\n",
    "X_train, y_train, X_test, y_test, dftrain, scaler = splitDataNN(product, percent=0.2)"
   ]
  },
  {
   "cell_type": "code",
   "execution_count": 28,
   "metadata": {},
   "outputs": [
    {
     "data": {
      "text/plain": [
       "((383, 1, 1), (480, 3))"
      ]
     },
     "execution_count": 28,
     "metadata": {},
     "output_type": "execute_result"
    }
   ],
   "source": [
    "X_train.shape, product.shape"
   ]
  },
  {
   "cell_type": "code",
   "execution_count": 29,
   "metadata": {},
   "outputs": [
    {
     "data": {
      "text/html": [
       "<div>\n",
       "<style scoped>\n",
       "    .dataframe tbody tr th:only-of-type {\n",
       "        vertical-align: middle;\n",
       "    }\n",
       "\n",
       "    .dataframe tbody tr th {\n",
       "        vertical-align: top;\n",
       "    }\n",
       "\n",
       "    .dataframe thead th {\n",
       "        text-align: right;\n",
       "    }\n",
       "</style>\n",
       "<table border=\"1\" class=\"dataframe\">\n",
       "  <thead>\n",
       "    <tr style=\"text-align: right;\">\n",
       "      <th></th>\n",
       "      <th>Sales</th>\n",
       "      <th>rating</th>\n",
       "      <th>ovsentiment</th>\n",
       "    </tr>\n",
       "    <tr>\n",
       "      <th>date</th>\n",
       "      <th></th>\n",
       "      <th></th>\n",
       "      <th></th>\n",
       "    </tr>\n",
       "  </thead>\n",
       "  <tbody>\n",
       "    <tr>\n",
       "      <th>2016-11-06</th>\n",
       "      <td>2</td>\n",
       "      <td>3.500000</td>\n",
       "      <td>0.500000</td>\n",
       "    </tr>\n",
       "    <tr>\n",
       "      <th>2016-11-07</th>\n",
       "      <td>1</td>\n",
       "      <td>5.000000</td>\n",
       "      <td>1.000000</td>\n",
       "    </tr>\n",
       "    <tr>\n",
       "      <th>2016-11-08</th>\n",
       "      <td>0</td>\n",
       "      <td>0.000000</td>\n",
       "      <td>0.000000</td>\n",
       "    </tr>\n",
       "    <tr>\n",
       "      <th>2016-11-09</th>\n",
       "      <td>0</td>\n",
       "      <td>0.000000</td>\n",
       "      <td>0.000000</td>\n",
       "    </tr>\n",
       "    <tr>\n",
       "      <th>2016-11-10</th>\n",
       "      <td>3</td>\n",
       "      <td>4.666667</td>\n",
       "      <td>0.333333</td>\n",
       "    </tr>\n",
       "  </tbody>\n",
       "</table>\n",
       "</div>"
      ],
      "text/plain": [
       "            Sales    rating  ovsentiment\n",
       "date                                    \n",
       "2016-11-06      2  3.500000     0.500000\n",
       "2016-11-07      1  5.000000     1.000000\n",
       "2016-11-08      0  0.000000     0.000000\n",
       "2016-11-09      0  0.000000     0.000000\n",
       "2016-11-10      3  4.666667     0.333333"
      ]
     },
     "execution_count": 29,
     "metadata": {},
     "output_type": "execute_result"
    }
   ],
   "source": [
    "product.head()"
   ]
  },
  {
   "cell_type": "code",
   "execution_count": 30,
   "metadata": {},
   "outputs": [
    {
     "data": {
      "text/plain": [
       "array([[[0.25 ]],\n",
       "\n",
       "       [[0.125]],\n",
       "\n",
       "       [[0.   ]],\n",
       "\n",
       "       [[0.   ]],\n",
       "\n",
       "       [[0.375]],\n",
       "\n",
       "       [[0.   ]],\n",
       "\n",
       "       [[0.   ]],\n",
       "\n",
       "       [[0.   ]],\n",
       "\n",
       "       [[0.125]],\n",
       "\n",
       "       [[0.25 ]],\n",
       "\n",
       "       [[0.   ]],\n",
       "\n",
       "       [[0.   ]],\n",
       "\n",
       "       [[0.375]],\n",
       "\n",
       "       [[0.   ]],\n",
       "\n",
       "       [[0.   ]],\n",
       "\n",
       "       [[0.   ]],\n",
       "\n",
       "       [[0.375]],\n",
       "\n",
       "       [[0.   ]],\n",
       "\n",
       "       [[0.375]],\n",
       "\n",
       "       [[0.   ]],\n",
       "\n",
       "       [[0.375]],\n",
       "\n",
       "       [[0.   ]],\n",
       "\n",
       "       [[0.125]],\n",
       "\n",
       "       [[0.25 ]],\n",
       "\n",
       "       [[0.25 ]],\n",
       "\n",
       "       [[0.125]],\n",
       "\n",
       "       [[0.   ]],\n",
       "\n",
       "       [[0.375]],\n",
       "\n",
       "       [[0.125]],\n",
       "\n",
       "       [[0.25 ]],\n",
       "\n",
       "       [[0.125]],\n",
       "\n",
       "       [[0.375]],\n",
       "\n",
       "       [[0.25 ]],\n",
       "\n",
       "       [[0.375]],\n",
       "\n",
       "       [[0.25 ]],\n",
       "\n",
       "       [[0.   ]],\n",
       "\n",
       "       [[0.   ]],\n",
       "\n",
       "       [[0.25 ]],\n",
       "\n",
       "       [[0.25 ]],\n",
       "\n",
       "       [[0.25 ]],\n",
       "\n",
       "       [[0.375]],\n",
       "\n",
       "       [[0.   ]],\n",
       "\n",
       "       [[0.   ]],\n",
       "\n",
       "       [[0.375]],\n",
       "\n",
       "       [[0.375]],\n",
       "\n",
       "       [[0.375]],\n",
       "\n",
       "       [[0.375]],\n",
       "\n",
       "       [[0.5  ]],\n",
       "\n",
       "       [[0.25 ]],\n",
       "\n",
       "       [[0.   ]],\n",
       "\n",
       "       [[0.375]],\n",
       "\n",
       "       [[0.   ]],\n",
       "\n",
       "       [[0.25 ]],\n",
       "\n",
       "       [[0.25 ]],\n",
       "\n",
       "       [[0.5  ]],\n",
       "\n",
       "       [[0.125]],\n",
       "\n",
       "       [[0.25 ]],\n",
       "\n",
       "       [[0.125]],\n",
       "\n",
       "       [[0.125]],\n",
       "\n",
       "       [[0.25 ]],\n",
       "\n",
       "       [[0.125]],\n",
       "\n",
       "       [[0.25 ]],\n",
       "\n",
       "       [[0.25 ]],\n",
       "\n",
       "       [[0.   ]],\n",
       "\n",
       "       [[0.375]],\n",
       "\n",
       "       [[0.125]],\n",
       "\n",
       "       [[0.25 ]],\n",
       "\n",
       "       [[0.   ]],\n",
       "\n",
       "       [[0.375]],\n",
       "\n",
       "       [[0.   ]],\n",
       "\n",
       "       [[0.375]],\n",
       "\n",
       "       [[0.25 ]],\n",
       "\n",
       "       [[0.125]],\n",
       "\n",
       "       [[0.   ]],\n",
       "\n",
       "       [[0.375]],\n",
       "\n",
       "       [[0.375]],\n",
       "\n",
       "       [[0.375]],\n",
       "\n",
       "       [[0.   ]],\n",
       "\n",
       "       [[0.5  ]],\n",
       "\n",
       "       [[0.375]],\n",
       "\n",
       "       [[0.125]],\n",
       "\n",
       "       [[0.   ]],\n",
       "\n",
       "       [[0.375]],\n",
       "\n",
       "       [[0.   ]],\n",
       "\n",
       "       [[0.   ]],\n",
       "\n",
       "       [[0.   ]],\n",
       "\n",
       "       [[0.   ]],\n",
       "\n",
       "       [[0.   ]],\n",
       "\n",
       "       [[0.   ]],\n",
       "\n",
       "       [[0.   ]],\n",
       "\n",
       "       [[0.25 ]],\n",
       "\n",
       "       [[0.   ]],\n",
       "\n",
       "       [[0.   ]],\n",
       "\n",
       "       [[0.375]],\n",
       "\n",
       "       [[0.   ]],\n",
       "\n",
       "       [[0.375]],\n",
       "\n",
       "       [[0.   ]],\n",
       "\n",
       "       [[0.375]],\n",
       "\n",
       "       [[0.   ]],\n",
       "\n",
       "       [[0.375]],\n",
       "\n",
       "       [[0.125]],\n",
       "\n",
       "       [[0.125]],\n",
       "\n",
       "       [[0.25 ]],\n",
       "\n",
       "       [[0.375]],\n",
       "\n",
       "       [[0.   ]],\n",
       "\n",
       "       [[0.375]],\n",
       "\n",
       "       [[0.   ]],\n",
       "\n",
       "       [[0.375]],\n",
       "\n",
       "       [[0.375]],\n",
       "\n",
       "       [[0.   ]],\n",
       "\n",
       "       [[0.25 ]],\n",
       "\n",
       "       [[0.125]],\n",
       "\n",
       "       [[0.   ]],\n",
       "\n",
       "       [[0.25 ]],\n",
       "\n",
       "       [[0.125]],\n",
       "\n",
       "       [[0.375]],\n",
       "\n",
       "       [[0.   ]],\n",
       "\n",
       "       [[0.   ]],\n",
       "\n",
       "       [[0.375]],\n",
       "\n",
       "       [[0.   ]],\n",
       "\n",
       "       [[0.   ]],\n",
       "\n",
       "       [[0.375]],\n",
       "\n",
       "       [[0.   ]],\n",
       "\n",
       "       [[0.375]],\n",
       "\n",
       "       [[0.   ]],\n",
       "\n",
       "       [[0.   ]],\n",
       "\n",
       "       [[0.   ]],\n",
       "\n",
       "       [[0.   ]],\n",
       "\n",
       "       [[0.375]],\n",
       "\n",
       "       [[0.   ]],\n",
       "\n",
       "       [[0.375]],\n",
       "\n",
       "       [[0.   ]],\n",
       "\n",
       "       [[0.375]],\n",
       "\n",
       "       [[0.   ]],\n",
       "\n",
       "       [[0.375]],\n",
       "\n",
       "       [[0.375]],\n",
       "\n",
       "       [[0.   ]],\n",
       "\n",
       "       [[0.375]],\n",
       "\n",
       "       [[0.25 ]],\n",
       "\n",
       "       [[0.125]],\n",
       "\n",
       "       [[0.   ]],\n",
       "\n",
       "       [[0.375]],\n",
       "\n",
       "       [[0.   ]],\n",
       "\n",
       "       [[0.375]],\n",
       "\n",
       "       [[0.375]],\n",
       "\n",
       "       [[0.375]],\n",
       "\n",
       "       [[0.375]],\n",
       "\n",
       "       [[0.125]],\n",
       "\n",
       "       [[0.375]],\n",
       "\n",
       "       [[0.25 ]],\n",
       "\n",
       "       [[0.375]],\n",
       "\n",
       "       [[0.   ]],\n",
       "\n",
       "       [[0.375]],\n",
       "\n",
       "       [[0.25 ]],\n",
       "\n",
       "       [[0.125]],\n",
       "\n",
       "       [[0.25 ]],\n",
       "\n",
       "       [[0.125]],\n",
       "\n",
       "       [[0.   ]],\n",
       "\n",
       "       [[0.375]],\n",
       "\n",
       "       [[0.   ]],\n",
       "\n",
       "       [[0.375]],\n",
       "\n",
       "       [[0.   ]],\n",
       "\n",
       "       [[0.25 ]],\n",
       "\n",
       "       [[0.125]],\n",
       "\n",
       "       [[0.   ]],\n",
       "\n",
       "       [[0.25 ]],\n",
       "\n",
       "       [[0.125]],\n",
       "\n",
       "       [[0.   ]],\n",
       "\n",
       "       [[0.   ]],\n",
       "\n",
       "       [[0.   ]],\n",
       "\n",
       "       [[0.   ]],\n",
       "\n",
       "       [[0.   ]],\n",
       "\n",
       "       [[0.125]],\n",
       "\n",
       "       [[0.125]],\n",
       "\n",
       "       [[0.125]],\n",
       "\n",
       "       [[0.   ]],\n",
       "\n",
       "       [[0.   ]],\n",
       "\n",
       "       [[0.   ]],\n",
       "\n",
       "       [[0.   ]],\n",
       "\n",
       "       [[0.   ]],\n",
       "\n",
       "       [[0.   ]],\n",
       "\n",
       "       [[0.   ]],\n",
       "\n",
       "       [[0.   ]],\n",
       "\n",
       "       [[0.   ]],\n",
       "\n",
       "       [[0.   ]],\n",
       "\n",
       "       [[0.   ]],\n",
       "\n",
       "       [[0.   ]],\n",
       "\n",
       "       [[0.   ]],\n",
       "\n",
       "       [[0.   ]],\n",
       "\n",
       "       [[0.   ]],\n",
       "\n",
       "       [[0.   ]],\n",
       "\n",
       "       [[0.   ]],\n",
       "\n",
       "       [[0.   ]],\n",
       "\n",
       "       [[0.25 ]],\n",
       "\n",
       "       [[0.   ]],\n",
       "\n",
       "       [[0.125]],\n",
       "\n",
       "       [[0.   ]],\n",
       "\n",
       "       [[0.   ]],\n",
       "\n",
       "       [[0.25 ]],\n",
       "\n",
       "       [[0.125]],\n",
       "\n",
       "       [[0.125]],\n",
       "\n",
       "       [[0.25 ]],\n",
       "\n",
       "       [[0.   ]],\n",
       "\n",
       "       [[0.125]],\n",
       "\n",
       "       [[0.25 ]],\n",
       "\n",
       "       [[0.375]],\n",
       "\n",
       "       [[0.   ]],\n",
       "\n",
       "       [[0.375]],\n",
       "\n",
       "       [[0.375]],\n",
       "\n",
       "       [[0.375]],\n",
       "\n",
       "       [[0.375]],\n",
       "\n",
       "       [[0.375]],\n",
       "\n",
       "       [[0.375]],\n",
       "\n",
       "       [[0.375]],\n",
       "\n",
       "       [[0.25 ]],\n",
       "\n",
       "       [[0.125]],\n",
       "\n",
       "       [[0.375]],\n",
       "\n",
       "       [[0.   ]],\n",
       "\n",
       "       [[0.375]],\n",
       "\n",
       "       [[0.375]],\n",
       "\n",
       "       [[0.25 ]],\n",
       "\n",
       "       [[0.125]],\n",
       "\n",
       "       [[0.25 ]],\n",
       "\n",
       "       [[0.375]],\n",
       "\n",
       "       [[0.   ]],\n",
       "\n",
       "       [[0.375]],\n",
       "\n",
       "       [[0.75 ]],\n",
       "\n",
       "       [[0.5  ]],\n",
       "\n",
       "       [[0.625]],\n",
       "\n",
       "       [[0.   ]],\n",
       "\n",
       "       [[0.375]],\n",
       "\n",
       "       [[0.   ]],\n",
       "\n",
       "       [[0.   ]],\n",
       "\n",
       "       [[0.   ]],\n",
       "\n",
       "       [[0.125]],\n",
       "\n",
       "       [[0.   ]],\n",
       "\n",
       "       [[0.   ]],\n",
       "\n",
       "       [[0.   ]],\n",
       "\n",
       "       [[0.   ]],\n",
       "\n",
       "       [[0.25 ]],\n",
       "\n",
       "       [[0.375]],\n",
       "\n",
       "       [[0.375]],\n",
       "\n",
       "       [[0.375]],\n",
       "\n",
       "       [[0.75 ]],\n",
       "\n",
       "       [[0.   ]],\n",
       "\n",
       "       [[0.25 ]],\n",
       "\n",
       "       [[0.5  ]],\n",
       "\n",
       "       [[0.375]],\n",
       "\n",
       "       [[0.375]],\n",
       "\n",
       "       [[0.625]],\n",
       "\n",
       "       [[0.25 ]],\n",
       "\n",
       "       [[0.25 ]],\n",
       "\n",
       "       [[0.   ]],\n",
       "\n",
       "       [[0.5  ]],\n",
       "\n",
       "       [[0.25 ]],\n",
       "\n",
       "       [[0.375]],\n",
       "\n",
       "       [[0.375]],\n",
       "\n",
       "       [[0.5  ]],\n",
       "\n",
       "       [[0.25 ]],\n",
       "\n",
       "       [[0.   ]],\n",
       "\n",
       "       [[0.375]],\n",
       "\n",
       "       [[0.375]],\n",
       "\n",
       "       [[0.75 ]],\n",
       "\n",
       "       [[0.375]],\n",
       "\n",
       "       [[0.375]],\n",
       "\n",
       "       [[0.375]],\n",
       "\n",
       "       [[0.   ]],\n",
       "\n",
       "       [[0.125]],\n",
       "\n",
       "       [[0.25 ]],\n",
       "\n",
       "       [[0.375]],\n",
       "\n",
       "       [[0.375]],\n",
       "\n",
       "       [[0.375]],\n",
       "\n",
       "       [[0.   ]],\n",
       "\n",
       "       [[0.375]],\n",
       "\n",
       "       [[0.   ]],\n",
       "\n",
       "       [[0.375]],\n",
       "\n",
       "       [[0.375]],\n",
       "\n",
       "       [[0.375]],\n",
       "\n",
       "       [[0.375]],\n",
       "\n",
       "       [[0.375]],\n",
       "\n",
       "       [[0.   ]],\n",
       "\n",
       "       [[0.375]],\n",
       "\n",
       "       [[0.375]],\n",
       "\n",
       "       [[0.375]],\n",
       "\n",
       "       [[0.   ]],\n",
       "\n",
       "       [[0.375]],\n",
       "\n",
       "       [[0.   ]],\n",
       "\n",
       "       [[0.   ]],\n",
       "\n",
       "       [[0.   ]],\n",
       "\n",
       "       [[0.   ]],\n",
       "\n",
       "       [[0.   ]],\n",
       "\n",
       "       [[0.   ]],\n",
       "\n",
       "       [[0.   ]],\n",
       "\n",
       "       [[0.   ]],\n",
       "\n",
       "       [[0.25 ]],\n",
       "\n",
       "       [[0.125]],\n",
       "\n",
       "       [[0.   ]],\n",
       "\n",
       "       [[0.375]],\n",
       "\n",
       "       [[0.75 ]],\n",
       "\n",
       "       [[0.   ]],\n",
       "\n",
       "       [[0.25 ]],\n",
       "\n",
       "       [[0.125]],\n",
       "\n",
       "       [[0.375]],\n",
       "\n",
       "       [[0.75 ]],\n",
       "\n",
       "       [[0.375]],\n",
       "\n",
       "       [[0.75 ]],\n",
       "\n",
       "       [[0.375]],\n",
       "\n",
       "       [[0.125]],\n",
       "\n",
       "       [[0.25 ]],\n",
       "\n",
       "       [[0.75 ]],\n",
       "\n",
       "       [[0.375]],\n",
       "\n",
       "       [[0.375]],\n",
       "\n",
       "       [[0.5  ]],\n",
       "\n",
       "       [[0.625]],\n",
       "\n",
       "       [[0.375]],\n",
       "\n",
       "       [[0.375]],\n",
       "\n",
       "       [[0.375]],\n",
       "\n",
       "       [[0.375]],\n",
       "\n",
       "       [[0.375]],\n",
       "\n",
       "       [[0.375]],\n",
       "\n",
       "       [[0.375]],\n",
       "\n",
       "       [[0.25 ]],\n",
       "\n",
       "       [[0.375]],\n",
       "\n",
       "       [[0.75 ]],\n",
       "\n",
       "       [[0.75 ]],\n",
       "\n",
       "       [[0.375]],\n",
       "\n",
       "       [[0.75 ]],\n",
       "\n",
       "       [[0.75 ]],\n",
       "\n",
       "       [[0.75 ]],\n",
       "\n",
       "       [[0.375]],\n",
       "\n",
       "       [[0.375]],\n",
       "\n",
       "       [[0.75 ]],\n",
       "\n",
       "       [[0.75 ]],\n",
       "\n",
       "       [[0.375]],\n",
       "\n",
       "       [[0.375]],\n",
       "\n",
       "       [[0.375]],\n",
       "\n",
       "       [[0.375]],\n",
       "\n",
       "       [[0.375]],\n",
       "\n",
       "       [[0.375]],\n",
       "\n",
       "       [[0.375]],\n",
       "\n",
       "       [[0.375]],\n",
       "\n",
       "       [[0.375]],\n",
       "\n",
       "       [[0.   ]],\n",
       "\n",
       "       [[0.   ]],\n",
       "\n",
       "       [[0.375]],\n",
       "\n",
       "       [[0.   ]],\n",
       "\n",
       "       [[0.375]],\n",
       "\n",
       "       [[0.   ]],\n",
       "\n",
       "       [[0.375]],\n",
       "\n",
       "       [[0.375]],\n",
       "\n",
       "       [[0.   ]],\n",
       "\n",
       "       [[0.375]],\n",
       "\n",
       "       [[0.125]],\n",
       "\n",
       "       [[0.5  ]],\n",
       "\n",
       "       [[0.125]],\n",
       "\n",
       "       [[0.375]],\n",
       "\n",
       "       [[0.375]],\n",
       "\n",
       "       [[0.   ]],\n",
       "\n",
       "       [[0.25 ]],\n",
       "\n",
       "       [[0.125]],\n",
       "\n",
       "       [[0.375]],\n",
       "\n",
       "       [[0.   ]],\n",
       "\n",
       "       [[0.625]],\n",
       "\n",
       "       [[0.125]],\n",
       "\n",
       "       [[0.125]],\n",
       "\n",
       "       [[0.25 ]],\n",
       "\n",
       "       [[0.125]],\n",
       "\n",
       "       [[0.25 ]],\n",
       "\n",
       "       [[0.375]],\n",
       "\n",
       "       [[0.375]],\n",
       "\n",
       "       [[0.375]],\n",
       "\n",
       "       [[0.   ]],\n",
       "\n",
       "       [[0.375]],\n",
       "\n",
       "       [[0.375]],\n",
       "\n",
       "       [[0.   ]],\n",
       "\n",
       "       [[0.125]],\n",
       "\n",
       "       [[0.625]],\n",
       "\n",
       "       [[0.375]],\n",
       "\n",
       "       [[0.   ]],\n",
       "\n",
       "       [[0.375]],\n",
       "\n",
       "       [[0.   ]],\n",
       "\n",
       "       [[0.25 ]],\n",
       "\n",
       "       [[0.125]]])"
      ]
     },
     "execution_count": 30,
     "metadata": {},
     "output_type": "execute_result"
    }
   ],
   "source": [
    "X_train"
   ]
  },
  {
   "cell_type": "code",
   "execution_count": 31,
   "metadata": {
    "scrolled": true
   },
   "outputs": [
    {
     "data": {
      "text/html": [
       "<div>\n",
       "<style scoped>\n",
       "    .dataframe tbody tr th:only-of-type {\n",
       "        vertical-align: middle;\n",
       "    }\n",
       "\n",
       "    .dataframe tbody tr th {\n",
       "        vertical-align: top;\n",
       "    }\n",
       "\n",
       "    .dataframe thead th {\n",
       "        text-align: right;\n",
       "    }\n",
       "</style>\n",
       "<table border=\"1\" class=\"dataframe\">\n",
       "  <thead>\n",
       "    <tr style=\"text-align: right;\">\n",
       "      <th></th>\n",
       "      <th>var1(t-1)</th>\n",
       "      <th>var1(t)</th>\n",
       "    </tr>\n",
       "    <tr>\n",
       "      <th>date</th>\n",
       "      <th></th>\n",
       "      <th></th>\n",
       "    </tr>\n",
       "  </thead>\n",
       "  <tbody>\n",
       "    <tr>\n",
       "      <th>2016-11-07</th>\n",
       "      <td>2.0</td>\n",
       "      <td>1</td>\n",
       "    </tr>\n",
       "    <tr>\n",
       "      <th>2016-11-08</th>\n",
       "      <td>1.0</td>\n",
       "      <td>0</td>\n",
       "    </tr>\n",
       "    <tr>\n",
       "      <th>2016-11-09</th>\n",
       "      <td>0.0</td>\n",
       "      <td>0</td>\n",
       "    </tr>\n",
       "    <tr>\n",
       "      <th>2016-11-10</th>\n",
       "      <td>0.0</td>\n",
       "      <td>3</td>\n",
       "    </tr>\n",
       "    <tr>\n",
       "      <th>2016-11-11</th>\n",
       "      <td>3.0</td>\n",
       "      <td>0</td>\n",
       "    </tr>\n",
       "  </tbody>\n",
       "</table>\n",
       "</div>"
      ],
      "text/plain": [
       "            var1(t-1)  var1(t)\n",
       "date                          \n",
       "2016-11-07        2.0        1\n",
       "2016-11-08        1.0        0\n",
       "2016-11-09        0.0        0\n",
       "2016-11-10        0.0        3\n",
       "2016-11-11        3.0        0"
      ]
     },
     "execution_count": 31,
     "metadata": {},
     "output_type": "execute_result"
    }
   ],
   "source": [
    "dftrain.head()"
   ]
  },
  {
   "cell_type": "code",
   "execution_count": 32,
   "metadata": {},
   "outputs": [
    {
     "data": {
      "text/plain": [
       "918.0"
      ]
     },
     "execution_count": 32,
     "metadata": {},
     "output_type": "execute_result"
    }
   ],
   "source": [
    "dftrain['var1(t-1)'].sum()"
   ]
  },
  {
   "cell_type": "markdown",
   "metadata": {},
   "source": [
    "### 1 - Densely Connected Model"
   ]
  },
  {
   "cell_type": "code",
   "execution_count": 33,
   "metadata": {
    "scrolled": true
   },
   "outputs": [
    {
     "data": {
      "image/png": "[encoded data removed]",
      "text/plain": [
       "<Figure size 432x288 with 1 Axes>"
      ]
     },
     "metadata": {},
     "output_type": "display_data"
    },
    {
     "name": "stdout",
     "output_type": "stream",
     "text": [
      "loss: 0.17661995445730713\n",
      "val_loss: 0.2002532140274222\n"
     ]
    }
   ],
   "source": [
    "flatmodel = flatModel(X_train, y_train, X_test, y_test, epochs=80, batch_size=8, loss='mae', units=4)"
   ]
  },
  {
   "cell_type": "code",
   "execution_count": 34,
   "metadata": {},
   "outputs": [
    {
     "name": "stdout",
     "output_type": "stream",
     "text": [
      "Validasi RMSE: 1.61892\n",
      "Validasi MAE: 1.37184\n"
     ]
    }
   ],
   "source": [
    "evalForecast(flatmodel, X_train, y_train, inverse=True, scaler=scaler)"
   ]
  },
  {
   "cell_type": "code",
   "execution_count": 35,
   "metadata": {},
   "outputs": [],
   "source": [
    "#flatmodel.model.save('./training/forecast_nn_5aa2ad7735d6d34b0032a795_flatmodel.h5')"
   ]
  },
  {
   "cell_type": "markdown",
   "metadata": {},
   "source": [
    "### 3 - GRU-based Model with Dropout"
   ]
  },
  {
   "cell_type": "code",
   "execution_count": 36,
   "metadata": {
    "scrolled": true
   },
   "outputs": [
    {
     "data": {
      "image/png": "[encoded data removed]",
      "text/plain": [
       "<Figure size 432x288 with 1 Axes>"
      ]
     },
     "metadata": {},
     "output_type": "display_data"
    },
    {
     "name": "stdout",
     "output_type": "stream",
     "text": [
      "loss: 0.1714006496384234\n",
      "val_loss: 0.20723850642020503\n"
     ]
    }
   ],
   "source": [
    "grudropmodel = gruDropModel(X_train, y_train, X_test, y_test, epochs=200, batch_size=8, units=8, drop=0.01, recdrop=0.01, lr=0.0001)"
   ]
  },
  {
   "cell_type": "code",
   "execution_count": 37,
   "metadata": {},
   "outputs": [
    {
     "name": "stdout",
     "output_type": "stream",
     "text": [
      "Validasi RMSE: 1.57873\n",
      "Validasi MAE: 1.35276\n"
     ]
    }
   ],
   "source": [
    "evalForecast(grudropmodel, X_train, y_train, inverse=True, scaler=scaler)"
   ]
  },
  {
   "cell_type": "code",
   "execution_count": 49,
   "metadata": {},
   "outputs": [],
   "source": [
    "#grudropmodel.model.save('./training/forecast_nn_5aa2ad7735d6d34b0032a795_grudropmodel_uni.h5')"
   ]
  },
  {
   "cell_type": "markdown",
   "metadata": {},
   "source": [
    "### 4 - LSTM-based Model"
   ]
  },
  {
   "cell_type": "code",
   "execution_count": 22,
   "metadata": {
    "scrolled": true
   },
   "outputs": [
    {
     "data": {
      "image/png": "[encoded data removed]",
      "text/plain": [
       "<Figure size 432x288 with 1 Axes>"
      ]
     },
     "metadata": {},
     "output_type": "display_data"
    },
    {
     "name": "stdout",
     "output_type": "stream",
     "text": [
      "loss: 0.16988054874846736\n",
      "val_loss: 0.1952346855774522\n"
     ]
    }
   ],
   "source": [
    "lstmmodel = lstmModel(X_train, y_train, X_test, y_test, epochs=200, batch_size=8, units=4, drop=0.002, recdrop=0.002)"
   ]
  },
  {
   "cell_type": "code",
   "execution_count": 23,
   "metadata": {},
   "outputs": [
    {
     "name": "stdout",
     "output_type": "stream",
     "text": [
      "Validasi RMSE: 1.56656\n",
      "Validasi MAE: 1.34726\n"
     ]
    }
   ],
   "source": [
    "evalForecast(lstmmodel, X_train, y_train, inverse=True, scaler=scaler)"
   ]
  },
  {
   "cell_type": "code",
   "execution_count": 15,
   "metadata": {},
   "outputs": [],
   "source": [
    "#lstmmodel.model.save('./training/forecast_nn_5aa2ad7735d6d34b0032a795_lstmmodel_uni.h5')"
   ]
  },
  {
   "cell_type": "markdown",
   "metadata": {},
   "source": [
    "## <font color=blue> 2. Mongodb ID: 5aa39533ae1f941be7165ecd </font>"
   ]
  },
  {
   "cell_type": "code",
   "execution_count": 38,
   "metadata": {},
   "outputs": [],
   "source": [
    "product = genData('5aa39533ae1f941be7165ecd', conn, c, impute=False, freq='daily')\n",
    "X_train, y_train, X_test, y_test, dftrain, scaler = splitDataNN(product, percent=0.2)"
   ]
  },
  {
   "cell_type": "code",
   "execution_count": 39,
   "metadata": {},
   "outputs": [
    {
     "data": {
      "text/plain": [
       "((463, 1, 1), (580, 3))"
      ]
     },
     "execution_count": 39,
     "metadata": {},
     "output_type": "execute_result"
    }
   ],
   "source": [
    "X_train.shape, product.shape"
   ]
  },
  {
   "cell_type": "markdown",
   "metadata": {},
   "source": [
    "### 1 - Densely Connected Model"
   ]
  },
  {
   "cell_type": "code",
   "execution_count": 40,
   "metadata": {
    "scrolled": true
   },
   "outputs": [
    {
     "data": {
      "image/png": "[encoded data removed]",
      "text/plain": [
       "<Figure size 432x288 with 1 Axes>"
      ]
     },
     "metadata": {},
     "output_type": "display_data"
    },
    {
     "name": "stdout",
     "output_type": "stream",
     "text": [
      "loss: 0.19943700941887002\n",
      "val_loss: 0.2154142653730152\n"
     ]
    }
   ],
   "source": [
    "flatmodel = flatModel(X_train, y_train, X_test, y_test, epochs=80, batch_size=16, units=8)"
   ]
  },
  {
   "cell_type": "code",
   "execution_count": 41,
   "metadata": {},
   "outputs": [
    {
     "name": "stdout",
     "output_type": "stream",
     "text": [
      "Validasi RMSE: 1.61171\n",
      "Validasi MAE: 1.33735\n"
     ]
    }
   ],
   "source": [
    "evalForecast(flatmodel, X_train, y_train, inverse=True, scaler=scaler)"
   ]
  },
  {
   "cell_type": "code",
   "execution_count": 34,
   "metadata": {},
   "outputs": [],
   "source": [
    "#flatmodel.model.save('./training/forecast_nn_5aa39533ae1f941be7165ecd_flatmodel.h5')"
   ]
  },
  {
   "cell_type": "markdown",
   "metadata": {},
   "source": [
    "### 3 - GRU-based Model with Dropout"
   ]
  },
  {
   "cell_type": "code",
   "execution_count": 42,
   "metadata": {
    "scrolled": true
   },
   "outputs": [
    {
     "data": {
      "image/png": "[encoded data removed]",
      "text/plain": [
       "<Figure size 432x288 with 1 Axes>"
      ]
     },
     "metadata": {},
     "output_type": "display_data"
    },
    {
     "name": "stdout",
     "output_type": "stream",
     "text": [
      "loss: 0.19170825296960625\n",
      "val_loss: 0.20013749780326054\n"
     ]
    }
   ],
   "source": [
    "grudropmodel = gruDropModel(X_train, y_train, X_test, y_test, epochs=200, batch_size=32, units=8, drop=0.01, recdrop=0.01, lr=0.0009)"
   ]
  },
  {
   "cell_type": "code",
   "execution_count": 43,
   "metadata": {},
   "outputs": [
    {
     "name": "stdout",
     "output_type": "stream",
     "text": [
      "Validasi RMSE: 1.59232\n",
      "Validasi MAE: 1.32929\n"
     ]
    }
   ],
   "source": [
    "evalForecast(grudropmodel, X_train, y_train, inverse=True, scaler=scaler)"
   ]
  },
  {
   "cell_type": "code",
   "execution_count": 57,
   "metadata": {},
   "outputs": [],
   "source": [
    "#grudropmodel.model.save('./training/forecast_nn_5aa39533ae1f941be7165ecd_grudropmodel_uni.h5')"
   ]
  },
  {
   "cell_type": "markdown",
   "metadata": {},
   "source": [
    "### 4 - LSTM-based Model"
   ]
  },
  {
   "cell_type": "code",
   "execution_count": 44,
   "metadata": {
    "scrolled": true
   },
   "outputs": [
    {
     "data": {
      "image/png": "[encoded data removed]",
      "text/plain": [
       "<Figure size 432x288 with 1 Axes>"
      ]
     },
     "metadata": {},
     "output_type": "display_data"
    },
    {
     "name": "stdout",
     "output_type": "stream",
     "text": [
      "loss: 0.19500251777421837\n",
      "val_loss: 0.20499777820089768\n"
     ]
    }
   ],
   "source": [
    "lstmmodel = lstmModel(X_train, y_train, X_test, y_test, epochs=200, batch_size=32, units=8, drop=0.01, recdrop=0.01, lr=0.0005)"
   ]
  },
  {
   "cell_type": "code",
   "execution_count": 45,
   "metadata": {},
   "outputs": [
    {
     "name": "stdout",
     "output_type": "stream",
     "text": [
      "Validasi RMSE: 1.59801\n",
      "Validasi MAE: 1.32536\n"
     ]
    }
   ],
   "source": [
    "evalForecast(lstmmodel, X_train, y_train, inverse=True, scaler=scaler)"
   ]
  },
  {
   "cell_type": "code",
   "execution_count": 23,
   "metadata": {},
   "outputs": [],
   "source": [
    "#lstmmodel.model.save('./training/forecast_nn_5aa39533ae1f941be7165ecd_lstmmodel_uni.h5')"
   ]
  },
  {
   "cell_type": "markdown",
   "metadata": {},
   "source": [
    "## <font color=blue> 3. Mongodb ID: 5a93e8768cbad97881597597 </font>"
   ]
  },
  {
   "cell_type": "code",
   "execution_count": 46,
   "metadata": {},
   "outputs": [],
   "source": [
    "product = genData('5a93e8768cbad97881597597', conn, c, impute=False, freq='daily')\n",
    "X_train, y_train, X_test, y_test, dftrain, scaler = splitDataNN(product, percent=0.2)"
   ]
  },
  {
   "cell_type": "code",
   "execution_count": 47,
   "metadata": {},
   "outputs": [
    {
     "data": {
      "text/plain": [
       "((894, 1, 1), (1119, 3))"
      ]
     },
     "execution_count": 47,
     "metadata": {},
     "output_type": "execute_result"
    }
   ],
   "source": [
    "X_train.shape, product.shape"
   ]
  },
  {
   "cell_type": "markdown",
   "metadata": {},
   "source": [
    "### 1 - Densely Connected Model"
   ]
  },
  {
   "cell_type": "code",
   "execution_count": 48,
   "metadata": {
    "scrolled": true
   },
   "outputs": [
    {
     "data": {
      "image/png": "[encoded data removed]",
      "text/plain": [
       "<Figure size 432x288 with 1 Axes>"
      ]
     },
     "metadata": {},
     "output_type": "display_data"
    },
    {
     "name": "stdout",
     "output_type": "stream",
     "text": [
      "loss: 0.1127419008650469\n",
      "val_loss: 0.05211519541751062\n"
     ]
    }
   ],
   "source": [
    "flatmodel = flatModel(X_train, y_train, X_test, y_test, epochs=80, batch_size=64, loss='mae', units=8)"
   ]
  },
  {
   "cell_type": "code",
   "execution_count": 49,
   "metadata": {},
   "outputs": [
    {
     "name": "stdout",
     "output_type": "stream",
     "text": [
      "Validasi RMSE: 6.15889\n",
      "Validasi MAE: 3.29418\n"
     ]
    }
   ],
   "source": [
    "evalForecast(flatmodel, X_train, y_train, inverse=True, scaler=scaler)"
   ]
  },
  {
   "cell_type": "code",
   "execution_count": 48,
   "metadata": {},
   "outputs": [],
   "source": [
    "#flatmodel.model.save('./training/forecast_nn_5a93e8768cbad97881597597_flatmodel.h5')"
   ]
  },
  {
   "cell_type": "markdown",
   "metadata": {},
   "source": [
    "### 3 - GRU-based Model with Dropout"
   ]
  },
  {
   "cell_type": "code",
   "execution_count": 50,
   "metadata": {
    "scrolled": true
   },
   "outputs": [
    {
     "data": {
      "image/png": "[encoded data removed]",
      "text/plain": [
       "<Figure size 432x288 with 1 Axes>"
      ]
     },
     "metadata": {},
     "output_type": "display_data"
    },
    {
     "name": "stdout",
     "output_type": "stream",
     "text": [
      "loss: 0.10981878207859626\n",
      "val_loss: 0.053190346206538376\n"
     ]
    }
   ],
   "source": [
    "grudropmodel = gruDropModel(X_train, y_train, X_test, y_test, epochs=200, batch_size=16, units=8, drop=0.01, recdrop=0.01, lr=0.0008)"
   ]
  },
  {
   "cell_type": "code",
   "execution_count": 51,
   "metadata": {},
   "outputs": [
    {
     "name": "stdout",
     "output_type": "stream",
     "text": [
      "Validasi RMSE: 6.04369\n",
      "Validasi MAE: 3.31109\n"
     ]
    }
   ],
   "source": [
    "evalForecast(grudropmodel, X_train, y_train, inverse=True, scaler=scaler)"
   ]
  },
  {
   "cell_type": "code",
   "execution_count": 64,
   "metadata": {},
   "outputs": [],
   "source": [
    "#grudropmodel.model.save('./training/forecast_nn_5a93e8768cbad97881597597_grudropmodel_uni.h5')"
   ]
  },
  {
   "cell_type": "markdown",
   "metadata": {},
   "source": [
    "### 4 - LSTM-based Model"
   ]
  },
  {
   "cell_type": "code",
   "execution_count": 52,
   "metadata": {
    "scrolled": true
   },
   "outputs": [
    {
     "data": {
      "image/png": "[encoded data removed]",
      "text/plain": [
       "<Figure size 432x288 with 1 Axes>"
      ]
     },
     "metadata": {},
     "output_type": "display_data"
    },
    {
     "name": "stdout",
     "output_type": "stream",
     "text": [
      "loss: 0.10967918021494384\n",
      "val_loss: 0.051309744884659135\n"
     ]
    }
   ],
   "source": [
    "lstmmodel = lstmModel(X_train, y_train, X_test, y_test, epochs=200, batch_size=16, units=8, drop=0.02, recdrop=0.02, lr=0.0008)"
   ]
  },
  {
   "cell_type": "code",
   "execution_count": 53,
   "metadata": {},
   "outputs": [
    {
     "name": "stdout",
     "output_type": "stream",
     "text": [
      "Validasi RMSE: 6.12341\n",
      "Validasi MAE: 3.30122\n"
     ]
    }
   ],
   "source": [
    "evalForecast(lstmmodel, X_train, y_train, inverse=True, scaler=scaler)"
   ]
  },
  {
   "cell_type": "code",
   "execution_count": 56,
   "metadata": {},
   "outputs": [],
   "source": [
    "#lstmmodel.model.save('./training/forecast_nn_5a93e8768cbad97881597597_lstmmodel_uni.h5')"
   ]
  },
  {
   "cell_type": "markdown",
   "metadata": {},
   "source": [
    "## <font color=blue> 5. Mongodb ID: 5aa2c35e35d6d34b0032a796 </font>"
   ]
  },
  {
   "cell_type": "code",
   "execution_count": 54,
   "metadata": {},
   "outputs": [],
   "source": [
    "product = genData('5aa2c35e35d6d34b0032a796', conn, c, impute=False, freq='daily')\n",
    "X_train, y_train, X_test, y_test, dftrain, scaler = splitDataNN(product, percent=0.2)"
   ]
  },
  {
   "cell_type": "code",
   "execution_count": 55,
   "metadata": {},
   "outputs": [
    {
     "data": {
      "text/plain": [
       "((341, 1, 1), (428, 3))"
      ]
     },
     "execution_count": 55,
     "metadata": {},
     "output_type": "execute_result"
    }
   ],
   "source": [
    "X_train.shape, product.shape"
   ]
  },
  {
   "cell_type": "markdown",
   "metadata": {},
   "source": [
    "### 1 - Densely Connected Model"
   ]
  },
  {
   "cell_type": "code",
   "execution_count": 56,
   "metadata": {
    "scrolled": true
   },
   "outputs": [
    {
     "data": {
      "image/png": "[encoded data removed]",
      "text/plain": [
       "<Figure size 432x288 with 1 Axes>"
      ]
     },
     "metadata": {},
     "output_type": "display_data"
    },
    {
     "name": "stdout",
     "output_type": "stream",
     "text": [
      "loss: 0.05968757348491529\n",
      "val_loss: 0.17815691964310962\n"
     ]
    }
   ],
   "source": [
    "flatmodel = flatModel(X_train, y_train, X_test, y_test, epochs=80, batch_size=16, loss='mae', units=8)"
   ]
  },
  {
   "cell_type": "code",
   "execution_count": 57,
   "metadata": {},
   "outputs": [
    {
     "name": "stdout",
     "output_type": "stream",
     "text": [
      "Validasi RMSE: 5.75954\n",
      "Validasi MAE: 3.79582\n"
     ]
    }
   ],
   "source": [
    "evalForecast(flatmodel, X_train, y_train, inverse=True, scaler=scaler)"
   ]
  },
  {
   "cell_type": "code",
   "execution_count": 86,
   "metadata": {},
   "outputs": [],
   "source": [
    "#flatmodel.model.save('./training/forecast_nn_5aa2c35e35d6d34b0032a796_flatmodel.h5')"
   ]
  },
  {
   "cell_type": "markdown",
   "metadata": {},
   "source": [
    "### 3 - GRU-based Model with Dropout"
   ]
  },
  {
   "cell_type": "code",
   "execution_count": 58,
   "metadata": {
    "scrolled": true
   },
   "outputs": [
    {
     "data": {
      "image/png": "[encoded data removed]",
      "text/plain": [
       "<Figure size 432x288 with 1 Axes>"
      ]
     },
     "metadata": {},
     "output_type": "display_data"
    },
    {
     "name": "stdout",
     "output_type": "stream",
     "text": [
      "loss: 0.05951401035114005\n",
      "val_loss: 0.15103310537719447\n"
     ]
    }
   ],
   "source": [
    "grudropmodel = gruDropModel(X_train, y_train, X_test, y_test, epochs=200, batch_size=16, units=8, drop=0.01, recdrop=0.01, lr=0.0005)"
   ]
  },
  {
   "cell_type": "code",
   "execution_count": 59,
   "metadata": {},
   "outputs": [
    {
     "name": "stdout",
     "output_type": "stream",
     "text": [
      "Validasi RMSE: 5.41701\n",
      "Validasi MAE: 3.81468\n"
     ]
    }
   ],
   "source": [
    "evalForecast(grudropmodel, X_train, y_train, inverse=True, scaler=scaler)"
   ]
  },
  {
   "cell_type": "code",
   "execution_count": 73,
   "metadata": {},
   "outputs": [],
   "source": [
    "#grudropmodel.model.save('./training/forecast_nn_5aa2c35e35d6d34b0032a796_grudropmodel_uni.h5')"
   ]
  },
  {
   "cell_type": "markdown",
   "metadata": {},
   "source": [
    "### 4 - LSTM-based Model"
   ]
  },
  {
   "cell_type": "code",
   "execution_count": 60,
   "metadata": {
    "scrolled": true
   },
   "outputs": [
    {
     "data": {
      "image/png": "[encoded data removed]",
      "text/plain": [
       "<Figure size 432x288 with 1 Axes>"
      ]
     },
     "metadata": {},
     "output_type": "display_data"
    },
    {
     "name": "stdout",
     "output_type": "stream",
     "text": [
      "loss: 0.058869541892367906\n",
      "val_loss: 0.17594517501980758\n"
     ]
    }
   ],
   "source": [
    "lstmmodel = lstmModel(X_train, y_train, X_test, y_test, epochs=200, batch_size=8, units=4, drop=0.01, recdrop=0.01, lr=0.00008)"
   ]
  },
  {
   "cell_type": "code",
   "execution_count": 61,
   "metadata": {},
   "outputs": [
    {
     "name": "stdout",
     "output_type": "stream",
     "text": [
      "Validasi RMSE: 5.97988\n",
      "Validasi MAE: 3.77054\n"
     ]
    }
   ],
   "source": [
    "evalForecast(lstmmodel, X_train, y_train, inverse=True, scaler=scaler)"
   ]
  },
  {
   "cell_type": "code",
   "execution_count": 94,
   "metadata": {},
   "outputs": [],
   "source": [
    "#lstmmodel.model.save('./training/forecast_nn_5aa2c35e35d6d34b0032a796_lstmmodel.h5')"
   ]
  },
  {
   "cell_type": "markdown",
   "metadata": {},
   "source": [
    "## <font color=blue> 6. Mongodb ID: 5a9347b98cbad97074cb1890 </font>"
   ]
  },
  {
   "cell_type": "code",
   "execution_count": 62,
   "metadata": {},
   "outputs": [],
   "source": [
    "product = genData('5a9347b98cbad97074cb1890', conn, c, impute=False, freq='daily')\n",
    "X_train, y_train, X_test, y_test, dftrain, scaler = splitDataNN(product, percent=0.2)"
   ]
  },
  {
   "cell_type": "code",
   "execution_count": 63,
   "metadata": {},
   "outputs": [
    {
     "data": {
      "text/plain": [
       "((252, 1, 1), (317, 3))"
      ]
     },
     "execution_count": 63,
     "metadata": {},
     "output_type": "execute_result"
    }
   ],
   "source": [
    "X_train.shape, product.shape"
   ]
  },
  {
   "cell_type": "markdown",
   "metadata": {},
   "source": [
    "### 1 - Densely Connected Model"
   ]
  },
  {
   "cell_type": "code",
   "execution_count": 64,
   "metadata": {
    "scrolled": true
   },
   "outputs": [
    {
     "data": {
      "image/png": "[encoded data removed]",
      "text/plain": [
       "<Figure size 432x288 with 1 Axes>"
      ]
     },
     "metadata": {},
     "output_type": "display_data"
    },
    {
     "name": "stdout",
     "output_type": "stream",
     "text": [
      "loss: 0.03781872448524819\n",
      "val_loss: 0.12288619973696768\n"
     ]
    }
   ],
   "source": [
    "flatmodel = flatModel(X_train, y_train, X_test, y_test, epochs=80, batch_size=16, loss='mae', units=8)"
   ]
  },
  {
   "cell_type": "code",
   "execution_count": 65,
   "metadata": {},
   "outputs": [
    {
     "name": "stdout",
     "output_type": "stream",
     "text": [
      "Validasi RMSE: 0.28178\n",
      "Validasi MAE: 0.07167\n"
     ]
    }
   ],
   "source": [
    "evalForecast(flatmodel, X_train, y_train, inverse=True, scaler=scaler)"
   ]
  },
  {
   "cell_type": "code",
   "execution_count": 102,
   "metadata": {},
   "outputs": [],
   "source": [
    "#flatmodel.model.save('./training/forecast_nn_5a92474635d6d32207bcd343_flatmodel.h5')"
   ]
  },
  {
   "cell_type": "markdown",
   "metadata": {},
   "source": [
    "### 3 - GRU-based Model with Dropout"
   ]
  },
  {
   "cell_type": "code",
   "execution_count": 66,
   "metadata": {
    "scrolled": true
   },
   "outputs": [
    {
     "data": {
      "image/png": "[encoded data removed]",
      "text/plain": [
       "<Figure size 432x288 with 1 Axes>"
      ]
     },
     "metadata": {},
     "output_type": "display_data"
    },
    {
     "name": "stdout",
     "output_type": "stream",
     "text": [
      "loss: 0.036681438941844204\n",
      "val_loss: 0.11863809020424924\n"
     ]
    }
   ],
   "source": [
    "grudropmodel = gruDropModel(X_train, y_train, X_test, y_test, epochs=200, batch_size=8, units=4, drop=0.05, recdrop=0.05, lr=0.001)"
   ]
  },
  {
   "cell_type": "code",
   "execution_count": 67,
   "metadata": {},
   "outputs": [
    {
     "name": "stdout",
     "output_type": "stream",
     "text": [
      "Validasi RMSE: 0.28123\n",
      "Validasi MAE: 0.07332\n"
     ]
    }
   ],
   "source": [
    "evalForecast(grudropmodel, X_train, y_train, inverse=True, scaler=scaler)"
   ]
  },
  {
   "cell_type": "code",
   "execution_count": 81,
   "metadata": {},
   "outputs": [],
   "source": [
    "#grudropmodel.model.save('./training/forecast_nn_5a9347b98cbad97074cb1890_grudropmodel_uni.h5')"
   ]
  },
  {
   "cell_type": "markdown",
   "metadata": {},
   "source": [
    "### 4 - LSTM-based Model"
   ]
  },
  {
   "cell_type": "code",
   "execution_count": 68,
   "metadata": {
    "scrolled": true
   },
   "outputs": [
    {
     "data": {
      "image/png": "[encoded data removed]",
      "text/plain": [
       "<Figure size 432x288 with 1 Axes>"
      ]
     },
     "metadata": {},
     "output_type": "display_data"
    },
    {
     "name": "stdout",
     "output_type": "stream",
     "text": [
      "loss: 0.03673942782084695\n",
      "val_loss: 0.11914959985693485\n"
     ]
    }
   ],
   "source": [
    "lstmmodel = lstmModel(X_train, y_train, X_test, y_test, epochs=200, batch_size=8, units=4, drop=0.02, recdrop=0.02, lr=0.001)"
   ]
  },
  {
   "cell_type": "code",
   "execution_count": 69,
   "metadata": {},
   "outputs": [
    {
     "name": "stdout",
     "output_type": "stream",
     "text": [
      "Validasi RMSE: 0.28126\n",
      "Validasi MAE: 0.07337\n"
     ]
    }
   ],
   "source": [
    "evalForecast(lstmmodel, X_train, y_train, inverse=True, scaler=scaler)"
   ]
  },
  {
   "cell_type": "code",
   "execution_count": 110,
   "metadata": {},
   "outputs": [],
   "source": [
    "#lstmmodel.model.save('./training/forecast_nn_5a92474635d6d32207bcd343_lstmmodel.h5')"
   ]
  },
  {
   "cell_type": "code",
   "execution_count": null,
   "metadata": {},
   "outputs": [],
   "source": []
  }
 ],
 "metadata": {
  "kernelspec": {
   "display_name": "Python 3",
   "language": "python",
   "name": "python3"
  },
  "language_info": {
   "codemirror_mode": {
    "name": "ipython",
    "version": 3
   },
   "file_extension": ".py",
   "mimetype": "text/x-python",
   "name": "python",
   "nbconvert_exporter": "python",
   "pygments_lexer": "ipython3",
   "version": "3.6.5"
  }
 },
 "nbformat": 4,
 "nbformat_minor": 2
}
