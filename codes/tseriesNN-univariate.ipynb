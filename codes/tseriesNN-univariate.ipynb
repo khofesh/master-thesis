{
 "cells": [
  {
   "cell_type": "markdown",
   "metadata": {},
   "source": [
    "# Recurrent Neural Network Forecasting Model"
   ]
  },
  {
   "cell_type": "code",
   "execution_count": 1,
   "metadata": {},
   "outputs": [
    {
     "name": "stderr",
     "output_type": "stream",
     "text": [
      "Using TensorFlow backend.\n"
     ]
    }
   ],
   "source": [
    "import tseriesRoutines as routines\n",
    "import matplotlib.pyplot as plt\n",
    "import numpy as np\n",
    "import pandas as pd\n",
    "import sqlite3\n",
    "from sklearn.preprocessing import StandardScaler, MinMaxScaler\n",
    "from sklearn.model_selection import train_test_split\n",
    "from sklearn.metrics import mean_squared_error, mean_absolute_error\n",
    "from math import ceil, sqrt\n",
    "from keras.models import Sequential\n",
    "from keras import layers\n",
    "from keras.optimizers import RMSprop, Adam, SGD, Adagrad, Adadelta"
   ]
  },
  {
   "cell_type": "code",
   "execution_count": 2,
   "metadata": {},
   "outputs": [],
   "source": [
    "# RESULT REPRODUCIBILITY\n",
    "########################\n",
    "import tensorflow as tf\n",
    "import random as rn\n",
    "\n",
    "# The below is necessary in Python 3.2.3 onwards to\n",
    "# have reproducible behavior for certain hash-based operations.\n",
    "# See these references for further details:\n",
    "# https://docs.python.org/3.4/using/cmdline.html#envvar-PYTHONHASHSEED\n",
    "# https://github.com/keras-team/keras/issues/2280#issuecomment-306959926\n",
    "import os\n",
    "os.environ['PYTHONHASHSEED'] = '0'\n",
    "\n",
    "# The below is necessary for starting Numpy generated random numbers\n",
    "# in a well-defined initial state.\n",
    "np.random.seed(42)\n",
    "\n",
    "# The below is necessary for starting core Python generated random numbers\n",
    "# in a well-defined state.\n",
    "rn.seed(42)\n",
    "\n",
    "# The below tf.set_random_seed() will make random number generation\n",
    "# in the TensorFlow backend have a well-defined initial state.\n",
    "# For further details, see: https://www.tensorflow.org/api_docs/python/tf/set_random_seed\n",
    "tf.set_random_seed(42)"
   ]
  },
  {
   "cell_type": "code",
   "execution_count": 3,
   "metadata": {},
   "outputs": [],
   "source": [
    "def genData(mongoid, conn, cursor, impute=True, freq='daily'):\n",
    "    '''\n",
    "    Generate a timeseries dataframe for timeseries modelling.\n",
    "    mongoid: str. string of mongodb id.\n",
    "    conn: sqlite3 connection.\n",
    "    cursor: sqlite3 cursor.\n",
    "    impute:\n",
    "    freq:\n",
    "    actualrevcount:\n",
    "    '''\n",
    "    initial = routines.sqlToDf(conn, cursor)\n",
    "    allproduct = initial.selectReview3(mongoid, impute=impute)\n",
    "    product = routines.tsSalesRateSentiment(allproduct, freq=freq)\n",
    "    return product\n",
    "    # product = genData('5aa2ad7735d6d34b0032a795', conn, c, impute=True, \n",
    "    #   freq='daily')\n"
   ]
  },
  {
   "cell_type": "code",
   "execution_count": 4,
   "metadata": {},
   "outputs": [],
   "source": [
    "def series_to_supervised(data, n_in=1, n_out=1, dropnan=True):\n",
    "    # https://machinelearningmastery.com/multivariate-time-series-forecasting-lstms-keras/\n",
    "    n_vars = 1 if type(data) is list else data.shape[1]\n",
    "    df = data.copy()\n",
    "    cols, names = list(), list()\n",
    "    # input sequence (t-n, ... t-1)\n",
    "    for i in range(n_in, 0, -1):\n",
    "        cols.append(df.shift(i))\n",
    "        names += [('var%d(t-%d)' % (j+1, i)) for j in range(n_vars)]\n",
    "\n",
    "    # forecast sequence (t, t+1, ... t+n)\n",
    "    for i in range(0, n_out):\n",
    "        cols.append(df.shift(-i))\n",
    "        if i == 0:\n",
    "            names += [('var%d(t)' % (j+1)) for j in range(n_vars)]\n",
    "        else:\n",
    "            names += [('var%d(t+%d)' % (j+1, i)) for j in range(n_vars)]\n",
    "\n",
    "    # put it all together\n",
    "    agg = pd.concat(cols, axis=1)\n",
    "    agg.columns = names\n",
    "    # drop rows with NaN values\n",
    "    if dropnan:\n",
    "        agg = agg.dropna()\n",
    "    return agg"
   ]
  },
  {
   "cell_type": "code",
   "execution_count": 5,
   "metadata": {},
   "outputs": [],
   "source": [
    "def splitDataNN(df, n_in=1, n_out=1, scale=True, percent=0.2):\n",
    "    '''\n",
    "    df: pandas dataframe. 3 columns (sales, rating, ovsentiment) with date as index\n",
    "    n_in:\n",
    "    n_out:\n",
    "    scale:\n",
    "    percent:\n",
    "    X_train, y_train, X_test, y_test, dftrain = splitDataNN(product, n_in=1, \n",
    "        n_out=1, scale=True, percent=0.2)\n",
    "    '''\n",
    "    dftrain = series_to_supervised(df, n_in=n_in, n_out=n_out)\n",
    "    # specific to this case\n",
    "    dftrain = dftrain.drop(dftrain.columns[[4, 5]], axis=1)\n",
    "    dftrain = dftrain[['var1(t-1)', 'var1(t)']]\n",
    "    values = dftrain.values\n",
    "\n",
    "    if scale:\n",
    "        scaler = MinMaxScaler()\n",
    "        values = scaler.fit_transform(values)\n",
    "    else:\n",
    "        pass\n",
    "\n",
    "    # training data\n",
    "    X, y = values[:, :-1], values[:, -1]\n",
    "    # train and test set\n",
    "    X_train, X_test, y_train, y_test = train_test_split(X, y, test_size=percent, \n",
    "            shuffle=False, random_state=42)\n",
    "    # reshape input to be 3D [samples, timesteps, features]\n",
    "    X_train = X_train.reshape((X_train.shape[0], 1, X_train.shape[1]))\n",
    "    X_test = X_test.reshape((X_test.shape[0], 1, X_test.shape[1]))\n",
    "    return X_train, y_train, X_test, y_test, dftrain, scaler"
   ]
  },
  {
   "cell_type": "code",
   "execution_count": 6,
   "metadata": {},
   "outputs": [],
   "source": [
    "# computing the common-sense baseline MAE\n",
    "def evaluate_naive_method(val_steps, val_gen):\n",
    "    batch_maes = []\n",
    "    for step in range(val_steps):\n",
    "        samples, targets = next(val_gen)\n",
    "        preds = samples[:, -1, 1]\n",
    "        mae = np.mean(np.abs(preds-targets))\n",
    "        batch_maes.append(mae)\n",
    "    print(np.mean(batch_maes))"
   ]
  },
  {
   "cell_type": "code",
   "execution_count": 7,
   "metadata": {},
   "outputs": [],
   "source": [
    "def flatModel(xtrain, ytrain, xtest, ytest, epochs, batch_size, units=50, shuffle=False, \n",
    "        metrics=['accuracy'], loss='mae', plot=True, lr=0.001, accplot=False):\n",
    "    '''\n",
    "    xtrain:\n",
    "    ytrain:\n",
    "    epochs:\n",
    "    batch_size:\n",
    "    units:\n",
    "    shuffle:\n",
    "    metrics:\n",
    "    loss:\n",
    "    plot:\n",
    "    flatmodel = flatModel(X_train, y_train, epochs=80, batch_size=64)\n",
    "    '''\n",
    "    # 1 - densely connected model\n",
    "    #############################\n",
    "    model = Sequential()\n",
    "    model.add(layers.Flatten(input_shape=(xtrain.shape[1], xtrain.shape[2])))\n",
    "    model.add(layers.Dense(units, activation='relu'))\n",
    "    model.add(layers.Dense(1))\n",
    "    model.compile(optimizer=RMSprop(lr=lr), loss=loss, metrics=metrics)\n",
    "    history = model.fit(xtrain, ytrain, \n",
    "                        epochs=epochs, batch_size=batch_size, \n",
    "                        validation_data=(xtest, ytest),\n",
    "                        verbose=0, shuffle=False)\n",
    "    # save the output\n",
    "    loss = history.history['loss']\n",
    "    val_loss = history.history['val_loss']\n",
    "    acc = history.history['acc']\n",
    "    val_acc = history.history['val_acc']\n",
    "    epochs = range(1, len(loss) + 1)\n",
    "\n",
    "    # plot\n",
    "    if plot and accplot:\n",
    "        # loss plot\n",
    "        plt.figure(1)\n",
    "        plt.plot(epochs, loss, label='Training loss')\n",
    "        plt.plot(epochs, val_loss, label='Validation loss')\n",
    "        plt.title('Training and validation loss')\n",
    "        plt.legend()\n",
    "        # accuracy plot\n",
    "        plt.figure(2)\n",
    "        plt.plot(epochs, acc, label='Training acc')\n",
    "        plt.plot(epochs, val_acc, label='Validation acc')\n",
    "        plt.title('Training and validation Accuracy')\n",
    "        plt.legend()\n",
    "        plt.show()\n",
    "        # print results\n",
    "        print('loss: {0}'.format(np.mean(loss)))\n",
    "        print('val_loss: {0}'.format(np.mean(val_loss)))\n",
    "        print('acc: {0}'.format(np.mean(acc)))\n",
    "        print('val_acc: {0}'.format(np.mean(val_acc)))\n",
    "    elif plot:\n",
    "        # loss plot\n",
    "        plt.figure(1)\n",
    "        plt.plot(epochs, loss, label='Training loss')\n",
    "        plt.plot(epochs, val_loss, label='Validation loss')\n",
    "        plt.title('Training and validation loss')\n",
    "        plt.legend()\n",
    "        plt.show()\n",
    "        # print results\n",
    "        print('loss: {0}'.format(np.mean(loss)))\n",
    "        print('val_loss: {0}'.format(np.mean(val_loss)))\n",
    "    else:\n",
    "        pass\n",
    "\n",
    "    plt.clf()\n",
    "    # return model\n",
    "    return history\n",
    "\n",
    "def gruDropModel(xtrain, ytrain, xtest, ytest, epochs, batch_size, units, drop, recdrop, \n",
    "        shuffle=False, metrics=['accuracy'], loss='mae', plot=True, lr=0.001, accplot=False):\n",
    "    '''\n",
    "    xtrain:\n",
    "    ytrain:\n",
    "    epochs:\n",
    "    batch_size:\n",
    "    units:\n",
    "    shuffle:\n",
    "    metrics:\n",
    "    loss:\n",
    "    plot:\n",
    "    grudropmodel = gruDropModel(X_train, y_train, epochs=1000, batch_size=64, units=256, \n",
    "        drop=0.2, recdrop=0.2)\n",
    "    '''\n",
    "    # 3 - GRU-based model with dropout\n",
    "    ##################################\n",
    "    model = Sequential()\n",
    "    model.add(layers.GRU(units, \n",
    "        dropout=drop,\n",
    "        recurrent_dropout=recdrop,\n",
    "        input_shape=(xtrain.shape[1], xtrain.shape[2])))\n",
    "    model.add(layers.Dense(1))\n",
    "    model.compile(optimizer=RMSprop(lr=lr), loss=loss, metrics=metrics)\n",
    "    history = model.fit(xtrain, ytrain, \n",
    "                        epochs=epochs, batch_size=batch_size, \n",
    "                        validation_data=(xtest, ytest),\n",
    "                        verbose=0, shuffle=False)\n",
    "    # save the output\n",
    "    loss = history.history['loss']\n",
    "    val_loss = history.history['val_loss']\n",
    "    acc = history.history['acc']\n",
    "    val_acc = history.history['val_acc']\n",
    "    epochs = range(1, len(loss) + 1)\n",
    "\n",
    "    # plot\n",
    "    if plot and accplot:\n",
    "        # loss plot\n",
    "        plt.figure(1)\n",
    "        plt.plot(epochs, loss, label='Training loss')\n",
    "        plt.plot(epochs, val_loss, label='Validation loss')\n",
    "        plt.title('Training and validation loss')\n",
    "        plt.legend()\n",
    "        # accuracy plot\n",
    "        plt.figure(2)\n",
    "        plt.plot(epochs, acc, label='Training acc')\n",
    "        plt.plot(epochs, val_acc, label='Validation acc')\n",
    "        plt.title('Training and validation Accuracy')\n",
    "        plt.legend()\n",
    "        plt.show()\n",
    "        # print results\n",
    "        print('loss: {0}'.format(np.mean(loss)))\n",
    "        print('val_loss: {0}'.format(np.mean(val_loss)))\n",
    "        print('acc: {0}'.format(np.mean(acc)))\n",
    "        print('val_acc: {0}'.format(np.mean(val_acc)))\n",
    "    elif plot:\n",
    "        # loss plot\n",
    "        plt.figure(1)\n",
    "        plt.plot(epochs, loss, label='Training loss')\n",
    "        plt.plot(epochs, val_loss, label='Validation loss')\n",
    "        plt.title('Training and validation loss')\n",
    "        plt.legend()\n",
    "        plt.show()\n",
    "        # print results\n",
    "        print('loss: {0}'.format(np.mean(loss)))\n",
    "        print('val_loss: {0}'.format(np.mean(val_loss)))\n",
    "    else:\n",
    "        pass\n",
    "\n",
    "    plt.clf()\n",
    "    # return model\n",
    "    return history\n",
    "\n",
    "def lstmModel(xtrain, ytrain, xtest, ytest, epochs, batch_size, units, drop, recdrop, \n",
    "        shuffle=False, metrics=['accuracy'], loss='mae', plot=True, lr=0.001, accplot=False):\n",
    "    '''\n",
    "    xtrain:\n",
    "    ytrain:\n",
    "    epochs:\n",
    "    batch_size:\n",
    "    units:\n",
    "    shuffle:\n",
    "    metrics:\n",
    "    loss:\n",
    "    plot:\n",
    "    lstmmodel = lstmModel(X_train, y_train, epochs=500, batch_size=64, units=256, \n",
    "        drop=0.2, recdrop=0.2)\n",
    "    '''\n",
    "    # 4 - LSTM-based model\n",
    "    ######################\n",
    "    model = Sequential()\n",
    "    model.add(layers.LSTM(units, dropout=drop, recurrent_dropout=recdrop,\n",
    "        input_shape=(xtrain.shape[1], xtrain.shape[2])))\n",
    "    model.add(layers.Dense(1))\n",
    "    model.compile(optimizer=RMSprop(lr=lr), loss=loss, metrics=metrics)\n",
    "    history = model.fit(xtrain, ytrain, \n",
    "                        epochs=epochs, batch_size=batch_size, \n",
    "                        validation_data=(xtest, ytest),\n",
    "                        verbose=0, shuffle=False)\n",
    "    # save the output\n",
    "    loss = history.history['loss']\n",
    "    val_loss = history.history['val_loss']\n",
    "    acc = history.history['acc']\n",
    "    val_acc = history.history['val_acc']\n",
    "    epochs = range(1, len(loss) + 1)\n",
    "\n",
    "    # plot\n",
    "    if plot and accplot:\n",
    "        # loss plot\n",
    "        plt.figure(1)\n",
    "        plt.plot(epochs, loss, label='Training loss')\n",
    "        plt.plot(epochs, val_loss, label='Validation loss')\n",
    "        plt.title('Training and validation loss')\n",
    "        plt.legend()\n",
    "        # accuracy plot\n",
    "        plt.figure(2)\n",
    "        plt.plot(epochs, acc, label='Training acc')\n",
    "        plt.plot(epochs, val_acc, label='Validation acc')\n",
    "        plt.title('Training and validation Accuracy')\n",
    "        plt.legend()\n",
    "        plt.show()\n",
    "        # print results\n",
    "        print('loss: {0}'.format(np.mean(loss)))\n",
    "        print('val_loss: {0}'.format(np.mean(val_loss)))\n",
    "        print('acc: {0}'.format(np.mean(acc)))\n",
    "        print('val_acc: {0}'.format(np.mean(val_acc)))\n",
    "    elif plot:\n",
    "        # loss plot\n",
    "        plt.figure(1)\n",
    "        plt.plot(epochs, loss, label='Training loss')\n",
    "        plt.plot(epochs, val_loss, label='Validation loss')\n",
    "        plt.title('Training and validation loss')\n",
    "        plt.legend()\n",
    "        plt.show()\n",
    "        # print results\n",
    "        print('loss: {0}'.format(np.mean(loss)))\n",
    "        print('val_loss: {0}'.format(np.mean(val_loss)))\n",
    "    else:\n",
    "        pass\n",
    "\n",
    "    plt.clf()\n",
    "    # return model\n",
    "    return history"
   ]
  },
  {
   "cell_type": "code",
   "execution_count": 8,
   "metadata": {},
   "outputs": [],
   "source": [
    "def evalForecast(model, X, y, inverse=False, scaler=None):\n",
    "    '''\n",
    "    Evaluate time series forecasting model\n",
    "    '''\n",
    "    if inverse and scaler:\n",
    "        # make prediction\n",
    "        ypred = model.model.predict(X)\n",
    "        # reshape X\n",
    "        X = X.reshape((X.shape[0], X.shape[2]))\n",
    "        # invert scaling predicted data\n",
    "        inv_ypred = np.concatenate((X[:, :], ypred), axis=1)\n",
    "        inv_ypred = scaler.inverse_transform(inv_ypred)\n",
    "        inv_ypred = inv_ypred[:, -1]\n",
    "        # invert scaling for actual data\n",
    "        y = y.reshape((len(y), 1))\n",
    "        inv_y = np.concatenate((X[:, :], y), axis=1)\n",
    "        inv_y = scaler.inverse_transform(inv_y)\n",
    "        inv_y = inv_y[:, -1]\n",
    "        # RMSE\n",
    "        rmse = np.sqrt(mean_squared_error(y_pred=inv_ypred, y_true=inv_y))\n",
    "        # MAE\n",
    "        mae = mean_absolute_error(y_pred=inv_ypred, y_true=inv_y)\n",
    "    else:\n",
    "        # make prediction\n",
    "        ypred = model.model.predict(X)\n",
    "        # RMSE\n",
    "        rmse = np.sqrt(mean_squared_error(y_pred=ypred, y_true=y))\n",
    "        # MAE\n",
    "        mae = mean_absolute_error(y_pred=ypred, y_true=y)\n",
    "\n",
    "    print('Validasi RMSE: {0:.5f}'.format(rmse))\n",
    "    print('Validasi MAE: {0:.5f}'.format(mae))"
   ]
  },
  {
   "cell_type": "code",
   "execution_count": 9,
   "metadata": {},
   "outputs": [],
   "source": [
    "# make connection to sqlite db\n",
    "conn = sqlite3.connect('product.db')\n",
    "c = conn.cursor()\n",
    "\n",
    "# enable foreign keys\n",
    "c.execute(\"PRAGMA foreign_keys = ON\")\n",
    "conn.commit()"
   ]
  },
  {
   "cell_type": "markdown",
   "metadata": {},
   "source": [
    "<br>pilihan:\n",
    ">     2 data di database product.db dgn review > 900:\n",
    ">         5aa2ad7735d6d34b0032a795\n",
    ">         5aa39533ae1f941be7165ecd\n",
    ">     cluster 3\n",
    ">         5a93e8768cbad97881597597\n",
    ">         or \n",
    ">         5a95d7ae35d6d33d3fea56ff\n",
    ">     cluster 1\n",
    ">         5aa2c35e35d6d34b0032a796\n",
    ">     cluster 2 \n",
    ">         5a92474635d6d32207bcd343\n",
    "</br>"
   ]
  },
  {
   "cell_type": "markdown",
   "metadata": {},
   "source": [
    "## <font color=blue> 1. Mongodb ID: 5aa2ad7735d6d34b0032a795 </font>"
   ]
  },
  {
   "cell_type": "code",
   "execution_count": 10,
   "metadata": {},
   "outputs": [],
   "source": [
    "product = genData('5aa2ad7735d6d34b0032a795', conn, c, impute=True, freq='daily')\n",
    "X_train, y_train, X_test, y_test, dftrain, scaler = splitDataNN(product, percent=0.2)"
   ]
  },
  {
   "cell_type": "code",
   "execution_count": 11,
   "metadata": {},
   "outputs": [
    {
     "data": {
      "text/plain": [
       "((382, 1, 1), (479, 3))"
      ]
     },
     "execution_count": 11,
     "metadata": {},
     "output_type": "execute_result"
    }
   ],
   "source": [
    "X_train.shape, product.shape"
   ]
  },
  {
   "cell_type": "code",
   "execution_count": 12,
   "metadata": {},
   "outputs": [
    {
     "data": {
      "text/html": [
       "<div>\n",
       "<style scoped>\n",
       "    .dataframe tbody tr th:only-of-type {\n",
       "        vertical-align: middle;\n",
       "    }\n",
       "\n",
       "    .dataframe tbody tr th {\n",
       "        vertical-align: top;\n",
       "    }\n",
       "\n",
       "    .dataframe thead th {\n",
       "        text-align: right;\n",
       "    }\n",
       "</style>\n",
       "<table border=\"1\" class=\"dataframe\">\n",
       "  <thead>\n",
       "    <tr style=\"text-align: right;\">\n",
       "      <th></th>\n",
       "      <th>Sales</th>\n",
       "      <th>rating</th>\n",
       "      <th>ovsentiment</th>\n",
       "    </tr>\n",
       "    <tr>\n",
       "      <th>date</th>\n",
       "      <th></th>\n",
       "      <th></th>\n",
       "      <th></th>\n",
       "    </tr>\n",
       "  </thead>\n",
       "  <tbody>\n",
       "    <tr>\n",
       "      <th>2016-11-06</th>\n",
       "      <td>82</td>\n",
       "      <td>3.500000</td>\n",
       "      <td>0.500000</td>\n",
       "    </tr>\n",
       "    <tr>\n",
       "      <th>2016-11-07</th>\n",
       "      <td>88</td>\n",
       "      <td>5.000000</td>\n",
       "      <td>1.000000</td>\n",
       "    </tr>\n",
       "    <tr>\n",
       "      <th>2016-11-08</th>\n",
       "      <td>74</td>\n",
       "      <td>0.000000</td>\n",
       "      <td>0.000000</td>\n",
       "    </tr>\n",
       "    <tr>\n",
       "      <th>2016-11-09</th>\n",
       "      <td>72</td>\n",
       "      <td>0.000000</td>\n",
       "      <td>0.000000</td>\n",
       "    </tr>\n",
       "    <tr>\n",
       "      <th>2016-11-10</th>\n",
       "      <td>98</td>\n",
       "      <td>4.666667</td>\n",
       "      <td>0.333333</td>\n",
       "    </tr>\n",
       "  </tbody>\n",
       "</table>\n",
       "</div>"
      ],
      "text/plain": [
       "            Sales    rating  ovsentiment\n",
       "date                                    \n",
       "2016-11-06     82  3.500000     0.500000\n",
       "2016-11-07     88  5.000000     1.000000\n",
       "2016-11-08     74  0.000000     0.000000\n",
       "2016-11-09     72  0.000000     0.000000\n",
       "2016-11-10     98  4.666667     0.333333"
      ]
     },
     "execution_count": 12,
     "metadata": {},
     "output_type": "execute_result"
    }
   ],
   "source": [
    "product.head()"
   ]
  },
  {
   "cell_type": "code",
   "execution_count": 13,
   "metadata": {},
   "outputs": [
    {
     "data": {
      "text/plain": [
       "array([[[0.34693878]],\n",
       "\n",
       "       [[0.46938776]],\n",
       "\n",
       "       [[0.18367347]],\n",
       "\n",
       "       [[0.14285714]],\n",
       "\n",
       "       [[0.67346939]],\n",
       "\n",
       "       [[0.48979592]],\n",
       "\n",
       "       [[0.44897959]],\n",
       "\n",
       "       [[0.59183673]],\n",
       "\n",
       "       [[0.26530612]],\n",
       "\n",
       "       [[0.48979592]],\n",
       "\n",
       "       [[0.44897959]],\n",
       "\n",
       "       [[0.3877551 ]],\n",
       "\n",
       "       [[0.24489796]],\n",
       "\n",
       "       [[0.26530612]],\n",
       "\n",
       "       [[0.16326531]],\n",
       "\n",
       "       [[0.7755102 ]],\n",
       "\n",
       "       [[0.59183673]],\n",
       "\n",
       "       [[0.34693878]],\n",
       "\n",
       "       [[0.16326531]],\n",
       "\n",
       "       [[0.36734694]],\n",
       "\n",
       "       [[0.44897959]],\n",
       "\n",
       "       [[0.16326531]],\n",
       "\n",
       "       [[0.7755102 ]],\n",
       "\n",
       "       [[0.75510204]],\n",
       "\n",
       "       [[0.42857143]],\n",
       "\n",
       "       [[0.34693878]],\n",
       "\n",
       "       [[0.57142857]],\n",
       "\n",
       "       [[0.67346939]],\n",
       "\n",
       "       [[0.42857143]],\n",
       "\n",
       "       [[0.26530612]],\n",
       "\n",
       "       [[0.16326531]],\n",
       "\n",
       "       [[0.57142857]],\n",
       "\n",
       "       [[0.18367347]],\n",
       "\n",
       "       [[0.57142857]],\n",
       "\n",
       "       [[0.6122449 ]],\n",
       "\n",
       "       [[0.73469388]],\n",
       "\n",
       "       [[0.6122449 ]],\n",
       "\n",
       "       [[0.51020408]],\n",
       "\n",
       "       [[0.04081633]],\n",
       "\n",
       "       [[0.26530612]],\n",
       "\n",
       "       [[0.55102041]],\n",
       "\n",
       "       [[0.57142857]],\n",
       "\n",
       "       [[0.12244898]],\n",
       "\n",
       "       [[0.40816327]],\n",
       "\n",
       "       [[0.24489796]],\n",
       "\n",
       "       [[0.44897959]],\n",
       "\n",
       "       [[0.42857143]],\n",
       "\n",
       "       [[0.55102041]],\n",
       "\n",
       "       [[0.55102041]],\n",
       "\n",
       "       [[0.7755102 ]],\n",
       "\n",
       "       [[0.6122449 ]],\n",
       "\n",
       "       [[0.04081633]],\n",
       "\n",
       "       [[0.59183673]],\n",
       "\n",
       "       [[0.42857143]],\n",
       "\n",
       "       [[0.26530612]],\n",
       "\n",
       "       [[0.6122449 ]],\n",
       "\n",
       "       [[0.3877551 ]],\n",
       "\n",
       "       [[0.89795918]],\n",
       "\n",
       "       [[0.53061224]],\n",
       "\n",
       "       [[0.34693878]],\n",
       "\n",
       "       [[0.91836735]],\n",
       "\n",
       "       [[0.63265306]],\n",
       "\n",
       "       [[0.59183673]],\n",
       "\n",
       "       [[0.26530612]],\n",
       "\n",
       "       [[0.36734694]],\n",
       "\n",
       "       [[0.36734694]],\n",
       "\n",
       "       [[0.34693878]],\n",
       "\n",
       "       [[0.44897959]],\n",
       "\n",
       "       [[0.2244898 ]],\n",
       "\n",
       "       [[0.57142857]],\n",
       "\n",
       "       [[0.26530612]],\n",
       "\n",
       "       [[0.3877551 ]],\n",
       "\n",
       "       [[0.67346939]],\n",
       "\n",
       "       [[0.32653061]],\n",
       "\n",
       "       [[1.        ]],\n",
       "\n",
       "       [[0.59183673]],\n",
       "\n",
       "       [[0.36734694]],\n",
       "\n",
       "       [[0.65306122]],\n",
       "\n",
       "       [[0.12244898]],\n",
       "\n",
       "       [[0.20408163]],\n",
       "\n",
       "       [[0.06122449]],\n",
       "\n",
       "       [[0.53061224]],\n",
       "\n",
       "       [[0.08163265]],\n",
       "\n",
       "       [[0.32653061]],\n",
       "\n",
       "       [[0.24489796]],\n",
       "\n",
       "       [[0.26530612]],\n",
       "\n",
       "       [[0.28571429]],\n",
       "\n",
       "       [[0.3877551 ]],\n",
       "\n",
       "       [[0.34693878]],\n",
       "\n",
       "       [[0.44897959]],\n",
       "\n",
       "       [[0.3877551 ]],\n",
       "\n",
       "       [[0.36734694]],\n",
       "\n",
       "       [[0.51020408]],\n",
       "\n",
       "       [[0.85714286]],\n",
       "\n",
       "       [[0.06122449]],\n",
       "\n",
       "       [[0.6122449 ]],\n",
       "\n",
       "       [[0.32653061]],\n",
       "\n",
       "       [[0.59183673]],\n",
       "\n",
       "       [[0.32653061]],\n",
       "\n",
       "       [[0.75510204]],\n",
       "\n",
       "       [[0.14285714]],\n",
       "\n",
       "       [[0.3877551 ]],\n",
       "\n",
       "       [[0.75510204]],\n",
       "\n",
       "       [[0.48979592]],\n",
       "\n",
       "       [[0.71428571]],\n",
       "\n",
       "       [[0.34693878]],\n",
       "\n",
       "       [[0.79591837]],\n",
       "\n",
       "       [[0.20408163]],\n",
       "\n",
       "       [[0.34693878]],\n",
       "\n",
       "       [[0.08163265]],\n",
       "\n",
       "       [[0.55102041]],\n",
       "\n",
       "       [[0.57142857]],\n",
       "\n",
       "       [[0.6122449 ]],\n",
       "\n",
       "       [[0.        ]],\n",
       "\n",
       "       [[0.63265306]],\n",
       "\n",
       "       [[0.2244898 ]],\n",
       "\n",
       "       [[0.53061224]],\n",
       "\n",
       "       [[0.40816327]],\n",
       "\n",
       "       [[0.42857143]],\n",
       "\n",
       "       [[0.65306122]],\n",
       "\n",
       "       [[0.34693878]],\n",
       "\n",
       "       [[0.55102041]],\n",
       "\n",
       "       [[0.28571429]],\n",
       "\n",
       "       [[0.28571429]],\n",
       "\n",
       "       [[0.63265306]],\n",
       "\n",
       "       [[0.6122449 ]],\n",
       "\n",
       "       [[0.67346939]],\n",
       "\n",
       "       [[0.14285714]],\n",
       "\n",
       "       [[0.67346939]],\n",
       "\n",
       "       [[0.6122449 ]],\n",
       "\n",
       "       [[0.44897959]],\n",
       "\n",
       "       [[0.36734694]],\n",
       "\n",
       "       [[0.7755102 ]],\n",
       "\n",
       "       [[0.6122449 ]],\n",
       "\n",
       "       [[0.40816327]],\n",
       "\n",
       "       [[0.40816327]],\n",
       "\n",
       "       [[0.44897959]],\n",
       "\n",
       "       [[0.71428571]],\n",
       "\n",
       "       [[0.69387755]],\n",
       "\n",
       "       [[0.57142857]],\n",
       "\n",
       "       [[0.3877551 ]],\n",
       "\n",
       "       [[0.46938776]],\n",
       "\n",
       "       [[0.32653061]],\n",
       "\n",
       "       [[0.44897959]],\n",
       "\n",
       "       [[0.46938776]],\n",
       "\n",
       "       [[0.36734694]],\n",
       "\n",
       "       [[0.26530612]],\n",
       "\n",
       "       [[0.26530612]],\n",
       "\n",
       "       [[0.81632653]],\n",
       "\n",
       "       [[0.46938776]],\n",
       "\n",
       "       [[0.53061224]],\n",
       "\n",
       "       [[0.85714286]],\n",
       "\n",
       "       [[0.75510204]],\n",
       "\n",
       "       [[0.53061224]],\n",
       "\n",
       "       [[0.48979592]],\n",
       "\n",
       "       [[0.26530612]],\n",
       "\n",
       "       [[0.36734694]],\n",
       "\n",
       "       [[0.69387755]],\n",
       "\n",
       "       [[0.63265306]],\n",
       "\n",
       "       [[0.28571429]],\n",
       "\n",
       "       [[0.55102041]],\n",
       "\n",
       "       [[0.40816327]],\n",
       "\n",
       "       [[0.34693878]],\n",
       "\n",
       "       [[0.71428571]],\n",
       "\n",
       "       [[0.20408163]],\n",
       "\n",
       "       [[0.46938776]],\n",
       "\n",
       "       [[0.34693878]],\n",
       "\n",
       "       [[0.65306122]],\n",
       "\n",
       "       [[0.32653061]],\n",
       "\n",
       "       [[0.81632653]],\n",
       "\n",
       "       [[0.30612245]],\n",
       "\n",
       "       [[0.51020408]],\n",
       "\n",
       "       [[0.32653061]],\n",
       "\n",
       "       [[0.28571429]],\n",
       "\n",
       "       [[0.40816327]],\n",
       "\n",
       "       [[0.6122449 ]],\n",
       "\n",
       "       [[0.26530612]],\n",
       "\n",
       "       [[0.28571429]],\n",
       "\n",
       "       [[0.26530612]],\n",
       "\n",
       "       [[0.20408163]],\n",
       "\n",
       "       [[0.44897959]],\n",
       "\n",
       "       [[0.16326531]],\n",
       "\n",
       "       [[0.53061224]],\n",
       "\n",
       "       [[0.7755102 ]],\n",
       "\n",
       "       [[0.63265306]],\n",
       "\n",
       "       [[0.57142857]],\n",
       "\n",
       "       [[0.40816327]],\n",
       "\n",
       "       [[0.34693878]],\n",
       "\n",
       "       [[0.28571429]],\n",
       "\n",
       "       [[0.42857143]],\n",
       "\n",
       "       [[0.28571429]],\n",
       "\n",
       "       [[0.87755102]],\n",
       "\n",
       "       [[0.32653061]],\n",
       "\n",
       "       [[0.26530612]],\n",
       "\n",
       "       [[0.12244898]],\n",
       "\n",
       "       [[0.16326531]],\n",
       "\n",
       "       [[0.30612245]],\n",
       "\n",
       "       [[0.83673469]],\n",
       "\n",
       "       [[0.51020408]],\n",
       "\n",
       "       [[0.36734694]],\n",
       "\n",
       "       [[0.75510204]],\n",
       "\n",
       "       [[0.51020408]],\n",
       "\n",
       "       [[0.53061224]],\n",
       "\n",
       "       [[0.59183673]],\n",
       "\n",
       "       [[0.2244898 ]],\n",
       "\n",
       "       [[0.75510204]],\n",
       "\n",
       "       [[0.36734694]],\n",
       "\n",
       "       [[0.40816327]],\n",
       "\n",
       "       [[0.10204082]],\n",
       "\n",
       "       [[0.7755102 ]],\n",
       "\n",
       "       [[0.28571429]],\n",
       "\n",
       "       [[0.75510204]],\n",
       "\n",
       "       [[0.44897959]],\n",
       "\n",
       "       [[0.40816327]],\n",
       "\n",
       "       [[0.24489796]],\n",
       "\n",
       "       [[0.7755102 ]],\n",
       "\n",
       "       [[0.67346939]],\n",
       "\n",
       "       [[0.59183673]],\n",
       "\n",
       "       [[0.18367347]],\n",
       "\n",
       "       [[0.69387755]],\n",
       "\n",
       "       [[0.65306122]],\n",
       "\n",
       "       [[0.81632653]],\n",
       "\n",
       "       [[0.34693878]],\n",
       "\n",
       "       [[0.28571429]],\n",
       "\n",
       "       [[0.28571429]],\n",
       "\n",
       "       [[0.48979592]],\n",
       "\n",
       "       [[0.46938776]],\n",
       "\n",
       "       [[0.16326531]],\n",
       "\n",
       "       [[0.02040816]],\n",
       "\n",
       "       [[0.51020408]],\n",
       "\n",
       "       [[0.51020408]],\n",
       "\n",
       "       [[0.44897959]],\n",
       "\n",
       "       [[0.53061224]],\n",
       "\n",
       "       [[0.48979592]],\n",
       "\n",
       "       [[0.46938776]],\n",
       "\n",
       "       [[0.2244898 ]],\n",
       "\n",
       "       [[0.65306122]],\n",
       "\n",
       "       [[0.3877551 ]],\n",
       "\n",
       "       [[0.63265306]],\n",
       "\n",
       "       [[0.30612245]],\n",
       "\n",
       "       [[0.42857143]],\n",
       "\n",
       "       [[0.44897959]],\n",
       "\n",
       "       [[0.30612245]],\n",
       "\n",
       "       [[0.42857143]],\n",
       "\n",
       "       [[0.04081633]],\n",
       "\n",
       "       [[0.36734694]],\n",
       "\n",
       "       [[0.53061224]],\n",
       "\n",
       "       [[0.44897959]],\n",
       "\n",
       "       [[0.51020408]],\n",
       "\n",
       "       [[0.34693878]],\n",
       "\n",
       "       [[0.42857143]],\n",
       "\n",
       "       [[0.51020408]],\n",
       "\n",
       "       [[0.20408163]],\n",
       "\n",
       "       [[0.30612245]],\n",
       "\n",
       "       [[0.10204082]],\n",
       "\n",
       "       [[0.3877551 ]],\n",
       "\n",
       "       [[0.46938776]],\n",
       "\n",
       "       [[0.48979592]],\n",
       "\n",
       "       [[0.28571429]],\n",
       "\n",
       "       [[0.46938776]],\n",
       "\n",
       "       [[0.36734694]],\n",
       "\n",
       "       [[0.57142857]],\n",
       "\n",
       "       [[0.34693878]],\n",
       "\n",
       "       [[0.12244898]],\n",
       "\n",
       "       [[0.46938776]],\n",
       "\n",
       "       [[0.34693878]],\n",
       "\n",
       "       [[0.44897959]],\n",
       "\n",
       "       [[0.2244898 ]],\n",
       "\n",
       "       [[0.59183673]],\n",
       "\n",
       "       [[0.30612245]],\n",
       "\n",
       "       [[0.65306122]],\n",
       "\n",
       "       [[0.48979592]],\n",
       "\n",
       "       [[0.32653061]],\n",
       "\n",
       "       [[0.26530612]],\n",
       "\n",
       "       [[0.44897959]],\n",
       "\n",
       "       [[0.53061224]],\n",
       "\n",
       "       [[0.44897959]],\n",
       "\n",
       "       [[0.24489796]],\n",
       "\n",
       "       [[0.30612245]],\n",
       "\n",
       "       [[0.36734694]],\n",
       "\n",
       "       [[0.36734694]],\n",
       "\n",
       "       [[0.75510204]],\n",
       "\n",
       "       [[0.65306122]],\n",
       "\n",
       "       [[0.32653061]],\n",
       "\n",
       "       [[0.81632653]],\n",
       "\n",
       "       [[0.20408163]],\n",
       "\n",
       "       [[0.55102041]],\n",
       "\n",
       "       [[0.48979592]],\n",
       "\n",
       "       [[0.65306122]],\n",
       "\n",
       "       [[0.30612245]],\n",
       "\n",
       "       [[0.42857143]],\n",
       "\n",
       "       [[0.36734694]],\n",
       "\n",
       "       [[0.12244898]],\n",
       "\n",
       "       [[0.59183673]],\n",
       "\n",
       "       [[0.16326531]],\n",
       "\n",
       "       [[0.36734694]],\n",
       "\n",
       "       [[0.36734694]],\n",
       "\n",
       "       [[0.55102041]],\n",
       "\n",
       "       [[0.59183673]],\n",
       "\n",
       "       [[0.34693878]],\n",
       "\n",
       "       [[0.26530612]],\n",
       "\n",
       "       [[0.95918367]],\n",
       "\n",
       "       [[0.2244898 ]],\n",
       "\n",
       "       [[0.26530612]],\n",
       "\n",
       "       [[0.48979592]],\n",
       "\n",
       "       [[0.26530612]],\n",
       "\n",
       "       [[0.36734694]],\n",
       "\n",
       "       [[0.42857143]],\n",
       "\n",
       "       [[0.59183673]],\n",
       "\n",
       "       [[0.6122449 ]],\n",
       "\n",
       "       [[0.51020408]],\n",
       "\n",
       "       [[0.28571429]],\n",
       "\n",
       "       [[0.48979592]],\n",
       "\n",
       "       [[0.20408163]],\n",
       "\n",
       "       [[0.32653061]],\n",
       "\n",
       "       [[0.28571429]],\n",
       "\n",
       "       [[0.30612245]],\n",
       "\n",
       "       [[0.10204082]],\n",
       "\n",
       "       [[0.44897959]],\n",
       "\n",
       "       [[0.36734694]],\n",
       "\n",
       "       [[0.28571429]],\n",
       "\n",
       "       [[0.3877551 ]],\n",
       "\n",
       "       [[0.24489796]],\n",
       "\n",
       "       [[0.40816327]],\n",
       "\n",
       "       [[0.63265306]],\n",
       "\n",
       "       [[0.36734694]],\n",
       "\n",
       "       [[0.48979592]],\n",
       "\n",
       "       [[0.26530612]],\n",
       "\n",
       "       [[0.24489796]],\n",
       "\n",
       "       [[0.42857143]],\n",
       "\n",
       "       [[0.34693878]],\n",
       "\n",
       "       [[0.57142857]],\n",
       "\n",
       "       [[0.18367347]],\n",
       "\n",
       "       [[0.83673469]],\n",
       "\n",
       "       [[0.46938776]],\n",
       "\n",
       "       [[0.7755102 ]],\n",
       "\n",
       "       [[0.69387755]],\n",
       "\n",
       "       [[0.2244898 ]],\n",
       "\n",
       "       [[0.75510204]],\n",
       "\n",
       "       [[0.26530612]],\n",
       "\n",
       "       [[0.36734694]],\n",
       "\n",
       "       [[0.63265306]],\n",
       "\n",
       "       [[0.53061224]],\n",
       "\n",
       "       [[0.55102041]],\n",
       "\n",
       "       [[0.51020408]],\n",
       "\n",
       "       [[0.44897959]],\n",
       "\n",
       "       [[0.46938776]],\n",
       "\n",
       "       [[0.6122449 ]],\n",
       "\n",
       "       [[0.24489796]],\n",
       "\n",
       "       [[0.24489796]],\n",
       "\n",
       "       [[0.24489796]],\n",
       "\n",
       "       [[0.40816327]],\n",
       "\n",
       "       [[0.18367347]],\n",
       "\n",
       "       [[0.57142857]],\n",
       "\n",
       "       [[0.24489796]],\n",
       "\n",
       "       [[0.28571429]],\n",
       "\n",
       "       [[0.51020408]],\n",
       "\n",
       "       [[0.32653061]],\n",
       "\n",
       "       [[0.20408163]],\n",
       "\n",
       "       [[0.59183673]],\n",
       "\n",
       "       [[0.14285714]],\n",
       "\n",
       "       [[0.51020408]],\n",
       "\n",
       "       [[0.48979592]],\n",
       "\n",
       "       [[0.59183673]],\n",
       "\n",
       "       [[0.34693878]],\n",
       "\n",
       "       [[0.40816327]],\n",
       "\n",
       "       [[0.3877551 ]],\n",
       "\n",
       "       [[0.36734694]],\n",
       "\n",
       "       [[0.42857143]],\n",
       "\n",
       "       [[0.63265306]],\n",
       "\n",
       "       [[0.36734694]],\n",
       "\n",
       "       [[0.42857143]],\n",
       "\n",
       "       [[0.69387755]],\n",
       "\n",
       "       [[0.3877551 ]],\n",
       "\n",
       "       [[0.34693878]],\n",
       "\n",
       "       [[0.42857143]],\n",
       "\n",
       "       [[0.57142857]],\n",
       "\n",
       "       [[0.36734694]],\n",
       "\n",
       "       [[0.42857143]],\n",
       "\n",
       "       [[0.67346939]],\n",
       "\n",
       "       [[0.48979592]],\n",
       "\n",
       "       [[0.24489796]]])"
      ]
     },
     "execution_count": 13,
     "metadata": {},
     "output_type": "execute_result"
    }
   ],
   "source": [
    "X_train"
   ]
  },
  {
   "cell_type": "code",
   "execution_count": 14,
   "metadata": {
    "scrolled": true
   },
   "outputs": [
    {
     "data": {
      "text/html": [
       "<div>\n",
       "<style scoped>\n",
       "    .dataframe tbody tr th:only-of-type {\n",
       "        vertical-align: middle;\n",
       "    }\n",
       "\n",
       "    .dataframe tbody tr th {\n",
       "        vertical-align: top;\n",
       "    }\n",
       "\n",
       "    .dataframe thead th {\n",
       "        text-align: right;\n",
       "    }\n",
       "</style>\n",
       "<table border=\"1\" class=\"dataframe\">\n",
       "  <thead>\n",
       "    <tr style=\"text-align: right;\">\n",
       "      <th></th>\n",
       "      <th>var1(t-1)</th>\n",
       "      <th>var1(t)</th>\n",
       "    </tr>\n",
       "    <tr>\n",
       "      <th>date</th>\n",
       "      <th></th>\n",
       "      <th></th>\n",
       "    </tr>\n",
       "  </thead>\n",
       "  <tbody>\n",
       "    <tr>\n",
       "      <th>2016-11-07</th>\n",
       "      <td>82.0</td>\n",
       "      <td>88</td>\n",
       "    </tr>\n",
       "    <tr>\n",
       "      <th>2016-11-08</th>\n",
       "      <td>88.0</td>\n",
       "      <td>74</td>\n",
       "    </tr>\n",
       "    <tr>\n",
       "      <th>2016-11-09</th>\n",
       "      <td>74.0</td>\n",
       "      <td>72</td>\n",
       "    </tr>\n",
       "    <tr>\n",
       "      <th>2016-11-10</th>\n",
       "      <td>72.0</td>\n",
       "      <td>98</td>\n",
       "    </tr>\n",
       "    <tr>\n",
       "      <th>2016-11-11</th>\n",
       "      <td>98.0</td>\n",
       "      <td>89</td>\n",
       "    </tr>\n",
       "  </tbody>\n",
       "</table>\n",
       "</div>"
      ],
      "text/plain": [
       "            var1(t-1)  var1(t)\n",
       "date                          \n",
       "2016-11-07       82.0       88\n",
       "2016-11-08       88.0       74\n",
       "2016-11-09       74.0       72\n",
       "2016-11-10       72.0       98\n",
       "2016-11-11       98.0       89"
      ]
     },
     "execution_count": 14,
     "metadata": {},
     "output_type": "execute_result"
    }
   ],
   "source": [
    "dftrain.head()"
   ]
  },
  {
   "cell_type": "code",
   "execution_count": 15,
   "metadata": {},
   "outputs": [
    {
     "data": {
      "text/plain": [
       "41466.0"
      ]
     },
     "execution_count": 15,
     "metadata": {},
     "output_type": "execute_result"
    }
   ],
   "source": [
    "dftrain['var1(t-1)'].sum()"
   ]
  },
  {
   "cell_type": "markdown",
   "metadata": {},
   "source": [
    "### 1 - Densely Connected Model"
   ]
  },
  {
   "cell_type": "code",
   "execution_count": 22,
   "metadata": {
    "scrolled": true
   },
   "outputs": [
    {
     "data": {
      "image/png": "[encoded data removed]",
      "text/plain": [
       "<Figure size 432x288 with 1 Axes>"
      ]
     },
     "metadata": {},
     "output_type": "display_data"
    },
    {
     "name": "stdout",
     "output_type": "stream",
     "text": [
      "loss: 0.15812706296961188\n",
      "val_loss: 0.16694310951667526\n"
     ]
    }
   ],
   "source": [
    "flatmodel = flatModel(X_train, y_train, X_test, y_test, epochs=80, batch_size=8, loss='mae', units=4)"
   ]
  },
  {
   "cell_type": "code",
   "execution_count": 23,
   "metadata": {},
   "outputs": [
    {
     "name": "stdout",
     "output_type": "stream",
     "text": [
      "Validasi RMSE: 9.31790\n",
      "Validasi MAE: 7.51607\n"
     ]
    }
   ],
   "source": [
    "evalForecast(flatmodel, X_train, y_train, inverse=True, scaler=scaler)"
   ]
  },
  {
   "cell_type": "code",
   "execution_count": 24,
   "metadata": {},
   "outputs": [],
   "source": [
    "flatmodel.model.save('./training/forecast_nn_5aa2ad7735d6d34b0032a795_UI_flatmodel.h5')"
   ]
  },
  {
   "cell_type": "markdown",
   "metadata": {},
   "source": [
    "### 3 - GRU-based Model with Dropout"
   ]
  },
  {
   "cell_type": "code",
   "execution_count": 19,
   "metadata": {
    "scrolled": true
   },
   "outputs": [
    {
     "data": {
      "image/png": "[encoded data removed]",
      "text/plain": [
       "<Figure size 432x288 with 1 Axes>"
      ]
     },
     "metadata": {},
     "output_type": "display_data"
    },
    {
     "name": "stdout",
     "output_type": "stream",
     "text": [
      "loss: 0.1655587072173104\n",
      "val_loss: 0.17419987249188126\n"
     ]
    }
   ],
   "source": [
    "grudropmodel = gruDropModel(X_train, y_train, X_test, y_test, epochs=200, batch_size=8, units=8, drop=0.01, recdrop=0.01, lr=0.0001)"
   ]
  },
  {
   "cell_type": "code",
   "execution_count": 20,
   "metadata": {},
   "outputs": [
    {
     "name": "stdout",
     "output_type": "stream",
     "text": [
      "Validasi RMSE: 9.30748\n",
      "Validasi MAE: 7.51856\n"
     ]
    }
   ],
   "source": [
    "evalForecast(grudropmodel, X_train, y_train, inverse=True, scaler=scaler)"
   ]
  },
  {
   "cell_type": "code",
   "execution_count": 21,
   "metadata": {},
   "outputs": [],
   "source": [
    "grudropmodel.model.save('./training/forecast_nn_5aa2ad7735d6d34b0032a795_UI_grudropmodel.h5')"
   ]
  },
  {
   "cell_type": "markdown",
   "metadata": {},
   "source": [
    "### 4 - LSTM-based Model"
   ]
  },
  {
   "cell_type": "code",
   "execution_count": 16,
   "metadata": {
    "scrolled": true
   },
   "outputs": [
    {
     "data": {
      "image/png": "[encoded data removed]",
      "text/plain": [
       "<Figure size 432x288 with 1 Axes>"
      ]
     },
     "metadata": {},
     "output_type": "display_data"
    },
    {
     "name": "stdout",
     "output_type": "stream",
     "text": [
      "loss: 0.15656504808686167\n",
      "val_loss: 0.16392438801005482\n"
     ]
    }
   ],
   "source": [
    "lstmmodel = lstmModel(X_train, y_train, X_test, y_test, epochs=200, batch_size=8, units=4, drop=0.002, recdrop=0.002)"
   ]
  },
  {
   "cell_type": "code",
   "execution_count": 17,
   "metadata": {},
   "outputs": [
    {
     "name": "stdout",
     "output_type": "stream",
     "text": [
      "Validasi RMSE: 9.28083\n",
      "Validasi MAE: 7.49271\n"
     ]
    }
   ],
   "source": [
    "evalForecast(lstmmodel, X_train, y_train, inverse=True, scaler=scaler)"
   ]
  },
  {
   "cell_type": "code",
   "execution_count": 18,
   "metadata": {},
   "outputs": [],
   "source": [
    "lstmmodel.model.save('./training/forecast_nn_5aa2ad7735d6d34b0032a795_UI_lstmmodel.h5')"
   ]
  },
  {
   "cell_type": "markdown",
   "metadata": {},
   "source": [
    "## <font color=blue> 2. Mongodb ID: 5aa39533ae1f941be7165ecd </font>"
   ]
  },
  {
   "cell_type": "code",
   "execution_count": 25,
   "metadata": {},
   "outputs": [],
   "source": [
    "product = genData('5aa39533ae1f941be7165ecd', conn, c, impute=True, freq='daily')\n",
    "X_train, y_train, X_test, y_test, dftrain, scaler = splitDataNN(product, percent=0.2)"
   ]
  },
  {
   "cell_type": "code",
   "execution_count": 26,
   "metadata": {},
   "outputs": [
    {
     "data": {
      "text/plain": [
       "((462, 1, 1), (579, 3))"
      ]
     },
     "execution_count": 26,
     "metadata": {},
     "output_type": "execute_result"
    }
   ],
   "source": [
    "X_train.shape, product.shape"
   ]
  },
  {
   "cell_type": "markdown",
   "metadata": {},
   "source": [
    "### 1 - Densely Connected Model"
   ]
  },
  {
   "cell_type": "code",
   "execution_count": 27,
   "metadata": {
    "scrolled": true
   },
   "outputs": [
    {
     "data": {
      "image/png": "[encoded data removed]",
      "text/plain": [
       "<Figure size 432x288 with 1 Axes>"
      ]
     },
     "metadata": {},
     "output_type": "display_data"
    },
    {
     "name": "stdout",
     "output_type": "stream",
     "text": [
      "loss: 0.14696173312634359\n",
      "val_loss: 0.15602148823953907\n"
     ]
    }
   ],
   "source": [
    "flatmodel = flatModel(X_train, y_train, X_test, y_test, epochs=80, batch_size=16, units=8)"
   ]
  },
  {
   "cell_type": "code",
   "execution_count": 28,
   "metadata": {},
   "outputs": [
    {
     "name": "stdout",
     "output_type": "stream",
     "text": [
      "Validasi RMSE: 3.12439\n",
      "Validasi MAE: 2.55722\n"
     ]
    }
   ],
   "source": [
    "evalForecast(flatmodel, X_train, y_train, inverse=True, scaler=scaler)"
   ]
  },
  {
   "cell_type": "code",
   "execution_count": 29,
   "metadata": {},
   "outputs": [],
   "source": [
    "flatmodel.model.save('./training/forecast_nn_5aa39533ae1f941be7165ecd_UI_flatmodel.h5')"
   ]
  },
  {
   "cell_type": "markdown",
   "metadata": {},
   "source": [
    "### 3 - GRU-based Model with Dropout"
   ]
  },
  {
   "cell_type": "code",
   "execution_count": 30,
   "metadata": {
    "scrolled": true
   },
   "outputs": [
    {
     "data": {
      "image/png": "[encoded data removed]",
      "text/plain": [
       "<Figure size 432x288 with 1 Axes>"
      ]
     },
     "metadata": {},
     "output_type": "display_data"
    },
    {
     "name": "stdout",
     "output_type": "stream",
     "text": [
      "loss: 0.1469192657880969\n",
      "val_loss: 0.15596045587468765\n"
     ]
    }
   ],
   "source": [
    "grudropmodel = gruDropModel(X_train, y_train, X_test, y_test, epochs=200, batch_size=32, units=8, drop=0.01, recdrop=0.01, lr=0.0009)"
   ]
  },
  {
   "cell_type": "code",
   "execution_count": 31,
   "metadata": {},
   "outputs": [
    {
     "name": "stdout",
     "output_type": "stream",
     "text": [
      "Validasi RMSE: 3.12211\n",
      "Validasi MAE: 2.55581\n"
     ]
    }
   ],
   "source": [
    "evalForecast(grudropmodel, X_train, y_train, inverse=True, scaler=scaler)"
   ]
  },
  {
   "cell_type": "code",
   "execution_count": 32,
   "metadata": {},
   "outputs": [],
   "source": [
    "grudropmodel.model.save('./training/forecast_nn_5aa39533ae1f941be7165ecd_UI_grudropmodel.h5')"
   ]
  },
  {
   "cell_type": "markdown",
   "metadata": {},
   "source": [
    "### 4 - LSTM-based Model"
   ]
  },
  {
   "cell_type": "code",
   "execution_count": 33,
   "metadata": {
    "scrolled": true
   },
   "outputs": [
    {
     "data": {
      "image/png": "[encoded data removed]",
      "text/plain": [
       "<Figure size 432x288 with 1 Axes>"
      ]
     },
     "metadata": {},
     "output_type": "display_data"
    },
    {
     "name": "stdout",
     "output_type": "stream",
     "text": [
      "loss: 0.15156424706825963\n",
      "val_loss: 0.16119192869370352\n"
     ]
    }
   ],
   "source": [
    "lstmmodel = lstmModel(X_train, y_train, X_test, y_test, epochs=200, batch_size=32, units=8, drop=0.01, recdrop=0.01, lr=0.0005)"
   ]
  },
  {
   "cell_type": "code",
   "execution_count": 34,
   "metadata": {},
   "outputs": [
    {
     "name": "stdout",
     "output_type": "stream",
     "text": [
      "Validasi RMSE: 3.12417\n",
      "Validasi MAE: 2.55620\n"
     ]
    }
   ],
   "source": [
    "evalForecast(lstmmodel, X_train, y_train, inverse=True, scaler=scaler)"
   ]
  },
  {
   "cell_type": "code",
   "execution_count": 35,
   "metadata": {},
   "outputs": [],
   "source": [
    "lstmmodel.model.save('./training/forecast_nn_5aa39533ae1f941be7165ecd_UI_lstmmodel.h5')"
   ]
  },
  {
   "cell_type": "markdown",
   "metadata": {},
   "source": [
    "## <font color=blue> 3. Mongodb ID: 5a93e8768cbad97881597597 </font>"
   ]
  },
  {
   "cell_type": "code",
   "execution_count": 36,
   "metadata": {},
   "outputs": [],
   "source": [
    "product = genData('5a93e8768cbad97881597597', conn, c, impute=True, freq='daily')\n",
    "X_train, y_train, X_test, y_test, dftrain, scaler = splitDataNN(product, percent=0.2)"
   ]
  },
  {
   "cell_type": "code",
   "execution_count": 37,
   "metadata": {},
   "outputs": [
    {
     "data": {
      "text/plain": [
       "((893, 1, 1), (1118, 3))"
      ]
     },
     "execution_count": 37,
     "metadata": {},
     "output_type": "execute_result"
    }
   ],
   "source": [
    "X_train.shape, product.shape"
   ]
  },
  {
   "cell_type": "markdown",
   "metadata": {},
   "source": [
    "### 1 - Densely Connected Model"
   ]
  },
  {
   "cell_type": "code",
   "execution_count": 38,
   "metadata": {
    "scrolled": true
   },
   "outputs": [
    {
     "data": {
      "image/png": "[encoded data removed]",
      "text/plain": [
       "<Figure size 432x288 with 1 Axes>"
      ]
     },
     "metadata": {},
     "output_type": "display_data"
    },
    {
     "name": "stdout",
     "output_type": "stream",
     "text": [
      "loss: 0.14204987293486834\n",
      "val_loss: 0.14777914389435734\n"
     ]
    }
   ],
   "source": [
    "flatmodel = flatModel(X_train, y_train, X_test, y_test, epochs=80, batch_size=64, loss='mae', units=8)"
   ]
  },
  {
   "cell_type": "code",
   "execution_count": 39,
   "metadata": {},
   "outputs": [
    {
     "name": "stdout",
     "output_type": "stream",
     "text": [
      "Validasi RMSE: 11.40847\n",
      "Validasi MAE: 9.04644\n"
     ]
    }
   ],
   "source": [
    "evalForecast(flatmodel, X_train, y_train, inverse=True, scaler=scaler)"
   ]
  },
  {
   "cell_type": "code",
   "execution_count": 40,
   "metadata": {},
   "outputs": [],
   "source": [
    "flatmodel.model.save('./training/forecast_nn_5a93e8768cbad97881597597_UI_flatmodel.h5')"
   ]
  },
  {
   "cell_type": "markdown",
   "metadata": {},
   "source": [
    "### 3 - GRU-based Model with Dropout"
   ]
  },
  {
   "cell_type": "code",
   "execution_count": 41,
   "metadata": {
    "scrolled": true
   },
   "outputs": [
    {
     "data": {
      "image/png": "[encoded data removed]",
      "text/plain": [
       "<Figure size 432x288 with 1 Axes>"
      ]
     },
     "metadata": {},
     "output_type": "display_data"
    },
    {
     "name": "stdout",
     "output_type": "stream",
     "text": [
      "loss: 0.13019068632679517\n",
      "val_loss: 0.13749006979699646\n"
     ]
    }
   ],
   "source": [
    "grudropmodel = gruDropModel(X_train, y_train, X_test, y_test, epochs=200, batch_size=16, units=8, drop=0.01, recdrop=0.01, lr=0.0008)"
   ]
  },
  {
   "cell_type": "code",
   "execution_count": 42,
   "metadata": {},
   "outputs": [
    {
     "name": "stdout",
     "output_type": "stream",
     "text": [
      "Validasi RMSE: 11.43523\n",
      "Validasi MAE: 9.10243\n"
     ]
    }
   ],
   "source": [
    "evalForecast(grudropmodel, X_train, y_train, inverse=True, scaler=scaler)"
   ]
  },
  {
   "cell_type": "code",
   "execution_count": 43,
   "metadata": {},
   "outputs": [],
   "source": [
    "grudropmodel.model.save('./training/forecast_nn_5a93e8768cbad97881597597_UI_grudropmodel.h5')"
   ]
  },
  {
   "cell_type": "markdown",
   "metadata": {},
   "source": [
    "### 4 - LSTM-based Model"
   ]
  },
  {
   "cell_type": "code",
   "execution_count": 44,
   "metadata": {
    "scrolled": true
   },
   "outputs": [
    {
     "data": {
      "image/png": "[encoded data removed]",
      "text/plain": [
       "<Figure size 432x288 with 1 Axes>"
      ]
     },
     "metadata": {},
     "output_type": "display_data"
    },
    {
     "name": "stdout",
     "output_type": "stream",
     "text": [
      "loss: 0.1304946072322858\n",
      "val_loss: 0.13751353247091175\n"
     ]
    }
   ],
   "source": [
    "lstmmodel = lstmModel(X_train, y_train, X_test, y_test, epochs=200, batch_size=16, units=8, drop=0.02, recdrop=0.02, lr=0.0008)"
   ]
  },
  {
   "cell_type": "code",
   "execution_count": 45,
   "metadata": {},
   "outputs": [
    {
     "name": "stdout",
     "output_type": "stream",
     "text": [
      "Validasi RMSE: 11.40680\n",
      "Validasi MAE: 9.05307\n"
     ]
    }
   ],
   "source": [
    "evalForecast(lstmmodel, X_train, y_train, inverse=True, scaler=scaler)"
   ]
  },
  {
   "cell_type": "code",
   "execution_count": 46,
   "metadata": {},
   "outputs": [],
   "source": [
    "lstmmodel.model.save('./training/forecast_nn_5a93e8768cbad97881597597_UI_lstmmodel.h5')"
   ]
  },
  {
   "cell_type": "markdown",
   "metadata": {},
   "source": [
    "## <font color=blue> 5. Mongodb ID: 5aa2c35e35d6d34b0032a796 </font>"
   ]
  },
  {
   "cell_type": "code",
   "execution_count": 47,
   "metadata": {},
   "outputs": [],
   "source": [
    "product = genData('5aa2c35e35d6d34b0032a796', conn, c, impute=True, freq='daily')\n",
    "X_train, y_train, X_test, y_test, dftrain, scaler = splitDataNN(product, percent=0.2)"
   ]
  },
  {
   "cell_type": "code",
   "execution_count": 48,
   "metadata": {},
   "outputs": [
    {
     "data": {
      "text/plain": [
       "((340, 1, 1), (427, 3))"
      ]
     },
     "execution_count": 48,
     "metadata": {},
     "output_type": "execute_result"
    }
   ],
   "source": [
    "X_train.shape, product.shape"
   ]
  },
  {
   "cell_type": "markdown",
   "metadata": {},
   "source": [
    "### 1 - Densely Connected Model"
   ]
  },
  {
   "cell_type": "code",
   "execution_count": 49,
   "metadata": {
    "scrolled": true
   },
   "outputs": [
    {
     "data": {
      "image/png": "[encoded data removed]",
      "text/plain": [
       "<Figure size 432x288 with 1 Axes>"
      ]
     },
     "metadata": {},
     "output_type": "display_data"
    },
    {
     "name": "stdout",
     "output_type": "stream",
     "text": [
      "loss: 0.0124737580654362\n",
      "val_loss: 0.023987970352065402\n"
     ]
    }
   ],
   "source": [
    "flatmodel = flatModel(X_train, y_train, X_test, y_test, epochs=80, batch_size=16, loss='mae', units=8)"
   ]
  },
  {
   "cell_type": "code",
   "execution_count": 50,
   "metadata": {},
   "outputs": [
    {
     "name": "stdout",
     "output_type": "stream",
     "text": [
      "Validasi RMSE: 0.43356\n",
      "Validasi MAE: 0.05004\n"
     ]
    }
   ],
   "source": [
    "evalForecast(flatmodel, X_train, y_train, inverse=True, scaler=scaler)"
   ]
  },
  {
   "cell_type": "code",
   "execution_count": 51,
   "metadata": {},
   "outputs": [],
   "source": [
    "flatmodel.model.save('./training/forecast_nn_5aa2c35e35d6d34b0032a796_UI_flatmodel.h5')"
   ]
  },
  {
   "cell_type": "markdown",
   "metadata": {},
   "source": [
    "### 3 - GRU-based Model with Dropout"
   ]
  },
  {
   "cell_type": "code",
   "execution_count": 52,
   "metadata": {
    "scrolled": true
   },
   "outputs": [
    {
     "data": {
      "image/png": "[encoded data removed]",
      "text/plain": [
       "<Figure size 432x288 with 1 Axes>"
      ]
     },
     "metadata": {},
     "output_type": "display_data"
    },
    {
     "name": "stdout",
     "output_type": "stream",
     "text": [
      "loss: 0.012677354489653441\n",
      "val_loss: 0.024314037734757436\n"
     ]
    }
   ],
   "source": [
    "grudropmodel = gruDropModel(X_train, y_train, X_test, y_test, epochs=200, batch_size=16, units=8, drop=0.01, recdrop=0.01, lr=0.0005)"
   ]
  },
  {
   "cell_type": "code",
   "execution_count": 53,
   "metadata": {},
   "outputs": [
    {
     "name": "stdout",
     "output_type": "stream",
     "text": [
      "Validasi RMSE: 0.43371\n",
      "Validasi MAE: 0.04850\n"
     ]
    }
   ],
   "source": [
    "evalForecast(grudropmodel, X_train, y_train, inverse=True, scaler=scaler)"
   ]
  },
  {
   "cell_type": "code",
   "execution_count": 54,
   "metadata": {},
   "outputs": [],
   "source": [
    "grudropmodel.model.save('./training/forecast_nn_5aa2c35e35d6d34b0032a796_UI_grudropmodel.h5')"
   ]
  },
  {
   "cell_type": "markdown",
   "metadata": {},
   "source": [
    "### 4 - LSTM-based Model"
   ]
  },
  {
   "cell_type": "code",
   "execution_count": 55,
   "metadata": {
    "scrolled": true
   },
   "outputs": [
    {
     "data": {
      "image/png": "[encoded data removed]",
      "text/plain": [
       "<Figure size 432x288 with 1 Axes>"
      ]
     },
     "metadata": {},
     "output_type": "display_data"
    },
    {
     "name": "stdout",
     "output_type": "stream",
     "text": [
      "loss: 0.014207681260542759\n",
      "val_loss: 0.0279857224882155\n"
     ]
    }
   ],
   "source": [
    "lstmmodel = lstmModel(X_train, y_train, X_test, y_test, epochs=200, batch_size=8, units=4, drop=0.01, recdrop=0.01, lr=0.00008)"
   ]
  },
  {
   "cell_type": "code",
   "execution_count": 56,
   "metadata": {},
   "outputs": [
    {
     "name": "stdout",
     "output_type": "stream",
     "text": [
      "Validasi RMSE: 0.43564\n",
      "Validasi MAE: 0.05135\n"
     ]
    }
   ],
   "source": [
    "evalForecast(lstmmodel, X_train, y_train, inverse=True, scaler=scaler)"
   ]
  },
  {
   "cell_type": "code",
   "execution_count": 57,
   "metadata": {},
   "outputs": [],
   "source": [
    "lstmmodel.model.save('./training/forecast_nn_5aa2c35e35d6d34b0032a796_UI_lstmmodel.h5')"
   ]
  },
  {
   "cell_type": "markdown",
   "metadata": {},
   "source": [
    "## <font color=blue> 6. Mongodb ID: 5a9347b98cbad97074cb1890 </font>"
   ]
  },
  {
   "cell_type": "code",
   "execution_count": 58,
   "metadata": {},
   "outputs": [],
   "source": [
    "product = genData('5a9347b98cbad97074cb1890', conn, c, impute=True, freq='daily')\n",
    "X_train, y_train, X_test, y_test, dftrain, scaler = splitDataNN(product, percent=0.2)"
   ]
  },
  {
   "cell_type": "code",
   "execution_count": 59,
   "metadata": {},
   "outputs": [
    {
     "data": {
      "text/plain": [
       "((252, 1, 1), (316, 3))"
      ]
     },
     "execution_count": 59,
     "metadata": {},
     "output_type": "execute_result"
    }
   ],
   "source": [
    "X_train.shape, product.shape"
   ]
  },
  {
   "cell_type": "markdown",
   "metadata": {},
   "source": [
    "### 1 - Densely Connected Model"
   ]
  },
  {
   "cell_type": "code",
   "execution_count": 60,
   "metadata": {
    "scrolled": true
   },
   "outputs": [
    {
     "data": {
      "image/png": "[encoded data removed]",
      "text/plain": [
       "<Figure size 432x288 with 1 Axes>"
      ]
     },
     "metadata": {},
     "output_type": "display_data"
    },
    {
     "name": "stdout",
     "output_type": "stream",
     "text": [
      "loss: 0.08839425601611202\n",
      "val_loss: 0.08044213951682663\n"
     ]
    }
   ],
   "source": [
    "flatmodel = flatModel(X_train, y_train, X_test, y_test, epochs=80, batch_size=16, loss='mae', units=8)"
   ]
  },
  {
   "cell_type": "code",
   "execution_count": 61,
   "metadata": {},
   "outputs": [
    {
     "name": "stdout",
     "output_type": "stream",
     "text": [
      "Validasi RMSE: 0.43640\n",
      "Validasi MAE: 0.17467\n"
     ]
    }
   ],
   "source": [
    "evalForecast(flatmodel, X_train, y_train, inverse=True, scaler=scaler)"
   ]
  },
  {
   "cell_type": "code",
   "execution_count": 62,
   "metadata": {},
   "outputs": [],
   "source": [
    "flatmodel.model.save('./training/forecast_nn_5a9347b98cbad97074cb1890_UI_flatmodel.h5')"
   ]
  },
  {
   "cell_type": "markdown",
   "metadata": {},
   "source": [
    "### 3 - GRU-based Model with Dropout"
   ]
  },
  {
   "cell_type": "code",
   "execution_count": 63,
   "metadata": {
    "scrolled": true
   },
   "outputs": [
    {
     "data": {
      "image/png": "[encoded data removed]",
      "text/plain": [
       "<Figure size 432x288 with 1 Axes>"
      ]
     },
     "metadata": {},
     "output_type": "display_data"
    },
    {
     "name": "stdout",
     "output_type": "stream",
     "text": [
      "loss: 0.08853135244944756\n",
      "val_loss: 0.08047874905409232\n"
     ]
    }
   ],
   "source": [
    "grudropmodel = gruDropModel(X_train, y_train, X_test, y_test, epochs=200, batch_size=8, units=4, drop=0.05, recdrop=0.05, lr=0.001)"
   ]
  },
  {
   "cell_type": "code",
   "execution_count": 64,
   "metadata": {},
   "outputs": [
    {
     "name": "stdout",
     "output_type": "stream",
     "text": [
      "Validasi RMSE: 0.43748\n",
      "Validasi MAE: 0.17717\n"
     ]
    }
   ],
   "source": [
    "evalForecast(grudropmodel, X_train, y_train, inverse=True, scaler=scaler)"
   ]
  },
  {
   "cell_type": "code",
   "execution_count": 65,
   "metadata": {},
   "outputs": [],
   "source": [
    "grudropmodel.model.save('./training/forecast_nn_5a9347b98cbad97074cb1890_UI_grudropmodel.h5')"
   ]
  },
  {
   "cell_type": "markdown",
   "metadata": {},
   "source": [
    "### 4 - LSTM-based Model"
   ]
  },
  {
   "cell_type": "code",
   "execution_count": 66,
   "metadata": {
    "scrolled": true
   },
   "outputs": [
    {
     "data": {
      "image/png": "[encoded data removed]",
      "text/plain": [
       "<Figure size 432x288 with 1 Axes>"
      ]
     },
     "metadata": {},
     "output_type": "display_data"
    },
    {
     "name": "stdout",
     "output_type": "stream",
     "text": [
      "loss: 0.08833411242473328\n",
      "val_loss: 0.08016420112782349\n"
     ]
    }
   ],
   "source": [
    "lstmmodel = lstmModel(X_train, y_train, X_test, y_test, epochs=200, batch_size=8, units=4, drop=0.02, recdrop=0.02, lr=0.001)"
   ]
  },
  {
   "cell_type": "code",
   "execution_count": 67,
   "metadata": {},
   "outputs": [
    {
     "name": "stdout",
     "output_type": "stream",
     "text": [
      "Validasi RMSE: 0.43663\n",
      "Validasi MAE: 0.17509\n"
     ]
    }
   ],
   "source": [
    "evalForecast(lstmmodel, X_train, y_train, inverse=True, scaler=scaler)"
   ]
  },
  {
   "cell_type": "code",
   "execution_count": 68,
   "metadata": {},
   "outputs": [],
   "source": [
    "lstmmodel.model.save('./training/forecast_nn_5a9347b98cbad97074cb1890_UI_lstmmodel.h5')"
   ]
  },
  {
   "cell_type": "code",
   "execution_count": null,
   "metadata": {},
   "outputs": [],
   "source": []
  }
 ],
 "metadata": {
  "kernelspec": {
   "display_name": "Python 3",
   "language": "python",
   "name": "python3"
  },
  "language_info": {
   "codemirror_mode": {
    "name": "ipython",
    "version": 3
   },
   "file_extension": ".py",
   "mimetype": "text/x-python",
   "name": "python",
   "nbconvert_exporter": "python",
   "pygments_lexer": "ipython3",
   "version": "3.6.6"
  }
 },
 "nbformat": 4,
 "nbformat_minor": 2
}
