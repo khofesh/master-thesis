{
 "cells": [
  {
   "cell_type": "code",
   "execution_count": 1,
   "metadata": {},
   "outputs": [
    {
     "name": "stderr",
     "output_type": "stream",
     "text": [
      "Using TensorFlow backend.\n"
     ]
    }
   ],
   "source": [
    "import tseriesRoutines as routines\n",
    "import matplotlib.pyplot as plt\n",
    "import numpy as np\n",
    "import pandas as pd\n",
    "import sqlite3\n",
    "from sklearn.preprocessing import StandardScaler, MinMaxScaler\n",
    "from sklearn.model_selection import train_test_split\n",
    "from sklearn.metrics import mean_squared_error, mean_absolute_error\n",
    "from math import ceil, sqrt\n",
    "from keras.models import Sequential\n",
    "from keras import layers\n",
    "from keras.optimizers import RMSprop, Adam, SGD, Adagrad, Adadelta\n",
    "from keras import regularizers\n",
    "from keras.constraints import max_norm, non_neg, unit_norm, min_max_norm\n",
    "from keras.wrappers.scikit_learn import KerasRegressor\n",
    "\n",
    "\n",
    "##########################################################################################\n",
    "# RESULT REPRODUCIBILITY                                                                 #\n",
    "##########################################################################################\n",
    "import tensorflow as tf\n",
    "import random as rn\n",
    "\n",
    "# The below is necessary in Python 3.2.3 onwards to\n",
    "# have reproducible behavior for certain hash-based operations.\n",
    "# See these references for further details:\n",
    "# https://docs.python.org/3.4/using/cmdline.html#envvar-PYTHONHASHSEED\n",
    "# https://github.com/keras-team/keras/issues/2280#issuecomment-306959926\n",
    "import os\n",
    "os.environ['PYTHONHASHSEED'] = '0'\n",
    "\n",
    "# The below is necessary for starting Numpy generated random numbers\n",
    "# in a well-defined initial state.\n",
    "np.random.seed(42)\n",
    "\n",
    "# The below is necessary for starting core Python generated random numbers\n",
    "# in a well-defined state.\n",
    "rn.seed(42)\n",
    "\n",
    "# The below tf.set_random_seed() will make random number generation\n",
    "# in the TensorFlow backend have a well-defined initial state.\n",
    "# For further details, see: https://www.tensorflow.org/api_docs/python/tf/set_random_seed\n",
    "tf.set_random_seed(42)\n",
    "##########################################################################################"
   ]
  },
  {
   "cell_type": "code",
   "execution_count": 2,
   "metadata": {},
   "outputs": [],
   "source": [
    "# DATA UNTUK TRAINING\n",
    "# make connection to sqlite db\n",
    "conn = sqlite3.connect('product.db')\n",
    "c = conn.cursor()\n",
    "\n",
    "# enable foreign keys\n",
    "c.execute(\"PRAGMA foreign_keys = ON\")\n",
    "conn.commit()"
   ]
  },
  {
   "cell_type": "code",
   "execution_count": 3,
   "metadata": {},
   "outputs": [],
   "source": [
    "# DATA UNTUK VALIDASI\n",
    "# make connection to sqlite db\n",
    "conn2 = sqlite3.connect('validasi.db')\n",
    "c2 = conn2.cursor()\n",
    "\n",
    "# enable foreign keys\n",
    "c2.execute(\"PRAGMA foreign_keys = ON\")\n",
    "conn2.commit()"
   ]
  },
  {
   "cell_type": "code",
   "execution_count": 4,
   "metadata": {},
   "outputs": [],
   "source": [
    "# import tseriesNN.py\n",
    "import tseriesNN as tnn\n",
    "# import validasiModelForecasting.py\n",
    "import validasiModelForecasting as vmf"
   ]
  },
  {
   "cell_type": "code",
   "execution_count": 5,
   "metadata": {},
   "outputs": [],
   "source": [
    "# Training set\n",
    "product = tnn.genData('5aa2ad7735d6d34b0032a795', conn, c, impute=False, freq='daily')\n",
    "X_train, y_train, X_test, y_test, dftrain, scaler = tnn.splitDataNN(product, percent=0.2, n_in=2, n_out=2)"
   ]
  },
  {
   "cell_type": "code",
   "execution_count": 6,
   "metadata": {},
   "outputs": [],
   "source": [
    "from sklearn.utils import resample"
   ]
  },
  {
   "cell_type": "code",
   "execution_count": 7,
   "metadata": {},
   "outputs": [],
   "source": [
    "# Validation set\n",
    "mongoid = vmf.getTheRightID('5aa2ad7735d6d34b0032a795')\n",
    "productval = routines.genDataVal(mongoid, conn2, c2, impute=False, freq='daily')\n",
    "X_val, y_val, dftrainval, scalerval = vmf.splitDataNNVal(productval, n_in=2, n_out=2)"
   ]
  },
  {
   "cell_type": "code",
   "execution_count": 9,
   "metadata": {},
   "outputs": [
    {
     "name": "stdout",
     "output_type": "stream",
     "text": [
      "iterasi 0\n",
      "iterasi 1\n"
     ]
    }
   ],
   "source": [
    "yboot = pd.DataFrame()\n",
    "for i in range(0, 250):\n",
    "    X_samples, y_samples = resample(X_train, y_train)\n",
    "\n",
    "    model2 = tnn.lstmModel(X_samples, y_samples, X_test, y_test, epochs=200, batch_size=8, \n",
    "                           units=4, drop=0.002, recdrop=0.002, plot=False)\n",
    "\n",
    "    # make prediction\n",
    "    ypred = model2.model.predict(X_val)\n",
    "    # reshape X\n",
    "    X = X_val.reshape((X_val.shape[0], X_val.shape[2]))\n",
    "    # invert scaling predicted data\n",
    "    inv_ypred = np.concatenate((X[:, :], ypred), axis=1)\n",
    "    inv_ypred = scaler.inverse_transform(inv_ypred)\n",
    "    inv_ypred = inv_ypred[:, -1]\n",
    "    \n",
    "    print('iterasi {0}'.format(i))\n",
    "    \n",
    "    yboot[i] = pd.Series(inv_ypred)\n",
    "    # save memory\n",
    "    del X_samples, y_samples, model2, X, ypred, inv_ypred"
   ]
  },
  {
   "cell_type": "code",
   "execution_count": null,
   "metadata": {},
   "outputs": [],
   "source": [
    "yboot.to_csv('./csvfiles/ybootstrap_bab5.csv', index=False)"
   ]
  },
  {
   "cell_type": "code",
   "execution_count": 8,
   "metadata": {},
   "outputs": [],
   "source": [
    "yboot = pd.read_csv('./csvfiles/ybootstrap_bab5.csv')"
   ]
  },
  {
   "cell_type": "code",
   "execution_count": 9,
   "metadata": {},
   "outputs": [
    {
     "data": {
      "text/plain": [
       "(115, 250)"
      ]
     },
     "execution_count": 9,
     "metadata": {},
     "output_type": "execute_result"
    }
   ],
   "source": [
    "yboot.shape"
   ]
  },
  {
   "cell_type": "code",
   "execution_count": 11,
   "metadata": {},
   "outputs": [
    {
     "data": {
      "text/plain": [
       "-0.0024751774109899997"
      ]
     },
     "execution_count": 11,
     "metadata": {},
     "output_type": "execute_result"
    }
   ],
   "source": [
    "yboot.loc[0,:].sum()/250"
   ]
  },
  {
   "cell_type": "code",
   "execution_count": 12,
   "metadata": {},
   "outputs": [],
   "source": [
    "# khosravi et al. halaman 6, formula (28)\n",
    "yboot['yhat'] = yboot.sum(axis=1)/250"
   ]
  },
  {
   "cell_type": "code",
   "execution_count": 14,
   "metadata": {},
   "outputs": [],
   "source": [
    "# khosravi et al. halaman 6, formula (29)\n",
    "listOfVar = []\n",
    "for i in range(len(yboot)):\n",
    "    variance = np.square((yboot.iloc[i, :-1] - yboot.iloc[i, 250]).sum())/(250-1)\n",
    "    listOfVar.append(variance)"
   ]
  },
  {
   "cell_type": "code",
   "execution_count": 15,
   "metadata": {},
   "outputs": [],
   "source": [
    "yboot['var'] = pd.Series(listOfVar)"
   ]
  },
  {
   "cell_type": "code",
   "execution_count": 17,
   "metadata": {},
   "outputs": [],
   "source": [
    "# reshape X\n",
    "X = X_val.reshape((X_val.shape[0], X_val.shape[2]))\n",
    "# invert scaling for actual data\n",
    "y = y_val.reshape((len(y_val), 1))\n",
    "inv_y = np.concatenate((X[:, :], y_val.reshape((-1, 1))), axis=1)\n",
    "inv_y = scaler.inverse_transform(inv_y)\n",
    "inv_y = inv_y[:, -1]"
   ]
  },
  {
   "cell_type": "code",
   "execution_count": 20,
   "metadata": {},
   "outputs": [],
   "source": [
    "yboot['ytrue'] = pd.Series(inv_y)"
   ]
  },
  {
   "cell_type": "code",
   "execution_count": 22,
   "metadata": {},
   "outputs": [],
   "source": [
    "# khosravi et al. halaman 6, formula (30)\n",
    "listOfRes = []\n",
    "for i in range(len(yboot)):\n",
    "    temp = np.square(yboot.loc[i, 'ytrue'] - yboot.loc[i, 'yhat']) - yboot.loc[i, 'var']\n",
    "    listOfRes.append(temp)\n",
    "for i in range(len(listOfRes)):\n",
    "    listOfRes[i] = np.max([listOfRes[i], 0])"
   ]
  },
  {
   "cell_type": "code",
   "execution_count": 23,
   "metadata": {},
   "outputs": [],
   "source": [
    "yboot['res'] = pd.Series(listOfRes)"
   ]
  },
  {
   "cell_type": "code",
   "execution_count": 90,
   "metadata": {},
   "outputs": [],
   "source": [
    "# 95% prediction intervals\n",
    "# import scipy.stats as st\n",
    "# st.norm.ppf(1-(0.05/2))\n",
    "z = 1.96\n",
    "err = z * np.sqrt(yboot['res'])\n",
    "lower_prediction = yboot['yhat'] - err\n",
    "upper_prediction = yboot['yhat'] + err"
   ]
  },
  {
   "cell_type": "code",
   "execution_count": 91,
   "metadata": {},
   "outputs": [],
   "source": [
    "yboot['lowpred'] = lower_prediction\n",
    "yboot['uppred'] = upper_prediction"
   ]
  },
  {
   "cell_type": "code",
   "execution_count": 81,
   "metadata": {},
   "outputs": [],
   "source": [
    "# Quantile\n",
    "# axis='columns' or 1 --> along the columns\n",
    "# axis='index' or 0 --> along the rows\n",
    "yboot['lowpred'] = yboot.iloc[:, 0:249].quantile(q=0.05, axis='columns')\n",
    "yboot['uppred'] = yboot.iloc[:, 0:249].quantile(q=0.95, axis='columns')"
   ]
  },
  {
   "cell_type": "code",
   "execution_count": 82,
   "metadata": {},
   "outputs": [
    {
     "data": {
      "text/plain": [
       "(115,)"
      ]
     },
     "execution_count": 82,
     "metadata": {},
     "output_type": "execute_result"
    }
   ],
   "source": [
    "yboot.iloc[:, 0:249].quantile(q=0.05, axis='columns').shape"
   ]
  },
  {
   "cell_type": "code",
   "execution_count": 83,
   "metadata": {},
   "outputs": [
    {
     "data": {
      "text/plain": [
       "0   -0.019164\n",
       "1    0.461381\n",
       "2    0.646503\n",
       "3    0.424649\n",
       "4    0.464194\n",
       "Name: 0.05, dtype: float64"
      ]
     },
     "execution_count": 83,
     "metadata": {},
     "output_type": "execute_result"
    }
   ],
   "source": [
    "yboot.iloc[:, 0:249].quantile(q=0.05, axis='columns').head()"
   ]
  },
  {
   "cell_type": "code",
   "execution_count": 92,
   "metadata": {},
   "outputs": [
    {
     "data": {
      "text/html": [
       "<div>\n",
       "<style scoped>\n",
       "    .dataframe tbody tr th:only-of-type {\n",
       "        vertical-align: middle;\n",
       "    }\n",
       "\n",
       "    .dataframe tbody tr th {\n",
       "        vertical-align: top;\n",
       "    }\n",
       "\n",
       "    .dataframe thead th {\n",
       "        text-align: right;\n",
       "    }\n",
       "</style>\n",
       "<table border=\"1\" class=\"dataframe\">\n",
       "  <thead>\n",
       "    <tr style=\"text-align: right;\">\n",
       "      <th></th>\n",
       "      <th>0</th>\n",
       "      <th>1</th>\n",
       "      <th>2</th>\n",
       "      <th>3</th>\n",
       "      <th>4</th>\n",
       "      <th>5</th>\n",
       "      <th>6</th>\n",
       "      <th>7</th>\n",
       "      <th>8</th>\n",
       "      <th>9</th>\n",
       "      <th>...</th>\n",
       "      <th>246</th>\n",
       "      <th>247</th>\n",
       "      <th>248</th>\n",
       "      <th>249</th>\n",
       "      <th>yhat</th>\n",
       "      <th>var</th>\n",
       "      <th>ytrue</th>\n",
       "      <th>res</th>\n",
       "      <th>lowpred</th>\n",
       "      <th>uppred</th>\n",
       "    </tr>\n",
       "  </thead>\n",
       "  <tbody>\n",
       "    <tr>\n",
       "      <th>110</th>\n",
       "      <td>-0.010209</td>\n",
       "      <td>-0.003452</td>\n",
       "      <td>-0.002780</td>\n",
       "      <td>-0.013015</td>\n",
       "      <td>-0.002840</td>\n",
       "      <td>0.000853</td>\n",
       "      <td>-0.007276</td>\n",
       "      <td>0.005728</td>\n",
       "      <td>-0.007030</td>\n",
       "      <td>-0.012951</td>\n",
       "      <td>...</td>\n",
       "      <td>-0.001899</td>\n",
       "      <td>-0.007867</td>\n",
       "      <td>-0.003079</td>\n",
       "      <td>-0.012930</td>\n",
       "      <td>-0.000381</td>\n",
       "      <td>4.950181e-35</td>\n",
       "      <td>0.500000</td>\n",
       "      <td>0.250381</td>\n",
       "      <td>-0.981127</td>\n",
       "      <td>0.980365</td>\n",
       "    </tr>\n",
       "    <tr>\n",
       "      <th>111</th>\n",
       "      <td>1.064250</td>\n",
       "      <td>0.804370</td>\n",
       "      <td>0.822060</td>\n",
       "      <td>0.718396</td>\n",
       "      <td>0.827537</td>\n",
       "      <td>0.830680</td>\n",
       "      <td>0.671353</td>\n",
       "      <td>0.849632</td>\n",
       "      <td>0.770968</td>\n",
       "      <td>0.664570</td>\n",
       "      <td>...</td>\n",
       "      <td>0.700124</td>\n",
       "      <td>0.882518</td>\n",
       "      <td>0.786678</td>\n",
       "      <td>0.628080</td>\n",
       "      <td>0.816744</td>\n",
       "      <td>6.660964e-31</td>\n",
       "      <td>0.500000</td>\n",
       "      <td>0.100327</td>\n",
       "      <td>0.195926</td>\n",
       "      <td>1.437562</td>\n",
       "    </tr>\n",
       "    <tr>\n",
       "      <th>112</th>\n",
       "      <td>0.829942</td>\n",
       "      <td>0.906453</td>\n",
       "      <td>0.821928</td>\n",
       "      <td>0.697118</td>\n",
       "      <td>0.819530</td>\n",
       "      <td>0.752040</td>\n",
       "      <td>0.858797</td>\n",
       "      <td>0.729123</td>\n",
       "      <td>0.910253</td>\n",
       "      <td>0.879092</td>\n",
       "      <td>...</td>\n",
       "      <td>0.807325</td>\n",
       "      <td>0.779313</td>\n",
       "      <td>0.818190</td>\n",
       "      <td>0.681201</td>\n",
       "      <td>0.802881</td>\n",
       "      <td>7.734658e-31</td>\n",
       "      <td>0.500000</td>\n",
       "      <td>0.091737</td>\n",
       "      <td>0.209235</td>\n",
       "      <td>1.396526</td>\n",
       "    </tr>\n",
       "    <tr>\n",
       "      <th>113</th>\n",
       "      <td>0.872473</td>\n",
       "      <td>0.963968</td>\n",
       "      <td>0.748433</td>\n",
       "      <td>0.776892</td>\n",
       "      <td>0.689171</td>\n",
       "      <td>0.954940</td>\n",
       "      <td>0.963866</td>\n",
       "      <td>0.771405</td>\n",
       "      <td>0.952419</td>\n",
       "      <td>0.916656</td>\n",
       "      <td>...</td>\n",
       "      <td>0.931045</td>\n",
       "      <td>0.919627</td>\n",
       "      <td>0.732165</td>\n",
       "      <td>0.897862</td>\n",
       "      <td>0.864883</td>\n",
       "      <td>1.665241e-31</td>\n",
       "      <td>0.833333</td>\n",
       "      <td>0.000995</td>\n",
       "      <td>0.803045</td>\n",
       "      <td>0.926722</td>\n",
       "    </tr>\n",
       "    <tr>\n",
       "      <th>114</th>\n",
       "      <td>0.956353</td>\n",
       "      <td>0.880518</td>\n",
       "      <td>0.890111</td>\n",
       "      <td>0.744297</td>\n",
       "      <td>0.879907</td>\n",
       "      <td>0.869588</td>\n",
       "      <td>0.880065</td>\n",
       "      <td>0.934112</td>\n",
       "      <td>0.947999</td>\n",
       "      <td>0.806768</td>\n",
       "      <td>...</td>\n",
       "      <td>0.875414</td>\n",
       "      <td>0.887892</td>\n",
       "      <td>0.873647</td>\n",
       "      <td>0.705113</td>\n",
       "      <td>0.853495</td>\n",
       "      <td>1.237545e-33</td>\n",
       "      <td>0.500000</td>\n",
       "      <td>0.124958</td>\n",
       "      <td>0.160645</td>\n",
       "      <td>1.546344</td>\n",
       "    </tr>\n",
       "  </tbody>\n",
       "</table>\n",
       "<p>5 rows × 256 columns</p>\n",
       "</div>"
      ],
      "text/plain": [
       "            0         1         2         3         4         5         6  \\\n",
       "110 -0.010209 -0.003452 -0.002780 -0.013015 -0.002840  0.000853 -0.007276   \n",
       "111  1.064250  0.804370  0.822060  0.718396  0.827537  0.830680  0.671353   \n",
       "112  0.829942  0.906453  0.821928  0.697118  0.819530  0.752040  0.858797   \n",
       "113  0.872473  0.963968  0.748433  0.776892  0.689171  0.954940  0.963866   \n",
       "114  0.956353  0.880518  0.890111  0.744297  0.879907  0.869588  0.880065   \n",
       "\n",
       "            7         8         9    ...          246       247       248  \\\n",
       "110  0.005728 -0.007030 -0.012951    ...    -0.001899 -0.007867 -0.003079   \n",
       "111  0.849632  0.770968  0.664570    ...     0.700124  0.882518  0.786678   \n",
       "112  0.729123  0.910253  0.879092    ...     0.807325  0.779313  0.818190   \n",
       "113  0.771405  0.952419  0.916656    ...     0.931045  0.919627  0.732165   \n",
       "114  0.934112  0.947999  0.806768    ...     0.875414  0.887892  0.873647   \n",
       "\n",
       "          249      yhat           var     ytrue       res   lowpred    uppred  \n",
       "110 -0.012930 -0.000381  4.950181e-35  0.500000  0.250381 -0.981127  0.980365  \n",
       "111  0.628080  0.816744  6.660964e-31  0.500000  0.100327  0.195926  1.437562  \n",
       "112  0.681201  0.802881  7.734658e-31  0.500000  0.091737  0.209235  1.396526  \n",
       "113  0.897862  0.864883  1.665241e-31  0.833333  0.000995  0.803045  0.926722  \n",
       "114  0.705113  0.853495  1.237545e-33  0.500000  0.124958  0.160645  1.546344  \n",
       "\n",
       "[5 rows x 256 columns]"
      ]
     },
     "execution_count": 92,
     "metadata": {},
     "output_type": "execute_result"
    }
   ],
   "source": [
    "yboot.tail()"
   ]
  },
  {
   "cell_type": "code",
   "execution_count": 95,
   "metadata": {},
   "outputs": [],
   "source": [
    "yboot[['yhat', 'lowpred', 'uppred']].to_csv('./csvfiles/ybootstrap_pred-low-up.csv', index=False)"
   ]
  },
  {
   "cell_type": "code",
   "execution_count": 93,
   "metadata": {},
   "outputs": [
    {
     "data": {
      "text/plain": [
       "<matplotlib.axes._subplots.AxesSubplot at 0x7f4e88144208>"
      ]
     },
     "execution_count": 93,
     "metadata": {},
     "output_type": "execute_result"
    }
   ],
   "source": [
    "yboot[['yhat', 'lowpred', 'uppred']].plot()"
   ]
  },
  {
   "cell_type": "code",
   "execution_count": 94,
   "metadata": {},
   "outputs": [
    {
     "data": {
      "image/png": "[encoded data removed]",
      "text/plain": [
       "<Figure size 432x288 with 1 Axes>"
      ]
     },
     "metadata": {},
     "output_type": "display_data"
    }
   ],
   "source": [
    "plt.show()"
   ]
  },
  {
   "cell_type": "code",
   "execution_count": null,
   "metadata": {},
   "outputs": [],
   "source": [
    "# plot it!\n",
    "fig, ax = plt.subplots(1)\n",
    "ax.plot(t, mu1, lw=2, label='mean population 1', color='blue')\n",
    "ax.plot(t, mu2, lw=2, label='mean population 2', color='yellow')\n",
    "ax.fill_between(t, mu1+sigma1, mu1-sigma1, facecolor='blue', alpha=0.5)\n",
    "ax.fill_between(t, mu2+sigma2, mu2-sigma2, facecolor='yellow', alpha=0.5)\n",
    "ax.set_title(r'random walkers empirical $\\mu$ and $\\pm \\sigma$ interval')\n",
    "ax.legend(loc='upper left')\n",
    "ax.set_xlabel('num steps')\n",
    "ax.set_ylabel('position')\n",
    "ax.grid()"
   ]
  },
  {
   "cell_type": "code",
   "execution_count": 215,
   "metadata": {},
   "outputs": [],
   "source": [
    "yupper = yboot['uppred'].values\n",
    "ylower = yboot['lowpred'].values"
   ]
  },
  {
   "cell_type": "code",
   "execution_count": 216,
   "metadata": {},
   "outputs": [],
   "source": [
    "# https://matplotlib.org/gallery/recipes/fill_between_alpha.html\n",
    "# https://matplotlib.org/users/colors.html\n",
    "# http://scikit-learn.org/stable/auto_examples/ensemble/plot_gradient_boosting_quantile.html\n",
    "t = np.arange(115)"
   ]
  },
  {
   "cell_type": "code",
   "execution_count": 234,
   "metadata": {},
   "outputs": [],
   "source": [
    "fig, ax = plt.subplots(1)"
   ]
  },
  {
   "cell_type": "code",
   "execution_count": 235,
   "metadata": {},
   "outputs": [
    {
     "data": {
      "text/plain": [
       "[<matplotlib.lines.Line2D at 0x7f4e801e6470>]"
      ]
     },
     "execution_count": 235,
     "metadata": {},
     "output_type": "execute_result"
    }
   ],
   "source": [
    "ax.plot(yboot['yhat'], 'r-', label='Prediction')\n",
    "ax.plot(yupper, 'g-')\n",
    "ax.plot(ylower, 'g-')"
   ]
  },
  {
   "cell_type": "code",
   "execution_count": 236,
   "metadata": {},
   "outputs": [],
   "source": [
    "ax.fill_between(t, yupper, ylower, facecolor='blue', alpha=0.5, label='95% prediction interval')\n",
    "#ax.legend(loc='upper left')\n",
    "ax.legend()\n",
    "ax.grid()"
   ]
  },
  {
   "cell_type": "code",
   "execution_count": 237,
   "metadata": {},
   "outputs": [
    {
     "data": {
      "text/plain": [
       "<Figure size 432x288 with 0 Axes>"
      ]
     },
     "metadata": {},
     "output_type": "display_data"
    },
    {
     "data": {
      "image/png": "[encoded data removed]",
      "text/plain": [
       "<Figure size 432x288 with 1 Axes>"
      ]
     },
     "metadata": {},
     "output_type": "display_data"
    }
   ],
   "source": [
    "plt.show()"
   ]
  },
  {
   "cell_type": "code",
   "execution_count": 238,
   "metadata": {},
   "outputs": [],
   "source": [
    "plt.clf()"
   ]
  },
  {
   "cell_type": "code",
   "execution_count": 228,
   "metadata": {},
   "outputs": [],
   "source": [
    "plt.savefig('./graphs/prediction interval.png', dpi=300)"
   ]
  },
  {
   "cell_type": "code",
   "execution_count": 85,
   "metadata": {},
   "outputs": [],
   "source": [
    "yboot.to_csv('./csvfiles/ybootstrap_bab5_2.csv')"
   ]
  },
  {
   "cell_type": "code",
   "execution_count": null,
   "metadata": {},
   "outputs": [],
   "source": [
    "# referensi\n",
    "# a comprehensive review of neural network-based prediction intervals and new advances\n",
    "# https://stackoverflow.com/questions/41989866/i-created-a-class-to-return-a-confidence-interval-after-bootstrapping-but-my-co\n",
    "# https://stackoverflow.com/questions/40491298/how-to-calculate-95-confidence-intervals-using-bootstrap-method?noredirect=1&lq=1\n",
    "# https://stackoverflow.com/questions/20864847/probability-to-z-score-and-vice-versa-in-python"
   ]
  }
 ],
 "metadata": {
  "kernelspec": {
   "display_name": "Python 3",
   "language": "python",
   "name": "python3"
  },
  "language_info": {
   "codemirror_mode": {
    "name": "ipython",
    "version": 3
   },
   "file_extension": ".py",
   "mimetype": "text/x-python",
   "name": "python",
   "nbconvert_exporter": "python",
   "pygments_lexer": "ipython3",
   "version": "3.7.0"
  }
 },
 "nbformat": 4,
 "nbformat_minor": 2
}
