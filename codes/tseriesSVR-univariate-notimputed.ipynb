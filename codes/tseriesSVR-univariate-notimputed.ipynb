{
 "cells": [
  {
   "cell_type": "markdown",
   "metadata": {},
   "source": [
    "# SVR Forecasting Model"
   ]
  },
  {
   "cell_type": "code",
   "execution_count": 1,
   "metadata": {},
   "outputs": [],
   "source": [
    "import tseriesRoutines as routines\n",
    "import pandas as pd\n",
    "import numpy as np\n",
    "import matplotlib as mpl\n",
    "import matplotlib.pyplot as plt\n",
    "import sqlite3\n",
    "from sklearn.metrics import mean_squared_error, r2_score, mean_absolute_error\n",
    "from sklearn.preprocessing import LabelEncoder, OneHotEncoder\n",
    "from sklearn.preprocessing import StandardScaler\n",
    "from sklearn.model_selection import train_test_split\n",
    "from sklearn.ensemble import RandomForestRegressor\n",
    "from sklearn.model_selection import GridSearchCV\n",
    "from sklearn.model_selection import cross_val_score\n",
    "from sklearn.externals import joblib"
   ]
  },
  {
   "cell_type": "code",
   "execution_count": 2,
   "metadata": {},
   "outputs": [],
   "source": [
    "# RESULT REPRODUCIBILITY\n",
    "# The below is necessary for starting Numpy generated random numbers\n",
    "# in a well-defined initial state.\n",
    "np.random.seed(42)"
   ]
  },
  {
   "cell_type": "code",
   "execution_count": 3,
   "metadata": {},
   "outputs": [],
   "source": [
    "def genData(mongoid, conn, cursor, impute=True, freq='daily'):\n",
    "    '''\n",
    "    Generate a timeseries dataframe for timeseries modelling.\n",
    "    mongoid: str. string of mongodb id.\n",
    "    conn: sqlite3 connection.\n",
    "    cursor: sqlite3 cursor.\n",
    "    impute:\n",
    "    freq:\n",
    "    actualrevcount:\n",
    "    '''\n",
    "    np.random.seed(42)\n",
    "    initial = routines.sqlToDf(conn, cursor)\n",
    "    allproduct = initial.selectReview3(mongoid, impute=impute)\n",
    "    product = routines.tsSalesRateSentiment(allproduct, freq=freq)\n",
    "    return product\n",
    "    # product = genData('5aa2ad7735d6d34b0032a795', conn, c, impute=True, \n",
    "    #   freq='daily')"
   ]
  },
  {
   "cell_type": "code",
   "execution_count": 4,
   "metadata": {},
   "outputs": [],
   "source": [
    "def series_to_supervised(data, n_in=1, n_out=1, dropnan=True):\n",
    "    # https://machinelearningmastery.com/multivariate-time-series-forecasting-lstms-keras/\n",
    "    n_vars = 1 if type(data) is list else data.shape[1]\n",
    "    df = data.copy()\n",
    "    cols, names = list(), list()\n",
    "    # input sequence (t-n, ... t-1)\n",
    "    for i in range(n_in, 0, -1):\n",
    "        cols.append(df.shift(i))\n",
    "        names += [('var%d(t-%d)' % (j+1, i)) for j in range(n_vars)]\n",
    "\n",
    "    # forecast sequence (t, t+1, ... t+n)\n",
    "    for i in range(0, n_out):\n",
    "        cols.append(df.shift(-i))\n",
    "        if i == 0:\n",
    "            names += [('var%d(t)' % (j+1)) for j in range(n_vars)]\n",
    "        else:\n",
    "            names += [('var%d(t+%d)' % (j+1, i)) for j in range(n_vars)]\n",
    "\n",
    "    # put it all together\n",
    "    agg = pd.concat(cols, axis=1)\n",
    "    agg.columns = names\n",
    "    # drop rows with NaN values\n",
    "    if dropnan:\n",
    "        agg = agg.dropna()\n",
    "    return agg"
   ]
  },
  {
   "cell_type": "code",
   "execution_count": 5,
   "metadata": {},
   "outputs": [],
   "source": [
    "#Adj R square\n",
    "def adj_r2_score(model,X_test, y_test,):\n",
    "    y_pred = model.predict(X_test)\n",
    "    # model.coefs_ doesn't exist\n",
    "    adj = 1 - float(len(y_test)-1)/(len(y_test)-model.n_features_-1) * \\\n",
    "            (1 - r2_score(y_test,y_pred))\n",
    "    return adj\n",
    "\n",
    "# Evalute random search\n",
    "def evaluate(model, X_test, y_test):\n",
    "    y_pred = model.predict(X_test)\n",
    "    MSE = mean_squared_error(y_test, y_pred)\n",
    "    r2 = r2_score(y_test, y_pred)\n",
    "#    r2_adjusted = adj_r2_score(model, X_test, y_test)\n",
    "    print('Model Validation')\n",
    "    print('MSE: {0}'.format(MSE))\n",
    "    print('R^2: {0}'.format(r2))\n",
    "#    print('R^2 Adjusted: {0}'.format(r2_adjusted))"
   ]
  },
  {
   "cell_type": "code",
   "execution_count": 55,
   "metadata": {},
   "outputs": [],
   "source": [
    "def splitDataNN(df, n_in=1, n_out=1, scale=True, percent=0.2):\n",
    "    '''\n",
    "    df: pandas dataframe. 3 columns (sales, rating, ovsentiment) with date as index\n",
    "    n_in:\n",
    "    n_out:\n",
    "    scale:\n",
    "    percent:\n",
    "    X_train, y_train, X_test, y_test, dftrain = splitDataNN(product, n_in=1, \n",
    "        n_out=1, scale=True, percent=0.2)\n",
    "    '''\n",
    "    dftrain = series_to_supervised(df, n_in=n_in, n_out=n_out)\n",
    "    # specific to this case\n",
    "    dftrain = dftrain.drop(dftrain.columns[[4, 5]], axis=1)\n",
    "    dftrain = dftrain[['var1(t-1)', 'var1(t)']]\n",
    "    values = dftrain.values\n",
    "\n",
    "    if scale:\n",
    "        scaler = StandardScaler()\n",
    "        values = scaler.fit_transform(values)\n",
    "    else:\n",
    "        pass\n",
    "\n",
    "    # training data\n",
    "    X, y = values[:, :-1], values[:, -1]\n",
    "    # train and test set\n",
    "    X_train, X_test, y_train, y_test = train_test_split(X, y, test_size=percent, \n",
    "            shuffle=False, random_state=42)\n",
    "    return X_train, y_train, X_test, y_test, dftrain, scaler"
   ]
  },
  {
   "cell_type": "code",
   "execution_count": 56,
   "metadata": {},
   "outputs": [],
   "source": [
    "def evalForecast(model, X, y, inverse=False, scaler=None):\n",
    "    '''\n",
    "    Evaluate time series forecasting model\n",
    "    '''\n",
    "    if inverse and scaler:\n",
    "        # make prediction\n",
    "        ypred = model.predict(X)\n",
    "        # invert scaling predicted data\n",
    "        inv_ypred = np.concatenate((X, ypred.reshape((-1,1))), axis=1)\n",
    "        inv_ypred = scaler.inverse_transform(inv_ypred)\n",
    "        inv_ypred = inv_ypred[:, -1]\n",
    "        # invert scaling for actual data\n",
    "        inv_y = np.concatenate((X, y.reshape((-1,1))), axis=1)\n",
    "        inv_y = scaler.inverse_transform(inv_y)\n",
    "        inv_y = inv_y[:, -1]\n",
    "        # RMSE\n",
    "        rmse = np.sqrt(mean_squared_error(y_pred=inv_ypred, y_true=inv_y))\n",
    "        # MAE\n",
    "        mae = mean_absolute_error(y_pred=inv_ypred, y_true=inv_y)\n",
    "    else:\n",
    "        # make prediction\n",
    "        ypred = model.predict(X)\n",
    "        # RMSE\n",
    "        rmse = np.sqrt(mean_squared_error(y_pred=ypred, y_true=y))\n",
    "        # MAE\n",
    "        mae = mean_absolute_error(y_pred=ypred, y_true=y)\n",
    "\n",
    "    print('Validasi RMSE: {0:.5f}'.format(rmse))\n",
    "    print('Validasi MAE: {0:.5f}'.format(mae))"
   ]
  },
  {
   "cell_type": "code",
   "execution_count": 8,
   "metadata": {},
   "outputs": [],
   "source": [
    "# make connection to sqlite db\n",
    "conn = sqlite3.connect('product.db')\n",
    "c = conn.cursor()\n",
    "\n",
    "# enable foreign keys\n",
    "c.execute(\"PRAGMA foreign_keys = ON\")\n",
    "conn.commit()"
   ]
  },
  {
   "cell_type": "markdown",
   "metadata": {},
   "source": [
    "<br>pilihan:\n",
    ">     2 data di database product.db dgn review > 900:\n",
    ">         5aa2ad7735d6d34b0032a795\n",
    ">         5aa39533ae1f941be7165ecd\n",
    ">     cluster 3\n",
    ">         5a93e8768cbad97881597597\n",
    ">         or \n",
    ">         5a95d7ae35d6d33d3fea56ff\n",
    ">     cluster 1\n",
    ">         5aa2c35e35d6d34b0032a796\n",
    ">     cluster 2 \n",
    ">         5a92474635d6d32207bcd343\n",
    "</br>"
   ]
  },
  {
   "cell_type": "markdown",
   "metadata": {},
   "source": [
    "## <font color=blue> 1. Mongodb ID: 5aa2ad7735d6d34b0032a795 </font>"
   ]
  },
  {
   "cell_type": "code",
   "execution_count": 57,
   "metadata": {},
   "outputs": [],
   "source": [
    "product = genData('5aa2ad7735d6d34b0032a795', conn, c, impute=False, freq='daily')\n",
    "X_train, y_train, X_test, y_test, dftrain, scaler = splitDataNN(product, percent=0.2)"
   ]
  },
  {
   "cell_type": "code",
   "execution_count": 58,
   "metadata": {
    "scrolled": true
   },
   "outputs": [
    {
     "data": {
      "text/html": [
       "<div>\n",
       "<style scoped>\n",
       "    .dataframe tbody tr th:only-of-type {\n",
       "        vertical-align: middle;\n",
       "    }\n",
       "\n",
       "    .dataframe tbody tr th {\n",
       "        vertical-align: top;\n",
       "    }\n",
       "\n",
       "    .dataframe thead th {\n",
       "        text-align: right;\n",
       "    }\n",
       "</style>\n",
       "<table border=\"1\" class=\"dataframe\">\n",
       "  <thead>\n",
       "    <tr style=\"text-align: right;\">\n",
       "      <th></th>\n",
       "      <th>var1(t-1)</th>\n",
       "      <th>var1(t)</th>\n",
       "    </tr>\n",
       "    <tr>\n",
       "      <th>date</th>\n",
       "      <th></th>\n",
       "      <th></th>\n",
       "    </tr>\n",
       "  </thead>\n",
       "  <tbody>\n",
       "    <tr>\n",
       "      <th>2016-11-07</th>\n",
       "      <td>2.0</td>\n",
       "      <td>1</td>\n",
       "    </tr>\n",
       "    <tr>\n",
       "      <th>2016-11-08</th>\n",
       "      <td>1.0</td>\n",
       "      <td>0</td>\n",
       "    </tr>\n",
       "    <tr>\n",
       "      <th>2016-11-09</th>\n",
       "      <td>0.0</td>\n",
       "      <td>0</td>\n",
       "    </tr>\n",
       "    <tr>\n",
       "      <th>2016-11-10</th>\n",
       "      <td>0.0</td>\n",
       "      <td>3</td>\n",
       "    </tr>\n",
       "    <tr>\n",
       "      <th>2016-11-11</th>\n",
       "      <td>3.0</td>\n",
       "      <td>0</td>\n",
       "    </tr>\n",
       "  </tbody>\n",
       "</table>\n",
       "</div>"
      ],
      "text/plain": [
       "            var1(t-1)  var1(t)\n",
       "date                          \n",
       "2016-11-07        2.0        1\n",
       "2016-11-08        1.0        0\n",
       "2016-11-09        0.0        0\n",
       "2016-11-10        0.0        3\n",
       "2016-11-11        3.0        0"
      ]
     },
     "execution_count": 58,
     "metadata": {},
     "output_type": "execute_result"
    }
   ],
   "source": [
    "dftrain.head()"
   ]
  },
  {
   "cell_type": "code",
   "execution_count": 59,
   "metadata": {},
   "outputs": [
    {
     "data": {
      "text/plain": [
       "921"
      ]
     },
     "execution_count": 59,
     "metadata": {},
     "output_type": "execute_result"
    }
   ],
   "source": [
    "product['Sales'].sum()"
   ]
  },
  {
   "cell_type": "code",
   "execution_count": 60,
   "metadata": {},
   "outputs": [
    {
     "data": {
      "text/html": [
       "<div>\n",
       "<style scoped>\n",
       "    .dataframe tbody tr th:only-of-type {\n",
       "        vertical-align: middle;\n",
       "    }\n",
       "\n",
       "    .dataframe tbody tr th {\n",
       "        vertical-align: top;\n",
       "    }\n",
       "\n",
       "    .dataframe thead th {\n",
       "        text-align: right;\n",
       "    }\n",
       "</style>\n",
       "<table border=\"1\" class=\"dataframe\">\n",
       "  <thead>\n",
       "    <tr style=\"text-align: right;\">\n",
       "      <th></th>\n",
       "      <th>Sales</th>\n",
       "      <th>rating</th>\n",
       "      <th>ovsentiment</th>\n",
       "    </tr>\n",
       "    <tr>\n",
       "      <th>date</th>\n",
       "      <th></th>\n",
       "      <th></th>\n",
       "      <th></th>\n",
       "    </tr>\n",
       "  </thead>\n",
       "  <tbody>\n",
       "    <tr>\n",
       "      <th>2016-11-06</th>\n",
       "      <td>2</td>\n",
       "      <td>3.500000</td>\n",
       "      <td>0.500000</td>\n",
       "    </tr>\n",
       "    <tr>\n",
       "      <th>2016-11-07</th>\n",
       "      <td>1</td>\n",
       "      <td>5.000000</td>\n",
       "      <td>1.000000</td>\n",
       "    </tr>\n",
       "    <tr>\n",
       "      <th>2016-11-08</th>\n",
       "      <td>0</td>\n",
       "      <td>0.000000</td>\n",
       "      <td>0.000000</td>\n",
       "    </tr>\n",
       "    <tr>\n",
       "      <th>2016-11-09</th>\n",
       "      <td>0</td>\n",
       "      <td>0.000000</td>\n",
       "      <td>0.000000</td>\n",
       "    </tr>\n",
       "    <tr>\n",
       "      <th>2016-11-10</th>\n",
       "      <td>3</td>\n",
       "      <td>4.666667</td>\n",
       "      <td>0.333333</td>\n",
       "    </tr>\n",
       "  </tbody>\n",
       "</table>\n",
       "</div>"
      ],
      "text/plain": [
       "            Sales    rating  ovsentiment\n",
       "date                                    \n",
       "2016-11-06      2  3.500000     0.500000\n",
       "2016-11-07      1  5.000000     1.000000\n",
       "2016-11-08      0  0.000000     0.000000\n",
       "2016-11-09      0  0.000000     0.000000\n",
       "2016-11-10      3  4.666667     0.333333"
      ]
     },
     "execution_count": 60,
     "metadata": {},
     "output_type": "execute_result"
    }
   ],
   "source": [
    "product.head()"
   ]
  },
  {
   "cell_type": "code",
   "execution_count": 61,
   "metadata": {},
   "outputs": [
    {
     "data": {
      "text/plain": [
       "(383, 1)"
      ]
     },
     "execution_count": 61,
     "metadata": {},
     "output_type": "execute_result"
    }
   ],
   "source": [
    "X_train.shape"
   ]
  },
  {
   "cell_type": "code",
   "execution_count": 62,
   "metadata": {},
   "outputs": [],
   "source": [
    "from sklearn.svm import SVR\n",
    "regressor = SVR(kernel='poly')"
   ]
  },
  {
   "cell_type": "code",
   "execution_count": 63,
   "metadata": {},
   "outputs": [],
   "source": [
    "# Grid Search\n",
    "from sklearn.model_selection import GridSearchCV\n",
    "parameters = [{'C':[1, 5, 10, 100], 'kernel':['linear']},\n",
    "        {'C':[1, 5, 10, 100], 'kernel':['rbf'], 'gamma':[0.5, 0.1, 0.01, 0.001, 0.0001]}\n",
    "        ]\n",
    "grid_search = GridSearchCV(estimator=regressor,\n",
    "        param_grid=parameters,\n",
    "        scoring=['neg_mean_squared_error', 'r2', 'explained_variance'],\n",
    "        cv=5,\n",
    "        n_jobs=-1,\n",
    "        refit='r2',\n",
    "        verbose=2)"
   ]
  },
  {
   "cell_type": "code",
   "execution_count": 64,
   "metadata": {},
   "outputs": [
    {
     "name": "stdout",
     "output_type": "stream",
     "text": [
      "Fitting 5 folds for each of 24 candidates, totalling 120 fits\n",
      "[CV] C=1, kernel=linear ..............................................\n",
      "[CV] C=1, kernel=linear ..............................................\n",
      "[CV] C=1, kernel=linear ..............................................\n",
      "[CV] C=1, kernel=linear ..............................................\n",
      "[CV] C=1, kernel=linear ..............................................\n",
      "[CV] C=5, kernel=linear ..............................................\n",
      "[CV] ............................... C=1, kernel=linear, total=   0.0s\n",
      "[CV] C=5, kernel=linear ..............................................\n",
      "[CV] C=5, kernel=linear ..............................................\n",
      "[CV] C=10, kernel=linear .............................................\n",
      "[CV] C=5, kernel=linear ..............................................\n",
      "[CV] ............................... C=1, kernel=linear, total=   0.0s\n",
      "[CV] C=100, kernel=linear ............................................\n",
      "[CV] ............................... C=1, kernel=linear, total=   0.0s\n",
      "[CV] ............................... C=1, kernel=linear, total=   0.0s\n",
      "[CV] C=5, kernel=linear ..............................................\n",
      "[CV] ............................... C=5, kernel=linear, total=   0.0s\n",
      "[CV] C=10, gamma=0.5, kernel=rbf .....................................\n",
      "[CV] C=10, kernel=linear .............................................\n",
      "[CV] C=100, kernel=linear ............................................\n",
      "[CV] ............................... C=5, kernel=linear, total=   0.0s\n",
      "[CV] C=10, kernel=linear .............................................\n",
      "[CV] C=100, kernel=linear ............................................\n",
      "[CV] ............................... C=5, kernel=linear, total=   0.0s\n",
      "[CV] C=10, kernel=linear .............................................\n",
      "[CV] ............................... C=1, kernel=linear, total=   0.0s\n",
      "[CV] ............................... C=5, kernel=linear, total=   0.0s\n",
      "[CV] ............................... C=5, kernel=linear, total=   0.0s\n",
      "[CV] C=100, kernel=linear ............................................\n",
      "[CV] .............................. C=10, kernel=linear, total=   0.0s\n",
      "[CV] C=100, kernel=linear ............................................\n",
      "[CV] C=1, gamma=0.5, kernel=rbf ......................................\n",
      "[CV] C=10, kernel=linear .............................................\n",
      "[CV] .............................. C=10, kernel=linear, total=   0.0s\n",
      "[CV] .............................. C=10, kernel=linear, total=   0.0s\n",
      "[CV] C=1, gamma=0.5, kernel=rbf ......................................\n",
      "[CV] C=1, gamma=0.5, kernel=rbf ......................................\n",
      "[CV] C=1, gamma=0.5, kernel=rbf ......................................\n",
      "[CV] ............................. C=100, kernel=linear, total=   0.0s\n",
      "[CV] ....................... C=1, gamma=0.5, kernel=rbf, total=   0.0s\n",
      "[CV] .............................. C=10, kernel=linear, total=   0.0s\n",
      "[CV] ............................. C=100, kernel=linear, total=   0.0s\n",
      "[CV] C=1, gamma=0.0001, kernel=rbf ...................................\n",
      "[CV] C=1, gamma=0.5, kernel=rbf ......................................\n",
      "[CV] .............................. C=10, kernel=linear, total=   0.0s\n",
      "[CV] ....................... C=1, gamma=0.5, kernel=rbf, total=   0.0s\n",
      "[CV] ............................. C=100, kernel=linear, total=   0.0s\n",
      "[CV] ............................. C=100, kernel=linear, total=   0.0s\n",
      "[CV] ............................. C=100, kernel=linear, total=   0.0s\n",
      "[CV] C=1, gamma=0.1, kernel=rbf ......................................\n",
      "[CV] C=5, gamma=0.01, kernel=rbf .....................................\n",
      "[CV] .................... C=1, gamma=0.0001, kernel=rbf, total=   0.0s\n",
      "[CV] C=1, gamma=0.0001, kernel=rbf ...................................\n",
      "[CV] ....................... C=1, gamma=0.5, kernel=rbf, total=   0.0s\n",
      "[CV] ....................... C=1, gamma=0.5, kernel=rbf, total=   0.0s\n",
      "[CV] C=100, gamma=0.1, kernel=rbf ....................................\n",
      "[CV] ....................... C=1, gamma=0.5, kernel=rbf, total=   0.0s\n",
      "[CV] C=10, gamma=0.001, kernel=rbf ...................................\n",
      "[CV] ....................... C=1, gamma=0.1, kernel=rbf, total=   0.0s\n",
      "[CV] .................... C=1, gamma=0.0001, kernel=rbf, total=   0.0s\n",
      "[CV] C=1, gamma=0.0001, kernel=rbf ...................................\n",
      "[CV] C=1, gamma=0.1, kernel=rbf ......................................\n",
      "[CV] ...................... C=5, gamma=0.01, kernel=rbf, total=   0.0s\n",
      "[CV] C=5, gamma=0.01, kernel=rbf .....................................\n",
      "[CV] ..................... C=100, gamma=0.1, kernel=rbf, total=   0.0s\n",
      "[CV] C=100, gamma=0.01, kernel=rbf ...................................\n",
      "[CV] ...................... C=10, gamma=0.5, kernel=rbf, total=   0.0s\n",
      "[CV] C=10, gamma=0.5, kernel=rbf .....................................\n",
      "[CV] ....................... C=1, gamma=0.1, kernel=rbf, total=   0.0s\n",
      "[CV] C=1, gamma=0.1, kernel=rbf ......................................\n",
      "[CV] .................... C=10, gamma=0.001, kernel=rbf, total=   0.0s\n",
      "[CV] C=10, gamma=0.001, kernel=rbf ...................................\n",
      "[CV] .................... C=1, gamma=0.0001, kernel=rbf, total=   0.0s\n",
      "[CV] C=1, gamma=0.0001, kernel=rbf ...................................\n",
      "[CV] .................... C=100, gamma=0.01, kernel=rbf, total=   0.0s\n",
      "[CV] ...................... C=5, gamma=0.01, kernel=rbf, total=   0.0s\n",
      "[CV] C=5, gamma=0.01, kernel=rbf .....................................\n",
      "[CV] ....................... C=1, gamma=0.1, kernel=rbf, total=   0.0s\n",
      "[CV] C=1, gamma=0.1, kernel=rbf ......................................\n",
      "[CV] C=100, gamma=0.01, kernel=rbf ...................................\n",
      "[CV] ...................... C=10, gamma=0.5, kernel=rbf, total=   0.0s\n",
      "[CV] C=10, gamma=0.5, kernel=rbf .....................................\n",
      "[CV] .................... C=10, gamma=0.001, kernel=rbf, total=   0.0s\n",
      "[CV] C=10, gamma=0.0001, kernel=rbf ..................................\n",
      "[CV] .................... C=1, gamma=0.0001, kernel=rbf, total=   0.0s\n",
      "[CV] C=1, gamma=0.0001, kernel=rbf ...................................\n",
      "[CV] ....................... C=1, gamma=0.1, kernel=rbf, total=   0.0s\n",
      "[CV] C=1, gamma=0.1, kernel=rbf ......................................\n",
      "[CV] .................... C=100, gamma=0.01, kernel=rbf, total=   0.0s\n",
      "[CV] C=100, gamma=0.01, kernel=rbf ...................................\n",
      "[CV] ...................... C=5, gamma=0.01, kernel=rbf, total=   0.0s\n",
      "[CV] C=5, gamma=0.01, kernel=rbf .....................................\n",
      "[CV] ................... C=10, gamma=0.0001, kernel=rbf, total=   0.0s\n",
      "[CV] ...................... C=10, gamma=0.5, kernel=rbf, total=   0.0s\n",
      "[CV] C=10, gamma=0.0001, kernel=rbf ..................................\n",
      "[CV] C=10, gamma=0.1, kernel=rbf .....................................\n",
      "[CV] .................... C=1, gamma=0.0001, kernel=rbf, total=   0.0s\n",
      "[CV] C=5, gamma=0.5, kernel=rbf ......................................\n",
      "[CV] .................... C=100, gamma=0.01, kernel=rbf, total=   0.0s\n",
      "[CV] C=100, gamma=0.01, kernel=rbf ...................................\n",
      "[CV] ................... C=10, gamma=0.0001, kernel=rbf, total=   0.0s\n",
      "[CV] C=10, gamma=0.0001, kernel=rbf ..................................\n",
      "[CV] ....................... C=1, gamma=0.1, kernel=rbf, total=   0.0s\n",
      "[CV] C=1, gamma=0.01, kernel=rbf .....................................\n",
      "[CV] ...................... C=10, gamma=0.1, kernel=rbf, total=   0.0s\n",
      "[CV] C=10, gamma=0.1, kernel=rbf .....................................\n",
      "[CV] ...................... C=5, gamma=0.01, kernel=rbf, total=   0.0s\n",
      "[CV] C=5, gamma=0.001, kernel=rbf ....................................\n",
      "[CV] ....................... C=5, gamma=0.5, kernel=rbf, total=   0.0s\n",
      "[CV] C=5, gamma=0.5, kernel=rbf ......................................\n",
      "[CV] .................... C=100, gamma=0.01, kernel=rbf, total=   0.0s\n",
      "[CV] C=100, gamma=0.01, kernel=rbf ...................................\n",
      "[CV] ................... C=10, gamma=0.0001, kernel=rbf, total=   0.0s\n",
      "[CV] C=10, gamma=0.0001, kernel=rbf ..................................\n",
      "[CV] ....................... C=5, gamma=0.5, kernel=rbf, total=   0.0s\n"
     ]
    },
    {
     "name": "stdout",
     "output_type": "stream",
     "text": [
      "[CV] ...................... C=1, gamma=0.01, kernel=rbf, total=   0.0s\n",
      "[CV] C=5, gamma=0.5, kernel=rbf ......................................\n",
      "[CV] ...................... C=10, gamma=0.1, kernel=rbf, total=   0.0s\n",
      "[CV] C=10, gamma=0.1, kernel=rbf .....................................\n",
      "[CV] C=1, gamma=0.01, kernel=rbf .....................................\n",
      "[CV] ..................... C=5, gamma=0.001, kernel=rbf, total=   0.0s\n",
      "[CV] C=5, gamma=0.001, kernel=rbf ....................................\n",
      "[CV] .................... C=100, gamma=0.01, kernel=rbf, total=   0.0s\n",
      "[CV] C=100, gamma=0.001, kernel=rbf ..................................\n",
      "[CV] ................... C=10, gamma=0.0001, kernel=rbf, total=   0.0s\n",
      "[CV] C=10, gamma=0.0001, kernel=rbf ..................................\n",
      "[CV] ....................... C=5, gamma=0.5, kernel=rbf, total=   0.0s\n",
      "[CV] C=5, gamma=0.5, kernel=rbf ......................................\n",
      "[CV] ...................... C=10, gamma=0.1, kernel=rbf, total=   0.0s\n",
      "[CV] C=10, gamma=0.1, kernel=rbf .....................................\n",
      "[CV] ...................... C=1, gamma=0.01, kernel=rbf, total=   0.0s\n",
      "[CV] C=1, gamma=0.01, kernel=rbf .....................................\n",
      "[CV] ..................... C=5, gamma=0.001, kernel=rbf, total=   0.0s\n",
      "[CV] ................... C=10, gamma=0.0001, kernel=rbf, total=   0.0s\n",
      "[CV] C=5, gamma=0.001, kernel=rbf ....................................\n",
      "[CV] ................... C=100, gamma=0.001, kernel=rbf, total=   0.0s\n",
      "[CV] C=100, gamma=0.001, kernel=rbf ..................................\n",
      "[CV] C=100, gamma=0.5, kernel=rbf ....................................\n",
      "[CV] ....................... C=5, gamma=0.5, kernel=rbf, total=   0.0s\n",
      "[CV] C=5, gamma=0.5, kernel=rbf ......................................\n",
      "[CV] ...................... C=10, gamma=0.1, kernel=rbf, total=   0.0s\n",
      "[CV] C=10, gamma=0.1, kernel=rbf .....................................\n",
      "[CV] ................... C=100, gamma=0.001, kernel=rbf, total=   0.0s\n",
      "[CV] ...................... C=1, gamma=0.01, kernel=rbf, total=   0.0s\n",
      "[CV] ..................... C=5, gamma=0.001, kernel=rbf, total=   0.0s\n",
      "[CV] C=1, gamma=0.01, kernel=rbf .....................................\n",
      "[CV] C=5, gamma=0.001, kernel=rbf ....................................\n",
      "[CV] ..................... C=100, gamma=0.5, kernel=rbf, total=   0.0s\n",
      "[CV] C=100, gamma=0.001, kernel=rbf ..................................\n",
      "[CV] C=100, gamma=0.5, kernel=rbf ....................................\n",
      "[CV] ....................... C=5, gamma=0.5, kernel=rbf, total=   0.0s\n",
      "[CV] C=5, gamma=0.1, kernel=rbf ......................................\n",
      "[CV] ..................... C=5, gamma=0.001, kernel=rbf, total=   0.0s\n",
      "[CV] C=5, gamma=0.001, kernel=rbf ....................................\n",
      "[CV] ...................... C=10, gamma=0.1, kernel=rbf, total=   0.0s\n",
      "[CV] C=10, gamma=0.01, kernel=rbf ....................................\n",
      "[CV] ...................... C=1, gamma=0.01, kernel=rbf, total=   0.0s\n",
      "[CV] C=1, gamma=0.01, kernel=rbf .....................................\n",
      "[CV] ................... C=100, gamma=0.001, kernel=rbf, total=   0.0s\n",
      "[CV] ....................... C=5, gamma=0.1, kernel=rbf, total=   0.0s\n",
      "[CV] C=100, gamma=0.001, kernel=rbf ..................................\n",
      "[CV] ..................... C=100, gamma=0.5, kernel=rbf, total=   0.0s\n",
      "[CV] C=100, gamma=0.5, kernel=rbf ....................................\n",
      "[CV] ..................... C=5, gamma=0.001, kernel=rbf, total=   0.0s\n",
      "[CV] C=5, gamma=0.0001, kernel=rbf ...................................\n",
      "[CV] C=5, gamma=0.1, kernel=rbf ......................................\n",
      "[CV] ..................... C=10, gamma=0.01, kernel=rbf, total=   0.0s\n",
      "[CV] C=10, gamma=0.01, kernel=rbf ....................................\n",
      "[CV] ................... C=100, gamma=0.001, kernel=rbf, total=   0.0s\n",
      "[CV] C=100, gamma=0.001, kernel=rbf ..................................\n",
      "[CV] ...................... C=1, gamma=0.01, kernel=rbf, total=   0.0s\n",
      "[CV] C=1, gamma=0.001, kernel=rbf ....................................\n",
      "[CV] .................... C=5, gamma=0.0001, kernel=rbf, total=   0.0s\n",
      "[CV] ..................... C=100, gamma=0.5, kernel=rbf, total=   0.0s\n",
      "[CV] C=5, gamma=0.0001, kernel=rbf ...................................\n",
      "[CV] C=100, gamma=0.5, kernel=rbf ....................................\n",
      "[CV] ..................... C=10, gamma=0.01, kernel=rbf, total=   0.0s\n",
      "[CV] C=10, gamma=0.01, kernel=rbf ....................................\n",
      "[CV] ................... C=100, gamma=0.001, kernel=rbf, total=   0.0s\n",
      "[CV] C=100, gamma=0.0001, kernel=rbf .................................\n",
      "[CV] ....................... C=5, gamma=0.1, kernel=rbf, total=   0.0s\n",
      "[CV] C=5, gamma=0.1, kernel=rbf ......................................\n",
      "[CV] ..................... C=1, gamma=0.001, kernel=rbf, total=   0.0s\n",
      "[CV] C=1, gamma=0.001, kernel=rbf ....................................\n",
      "[CV] ..................... C=100, gamma=0.5, kernel=rbf, total=   0.0s\n",
      "[CV] ..................... C=10, gamma=0.01, kernel=rbf, total=   0.0s\n",
      "[CV] C=10, gamma=0.01, kernel=rbf ....................................\n",
      "[CV] .................... C=5, gamma=0.0001, kernel=rbf, total=   0.0s\n",
      "[CV] .................. C=100, gamma=0.0001, kernel=rbf, total=   0.0s\n",
      "[CV] C=5, gamma=0.0001, kernel=rbf ...................................\n",
      "[CV] ....................... C=5, gamma=0.1, kernel=rbf, total=   0.0s\n",
      "[CV] C=100, gamma=0.5, kernel=rbf ....................................\n",
      "[CV] C=5, gamma=0.1, kernel=rbf ......................................\n",
      "[CV] C=100, gamma=0.0001, kernel=rbf .................................\n",
      "[CV] ..................... C=10, gamma=0.01, kernel=rbf, total=   0.0s\n",
      "[CV] C=10, gamma=0.01, kernel=rbf ....................................\n",
      "[CV] ....................... C=5, gamma=0.1, kernel=rbf, total=   0.0s\n",
      "[CV] .................... C=5, gamma=0.0001, kernel=rbf, total=   0.0s\n",
      "[CV] C=5, gamma=0.1, kernel=rbf ......................................\n",
      "[CV] ..................... C=1, gamma=0.001, kernel=rbf, total=   0.0s\n",
      "[CV] C=5, gamma=0.0001, kernel=rbf ...................................\n",
      "[CV] C=1, gamma=0.001, kernel=rbf ....................................\n",
      "[CV] ..................... C=100, gamma=0.5, kernel=rbf, total=   0.0s\n",
      "[CV] .................. C=100, gamma=0.0001, kernel=rbf, total=   0.0s\n",
      "[CV] C=100, gamma=0.0001, kernel=rbf .................................\n",
      "[CV] ..................... C=10, gamma=0.01, kernel=rbf, total=   0.0s\n",
      "[CV] C=10, gamma=0.001, kernel=rbf ...................................\n",
      "[CV] C=100, gamma=0.1, kernel=rbf ....................................\n",
      "[CV] ....................... C=5, gamma=0.1, kernel=rbf, total=   0.0s\n",
      "[CV] .................... C=5, gamma=0.0001, kernel=rbf, total=   0.0s\n",
      "[CV] .................. C=100, gamma=0.0001, kernel=rbf, total=   0.0s\n",
      "[CV] C=100, gamma=0.0001, kernel=rbf .................................\n",
      "[CV] ..................... C=1, gamma=0.001, kernel=rbf, total=   0.0s\n",
      "[CV] C=1, gamma=0.001, kernel=rbf ....................................\n",
      "[CV] C=5, gamma=0.01, kernel=rbf .....................................\n",
      "[CV] .................... C=10, gamma=0.001, kernel=rbf, total=   0.0s\n",
      "[CV] C=5, gamma=0.0001, kernel=rbf ...................................\n",
      "[CV] C=10, gamma=0.001, kernel=rbf ...................................\n",
      "[CV] ..................... C=100, gamma=0.1, kernel=rbf, total=   0.0s\n",
      "[CV] .................. C=100, gamma=0.0001, kernel=rbf, total=   0.0s\n",
      "[CV] ..................... C=1, gamma=0.001, kernel=rbf, total=   0.0s\n",
      "[CV] C=100, gamma=0.0001, kernel=rbf .................................\n",
      "[CV] C=1, gamma=0.001, kernel=rbf ....................................\n",
      "[CV] C=100, gamma=0.1, kernel=rbf ....................................\n",
      "[CV] .................... C=5, gamma=0.0001, kernel=rbf, total=   0.0s\n",
      "[CV] ...................... C=5, gamma=0.01, kernel=rbf, total=   0.0s\n",
      "[CV] C=10, gamma=0.5, kernel=rbf .....................................\n",
      "[CV] .................... C=10, gamma=0.001, kernel=rbf, total=   0.0s\n",
      "[CV] C=10, gamma=0.001, kernel=rbf ...................................\n",
      "[CV] ..................... C=1, gamma=0.001, kernel=rbf, total=   0.0s\n",
      "[CV] .................. C=100, gamma=0.0001, kernel=rbf, total=   0.0s\n"
     ]
    },
    {
     "name": "stdout",
     "output_type": "stream",
     "text": [
      "[CV] ..................... C=100, gamma=0.1, kernel=rbf, total=   0.0s\n",
      "[CV] C=100, gamma=0.1, kernel=rbf ....................................\n",
      "[CV] ...................... C=10, gamma=0.5, kernel=rbf, total=   0.0s\n",
      "[CV] C=10, gamma=0.5, kernel=rbf .....................................\n",
      "[CV] .................... C=10, gamma=0.001, kernel=rbf, total=   0.0s\n",
      "[CV] ...................... C=10, gamma=0.5, kernel=rbf, total=   0.0s\n",
      "[CV] ..................... C=100, gamma=0.1, kernel=rbf, total=   0.0s\n",
      "[CV] C=100, gamma=0.1, kernel=rbf ....................................\n",
      "[CV] ..................... C=100, gamma=0.1, kernel=rbf, total=   0.0s\n"
     ]
    },
    {
     "name": "stderr",
     "output_type": "stream",
     "text": [
      "[Parallel(n_jobs=-1)]: Done 120 out of 120 | elapsed:    0.4s finished\n"
     ]
    }
   ],
   "source": [
    "grid_search = grid_search.fit(X_train, y_train)\n",
    "best_accuracy = grid_search.best_score_\n",
    "best_parameters = grid_search.best_params_\n",
    "best_estimator = grid_search.best_estimator_"
   ]
  },
  {
   "cell_type": "code",
   "execution_count": 65,
   "metadata": {},
   "outputs": [
    {
     "data": {
      "text/plain": [
       "{'C': 100, 'kernel': 'linear'}"
      ]
     },
     "execution_count": 65,
     "metadata": {},
     "output_type": "execute_result"
    }
   ],
   "source": [
    "best_parameters"
   ]
  },
  {
   "cell_type": "code",
   "execution_count": 66,
   "metadata": {
    "scrolled": true
   },
   "outputs": [
    {
     "name": "stdout",
     "output_type": "stream",
     "text": [
      "[CV]  ................................................................\n",
      "[CV]  ................................................................\n",
      "[CV]  ................................................................\n",
      "[CV]  ................................................................\n",
      "[CV]  ................................................................\n",
      "[CV]  ................................................................\n",
      "[CV]  ................................................................\n",
      "[CV]  ................................................................\n",
      "[CV]  ................................................................\n",
      "[CV] ................................................. , total=   0.0s\n",
      "[CV] ................................................. , total=   0.0s\n",
      "[CV]  ................................................................\n",
      "[CV] ................................................. , total=   0.0s\n",
      "[CV] ................................................. , total=   0.0s\n",
      "[CV] ................................................. , total=   0.0s\n",
      "[CV] ................................................. , total=   0.0s\n",
      "[CV] ................................................. , total=   0.0s\n",
      "[CV] ................................................. , total=   0.0s\n",
      "[CV] ................................................. , total=   0.0s\n",
      "[CV] ................................................. , total=   0.0s\n"
     ]
    },
    {
     "name": "stderr",
     "output_type": "stream",
     "text": [
      "[Parallel(n_jobs=-1)]: Done   5 out of  10 | elapsed:    0.0s remaining:    0.0s\n",
      "[Parallel(n_jobs=-1)]: Done  10 out of  10 | elapsed:    0.0s finished\n"
     ]
    },
    {
     "data": {
      "text/plain": [
       "(-1.0137874188347014, 0.30332024254697443)"
      ]
     },
     "execution_count": 66,
     "metadata": {},
     "output_type": "execute_result"
    }
   ],
   "source": [
    "# k-fold cross validation\n",
    "from sklearn.model_selection import cross_val_score\n",
    "accuracies = cross_val_score(estimator=best_estimator, X=X_train, y=y_train, cv=10, n_jobs=-1,\n",
    "        scoring='neg_mean_squared_error', verbose=2)\n",
    "accuracies.mean(), accuracies.std()"
   ]
  },
  {
   "cell_type": "code",
   "execution_count": 67,
   "metadata": {},
   "outputs": [
    {
     "name": "stdout",
     "output_type": "stream",
     "text": [
      "Validasi RMSE: 1.57049\n",
      "Validasi MAE: 1.35466\n"
     ]
    }
   ],
   "source": [
    "evalForecast(best_estimator, X_train, y_train, inverse=True, scaler=scaler)"
   ]
  },
  {
   "cell_type": "code",
   "execution_count": 22,
   "metadata": {},
   "outputs": [],
   "source": [
    "#joblib.dump(best_estimator, './training/forecast_svr_5aa2ad7735d6d34b0032a795_univariate.pkl')"
   ]
  },
  {
   "cell_type": "markdown",
   "metadata": {},
   "source": [
    "## <font color=blue> 2. Mongodb ID: 5aa39533ae1f941be7165ecd </font>"
   ]
  },
  {
   "cell_type": "code",
   "execution_count": 74,
   "metadata": {},
   "outputs": [],
   "source": [
    "product = genData('5aa39533ae1f941be7165ecd', conn, c, impute=False, freq='daily')\n",
    "X_train, y_train, X_test, y_test, dftrain, scaler = splitDataNN(product, percent=0.2)"
   ]
  },
  {
   "cell_type": "code",
   "execution_count": 76,
   "metadata": {},
   "outputs": [],
   "source": [
    "regressor = SVR(kernel='poly')"
   ]
  },
  {
   "cell_type": "code",
   "execution_count": 77,
   "metadata": {},
   "outputs": [],
   "source": [
    "# Grid Search\n",
    "from sklearn.model_selection import GridSearchCV\n",
    "parameters = [{'C':[1, 5, 10, 100], 'kernel':['linear']},\n",
    "        {'C':[1, 5, 10, 100], 'kernel':['rbf'], 'gamma':[0.5, 0.1, 0.01, 0.001, 0.0001]}\n",
    "        ]\n",
    "grid_search = GridSearchCV(estimator=regressor,\n",
    "        param_grid=parameters,\n",
    "        scoring=['neg_mean_squared_error', 'r2', 'explained_variance'],\n",
    "        cv=5,\n",
    "        n_jobs=-1,\n",
    "        refit='r2',\n",
    "        verbose=2)"
   ]
  },
  {
   "cell_type": "code",
   "execution_count": 78,
   "metadata": {},
   "outputs": [
    {
     "name": "stdout",
     "output_type": "stream",
     "text": [
      "Fitting 5 folds for each of 24 candidates, totalling 120 fits\n",
      "[CV] C=1, kernel=linear ..............................................\n",
      "[CV] C=1, kernel=linear ..............................................\n",
      "[CV] C=1, kernel=linear ..............................................\n",
      "[CV] C=1, kernel=linear ..............................................\n",
      "[CV] C=5, kernel=linear ..............................................\n",
      "[CV] C=5, kernel=linear ..............................................\n",
      "[CV] C=5, kernel=linear ..............................................\n",
      "[CV] C=1, kernel=linear ..............................................\n",
      "[CV] C=5, kernel=linear ..............................................\n",
      "[CV] C=5, kernel=linear ..............................................\n",
      "[CV] C=10, kernel=linear .............................................\n",
      "[CV] ............................... C=1, kernel=linear, total=   0.0s\n",
      "[CV] ............................... C=1, kernel=linear, total=   0.0s\n",
      "[CV] C=10, kernel=linear .............................................\n",
      "[CV] ............................... C=1, kernel=linear, total=   0.0s\n",
      "[CV] C=10, kernel=linear .............................................\n",
      "[CV] ............................... C=1, kernel=linear, total=   0.0s\n",
      "[CV] ............................... C=5, kernel=linear, total=   0.0s\n",
      "[CV] ............................... C=1, kernel=linear, total=   0.0s\n",
      "[CV] C=10, kernel=linear .............................................\n",
      "[CV] ............................... C=5, kernel=linear, total=   0.0s\n",
      "[CV] C=100, kernel=linear ............................................\n",
      "[CV] ............................... C=5, kernel=linear, total=   0.0s\n",
      "[CV] C=100, kernel=linear ............................................\n",
      "[CV] C=100, kernel=linear ............................................\n",
      "[CV] C=100, kernel=linear ............................................\n",
      "[CV] C=10, kernel=linear .............................................\n",
      "[CV] .............................. C=10, kernel=linear, total=   0.0s\n",
      "[CV] C=100, kernel=linear ............................................\n",
      "[CV] ............................... C=5, kernel=linear, total=   0.0s\n",
      "[CV] .............................. C=10, kernel=linear, total=   0.0s\n",
      "[CV] C=1, gamma=0.5, kernel=rbf ......................................\n",
      "[CV] ............................... C=5, kernel=linear, total=   0.0s\n",
      "[CV] .............................. C=10, kernel=linear, total=   0.0s\n",
      "[CV] .............................. C=10, kernel=linear, total=   0.0s\n",
      "[CV] .............................. C=10, kernel=linear, total=   0.0s\n",
      "[CV] C=1, gamma=0.5, kernel=rbf ......................................\n",
      "[CV] C=1, gamma=0.5, kernel=rbf ......................................\n",
      "[CV] C=1, gamma=0.5, kernel=rbf ......................................\n",
      "[CV] C=1, gamma=0.5, kernel=rbf ......................................\n",
      "[CV] C=1, gamma=0.0001, kernel=rbf ...................................\n",
      "[CV] ............................. C=100, kernel=linear, total=   0.0s\n",
      "[CV] ............................. C=100, kernel=linear, total=   0.0s\n",
      "[CV] C=10, gamma=0.5, kernel=rbf .....................................\n",
      "[CV] C=5, gamma=0.01, kernel=rbf .....................................\n",
      "[CV] C=10, gamma=0.001, kernel=rbf ...................................\n",
      "[CV] ............................. C=100, kernel=linear, total=   0.0s\n",
      "[CV] ............................. C=100, kernel=linear, total=   0.0s\n",
      "[CV] ....................... C=1, gamma=0.5, kernel=rbf, total=   0.0s\n",
      "[CV] C=100, gamma=0.1, kernel=rbf ....................................\n",
      "[CV] ....................... C=1, gamma=0.5, kernel=rbf, total=   0.0s\n",
      "[CV] ....................... C=1, gamma=0.5, kernel=rbf, total=   0.0s\n",
      "[CV] ...................... C=5, gamma=0.01, kernel=rbf, total=   0.0s\n",
      "[CV] ....................... C=1, gamma=0.5, kernel=rbf, total=   0.0s\n",
      "[CV] C=5, gamma=0.01, kernel=rbf .....................................\n",
      "[CV] ....................... C=1, gamma=0.5, kernel=rbf, total=   0.0s\n",
      "[CV] ............................. C=100, kernel=linear, total=   0.1s\n",
      "[CV] C=1, gamma=0.1, kernel=rbf ......................................\n",
      "[CV] .................... C=1, gamma=0.0001, kernel=rbf, total=   0.0s\n",
      "[CV] C=1, gamma=0.0001, kernel=rbf ...................................\n",
      "[CV] ...................... C=10, gamma=0.5, kernel=rbf, total=   0.0s\n",
      "[CV] C=10, gamma=0.5, kernel=rbf .....................................\n",
      "[CV] .................... C=10, gamma=0.001, kernel=rbf, total=   0.0s\n",
      "[CV] C=10, gamma=0.001, kernel=rbf ...................................\n",
      "[CV] ..................... C=100, gamma=0.1, kernel=rbf, total=   0.0s\n",
      "[CV] C=100, gamma=0.01, kernel=rbf ...................................\n",
      "[CV] .................... C=1, gamma=0.0001, kernel=rbf, total=   0.0s\n",
      "[CV] C=1, gamma=0.0001, kernel=rbf ...................................\n",
      "[CV] .................... C=10, gamma=0.001, kernel=rbf, total=   0.0s\n",
      "[CV] ....................... C=1, gamma=0.1, kernel=rbf, total=   0.0s\n",
      "[CV] C=10, gamma=0.0001, kernel=rbf ..................................\n",
      "[CV] ...................... C=5, gamma=0.01, kernel=rbf, total=   0.0s\n",
      "[CV] C=1, gamma=0.1, kernel=rbf ......................................\n",
      "[CV] ...................... C=10, gamma=0.5, kernel=rbf, total=   0.0s\n",
      "[CV] C=10, gamma=0.5, kernel=rbf .....................................\n",
      "[CV] C=5, gamma=0.01, kernel=rbf .....................................\n",
      "[CV] .................... C=100, gamma=0.01, kernel=rbf, total=   0.0s\n",
      "[CV] C=100, gamma=0.01, kernel=rbf ...................................\n",
      "[CV] .................... C=1, gamma=0.0001, kernel=rbf, total=   0.0s\n",
      "[CV] ....................... C=1, gamma=0.1, kernel=rbf, total=   0.0s\n",
      "[CV] C=1, gamma=0.0001, kernel=rbf ...................................\n",
      "[CV] ...................... C=5, gamma=0.01, kernel=rbf, total=   0.0s\n",
      "[CV] C=1, gamma=0.1, kernel=rbf ......................................\n",
      "[CV] C=5, gamma=0.01, kernel=rbf .....................................\n",
      "[CV] ................... C=10, gamma=0.0001, kernel=rbf, total=   0.0s\n",
      "[CV] C=10, gamma=0.0001, kernel=rbf ..................................\n",
      "[CV] ...................... C=10, gamma=0.5, kernel=rbf, total=   0.0s\n",
      "[CV] C=10, gamma=0.1, kernel=rbf .....................................\n",
      "[CV] .................... C=100, gamma=0.01, kernel=rbf, total=   0.0s\n",
      "[CV] ...................... C=5, gamma=0.01, kernel=rbf, total=   0.0s\n",
      "[CV] .................... C=1, gamma=0.0001, kernel=rbf, total=   0.0s\n",
      "[CV] C=100, gamma=0.01, kernel=rbf ...................................\n",
      "[CV] C=5, gamma=0.001, kernel=rbf ....................................\n",
      "[CV] C=1, gamma=0.0001, kernel=rbf ...................................\n",
      "[CV] ....................... C=1, gamma=0.1, kernel=rbf, total=   0.0s\n",
      "[CV] C=1, gamma=0.1, kernel=rbf ......................................\n",
      "[CV] ................... C=10, gamma=0.0001, kernel=rbf, total=   0.0s\n",
      "[CV] C=10, gamma=0.0001, kernel=rbf ..................................\n",
      "[CV] ...................... C=10, gamma=0.1, kernel=rbf, total=   0.0s\n",
      "[CV] C=10, gamma=0.1, kernel=rbf .....................................\n",
      "[CV] .................... C=1, gamma=0.0001, kernel=rbf, total=   0.0s\n",
      "[CV] C=5, gamma=0.5, kernel=rbf ......................................\n",
      "[CV] .................... C=100, gamma=0.01, kernel=rbf, total=   0.0s\n",
      "[CV] C=100, gamma=0.01, kernel=rbf ...................................\n",
      "[CV] ..................... C=5, gamma=0.001, kernel=rbf, total=   0.0s\n",
      "[CV] C=5, gamma=0.001, kernel=rbf ....................................\n",
      "[CV] ....................... C=1, gamma=0.1, kernel=rbf, total=   0.0s\n",
      "[CV] C=1, gamma=0.1, kernel=rbf ......................................\n",
      "[CV] ...................... C=10, gamma=0.1, kernel=rbf, total=   0.0s\n",
      "[CV] C=10, gamma=0.1, kernel=rbf .....................................\n",
      "[CV] ................... C=10, gamma=0.0001, kernel=rbf, total=   0.0s\n",
      "[CV] C=10, gamma=0.0001, kernel=rbf ..................................\n",
      "[CV] ....................... C=5, gamma=0.5, kernel=rbf, total=   0.0s\n",
      "[CV] C=5, gamma=0.5, kernel=rbf ......................................\n",
      "[CV] .................... C=100, gamma=0.01, kernel=rbf, total=   0.0s\n"
     ]
    },
    {
     "name": "stdout",
     "output_type": "stream",
     "text": [
      "[CV] C=100, gamma=0.01, kernel=rbf ...................................\n",
      "[CV] ....................... C=1, gamma=0.1, kernel=rbf, total=   0.0s\n",
      "[CV] C=1, gamma=0.01, kernel=rbf .....................................\n",
      "[CV] ..................... C=5, gamma=0.001, kernel=rbf, total=   0.0s\n",
      "[CV] C=5, gamma=0.001, kernel=rbf ....................................\n",
      "[CV] ....................... C=5, gamma=0.5, kernel=rbf, total=   0.0s\n",
      "[CV] C=5, gamma=0.5, kernel=rbf ......................................\n",
      "[CV] ................... C=10, gamma=0.0001, kernel=rbf, total=   0.0s\n",
      "[CV] ...................... C=10, gamma=0.1, kernel=rbf, total=   0.0s\n",
      "[CV] C=10, gamma=0.1, kernel=rbf .....................................\n",
      "[CV] C=10, gamma=0.0001, kernel=rbf ..................................\n",
      "[CV] ...................... C=1, gamma=0.01, kernel=rbf, total=   0.0s\n",
      "[CV] .................... C=100, gamma=0.01, kernel=rbf, total=   0.0s\n",
      "[CV] C=1, gamma=0.01, kernel=rbf .....................................\n",
      "[CV] C=100, gamma=0.001, kernel=rbf ..................................\n",
      "[CV] ..................... C=5, gamma=0.001, kernel=rbf, total=   0.0s\n",
      "[CV] C=5, gamma=0.001, kernel=rbf ....................................\n",
      "[CV] ................... C=10, gamma=0.0001, kernel=rbf, total=   0.0s\n",
      "[CV] C=100, gamma=0.5, kernel=rbf ....................................\n",
      "[CV] ....................... C=5, gamma=0.5, kernel=rbf, total=   0.0s\n",
      "[CV] C=5, gamma=0.5, kernel=rbf ......................................\n",
      "[CV] ................... C=100, gamma=0.001, kernel=rbf, total=   0.0s\n",
      "[CV] C=100, gamma=0.001, kernel=rbf ..................................\n",
      "[CV] ..................... C=5, gamma=0.001, kernel=rbf, total=   0.0s\n",
      "[CV] ...................... C=1, gamma=0.01, kernel=rbf, total=   0.0s\n",
      "[CV] C=5, gamma=0.001, kernel=rbf ....................................\n",
      "[CV] C=1, gamma=0.01, kernel=rbf .....................................\n",
      "[CV] ...................... C=10, gamma=0.1, kernel=rbf, total=   0.0s\n",
      "[CV] C=10, gamma=0.1, kernel=rbf .....................................\n",
      "[CV] ................... C=100, gamma=0.001, kernel=rbf, total=   0.0s\n",
      "[CV] C=100, gamma=0.001, kernel=rbf ..................................\n",
      "[CV] ....................... C=5, gamma=0.5, kernel=rbf, total=   0.0s\n",
      "[CV] ..................... C=100, gamma=0.5, kernel=rbf, total=   0.0s\n",
      "[CV] ..................... C=5, gamma=0.001, kernel=rbf, total=   0.0s\n",
      "[CV] C=100, gamma=0.5, kernel=rbf ....................................\n",
      "[CV] C=5, gamma=0.5, kernel=rbf ......................................\n",
      "[CV] C=5, gamma=0.0001, kernel=rbf ...................................\n",
      "[CV] ...................... C=1, gamma=0.01, kernel=rbf, total=   0.0s\n",
      "[CV] C=1, gamma=0.01, kernel=rbf .....................................\n",
      "[CV] ................... C=100, gamma=0.001, kernel=rbf, total=   0.0s\n",
      "[CV] C=100, gamma=0.001, kernel=rbf ..................................\n",
      "[CV] .................... C=5, gamma=0.0001, kernel=rbf, total=   0.0s\n",
      "[CV] C=5, gamma=0.0001, kernel=rbf ...................................\n",
      "[CV] ...................... C=10, gamma=0.1, kernel=rbf, total=   0.0s\n",
      "[CV] ..................... C=100, gamma=0.5, kernel=rbf, total=   0.0s\n",
      "[CV] C=100, gamma=0.5, kernel=rbf ....................................\n",
      "[CV] C=10, gamma=0.01, kernel=rbf ....................................\n",
      "[CV] ....................... C=5, gamma=0.5, kernel=rbf, total=   0.0s\n",
      "[CV] C=5, gamma=0.1, kernel=rbf ......................................\n",
      "[CV] ...................... C=1, gamma=0.01, kernel=rbf, total=   0.0s\n",
      "[CV] C=1, gamma=0.01, kernel=rbf .....................................\n",
      "[CV] .................... C=5, gamma=0.0001, kernel=rbf, total=   0.0s\n",
      "[CV] ................... C=100, gamma=0.001, kernel=rbf, total=   0.0s\n",
      "[CV] C=100, gamma=0.001, kernel=rbf ..................................\n",
      "[CV] C=5, gamma=0.0001, kernel=rbf ...................................\n",
      "[CV] ..................... C=100, gamma=0.5, kernel=rbf, total=   0.0s\n",
      "[CV] ...................... C=1, gamma=0.01, kernel=rbf, total=   0.0s\n",
      "[CV] C=100, gamma=0.5, kernel=rbf ....................................\n",
      "[CV] C=1, gamma=0.001, kernel=rbf ....................................\n",
      "[CV] ..................... C=10, gamma=0.01, kernel=rbf, total=   0.0s\n",
      "[CV] C=10, gamma=0.01, kernel=rbf ....................................\n",
      "[CV] ................... C=100, gamma=0.001, kernel=rbf, total=   0.0s\n",
      "[CV] C=100, gamma=0.0001, kernel=rbf .................................\n",
      "[CV] ....................... C=5, gamma=0.1, kernel=rbf, total=   0.0s\n",
      "[CV] C=5, gamma=0.1, kernel=rbf ......................................\n",
      "[CV] .................... C=5, gamma=0.0001, kernel=rbf, total=   0.0s\n",
      "[CV] C=5, gamma=0.0001, kernel=rbf ...................................\n",
      "[CV] ..................... C=1, gamma=0.001, kernel=rbf, total=   0.0s\n",
      "[CV] C=1, gamma=0.001, kernel=rbf ....................................\n",
      "[CV] ..................... C=10, gamma=0.01, kernel=rbf, total=   0.0s\n",
      "[CV] C=10, gamma=0.01, kernel=rbf ....................................\n",
      "[CV] .................... C=5, gamma=0.0001, kernel=rbf, total=   0.0s\n",
      "[CV] C=5, gamma=0.0001, kernel=rbf ...................................\n",
      "[CV] ..................... C=100, gamma=0.5, kernel=rbf, total=   0.0s\n",
      "[CV] ....................... C=5, gamma=0.1, kernel=rbf, total=   0.0s\n",
      "[CV] .................. C=100, gamma=0.0001, kernel=rbf, total=   0.0s\n",
      "[CV] C=5, gamma=0.1, kernel=rbf ......................................\n",
      "[CV] C=100, gamma=0.0001, kernel=rbf .................................\n",
      "[CV] ..................... C=1, gamma=0.001, kernel=rbf, total=   0.0s\n",
      "[CV] C=100, gamma=0.5, kernel=rbf ....................................\n",
      "[CV] C=1, gamma=0.001, kernel=rbf ....................................\n",
      "[CV] ..................... C=10, gamma=0.01, kernel=rbf, total=   0.0s\n",
      "[CV] C=10, gamma=0.01, kernel=rbf ....................................\n",
      "[CV] .................. C=100, gamma=0.0001, kernel=rbf, total=   0.0s\n",
      "[CV] C=100, gamma=0.0001, kernel=rbf .................................\n",
      "[CV] .................... C=5, gamma=0.0001, kernel=rbf, total=   0.0s\n",
      "[CV] C=10, gamma=0.5, kernel=rbf .....................................\n",
      "[CV] ..................... C=100, gamma=0.5, kernel=rbf, total=   0.0s\n",
      "[CV] C=100, gamma=0.1, kernel=rbf ....................................\n",
      "[CV] ..................... C=1, gamma=0.001, kernel=rbf, total=   0.0s\n",
      "[CV] C=1, gamma=0.001, kernel=rbf ....................................\n",
      "[CV] ....................... C=5, gamma=0.1, kernel=rbf, total=   0.0s\n",
      "[CV] C=5, gamma=0.1, kernel=rbf ......................................\n",
      "[CV] .................. C=100, gamma=0.0001, kernel=rbf, total=   0.0s\n",
      "[CV] C=100, gamma=0.0001, kernel=rbf .................................\n",
      "[CV] ..................... C=10, gamma=0.01, kernel=rbf, total=   0.0s\n",
      "[CV] C=10, gamma=0.01, kernel=rbf ....................................\n",
      "[CV] ..................... C=1, gamma=0.001, kernel=rbf, total=   0.0s\n",
      "[CV] C=1, gamma=0.001, kernel=rbf ....................................\n",
      "[CV] ...................... C=10, gamma=0.5, kernel=rbf, total=   0.0s\n",
      "[CV] C=10, gamma=0.5, kernel=rbf .....................................\n",
      "[CV] .................. C=100, gamma=0.0001, kernel=rbf, total=   0.0s\n",
      "[CV] C=100, gamma=0.0001, kernel=rbf .................................\n",
      "[CV] ....................... C=5, gamma=0.1, kernel=rbf, total=   0.0s\n",
      "[CV] C=5, gamma=0.1, kernel=rbf ......................................\n",
      "[CV] ..................... C=100, gamma=0.1, kernel=rbf, total=   0.0s\n",
      "[CV] ..................... C=1, gamma=0.001, kernel=rbf, total=   0.0s\n",
      "[CV] C=100, gamma=0.1, kernel=rbf ....................................\n",
      "[CV] ..................... C=10, gamma=0.01, kernel=rbf, total=   0.0s\n",
      "[CV] C=10, gamma=0.001, kernel=rbf ...................................\n",
      "[CV] .................. C=100, gamma=0.0001, kernel=rbf, total=   0.0s\n",
      "[CV] ...................... C=10, gamma=0.5, kernel=rbf, total=   0.0s\n",
      "[CV] ..................... C=100, gamma=0.1, kernel=rbf, total=   0.0s\n",
      "[CV] ....................... C=5, gamma=0.1, kernel=rbf, total=   0.0s\n",
      "[CV] .................... C=10, gamma=0.001, kernel=rbf, total=   0.0s\n",
      "[CV] C=100, gamma=0.1, kernel=rbf ....................................\n"
     ]
    },
    {
     "name": "stdout",
     "output_type": "stream",
     "text": [
      "[CV] C=10, gamma=0.001, kernel=rbf ...................................\n",
      "[CV] C=5, gamma=0.01, kernel=rbf .....................................\n",
      "[CV] .................... C=10, gamma=0.001, kernel=rbf, total=   0.0s\n",
      "[CV] C=10, gamma=0.001, kernel=rbf ...................................\n",
      "[CV] ...................... C=5, gamma=0.01, kernel=rbf, total=   0.0s\n",
      "[CV] ..................... C=100, gamma=0.1, kernel=rbf, total=   0.0s\n",
      "[CV] C=100, gamma=0.1, kernel=rbf ....................................\n",
      "[CV] .................... C=10, gamma=0.001, kernel=rbf, total=   0.0s\n",
      "[CV] ..................... C=100, gamma=0.1, kernel=rbf, total=   0.0s\n"
     ]
    },
    {
     "name": "stderr",
     "output_type": "stream",
     "text": [
      "[Parallel(n_jobs=-1)]: Done 120 out of 120 | elapsed:    0.5s finished\n"
     ]
    }
   ],
   "source": [
    "grid_search = grid_search.fit(X_train, y_train)\n",
    "best_accuracy = grid_search.best_score_\n",
    "best_parameters = grid_search.best_params_\n",
    "best_estimator = grid_search.best_estimator_"
   ]
  },
  {
   "cell_type": "code",
   "execution_count": 79,
   "metadata": {},
   "outputs": [
    {
     "data": {
      "text/plain": [
       "{'C': 100, 'gamma': 0.01, 'kernel': 'rbf'}"
      ]
     },
     "execution_count": 79,
     "metadata": {},
     "output_type": "execute_result"
    }
   ],
   "source": [
    "best_parameters"
   ]
  },
  {
   "cell_type": "code",
   "execution_count": 80,
   "metadata": {
    "scrolled": true
   },
   "outputs": [
    {
     "name": "stdout",
     "output_type": "stream",
     "text": [
      "[CV]  ................................................................\n",
      "[CV]  ................................................................\n",
      "[CV]  ................................................................\n",
      "[CV]  ................................................................\n",
      "[CV]  ................................................................\n",
      "[CV]  ................................................................\n",
      "[CV]  ................................................................\n",
      "[CV]  ................................................................\n",
      "[CV]  ................................................................\n",
      "[CV]  ................................................................\n",
      "[CV] ................................................. , total=   0.0s\n",
      "[CV] ................................................. , total=   0.0s\n",
      "[CV] ................................................. , total=   0.0s\n",
      "[CV] ................................................. , total=   0.0s\n",
      "[CV] ................................................. , total=   0.0s\n",
      "[CV] ................................................. , total=   0.0s\n",
      "[CV] ................................................. , total=   0.0s\n",
      "[CV] ................................................. , total=   0.0s\n",
      "[CV] ................................................. , total=   0.0s\n",
      "[CV] ................................................. , total=   0.0s\n"
     ]
    },
    {
     "name": "stderr",
     "output_type": "stream",
     "text": [
      "[Parallel(n_jobs=-1)]: Done   5 out of  10 | elapsed:    0.0s remaining:    0.0s\n",
      "[Parallel(n_jobs=-1)]: Done  10 out of  10 | elapsed:    0.0s finished\n"
     ]
    },
    {
     "data": {
      "text/plain": [
       "(-1.02449625797975, 0.33888149932607486)"
      ]
     },
     "execution_count": 80,
     "metadata": {},
     "output_type": "execute_result"
    }
   ],
   "source": [
    "# k-fold cross validation\n",
    "from sklearn.model_selection import cross_val_score\n",
    "accuracies = cross_val_score(estimator=best_estimator, X=X_train, y=y_train, cv=10, n_jobs=-1,\n",
    "        scoring='neg_mean_squared_error', verbose=2)\n",
    "accuracies.mean(), accuracies.std()"
   ]
  },
  {
   "cell_type": "code",
   "execution_count": 81,
   "metadata": {},
   "outputs": [
    {
     "name": "stdout",
     "output_type": "stream",
     "text": [
      "Model Validation\n",
      "MSE: 1.197332887767868\n",
      "R^2: -6.713836034263586\n"
     ]
    }
   ],
   "source": [
    "evaluate(best_estimator, X_test, y_test)"
   ]
  },
  {
   "cell_type": "code",
   "execution_count": 82,
   "metadata": {},
   "outputs": [
    {
     "name": "stdout",
     "output_type": "stream",
     "text": [
      "Validasi RMSE: 1.57755\n",
      "Validasi MAE: 1.31015\n"
     ]
    }
   ],
   "source": [
    "evalForecast(best_estimator, X_train, y_train, inverse=True, scaler=scaler)"
   ]
  },
  {
   "cell_type": "code",
   "execution_count": 33,
   "metadata": {},
   "outputs": [],
   "source": [
    "#joblib.dump(best_estimator, './training/forecast_svr_5aa39533ae1f941be7165ecd_univariate.pkl')"
   ]
  },
  {
   "cell_type": "markdown",
   "metadata": {},
   "source": [
    "## <font color=blue> 3. Mongodb ID: 5a93e8768cbad97881597597 </font>"
   ]
  },
  {
   "cell_type": "code",
   "execution_count": 83,
   "metadata": {},
   "outputs": [],
   "source": [
    "product = genData('5a93e8768cbad97881597597', conn, c, impute=False, freq='daily')\n",
    "X_train, y_train, X_test, y_test, dftrain, scaler = splitDataNN(product, percent=0.2)"
   ]
  },
  {
   "cell_type": "code",
   "execution_count": 84,
   "metadata": {},
   "outputs": [],
   "source": [
    "regressor = SVR(kernel='poly')\n",
    "\n",
    "# Grid Search\n",
    "from sklearn.model_selection import GridSearchCV\n",
    "parameters = [{'C':[1, 5, 10, 100], 'kernel':['linear']},\n",
    "        {'C':[1, 5, 10, 100], 'kernel':['rbf'], 'gamma':[0.5, 0.1, 0.01, 0.001, 0.0001]}\n",
    "        ]\n",
    "grid_search = GridSearchCV(estimator=regressor,\n",
    "        param_grid=parameters,\n",
    "        scoring=['neg_mean_squared_error', 'r2', 'explained_variance'],\n",
    "        cv=5,\n",
    "        n_jobs=-1,\n",
    "        refit='r2',\n",
    "        verbose=2)"
   ]
  },
  {
   "cell_type": "code",
   "execution_count": 85,
   "metadata": {},
   "outputs": [
    {
     "name": "stdout",
     "output_type": "stream",
     "text": [
      "Fitting 5 folds for each of 24 candidates, totalling 120 fits\n",
      "[CV] C=1, kernel=linear ..............................................\n",
      "[CV] C=1, kernel=linear ..............................................\n",
      "[CV] C=1, kernel=linear ..............................................\n",
      "[CV] C=1, kernel=linear ..............................................\n",
      "[CV] C=1, kernel=linear ..............................................\n",
      "[CV] C=5, kernel=linear ..............................................\n",
      "[CV] C=5, kernel=linear ..............................................\n",
      "[CV] C=10, kernel=linear .............................................\n",
      "[CV] C=5, kernel=linear ..............................................\n",
      "[CV] C=5, kernel=linear ..............................................\n",
      "[CV] C=5, kernel=linear ..............................................\n",
      "[CV] ............................... C=1, kernel=linear, total=   0.0s\n",
      "[CV] C=10, kernel=linear .............................................\n",
      "[CV] ............................... C=1, kernel=linear, total=   0.0s\n",
      "[CV] ............................... C=5, kernel=linear, total=   0.0s\n",
      "[CV] ............................... C=1, kernel=linear, total=   0.0s\n",
      "[CV] ............................... C=1, kernel=linear, total=   0.0s\n",
      "[CV] ............................... C=1, kernel=linear, total=   0.0s\n",
      "[CV] C=10, kernel=linear .............................................\n",
      "[CV] C=100, kernel=linear ............................................\n",
      "[CV] C=10, kernel=linear .............................................\n",
      "[CV] ............................... C=5, kernel=linear, total=   0.0s\n",
      "[CV] C=100, kernel=linear ............................................\n",
      "[CV] C=10, kernel=linear .............................................\n",
      "[CV] C=100, kernel=linear ............................................\n",
      "[CV] .............................. C=10, kernel=linear, total=   0.0s\n",
      "[CV] ............................... C=5, kernel=linear, total=   0.0s\n",
      "[CV] C=100, kernel=linear ............................................\n",
      "[CV] .............................. C=10, kernel=linear, total=   0.0s\n",
      "[CV] C=100, kernel=linear ............................................\n",
      "[CV] C=1, gamma=0.5, kernel=rbf ......................................\n",
      "[CV] ............................... C=5, kernel=linear, total=   0.0s\n",
      "[CV] C=1, gamma=0.5, kernel=rbf ......................................\n",
      "[CV] C=1, gamma=0.5, kernel=rbf ......................................\n",
      "[CV] ............................... C=5, kernel=linear, total=   0.0s\n",
      "[CV] .............................. C=10, kernel=linear, total=   0.0s\n",
      "[CV] C=1, gamma=0.5, kernel=rbf ......................................\n",
      "[CV] .............................. C=10, kernel=linear, total=   0.0s\n",
      "[CV] C=1, gamma=0.5, kernel=rbf ......................................\n",
      "[CV] .............................. C=10, kernel=linear, total=   0.0s\n",
      "[CV] C=1, gamma=0.01, kernel=rbf .....................................\n",
      "[CV] C=1, gamma=0.0001, kernel=rbf ...................................\n",
      "[CV] ............................. C=100, kernel=linear, total=   0.0s\n",
      "[CV] C=5, gamma=0.1, kernel=rbf ......................................\n",
      "[CV] ....................... C=1, gamma=0.5, kernel=rbf, total=   0.0s\n",
      "[CV] ....................... C=1, gamma=0.5, kernel=rbf, total=   0.0s\n",
      "[CV] C=5, gamma=0.001, kernel=rbf ....................................\n",
      "[CV] ....................... C=1, gamma=0.5, kernel=rbf, total=   0.0s\n",
      "[CV] C=1, gamma=0.1, kernel=rbf ......................................\n",
      "[CV] ....................... C=1, gamma=0.5, kernel=rbf, total=   0.0s\n",
      "[CV] ...................... C=1, gamma=0.01, kernel=rbf, total=   0.0s\n",
      "[CV] C=10, gamma=0.01, kernel=rbf ....................................\n",
      "[CV] C=10, gamma=0.5, kernel=rbf .....................................\n",
      "[CV] ....................... C=1, gamma=0.5, kernel=rbf, total=   0.0s\n",
      "[CV] C=10, gamma=0.0001, kernel=rbf ..................................\n",
      "[CV] ............................. C=100, kernel=linear, total=   0.1s\n",
      "[CV] C=1, gamma=0.001, kernel=rbf ....................................\n",
      "[CV] .................... C=1, gamma=0.0001, kernel=rbf, total=   0.0s\n",
      "[CV] C=100, gamma=0.1, kernel=rbf ....................................\n",
      "[CV] ....................... C=5, gamma=0.1, kernel=rbf, total=   0.0s\n",
      "[CV] ............................. C=100, kernel=linear, total=   0.1s\n",
      "[CV] C=5, gamma=0.5, kernel=rbf ......................................\n",
      "[CV] C=5, gamma=0.01, kernel=rbf .....................................\n",
      "[CV] ............................. C=100, kernel=linear, total=   0.1s\n",
      "[CV] C=100, gamma=0.001, kernel=rbf ..................................\n",
      "[CV] ..................... C=5, gamma=0.001, kernel=rbf, total=   0.0s\n",
      "[CV] C=5, gamma=0.0001, kernel=rbf ...................................\n",
      "[CV] ............................. C=100, kernel=linear, total=   0.2s\n",
      "[CV] ....................... C=1, gamma=0.1, kernel=rbf, total=   0.0s\n",
      "[CV] C=1, gamma=0.1, kernel=rbf ......................................\n",
      "[CV] ..................... C=10, gamma=0.01, kernel=rbf, total=   0.0s\n",
      "[CV] C=10, gamma=0.001, kernel=rbf ...................................\n",
      "[CV] ...................... C=10, gamma=0.5, kernel=rbf, total=   0.0s\n",
      "[CV] C=10, gamma=0.1, kernel=rbf .....................................\n",
      "[CV] ................... C=10, gamma=0.0001, kernel=rbf, total=   0.0s\n",
      "[CV] C=100, gamma=0.5, kernel=rbf ....................................\n",
      "[CV] ..................... C=100, gamma=0.1, kernel=rbf, total=   0.0s\n",
      "[CV] ....................... C=5, gamma=0.5, kernel=rbf, total=   0.0s\n",
      "[CV] ..................... C=1, gamma=0.001, kernel=rbf, total=   0.0s\n",
      "[CV] C=100, gamma=0.01, kernel=rbf ...................................\n",
      "[CV] C=1, gamma=0.001, kernel=rbf ....................................\n",
      "[CV] C=5, gamma=0.5, kernel=rbf ......................................\n",
      "[CV] ...................... C=5, gamma=0.01, kernel=rbf, total=   0.0s\n",
      "[CV] ................... C=100, gamma=0.001, kernel=rbf, total=   0.0s\n",
      "[CV] C=100, gamma=0.0001, kernel=rbf .................................\n",
      "[CV] ....................... C=1, gamma=0.1, kernel=rbf, total=   0.0s\n",
      "[CV] C=1, gamma=0.1, kernel=rbf ......................................\n",
      "[CV] .................... C=5, gamma=0.0001, kernel=rbf, total=   0.0s\n",
      "[CV] C=5, gamma=0.01, kernel=rbf .....................................\n",
      "[CV] C=5, gamma=0.0001, kernel=rbf ...................................\n",
      "[CV] ..................... C=100, gamma=0.5, kernel=rbf, total=   0.0s\n",
      "[CV] C=100, gamma=0.5, kernel=rbf ....................................\n",
      "[CV] .................... C=10, gamma=0.001, kernel=rbf, total=   0.0s\n",
      "[CV] C=10, gamma=0.001, kernel=rbf ...................................\n",
      "[CV] ...................... C=10, gamma=0.1, kernel=rbf, total=   0.0s\n",
      "[CV] C=10, gamma=0.1, kernel=rbf .....................................\n",
      "[CV] .................... C=100, gamma=0.01, kernel=rbf, total=   0.0s\n",
      "[CV] ....................... C=1, gamma=0.1, kernel=rbf, total=   0.0s\n",
      "[CV] C=100, gamma=0.01, kernel=rbf ...................................\n",
      "[CV] ....................... C=5, gamma=0.5, kernel=rbf, total=   0.0s\n",
      "[CV] C=1, gamma=0.1, kernel=rbf ......................................\n",
      "[CV] C=5, gamma=0.5, kernel=rbf ......................................\n",
      "[CV] .................. C=100, gamma=0.0001, kernel=rbf, total=   0.0s\n",
      "[CV] C=100, gamma=0.0001, kernel=rbf .................................\n",
      "[CV] ..................... C=1, gamma=0.001, kernel=rbf, total=   0.0s\n",
      "[CV] C=1, gamma=0.001, kernel=rbf ....................................\n",
      "[CV] ...................... C=5, gamma=0.01, kernel=rbf, total=   0.0s\n",
      "[CV] C=5, gamma=0.01, kernel=rbf .....................................\n",
      "[CV] .................... C=5, gamma=0.0001, kernel=rbf, total=   0.0s\n",
      "[CV] ..................... C=100, gamma=0.5, kernel=rbf, total=   0.0s\n",
      "[CV] C=5, gamma=0.0001, kernel=rbf ...................................\n",
      "[CV] C=100, gamma=0.5, kernel=rbf ....................................\n",
      "[CV] ....................... C=1, gamma=0.1, kernel=rbf, total=   0.0s\n",
      "[CV] C=1, gamma=0.1, kernel=rbf ......................................\n",
      "[CV] ...................... C=10, gamma=0.1, kernel=rbf, total=   0.0s\n"
     ]
    },
    {
     "name": "stdout",
     "output_type": "stream",
     "text": [
      "[CV] C=10, gamma=0.1, kernel=rbf .....................................\n",
      "[CV] .................... C=10, gamma=0.001, kernel=rbf, total=   0.0s\n",
      "[CV] ....................... C=5, gamma=0.5, kernel=rbf, total=   0.0s\n",
      "[CV] C=10, gamma=0.001, kernel=rbf ...................................\n",
      "[CV] C=5, gamma=0.5, kernel=rbf ......................................\n",
      "[CV] ..................... C=1, gamma=0.001, kernel=rbf, total=   0.0s\n",
      "[CV] .................. C=100, gamma=0.0001, kernel=rbf, total=   0.0s\n",
      "[CV] C=1, gamma=0.001, kernel=rbf ....................................\n",
      "[CV] C=100, gamma=0.0001, kernel=rbf .................................\n",
      "[CV] .................... C=100, gamma=0.01, kernel=rbf, total=   0.0s\n",
      "[CV] C=100, gamma=0.01, kernel=rbf ...................................\n",
      "[CV] ...................... C=5, gamma=0.01, kernel=rbf, total=   0.0s\n",
      "[CV] C=5, gamma=0.01, kernel=rbf .....................................\n",
      "[CV] .................... C=5, gamma=0.0001, kernel=rbf, total=   0.0s\n",
      "[CV] C=5, gamma=0.0001, kernel=rbf ...................................\n",
      "[CV] ....................... C=1, gamma=0.1, kernel=rbf, total=   0.0s\n",
      "[CV] ..................... C=100, gamma=0.5, kernel=rbf, total=   0.0s\n",
      "[CV] C=1, gamma=0.01, kernel=rbf .....................................\n",
      "[CV] ...................... C=10, gamma=0.1, kernel=rbf, total=   0.0s\n",
      "[CV] C=100, gamma=0.5, kernel=rbf ....................................\n",
      "[CV] C=10, gamma=0.1, kernel=rbf .....................................\n",
      "[CV] ....................... C=5, gamma=0.5, kernel=rbf, total=   0.0s\n",
      "[CV] .................... C=10, gamma=0.001, kernel=rbf, total=   0.0s\n",
      "[CV] C=5, gamma=0.5, kernel=rbf ......................................\n",
      "[CV] ..................... C=1, gamma=0.001, kernel=rbf, total=   0.0s\n",
      "[CV] C=1, gamma=0.001, kernel=rbf ....................................\n",
      "[CV] C=10, gamma=0.001, kernel=rbf ...................................\n",
      "[CV] .................. C=100, gamma=0.0001, kernel=rbf, total=   0.0s\n",
      "[CV] ...................... C=5, gamma=0.01, kernel=rbf, total=   0.0s\n",
      "[CV] C=5, gamma=0.01, kernel=rbf .....................................\n",
      "[CV] C=100, gamma=0.0001, kernel=rbf .................................\n",
      "[CV] .................... C=5, gamma=0.0001, kernel=rbf, total=   0.0s\n",
      "[CV] C=5, gamma=0.0001, kernel=rbf ...................................\n",
      "[CV] ..................... C=100, gamma=0.5, kernel=rbf, total=   0.0s\n",
      "[CV] .................... C=100, gamma=0.01, kernel=rbf, total=   0.0s\n",
      "[CV] C=100, gamma=0.5, kernel=rbf ....................................\n",
      "[CV] C=100, gamma=0.01, kernel=rbf ...................................\n",
      "[CV] ...................... C=10, gamma=0.1, kernel=rbf, total=   0.0s\n",
      "[CV] C=10, gamma=0.1, kernel=rbf .....................................\n",
      "[CV] .................. C=100, gamma=0.0001, kernel=rbf, total=   0.0s\n",
      "[CV] .................... C=10, gamma=0.001, kernel=rbf, total=   0.0s\n",
      "[CV] C=100, gamma=0.0001, kernel=rbf .................................\n",
      "[CV] ....................... C=5, gamma=0.5, kernel=rbf, total=   0.0s\n",
      "[CV] C=10, gamma=0.001, kernel=rbf ...................................\n",
      "[CV] C=5, gamma=0.1, kernel=rbf ......................................\n",
      "[CV] ..................... C=1, gamma=0.001, kernel=rbf, total=   0.0s\n",
      "[CV] ...................... C=5, gamma=0.01, kernel=rbf, total=   0.0s\n",
      "[CV] ...................... C=1, gamma=0.01, kernel=rbf, total=   0.0s\n",
      "[CV] C=1, gamma=0.0001, kernel=rbf ...................................\n",
      "[CV] C=5, gamma=0.001, kernel=rbf ....................................\n",
      "[CV] C=1, gamma=0.01, kernel=rbf .....................................\n",
      "[CV] .................... C=5, gamma=0.0001, kernel=rbf, total=   0.0s\n",
      "[CV] .................... C=100, gamma=0.01, kernel=rbf, total=   0.0s\n",
      "[CV] C=100, gamma=0.01, kernel=rbf ...................................\n",
      "[CV] C=10, gamma=0.5, kernel=rbf .....................................\n",
      "[CV] ..................... C=100, gamma=0.5, kernel=rbf, total=   0.0s\n",
      "[CV] C=100, gamma=0.1, kernel=rbf ....................................\n",
      "[CV] .................... C=10, gamma=0.001, kernel=rbf, total=   0.0s\n",
      "[CV] ...................... C=10, gamma=0.1, kernel=rbf, total=   0.0s\n",
      "[CV] C=10, gamma=0.0001, kernel=rbf ..................................\n",
      "[CV] C=10, gamma=0.01, kernel=rbf ....................................\n",
      "[CV] .................. C=100, gamma=0.0001, kernel=rbf, total=   0.0s\n",
      "[CV] .................... C=1, gamma=0.0001, kernel=rbf, total=   0.0s\n",
      "[CV] C=1, gamma=0.0001, kernel=rbf ...................................\n",
      "[CV] ....................... C=5, gamma=0.1, kernel=rbf, total=   0.0s\n",
      "[CV] C=5, gamma=0.1, kernel=rbf ......................................\n",
      "[CV] ...................... C=1, gamma=0.01, kernel=rbf, total=   0.0s\n",
      "[CV] C=1, gamma=0.01, kernel=rbf .....................................\n",
      "[CV] ..................... C=5, gamma=0.001, kernel=rbf, total=   0.0s\n",
      "[CV] .................... C=100, gamma=0.01, kernel=rbf, total=   0.0s\n",
      "[CV] C=100, gamma=0.001, kernel=rbf ..................................\n",
      "[CV] ...................... C=10, gamma=0.5, kernel=rbf, total=   0.0s\n",
      "[CV] C=10, gamma=0.5, kernel=rbf .....................................\n",
      "[CV] C=5, gamma=0.001, kernel=rbf ....................................\n",
      "[CV] ................... C=10, gamma=0.0001, kernel=rbf, total=   0.0s\n",
      "[CV] C=10, gamma=0.0001, kernel=rbf ..................................\n",
      "[CV] ..................... C=100, gamma=0.1, kernel=rbf, total=   0.0s\n",
      "[CV] C=100, gamma=0.1, kernel=rbf ....................................\n",
      "[CV] ....................... C=5, gamma=0.1, kernel=rbf, total=   0.0s\n",
      "[CV] C=5, gamma=0.1, kernel=rbf ......................................\n",
      "[CV] ..................... C=10, gamma=0.01, kernel=rbf, total=   0.0s\n",
      "[CV] ...................... C=1, gamma=0.01, kernel=rbf, total=   0.0s\n",
      "[CV] C=1, gamma=0.01, kernel=rbf .....................................\n",
      "[CV] C=10, gamma=0.01, kernel=rbf ....................................\n",
      "[CV] .................... C=1, gamma=0.0001, kernel=rbf, total=   0.0s\n",
      "[CV] C=1, gamma=0.0001, kernel=rbf ...................................\n",
      "[CV] ...................... C=10, gamma=0.5, kernel=rbf, total=   0.0s\n",
      "[CV] ..................... C=5, gamma=0.001, kernel=rbf, total=   0.0s\n",
      "[CV] C=10, gamma=0.5, kernel=rbf .....................................\n",
      "[CV] C=5, gamma=0.001, kernel=rbf ....................................\n",
      "[CV] ................... C=100, gamma=0.001, kernel=rbf, total=   0.0s\n",
      "[CV] C=100, gamma=0.001, kernel=rbf ..................................\n",
      "[CV] ...................... C=1, gamma=0.01, kernel=rbf, total=   0.0s\n",
      "[CV] ................... C=10, gamma=0.0001, kernel=rbf, total=   0.0s\n",
      "[CV] ....................... C=5, gamma=0.1, kernel=rbf, total=   0.0s\n",
      "[CV] C=10, gamma=0.0001, kernel=rbf ..................................\n",
      "[CV] C=5, gamma=0.1, kernel=rbf ......................................\n",
      "[CV] .................... C=1, gamma=0.0001, kernel=rbf, total=   0.0s\n",
      "[CV] ..................... C=100, gamma=0.1, kernel=rbf, total=   0.0s\n",
      "[CV] C=1, gamma=0.0001, kernel=rbf ...................................\n",
      "[CV] C=100, gamma=0.1, kernel=rbf ....................................\n",
      "[CV] ...................... C=10, gamma=0.5, kernel=rbf, total=   0.0s\n",
      "[CV] ..................... C=10, gamma=0.01, kernel=rbf, total=   0.0s\n",
      "[CV] C=10, gamma=0.5, kernel=rbf .....................................\n",
      "[CV] C=10, gamma=0.01, kernel=rbf ....................................\n",
      "[CV] ....................... C=5, gamma=0.1, kernel=rbf, total=   0.0s\n",
      "[CV] ..................... C=5, gamma=0.001, kernel=rbf, total=   0.0s\n",
      "[CV] C=5, gamma=0.001, kernel=rbf ....................................\n",
      "[CV] ................... C=10, gamma=0.0001, kernel=rbf, total=   0.0s\n",
      "[CV] C=10, gamma=0.0001, kernel=rbf ..................................\n",
      "[CV] ................... C=100, gamma=0.001, kernel=rbf, total=   0.0s\n",
      "[CV] C=100, gamma=0.001, kernel=rbf ..................................\n",
      "[CV] .................... C=1, gamma=0.0001, kernel=rbf, total=   0.0s\n",
      "[CV] ...................... C=10, gamma=0.5, kernel=rbf, total=   0.0s\n",
      "[CV] ..................... C=100, gamma=0.1, kernel=rbf, total=   0.0s\n",
      "[CV] C=100, gamma=0.1, kernel=rbf ....................................\n"
     ]
    },
    {
     "name": "stdout",
     "output_type": "stream",
     "text": [
      "[CV] ..................... C=10, gamma=0.01, kernel=rbf, total=   0.0s\n",
      "[CV] C=10, gamma=0.01, kernel=rbf ....................................\n",
      "[CV] ..................... C=5, gamma=0.001, kernel=rbf, total=   0.0s\n",
      "[CV] ................... C=10, gamma=0.0001, kernel=rbf, total=   0.0s\n",
      "[CV] ................... C=100, gamma=0.001, kernel=rbf, total=   0.0s\n",
      "[CV] C=100, gamma=0.001, kernel=rbf ..................................\n",
      "[CV] ..................... C=10, gamma=0.01, kernel=rbf, total=   0.0s\n",
      "[CV] ..................... C=100, gamma=0.1, kernel=rbf, total=   0.0s\n",
      "[CV] ................... C=100, gamma=0.001, kernel=rbf, total=   0.0s\n"
     ]
    },
    {
     "name": "stderr",
     "output_type": "stream",
     "text": [
      "[Parallel(n_jobs=-1)]: Done 120 out of 120 | elapsed:    0.8s finished\n"
     ]
    }
   ],
   "source": [
    "grid_search = grid_search.fit(X_train, y_train)\n",
    "best_accuracy = grid_search.best_score_\n",
    "best_parameters = grid_search.best_params_\n",
    "best_estimator = grid_search.best_estimator_"
   ]
  },
  {
   "cell_type": "code",
   "execution_count": 86,
   "metadata": {},
   "outputs": [
    {
     "data": {
      "text/plain": [
       "{'C': 5, 'gamma': 0.001, 'kernel': 'rbf'}"
      ]
     },
     "execution_count": 86,
     "metadata": {},
     "output_type": "execute_result"
    }
   ],
   "source": [
    "best_parameters"
   ]
  },
  {
   "cell_type": "code",
   "execution_count": 87,
   "metadata": {
    "scrolled": true
   },
   "outputs": [
    {
     "name": "stdout",
     "output_type": "stream",
     "text": [
      "[CV]  ................................................................\n",
      "[CV]  ................................................................\n",
      "[CV]  ................................................................\n",
      "[CV]  ................................................................\n",
      "[CV]  ................................................................\n",
      "[CV]  ................................................................\n",
      "[CV]  ................................................................\n",
      "[CV]  ................................................................\n",
      "[CV]  ................................................................\n",
      "[CV]  ................................................................\n",
      "[CV] ................................................. , total=   0.0s\n",
      "[CV] ................................................. , total=   0.0s\n",
      "[CV] ................................................. , total=   0.0s\n",
      "[CV] ................................................. , total=   0.0s\n",
      "[CV] ................................................. , total=   0.0s\n",
      "[CV] ................................................. , total=   0.0s\n",
      "[CV] ................................................. , total=   0.0s\n",
      "[CV] ................................................. , total=   0.0s\n",
      "[CV] ................................................. , total=   0.0s\n",
      "[CV] ................................................. , total=   0.0s\n"
     ]
    },
    {
     "name": "stderr",
     "output_type": "stream",
     "text": [
      "[Parallel(n_jobs=-1)]: Done   5 out of  10 | elapsed:    0.0s remaining:    0.0s\n",
      "[Parallel(n_jobs=-1)]: Done  10 out of  10 | elapsed:    0.0s finished\n"
     ]
    },
    {
     "data": {
      "text/plain": [
       "(-1.3958595323537342, 1.4168343054220394)"
      ]
     },
     "execution_count": 87,
     "metadata": {},
     "output_type": "execute_result"
    }
   ],
   "source": [
    "# k-fold cross validation\n",
    "from sklearn.model_selection import cross_val_score\n",
    "accuracies = cross_val_score(estimator=best_estimator, X=X_train, y=y_train, cv=10, n_jobs=-1,\n",
    "        scoring='neg_mean_squared_error', verbose=2)\n",
    "accuracies.mean(), accuracies.std()"
   ]
  },
  {
   "cell_type": "code",
   "execution_count": 88,
   "metadata": {},
   "outputs": [
    {
     "name": "stdout",
     "output_type": "stream",
     "text": [
      "Model Validation\n",
      "MSE: 0.48154323686051914\n",
      "R^2: -0.0939974525482119\n"
     ]
    }
   ],
   "source": [
    "evaluate(best_estimator, X_test, y_test)"
   ]
  },
  {
   "cell_type": "code",
   "execution_count": 89,
   "metadata": {},
   "outputs": [
    {
     "name": "stdout",
     "output_type": "stream",
     "text": [
      "Validasi RMSE: 5.50819\n",
      "Validasi MAE: 3.40701\n"
     ]
    }
   ],
   "source": [
    "evalForecast(best_estimator, X_train, y_train, inverse=True, scaler=scaler)"
   ]
  },
  {
   "cell_type": "code",
   "execution_count": 43,
   "metadata": {},
   "outputs": [],
   "source": [
    "#joblib.dump(best_estimator, './training/forecast_svr_5a93e8768cbad97881597597_univariate.pkl')"
   ]
  },
  {
   "cell_type": "markdown",
   "metadata": {},
   "source": [
    "## <font color=blue> 5. Mongodb ID: 5aa2c35e35d6d34b0032a796 </font>"
   ]
  },
  {
   "cell_type": "code",
   "execution_count": 90,
   "metadata": {},
   "outputs": [],
   "source": [
    "product = genData('5aa2c35e35d6d34b0032a796', conn, c, impute=False, freq='daily')\n",
    "X_train, y_train, X_test, y_test, dftrain, scaler = splitDataNN(product, percent=0.2)"
   ]
  },
  {
   "cell_type": "code",
   "execution_count": 91,
   "metadata": {},
   "outputs": [],
   "source": [
    "regressor = SVR(kernel='poly')\n",
    "\n",
    "# Grid Search\n",
    "from sklearn.model_selection import GridSearchCV\n",
    "parameters = [{'C':[1, 5, 10, 100], 'kernel':['linear']},\n",
    "        {'C':[1, 5, 10, 100], 'kernel':['rbf'], 'gamma':[0.5, 0.1, 0.01, 0.001, 0.0001]}\n",
    "        ]\n",
    "grid_search = GridSearchCV(estimator=regressor,\n",
    "        param_grid=parameters,\n",
    "        scoring=['neg_mean_squared_error', 'r2', 'explained_variance'],\n",
    "        cv=5,\n",
    "        n_jobs=-1,\n",
    "        refit='r2',\n",
    "        verbose=2)"
   ]
  },
  {
   "cell_type": "code",
   "execution_count": 92,
   "metadata": {},
   "outputs": [
    {
     "name": "stdout",
     "output_type": "stream",
     "text": [
      "Fitting 5 folds for each of 24 candidates, totalling 120 fits\n",
      "[CV] C=1, kernel=linear ..............................................\n",
      "[CV] C=1, kernel=linear ..............................................\n",
      "[CV] C=1, kernel=linear ..............................................\n",
      "[CV] C=5, kernel=linear ..............................................\n",
      "[CV] C=1, kernel=linear ..............................................\n",
      "[CV] C=1, kernel=linear ..............................................\n",
      "[CV] C=5, kernel=linear ..............................................\n",
      "[CV] C=5, kernel=linear ..............................................\n",
      "[CV] C=5, kernel=linear ..............................................\n",
      "[CV] C=5, kernel=linear ..............................................\n",
      "[CV] ............................... C=1, kernel=linear, total=   0.0s\n",
      "[CV] ............................... C=1, kernel=linear, total=   0.0s\n",
      "[CV] C=10, kernel=linear .............................................\n",
      "[CV] ............................... C=1, kernel=linear, total=   0.0s\n",
      "[CV] ....................... C=1, gamma=0.5, kernel=rbf, total=   0.0s\n",
      "[CV] C=10, kernel=linear .............................................\n",
      "[CV] ............................... C=1, kernel=linear, total=   0.0s\n",
      "[CV] ............................... C=1, kernel=linear, total=   0.0s\n",
      "[CV] ............................... C=5, kernel=linear, total=   0.0s\n",
      "[CV] C=100, kernel=linear ............................................\n",
      "[CV] ............................... C=5, kernel=linear, total=   0.0s\n",
      "[CV] ............................... C=5, kernel=linear, total=   0.0s\n",
      "[CV] ............................... C=5, kernel=linear, total=   0.0s\n",
      "[CV] C=100, kernel=linear ............................................\n",
      "[CV] C=100, kernel=linear ............................................\n",
      "[CV] C=100, kernel=linear ............................................\n",
      "[CV] C=100, kernel=linear ............................................\n",
      "[CV] .............................. C=10, kernel=linear, total=   0.0s\n",
      "[CV] C=10, kernel=linear .............................................\n",
      "[CV] .............................. C=10, kernel=linear, total=   0.0s\n",
      "[CV] C=10, kernel=linear .............................................\n",
      "[CV] ............................... C=5, kernel=linear, total=   0.0s\n",
      "[CV] C=1, gamma=0.5, kernel=rbf ......................................\n",
      "[CV] C=1, gamma=0.5, kernel=rbf ......................................\n",
      "[CV] C=1, gamma=0.5, kernel=rbf ......................................\n",
      "[CV] C=1, gamma=0.5, kernel=rbf ......................................\n",
      "[CV] ............................. C=100, kernel=linear, total=   0.0s\n",
      "[CV] ............................. C=100, kernel=linear, total=   0.0s\n",
      "[CV] .............................. C=10, kernel=linear, total=   0.0s\n",
      "[CV] .............................. C=10, kernel=linear, total=   0.0s\n",
      "[CV] ............................. C=100, kernel=linear, total=   0.0s\n",
      "[CV] ....................... C=1, gamma=0.5, kernel=rbf, total=   0.0s\n",
      "[CV] ....................... C=1, gamma=0.5, kernel=rbf, total=   0.0s\n",
      "[CV] ....................... C=1, gamma=0.5, kernel=rbf, total=   0.0s\n",
      "[CV] ............................. C=100, kernel=linear, total=   0.0s\n",
      "[CV] C=10, kernel=linear .............................................\n",
      "[CV] C=1, gamma=0.5, kernel=rbf ......................................\n",
      "[CV] ............................. C=100, kernel=linear, total=   0.0s\n",
      "[CV] C=1, gamma=0.0001, kernel=rbf ...................................\n",
      "[CV] .............................. C=10, kernel=linear, total=   0.0s\n",
      "[CV] C=5, gamma=0.01, kernel=rbf .....................................\n",
      "[CV] ....................... C=1, gamma=0.5, kernel=rbf, total=   0.0s\n",
      "[CV] C=10, gamma=0.5, kernel=rbf .....................................\n",
      "[CV] C=1, gamma=0.1, kernel=rbf ......................................\n",
      "[CV] C=10, gamma=0.001, kernel=rbf ...................................\n",
      "[CV] C=100, gamma=0.1, kernel=rbf ....................................\n",
      "[CV] .................... C=1, gamma=0.0001, kernel=rbf, total=   0.0s\n",
      "[CV] ...................... C=10, gamma=0.5, kernel=rbf, total=   0.0s\n",
      "[CV] ...................... C=5, gamma=0.01, kernel=rbf, total=   0.0s\n",
      "[CV] C=1, gamma=0.0001, kernel=rbf ...................................\n",
      "[CV] ....................... C=1, gamma=0.1, kernel=rbf, total=   0.0s\n",
      "[CV] C=10, gamma=0.5, kernel=rbf .....................................\n",
      "[CV] C=5, gamma=0.01, kernel=rbf .....................................\n",
      "[CV] C=1, gamma=0.1, kernel=rbf ......................................\n",
      "[CV] ..................... C=100, gamma=0.1, kernel=rbf, total=   0.0s\n",
      "[CV] .................... C=10, gamma=0.001, kernel=rbf, total=   0.0s\n",
      "[CV] C=100, gamma=0.01, kernel=rbf ...................................\n",
      "[CV] ...................... C=10, gamma=0.5, kernel=rbf, total=   0.0s\n",
      "[CV] C=10, gamma=0.001, kernel=rbf ...................................\n",
      "[CV] C=10, gamma=0.5, kernel=rbf .....................................\n",
      "[CV] .................... C=1, gamma=0.0001, kernel=rbf, total=   0.0s\n",
      "[CV] ....................... C=1, gamma=0.1, kernel=rbf, total=   0.0s\n",
      "[CV] C=1, gamma=0.0001, kernel=rbf ...................................\n",
      "[CV] C=1, gamma=0.1, kernel=rbf ......................................\n",
      "[CV] ...................... C=5, gamma=0.01, kernel=rbf, total=   0.0s\n",
      "[CV] .................... C=10, gamma=0.001, kernel=rbf, total=   0.0s\n",
      "[CV] C=10, gamma=0.0001, kernel=rbf ..................................\n",
      "[CV] .................... C=100, gamma=0.01, kernel=rbf, total=   0.0s\n",
      "[CV] C=5, gamma=0.01, kernel=rbf .....................................\n",
      "[CV] ...................... C=10, gamma=0.5, kernel=rbf, total=   0.0s\n",
      "[CV] C=10, gamma=0.1, kernel=rbf .....................................\n",
      "[CV] C=100, gamma=0.01, kernel=rbf ...................................\n",
      "[CV] ....................... C=1, gamma=0.1, kernel=rbf, total=   0.0s\n",
      "[CV] .................... C=1, gamma=0.0001, kernel=rbf, total=   0.0s\n",
      "[CV] C=1, gamma=0.0001, kernel=rbf ...................................\n",
      "[CV] C=1, gamma=0.1, kernel=rbf ......................................\n",
      "[CV] ................... C=10, gamma=0.0001, kernel=rbf, total=   0.0s\n",
      "[CV] .................... C=100, gamma=0.01, kernel=rbf, total=   0.0s\n",
      "[CV] C=10, gamma=0.0001, kernel=rbf ..................................\n",
      "[CV] ...................... C=5, gamma=0.01, kernel=rbf, total=   0.0s\n",
      "[CV] C=100, gamma=0.01, kernel=rbf ...................................\n",
      "[CV] C=5, gamma=0.01, kernel=rbf .....................................\n",
      "[CV] ...................... C=10, gamma=0.1, kernel=rbf, total=   0.0s\n",
      "[CV] .................... C=1, gamma=0.0001, kernel=rbf, total=   0.0s\n",
      "[CV] C=1, gamma=0.0001, kernel=rbf ...................................\n",
      "[CV] ....................... C=1, gamma=0.1, kernel=rbf, total=   0.0s\n",
      "[CV] C=10, gamma=0.1, kernel=rbf .....................................\n",
      "[CV] C=1, gamma=0.1, kernel=rbf ......................................\n",
      "[CV] ................... C=10, gamma=0.0001, kernel=rbf, total=   0.0s\n",
      "[CV] ...................... C=5, gamma=0.01, kernel=rbf, total=   0.0s\n",
      "[CV] C=10, gamma=0.0001, kernel=rbf ..................................\n",
      "[CV] C=5, gamma=0.001, kernel=rbf ....................................\n",
      "[CV] .................... C=100, gamma=0.01, kernel=rbf, total=   0.0s\n",
      "[CV] C=100, gamma=0.01, kernel=rbf ...................................\n",
      "[CV] .................... C=1, gamma=0.0001, kernel=rbf, total=   0.0s\n",
      "[CV] C=5, gamma=0.5, kernel=rbf ......................................\n",
      "[CV] ....................... C=1, gamma=0.1, kernel=rbf, total=   0.0s\n",
      "[CV] C=1, gamma=0.01, kernel=rbf .....................................\n",
      "[CV] ................... C=10, gamma=0.0001, kernel=rbf, total=   0.0s\n",
      "[CV] ...................... C=10, gamma=0.1, kernel=rbf, total=   0.0s\n",
      "[CV] C=10, gamma=0.0001, kernel=rbf ..................................\n",
      "[CV] C=10, gamma=0.1, kernel=rbf .....................................\n",
      "[CV] ..................... C=5, gamma=0.001, kernel=rbf, total=   0.0s\n",
      "[CV] .................... C=100, gamma=0.01, kernel=rbf, total=   0.0s\n",
      "[CV] C=5, gamma=0.001, kernel=rbf ....................................\n"
     ]
    },
    {
     "name": "stdout",
     "output_type": "stream",
     "text": [
      "[CV] C=100, gamma=0.01, kernel=rbf ...................................\n",
      "[CV] ....................... C=5, gamma=0.5, kernel=rbf, total=   0.0s\n",
      "[CV] C=5, gamma=0.5, kernel=rbf ......................................\n",
      "[CV] ................... C=10, gamma=0.0001, kernel=rbf, total=   0.0s\n",
      "[CV] .................... C=100, gamma=0.01, kernel=rbf, total=   0.0s\n",
      "[CV] C=10, gamma=0.0001, kernel=rbf ..................................\n",
      "[CV] C=100, gamma=0.001, kernel=rbf ..................................\n",
      "[CV] ...................... C=1, gamma=0.01, kernel=rbf, total=   0.0s\n",
      "[CV] ...................... C=10, gamma=0.1, kernel=rbf, total=   0.0s\n",
      "[CV] C=10, gamma=0.1, kernel=rbf .....................................\n",
      "[CV] C=1, gamma=0.01, kernel=rbf .....................................\n",
      "[CV] ..................... C=5, gamma=0.001, kernel=rbf, total=   0.0s\n",
      "[CV] C=5, gamma=0.001, kernel=rbf ....................................\n",
      "[CV] ....................... C=5, gamma=0.5, kernel=rbf, total=   0.0s\n",
      "[CV] C=5, gamma=0.5, kernel=rbf ......................................\n",
      "[CV] ................... C=100, gamma=0.001, kernel=rbf, total=   0.0s\n",
      "[CV] C=100, gamma=0.001, kernel=rbf ..................................\n",
      "[CV] ................... C=10, gamma=0.0001, kernel=rbf, total=   0.0s\n",
      "[CV] C=100, gamma=0.5, kernel=rbf ....................................\n",
      "[CV] ..................... C=5, gamma=0.001, kernel=rbf, total=   0.0s\n",
      "[CV] C=5, gamma=0.001, kernel=rbf ....................................\n",
      "[CV] ...................... C=1, gamma=0.01, kernel=rbf, total=   0.0s\n",
      "[CV] C=1, gamma=0.01, kernel=rbf .....................................\n",
      "[CV] ...................... C=10, gamma=0.1, kernel=rbf, total=   0.0s\n",
      "[CV] ....................... C=5, gamma=0.5, kernel=rbf, total=   0.0s\n",
      "[CV] C=10, gamma=0.1, kernel=rbf .....................................\n",
      "[CV] C=5, gamma=0.5, kernel=rbf ......................................\n",
      "[CV] ................... C=100, gamma=0.001, kernel=rbf, total=   0.0s\n",
      "[CV] ..................... C=5, gamma=0.001, kernel=rbf, total=   0.0s\n",
      "[CV] C=5, gamma=0.001, kernel=rbf ....................................\n",
      "[CV] ..................... C=100, gamma=0.5, kernel=rbf, total=   0.0s\n",
      "[CV] C=100, gamma=0.001, kernel=rbf ..................................\n",
      "[CV] C=100, gamma=0.5, kernel=rbf ....................................\n",
      "[CV] ....................... C=5, gamma=0.5, kernel=rbf, total=   0.0s\n",
      "[CV] C=5, gamma=0.5, kernel=rbf ......................................\n",
      "[CV] ...................... C=1, gamma=0.01, kernel=rbf, total=   0.0s\n",
      "[CV] C=1, gamma=0.01, kernel=rbf .....................................\n",
      "[CV] ...................... C=10, gamma=0.1, kernel=rbf, total=   0.0s\n",
      "[CV] C=10, gamma=0.01, kernel=rbf ....................................\n",
      "[CV] ................... C=100, gamma=0.001, kernel=rbf, total=   0.0s\n",
      "[CV] ..................... C=100, gamma=0.5, kernel=rbf, total=   0.0s\n",
      "[CV] C=100, gamma=0.001, kernel=rbf ..................................\n",
      "[CV] ..................... C=5, gamma=0.001, kernel=rbf, total=   0.0s\n",
      "[CV] C=100, gamma=0.5, kernel=rbf ....................................\n",
      "[CV] C=5, gamma=0.0001, kernel=rbf ...................................\n",
      "[CV] ....................... C=5, gamma=0.5, kernel=rbf, total=   0.0s\n",
      "[CV] C=5, gamma=0.1, kernel=rbf ......................................\n",
      "[CV] ...................... C=1, gamma=0.01, kernel=rbf, total=   0.0s\n",
      "[CV] C=1, gamma=0.01, kernel=rbf .....................................\n",
      "[CV] ..................... C=100, gamma=0.5, kernel=rbf, total=   0.0s\n",
      "[CV] C=100, gamma=0.5, kernel=rbf ....................................\n",
      "[CV] ..................... C=10, gamma=0.01, kernel=rbf, total=   0.0s\n",
      "[CV] C=10, gamma=0.01, kernel=rbf ....................................\n",
      "[CV] ................... C=100, gamma=0.001, kernel=rbf, total=   0.0s\n",
      "[CV] C=100, gamma=0.001, kernel=rbf ..................................\n",
      "[CV] .................... C=5, gamma=0.0001, kernel=rbf, total=   0.0s\n",
      "[CV] ....................... C=5, gamma=0.1, kernel=rbf, total=   0.0s\n",
      "[CV] C=5, gamma=0.0001, kernel=rbf ...................................\n",
      "[CV] C=5, gamma=0.1, kernel=rbf ......................................\n",
      "[CV] ...................... C=1, gamma=0.01, kernel=rbf, total=   0.0s\n",
      "[CV] C=1, gamma=0.001, kernel=rbf ....................................\n",
      "[CV] ..................... C=100, gamma=0.5, kernel=rbf, total=   0.0s\n",
      "[CV] C=100, gamma=0.5, kernel=rbf ....................................\n",
      "[CV] ................... C=100, gamma=0.001, kernel=rbf, total=   0.0s\n",
      "[CV] C=100, gamma=0.0001, kernel=rbf .................................\n",
      "[CV] ..................... C=10, gamma=0.01, kernel=rbf, total=   0.0s\n",
      "[CV] .................... C=5, gamma=0.0001, kernel=rbf, total=   0.0s\n",
      "[CV] C=5, gamma=0.0001, kernel=rbf ...................................\n",
      "[CV] C=10, gamma=0.01, kernel=rbf ....................................\n",
      "[CV] ..................... C=100, gamma=0.5, kernel=rbf, total=   0.0s\n",
      "[CV] ....................... C=5, gamma=0.1, kernel=rbf, total=   0.0s\n",
      "[CV] C=100, gamma=0.1, kernel=rbf ....................................\n",
      "[CV] C=5, gamma=0.1, kernel=rbf ......................................\n",
      "[CV] ..................... C=1, gamma=0.001, kernel=rbf, total=   0.0s\n",
      "[CV] C=1, gamma=0.001, kernel=rbf ....................................\n",
      "[CV] .................. C=100, gamma=0.0001, kernel=rbf, total=   0.0s\n",
      "[CV] C=100, gamma=0.0001, kernel=rbf .................................\n",
      "[CV] .................... C=5, gamma=0.0001, kernel=rbf, total=   0.0s\n",
      "[CV] C=5, gamma=0.0001, kernel=rbf ...................................\n",
      "[CV] ..................... C=10, gamma=0.01, kernel=rbf, total=   0.0s\n",
      "[CV] C=10, gamma=0.01, kernel=rbf ....................................\n",
      "[CV] ....................... C=5, gamma=0.1, kernel=rbf, total=   0.0s\n",
      "[CV] C=5, gamma=0.1, kernel=rbf ......................................\n",
      "[CV] ..................... C=100, gamma=0.1, kernel=rbf, total=   0.0s\n",
      "[CV] .................. C=100, gamma=0.0001, kernel=rbf, total=   0.0s\n",
      "[CV] C=100, gamma=0.1, kernel=rbf ....................................\n",
      "[CV] C=100, gamma=0.0001, kernel=rbf .................................\n",
      "[CV] .................... C=5, gamma=0.0001, kernel=rbf, total=   0.0s\n",
      "[CV] ..................... C=1, gamma=0.001, kernel=rbf, total=   0.0s\n",
      "[CV] C=1, gamma=0.001, kernel=rbf ....................................\n",
      "[CV] C=5, gamma=0.0001, kernel=rbf ...................................\n",
      "[CV] ....................... C=5, gamma=0.1, kernel=rbf, total=   0.0s\n",
      "[CV] C=5, gamma=0.1, kernel=rbf ......................................\n",
      "[CV] ..................... C=10, gamma=0.01, kernel=rbf, total=   0.0s\n",
      "[CV] C=10, gamma=0.01, kernel=rbf ....................................\n",
      "[CV] .................. C=100, gamma=0.0001, kernel=rbf, total=   0.0s\n",
      "[CV] ..................... C=100, gamma=0.1, kernel=rbf, total=   0.0s\n",
      "[CV] C=100, gamma=0.0001, kernel=rbf .................................\n",
      "[CV] C=100, gamma=0.1, kernel=rbf ....................................\n",
      "[CV] .................... C=5, gamma=0.0001, kernel=rbf, total=   0.0s\n",
      "[CV] C=10, gamma=0.5, kernel=rbf .....................................\n",
      "[CV] ....................... C=5, gamma=0.1, kernel=rbf, total=   0.0s\n",
      "[CV] ..................... C=1, gamma=0.001, kernel=rbf, total=   0.0s\n",
      "[CV] C=5, gamma=0.01, kernel=rbf .....................................\n",
      "[CV] C=1, gamma=0.001, kernel=rbf ....................................\n",
      "[CV] .................. C=100, gamma=0.0001, kernel=rbf, total=   0.0s\n",
      "[CV] C=100, gamma=0.0001, kernel=rbf .................................\n",
      "[CV] ..................... C=100, gamma=0.1, kernel=rbf, total=   0.0s\n",
      "[CV] C=100, gamma=0.1, kernel=rbf ....................................\n",
      "[CV] ...................... C=10, gamma=0.5, kernel=rbf, total=   0.0s\n",
      "[CV] ..................... C=10, gamma=0.01, kernel=rbf, total=   0.0s\n",
      "[CV] C=10, gamma=0.5, kernel=rbf .....................................\n",
      "[CV] C=10, gamma=0.001, kernel=rbf ...................................\n",
      "[CV] ...................... C=5, gamma=0.01, kernel=rbf, total=   0.0s\n",
      "[CV] .................. C=100, gamma=0.0001, kernel=rbf, total=   0.0s\n",
      "[CV] ..................... C=1, gamma=0.001, kernel=rbf, total=   0.0s\n"
     ]
    },
    {
     "name": "stdout",
     "output_type": "stream",
     "text": [
      "[CV] C=1, gamma=0.001, kernel=rbf ....................................\n",
      "[CV] ..................... C=100, gamma=0.1, kernel=rbf, total=   0.0s\n",
      "[CV] ...................... C=10, gamma=0.5, kernel=rbf, total=   0.0s\n",
      "[CV] .................... C=10, gamma=0.001, kernel=rbf, total=   0.0s\n",
      "[CV] C=10, gamma=0.001, kernel=rbf ...................................\n",
      "[CV] ..................... C=1, gamma=0.001, kernel=rbf, total=   0.0s\n",
      "[CV] .................... C=10, gamma=0.001, kernel=rbf, total=   0.0s\n",
      "[CV] C=10, gamma=0.001, kernel=rbf ...................................\n",
      "[CV] .................... C=10, gamma=0.001, kernel=rbf, total=   0.0s\n"
     ]
    },
    {
     "name": "stderr",
     "output_type": "stream",
     "text": [
      "[Parallel(n_jobs=-1)]: Done 120 out of 120 | elapsed:    0.3s finished\n"
     ]
    }
   ],
   "source": [
    "grid_search = grid_search.fit(X_train, y_train)\n",
    "best_accuracy = grid_search.best_score_\n",
    "best_parameters = grid_search.best_params_\n",
    "best_estimator = grid_search.best_estimator_"
   ]
  },
  {
   "cell_type": "code",
   "execution_count": 93,
   "metadata": {},
   "outputs": [
    {
     "data": {
      "text/plain": [
       "{'C': 5, 'gamma': 0.5, 'kernel': 'rbf'}"
      ]
     },
     "execution_count": 93,
     "metadata": {},
     "output_type": "execute_result"
    }
   ],
   "source": [
    "best_parameters"
   ]
  },
  {
   "cell_type": "code",
   "execution_count": 94,
   "metadata": {
    "scrolled": true
   },
   "outputs": [
    {
     "name": "stdout",
     "output_type": "stream",
     "text": [
      "[CV]  ................................................................\n",
      "[CV]  ................................................................\n",
      "[CV]  ................................................................\n",
      "[CV]  ................................................................\n",
      "[CV]  ................................................................\n",
      "[CV]  ................................................................\n",
      "[CV]  ................................................................\n",
      "[CV]  ................................................................\n",
      "[CV]  ................................................................\n",
      "[CV]  ................................................................\n",
      "[CV] ................................................. , total=   0.0s\n",
      "[CV] ................................................. , total=   0.0s\n",
      "[CV] ................................................. , total=   0.0s\n",
      "[CV] ................................................. , total=   0.0s\n",
      "[CV] ................................................. , total=   0.0s\n",
      "[CV] ................................................. , total=   0.0s\n",
      "[CV] ................................................. , total=   0.0s\n",
      "[CV] ................................................. , total=   0.0s\n",
      "[CV] ................................................. , total=   0.0s\n",
      "[CV] ................................................. , total=   0.0s\n"
     ]
    },
    {
     "name": "stderr",
     "output_type": "stream",
     "text": [
      "[Parallel(n_jobs=-1)]: Done   5 out of  10 | elapsed:    0.0s remaining:    0.0s\n",
      "[Parallel(n_jobs=-1)]: Done  10 out of  10 | elapsed:    0.0s finished\n"
     ]
    },
    {
     "data": {
      "text/plain": [
       "(-0.5361091347395082, 0.27990430786669734)"
      ]
     },
     "execution_count": 94,
     "metadata": {},
     "output_type": "execute_result"
    }
   ],
   "source": [
    "# k-fold cross validation\n",
    "from sklearn.model_selection import cross_val_score\n",
    "accuracies = cross_val_score(estimator=best_estimator, X=X_train, y=y_train, cv=10, n_jobs=-1,\n",
    "        scoring='neg_mean_squared_error', verbose=2)\n",
    "accuracies.mean(), accuracies.std()"
   ]
  },
  {
   "cell_type": "code",
   "execution_count": 95,
   "metadata": {},
   "outputs": [
    {
     "name": "stdout",
     "output_type": "stream",
     "text": [
      "Model Validation\n",
      "MSE: 4.128019684039785\n",
      "R^2: -0.6725233462926343\n"
     ]
    }
   ],
   "source": [
    "evaluate(best_estimator, X_test, y_test)"
   ]
  },
  {
   "cell_type": "code",
   "execution_count": 96,
   "metadata": {},
   "outputs": [
    {
     "name": "stdout",
     "output_type": "stream",
     "text": [
      "Validasi RMSE: 5.31287\n",
      "Validasi MAE: 3.71209\n"
     ]
    }
   ],
   "source": [
    "evalForecast(best_estimator, X_train, y_train, inverse=True, scaler=scaler)"
   ]
  },
  {
   "cell_type": "code",
   "execution_count": 63,
   "metadata": {},
   "outputs": [],
   "source": [
    "#joblib.dump(best_estimator, './training/forecast_svr_5aa2c35e35d6d34b0032a796_univariate.pkl')"
   ]
  },
  {
   "cell_type": "markdown",
   "metadata": {},
   "source": [
    "## <font color=blue> 7. Mongodb ID: 5a9347b98cbad97074cb1890 </font>"
   ]
  },
  {
   "cell_type": "code",
   "execution_count": 97,
   "metadata": {},
   "outputs": [],
   "source": [
    "product = genData('5a9347b98cbad97074cb1890', conn, c, impute=False, freq='daily')\n",
    "X_train, y_train, X_test, y_test, dftrain, scaler = splitDataNN(product, percent=0.2)"
   ]
  },
  {
   "cell_type": "code",
   "execution_count": 98,
   "metadata": {},
   "outputs": [],
   "source": [
    "from sklearn.svm import SVR\n",
    "regressor = SVR(kernel='poly')"
   ]
  },
  {
   "cell_type": "code",
   "execution_count": 99,
   "metadata": {},
   "outputs": [],
   "source": [
    "# Grid Search\n",
    "from sklearn.model_selection import GridSearchCV\n",
    "parameters = [{'C':[1, 5, 10, 100], 'kernel':['linear']},\n",
    "        {'C':[1, 5, 10, 100], 'kernel':['rbf'], 'gamma':[0.5, 0.1, 0.01, 0.001, 0.0001]}\n",
    "        ]\n",
    "grid_search = GridSearchCV(estimator=regressor,\n",
    "        param_grid=parameters,\n",
    "        scoring=['neg_mean_squared_error', 'r2', 'explained_variance'],\n",
    "        cv=5,\n",
    "        n_jobs=-1,\n",
    "        refit='r2',\n",
    "        verbose=2)"
   ]
  },
  {
   "cell_type": "code",
   "execution_count": 100,
   "metadata": {},
   "outputs": [
    {
     "name": "stdout",
     "output_type": "stream",
     "text": [
      "Fitting 5 folds for each of 24 candidates, totalling 120 fits\n",
      "[CV] C=1, kernel=linear ..............................................\n",
      "[CV] C=1, kernel=linear ..............................................\n",
      "[CV] C=5, kernel=linear ..............................................\n",
      "[CV] C=1, kernel=linear ..............................................\n",
      "[CV] C=1, kernel=linear ..............................................\n",
      "[CV] C=1, kernel=linear ..............................................\n",
      "[CV] C=5, kernel=linear ..............................................\n",
      "[CV] C=5, kernel=linear ..............................................\n",
      "[CV] C=5, kernel=linear ..............................................\n",
      "[CV] ............................... C=1, kernel=linear, total=   0.0s\n",
      "[CV] C=5, kernel=linear ..............................................\n",
      "[CV] ............................... C=1, kernel=linear, total=   0.0s\n",
      "[CV] ............................... C=1, kernel=linear, total=   0.0s\n",
      "[CV] C=10, kernel=linear .............................................\n",
      "[CV] C=10, kernel=linear .............................................\n",
      "[CV] C=10, kernel=linear .............................................\n",
      "[CV] ............................... C=1, kernel=linear, total=   0.0s\n",
      "[CV] ............................... C=1, kernel=linear, total=   0.0s\n",
      "[CV] C=100, kernel=linear ............................................\n",
      "[CV] C=10, kernel=linear .............................................\n",
      "[CV] ............................... C=5, kernel=linear, total=   0.0s\n",
      "[CV] ............................... C=5, kernel=linear, total=   0.0s\n",
      "[CV] ............................... C=5, kernel=linear, total=   0.0s\n",
      "[CV] .............................. C=10, kernel=linear, total=   0.0s\n",
      "[CV] ............................... C=5, kernel=linear, total=   0.0s\n",
      "[CV] C=100, kernel=linear ............................................\n",
      "[CV] C=100, kernel=linear ............................................\n",
      "[CV] ............................... C=5, kernel=linear, total=   0.0s\n",
      "[CV] .............................. C=10, kernel=linear, total=   0.0s\n",
      "[CV] C=100, kernel=linear ............................................\n",
      "[CV] ............................. C=100, kernel=linear, total=   0.0s\n",
      "[CV] C=100, kernel=linear ............................................\n",
      "[CV] .............................. C=10, kernel=linear, total=   0.0s\n",
      "[CV] .............................. C=10, kernel=linear, total=   0.0s\n",
      "[CV] ............................. C=100, kernel=linear, total=   0.0s\n",
      "[CV] ............................. C=100, kernel=linear, total=   0.0s\n",
      "[CV] ............................. C=100, kernel=linear, total=   0.0s\n",
      "[CV] ............................. C=100, kernel=linear, total=   0.0s\n",
      "[CV] C=10, kernel=linear .............................................\n",
      "[CV] C=1, gamma=0.5, kernel=rbf ......................................\n",
      "[CV] .............................. C=10, kernel=linear, total=   0.0s\n",
      "[CV] ....................... C=1, gamma=0.5, kernel=rbf, total=   0.0s\n",
      "[CV] C=1, gamma=0.5, kernel=rbf ......................................\n",
      "[CV] C=1, gamma=0.5, kernel=rbf ......................................\n",
      "[CV] ....................... C=1, gamma=0.5, kernel=rbf, total=   0.0s\n",
      "[CV] ....................... C=1, gamma=0.5, kernel=rbf, total=   0.0s\n",
      "[CV] C=1, gamma=0.5, kernel=rbf ......................................\n",
      "[CV] ....................... C=1, gamma=0.5, kernel=rbf, total=   0.0s\n",
      "[CV] C=1, gamma=0.5, kernel=rbf ......................................\n",
      "[CV] C=5, gamma=0.5, kernel=rbf ......................................\n",
      "[CV] C=100, gamma=0.001, kernel=rbf ..................................\n",
      "[CV] C=5, gamma=0.0001, kernel=rbf ...................................\n",
      "[CV] C=10, gamma=0.0001, kernel=rbf ..................................\n",
      "[CV] ....................... C=5, gamma=0.5, kernel=rbf, total=   0.0s\n",
      "[CV] ....................... C=1, gamma=0.5, kernel=rbf, total=   0.0s\n",
      "[CV] C=5, gamma=0.5, kernel=rbf ......................................\n",
      "[CV] ................... C=100, gamma=0.001, kernel=rbf, total=   0.0s\n",
      "[CV] C=1, gamma=0.1, kernel=rbf ......................................\n",
      "[CV] C=100, gamma=0.001, kernel=rbf ..................................\n",
      "[CV] ................... C=10, gamma=0.0001, kernel=rbf, total=   0.0s\n",
      "[CV] C=10, gamma=0.0001, kernel=rbf ..................................\n",
      "[CV] .................... C=5, gamma=0.0001, kernel=rbf, total=   0.0s\n",
      "[CV] C=5, gamma=0.0001, kernel=rbf ...................................\n",
      "[CV] ................... C=10, gamma=0.0001, kernel=rbf, total=   0.0s\n",
      "[CV] ....................... C=1, gamma=0.1, kernel=rbf, total=   0.0s\n",
      "[CV] ................... C=100, gamma=0.001, kernel=rbf, total=   0.0s\n",
      "[CV] C=1, gamma=0.1, kernel=rbf ......................................\n",
      "[CV] C=100, gamma=0.001, kernel=rbf ..................................\n",
      "[CV] C=10, gamma=0.0001, kernel=rbf ..................................\n",
      "[CV] ....................... C=5, gamma=0.5, kernel=rbf, total=   0.0s\n",
      "[CV] ....................... C=1, gamma=0.1, kernel=rbf, total=   0.0s\n",
      "[CV] ................... C=100, gamma=0.001, kernel=rbf, total=   0.0s\n",
      "[CV] ................... C=10, gamma=0.0001, kernel=rbf, total=   0.0s\n",
      "[CV] C=1, gamma=0.1, kernel=rbf ......................................\n",
      "[CV] C=10, gamma=0.0001, kernel=rbf ..................................\n",
      "[CV] C=100, gamma=0.0001, kernel=rbf .................................\n",
      "[CV] .................... C=5, gamma=0.0001, kernel=rbf, total=   0.0s\n",
      "[CV] C=5, gamma=0.5, kernel=rbf ......................................\n",
      "[CV] C=10, gamma=0.5, kernel=rbf .....................................\n",
      "[CV] .................. C=100, gamma=0.0001, kernel=rbf, total=   0.0s\n",
      "[CV] ................... C=10, gamma=0.0001, kernel=rbf, total=   0.0s\n",
      "[CV] ....................... C=1, gamma=0.1, kernel=rbf, total=   0.0s\n",
      "[CV] C=10, gamma=0.0001, kernel=rbf ..................................\n",
      "[CV] C=1, gamma=0.1, kernel=rbf ......................................\n",
      "[CV] ....................... C=5, gamma=0.5, kernel=rbf, total=   0.0s\n",
      "[CV] C=100, gamma=0.0001, kernel=rbf .................................\n",
      "[CV] ...................... C=10, gamma=0.5, kernel=rbf, total=   0.0s\n",
      "[CV] C=10, gamma=0.5, kernel=rbf .....................................\n",
      "[CV] ................... C=10, gamma=0.0001, kernel=rbf, total=   0.0s\n",
      "[CV] C=5, gamma=0.5, kernel=rbf ......................................\n",
      "[CV] C=100, gamma=0.5, kernel=rbf ....................................\n",
      "[CV] .................. C=100, gamma=0.0001, kernel=rbf, total=   0.0s\n",
      "[CV] C=100, gamma=0.0001, kernel=rbf .................................\n",
      "[CV] ....................... C=1, gamma=0.1, kernel=rbf, total=   0.0s\n",
      "[CV] C=1, gamma=0.1, kernel=rbf ......................................\n",
      "[CV] ....................... C=5, gamma=0.5, kernel=rbf, total=   0.0s\n",
      "[CV] ..................... C=100, gamma=0.5, kernel=rbf, total=   0.0s\n",
      "[CV] C=5, gamma=0.1, kernel=rbf ......................................\n",
      "[CV] C=100, gamma=0.5, kernel=rbf ....................................\n",
      "[CV] .................. C=100, gamma=0.0001, kernel=rbf, total=   0.0s\n",
      "[CV] ....................... C=1, gamma=0.1, kernel=rbf, total=   0.0s\n",
      "[CV] ...................... C=10, gamma=0.5, kernel=rbf, total=   0.0s\n",
      "[CV] C=100, gamma=0.0001, kernel=rbf .................................\n",
      "[CV] C=1, gamma=0.01, kernel=rbf .....................................\n",
      "[CV] C=10, gamma=0.5, kernel=rbf .....................................\n",
      "[CV] ..................... C=100, gamma=0.5, kernel=rbf, total=   0.0s\n",
      "[CV] ....................... C=5, gamma=0.1, kernel=rbf, total=   0.0s\n",
      "[CV] C=100, gamma=0.5, kernel=rbf ....................................\n",
      "[CV] C=5, gamma=0.1, kernel=rbf ......................................\n",
      "[CV] ...................... C=1, gamma=0.01, kernel=rbf, total=   0.0s\n",
      "[CV] .................. C=100, gamma=0.0001, kernel=rbf, total=   0.0s\n",
      "[CV] ...................... C=10, gamma=0.5, kernel=rbf, total=   0.0s\n",
      "[CV] C=100, gamma=0.0001, kernel=rbf .................................\n",
      "[CV] C=1, gamma=0.01, kernel=rbf .....................................\n",
      "[CV] C=10, gamma=0.5, kernel=rbf .....................................\n"
     ]
    },
    {
     "name": "stdout",
     "output_type": "stream",
     "text": [
      "[CV] ..................... C=100, gamma=0.5, kernel=rbf, total=   0.0s\n",
      "[CV] ....................... C=5, gamma=0.1, kernel=rbf, total=   0.0s\n",
      "[CV] C=5, gamma=0.1, kernel=rbf ......................................\n",
      "[CV] ...................... C=1, gamma=0.01, kernel=rbf, total=   0.0s\n",
      "[CV] ...................... C=10, gamma=0.5, kernel=rbf, total=   0.0s\n",
      "[CV] .................. C=100, gamma=0.0001, kernel=rbf, total=   0.0s\n",
      "[CV] C=100, gamma=0.5, kernel=rbf ....................................\n",
      "[CV] ....................... C=5, gamma=0.1, kernel=rbf, total=   0.0s\n",
      "[CV] C=10, gamma=0.5, kernel=rbf .....................................\n",
      "[CV] C=1, gamma=0.01, kernel=rbf .....................................\n",
      "[CV] C=5, gamma=0.1, kernel=rbf ......................................\n",
      "[CV] ..................... C=100, gamma=0.5, kernel=rbf, total=   0.0s\n",
      "[CV] C=100, gamma=0.5, kernel=rbf ....................................\n",
      "[CV] ...................... C=1, gamma=0.01, kernel=rbf, total=   0.0s\n",
      "[CV] ...................... C=10, gamma=0.5, kernel=rbf, total=   0.0s\n",
      "[CV] ....................... C=5, gamma=0.1, kernel=rbf, total=   0.0s\n",
      "[CV] C=1, gamma=0.01, kernel=rbf .....................................\n",
      "[CV] C=5, gamma=0.1, kernel=rbf ......................................\n",
      "[CV] C=10, gamma=0.1, kernel=rbf .....................................\n",
      "[CV] ..................... C=100, gamma=0.5, kernel=rbf, total=   0.0s\n",
      "[CV] ...................... C=1, gamma=0.01, kernel=rbf, total=   0.0s\n",
      "[CV] ....................... C=5, gamma=0.1, kernel=rbf, total=   0.0s\n",
      "[CV] C=100, gamma=0.1, kernel=rbf ....................................\n",
      "[CV] C=1, gamma=0.01, kernel=rbf .....................................\n",
      "[CV] C=5, gamma=0.01, kernel=rbf .....................................\n",
      "[CV] ..................... C=100, gamma=0.1, kernel=rbf, total=   0.0s\n",
      "[CV] ...................... C=1, gamma=0.01, kernel=rbf, total=   0.0s\n",
      "[CV] ...................... C=10, gamma=0.1, kernel=rbf, total=   0.0s\n",
      "[CV] ...................... C=5, gamma=0.01, kernel=rbf, total=   0.0s\n",
      "[CV] C=100, gamma=0.1, kernel=rbf ....................................\n",
      "[CV] C=1, gamma=0.001, kernel=rbf ....................................\n",
      "[CV] C=5, gamma=0.01, kernel=rbf .....................................\n",
      "[CV] C=10, gamma=0.1, kernel=rbf .....................................\n",
      "[CV] ..................... C=100, gamma=0.1, kernel=rbf, total=   0.0s\n",
      "[CV] ..................... C=1, gamma=0.001, kernel=rbf, total=   0.0s\n",
      "[CV] ...................... C=5, gamma=0.01, kernel=rbf, total=   0.0s\n",
      "[CV] C=100, gamma=0.1, kernel=rbf ....................................\n",
      "[CV] C=1, gamma=0.001, kernel=rbf ....................................\n",
      "[CV] C=5, gamma=0.01, kernel=rbf .....................................\n",
      "[CV] ...................... C=10, gamma=0.1, kernel=rbf, total=   0.0s\n",
      "[CV] ..................... C=1, gamma=0.001, kernel=rbf, total=   0.0s\n",
      "[CV] ..................... C=100, gamma=0.1, kernel=rbf, total=   0.0s\n",
      "[CV] C=1, gamma=0.001, kernel=rbf ....................................\n",
      "[CV] C=10, gamma=0.1, kernel=rbf .....................................\n",
      "[CV] ...................... C=5, gamma=0.01, kernel=rbf, total=   0.0s\n",
      "[CV] C=100, gamma=0.1, kernel=rbf ....................................\n",
      "[CV] C=5, gamma=0.01, kernel=rbf .....................................\n",
      "[CV] ..................... C=1, gamma=0.001, kernel=rbf, total=   0.0s\n",
      "[CV] ..................... C=100, gamma=0.1, kernel=rbf, total=   0.0s\n",
      "[CV] C=1, gamma=0.001, kernel=rbf ....................................\n",
      "[CV] ...................... C=5, gamma=0.01, kernel=rbf, total=   0.0s\n",
      "[CV] C=100, gamma=0.1, kernel=rbf ....................................\n",
      "[CV] C=5, gamma=0.01, kernel=rbf .....................................\n",
      "[CV] ...................... C=10, gamma=0.1, kernel=rbf, total=   0.0s\n",
      "[CV] C=10, gamma=0.1, kernel=rbf .....................................\n",
      "[CV] ..................... C=100, gamma=0.1, kernel=rbf, total=   0.0s\n",
      "[CV] ..................... C=1, gamma=0.001, kernel=rbf, total=   0.0s\n",
      "[CV] C=100, gamma=0.01, kernel=rbf ...................................\n",
      "[CV] ...................... C=5, gamma=0.01, kernel=rbf, total=   0.0s\n",
      "[CV] C=1, gamma=0.001, kernel=rbf ....................................\n",
      "[CV] C=5, gamma=0.001, kernel=rbf ....................................\n",
      "[CV] ...................... C=10, gamma=0.1, kernel=rbf, total=   0.0s\n",
      "[CV] C=10, gamma=0.1, kernel=rbf .....................................\n",
      "[CV] .................... C=100, gamma=0.01, kernel=rbf, total=   0.0s\n",
      "[CV] ..................... C=1, gamma=0.001, kernel=rbf, total=   0.0s\n",
      "[CV] C=100, gamma=0.01, kernel=rbf ...................................\n",
      "[CV] C=1, gamma=0.0001, kernel=rbf ...................................\n",
      "[CV] ...................... C=10, gamma=0.1, kernel=rbf, total=   0.0s\n",
      "[CV] C=10, gamma=0.01, kernel=rbf ....................................\n",
      "[CV] ..................... C=5, gamma=0.001, kernel=rbf, total=   0.0s\n",
      "[CV] C=5, gamma=0.001, kernel=rbf ....................................\n",
      "[CV] .................... C=100, gamma=0.01, kernel=rbf, total=   0.0s\n",
      "[CV] C=100, gamma=0.01, kernel=rbf ...................................\n",
      "[CV] .................... C=1, gamma=0.0001, kernel=rbf, total=   0.0s\n",
      "[CV] ..................... C=10, gamma=0.01, kernel=rbf, total=   0.0s\n",
      "[CV] ..................... C=5, gamma=0.001, kernel=rbf, total=   0.0s\n",
      "[CV] C=1, gamma=0.0001, kernel=rbf ...................................\n",
      "[CV] C=10, gamma=0.01, kernel=rbf ....................................\n",
      "[CV] C=5, gamma=0.001, kernel=rbf ....................................\n",
      "[CV] .................... C=100, gamma=0.01, kernel=rbf, total=   0.0s\n",
      "[CV] C=100, gamma=0.01, kernel=rbf ...................................\n",
      "[CV] ..................... C=5, gamma=0.001, kernel=rbf, total=   0.0s\n",
      "[CV] .................... C=1, gamma=0.0001, kernel=rbf, total=   0.0s\n",
      "[CV] ..................... C=10, gamma=0.01, kernel=rbf, total=   0.0s\n",
      "[CV] C=5, gamma=0.001, kernel=rbf ....................................\n",
      "[CV] C=10, gamma=0.01, kernel=rbf ....................................\n",
      "[CV] .................... C=100, gamma=0.01, kernel=rbf, total=   0.0s\n",
      "[CV] ..................... C=5, gamma=0.001, kernel=rbf, total=   0.0s\n",
      "[CV] C=1, gamma=0.0001, kernel=rbf ...................................\n",
      "[CV] C=100, gamma=0.01, kernel=rbf ...................................\n",
      "[CV] C=5, gamma=0.001, kernel=rbf ....................................\n",
      "[CV] ..................... C=10, gamma=0.01, kernel=rbf, total=   0.0s\n",
      "[CV] .................... C=1, gamma=0.0001, kernel=rbf, total=   0.0s\n",
      "[CV] ..................... C=5, gamma=0.001, kernel=rbf, total=   0.0s\n",
      "[CV] C=10, gamma=0.01, kernel=rbf ....................................\n",
      "[CV] .................... C=100, gamma=0.01, kernel=rbf, total=   0.0s\n",
      "[CV] C=1, gamma=0.0001, kernel=rbf ...................................\n",
      "[CV] C=5, gamma=0.0001, kernel=rbf ...................................\n",
      "[CV] C=100, gamma=0.001, kernel=rbf ..................................\n",
      "[CV] .................... C=1, gamma=0.0001, kernel=rbf, total=   0.0s\n",
      "[CV] ..................... C=10, gamma=0.01, kernel=rbf, total=   0.0s\n",
      "[CV] .................... C=5, gamma=0.0001, kernel=rbf, total=   0.0s\n",
      "[CV] C=1, gamma=0.0001, kernel=rbf ...................................\n",
      "[CV] ................... C=100, gamma=0.001, kernel=rbf, total=   0.0s\n",
      "[CV] C=5, gamma=0.0001, kernel=rbf ...................................\n",
      "[CV] C=10, gamma=0.01, kernel=rbf ....................................\n",
      "[CV] C=100, gamma=0.001, kernel=rbf ..................................\n",
      "[CV] ..................... C=10, gamma=0.01, kernel=rbf, total=   0.0s\n",
      "[CV] .................... C=1, gamma=0.0001, kernel=rbf, total=   0.0s\n",
      "[CV] C=5, gamma=0.5, kernel=rbf ......................................\n",
      "[CV] C=10, gamma=0.001, kernel=rbf ...................................\n",
      "[CV] ................... C=100, gamma=0.001, kernel=rbf, total=   0.0s\n",
      "[CV] .................... C=5, gamma=0.0001, kernel=rbf, total=   0.0s\n",
      "[CV] C=5, gamma=0.0001, kernel=rbf ...................................\n",
      "[CV] ....................... C=5, gamma=0.5, kernel=rbf, total=   0.0s\n",
      "[CV] .................... C=10, gamma=0.001, kernel=rbf, total=   0.0s\n"
     ]
    },
    {
     "name": "stdout",
     "output_type": "stream",
     "text": [
      "[CV] .................... C=5, gamma=0.0001, kernel=rbf, total=   0.0s\n",
      "[CV] C=10, gamma=0.001, kernel=rbf ...................................\n",
      "[CV] .................... C=10, gamma=0.001, kernel=rbf, total=   0.0s\n",
      "[CV] C=10, gamma=0.001, kernel=rbf ...................................\n",
      "[CV] .................... C=10, gamma=0.001, kernel=rbf, total=   0.0s\n",
      "[CV] C=10, gamma=0.001, kernel=rbf ...................................\n",
      "[CV] .................... C=10, gamma=0.001, kernel=rbf, total=   0.0s\n",
      "[CV] C=10, gamma=0.001, kernel=rbf ...................................\n",
      "[CV] .................... C=10, gamma=0.001, kernel=rbf, total=   0.0s\n"
     ]
    },
    {
     "name": "stderr",
     "output_type": "stream",
     "text": [
      "[Parallel(n_jobs=-1)]: Done 120 out of 120 | elapsed:    0.2s finished\n"
     ]
    }
   ],
   "source": [
    "grid_search = grid_search.fit(X_train, y_train)\n",
    "best_accuracy = grid_search.best_score_\n",
    "best_parameters = grid_search.best_params_\n",
    "best_estimator = grid_search.best_estimator_"
   ]
  },
  {
   "cell_type": "code",
   "execution_count": 101,
   "metadata": {},
   "outputs": [
    {
     "data": {
      "text/plain": [
       "{'C': 100, 'gamma': 0.001, 'kernel': 'rbf'}"
      ]
     },
     "execution_count": 101,
     "metadata": {},
     "output_type": "execute_result"
    }
   ],
   "source": [
    "best_parameters"
   ]
  },
  {
   "cell_type": "code",
   "execution_count": 102,
   "metadata": {
    "scrolled": true
   },
   "outputs": [
    {
     "name": "stdout",
     "output_type": "stream",
     "text": [
      "[CV]  ................................................................\n",
      "[CV]  ................................................................\n",
      "[CV]  ................................................................\n",
      "[CV]  ................................................................\n",
      "[CV]  ................................................................\n",
      "[CV] ................................................. , total=   0.0s\n",
      "[CV]  ................................................................\n",
      "[CV]  ................................................................\n",
      "[CV]  ................................................................\n",
      "[CV] ................................................. , total=   0.0s\n",
      "[CV] ................................................. , total=   0.0s\n",
      "[CV] ................................................. , total=   0.0s\n",
      "[CV]  ................................................................\n",
      "[CV] ................................................. , total=   0.0s\n",
      "[CV]  ................................................................\n",
      "[CV] ................................................. , total=   0.0s\n",
      "[CV] ................................................. , total=   0.0s\n",
      "[CV] ................................................. , total=   0.0s\n",
      "[CV] ................................................. , total=   0.0s\n",
      "[CV] ................................................. , total=   0.0s\n"
     ]
    },
    {
     "name": "stderr",
     "output_type": "stream",
     "text": [
      "[Parallel(n_jobs=-1)]: Done   5 out of  10 | elapsed:    0.0s remaining:    0.0s\n",
      "[Parallel(n_jobs=-1)]: Done  10 out of  10 | elapsed:    0.0s finished\n"
     ]
    },
    {
     "data": {
      "text/plain": [
       "(-0.6027172577246123, 0.5059524417107285)"
      ]
     },
     "execution_count": 102,
     "metadata": {},
     "output_type": "execute_result"
    }
   ],
   "source": [
    "# k-fold cross validation\n",
    "from sklearn.model_selection import cross_val_score\n",
    "accuracies = cross_val_score(estimator=best_estimator, X=X_train, y=y_train, cv=10, n_jobs=-1,\n",
    "        scoring='neg_mean_squared_error', verbose=2)\n",
    "accuracies.mean(), accuracies.std()"
   ]
  },
  {
   "cell_type": "code",
   "execution_count": 103,
   "metadata": {},
   "outputs": [
    {
     "name": "stdout",
     "output_type": "stream",
     "text": [
      "Model Validation\n",
      "MSE: 0.6036784596874013\n",
      "R^2: -0.01749917952877378\n"
     ]
    }
   ],
   "source": [
    "evaluate(best_estimator, X_train, y_train)"
   ]
  },
  {
   "cell_type": "code",
   "execution_count": 104,
   "metadata": {},
   "outputs": [
    {
     "name": "stdout",
     "output_type": "stream",
     "text": [
      "Validasi RMSE: 0.27489\n",
      "Validasi MAE: 0.10203\n"
     ]
    }
   ],
   "source": [
    "evalForecast(best_estimator, X_train, y_train, inverse=True, scaler=scaler)"
   ]
  },
  {
   "cell_type": "code",
   "execution_count": null,
   "metadata": {},
   "outputs": [],
   "source": [
    "#joblib.dump(best_estimator, './training/forecast_svr_5a9347b98cbad97074cb1890_univariate.pkl')"
   ]
  },
  {
   "cell_type": "markdown",
   "metadata": {},
   "source": [
    "## performansi pada train set"
   ]
  },
  {
   "cell_type": "code",
   "execution_count": 33,
   "metadata": {},
   "outputs": [],
   "source": [
    "product = genData('5aa2c35e35d6d34b0032a796', conn, c, impute=True, freq='daily')\n",
    "X_train, y_train, X_test, y_test, dftrain, scaler = splitDataNN(product, percent=0.2)"
   ]
  },
  {
   "cell_type": "code",
   "execution_count": 34,
   "metadata": {},
   "outputs": [],
   "source": [
    "X_train = X_train[:,0]\n",
    "X_test = X_test[:, 0]\n",
    "X_train = X_train.reshape((-1, 1))\n",
    "X_test = X_test.reshape((-1, 1))"
   ]
  },
  {
   "cell_type": "code",
   "execution_count": 37,
   "metadata": {},
   "outputs": [
    {
     "data": {
      "text/plain": [
       "SVR(C=1, cache_size=200, coef0=0.0, degree=3, epsilon=0.1, gamma='auto',\n",
       "  kernel='linear', max_iter=-1, shrinking=True, tol=0.001, verbose=False)"
      ]
     },
     "execution_count": 37,
     "metadata": {},
     "output_type": "execute_result"
    }
   ],
   "source": [
    "from sklearn.svm import SVR\n",
    "best_estimator = SVR(C=1, kernel='linear')\n",
    "best_estimator.fit(X_train, y_train)"
   ]
  },
  {
   "cell_type": "code",
   "execution_count": 38,
   "metadata": {},
   "outputs": [
    {
     "name": "stdout",
     "output_type": "stream",
     "text": [
      "Model Validation\n",
      "MSE: 0.8372595422238925\n",
      "R^2: -3.183356889202571e-08\n"
     ]
    }
   ],
   "source": [
    "evaluate(best_estimator, X_train, y_train)"
   ]
  },
  {
   "cell_type": "code",
   "execution_count": 39,
   "metadata": {},
   "outputs": [
    {
     "data": {
      "text/plain": [
       "0.915018875337494"
      ]
     },
     "execution_count": 39,
     "metadata": {},
     "output_type": "execute_result"
    }
   ],
   "source": [
    "y_pred = best_estimator.predict(X_train)\n",
    "np.sqrt(mean_squared_error(y_pred=y_pred, y_true=y_train.reshape(-1,1)))"
   ]
  },
  {
   "cell_type": "code",
   "execution_count": 40,
   "metadata": {},
   "outputs": [
    {
     "data": {
      "text/plain": [
       "0.19748380148557873"
      ]
     },
     "execution_count": 40,
     "metadata": {},
     "output_type": "execute_result"
    }
   ],
   "source": [
    "mean_absolute_error(y_pred=y_pred, y_true=y_train.reshape(-1,1))"
   ]
  },
  {
   "cell_type": "code",
   "execution_count": null,
   "metadata": {},
   "outputs": [],
   "source": []
  }
 ],
 "metadata": {
  "kernelspec": {
   "display_name": "Python 3",
   "language": "python",
   "name": "python3"
  },
  "language_info": {
   "codemirror_mode": {
    "name": "ipython",
    "version": 3
   },
   "file_extension": ".py",
   "mimetype": "text/x-python",
   "name": "python",
   "nbconvert_exporter": "python",
   "pygments_lexer": "ipython3",
   "version": "3.6.5"
  }
 },
 "nbformat": 4,
 "nbformat_minor": 2
}
