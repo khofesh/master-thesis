{
 "cells": [
  {
   "cell_type": "code",
   "execution_count": 1,
   "metadata": {},
   "outputs": [
    {
     "name": "stderr",
     "output_type": "stream",
     "text": [
      "Using TensorFlow backend.\n"
     ]
    }
   ],
   "source": [
    "import tseriesRoutines as routines\n",
    "import matplotlib.pyplot as plt\n",
    "import numpy as np\n",
    "import pandas as pd\n",
    "import sqlite3\n",
    "from sklearn.preprocessing import StandardScaler, MinMaxScaler\n",
    "from sklearn.model_selection import train_test_split\n",
    "from sklearn.metrics import mean_squared_error, mean_absolute_error\n",
    "from math import ceil, sqrt\n",
    "from keras.models import Sequential\n",
    "from keras import layers\n",
    "from keras.optimizers import RMSprop, Adam, SGD, Adagrad, Adadelta\n",
    "from keras import regularizers\n",
    "from keras.constraints import max_norm, non_neg, unit_norm, min_max_norm\n",
    "from keras.wrappers.scikit_learn import KerasRegressor\n",
    "\n",
    "\n",
    "##########################################################################################\n",
    "# RESULT REPRODUCIBILITY                                                                 #\n",
    "##########################################################################################\n",
    "import tensorflow as tf\n",
    "import random as rn\n",
    "\n",
    "# The below is necessary in Python 3.2.3 onwards to\n",
    "# have reproducible behavior for certain hash-based operations.\n",
    "# See these references for further details:\n",
    "# https://docs.python.org/3.4/using/cmdline.html#envvar-PYTHONHASHSEED\n",
    "# https://github.com/keras-team/keras/issues/2280#issuecomment-306959926\n",
    "import os\n",
    "os.environ['PYTHONHASHSEED'] = '0'\n",
    "\n",
    "# The below is necessary for starting Numpy generated random numbers\n",
    "# in a well-defined initial state.\n",
    "np.random.seed(42)\n",
    "\n",
    "# The below is necessary for starting core Python generated random numbers\n",
    "# in a well-defined state.\n",
    "rn.seed(42)\n",
    "\n",
    "# The below tf.set_random_seed() will make random number generation\n",
    "# in the TensorFlow backend have a well-defined initial state.\n",
    "# For further details, see: https://www.tensorflow.org/api_docs/python/tf/set_random_seed\n",
    "tf.set_random_seed(42)\n",
    "##########################################################################################"
   ]
  },
  {
   "cell_type": "code",
   "execution_count": 2,
   "metadata": {},
   "outputs": [],
   "source": [
    "# DATA UNTUK TRAINING\n",
    "# make connection to sqlite db\n",
    "conn = sqlite3.connect('product.db')\n",
    "c = conn.cursor()\n",
    "\n",
    "# enable foreign keys\n",
    "c.execute(\"PRAGMA foreign_keys = ON\")\n",
    "conn.commit()"
   ]
  },
  {
   "cell_type": "code",
   "execution_count": 3,
   "metadata": {},
   "outputs": [],
   "source": [
    "# DATA UNTUK VALIDASI\n",
    "# make connection to sqlite db\n",
    "conn2 = sqlite3.connect('validasi.db')\n",
    "c2 = conn2.cursor()\n",
    "\n",
    "# enable foreign keys\n",
    "c2.execute(\"PRAGMA foreign_keys = ON\")\n",
    "conn2.commit()"
   ]
  },
  {
   "cell_type": "code",
   "execution_count": 4,
   "metadata": {},
   "outputs": [
    {
     "name": "stderr",
     "output_type": "stream",
     "text": [
      "/usr/lib/python3.7/site-packages/sklearn/ensemble/weight_boosting.py:29: DeprecationWarning: numpy.core.umath_tests is an internal NumPy module and should not be imported. It will be removed in a future NumPy release.\n",
      "  from numpy.core.umath_tests import inner1d\n"
     ]
    }
   ],
   "source": [
    "# import tseriesNN.py\n",
    "import tseriesNN as tnn\n",
    "# import validasiModelForecasting.py\n",
    "import validasiModelForecasting as vmf"
   ]
  },
  {
   "cell_type": "code",
   "execution_count": 21,
   "metadata": {},
   "outputs": [
    {
     "data": {
      "image/png": "[encoded data removed]",
      "text/plain": [
       "<Figure size 432x288 with 1 Axes>"
      ]
     },
     "metadata": {},
     "output_type": "display_data"
    },
    {
     "name": "stdout",
     "output_type": "stream",
     "text": [
      "loss: 0.18508797264792634\n",
      "val_loss: 0.2712356159445708\n"
     ]
    },
    {
     "data": {
      "text/plain": [
       "<Figure size 432x288 with 0 Axes>"
      ]
     },
     "metadata": {},
     "output_type": "display_data"
    }
   ],
   "source": [
    "# lag 2\n",
    "product = tnn.genData('5aa2ad7735d6d34b0032a795', conn, c, impute=False, freq='daily')\n",
    "X_train, y_train, X_test, y_test, dftrain, scaler = tnn.splitDataNN(product, percent=0, n_in=2, n_out=2)\n",
    "mongoid = vmf.getTheRightID('5aa2ad7735d6d34b0032a795')\n",
    "productval = routines.genDataVal(mongoid, conn2, c2, impute=False, freq='daily')\n",
    "X_val, y_val, dftrainval, scalerval = vmf.splitDataNNVal(productval, n_in=2, n_out=2)\n",
    "model = tnn.lstmModel(X_train, y_train, X_val, y_val, epochs=200, batch_size=8, \n",
    "                      units=4, drop=0.002, recdrop=0.002, plot=True)"
   ]
  },
  {
   "cell_type": "code",
   "execution_count": 22,
   "metadata": {},
   "outputs": [],
   "source": [
    "model.model.save('./training/rebuilt/forecast_nn_5aa2ad7735d6d34b0032a795_NI_LSTM_lag2.h5')"
   ]
  },
  {
   "cell_type": "code",
   "execution_count": 23,
   "metadata": {},
   "outputs": [
    {
     "name": "stdout",
     "output_type": "stream",
     "text": [
      "Validasi RMSE: 0.62117\n",
      "Validasi MAE: 0.54200\n"
     ]
    }
   ],
   "source": [
    "vmf.evalForecastNN(model.model, X_val, y_val, inverse=True, scaler=scalerval)"
   ]
  },
  {
   "cell_type": "code",
   "execution_count": 68,
   "metadata": {},
   "outputs": [
    {
     "name": "stdout",
     "output_type": "stream",
     "text": [
      "Validasi RMSE: 0.54102\n",
      "Validasi MAE: 0.44830\n"
     ]
    },
    {
     "data": {
      "text/plain": [
       "<Figure size 432x288 with 0 Axes>"
      ]
     },
     "metadata": {},
     "output_type": "display_data"
    }
   ],
   "source": [
    "X_new = np.concatenate([X_train, X_val[0:31,:]])\n",
    "y_new = np.concatenate([y_train, y_val[0:31]])\n",
    "X_val1 = X_val[31:, :]\n",
    "y_val1 = y_val[31:]\n",
    "modelnew = tnn.lstmModel(X_new, y_new, X_val1, y_val1, epochs=200, batch_size=8, \n",
    "                         units=4, drop=0.002, recdrop=0.002, plot=False)\n",
    "vmf.evalForecastNN(modelnew.model, X_val1, y_val1, inverse=True, scaler=scalerval)"
   ]
  },
  {
   "cell_type": "code",
   "execution_count": 69,
   "metadata": {},
   "outputs": [
    {
     "name": "stdout",
     "output_type": "stream",
     "text": [
      "Validasi RMSE: 0.57988\n",
      "Validasi MAE: 0.47074\n"
     ]
    },
    {
     "data": {
      "text/plain": [
       "<Figure size 432x288 with 0 Axes>"
      ]
     },
     "metadata": {},
     "output_type": "display_data"
    }
   ],
   "source": [
    "X_new = np.concatenate([X_train, X_val[0:61,:]])\n",
    "y_new = np.concatenate([y_train, y_val[0:61]])\n",
    "X_val1 = X_val[61:, :]\n",
    "y_val1 = y_val[61:]\n",
    "modelnew = tnn.lstmModel(X_new, y_new, X_val1, y_val1, epochs=200, batch_size=8, \n",
    "                         units=4, drop=0.002, recdrop=0.002, plot=False)\n",
    "vmf.evalForecastNN(modelnew.model, X_val1, y_val1, inverse=True, scaler=scalerval)"
   ]
  },
  {
   "cell_type": "code",
   "execution_count": 70,
   "metadata": {},
   "outputs": [
    {
     "name": "stdout",
     "output_type": "stream",
     "text": [
      "Validasi RMSE: 0.63043\n",
      "Validasi MAE: 0.53196\n"
     ]
    },
    {
     "data": {
      "text/plain": [
       "<Figure size 432x288 with 0 Axes>"
      ]
     },
     "metadata": {},
     "output_type": "display_data"
    }
   ],
   "source": [
    "X_new = np.concatenate([X_train, X_val[0:91,:]])\n",
    "y_new = np.concatenate([y_train, y_val[0:91]])\n",
    "X_val1 = X_val[91:, :]\n",
    "y_val1 = y_val[91:]\n",
    "modelnew = tnn.lstmModel(X_new, y_new, X_val1, y_val1, epochs=200, batch_size=8, \n",
    "                         units=4, drop=0.002, recdrop=0.002, plot=False)\n",
    "vmf.evalForecastNN(modelnew.model, X_val1, y_val1, inverse=True, scaler=scalerval)"
   ]
  },
  {
   "cell_type": "code",
   "execution_count": 66,
   "metadata": {},
   "outputs": [
    {
     "data": {
      "text/plain": [
       "(115, 1, 9)"
      ]
     },
     "execution_count": 66,
     "metadata": {},
     "output_type": "execute_result"
    }
   ],
   "source": [
    "X_val.shape"
   ]
  },
  {
   "cell_type": "code",
   "execution_count": 71,
   "metadata": {},
   "outputs": [
    {
     "data": {
      "text/plain": [
       "0.2608695652173913"
      ]
     },
     "execution_count": 71,
     "metadata": {},
     "output_type": "execute_result"
    }
   ],
   "source": [
    "30/115"
   ]
  },
  {
   "cell_type": "code",
   "execution_count": null,
   "metadata": {},
   "outputs": [],
   "source": []
  }
 ],
 "metadata": {
  "kernelspec": {
   "display_name": "Python 3",
   "language": "python",
   "name": "python3"
  },
  "language_info": {
   "codemirror_mode": {
    "name": "ipython",
    "version": 3
   },
   "file_extension": ".py",
   "mimetype": "text/x-python",
   "name": "python",
   "nbconvert_exporter": "python",
   "pygments_lexer": "ipython3",
   "version": "3.7.0"
  }
 },
 "nbformat": 4,
 "nbformat_minor": 2
}
