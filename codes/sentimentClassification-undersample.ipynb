{
 "cells": [
  {
   "cell_type": "code",
   "execution_count": 1,
   "metadata": {},
   "outputs": [],
   "source": [
    "# library\n",
    "import pandas as pd\n",
    "import numpy as np\n",
    "from tqdm import tqdm\n",
    "import matplotlib as mpl\n",
    "import matplotlib.pyplot as plt\n",
    "from sklearn.preprocessing import LabelEncoder, OneHotEncoder\n",
    "from sklearn.model_selection import train_test_split\n",
    "from sklearn.model_selection import GridSearchCV\n",
    "from sklearn.model_selection import cross_val_score\n",
    "from sklearn.externals import joblib\n",
    "#from sklearn.pipeline import Pipeline\n",
    "from sklearn.feature_extraction.text import TfidfVectorizer\n",
    "from sklearn.model_selection import StratifiedKFold\n",
    "from sklearn.base import clone\n",
    "# confusion matrix\n",
    "from sklearn.metrics import confusion_matrix\n",
    "from sklearn.model_selection import cross_val_predict\n",
    "# precision/recall\n",
    "from sklearn.metrics import precision_score, recall_score, f1_score\n",
    "# undersampling\n",
    "from imblearn.under_sampling import RandomUnderSampler\n",
    "from imblearn.pipeline import make_pipeline, Pipeline"
   ]
  },
  {
   "cell_type": "code",
   "execution_count": 2,
   "metadata": {},
   "outputs": [],
   "source": [
    "# result reproducibility\n",
    "np.random.seed(42)"
   ]
  },
  {
   "cell_type": "code",
   "execution_count": 3,
   "metadata": {},
   "outputs": [],
   "source": [
    "# The text data is already cleaned\n",
    "inputfile = './csvfiles/output_sentiment.csv'\n",
    "review = pd.read_csv(inputfile, skip_blank_lines=False)\n",
    "review = review[['text', 'ovsentiment']]\n",
    "# exclude NaN in 'text' column (count: 11248)\n",
    "review = review[~pd.isna(review['text'])]\n",
    "X = review['text'].values\n",
    "y = review['ovsentiment'].values\n",
    "\n",
    "# len(review[review['ovsentiment'] == -1])\n",
    "# total number of -1 (negative review) is 12566\n",
    "\n",
    "# len(review[review['ovsentiment'] == 0])\n",
    "# total number of 0 (neutral) is 135292\n",
    "\n",
    "# len(review[review['ovsentiment'] == 1])\n",
    "# total number of 1 (positive review) is 455689\n",
    "\n",
    "# splitting the dataset into the training set and test set\n",
    "# stratify=y --> stratified sampling\n",
    "X_train, X_test, y_train, y_test = train_test_split(X, y, test_size=0.2, \n",
    "        random_state=42, shuffle=True, stratify=y)"
   ]
  },
  {
   "cell_type": "code",
   "execution_count": 4,
   "metadata": {},
   "outputs": [],
   "source": [
    "# TOKENIZATION\n",
    "# see psentiment.py, tokenization is done using\n",
    "# snowball englishstemmer\n",
    "# Here, we only need to split the text\n",
    "##############################################\n",
    "def tokenizer(text):\n",
    "    return text.split()"
   ]
  },
  {
   "cell_type": "code",
   "execution_count": 62,
   "metadata": {},
   "outputs": [
    {
     "data": {
      "text/plain": [
       "(603547,)"
      ]
     },
     "execution_count": 62,
     "metadata": {},
     "output_type": "execute_result"
    }
   ],
   "source": [
    "X.shape"
   ]
  },
  {
   "cell_type": "code",
   "execution_count": 72,
   "metadata": {},
   "outputs": [
    {
     "data": {
      "text/plain": [
       "2.0820250949801755"
      ]
     },
     "execution_count": 72,
     "metadata": {},
     "output_type": "execute_result"
    }
   ],
   "source": [
    "# -1\n",
    "len(review[review['ovsentiment'] == -1])/len(review) * 100"
   ]
  },
  {
   "cell_type": "code",
   "execution_count": 9,
   "metadata": {},
   "outputs": [
    {
     "data": {
      "text/plain": [
       "12566"
      ]
     },
     "execution_count": 9,
     "metadata": {},
     "output_type": "execute_result"
    }
   ],
   "source": [
    "# -1\n",
    "len(review[review['ovsentiment'] == -1])"
   ]
  },
  {
   "cell_type": "code",
   "execution_count": 71,
   "metadata": {},
   "outputs": [
    {
     "data": {
      "text/plain": [
       "22.416149860739925"
      ]
     },
     "execution_count": 71,
     "metadata": {},
     "output_type": "execute_result"
    }
   ],
   "source": [
    "# 0\n",
    "len(review[review['ovsentiment'] == 0])/len(review) * 100"
   ]
  },
  {
   "cell_type": "code",
   "execution_count": 10,
   "metadata": {},
   "outputs": [
    {
     "data": {
      "text/plain": [
       "135292"
      ]
     },
     "execution_count": 10,
     "metadata": {},
     "output_type": "execute_result"
    }
   ],
   "source": [
    "# 0\n",
    "len(review[review['ovsentiment'] == 0])"
   ]
  },
  {
   "cell_type": "code",
   "execution_count": 8,
   "metadata": {},
   "outputs": [
    {
     "data": {
      "text/plain": [
       "75.5018250442799"
      ]
     },
     "execution_count": 8,
     "metadata": {},
     "output_type": "execute_result"
    }
   ],
   "source": [
    "# 1\n",
    "(len(review[review['ovsentiment'] == 1])/len(review)) * 100"
   ]
  },
  {
   "cell_type": "code",
   "execution_count": null,
   "metadata": {},
   "outputs": [],
   "source": [
    "# 1\n",
    "len(review[review['ovsentiment'] == 1])"
   ]
  },
  {
   "cell_type": "markdown",
   "metadata": {},
   "source": [
    "# test"
   ]
  },
  {
   "cell_type": "code",
   "execution_count": 6,
   "metadata": {
    "scrolled": true
   },
   "outputs": [],
   "source": [
    "rus = RandomUnderSampler(random_state=0, replacement=True)"
   ]
  },
  {
   "cell_type": "code",
   "execution_count": 8,
   "metadata": {},
   "outputs": [],
   "source": [
    "tfidf = TfidfVectorizer(strip_accents=None, lowercase=False, preprocessor=None,\n",
    "                       ngram_range=(1,1), stop_words=None, tokenizer=str.split)"
   ]
  },
  {
   "cell_type": "code",
   "execution_count": 9,
   "metadata": {},
   "outputs": [],
   "source": [
    "param_grid = [{'clf__penalty': ['l2'],\n",
    "               'clf__C': [1.0, 10.0, 15.0, 20.0, 30.0, 40.0, \n",
    "                          50.0, 60.0, 70.0, 80.0, 90.0, 100.0],\n",
    "               'clf__solver': ['newton-cg', 'saga', 'lbfgs']\n",
    "              }, \n",
    "              {'clf__penalty': ['l2'],\n",
    "               'clf__C': [1.0, 10.0, 15.0, 20.0, 30.0, 40.0, \n",
    "                          50.0, 60.0, 70.0, 80.0, 90.0, 100.0],\n",
    "               'clf__solver': ['newton-cg', 'saga', 'lbfgs']\n",
    "              }\n",
    "             ]"
   ]
  },
  {
   "cell_type": "code",
   "execution_count": null,
   "metadata": {},
   "outputs": [],
   "source": [
    "lr_tfidf = Pipeline([('vect', tfidf),\n",
    "                     ('rus', rus),\n",
    "                     ('clf', LogisticRegression(random_state=42,\n",
    "                                                multi_class='multinomial')\n",
    "                      )\n",
    "                    ])"
   ]
  },
  {
   "cell_type": "markdown",
   "metadata": {},
   "source": [
    "# 1 - Logistic Regression"
   ]
  },
  {
   "cell_type": "code",
   "execution_count": 5,
   "metadata": {},
   "outputs": [],
   "source": [
    "from sklearn.linear_model import LogisticRegression"
   ]
  },
  {
   "cell_type": "code",
   "execution_count": 5,
   "metadata": {},
   "outputs": [],
   "source": [
    "rus = RandomUnderSampler(random_state=42, replacement=True)"
   ]
  },
  {
   "cell_type": "code",
   "execution_count": 6,
   "metadata": {},
   "outputs": [],
   "source": [
    "tfidf = TfidfVectorizer(strip_accents=None, lowercase=False, preprocessor=None,\n",
    "                       ngram_range=(1,1), stop_words=None, tokenizer=str.split)"
   ]
  },
  {
   "cell_type": "code",
   "execution_count": 7,
   "metadata": {},
   "outputs": [],
   "source": [
    "param_grid = [{'clf__penalty': ['l2'],\n",
    "               'clf__C': [1.0, 10.0, 15.0, 20.0, 30.0, 40.0, \n",
    "                          50.0, 60.0, 70.0, 80.0, 90.0, 100.0],\n",
    "               'clf__solver': ['newton-cg', 'saga', 'lbfgs']\n",
    "              }, \n",
    "              {'clf__penalty': ['l2'],\n",
    "               'clf__C': [1.0, 10.0, 15.0, 20.0, 30.0, 40.0, \n",
    "                          50.0, 60.0, 70.0, 80.0, 90.0, 100.0],\n",
    "               'clf__solver': ['newton-cg', 'saga', 'lbfgs']\n",
    "              }\n",
    "             ]"
   ]
  },
  {
   "cell_type": "code",
   "execution_count": 10,
   "metadata": {},
   "outputs": [],
   "source": [
    "lr_tfidf = Pipeline([('vect', tfidf),\n",
    "                     ('rus', rus),\n",
    "                     ('clf', LogisticRegression(random_state=42,\n",
    "                                                multi_class='multinomial')\n",
    "                      )\n",
    "                    ])"
   ]
  },
  {
   "cell_type": "code",
   "execution_count": 11,
   "metadata": {},
   "outputs": [],
   "source": [
    "gs_lr_tfidf = GridSearchCV(estimator=lr_tfidf,\n",
    "        param_grid=param_grid,\n",
    "        scoring=['accuracy', 'f1_micro'],\n",
    "        cv=5,\n",
    "        verbose=2,\n",
    "        refit='f1_micro',\n",
    "        n_jobs=-1)"
   ]
  },
  {
   "cell_type": "code",
   "execution_count": 12,
   "metadata": {
    "scrolled": true
   },
   "outputs": [
    {
     "name": "stdout",
     "output_type": "stream",
     "text": [
      "Fitting 5 folds for each of 72 candidates, totalling 360 fits\n",
      "[CV] clf__C=1.0, clf__penalty=l2, clf__solver=newton-cg ..............\n",
      "[CV] clf__C=1.0, clf__penalty=l2, clf__solver=newton-cg ..............\n",
      "[CV] clf__C=1.0, clf__penalty=l2, clf__solver=newton-cg ..............\n",
      "[CV] clf__C=1.0, clf__penalty=l2, clf__solver=newton-cg ..............\n",
      "[CV] clf__C=1.0, clf__penalty=l2, clf__solver=newton-cg ..............\n",
      "[CV] clf__C=1.0, clf__penalty=l2, clf__solver=saga ...................\n",
      "[CV] clf__C=1.0, clf__penalty=l2, clf__solver=saga ...................\n",
      "[CV] clf__C=1.0, clf__penalty=l2, clf__solver=saga ...................\n",
      "[CV] clf__C=1.0, clf__penalty=l2, clf__solver=saga ...................\n",
      "[CV] clf__C=1.0, clf__penalty=l2, clf__solver=saga ...................\n",
      "[CV] clf__C=1.0, clf__penalty=l2, clf__solver=lbfgs ..................\n",
      "[CV] clf__C=1.0, clf__penalty=l2, clf__solver=lbfgs ..................\n",
      "[CV]  clf__C=1.0, clf__penalty=l2, clf__solver=newton-cg, total=  11.5s\n",
      "[CV] clf__C=1.0, clf__penalty=l2, clf__solver=lbfgs ..................\n",
      "[CV]  clf__C=1.0, clf__penalty=l2, clf__solver=newton-cg, total=  12.0s\n",
      "[CV]  clf__C=1.0, clf__penalty=l2, clf__solver=newton-cg, total=  11.4s\n",
      "[CV] clf__C=1.0, clf__penalty=l2, clf__solver=lbfgs ..................\n",
      "[CV] clf__C=1.0, clf__penalty=l2, clf__solver=lbfgs ..................\n",
      "[CV] .... clf__C=1.0, clf__penalty=l2, clf__solver=saga, total=  12.3s\n",
      "[CV] clf__C=10.0, clf__penalty=l2, clf__solver=newton-cg .............\n",
      "[CV] .... clf__C=1.0, clf__penalty=l2, clf__solver=saga, total=  13.3s\n",
      "[CV]  clf__C=1.0, clf__penalty=l2, clf__solver=newton-cg, total=  13.4s\n",
      "[CV] .... clf__C=1.0, clf__penalty=l2, clf__solver=saga, total=  13.3s\n",
      "[CV] clf__C=10.0, clf__penalty=l2, clf__solver=newton-cg .............\n",
      "[CV] .... clf__C=1.0, clf__penalty=l2, clf__solver=saga, total=  13.4s\n",
      "[CV]  clf__C=1.0, clf__penalty=l2, clf__solver=newton-cg, total=  14.3s\n",
      "[CV] .... clf__C=1.0, clf__penalty=l2, clf__solver=saga, total=  13.2s\n",
      "[CV] clf__C=10.0, clf__penalty=l2, clf__solver=newton-cg .............\n",
      "[CV] clf__C=10.0, clf__penalty=l2, clf__solver=newton-cg .............\n",
      "[CV] clf__C=10.0, clf__penalty=l2, clf__solver=newton-cg .............\n",
      "[CV] clf__C=10.0, clf__penalty=l2, clf__solver=saga ..................\n",
      "[CV] clf__C=10.0, clf__penalty=l2, clf__solver=saga ..................\n",
      "[CV] ... clf__C=1.0, clf__penalty=l2, clf__solver=lbfgs, total=  20.4s\n",
      "[CV] clf__C=10.0, clf__penalty=l2, clf__solver=saga ..................\n",
      "[CV] ... clf__C=1.0, clf__penalty=l2, clf__solver=lbfgs, total=  21.0s\n",
      "[CV] clf__C=10.0, clf__penalty=l2, clf__solver=saga ..................\n",
      "[CV]  clf__C=10.0, clf__penalty=l2, clf__solver=newton-cg, total=  20.0s\n",
      "[CV] clf__C=10.0, clf__penalty=l2, clf__solver=saga ..................\n",
      "[CV] ... clf__C=1.0, clf__penalty=l2, clf__solver=lbfgs, total=  21.1s\n",
      "[CV]  clf__C=10.0, clf__penalty=l2, clf__solver=newton-cg, total=  19.8s\n",
      "[CV] clf__C=10.0, clf__penalty=l2, clf__solver=lbfgs .................\n",
      "[CV]  clf__C=10.0, clf__penalty=l2, clf__solver=newton-cg, total=  19.6s\n",
      "[CV] clf__C=10.0, clf__penalty=l2, clf__solver=lbfgs .................\n",
      "[CV]  clf__C=10.0, clf__penalty=l2, clf__solver=newton-cg, total=  20.1s\n",
      "[CV] ... clf__C=1.0, clf__penalty=l2, clf__solver=lbfgs, total=  22.0s\n"
     ]
    },
    {
     "name": "stderr",
     "output_type": "stream",
     "text": [
      "[Parallel(n_jobs=-1)]: Done  17 tasks      | elapsed:   52.8s\n"
     ]
    },
    {
     "name": "stdout",
     "output_type": "stream",
     "text": [
      "[CV] clf__C=10.0, clf__penalty=l2, clf__solver=lbfgs .................\n",
      "[CV] ... clf__C=1.0, clf__penalty=l2, clf__solver=lbfgs, total=  21.4s\n",
      "[CV]  clf__C=10.0, clf__penalty=l2, clf__solver=newton-cg, total=  20.2s\n",
      "[CV] clf__C=10.0, clf__penalty=l2, clf__solver=lbfgs .................\n",
      "[CV] ... clf__C=10.0, clf__penalty=l2, clf__solver=saga, total=  19.6s\n",
      "[CV] clf__C=10.0, clf__penalty=l2, clf__solver=lbfgs .................\n",
      "[CV] clf__C=15.0, clf__penalty=l2, clf__solver=newton-cg .............\n",
      "[CV] clf__C=15.0, clf__penalty=l2, clf__solver=newton-cg .............\n",
      "[CV] ... clf__C=10.0, clf__penalty=l2, clf__solver=saga, total=  20.4s\n",
      "[CV] clf__C=15.0, clf__penalty=l2, clf__solver=newton-cg .............\n",
      "[CV] clf__C=15.0, clf__penalty=l2, clf__solver=newton-cg .............\n",
      "[CV] ... clf__C=10.0, clf__penalty=l2, clf__solver=saga, total=  18.4s\n",
      "[CV] clf__C=15.0, clf__penalty=l2, clf__solver=newton-cg .............\n",
      "[CV] ... clf__C=10.0, clf__penalty=l2, clf__solver=saga, total=  14.8s\n",
      "[CV] clf__C=15.0, clf__penalty=l2, clf__solver=saga ..................\n",
      "[CV] ... clf__C=10.0, clf__penalty=l2, clf__solver=saga, total=  18.6s\n",
      "[CV] clf__C=15.0, clf__penalty=l2, clf__solver=saga ..................\n",
      "[CV] .. clf__C=10.0, clf__penalty=l2, clf__solver=lbfgs, total=  25.6s\n",
      "[CV] .. clf__C=10.0, clf__penalty=l2, clf__solver=lbfgs, total=  25.3s\n",
      "[CV]  clf__C=15.0, clf__penalty=l2, clf__solver=newton-cg, total=  23.9s\n",
      "[CV] clf__C=15.0, clf__penalty=l2, clf__solver=saga ..................\n",
      "[CV] .. clf__C=10.0, clf__penalty=l2, clf__solver=lbfgs, total=  25.6s\n",
      "[CV]  clf__C=15.0, clf__penalty=l2, clf__solver=newton-cg, total=  24.8s\n",
      "[CV] clf__C=15.0, clf__penalty=l2, clf__solver=saga ..................\n",
      "[CV] .. clf__C=10.0, clf__penalty=l2, clf__solver=lbfgs, total=  25.5s\n",
      "[CV] clf__C=15.0, clf__penalty=l2, clf__solver=saga ..................\n",
      "[CV] .. clf__C=10.0, clf__penalty=l2, clf__solver=lbfgs, total=  26.0s\n",
      "[CV]  clf__C=15.0, clf__penalty=l2, clf__solver=newton-cg, total=  25.3s\n",
      "[CV] clf__C=15.0, clf__penalty=l2, clf__solver=lbfgs .................\n",
      "[CV]  clf__C=15.0, clf__penalty=l2, clf__solver=newton-cg, total=  25.2s\n",
      "[CV] clf__C=15.0, clf__penalty=l2, clf__solver=lbfgs .................\n",
      "[CV] clf__C=15.0, clf__penalty=l2, clf__solver=lbfgs .................\n",
      "[CV] clf__C=15.0, clf__penalty=l2, clf__solver=lbfgs .................\n",
      "[CV] clf__C=15.0, clf__penalty=l2, clf__solver=lbfgs .................\n",
      "[CV] clf__C=20.0, clf__penalty=l2, clf__solver=newton-cg .............\n",
      "[CV]  clf__C=15.0, clf__penalty=l2, clf__solver=newton-cg, total=  24.8s\n",
      "[CV] clf__C=20.0, clf__penalty=l2, clf__solver=newton-cg .............\n",
      "[CV] ... clf__C=15.0, clf__penalty=l2, clf__solver=saga, total=  24.1s\n",
      "[CV] clf__C=20.0, clf__penalty=l2, clf__solver=newton-cg .............\n",
      "[CV] ... clf__C=15.0, clf__penalty=l2, clf__solver=saga, total=  10.9s\n",
      "[CV] clf__C=20.0, clf__penalty=l2, clf__solver=newton-cg .............\n",
      "[CV] ... clf__C=15.0, clf__penalty=l2, clf__solver=saga, total=  20.2s\n",
      "[CV] clf__C=20.0, clf__penalty=l2, clf__solver=newton-cg .............\n",
      "[CV] ... clf__C=15.0, clf__penalty=l2, clf__solver=saga, total=  20.0s\n",
      "[CV] clf__C=20.0, clf__penalty=l2, clf__solver=saga ..................\n",
      "[CV] ... clf__C=15.0, clf__penalty=l2, clf__solver=saga, total=  20.4s\n",
      "[CV] clf__C=20.0, clf__penalty=l2, clf__solver=saga ..................\n",
      "[CV] .. clf__C=15.0, clf__penalty=l2, clf__solver=lbfgs, total=  22.0s\n",
      "[CV] .. clf__C=15.0, clf__penalty=l2, clf__solver=lbfgs, total=  22.2s\n",
      "[CV] .. clf__C=15.0, clf__penalty=l2, clf__solver=lbfgs, total=  21.5s\n",
      "[CV] .. clf__C=15.0, clf__penalty=l2, clf__solver=lbfgs, total=  22.0s\n",
      "[CV] clf__C=20.0, clf__penalty=l2, clf__solver=saga ..................\n",
      "[CV]  clf__C=20.0, clf__penalty=l2, clf__solver=newton-cg, total=  21.5s\n",
      "[CV] .. clf__C=15.0, clf__penalty=l2, clf__solver=lbfgs, total=  22.2s\n",
      "[CV] clf__C=20.0, clf__penalty=l2, clf__solver=saga ..................\n",
      "[CV] clf__C=20.0, clf__penalty=l2, clf__solver=saga ..................\n",
      "[CV]  clf__C=20.0, clf__penalty=l2, clf__solver=newton-cg, total=  22.1s\n",
      "[CV] clf__C=20.0, clf__penalty=l2, clf__solver=lbfgs .................\n",
      "[CV] clf__C=20.0, clf__penalty=l2, clf__solver=lbfgs .................\n",
      "[CV] clf__C=20.0, clf__penalty=l2, clf__solver=lbfgs .................\n",
      "[CV] clf__C=20.0, clf__penalty=l2, clf__solver=lbfgs .................\n",
      "[CV]  clf__C=20.0, clf__penalty=l2, clf__solver=newton-cg, total=  24.3s\n",
      "[CV] clf__C=20.0, clf__penalty=l2, clf__solver=lbfgs .................\n"
     ]
    },
    {
     "name": "stderr",
     "output_type": "stream",
     "text": [
      "/usr/lib/python3.6/site-packages/sklearn/linear_model/sag.py:326: ConvergenceWarning: The max_iter was reached which means the coef_ did not converge\n",
      "  \"the coef_ did not converge\", ConvergenceWarning)\n"
     ]
    },
    {
     "name": "stdout",
     "output_type": "stream",
     "text": [
      "[CV]  clf__C=20.0, clf__penalty=l2, clf__solver=newton-cg, total=  13.4s\n",
      "[CV] ... clf__C=20.0, clf__penalty=l2, clf__solver=saga, total=  15.4s\n",
      "[CV] clf__C=30.0, clf__penalty=l2, clf__solver=newton-cg .............\n",
      "[CV] clf__C=30.0, clf__penalty=l2, clf__solver=newton-cg .............\n",
      "[CV]  clf__C=20.0, clf__penalty=l2, clf__solver=newton-cg, total=  17.7s\n",
      "[CV] ... clf__C=20.0, clf__penalty=l2, clf__solver=saga, total=  17.3s\n",
      "[CV] clf__C=30.0, clf__penalty=l2, clf__solver=newton-cg .............\n",
      "[CV] clf__C=30.0, clf__penalty=l2, clf__solver=newton-cg .............\n",
      "[CV] ... clf__C=20.0, clf__penalty=l2, clf__solver=saga, total=  20.9s\n",
      "[CV] clf__C=30.0, clf__penalty=l2, clf__solver=newton-cg .............\n",
      "[CV] ... clf__C=20.0, clf__penalty=l2, clf__solver=saga, total=  21.8s\n",
      "[CV] clf__C=30.0, clf__penalty=l2, clf__solver=saga ..................\n",
      "[CV] .. clf__C=20.0, clf__penalty=l2, clf__solver=lbfgs, total=  21.7s\n",
      "[CV] clf__C=30.0, clf__penalty=l2, clf__solver=saga ..................\n",
      "[CV] ... clf__C=20.0, clf__penalty=l2, clf__solver=saga, total=  22.8s\n",
      "[CV] .. clf__C=20.0, clf__penalty=l2, clf__solver=lbfgs, total=  21.8s\n",
      "[CV] .. clf__C=20.0, clf__penalty=l2, clf__solver=lbfgs, total=  22.2s\n",
      "[CV] clf__C=30.0, clf__penalty=l2, clf__solver=saga ..................\n",
      "[CV] .. clf__C=20.0, clf__penalty=l2, clf__solver=lbfgs, total=  23.1s\n",
      "[CV] clf__C=30.0, clf__penalty=l2, clf__solver=saga ..................\n",
      "[CV] clf__C=30.0, clf__penalty=l2, clf__solver=saga ..................\n",
      "[CV] clf__C=30.0, clf__penalty=l2, clf__solver=lbfgs .................\n",
      "[CV] .. clf__C=20.0, clf__penalty=l2, clf__solver=lbfgs, total=  21.8s\n",
      "[CV] clf__C=30.0, clf__penalty=l2, clf__solver=lbfgs .................\n"
     ]
    },
    {
     "name": "stderr",
     "output_type": "stream",
     "text": [
      "/usr/lib/python3.6/site-packages/sklearn/linear_model/sag.py:326: ConvergenceWarning: The max_iter was reached which means the coef_ did not converge\n",
      "  \"the coef_ did not converge\", ConvergenceWarning)\n",
      "/usr/lib/python3.6/site-packages/sklearn/linear_model/sag.py:326: ConvergenceWarning: The max_iter was reached which means the coef_ did not converge\n",
      "  \"the coef_ did not converge\", ConvergenceWarning)\n",
      "/usr/lib/python3.6/site-packages/sklearn/linear_model/sag.py:326: ConvergenceWarning: The max_iter was reached which means the coef_ did not converge\n",
      "  \"the coef_ did not converge\", ConvergenceWarning)\n",
      "/usr/lib/python3.6/site-packages/sklearn/linear_model/sag.py:326: ConvergenceWarning: The max_iter was reached which means the coef_ did not converge\n",
      "  \"the coef_ did not converge\", ConvergenceWarning)\n",
      "/usr/lib/python3.6/site-packages/sklearn/linear_model/sag.py:326: ConvergenceWarning: The max_iter was reached which means the coef_ did not converge\n",
      "  \"the coef_ did not converge\", ConvergenceWarning)\n"
     ]
    },
    {
     "name": "stdout",
     "output_type": "stream",
     "text": [
      "[CV]  clf__C=30.0, clf__penalty=l2, clf__solver=newton-cg, total=  17.7s\n",
      "[CV] clf__C=30.0, clf__penalty=l2, clf__solver=lbfgs .................\n",
      "[CV]  clf__C=30.0, clf__penalty=l2, clf__solver=newton-cg, total=  17.5s\n",
      "[CV]  clf__C=30.0, clf__penalty=l2, clf__solver=newton-cg, total=  18.1s\n",
      "[CV] clf__C=30.0, clf__penalty=l2, clf__solver=lbfgs .................\n",
      "[CV] clf__C=30.0, clf__penalty=l2, clf__solver=lbfgs .................\n",
      "[CV]  clf__C=30.0, clf__penalty=l2, clf__solver=newton-cg, total=  17.1s\n",
      "[CV] clf__C=40.0, clf__penalty=l2, clf__solver=newton-cg .............\n",
      "[CV]  clf__C=30.0, clf__penalty=l2, clf__solver=newton-cg, total=  19.3s\n",
      "[CV] clf__C=40.0, clf__penalty=l2, clf__solver=newton-cg .............\n",
      "[CV] ... clf__C=30.0, clf__penalty=l2, clf__solver=saga, total=  21.0s\n",
      "[CV] clf__C=40.0, clf__penalty=l2, clf__solver=newton-cg .............\n",
      "[CV] ... clf__C=30.0, clf__penalty=l2, clf__solver=saga, total=  20.4s\n",
      "[CV] clf__C=40.0, clf__penalty=l2, clf__solver=newton-cg .............\n",
      "[CV] ... clf__C=30.0, clf__penalty=l2, clf__solver=saga, total=  20.4s\n",
      "[CV] clf__C=40.0, clf__penalty=l2, clf__solver=newton-cg .............\n",
      "[CV] ... clf__C=30.0, clf__penalty=l2, clf__solver=saga, total=  19.5s\n",
      "[CV] clf__C=40.0, clf__penalty=l2, clf__solver=saga ..................\n",
      "[CV] ... clf__C=30.0, clf__penalty=l2, clf__solver=saga, total=  22.0s\n",
      "[CV] clf__C=40.0, clf__penalty=l2, clf__solver=saga ..................\n",
      "[CV] .. clf__C=30.0, clf__penalty=l2, clf__solver=lbfgs, total=  26.1s\n",
      "[CV] clf__C=40.0, clf__penalty=l2, clf__solver=saga ..................\n"
     ]
    },
    {
     "name": "stderr",
     "output_type": "stream",
     "text": [
      "/usr/lib/python3.6/site-packages/sklearn/linear_model/sag.py:326: ConvergenceWarning: The max_iter was reached which means the coef_ did not converge\n",
      "  \"the coef_ did not converge\", ConvergenceWarning)\n",
      "/usr/lib/python3.6/site-packages/sklearn/linear_model/sag.py:326: ConvergenceWarning: The max_iter was reached which means the coef_ did not converge\n",
      "  \"the coef_ did not converge\", ConvergenceWarning)\n"
     ]
    },
    {
     "name": "stdout",
     "output_type": "stream",
     "text": [
      "[CV] .. clf__C=30.0, clf__penalty=l2, clf__solver=lbfgs, total=  27.2s\n",
      "[CV] clf__C=40.0, clf__penalty=l2, clf__solver=saga ..................\n"
     ]
    },
    {
     "name": "stderr",
     "output_type": "stream",
     "text": [
      "/usr/lib/python3.6/site-packages/sklearn/linear_model/sag.py:326: ConvergenceWarning: The max_iter was reached which means the coef_ did not converge\n",
      "  \"the coef_ did not converge\", ConvergenceWarning)\n"
     ]
    },
    {
     "name": "stdout",
     "output_type": "stream",
     "text": [
      "[CV] .. clf__C=30.0, clf__penalty=l2, clf__solver=lbfgs, total=  25.1s\n",
      "[CV]  clf__C=40.0, clf__penalty=l2, clf__solver=newton-cg, total=  23.9s\n",
      "[CV] .. clf__C=30.0, clf__penalty=l2, clf__solver=lbfgs, total=  25.6s\n",
      "[CV] clf__C=40.0, clf__penalty=l2, clf__solver=saga ..................\n",
      "[CV] .. clf__C=30.0, clf__penalty=l2, clf__solver=lbfgs, total=  25.6s\n",
      "[CV] clf__C=40.0, clf__penalty=l2, clf__solver=lbfgs .................\n",
      "[CV] clf__C=40.0, clf__penalty=l2, clf__solver=lbfgs .................\n",
      "[CV] clf__C=40.0, clf__penalty=l2, clf__solver=lbfgs .................\n",
      "[CV]  clf__C=40.0, clf__penalty=l2, clf__solver=newton-cg, total=  24.9s\n",
      "[CV] clf__C=40.0, clf__penalty=l2, clf__solver=lbfgs .................\n",
      "[CV]  clf__C=40.0, clf__penalty=l2, clf__solver=newton-cg, total=  24.3s\n",
      "[CV] clf__C=40.0, clf__penalty=l2, clf__solver=lbfgs .................\n",
      "[CV]  clf__C=40.0, clf__penalty=l2, clf__solver=newton-cg, total=  24.1s\n",
      "[CV] ... clf__C=40.0, clf__penalty=l2, clf__solver=saga, total=  23.9s\n",
      "[CV] clf__C=50.0, clf__penalty=l2, clf__solver=newton-cg .............\n",
      "[CV] clf__C=50.0, clf__penalty=l2, clf__solver=newton-cg .............\n",
      "[CV]  clf__C=40.0, clf__penalty=l2, clf__solver=newton-cg, total=  25.0s\n",
      "[CV] ... clf__C=40.0, clf__penalty=l2, clf__solver=saga, total=  23.5s\n",
      "[CV] clf__C=50.0, clf__penalty=l2, clf__solver=newton-cg .............\n"
     ]
    },
    {
     "name": "stderr",
     "output_type": "stream",
     "text": [
      "/usr/lib/python3.6/site-packages/sklearn/linear_model/sag.py:326: ConvergenceWarning: The max_iter was reached which means the coef_ did not converge\n",
      "  \"the coef_ did not converge\", ConvergenceWarning)\n"
     ]
    },
    {
     "name": "stdout",
     "output_type": "stream",
     "text": [
      "[CV] clf__C=50.0, clf__penalty=l2, clf__solver=newton-cg .............\n",
      "[CV] ... clf__C=40.0, clf__penalty=l2, clf__solver=saga, total=  15.5s\n"
     ]
    },
    {
     "name": "stderr",
     "output_type": "stream",
     "text": [
      "/usr/lib/python3.6/site-packages/sklearn/linear_model/sag.py:326: ConvergenceWarning: The max_iter was reached which means the coef_ did not converge\n",
      "  \"the coef_ did not converge\", ConvergenceWarning)\n"
     ]
    },
    {
     "name": "stdout",
     "output_type": "stream",
     "text": [
      "[CV] clf__C=50.0, clf__penalty=l2, clf__solver=newton-cg .............\n",
      "[CV] ... clf__C=40.0, clf__penalty=l2, clf__solver=saga, total=   9.1s\n",
      "[CV] clf__C=50.0, clf__penalty=l2, clf__solver=saga ..................\n",
      "[CV] ... clf__C=40.0, clf__penalty=l2, clf__solver=saga, total=  17.5s\n",
      "[CV] clf__C=50.0, clf__penalty=l2, clf__solver=saga ..................\n",
      "[CV] .. clf__C=40.0, clf__penalty=l2, clf__solver=lbfgs, total=  22.7s\n",
      "[CV] clf__C=50.0, clf__penalty=l2, clf__solver=saga ..................\n",
      "[CV] .. clf__C=40.0, clf__penalty=l2, clf__solver=lbfgs, total=  23.0s\n",
      "[CV] .. clf__C=40.0, clf__penalty=l2, clf__solver=lbfgs, total=  23.1s\n",
      "[CV] clf__C=50.0, clf__penalty=l2, clf__solver=saga ..................\n",
      "[CV] clf__C=50.0, clf__penalty=l2, clf__solver=saga ..................\n",
      "[CV] .. clf__C=40.0, clf__penalty=l2, clf__solver=lbfgs, total=  25.8s\n",
      "[CV] clf__C=50.0, clf__penalty=l2, clf__solver=lbfgs .................\n",
      "[CV] .. clf__C=40.0, clf__penalty=l2, clf__solver=lbfgs, total=  25.8s\n",
      "[CV] clf__C=50.0, clf__penalty=l2, clf__solver=lbfgs .................\n",
      "[CV]  clf__C=50.0, clf__penalty=l2, clf__solver=newton-cg, total=  26.7s\n",
      "[CV]  clf__C=50.0, clf__penalty=l2, clf__solver=newton-cg, total=  27.2s\n",
      "[CV]  clf__C=50.0, clf__penalty=l2, clf__solver=newton-cg, total=  26.7s\n",
      "[CV] clf__C=50.0, clf__penalty=l2, clf__solver=lbfgs .................\n",
      "[CV] clf__C=50.0, clf__penalty=l2, clf__solver=lbfgs .................\n"
     ]
    },
    {
     "name": "stderr",
     "output_type": "stream",
     "text": [
      "/usr/lib/python3.6/site-packages/sklearn/linear_model/sag.py:326: ConvergenceWarning: The max_iter was reached which means the coef_ did not converge\n",
      "  \"the coef_ did not converge\", ConvergenceWarning)\n"
     ]
    },
    {
     "name": "stdout",
     "output_type": "stream",
     "text": [
      "[CV]  clf__C=50.0, clf__penalty=l2, clf__solver=newton-cg, total=  27.3s\n",
      "[CV] clf__C=50.0, clf__penalty=l2, clf__solver=lbfgs .................\n",
      "[CV] clf__C=60.0, clf__penalty=l2, clf__solver=newton-cg .............\n"
     ]
    },
    {
     "name": "stderr",
     "output_type": "stream",
     "text": [
      "/usr/lib/python3.6/site-packages/sklearn/linear_model/sag.py:326: ConvergenceWarning: The max_iter was reached which means the coef_ did not converge\n",
      "  \"the coef_ did not converge\", ConvergenceWarning)\n",
      "/usr/lib/python3.6/site-packages/sklearn/linear_model/sag.py:326: ConvergenceWarning: The max_iter was reached which means the coef_ did not converge\n",
      "  \"the coef_ did not converge\", ConvergenceWarning)\n",
      "/usr/lib/python3.6/site-packages/sklearn/linear_model/sag.py:326: ConvergenceWarning: The max_iter was reached which means the coef_ did not converge\n",
      "  \"the coef_ did not converge\", ConvergenceWarning)\n",
      "/usr/lib/python3.6/site-packages/sklearn/linear_model/sag.py:326: ConvergenceWarning: The max_iter was reached which means the coef_ did not converge\n",
      "  \"the coef_ did not converge\", ConvergenceWarning)\n"
     ]
    },
    {
     "name": "stdout",
     "output_type": "stream",
     "text": [
      "[CV]  clf__C=50.0, clf__penalty=l2, clf__solver=newton-cg, total=  26.8s\n",
      "[CV] clf__C=60.0, clf__penalty=l2, clf__solver=newton-cg .............\n",
      "[CV] ... clf__C=50.0, clf__penalty=l2, clf__solver=saga, total=  10.4s\n",
      "[CV] clf__C=60.0, clf__penalty=l2, clf__solver=newton-cg .............\n",
      "[CV] ... clf__C=50.0, clf__penalty=l2, clf__solver=saga, total=  12.1s\n",
      "[CV] clf__C=60.0, clf__penalty=l2, clf__solver=newton-cg .............\n",
      "[CV] ... clf__C=50.0, clf__penalty=l2, clf__solver=saga, total=  17.3s\n",
      "[CV] ... clf__C=50.0, clf__penalty=l2, clf__solver=saga, total=  16.2s\n",
      "[CV] clf__C=60.0, clf__penalty=l2, clf__solver=newton-cg .............\n",
      "[CV] clf__C=60.0, clf__penalty=l2, clf__solver=saga ..................\n",
      "[CV] ... clf__C=50.0, clf__penalty=l2, clf__solver=saga, total=  17.7s\n",
      "[CV] clf__C=60.0, clf__penalty=l2, clf__solver=saga ..................\n",
      "[CV] .. clf__C=50.0, clf__penalty=l2, clf__solver=lbfgs, total=  21.5s\n",
      "[CV] clf__C=60.0, clf__penalty=l2, clf__solver=saga ..................\n",
      "[CV] .. clf__C=50.0, clf__penalty=l2, clf__solver=lbfgs, total=  22.0s\n",
      "[CV] .. clf__C=50.0, clf__penalty=l2, clf__solver=lbfgs, total=  21.9s\n",
      "[CV] clf__C=60.0, clf__penalty=l2, clf__solver=saga ..................\n",
      "[CV] clf__C=60.0, clf__penalty=l2, clf__solver=saga ..................\n",
      "[CV]  clf__C=60.0, clf__penalty=l2, clf__solver=newton-cg, total=  21.9s\n",
      "[CV] .. clf__C=50.0, clf__penalty=l2, clf__solver=lbfgs, total=  22.9s\n",
      "[CV] clf__C=60.0, clf__penalty=l2, clf__solver=lbfgs .................\n",
      "[CV] clf__C=60.0, clf__penalty=l2, clf__solver=lbfgs .................\n",
      "[CV] .. clf__C=50.0, clf__penalty=l2, clf__solver=lbfgs, total=  22.5s\n",
      "[CV] clf__C=60.0, clf__penalty=l2, clf__solver=lbfgs .................\n"
     ]
    },
    {
     "name": "stderr",
     "output_type": "stream",
     "text": [
      "/usr/lib/python3.6/site-packages/sklearn/linear_model/sag.py:326: ConvergenceWarning: The max_iter was reached which means the coef_ did not converge\n",
      "  \"the coef_ did not converge\", ConvergenceWarning)\n",
      "/usr/lib/python3.6/site-packages/sklearn/linear_model/sag.py:326: ConvergenceWarning: The max_iter was reached which means the coef_ did not converge\n",
      "  \"the coef_ did not converge\", ConvergenceWarning)\n",
      "/usr/lib/python3.6/site-packages/sklearn/linear_model/sag.py:326: ConvergenceWarning: The max_iter was reached which means the coef_ did not converge\n",
      "  \"the coef_ did not converge\", ConvergenceWarning)\n"
     ]
    },
    {
     "name": "stdout",
     "output_type": "stream",
     "text": [
      "[CV]  clf__C=60.0, clf__penalty=l2, clf__solver=newton-cg, total=  22.4s\n",
      "[CV] clf__C=60.0, clf__penalty=l2, clf__solver=lbfgs .................\n"
     ]
    },
    {
     "name": "stderr",
     "output_type": "stream",
     "text": [
      "/usr/lib/python3.6/site-packages/sklearn/linear_model/sag.py:326: ConvergenceWarning: The max_iter was reached which means the coef_ did not converge\n",
      "  \"the coef_ did not converge\", ConvergenceWarning)\n",
      "/usr/lib/python3.6/site-packages/sklearn/linear_model/sag.py:326: ConvergenceWarning: The max_iter was reached which means the coef_ did not converge\n",
      "  \"the coef_ did not converge\", ConvergenceWarning)\n"
     ]
    },
    {
     "name": "stdout",
     "output_type": "stream",
     "text": [
      "[CV]  clf__C=60.0, clf__penalty=l2, clf__solver=newton-cg, total=  18.4s\n",
      "[CV] clf__C=60.0, clf__penalty=l2, clf__solver=lbfgs .................\n",
      "[CV]  clf__C=60.0, clf__penalty=l2, clf__solver=newton-cg, total=  17.0s\n",
      "[CV] clf__C=70.0, clf__penalty=l2, clf__solver=newton-cg .............\n",
      "[CV] ... clf__C=60.0, clf__penalty=l2, clf__solver=saga, total=  18.3s\n",
      "[CV] clf__C=70.0, clf__penalty=l2, clf__solver=newton-cg .............\n",
      "[CV] ... clf__C=60.0, clf__penalty=l2, clf__solver=saga, total=  17.8s\n",
      "[CV]  clf__C=60.0, clf__penalty=l2, clf__solver=newton-cg, total=  19.6s\n",
      "[CV] clf__C=70.0, clf__penalty=l2, clf__solver=newton-cg .............\n",
      "[CV] clf__C=70.0, clf__penalty=l2, clf__solver=newton-cg .............\n",
      "[CV] ... clf__C=60.0, clf__penalty=l2, clf__solver=saga, total=  21.1s\n",
      "[CV] ... clf__C=60.0, clf__penalty=l2, clf__solver=saga, total=  19.8s\n",
      "[CV] clf__C=70.0, clf__penalty=l2, clf__solver=newton-cg .............\n",
      "[CV] clf__C=70.0, clf__penalty=l2, clf__solver=saga ..................\n",
      "[CV] ... clf__C=60.0, clf__penalty=l2, clf__solver=saga, total=  21.3s\n",
      "[CV] clf__C=70.0, clf__penalty=l2, clf__solver=saga ..................\n",
      "[CV] .. clf__C=60.0, clf__penalty=l2, clf__solver=lbfgs, total=  20.5s\n",
      "[CV] clf__C=70.0, clf__penalty=l2, clf__solver=saga ..................\n",
      "[CV] .. clf__C=60.0, clf__penalty=l2, clf__solver=lbfgs, total=  21.3s\n",
      "[CV] .. clf__C=60.0, clf__penalty=l2, clf__solver=lbfgs, total=  20.1s\n",
      "[CV] clf__C=70.0, clf__penalty=l2, clf__solver=saga ..................\n",
      "[CV] clf__C=70.0, clf__penalty=l2, clf__solver=saga ..................\n"
     ]
    },
    {
     "name": "stderr",
     "output_type": "stream",
     "text": [
      "/usr/lib/python3.6/site-packages/sklearn/linear_model/sag.py:326: ConvergenceWarning: The max_iter was reached which means the coef_ did not converge\n",
      "  \"the coef_ did not converge\", ConvergenceWarning)\n",
      "/usr/lib/python3.6/site-packages/sklearn/linear_model/sag.py:326: ConvergenceWarning: The max_iter was reached which means the coef_ did not converge\n",
      "  \"the coef_ did not converge\", ConvergenceWarning)\n",
      "/usr/lib/python3.6/site-packages/sklearn/linear_model/sag.py:326: ConvergenceWarning: The max_iter was reached which means the coef_ did not converge\n",
      "  \"the coef_ did not converge\", ConvergenceWarning)\n",
      "/usr/lib/python3.6/site-packages/sklearn/linear_model/sag.py:326: ConvergenceWarning: The max_iter was reached which means the coef_ did not converge\n",
      "  \"the coef_ did not converge\", ConvergenceWarning)\n"
     ]
    },
    {
     "name": "stdout",
     "output_type": "stream",
     "text": [
      "[CV] .. clf__C=60.0, clf__penalty=l2, clf__solver=lbfgs, total=  22.7s\n"
     ]
    },
    {
     "name": "stderr",
     "output_type": "stream",
     "text": [
      "/usr/lib/python3.6/site-packages/sklearn/linear_model/sag.py:326: ConvergenceWarning: The max_iter was reached which means the coef_ did not converge\n",
      "  \"the coef_ did not converge\", ConvergenceWarning)\n"
     ]
    },
    {
     "name": "stdout",
     "output_type": "stream",
     "text": [
      "[CV] clf__C=70.0, clf__penalty=l2, clf__solver=lbfgs .................\n",
      "[CV]  clf__C=70.0, clf__penalty=l2, clf__solver=newton-cg, total=  20.6s\n",
      "[CV] clf__C=70.0, clf__penalty=l2, clf__solver=lbfgs .................\n",
      "[CV] .. clf__C=60.0, clf__penalty=l2, clf__solver=lbfgs, total=  25.0s\n",
      "[CV] clf__C=70.0, clf__penalty=l2, clf__solver=lbfgs .................\n",
      "[CV]  clf__C=70.0, clf__penalty=l2, clf__solver=newton-cg, total=  22.8s\n",
      "[CV]  clf__C=70.0, clf__penalty=l2, clf__solver=newton-cg, total=  24.1s\n",
      "[CV] clf__C=70.0, clf__penalty=l2, clf__solver=lbfgs .................\n",
      "[CV] clf__C=70.0, clf__penalty=l2, clf__solver=lbfgs .................\n",
      "[CV]  clf__C=70.0, clf__penalty=l2, clf__solver=newton-cg, total=  23.0s\n",
      "[CV] clf__C=80.0, clf__penalty=l2, clf__solver=newton-cg .............\n",
      "[CV] ... clf__C=70.0, clf__penalty=l2, clf__solver=saga, total=  22.4s\n",
      "[CV] clf__C=80.0, clf__penalty=l2, clf__solver=newton-cg .............\n",
      "[CV]  clf__C=70.0, clf__penalty=l2, clf__solver=newton-cg, total=  23.1s\n",
      "[CV] clf__C=80.0, clf__penalty=l2, clf__solver=newton-cg .............\n",
      "[CV] ... clf__C=70.0, clf__penalty=l2, clf__solver=saga, total=  21.9s\n",
      "[CV] clf__C=80.0, clf__penalty=l2, clf__solver=newton-cg .............\n",
      "[CV] ... clf__C=70.0, clf__penalty=l2, clf__solver=saga, total=  19.7s\n",
      "[CV] clf__C=80.0, clf__penalty=l2, clf__solver=newton-cg .............\n",
      "[CV] ... clf__C=70.0, clf__penalty=l2, clf__solver=saga, total=  17.4s\n",
      "[CV] clf__C=80.0, clf__penalty=l2, clf__solver=saga ..................\n",
      "[CV] ... clf__C=70.0, clf__penalty=l2, clf__solver=saga, total=  16.6s\n",
      "[CV] clf__C=80.0, clf__penalty=l2, clf__solver=saga ..................\n"
     ]
    },
    {
     "name": "stderr",
     "output_type": "stream",
     "text": [
      "/usr/lib/python3.6/site-packages/sklearn/linear_model/sag.py:326: ConvergenceWarning: The max_iter was reached which means the coef_ did not converge\n",
      "  \"the coef_ did not converge\", ConvergenceWarning)\n",
      "/usr/lib/python3.6/site-packages/sklearn/linear_model/sag.py:326: ConvergenceWarning: The max_iter was reached which means the coef_ did not converge\n",
      "  \"the coef_ did not converge\", ConvergenceWarning)\n"
     ]
    },
    {
     "name": "stdout",
     "output_type": "stream",
     "text": [
      "[CV] .. clf__C=70.0, clf__penalty=l2, clf__solver=lbfgs, total=  22.5s\n",
      "[CV] clf__C=80.0, clf__penalty=l2, clf__solver=saga ..................\n",
      "[CV] .. clf__C=70.0, clf__penalty=l2, clf__solver=lbfgs, total=  27.2s\n",
      "[CV] clf__C=80.0, clf__penalty=l2, clf__solver=saga ..................\n",
      "[CV] .. clf__C=70.0, clf__penalty=l2, clf__solver=lbfgs, total=  28.2s\n",
      "[CV] clf__C=80.0, clf__penalty=l2, clf__solver=saga ..................\n",
      "[CV] .. clf__C=70.0, clf__penalty=l2, clf__solver=lbfgs, total=  29.5s\n",
      "[CV] clf__C=80.0, clf__penalty=l2, clf__solver=lbfgs .................\n",
      "[CV] .. clf__C=70.0, clf__penalty=l2, clf__solver=lbfgs, total=  30.6s\n",
      "[CV]  clf__C=80.0, clf__penalty=l2, clf__solver=newton-cg, total=  29.4s\n",
      "[CV] clf__C=80.0, clf__penalty=l2, clf__solver=lbfgs .................\n",
      "[CV] clf__C=80.0, clf__penalty=l2, clf__solver=lbfgs .................\n",
      "[CV]  clf__C=80.0, clf__penalty=l2, clf__solver=newton-cg, total=  30.3s\n",
      "[CV] clf__C=80.0, clf__penalty=l2, clf__solver=lbfgs .................\n",
      "[CV]  clf__C=80.0, clf__penalty=l2, clf__solver=newton-cg, total=  29.3s\n"
     ]
    },
    {
     "name": "stderr",
     "output_type": "stream",
     "text": [
      "[Parallel(n_jobs=-1)]: Done 138 tasks      | elapsed:  6.3min\n"
     ]
    },
    {
     "name": "stdout",
     "output_type": "stream",
     "text": [
      "[CV] clf__C=80.0, clf__penalty=l2, clf__solver=lbfgs .................\n",
      "[CV]  clf__C=80.0, clf__penalty=l2, clf__solver=newton-cg, total=  28.8s\n",
      "[CV]  clf__C=80.0, clf__penalty=l2, clf__solver=newton-cg, total=  29.3s\n",
      "[CV] clf__C=90.0, clf__penalty=l2, clf__solver=newton-cg .............\n",
      "[CV] clf__C=90.0, clf__penalty=l2, clf__solver=newton-cg .............\n",
      "[CV] ... clf__C=80.0, clf__penalty=l2, clf__solver=saga, total=  25.8s\n",
      "[CV] ... clf__C=80.0, clf__penalty=l2, clf__solver=saga, total=  24.6s\n",
      "[CV] clf__C=90.0, clf__penalty=l2, clf__solver=newton-cg .............\n",
      "[CV] clf__C=90.0, clf__penalty=l2, clf__solver=newton-cg .............\n"
     ]
    },
    {
     "name": "stderr",
     "output_type": "stream",
     "text": [
      "/usr/lib/python3.6/site-packages/sklearn/linear_model/sag.py:326: ConvergenceWarning: The max_iter was reached which means the coef_ did not converge\n",
      "  \"the coef_ did not converge\", ConvergenceWarning)\n",
      "/usr/lib/python3.6/site-packages/sklearn/linear_model/sag.py:326: ConvergenceWarning: The max_iter was reached which means the coef_ did not converge\n",
      "  \"the coef_ did not converge\", ConvergenceWarning)\n",
      "/usr/lib/python3.6/site-packages/sklearn/linear_model/sag.py:326: ConvergenceWarning: The max_iter was reached which means the coef_ did not converge\n",
      "  \"the coef_ did not converge\", ConvergenceWarning)\n"
     ]
    },
    {
     "name": "stdout",
     "output_type": "stream",
     "text": [
      "[CV] ... clf__C=80.0, clf__penalty=l2, clf__solver=saga, total=  15.4s\n",
      "[CV] clf__C=90.0, clf__penalty=l2, clf__solver=newton-cg .............\n",
      "[CV] ... clf__C=80.0, clf__penalty=l2, clf__solver=saga, total=  19.5s\n",
      "[CV] clf__C=90.0, clf__penalty=l2, clf__solver=saga ..................\n",
      "[CV] ... clf__C=80.0, clf__penalty=l2, clf__solver=saga, total=  21.6s\n",
      "[CV] clf__C=90.0, clf__penalty=l2, clf__solver=saga ..................\n",
      "[CV] .. clf__C=80.0, clf__penalty=l2, clf__solver=lbfgs, total=  24.8s\n",
      "[CV] .. clf__C=80.0, clf__penalty=l2, clf__solver=lbfgs, total=  24.9s\n",
      "[CV] clf__C=90.0, clf__penalty=l2, clf__solver=saga ..................\n",
      "[CV] clf__C=90.0, clf__penalty=l2, clf__solver=saga ..................\n",
      "[CV] .. clf__C=80.0, clf__penalty=l2, clf__solver=lbfgs, total=  24.8s\n",
      "[CV] .. clf__C=80.0, clf__penalty=l2, clf__solver=lbfgs, total=  24.5s\n",
      "[CV] clf__C=90.0, clf__penalty=l2, clf__solver=saga ..................\n",
      "[CV] clf__C=90.0, clf__penalty=l2, clf__solver=lbfgs .................\n",
      "[CV] .. clf__C=80.0, clf__penalty=l2, clf__solver=lbfgs, total=  25.7s\n",
      "[CV] clf__C=90.0, clf__penalty=l2, clf__solver=lbfgs .................\n",
      "[CV]  clf__C=90.0, clf__penalty=l2, clf__solver=newton-cg, total=  27.9s\n",
      "[CV] clf__C=90.0, clf__penalty=l2, clf__solver=lbfgs .................\n",
      "[CV]  clf__C=90.0, clf__penalty=l2, clf__solver=newton-cg, total=  27.1s\n",
      "[CV] clf__C=90.0, clf__penalty=l2, clf__solver=lbfgs .................\n",
      "[CV]  clf__C=90.0, clf__penalty=l2, clf__solver=newton-cg, total=  28.2s\n",
      "[CV] clf__C=90.0, clf__penalty=l2, clf__solver=lbfgs .................\n"
     ]
    },
    {
     "name": "stderr",
     "output_type": "stream",
     "text": [
      "/usr/lib/python3.6/site-packages/sklearn/linear_model/sag.py:326: ConvergenceWarning: The max_iter was reached which means the coef_ did not converge\n",
      "  \"the coef_ did not converge\", ConvergenceWarning)\n",
      "/usr/lib/python3.6/site-packages/sklearn/linear_model/sag.py:326: ConvergenceWarning: The max_iter was reached which means the coef_ did not converge\n",
      "  \"the coef_ did not converge\", ConvergenceWarning)\n"
     ]
    },
    {
     "name": "stdout",
     "output_type": "stream",
     "text": [
      "[CV]  clf__C=90.0, clf__penalty=l2, clf__solver=newton-cg, total=  29.4s\n",
      "[CV] clf__C=100.0, clf__penalty=l2, clf__solver=newton-cg ............\n"
     ]
    },
    {
     "name": "stderr",
     "output_type": "stream",
     "text": [
      "/usr/lib/python3.6/site-packages/sklearn/linear_model/sag.py:326: ConvergenceWarning: The max_iter was reached which means the coef_ did not converge\n",
      "  \"the coef_ did not converge\", ConvergenceWarning)\n",
      "/usr/lib/python3.6/site-packages/sklearn/linear_model/sag.py:326: ConvergenceWarning: The max_iter was reached which means the coef_ did not converge\n",
      "  \"the coef_ did not converge\", ConvergenceWarning)\n",
      "/usr/lib/python3.6/site-packages/sklearn/linear_model/sag.py:326: ConvergenceWarning: The max_iter was reached which means the coef_ did not converge\n",
      "  \"the coef_ did not converge\", ConvergenceWarning)\n"
     ]
    },
    {
     "name": "stdout",
     "output_type": "stream",
     "text": [
      "[CV] ... clf__C=90.0, clf__penalty=l2, clf__solver=saga, total=  12.2s\n",
      "[CV] clf__C=100.0, clf__penalty=l2, clf__solver=newton-cg ............\n",
      "[CV] ... clf__C=90.0, clf__penalty=l2, clf__solver=saga, total=  15.1s\n",
      "[CV] clf__C=100.0, clf__penalty=l2, clf__solver=newton-cg ............\n",
      "[CV]  clf__C=90.0, clf__penalty=l2, clf__solver=newton-cg, total=  20.2s\n",
      "[CV] clf__C=100.0, clf__penalty=l2, clf__solver=newton-cg ............\n",
      "[CV] ... clf__C=90.0, clf__penalty=l2, clf__solver=saga, total=  20.8s\n",
      "[CV] clf__C=100.0, clf__penalty=l2, clf__solver=newton-cg ............\n",
      "[CV] ... clf__C=90.0, clf__penalty=l2, clf__solver=saga, total=  21.6s\n",
      "[CV] ... clf__C=90.0, clf__penalty=l2, clf__solver=saga, total=  22.1s\n",
      "[CV] clf__C=100.0, clf__penalty=l2, clf__solver=saga .................\n",
      "[CV] clf__C=100.0, clf__penalty=l2, clf__solver=saga .................\n",
      "[CV] .. clf__C=90.0, clf__penalty=l2, clf__solver=lbfgs, total=  22.2s\n",
      "[CV] clf__C=100.0, clf__penalty=l2, clf__solver=saga .................\n",
      "[CV] .. clf__C=90.0, clf__penalty=l2, clf__solver=lbfgs, total=  23.1s\n",
      "[CV] .. clf__C=90.0, clf__penalty=l2, clf__solver=lbfgs, total=  22.2s\n",
      "[CV] clf__C=100.0, clf__penalty=l2, clf__solver=saga .................\n",
      "[CV] clf__C=100.0, clf__penalty=l2, clf__solver=saga .................\n",
      "[CV] .. clf__C=90.0, clf__penalty=l2, clf__solver=lbfgs, total=  24.6s\n",
      "[CV] clf__C=100.0, clf__penalty=l2, clf__solver=lbfgs ................\n",
      "[CV] .. clf__C=90.0, clf__penalty=l2, clf__solver=lbfgs, total=  25.4s\n",
      "[CV] clf__C=100.0, clf__penalty=l2, clf__solver=lbfgs ................\n"
     ]
    },
    {
     "name": "stderr",
     "output_type": "stream",
     "text": [
      "/usr/lib/python3.6/site-packages/sklearn/linear_model/sag.py:326: ConvergenceWarning: The max_iter was reached which means the coef_ did not converge\n",
      "  \"the coef_ did not converge\", ConvergenceWarning)\n"
     ]
    },
    {
     "name": "stdout",
     "output_type": "stream",
     "text": [
      "[CV]  clf__C=100.0, clf__penalty=l2, clf__solver=newton-cg, total=  25.6s\n"
     ]
    },
    {
     "name": "stderr",
     "output_type": "stream",
     "text": [
      "/usr/lib/python3.6/site-packages/sklearn/linear_model/sag.py:326: ConvergenceWarning: The max_iter was reached which means the coef_ did not converge\n",
      "  \"the coef_ did not converge\", ConvergenceWarning)\n"
     ]
    },
    {
     "name": "stdout",
     "output_type": "stream",
     "text": [
      "[CV] clf__C=100.0, clf__penalty=l2, clf__solver=lbfgs ................\n"
     ]
    },
    {
     "name": "stderr",
     "output_type": "stream",
     "text": [
      "/usr/lib/python3.6/site-packages/sklearn/linear_model/sag.py:326: ConvergenceWarning: The max_iter was reached which means the coef_ did not converge\n",
      "  \"the coef_ did not converge\", ConvergenceWarning)\n",
      "/usr/lib/python3.6/site-packages/sklearn/linear_model/sag.py:326: ConvergenceWarning: The max_iter was reached which means the coef_ did not converge\n",
      "  \"the coef_ did not converge\", ConvergenceWarning)\n",
      "/usr/lib/python3.6/site-packages/sklearn/linear_model/sag.py:326: ConvergenceWarning: The max_iter was reached which means the coef_ did not converge\n",
      "  \"the coef_ did not converge\", ConvergenceWarning)\n"
     ]
    },
    {
     "name": "stdout",
     "output_type": "stream",
     "text": [
      "[CV]  clf__C=100.0, clf__penalty=l2, clf__solver=newton-cg, total=  17.8s\n",
      "[CV] clf__C=100.0, clf__penalty=l2, clf__solver=lbfgs ................\n",
      "[CV]  clf__C=100.0, clf__penalty=l2, clf__solver=newton-cg, total=  19.4s\n",
      "[CV] clf__C=100.0, clf__penalty=l2, clf__solver=lbfgs ................\n",
      "[CV]  clf__C=100.0, clf__penalty=l2, clf__solver=newton-cg, total=  19.0s\n",
      "[CV] clf__C=1.0, clf__penalty=l2, clf__solver=newton-cg ..............\n",
      "[CV] .. clf__C=100.0, clf__penalty=l2, clf__solver=saga, total=  21.5s\n",
      "[CV] clf__C=1.0, clf__penalty=l2, clf__solver=newton-cg ..............\n",
      "[CV]  clf__C=100.0, clf__penalty=l2, clf__solver=newton-cg, total=  20.2s\n",
      "[CV] .. clf__C=100.0, clf__penalty=l2, clf__solver=saga, total=  21.4s\n",
      "[CV] clf__C=1.0, clf__penalty=l2, clf__solver=newton-cg ..............\n",
      "[CV] .. clf__C=100.0, clf__penalty=l2, clf__solver=saga, total=  19.8s\n",
      "[CV] clf__C=1.0, clf__penalty=l2, clf__solver=newton-cg ..............\n",
      "[CV] .. clf__C=100.0, clf__penalty=l2, clf__solver=saga, total=  20.4s\n",
      "[CV] clf__C=1.0, clf__penalty=l2, clf__solver=newton-cg ..............\n",
      "[CV] clf__C=1.0, clf__penalty=l2, clf__solver=saga ...................\n",
      "[CV] .. clf__C=100.0, clf__penalty=l2, clf__solver=saga, total=  21.9s\n",
      "[CV] clf__C=1.0, clf__penalty=l2, clf__solver=saga ...................\n",
      "[CV] . clf__C=100.0, clf__penalty=l2, clf__solver=lbfgs, total=  23.7s\n",
      "[CV] clf__C=1.0, clf__penalty=l2, clf__solver=saga ...................\n",
      "[CV] . clf__C=100.0, clf__penalty=l2, clf__solver=lbfgs, total=  26.1s\n",
      "[CV] clf__C=1.0, clf__penalty=l2, clf__solver=saga ...................\n",
      "[CV] . clf__C=100.0, clf__penalty=l2, clf__solver=lbfgs, total=  21.6s\n",
      "[CV] clf__C=1.0, clf__penalty=l2, clf__solver=saga ...................\n",
      "[CV]  clf__C=1.0, clf__penalty=l2, clf__solver=newton-cg, total=  16.3s\n",
      "[CV] clf__C=1.0, clf__penalty=l2, clf__solver=lbfgs ..................\n",
      "[CV] . clf__C=100.0, clf__penalty=l2, clf__solver=lbfgs, total=  21.1s\n",
      "[CV] clf__C=1.0, clf__penalty=l2, clf__solver=lbfgs ..................\n",
      "[CV]  clf__C=1.0, clf__penalty=l2, clf__solver=newton-cg, total=  17.1s\n",
      "[CV] clf__C=1.0, clf__penalty=l2, clf__solver=lbfgs ..................\n",
      "[CV] . clf__C=100.0, clf__penalty=l2, clf__solver=lbfgs, total=  21.9s\n",
      "[CV] clf__C=1.0, clf__penalty=l2, clf__solver=lbfgs ..................\n",
      "[CV]  clf__C=1.0, clf__penalty=l2, clf__solver=newton-cg, total=  18.5s\n",
      "[CV] clf__C=1.0, clf__penalty=l2, clf__solver=lbfgs ..................\n",
      "[CV] .... clf__C=1.0, clf__penalty=l2, clf__solver=saga, total=  17.0s\n",
      "[CV]  clf__C=1.0, clf__penalty=l2, clf__solver=newton-cg, total=  18.3s\n",
      "[CV] clf__C=10.0, clf__penalty=l2, clf__solver=newton-cg .............\n",
      "[CV] .... clf__C=1.0, clf__penalty=l2, clf__solver=saga, total=  16.0s\n",
      "[CV]  clf__C=1.0, clf__penalty=l2, clf__solver=newton-cg, total=  18.0s\n",
      "[CV] clf__C=10.0, clf__penalty=l2, clf__solver=newton-cg .............\n",
      "[CV] clf__C=10.0, clf__penalty=l2, clf__solver=newton-cg .............\n",
      "[CV] clf__C=10.0, clf__penalty=l2, clf__solver=newton-cg .............\n",
      "[CV] .... clf__C=1.0, clf__penalty=l2, clf__solver=saga, total=  13.0s\n",
      "[CV] clf__C=10.0, clf__penalty=l2, clf__solver=newton-cg .............\n",
      "[CV] .... clf__C=1.0, clf__penalty=l2, clf__solver=saga, total=   9.7s\n",
      "[CV] clf__C=10.0, clf__penalty=l2, clf__solver=saga ..................\n",
      "[CV] .... clf__C=1.0, clf__penalty=l2, clf__solver=saga, total=   6.0s\n",
      "[CV] clf__C=10.0, clf__penalty=l2, clf__solver=saga ..................\n",
      "[CV] ... clf__C=1.0, clf__penalty=l2, clf__solver=lbfgs, total=  24.7s\n",
      "[CV] clf__C=10.0, clf__penalty=l2, clf__solver=saga ..................\n",
      "[CV] ... clf__C=1.0, clf__penalty=l2, clf__solver=lbfgs, total=  25.8s\n",
      "[CV] clf__C=10.0, clf__penalty=l2, clf__solver=saga ..................\n",
      "[CV] ... clf__C=1.0, clf__penalty=l2, clf__solver=lbfgs, total=  25.1s\n",
      "[CV] ... clf__C=1.0, clf__penalty=l2, clf__solver=lbfgs, total=  25.4s\n",
      "[CV]  clf__C=10.0, clf__penalty=l2, clf__solver=newton-cg, total=  24.3s\n",
      "[CV] ... clf__C=1.0, clf__penalty=l2, clf__solver=lbfgs, total=  25.6s\n",
      "[CV] clf__C=10.0, clf__penalty=l2, clf__solver=saga ..................\n",
      "[CV] clf__C=10.0, clf__penalty=l2, clf__solver=lbfgs .................\n",
      "[CV]  clf__C=10.0, clf__penalty=l2, clf__solver=newton-cg, total=  24.8s\n",
      "[CV] clf__C=10.0, clf__penalty=l2, clf__solver=lbfgs .................\n",
      "[CV] clf__C=10.0, clf__penalty=l2, clf__solver=lbfgs .................\n",
      "[CV]  clf__C=10.0, clf__penalty=l2, clf__solver=newton-cg, total=  25.1s\n",
      "[CV] clf__C=10.0, clf__penalty=l2, clf__solver=lbfgs .................\n",
      "[CV]  clf__C=10.0, clf__penalty=l2, clf__solver=newton-cg, total=  24.8s\n",
      "[CV] clf__C=10.0, clf__penalty=l2, clf__solver=lbfgs .................\n",
      "[CV] clf__C=15.0, clf__penalty=l2, clf__solver=newton-cg .............\n",
      "[CV]  clf__C=10.0, clf__penalty=l2, clf__solver=newton-cg, total=  25.2s\n",
      "[CV] clf__C=15.0, clf__penalty=l2, clf__solver=newton-cg .............\n",
      "[CV] ... clf__C=10.0, clf__penalty=l2, clf__solver=saga, total=  22.1s\n",
      "[CV] clf__C=15.0, clf__penalty=l2, clf__solver=newton-cg .............\n",
      "[CV] ... clf__C=10.0, clf__penalty=l2, clf__solver=saga, total=   7.2s\n",
      "[CV] clf__C=15.0, clf__penalty=l2, clf__solver=newton-cg .............\n",
      "[CV] ... clf__C=10.0, clf__penalty=l2, clf__solver=saga, total=  14.3s\n",
      "[CV] ... clf__C=10.0, clf__penalty=l2, clf__solver=saga, total=  14.5s\n",
      "[CV] clf__C=15.0, clf__penalty=l2, clf__solver=newton-cg .............\n",
      "[CV] clf__C=15.0, clf__penalty=l2, clf__solver=saga ..................\n",
      "[CV] ... clf__C=10.0, clf__penalty=l2, clf__solver=saga, total=  18.6s\n",
      "[CV] clf__C=15.0, clf__penalty=l2, clf__solver=saga ..................\n",
      "[CV] .. clf__C=10.0, clf__penalty=l2, clf__solver=lbfgs, total=  22.7s\n",
      "[CV] clf__C=15.0, clf__penalty=l2, clf__solver=saga ..................\n",
      "[CV] .. clf__C=10.0, clf__penalty=l2, clf__solver=lbfgs, total=  22.6s\n",
      "[CV]  clf__C=15.0, clf__penalty=l2, clf__solver=newton-cg, total=  22.4s\n",
      "[CV] clf__C=15.0, clf__penalty=l2, clf__solver=saga ..................\n",
      "[CV] .. clf__C=10.0, clf__penalty=l2, clf__solver=lbfgs, total=  22.9s\n",
      "[CV] .. clf__C=10.0, clf__penalty=l2, clf__solver=lbfgs, total=  23.3s\n",
      "[CV] .. clf__C=10.0, clf__penalty=l2, clf__solver=lbfgs, total=  23.2s\n",
      "[CV] clf__C=15.0, clf__penalty=l2, clf__solver=saga ..................\n",
      "[CV] clf__C=15.0, clf__penalty=l2, clf__solver=lbfgs .................\n",
      "[CV]  clf__C=15.0, clf__penalty=l2, clf__solver=newton-cg, total=  22.7s\n",
      "[CV] clf__C=15.0, clf__penalty=l2, clf__solver=lbfgs .................\n",
      "[CV] clf__C=15.0, clf__penalty=l2, clf__solver=lbfgs .................\n",
      "[CV] clf__C=15.0, clf__penalty=l2, clf__solver=lbfgs .................\n",
      "[CV]  clf__C=15.0, clf__penalty=l2, clf__solver=newton-cg, total=  24.1s\n",
      "[CV] clf__C=15.0, clf__penalty=l2, clf__solver=lbfgs .................\n",
      "[CV]  clf__C=15.0, clf__penalty=l2, clf__solver=newton-cg, total=  14.3s\n",
      "[CV] clf__C=20.0, clf__penalty=l2, clf__solver=newton-cg .............\n",
      "[CV] ... clf__C=15.0, clf__penalty=l2, clf__solver=saga, total=  11.4s\n",
      "[CV] clf__C=20.0, clf__penalty=l2, clf__solver=newton-cg .............\n",
      "[CV] ... clf__C=15.0, clf__penalty=l2, clf__solver=saga, total=  13.1s\n",
      "[CV] clf__C=20.0, clf__penalty=l2, clf__solver=newton-cg .............\n",
      "[CV]  clf__C=15.0, clf__penalty=l2, clf__solver=newton-cg, total=  14.5s\n",
      "[CV] clf__C=20.0, clf__penalty=l2, clf__solver=newton-cg .............\n",
      "[CV] ... clf__C=15.0, clf__penalty=l2, clf__solver=saga, total=  13.7s\n",
      "[CV] clf__C=20.0, clf__penalty=l2, clf__solver=newton-cg .............\n",
      "[CV] ... clf__C=15.0, clf__penalty=l2, clf__solver=saga, total=  16.6s\n",
      "[CV] clf__C=20.0, clf__penalty=l2, clf__solver=saga ..................\n",
      "[CV] ... clf__C=15.0, clf__penalty=l2, clf__solver=saga, total=  19.1s\n",
      "[CV] clf__C=20.0, clf__penalty=l2, clf__solver=saga ..................\n",
      "[CV] .. clf__C=15.0, clf__penalty=l2, clf__solver=lbfgs, total=  22.5s\n",
      "[CV] .. clf__C=15.0, clf__penalty=l2, clf__solver=lbfgs, total=  22.2s\n",
      "[CV] clf__C=20.0, clf__penalty=l2, clf__solver=saga ..................\n",
      "[CV] clf__C=20.0, clf__penalty=l2, clf__solver=saga ..................\n",
      "[CV] .. clf__C=15.0, clf__penalty=l2, clf__solver=lbfgs, total=  22.6s\n",
      "[CV] clf__C=20.0, clf__penalty=l2, clf__solver=saga ..................\n",
      "[CV] .. clf__C=15.0, clf__penalty=l2, clf__solver=lbfgs, total=  24.3s\n"
     ]
    },
    {
     "name": "stdout",
     "output_type": "stream",
     "text": [
      "[CV] clf__C=20.0, clf__penalty=l2, clf__solver=lbfgs .................\n",
      "[CV] .. clf__C=15.0, clf__penalty=l2, clf__solver=lbfgs, total=  25.3s\n",
      "[CV] clf__C=20.0, clf__penalty=l2, clf__solver=lbfgs .................\n"
     ]
    },
    {
     "name": "stderr",
     "output_type": "stream",
     "text": [
      "/usr/lib/python3.6/site-packages/sklearn/linear_model/sag.py:326: ConvergenceWarning: The max_iter was reached which means the coef_ did not converge\n",
      "  \"the coef_ did not converge\", ConvergenceWarning)\n"
     ]
    },
    {
     "name": "stdout",
     "output_type": "stream",
     "text": [
      "[CV]  clf__C=20.0, clf__penalty=l2, clf__solver=newton-cg, total=  19.1s\n",
      "[CV] clf__C=20.0, clf__penalty=l2, clf__solver=lbfgs .................\n",
      "[CV]  clf__C=20.0, clf__penalty=l2, clf__solver=newton-cg, total=  15.4s\n",
      "[CV] clf__C=20.0, clf__penalty=l2, clf__solver=lbfgs .................\n",
      "[CV]  clf__C=20.0, clf__penalty=l2, clf__solver=newton-cg, total=  17.9s\n",
      "[CV] clf__C=20.0, clf__penalty=l2, clf__solver=lbfgs .................\n",
      "[CV]  clf__C=20.0, clf__penalty=l2, clf__solver=newton-cg, total=  17.1s\n",
      "[CV] clf__C=30.0, clf__penalty=l2, clf__solver=newton-cg .............\n",
      "[CV]  clf__C=20.0, clf__penalty=l2, clf__solver=newton-cg, total=  16.7s\n",
      "[CV] clf__C=30.0, clf__penalty=l2, clf__solver=newton-cg .............\n",
      "[CV] ... clf__C=20.0, clf__penalty=l2, clf__solver=saga, total=  16.8s\n",
      "[CV] clf__C=30.0, clf__penalty=l2, clf__solver=newton-cg .............\n",
      "[CV] ... clf__C=20.0, clf__penalty=l2, clf__solver=saga, total=  16.9s\n",
      "[CV] ... clf__C=20.0, clf__penalty=l2, clf__solver=saga, total=  16.8s\n",
      "[CV] clf__C=30.0, clf__penalty=l2, clf__solver=newton-cg .............\n",
      "[CV] clf__C=30.0, clf__penalty=l2, clf__solver=newton-cg .............\n",
      "[CV] ... clf__C=20.0, clf__penalty=l2, clf__solver=saga, total=  15.9s\n",
      "[CV] clf__C=30.0, clf__penalty=l2, clf__solver=saga ..................\n",
      "[CV] ... clf__C=20.0, clf__penalty=l2, clf__solver=saga, total=  16.9s\n",
      "[CV] clf__C=30.0, clf__penalty=l2, clf__solver=saga ..................\n",
      "[CV] .. clf__C=20.0, clf__penalty=l2, clf__solver=lbfgs, total=  20.5s\n",
      "[CV] clf__C=30.0, clf__penalty=l2, clf__solver=saga ..................\n",
      "[CV] .. clf__C=20.0, clf__penalty=l2, clf__solver=lbfgs, total=  19.1s\n"
     ]
    },
    {
     "name": "stderr",
     "output_type": "stream",
     "text": [
      "/usr/lib/python3.6/site-packages/sklearn/linear_model/sag.py:326: ConvergenceWarning: The max_iter was reached which means the coef_ did not converge\n",
      "  \"the coef_ did not converge\", ConvergenceWarning)\n"
     ]
    },
    {
     "name": "stdout",
     "output_type": "stream",
     "text": [
      "[CV] clf__C=30.0, clf__penalty=l2, clf__solver=saga ..................\n"
     ]
    },
    {
     "name": "stderr",
     "output_type": "stream",
     "text": [
      "/usr/lib/python3.6/site-packages/sklearn/linear_model/sag.py:326: ConvergenceWarning: The max_iter was reached which means the coef_ did not converge\n",
      "  \"the coef_ did not converge\", ConvergenceWarning)\n"
     ]
    },
    {
     "name": "stdout",
     "output_type": "stream",
     "text": [
      "[CV] .. clf__C=20.0, clf__penalty=l2, clf__solver=lbfgs, total=  24.8s\n",
      "[CV] clf__C=30.0, clf__penalty=l2, clf__solver=saga ..................\n"
     ]
    },
    {
     "name": "stderr",
     "output_type": "stream",
     "text": [
      "/usr/lib/python3.6/site-packages/sklearn/linear_model/sag.py:326: ConvergenceWarning: The max_iter was reached which means the coef_ did not converge\n",
      "  \"the coef_ did not converge\", ConvergenceWarning)\n"
     ]
    },
    {
     "name": "stdout",
     "output_type": "stream",
     "text": [
      "[CV] .. clf__C=20.0, clf__penalty=l2, clf__solver=lbfgs, total=  25.3s\n",
      "[CV] .. clf__C=20.0, clf__penalty=l2, clf__solver=lbfgs, total=  26.4s\n",
      "[CV] clf__C=30.0, clf__penalty=l2, clf__solver=lbfgs .................\n",
      "[CV] clf__C=30.0, clf__penalty=l2, clf__solver=lbfgs .................\n",
      "[CV]  clf__C=30.0, clf__penalty=l2, clf__solver=newton-cg, total=  24.4s\n",
      "[CV] clf__C=30.0, clf__penalty=l2, clf__solver=lbfgs .................\n",
      "[CV]  clf__C=30.0, clf__penalty=l2, clf__solver=newton-cg, total=  24.3s\n"
     ]
    },
    {
     "name": "stderr",
     "output_type": "stream",
     "text": [
      "/usr/lib/python3.6/site-packages/sklearn/linear_model/sag.py:326: ConvergenceWarning: The max_iter was reached which means the coef_ did not converge\n",
      "  \"the coef_ did not converge\", ConvergenceWarning)\n"
     ]
    },
    {
     "name": "stdout",
     "output_type": "stream",
     "text": [
      "[CV] clf__C=30.0, clf__penalty=l2, clf__solver=lbfgs .................\n",
      "[CV]  clf__C=30.0, clf__penalty=l2, clf__solver=newton-cg, total=  23.3s\n",
      "[CV] clf__C=30.0, clf__penalty=l2, clf__solver=lbfgs .................\n",
      "[CV]  clf__C=30.0, clf__penalty=l2, clf__solver=newton-cg, total=  22.6s\n",
      "[CV]  clf__C=30.0, clf__penalty=l2, clf__solver=newton-cg, total=  23.1s\n",
      "[CV] clf__C=40.0, clf__penalty=l2, clf__solver=newton-cg .............\n",
      "[CV] clf__C=40.0, clf__penalty=l2, clf__solver=newton-cg .............\n",
      "[CV] ... clf__C=30.0, clf__penalty=l2, clf__solver=saga, total=  22.8s\n",
      "[CV] clf__C=40.0, clf__penalty=l2, clf__solver=newton-cg .............\n",
      "[CV] ... clf__C=30.0, clf__penalty=l2, clf__solver=saga, total=  21.0s\n",
      "[CV] clf__C=40.0, clf__penalty=l2, clf__solver=newton-cg .............\n"
     ]
    },
    {
     "name": "stderr",
     "output_type": "stream",
     "text": [
      "/usr/lib/python3.6/site-packages/sklearn/linear_model/sag.py:326: ConvergenceWarning: The max_iter was reached which means the coef_ did not converge\n",
      "  \"the coef_ did not converge\", ConvergenceWarning)\n"
     ]
    },
    {
     "name": "stdout",
     "output_type": "stream",
     "text": [
      "[CV] ... clf__C=30.0, clf__penalty=l2, clf__solver=saga, total=  10.7s\n",
      "[CV] clf__C=40.0, clf__penalty=l2, clf__solver=newton-cg .............\n",
      "[CV] ... clf__C=30.0, clf__penalty=l2, clf__solver=saga, total=   8.1s\n",
      "[CV] clf__C=40.0, clf__penalty=l2, clf__solver=saga ..................\n",
      "[CV] ... clf__C=30.0, clf__penalty=l2, clf__solver=saga, total=  11.1s\n",
      "[CV] clf__C=40.0, clf__penalty=l2, clf__solver=saga ..................\n",
      "[CV] .. clf__C=30.0, clf__penalty=l2, clf__solver=lbfgs, total=  24.3s\n"
     ]
    },
    {
     "name": "stderr",
     "output_type": "stream",
     "text": [
      "/usr/lib/python3.6/site-packages/sklearn/linear_model/sag.py:326: ConvergenceWarning: The max_iter was reached which means the coef_ did not converge\n",
      "  \"the coef_ did not converge\", ConvergenceWarning)\n"
     ]
    },
    {
     "name": "stdout",
     "output_type": "stream",
     "text": [
      "[CV] clf__C=40.0, clf__penalty=l2, clf__solver=saga ..................\n",
      "[CV] .. clf__C=30.0, clf__penalty=l2, clf__solver=lbfgs, total=  24.7s\n",
      "[CV] .. clf__C=30.0, clf__penalty=l2, clf__solver=lbfgs, total=  23.8s\n",
      "[CV] clf__C=40.0, clf__penalty=l2, clf__solver=saga ..................\n",
      "[CV] clf__C=40.0, clf__penalty=l2, clf__solver=saga ..................\n",
      "[CV] .. clf__C=30.0, clf__penalty=l2, clf__solver=lbfgs, total=  26.0s\n",
      "[CV] clf__C=40.0, clf__penalty=l2, clf__solver=lbfgs .................\n",
      "[CV] .. clf__C=30.0, clf__penalty=l2, clf__solver=lbfgs, total=  25.4s\n",
      "[CV] clf__C=40.0, clf__penalty=l2, clf__solver=lbfgs .................\n",
      "[CV]  clf__C=40.0, clf__penalty=l2, clf__solver=newton-cg, total=  26.3s\n",
      "[CV] clf__C=40.0, clf__penalty=l2, clf__solver=lbfgs .................\n",
      "[CV]  clf__C=40.0, clf__penalty=l2, clf__solver=newton-cg, total=  26.1s\n",
      "[CV]  clf__C=40.0, clf__penalty=l2, clf__solver=newton-cg, total=  26.2s\n",
      "[CV] clf__C=40.0, clf__penalty=l2, clf__solver=lbfgs .................\n",
      "[CV] clf__C=40.0, clf__penalty=l2, clf__solver=lbfgs .................\n"
     ]
    },
    {
     "name": "stderr",
     "output_type": "stream",
     "text": [
      "/usr/lib/python3.6/site-packages/sklearn/linear_model/sag.py:326: ConvergenceWarning: The max_iter was reached which means the coef_ did not converge\n",
      "  \"the coef_ did not converge\", ConvergenceWarning)\n"
     ]
    },
    {
     "name": "stdout",
     "output_type": "stream",
     "text": [
      "[CV]  clf__C=40.0, clf__penalty=l2, clf__solver=newton-cg, total=  27.3s\n",
      "[CV] clf__C=50.0, clf__penalty=l2, clf__solver=newton-cg .............\n"
     ]
    },
    {
     "name": "stderr",
     "output_type": "stream",
     "text": [
      "/usr/lib/python3.6/site-packages/sklearn/linear_model/sag.py:326: ConvergenceWarning: The max_iter was reached which means the coef_ did not converge\n",
      "  \"the coef_ did not converge\", ConvergenceWarning)\n",
      "/usr/lib/python3.6/site-packages/sklearn/linear_model/sag.py:326: ConvergenceWarning: The max_iter was reached which means the coef_ did not converge\n",
      "  \"the coef_ did not converge\", ConvergenceWarning)\n",
      "/usr/lib/python3.6/site-packages/sklearn/linear_model/sag.py:326: ConvergenceWarning: The max_iter was reached which means the coef_ did not converge\n",
      "  \"the coef_ did not converge\", ConvergenceWarning)\n"
     ]
    },
    {
     "name": "stdout",
     "output_type": "stream",
     "text": [
      "[CV]  clf__C=40.0, clf__penalty=l2, clf__solver=newton-cg, total=  17.2s\n",
      "[CV] clf__C=50.0, clf__penalty=l2, clf__solver=newton-cg .............\n",
      "[CV] ... clf__C=40.0, clf__penalty=l2, clf__solver=saga, total=  11.2s\n",
      "[CV] clf__C=50.0, clf__penalty=l2, clf__solver=newton-cg .............\n",
      "[CV] ... clf__C=40.0, clf__penalty=l2, clf__solver=saga, total=   9.4s\n",
      "[CV] clf__C=50.0, clf__penalty=l2, clf__solver=newton-cg .............\n",
      "[CV] ... clf__C=40.0, clf__penalty=l2, clf__solver=saga, total=  17.6s\n",
      "[CV] clf__C=50.0, clf__penalty=l2, clf__solver=newton-cg .............\n",
      "[CV] ... clf__C=40.0, clf__penalty=l2, clf__solver=saga, total=  19.2s\n",
      "[CV] ... clf__C=40.0, clf__penalty=l2, clf__solver=saga, total=  18.7s\n",
      "[CV] clf__C=50.0, clf__penalty=l2, clf__solver=saga ..................\n",
      "[CV] clf__C=50.0, clf__penalty=l2, clf__solver=saga ..................\n",
      "[CV] .. clf__C=40.0, clf__penalty=l2, clf__solver=lbfgs, total=  21.1s\n",
      "[CV] clf__C=50.0, clf__penalty=l2, clf__solver=saga ..................\n",
      "[CV] .. clf__C=40.0, clf__penalty=l2, clf__solver=lbfgs, total=  20.6s\n",
      "[CV] clf__C=50.0, clf__penalty=l2, clf__solver=saga ..................\n",
      "[CV] .. clf__C=40.0, clf__penalty=l2, clf__solver=lbfgs, total=  21.2s\n",
      "[CV] .. clf__C=40.0, clf__penalty=l2, clf__solver=lbfgs, total=  21.3s\n",
      "[CV] clf__C=50.0, clf__penalty=l2, clf__solver=saga ..................\n",
      "[CV] .. clf__C=40.0, clf__penalty=l2, clf__solver=lbfgs, total=  21.1s\n",
      "[CV] clf__C=50.0, clf__penalty=l2, clf__solver=lbfgs .................\n",
      "[CV] clf__C=50.0, clf__penalty=l2, clf__solver=lbfgs .................\n",
      "[CV]  clf__C=50.0, clf__penalty=l2, clf__solver=newton-cg, total=  22.4s\n",
      "[CV] clf__C=50.0, clf__penalty=l2, clf__solver=lbfgs .................\n"
     ]
    },
    {
     "name": "stderr",
     "output_type": "stream",
     "text": [
      "/usr/lib/python3.6/site-packages/sklearn/linear_model/sag.py:326: ConvergenceWarning: The max_iter was reached which means the coef_ did not converge\n",
      "  \"the coef_ did not converge\", ConvergenceWarning)\n",
      "/usr/lib/python3.6/site-packages/sklearn/linear_model/sag.py:326: ConvergenceWarning: The max_iter was reached which means the coef_ did not converge\n",
      "  \"the coef_ did not converge\", ConvergenceWarning)\n"
     ]
    },
    {
     "name": "stdout",
     "output_type": "stream",
     "text": [
      "[CV]  clf__C=50.0, clf__penalty=l2, clf__solver=newton-cg, total=  15.5s\n",
      "[CV] clf__C=50.0, clf__penalty=l2, clf__solver=lbfgs .................\n",
      "[CV]  clf__C=50.0, clf__penalty=l2, clf__solver=newton-cg, total=  18.6s\n",
      "[CV] clf__C=50.0, clf__penalty=l2, clf__solver=lbfgs .................\n"
     ]
    },
    {
     "name": "stderr",
     "output_type": "stream",
     "text": [
      "/usr/lib/python3.6/site-packages/sklearn/linear_model/sag.py:326: ConvergenceWarning: The max_iter was reached which means the coef_ did not converge\n",
      "  \"the coef_ did not converge\", ConvergenceWarning)\n",
      "/usr/lib/python3.6/site-packages/sklearn/linear_model/sag.py:326: ConvergenceWarning: The max_iter was reached which means the coef_ did not converge\n",
      "  \"the coef_ did not converge\", ConvergenceWarning)\n",
      "/usr/lib/python3.6/site-packages/sklearn/linear_model/sag.py:326: ConvergenceWarning: The max_iter was reached which means the coef_ did not converge\n",
      "  \"the coef_ did not converge\", ConvergenceWarning)\n"
     ]
    },
    {
     "name": "stdout",
     "output_type": "stream",
     "text": [
      "[CV]  clf__C=50.0, clf__penalty=l2, clf__solver=newton-cg, total=  19.0s\n",
      "[CV] clf__C=60.0, clf__penalty=l2, clf__solver=newton-cg .............\n",
      "[CV]  clf__C=50.0, clf__penalty=l2, clf__solver=newton-cg, total=  17.8s\n",
      "[CV] ... clf__C=50.0, clf__penalty=l2, clf__solver=saga, total=  16.0s\n",
      "[CV] ... clf__C=50.0, clf__penalty=l2, clf__solver=saga, total=  17.0s\n",
      "[CV] clf__C=60.0, clf__penalty=l2, clf__solver=newton-cg .............\n",
      "[CV] clf__C=60.0, clf__penalty=l2, clf__solver=newton-cg .............\n",
      "[CV] clf__C=60.0, clf__penalty=l2, clf__solver=newton-cg .............\n",
      "[CV] ... clf__C=50.0, clf__penalty=l2, clf__solver=saga, total=  19.9s\n",
      "[CV] ... clf__C=50.0, clf__penalty=l2, clf__solver=saga, total=  19.4s\n",
      "[CV] clf__C=60.0, clf__penalty=l2, clf__solver=newton-cg .............\n",
      "[CV] .. clf__C=50.0, clf__penalty=l2, clf__solver=lbfgs, total=  20.7s\n",
      "[CV] clf__C=60.0, clf__penalty=l2, clf__solver=saga ..................\n",
      "[CV] ... clf__C=50.0, clf__penalty=l2, clf__solver=saga, total=  19.4s\n",
      "[CV] clf__C=60.0, clf__penalty=l2, clf__solver=saga ..................\n",
      "[CV] clf__C=60.0, clf__penalty=l2, clf__solver=saga ..................\n",
      "[CV] .. clf__C=50.0, clf__penalty=l2, clf__solver=lbfgs, total=  24.3s\n",
      "[CV] clf__C=60.0, clf__penalty=l2, clf__solver=saga ..................\n",
      "[CV] .. clf__C=50.0, clf__penalty=l2, clf__solver=lbfgs, total=  23.9s\n",
      "[CV] clf__C=60.0, clf__penalty=l2, clf__solver=saga ..................\n",
      "[CV] .. clf__C=50.0, clf__penalty=l2, clf__solver=lbfgs, total=  22.1s\n",
      "[CV] clf__C=60.0, clf__penalty=l2, clf__solver=lbfgs .................\n"
     ]
    },
    {
     "name": "stderr",
     "output_type": "stream",
     "text": [
      "/usr/lib/python3.6/site-packages/sklearn/linear_model/sag.py:326: ConvergenceWarning: The max_iter was reached which means the coef_ did not converge\n",
      "  \"the coef_ did not converge\", ConvergenceWarning)\n",
      "/usr/lib/python3.6/site-packages/sklearn/linear_model/sag.py:326: ConvergenceWarning: The max_iter was reached which means the coef_ did not converge\n",
      "  \"the coef_ did not converge\", ConvergenceWarning)\n",
      "/usr/lib/python3.6/site-packages/sklearn/linear_model/sag.py:326: ConvergenceWarning: The max_iter was reached which means the coef_ did not converge\n",
      "  \"the coef_ did not converge\", ConvergenceWarning)\n"
     ]
    },
    {
     "name": "stdout",
     "output_type": "stream",
     "text": [
      "[CV] .. clf__C=50.0, clf__penalty=l2, clf__solver=lbfgs, total=  23.6s\n"
     ]
    },
    {
     "name": "stderr",
     "output_type": "stream",
     "text": [
      "/usr/lib/python3.6/site-packages/sklearn/linear_model/sag.py:326: ConvergenceWarning: The max_iter was reached which means the coef_ did not converge\n",
      "  \"the coef_ did not converge\", ConvergenceWarning)\n"
     ]
    },
    {
     "name": "stdout",
     "output_type": "stream",
     "text": [
      "[CV] clf__C=60.0, clf__penalty=l2, clf__solver=lbfgs .................\n"
     ]
    },
    {
     "name": "stderr",
     "output_type": "stream",
     "text": [
      "/usr/lib/python3.6/site-packages/sklearn/linear_model/sag.py:326: ConvergenceWarning: The max_iter was reached which means the coef_ did not converge\n",
      "  \"the coef_ did not converge\", ConvergenceWarning)\n"
     ]
    },
    {
     "name": "stdout",
     "output_type": "stream",
     "text": [
      "[CV]  clf__C=60.0, clf__penalty=l2, clf__solver=newton-cg, total=  23.2s\n",
      "[CV] clf__C=60.0, clf__penalty=l2, clf__solver=lbfgs .................\n",
      "[CV]  clf__C=60.0, clf__penalty=l2, clf__solver=newton-cg, total=  20.0s\n",
      "[CV] clf__C=60.0, clf__penalty=l2, clf__solver=lbfgs .................\n",
      "[CV]  clf__C=60.0, clf__penalty=l2, clf__solver=newton-cg, total=  20.0s\n",
      "[CV]  clf__C=60.0, clf__penalty=l2, clf__solver=newton-cg, total=  19.2s\n",
      "[CV]  clf__C=60.0, clf__penalty=l2, clf__solver=newton-cg, total=  20.1s\n",
      "[CV] ... clf__C=60.0, clf__penalty=l2, clf__solver=saga, total=  18.7s\n",
      "[CV] clf__C=60.0, clf__penalty=l2, clf__solver=lbfgs .................\n",
      "[CV] clf__C=70.0, clf__penalty=l2, clf__solver=newton-cg .............\n",
      "[CV] ... clf__C=60.0, clf__penalty=l2, clf__solver=saga, total=  18.4s\n",
      "[CV] clf__C=70.0, clf__penalty=l2, clf__solver=newton-cg .............\n",
      "[CV] ... clf__C=60.0, clf__penalty=l2, clf__solver=saga, total=  19.1s\n",
      "[CV] clf__C=70.0, clf__penalty=l2, clf__solver=newton-cg .............\n",
      "[CV] clf__C=70.0, clf__penalty=l2, clf__solver=newton-cg .............\n",
      "[CV] clf__C=70.0, clf__penalty=l2, clf__solver=newton-cg .............\n",
      "[CV] ... clf__C=60.0, clf__penalty=l2, clf__solver=saga, total=  17.9s\n",
      "[CV] clf__C=70.0, clf__penalty=l2, clf__solver=saga ..................\n",
      "[CV] ... clf__C=60.0, clf__penalty=l2, clf__solver=saga, total=  15.3s\n",
      "[CV] clf__C=70.0, clf__penalty=l2, clf__solver=saga ..................\n",
      "[CV] .. clf__C=60.0, clf__penalty=l2, clf__solver=lbfgs, total=  19.3s\n",
      "[CV] clf__C=70.0, clf__penalty=l2, clf__solver=saga ..................\n"
     ]
    },
    {
     "name": "stderr",
     "output_type": "stream",
     "text": [
      "/usr/lib/python3.6/site-packages/sklearn/linear_model/sag.py:326: ConvergenceWarning: The max_iter was reached which means the coef_ did not converge\n",
      "  \"the coef_ did not converge\", ConvergenceWarning)\n",
      "/usr/lib/python3.6/site-packages/sklearn/linear_model/sag.py:326: ConvergenceWarning: The max_iter was reached which means the coef_ did not converge\n",
      "  \"the coef_ did not converge\", ConvergenceWarning)\n"
     ]
    },
    {
     "name": "stdout",
     "output_type": "stream",
     "text": [
      "[CV] .. clf__C=60.0, clf__penalty=l2, clf__solver=lbfgs, total=  25.6s\n",
      "[CV] clf__C=70.0, clf__penalty=l2, clf__solver=saga ..................\n",
      "[CV] .. clf__C=60.0, clf__penalty=l2, clf__solver=lbfgs, total=  28.8s\n"
     ]
    },
    {
     "name": "stderr",
     "output_type": "stream",
     "text": [
      "/usr/lib/python3.6/site-packages/sklearn/linear_model/sag.py:326: ConvergenceWarning: The max_iter was reached which means the coef_ did not converge\n",
      "  \"the coef_ did not converge\", ConvergenceWarning)\n"
     ]
    },
    {
     "name": "stdout",
     "output_type": "stream",
     "text": [
      "[CV] clf__C=70.0, clf__penalty=l2, clf__solver=saga ..................\n",
      "[CV] .. clf__C=60.0, clf__penalty=l2, clf__solver=lbfgs, total=  26.5s\n",
      "[CV] .. clf__C=60.0, clf__penalty=l2, clf__solver=lbfgs, total=  25.4s\n",
      "[CV] clf__C=70.0, clf__penalty=l2, clf__solver=lbfgs .................\n",
      "[CV] clf__C=70.0, clf__penalty=l2, clf__solver=lbfgs .................\n",
      "[CV]  clf__C=70.0, clf__penalty=l2, clf__solver=newton-cg, total=  26.2s\n",
      "[CV] clf__C=70.0, clf__penalty=l2, clf__solver=lbfgs .................\n",
      "[CV]  clf__C=70.0, clf__penalty=l2, clf__solver=newton-cg, total=  27.5s\n",
      "[CV] clf__C=70.0, clf__penalty=l2, clf__solver=lbfgs .................\n",
      "[CV]  clf__C=70.0, clf__penalty=l2, clf__solver=newton-cg, total=  28.0s\n",
      "[CV] clf__C=70.0, clf__penalty=l2, clf__solver=lbfgs .................\n",
      "[CV]  clf__C=70.0, clf__penalty=l2, clf__solver=newton-cg, total=  27.4s\n",
      "[CV]  clf__C=70.0, clf__penalty=l2, clf__solver=newton-cg, total=  26.9s\n",
      "[CV] clf__C=80.0, clf__penalty=l2, clf__solver=newton-cg .............\n",
      "[CV] clf__C=80.0, clf__penalty=l2, clf__solver=newton-cg .............\n",
      "[CV] ... clf__C=70.0, clf__penalty=l2, clf__solver=saga, total=  25.6s\n",
      "[CV] clf__C=80.0, clf__penalty=l2, clf__solver=newton-cg .............\n"
     ]
    },
    {
     "name": "stderr",
     "output_type": "stream",
     "text": [
      "/usr/lib/python3.6/site-packages/sklearn/linear_model/sag.py:326: ConvergenceWarning: The max_iter was reached which means the coef_ did not converge\n",
      "  \"the coef_ did not converge\", ConvergenceWarning)\n"
     ]
    },
    {
     "name": "stdout",
     "output_type": "stream",
     "text": [
      "[CV] ... clf__C=70.0, clf__penalty=l2, clf__solver=saga, total=  20.6s\n",
      "[CV] clf__C=80.0, clf__penalty=l2, clf__solver=newton-cg .............\n"
     ]
    },
    {
     "name": "stderr",
     "output_type": "stream",
     "text": [
      "/usr/lib/python3.6/site-packages/sklearn/linear_model/sag.py:326: ConvergenceWarning: The max_iter was reached which means the coef_ did not converge\n",
      "  \"the coef_ did not converge\", ConvergenceWarning)\n"
     ]
    },
    {
     "name": "stdout",
     "output_type": "stream",
     "text": [
      "[CV] ... clf__C=70.0, clf__penalty=l2, clf__solver=saga, total=   8.8s\n",
      "[CV] clf__C=80.0, clf__penalty=l2, clf__solver=newton-cg .............\n",
      "[CV] ... clf__C=70.0, clf__penalty=l2, clf__solver=saga, total=  11.9s\n",
      "[CV] clf__C=80.0, clf__penalty=l2, clf__solver=saga ..................\n",
      "[CV] ... clf__C=70.0, clf__penalty=l2, clf__solver=saga, total=  21.9s\n",
      "[CV] clf__C=80.0, clf__penalty=l2, clf__solver=saga ..................\n",
      "[CV] .. clf__C=70.0, clf__penalty=l2, clf__solver=lbfgs, total=  23.3s\n",
      "[CV] clf__C=80.0, clf__penalty=l2, clf__solver=saga ..................\n",
      "[CV] .. clf__C=70.0, clf__penalty=l2, clf__solver=lbfgs, total=  25.5s\n",
      "[CV] .. clf__C=70.0, clf__penalty=l2, clf__solver=lbfgs, total=  25.1s\n",
      "[CV] clf__C=80.0, clf__penalty=l2, clf__solver=saga ..................\n",
      "[CV] clf__C=80.0, clf__penalty=l2, clf__solver=saga ..................\n",
      "[CV] .. clf__C=70.0, clf__penalty=l2, clf__solver=lbfgs, total=  25.2s\n",
      "[CV] clf__C=80.0, clf__penalty=l2, clf__solver=lbfgs .................\n",
      "[CV] .. clf__C=70.0, clf__penalty=l2, clf__solver=lbfgs, total=  26.0s\n",
      "[CV]  clf__C=80.0, clf__penalty=l2, clf__solver=newton-cg, total=  26.1s\n",
      "[CV] clf__C=80.0, clf__penalty=l2, clf__solver=lbfgs .................\n",
      "[CV] clf__C=80.0, clf__penalty=l2, clf__solver=lbfgs .................\n",
      "[CV]  clf__C=80.0, clf__penalty=l2, clf__solver=newton-cg, total=  27.8s\n",
      "[CV] clf__C=80.0, clf__penalty=l2, clf__solver=lbfgs .................\n"
     ]
    },
    {
     "name": "stderr",
     "output_type": "stream",
     "text": [
      "/usr/lib/python3.6/site-packages/sklearn/linear_model/sag.py:326: ConvergenceWarning: The max_iter was reached which means the coef_ did not converge\n",
      "  \"the coef_ did not converge\", ConvergenceWarning)\n"
     ]
    },
    {
     "name": "stdout",
     "output_type": "stream",
     "text": [
      "[CV]  clf__C=80.0, clf__penalty=l2, clf__solver=newton-cg, total=  27.2s\n",
      "[CV] clf__C=80.0, clf__penalty=l2, clf__solver=lbfgs .................\n",
      "[CV]  clf__C=80.0, clf__penalty=l2, clf__solver=newton-cg, total=  27.5s\n",
      "[CV] clf__C=90.0, clf__penalty=l2, clf__solver=newton-cg .............\n"
     ]
    },
    {
     "name": "stderr",
     "output_type": "stream",
     "text": [
      "/usr/lib/python3.6/site-packages/sklearn/linear_model/sag.py:326: ConvergenceWarning: The max_iter was reached which means the coef_ did not converge\n",
      "  \"the coef_ did not converge\", ConvergenceWarning)\n",
      "/usr/lib/python3.6/site-packages/sklearn/linear_model/sag.py:326: ConvergenceWarning: The max_iter was reached which means the coef_ did not converge\n",
      "  \"the coef_ did not converge\", ConvergenceWarning)\n",
      "/usr/lib/python3.6/site-packages/sklearn/linear_model/sag.py:326: ConvergenceWarning: The max_iter was reached which means the coef_ did not converge\n",
      "  \"the coef_ did not converge\", ConvergenceWarning)\n",
      "/usr/lib/python3.6/site-packages/sklearn/linear_model/sag.py:326: ConvergenceWarning: The max_iter was reached which means the coef_ did not converge\n",
      "  \"the coef_ did not converge\", ConvergenceWarning)\n"
     ]
    },
    {
     "name": "stdout",
     "output_type": "stream",
     "text": [
      "[CV]  clf__C=80.0, clf__penalty=l2, clf__solver=newton-cg, total=  17.0s\n",
      "[CV] clf__C=90.0, clf__penalty=l2, clf__solver=newton-cg .............\n",
      "[CV] ... clf__C=80.0, clf__penalty=l2, clf__solver=saga, total=  11.0s\n",
      "[CV] clf__C=90.0, clf__penalty=l2, clf__solver=newton-cg .............\n",
      "[CV] ... clf__C=80.0, clf__penalty=l2, clf__solver=saga, total=  13.6s\n",
      "[CV] clf__C=90.0, clf__penalty=l2, clf__solver=newton-cg .............\n",
      "[CV] ... clf__C=80.0, clf__penalty=l2, clf__solver=saga, total=  16.8s\n",
      "[CV] clf__C=90.0, clf__penalty=l2, clf__solver=newton-cg .............\n",
      "[CV] ... clf__C=80.0, clf__penalty=l2, clf__solver=saga, total=  18.5s\n",
      "[CV] ... clf__C=80.0, clf__penalty=l2, clf__solver=saga, total=  18.1s\n",
      "[CV] clf__C=90.0, clf__penalty=l2, clf__solver=saga ..................\n",
      "[CV] clf__C=90.0, clf__penalty=l2, clf__solver=saga ..................\n",
      "[CV] .. clf__C=80.0, clf__penalty=l2, clf__solver=lbfgs, total=  20.4s\n",
      "[CV] clf__C=90.0, clf__penalty=l2, clf__solver=saga ..................\n",
      "[CV] .. clf__C=80.0, clf__penalty=l2, clf__solver=lbfgs, total=  21.0s\n",
      "[CV] clf__C=90.0, clf__penalty=l2, clf__solver=saga ..................\n",
      "[CV] .. clf__C=80.0, clf__penalty=l2, clf__solver=lbfgs, total=  21.3s\n",
      "[CV] clf__C=90.0, clf__penalty=l2, clf__solver=saga ..................\n",
      "[CV] .. clf__C=80.0, clf__penalty=l2, clf__solver=lbfgs, total=  22.4s\n",
      "[CV] clf__C=90.0, clf__penalty=l2, clf__solver=lbfgs .................\n",
      "[CV]  clf__C=90.0, clf__penalty=l2, clf__solver=newton-cg, total=  23.3s\n",
      "[CV] clf__C=90.0, clf__penalty=l2, clf__solver=lbfgs .................\n",
      "[CV] .. clf__C=80.0, clf__penalty=l2, clf__solver=lbfgs, total=  24.6s\n",
      "[CV] clf__C=90.0, clf__penalty=l2, clf__solver=lbfgs .................\n"
     ]
    },
    {
     "name": "stderr",
     "output_type": "stream",
     "text": [
      "/usr/lib/python3.6/site-packages/sklearn/linear_model/sag.py:326: ConvergenceWarning: The max_iter was reached which means the coef_ did not converge\n",
      "  \"the coef_ did not converge\", ConvergenceWarning)\n",
      "/usr/lib/python3.6/site-packages/sklearn/linear_model/sag.py:326: ConvergenceWarning: The max_iter was reached which means the coef_ did not converge\n",
      "  \"the coef_ did not converge\", ConvergenceWarning)\n",
      "/usr/lib/python3.6/site-packages/sklearn/linear_model/sag.py:326: ConvergenceWarning: The max_iter was reached which means the coef_ did not converge\n",
      "  \"the coef_ did not converge\", ConvergenceWarning)\n",
      "/usr/lib/python3.6/site-packages/sklearn/linear_model/sag.py:326: ConvergenceWarning: The max_iter was reached which means the coef_ did not converge\n",
      "  \"the coef_ did not converge\", ConvergenceWarning)\n",
      "/usr/lib/python3.6/site-packages/sklearn/linear_model/sag.py:326: ConvergenceWarning: The max_iter was reached which means the coef_ did not converge\n",
      "  \"the coef_ did not converge\", ConvergenceWarning)\n"
     ]
    },
    {
     "name": "stdout",
     "output_type": "stream",
     "text": [
      "[CV]  clf__C=90.0, clf__penalty=l2, clf__solver=newton-cg, total=  19.9s\n",
      "[CV] clf__C=90.0, clf__penalty=l2, clf__solver=lbfgs .................\n",
      "[CV]  clf__C=90.0, clf__penalty=l2, clf__solver=newton-cg, total=  18.7s\n",
      "[CV] clf__C=90.0, clf__penalty=l2, clf__solver=lbfgs .................\n",
      "[CV]  clf__C=90.0, clf__penalty=l2, clf__solver=newton-cg, total=  19.8s\n",
      "[CV] clf__C=100.0, clf__penalty=l2, clf__solver=newton-cg ............\n",
      "[CV]  clf__C=90.0, clf__penalty=l2, clf__solver=newton-cg, total=  20.2s\n",
      "[CV] clf__C=100.0, clf__penalty=l2, clf__solver=newton-cg ............\n",
      "[CV] ... clf__C=90.0, clf__penalty=l2, clf__solver=saga, total=  17.5s\n",
      "[CV] ... clf__C=90.0, clf__penalty=l2, clf__solver=saga, total=  19.3s\n",
      "[CV] clf__C=100.0, clf__penalty=l2, clf__solver=newton-cg ............\n",
      "[CV] clf__C=100.0, clf__penalty=l2, clf__solver=newton-cg ............\n",
      "[CV] ... clf__C=90.0, clf__penalty=l2, clf__solver=saga, total=  20.5s\n",
      "[CV] ... clf__C=90.0, clf__penalty=l2, clf__solver=saga, total=  18.5s\n",
      "[CV] clf__C=100.0, clf__penalty=l2, clf__solver=newton-cg ............\n",
      "[CV] clf__C=100.0, clf__penalty=l2, clf__solver=saga .................\n",
      "[CV] ... clf__C=90.0, clf__penalty=l2, clf__solver=saga, total=  21.0s\n",
      "[CV] clf__C=100.0, clf__penalty=l2, clf__solver=saga .................\n",
      "[CV] .. clf__C=90.0, clf__penalty=l2, clf__solver=lbfgs, total=  20.3s\n",
      "[CV] clf__C=100.0, clf__penalty=l2, clf__solver=saga .................\n",
      "[CV] .. clf__C=90.0, clf__penalty=l2, clf__solver=lbfgs, total=  19.9s\n",
      "[CV] clf__C=100.0, clf__penalty=l2, clf__solver=saga .................\n",
      "[CV] .. clf__C=90.0, clf__penalty=l2, clf__solver=lbfgs, total=  18.2s\n",
      "[CV] clf__C=100.0, clf__penalty=l2, clf__solver=saga .................\n"
     ]
    },
    {
     "name": "stderr",
     "output_type": "stream",
     "text": [
      "/usr/lib/python3.6/site-packages/sklearn/linear_model/sag.py:326: ConvergenceWarning: The max_iter was reached which means the coef_ did not converge\n",
      "  \"the coef_ did not converge\", ConvergenceWarning)\n",
      "/usr/lib/python3.6/site-packages/sklearn/linear_model/sag.py:326: ConvergenceWarning: The max_iter was reached which means the coef_ did not converge\n",
      "  \"the coef_ did not converge\", ConvergenceWarning)\n",
      "/usr/lib/python3.6/site-packages/sklearn/linear_model/sag.py:326: ConvergenceWarning: The max_iter was reached which means the coef_ did not converge\n",
      "  \"the coef_ did not converge\", ConvergenceWarning)\n",
      "/usr/lib/python3.6/site-packages/sklearn/linear_model/sag.py:326: ConvergenceWarning: The max_iter was reached which means the coef_ did not converge\n",
      "  \"the coef_ did not converge\", ConvergenceWarning)\n"
     ]
    },
    {
     "name": "stdout",
     "output_type": "stream",
     "text": [
      "[CV] .. clf__C=90.0, clf__penalty=l2, clf__solver=lbfgs, total=  22.8s\n",
      "[CV] clf__C=100.0, clf__penalty=l2, clf__solver=lbfgs ................\n",
      "[CV] .. clf__C=90.0, clf__penalty=l2, clf__solver=lbfgs, total=  22.6s\n"
     ]
    },
    {
     "name": "stderr",
     "output_type": "stream",
     "text": [
      "/usr/lib/python3.6/site-packages/sklearn/linear_model/sag.py:326: ConvergenceWarning: The max_iter was reached which means the coef_ did not converge\n",
      "  \"the coef_ did not converge\", ConvergenceWarning)\n"
     ]
    },
    {
     "name": "stdout",
     "output_type": "stream",
     "text": [
      "[CV] clf__C=100.0, clf__penalty=l2, clf__solver=lbfgs ................\n",
      "[CV]  clf__C=100.0, clf__penalty=l2, clf__solver=newton-cg, total=  23.5s\n",
      "[CV]  clf__C=100.0, clf__penalty=l2, clf__solver=newton-cg, total=  24.7s\n",
      "[CV] clf__C=100.0, clf__penalty=l2, clf__solver=lbfgs ................\n",
      "[CV]  clf__C=100.0, clf__penalty=l2, clf__solver=newton-cg, total=  24.9s\n",
      "[CV] clf__C=100.0, clf__penalty=l2, clf__solver=lbfgs ................\n",
      "[CV]  clf__C=100.0, clf__penalty=l2, clf__solver=newton-cg, total=  24.8s\n",
      "[CV] clf__C=100.0, clf__penalty=l2, clf__solver=lbfgs ................\n",
      "[CV] .. clf__C=100.0, clf__penalty=l2, clf__solver=saga, total=  23.8s\n",
      "[CV] .. clf__C=100.0, clf__penalty=l2, clf__solver=saga, total=  21.9s\n",
      "[CV]  clf__C=100.0, clf__penalty=l2, clf__solver=newton-cg, total=  26.0s\n",
      "[CV] .. clf__C=100.0, clf__penalty=l2, clf__solver=saga, total=  22.4s\n",
      "[CV] .. clf__C=100.0, clf__penalty=l2, clf__solver=saga, total=  14.0s\n",
      "[CV] .. clf__C=100.0, clf__penalty=l2, clf__solver=saga, total=  11.8s\n",
      "[CV] . clf__C=100.0, clf__penalty=l2, clf__solver=lbfgs, total=  14.3s\n",
      "[CV] . clf__C=100.0, clf__penalty=l2, clf__solver=lbfgs, total=  18.2s\n",
      "[CV] . clf__C=100.0, clf__penalty=l2, clf__solver=lbfgs, total=  16.3s\n",
      "[CV] . clf__C=100.0, clf__penalty=l2, clf__solver=lbfgs, total=  16.0s\n",
      "[CV] . clf__C=100.0, clf__penalty=l2, clf__solver=lbfgs, total=  16.7s\n"
     ]
    },
    {
     "name": "stderr",
     "output_type": "stream",
     "text": [
      "[Parallel(n_jobs=-1)]: Done 360 out of 360 | elapsed: 16.5min finished\n"
     ]
    },
    {
     "data": {
      "text/plain": [
       "GridSearchCV(cv=5, error_score='raise',\n",
       "       estimator=Pipeline(memory=None,\n",
       "     steps=[('vect', TfidfVectorizer(analyzer='word', binary=False, decode_error='strict',\n",
       "        dtype=<class 'numpy.int64'>, encoding='utf-8', input='content',\n",
       "        lowercase=False, max_df=1.0, max_features=None, min_df=1,\n",
       "        ngram_range=(1, 1), norm='l2', preprocessor=None, smooth_idf=True,\n",
       " ...alty='l2', random_state=42, solver='liblinear',\n",
       "          tol=0.0001, verbose=0, warm_start=False))]),\n",
       "       fit_params=None, iid=True, n_jobs=-1,\n",
       "       param_grid=[{'clf__penalty': ['l2'], 'clf__C': [1.0, 10.0, 15.0, 20.0, 30.0, 40.0, 50.0, 60.0, 70.0, 80.0, 90.0, 100.0], 'clf__solver': ['newton-cg', 'saga', 'lbfgs']}, {'clf__penalty': ['l2'], 'clf__C': [1.0, 10.0, 15.0, 20.0, 30.0, 40.0, 50.0, 60.0, 70.0, 80.0, 90.0, 100.0], 'clf__solver': ['newton-cg', 'saga', 'lbfgs']}],\n",
       "       pre_dispatch='2*n_jobs', refit='f1_micro',\n",
       "       return_train_score='warn', scoring=['accuracy', 'f1_micro'],\n",
       "       verbose=2)"
      ]
     },
     "execution_count": 12,
     "metadata": {},
     "output_type": "execute_result"
    }
   ],
   "source": [
    "gs_lr_tfidf.fit(X_train, y_train)"
   ]
  },
  {
   "cell_type": "code",
   "execution_count": 13,
   "metadata": {},
   "outputs": [],
   "source": [
    "best_parameters = gs_lr_tfidf.best_params_\n",
    "best_estimator = gs_lr_tfidf.best_estimator_\n",
    "result = gs_lr_tfidf.cv_results_"
   ]
  },
  {
   "cell_type": "code",
   "execution_count": 14,
   "metadata": {},
   "outputs": [
    {
     "data": {
      "text/plain": [
       "{'clf__C': 80.0, 'clf__penalty': 'l2', 'clf__solver': 'lbfgs'}"
      ]
     },
     "execution_count": 14,
     "metadata": {},
     "output_type": "execute_result"
    }
   ],
   "source": [
    "best_parameters"
   ]
  },
  {
   "cell_type": "code",
   "execution_count": 15,
   "metadata": {},
   "outputs": [
    {
     "name": "stdout",
     "output_type": "stream",
     "text": [
      "0.9481199971005188\n",
      "0.9492274873664154\n",
      "0.9479744843012178\n",
      "0.9488743450075596\n",
      "0.9506969326678126\n"
     ]
    }
   ],
   "source": [
    "# PERFORMANCE MEASURE\n",
    "#####################\n",
    "# Stratified k-fold CV\n",
    "skfolds = StratifiedKFold(n_splits=5, random_state=42, shuffle=True)\n",
    "\n",
    "for train_index, test_index in skfolds.split(X_train, y_train):\n",
    "    clone_estimator = clone(best_estimator)\n",
    "    X_train_folds = X_train[train_index]\n",
    "    y_train_folds = (y_train[train_index])\n",
    "    X_test_fold = X_train[test_index]\n",
    "    y_test_fold = (y_train[test_index])\n",
    "\n",
    "    clone_estimator.fit(X_train_folds, y_train_folds)\n",
    "    y_pred = clone_estimator.predict(X_test_fold)\n",
    "    n_correct = sum(y_pred == y_test_fold)\n",
    "    print(n_correct / len(y_pred))"
   ]
  },
  {
   "cell_type": "code",
   "execution_count": 30,
   "metadata": {},
   "outputs": [
    {
     "data": {
      "text/plain": [
       "array([0.22451537, 0.22286886, 0.22508725, 0.22405169, 0.22427952])"
      ]
     },
     "execution_count": 30,
     "metadata": {},
     "output_type": "execute_result"
    }
   ],
   "source": [
    "# Dumb Classifier\n",
    "from sklearn.base import BaseEstimator\n",
    "class DumbClassifier(BaseEstimator):\n",
    "    def fit(self, X, y=None):\n",
    "        pass\n",
    "    def predict(self, X):\n",
    "        return np.zeros((len(X), 1), dtype=bool)\n",
    "dumb = DumbClassifier()\n",
    "cross_val_score(dumb, X_train, y_train, cv=5, scoring='accuracy')"
   ]
  },
  {
   "cell_type": "code",
   "execution_count": 16,
   "metadata": {},
   "outputs": [
    {
     "name": "stderr",
     "output_type": "stream",
     "text": [
      "[Parallel(n_jobs=-1)]: Done   3 out of   5 | elapsed:   13.5s remaining:    9.0s\n",
      "[Parallel(n_jobs=-1)]: Done   5 out of   5 | elapsed:   14.4s finished\n"
     ]
    }
   ],
   "source": [
    "y_train_pred = cross_val_predict(best_estimator, X_train, y_train, cv=5,\n",
    "        verbose=2, n_jobs=-1)\n",
    "\n",
    "conf_mx = confusion_matrix(y_train, y_train_pred)"
   ]
  },
  {
   "cell_type": "code",
   "execution_count": 17,
   "metadata": {},
   "outputs": [
    {
     "data": {
      "text/plain": [
       "array([[  9434,    545,     74],\n",
       "       [  5294, 101051,   1888],\n",
       "       [  2528,  14881, 347142]])"
      ]
     },
     "execution_count": 17,
     "metadata": {},
     "output_type": "execute_result"
    }
   ],
   "source": [
    "conf_mx"
   ]
  },
  {
   "cell_type": "code",
   "execution_count": 18,
   "metadata": {},
   "outputs": [
    {
     "data": {
      "text/plain": [
       "(0.9477877627439488, 0.9477877627439488)"
      ]
     },
     "execution_count": 18,
     "metadata": {},
     "output_type": "execute_result"
    }
   ],
   "source": [
    "(precision_score(y_train, y_train_pred, average='micro'),\n",
    "        recall_score(y_train, y_train_pred, average='micro'))"
   ]
  },
  {
   "cell_type": "code",
   "execution_count": 19,
   "metadata": {},
   "outputs": [
    {
     "data": {
      "text/plain": [
       "0.9477877627439488"
      ]
     },
     "execution_count": 19,
     "metadata": {},
     "output_type": "execute_result"
    }
   ],
   "source": [
    "f1_score(y_train, y_train_pred, average='micro')"
   ]
  },
  {
   "cell_type": "code",
   "execution_count": 20,
   "metadata": {},
   "outputs": [
    {
     "name": "stderr",
     "output_type": "stream",
     "text": [
      "[Parallel(n_jobs=-1)]: Done   3 out of   5 | elapsed:    4.7s remaining:    3.2s\n",
      "[Parallel(n_jobs=-1)]: Done   5 out of   5 | elapsed:    5.0s finished\n"
     ]
    }
   ],
   "source": [
    "# TEST MODEL ON TEST DATA\n",
    "#########################\n",
    "y_test_pred = cross_val_predict(best_estimator, X_test, y_test, cv=5,\n",
    "        verbose=2, n_jobs=-1)\n",
    "\n",
    "conf_mx = confusion_matrix(y_test, y_test_pred)"
   ]
  },
  {
   "cell_type": "code",
   "execution_count": 21,
   "metadata": {},
   "outputs": [
    {
     "data": {
      "text/plain": [
       "array([[ 2291,   189,    33],\n",
       "       [ 1955, 24489,   615],\n",
       "       [ 1260,  5667, 84211]])"
      ]
     },
     "execution_count": 21,
     "metadata": {},
     "output_type": "execute_result"
    }
   ],
   "source": [
    "conf_mx"
   ]
  },
  {
   "cell_type": "code",
   "execution_count": 22,
   "metadata": {},
   "outputs": [
    {
     "data": {
      "text/plain": [
       "(0.919484715433684, 0.919484715433684)"
      ]
     },
     "execution_count": 22,
     "metadata": {},
     "output_type": "execute_result"
    }
   ],
   "source": [
    "(precision_score(y_test, y_test_pred, average='micro'),\n",
    "        recall_score(y_test, y_test_pred, average='micro'))"
   ]
  },
  {
   "cell_type": "code",
   "execution_count": 23,
   "metadata": {},
   "outputs": [
    {
     "data": {
      "text/plain": [
       "0.919484715433684"
      ]
     },
     "execution_count": 23,
     "metadata": {},
     "output_type": "execute_result"
    }
   ],
   "source": [
    "f1_score(y_test, y_test_pred, average='micro')"
   ]
  },
  {
   "cell_type": "code",
   "execution_count": 24,
   "metadata": {},
   "outputs": [
    {
     "data": {
      "text/plain": [
       "['./training/sentiment_logreg_undersample.pkl']"
      ]
     },
     "execution_count": 24,
     "metadata": {},
     "output_type": "execute_result"
    }
   ],
   "source": [
    "# save fitted model to file\n",
    "joblib.dump(best_estimator, './training/sentiment_logreg_undersample.pkl')"
   ]
  },
  {
   "cell_type": "markdown",
   "metadata": {},
   "source": [
    "# 2 - Decision Trees"
   ]
  },
  {
   "cell_type": "code",
   "execution_count": 6,
   "metadata": {},
   "outputs": [],
   "source": [
    "from sklearn.tree import DecisionTreeClassifier"
   ]
  },
  {
   "cell_type": "code",
   "execution_count": 26,
   "metadata": {},
   "outputs": [],
   "source": [
    "# The text data is already cleaned\n",
    "inputfile = './csvfiles/output_sentiment.csv'\n",
    "review = pd.read_csv(inputfile, skip_blank_lines=False)\n",
    "review = review[['text', 'ovsentiment']]\n",
    "# exclude NaN in 'text' column (count: 11248)\n",
    "review = review[~pd.isna(review['text'])]\n",
    "X = review['text'].values\n",
    "y = review['ovsentiment'].values\n",
    "\n",
    "# len(review[review['ovsentiment'] == -1])\n",
    "# total number of -1 (negative review) is 12566\n",
    "\n",
    "# len(review[review['ovsentiment'] == 0])\n",
    "# total number of 0 (neutral) is 135292\n",
    "\n",
    "# len(review[review['ovsentiment'] == 1])\n",
    "# total number of 1 (positive review) is 455689\n",
    "\n",
    "# splitting the dataset into the training set and test set\n",
    "# stratify=y --> stratified sampling\n",
    "X_train, X_test, y_train, y_test = train_test_split(X, y, test_size=0.5, \n",
    "        random_state=42, shuffle=True, stratify=y)"
   ]
  },
  {
   "cell_type": "code",
   "execution_count": 27,
   "metadata": {},
   "outputs": [
    {
     "data": {
      "text/plain": [
       "(301773,)"
      ]
     },
     "execution_count": 27,
     "metadata": {},
     "output_type": "execute_result"
    }
   ],
   "source": [
    "X_train.shape"
   ]
  },
  {
   "cell_type": "code",
   "execution_count": 28,
   "metadata": {},
   "outputs": [],
   "source": [
    "rus = RandomUnderSampler(random_state=42, replacement=True)"
   ]
  },
  {
   "cell_type": "code",
   "execution_count": 29,
   "metadata": {},
   "outputs": [],
   "source": [
    "tfidf = TfidfVectorizer(strip_accents=None, lowercase=False, preprocessor=None,\n",
    "                       ngram_range=(1,1), stop_words=None, tokenizer=str.split)"
   ]
  },
  {
   "cell_type": "code",
   "execution_count": 30,
   "metadata": {},
   "outputs": [],
   "source": [
    "param_grid = [{'clf__max_depth': [5, 6, 7],\n",
    "               'clf__min_samples_leaf': [4, 5, 6],\n",
    "               'clf__min_samples_split': [5, 6, 7],\n",
    "               'clf__max_features': ['auto', 'log2', 'sqrt']\n",
    "              }, \n",
    "              {'clf__max_depth': [5, 6, 7],\n",
    "               'clf__min_samples_leaf': [4, 5, 6],\n",
    "               'clf__min_samples_split': [5, 6, 7],\n",
    "               'clf__max_features': ['auto', 'log2','sqrt']\n",
    "              }\n",
    "             ]"
   ]
  },
  {
   "cell_type": "code",
   "execution_count": 32,
   "metadata": {},
   "outputs": [],
   "source": [
    "lr_tfidf = Pipeline([('vect', tfidf),\n",
    "                     ('rus', rus),\n",
    "                     ('clf', DecisionTreeClassifier(random_state=42)\n",
    "                     )\n",
    "                    ])"
   ]
  },
  {
   "cell_type": "code",
   "execution_count": 33,
   "metadata": {},
   "outputs": [],
   "source": [
    "gs_lr_tfidf = GridSearchCV(estimator=lr_tfidf,\n",
    "        param_grid=param_grid,\n",
    "        scoring=['accuracy', 'f1_micro'],\n",
    "        cv=5,\n",
    "        verbose=2,\n",
    "        refit='f1_micro',\n",
    "        n_jobs=-1)"
   ]
  },
  {
   "cell_type": "code",
   "execution_count": 34,
   "metadata": {
    "scrolled": true
   },
   "outputs": [
    {
     "name": "stdout",
     "output_type": "stream",
     "text": [
      "Fitting 5 folds for each of 162 candidates, totalling 810 fits\n",
      "[CV] clf__max_depth=5, clf__max_features=auto, clf__min_samples_leaf=4, clf__min_samples_split=5 \n",
      "[CV] clf__max_depth=5, clf__max_features=auto, clf__min_samples_leaf=4, clf__min_samples_split=5 \n",
      "[CV] clf__max_depth=5, clf__max_features=auto, clf__min_samples_leaf=4, clf__min_samples_split=5 \n",
      "[CV] clf__max_depth=5, clf__max_features=auto, clf__min_samples_leaf=4, clf__min_samples_split=5 \n",
      "[CV] clf__max_depth=5, clf__max_features=auto, clf__min_samples_leaf=4, clf__min_samples_split=5 \n",
      "[CV] clf__max_depth=5, clf__max_features=auto, clf__min_samples_leaf=4, clf__min_samples_split=6 \n",
      "[CV] clf__max_depth=5, clf__max_features=auto, clf__min_samples_leaf=4, clf__min_samples_split=6 \n",
      "[CV] clf__max_depth=5, clf__max_features=auto, clf__min_samples_leaf=4, clf__min_samples_split=6 \n",
      "[CV] clf__max_depth=5, clf__max_features=auto, clf__min_samples_leaf=4, clf__min_samples_split=6 \n",
      "[CV] clf__max_depth=5, clf__max_features=auto, clf__min_samples_leaf=4, clf__min_samples_split=6 \n",
      "[CV] clf__max_depth=5, clf__max_features=auto, clf__min_samples_leaf=4, clf__min_samples_split=7 \n",
      "[CV] clf__max_depth=5, clf__max_features=auto, clf__min_samples_leaf=4, clf__min_samples_split=7 \n",
      "[CV]  clf__max_depth=5, clf__max_features=auto, clf__min_samples_leaf=4, clf__min_samples_split=5, total=   3.2s\n",
      "[CV]  clf__max_depth=5, clf__max_features=auto, clf__min_samples_leaf=4, clf__min_samples_split=5, total=   3.3s\n",
      "[CV] clf__max_depth=5, clf__max_features=auto, clf__min_samples_leaf=4, clf__min_samples_split=7 \n",
      "[CV] clf__max_depth=5, clf__max_features=auto, clf__min_samples_leaf=4, clf__min_samples_split=7 \n",
      "[CV]  clf__max_depth=5, clf__max_features=auto, clf__min_samples_leaf=4, clf__min_samples_split=5, total=   3.4s\n",
      "[CV]  clf__max_depth=5, clf__max_features=auto, clf__min_samples_leaf=4, clf__min_samples_split=5, total=   3.5s\n",
      "[CV] clf__max_depth=5, clf__max_features=auto, clf__min_samples_leaf=4, clf__min_samples_split=7 \n",
      "[CV]  clf__max_depth=5, clf__max_features=auto, clf__min_samples_leaf=4, clf__min_samples_split=6, total=   3.5s\n",
      "[CV] clf__max_depth=5, clf__max_features=auto, clf__min_samples_leaf=5, clf__min_samples_split=5 \n",
      "[CV]  clf__max_depth=5, clf__max_features=auto, clf__min_samples_leaf=4, clf__min_samples_split=5, total=   3.4s\n",
      "[CV]  clf__max_depth=5, clf__max_features=auto, clf__min_samples_leaf=4, clf__min_samples_split=6, total=   3.5s\n",
      "[CV]  clf__max_depth=5, clf__max_features=auto, clf__min_samples_leaf=4, clf__min_samples_split=6, total=   3.4s\n",
      "[CV] clf__max_depth=5, clf__max_features=auto, clf__min_samples_leaf=5, clf__min_samples_split=5 \n",
      "[CV] clf__max_depth=5, clf__max_features=auto, clf__min_samples_leaf=5, clf__min_samples_split=5 \n",
      "[CV] clf__max_depth=5, clf__max_features=auto, clf__min_samples_leaf=5, clf__min_samples_split=5 \n",
      "[CV]  clf__max_depth=5, clf__max_features=auto, clf__min_samples_leaf=4, clf__min_samples_split=6, total=   3.6s\n",
      "[CV] clf__max_depth=5, clf__max_features=auto, clf__min_samples_leaf=5, clf__min_samples_split=5 \n",
      "[CV]  clf__max_depth=5, clf__max_features=auto, clf__min_samples_leaf=4, clf__min_samples_split=6, total=   3.5s\n",
      "[CV] clf__max_depth=5, clf__max_features=auto, clf__min_samples_leaf=5, clf__min_samples_split=6 \n",
      "[CV]  clf__max_depth=5, clf__max_features=auto, clf__min_samples_leaf=4, clf__min_samples_split=7, total=   3.7s\n",
      "[CV]  clf__max_depth=5, clf__max_features=auto, clf__min_samples_leaf=4, clf__min_samples_split=7, total=   3.6s\n",
      "[CV] clf__max_depth=5, clf__max_features=auto, clf__min_samples_leaf=5, clf__min_samples_split=6 \n",
      "[CV] clf__max_depth=5, clf__max_features=auto, clf__min_samples_leaf=5, clf__min_samples_split=6 \n",
      "[CV] clf__max_depth=5, clf__max_features=auto, clf__min_samples_leaf=5, clf__min_samples_split=6 \n",
      "[CV]  clf__max_depth=5, clf__max_features=auto, clf__min_samples_leaf=4, clf__min_samples_split=7, total=   3.8s\n",
      "[CV]  clf__max_depth=5, clf__max_features=auto, clf__min_samples_leaf=4, clf__min_samples_split=7, total=   3.6s\n",
      "[CV] clf__max_depth=5, clf__max_features=auto, clf__min_samples_leaf=5, clf__min_samples_split=6 \n",
      "[CV] clf__max_depth=5, clf__max_features=auto, clf__min_samples_leaf=5, clf__min_samples_split=7 \n",
      "[CV]  clf__max_depth=5, clf__max_features=auto, clf__min_samples_leaf=5, clf__min_samples_split=5, total=   3.5s\n",
      "[CV]  clf__max_depth=5, clf__max_features=auto, clf__min_samples_leaf=4, clf__min_samples_split=7, total=   3.7s\n",
      "[CV] clf__max_depth=5, clf__max_features=auto, clf__min_samples_leaf=5, clf__min_samples_split=7 \n",
      "[CV]  clf__max_depth=5, clf__max_features=auto, clf__min_samples_leaf=5, clf__min_samples_split=5, total=   3.6s\n",
      "[CV] clf__max_depth=5, clf__max_features=auto, clf__min_samples_leaf=5, clf__min_samples_split=7 \n"
     ]
    },
    {
     "name": "stderr",
     "output_type": "stream",
     "text": [
      "[Parallel(n_jobs=-1)]: Done  17 tasks      | elapsed:   16.5s\n"
     ]
    },
    {
     "name": "stdout",
     "output_type": "stream",
     "text": [
      "[CV] clf__max_depth=5, clf__max_features=auto, clf__min_samples_leaf=5, clf__min_samples_split=7 \n",
      "[CV]  clf__max_depth=5, clf__max_features=auto, clf__min_samples_leaf=5, clf__min_samples_split=5, total=   3.6s\n",
      "[CV]  clf__max_depth=5, clf__max_features=auto, clf__min_samples_leaf=5, clf__min_samples_split=5, total=   3.7s\n",
      "[CV] clf__max_depth=5, clf__max_features=auto, clf__min_samples_leaf=5, clf__min_samples_split=7 \n",
      "[CV]  clf__max_depth=5, clf__max_features=auto, clf__min_samples_leaf=5, clf__min_samples_split=5, total=   3.6s\n",
      "[CV] clf__max_depth=5, clf__max_features=auto, clf__min_samples_leaf=6, clf__min_samples_split=5 \n",
      "[CV]  clf__max_depth=5, clf__max_features=auto, clf__min_samples_leaf=5, clf__min_samples_split=6, total=   3.5s\n",
      "[CV] clf__max_depth=5, clf__max_features=auto, clf__min_samples_leaf=6, clf__min_samples_split=5 \n",
      "[CV] clf__max_depth=5, clf__max_features=auto, clf__min_samples_leaf=6, clf__min_samples_split=5 \n",
      "[CV]  clf__max_depth=5, clf__max_features=auto, clf__min_samples_leaf=5, clf__min_samples_split=6, total=   3.5s\n",
      "[CV] clf__max_depth=5, clf__max_features=auto, clf__min_samples_leaf=6, clf__min_samples_split=5 \n",
      "[CV]  clf__max_depth=5, clf__max_features=auto, clf__min_samples_leaf=5, clf__min_samples_split=6, total=   3.7s\n",
      "[CV]  clf__max_depth=5, clf__max_features=auto, clf__min_samples_leaf=5, clf__min_samples_split=6, total=   3.7s\n",
      "[CV] clf__max_depth=5, clf__max_features=auto, clf__min_samples_leaf=6, clf__min_samples_split=5 \n",
      "[CV] clf__max_depth=5, clf__max_features=auto, clf__min_samples_leaf=6, clf__min_samples_split=6 \n",
      "[CV]  clf__max_depth=5, clf__max_features=auto, clf__min_samples_leaf=5, clf__min_samples_split=6, total=   3.6s\n",
      "[CV]  clf__max_depth=5, clf__max_features=auto, clf__min_samples_leaf=5, clf__min_samples_split=7, total=   3.5s\n",
      "[CV] clf__max_depth=5, clf__max_features=auto, clf__min_samples_leaf=6, clf__min_samples_split=6 \n",
      "[CV] clf__max_depth=5, clf__max_features=auto, clf__min_samples_leaf=6, clf__min_samples_split=6 \n",
      "[CV]  clf__max_depth=5, clf__max_features=auto, clf__min_samples_leaf=5, clf__min_samples_split=7, total=   3.6s\n",
      "[CV]  clf__max_depth=5, clf__max_features=auto, clf__min_samples_leaf=5, clf__min_samples_split=7, total=   3.6s\n",
      "[CV] clf__max_depth=5, clf__max_features=auto, clf__min_samples_leaf=6, clf__min_samples_split=6 \n",
      "[CV] clf__max_depth=5, clf__max_features=auto, clf__min_samples_leaf=6, clf__min_samples_split=6 \n",
      "[CV]  clf__max_depth=5, clf__max_features=auto, clf__min_samples_leaf=5, clf__min_samples_split=7, total=   3.6s\n",
      "[CV] clf__max_depth=5, clf__max_features=auto, clf__min_samples_leaf=6, clf__min_samples_split=7 \n",
      "[CV]  clf__max_depth=5, clf__max_features=auto, clf__min_samples_leaf=5, clf__min_samples_split=7, total=   3.7s\n",
      "[CV] clf__max_depth=5, clf__max_features=auto, clf__min_samples_leaf=6, clf__min_samples_split=7 \n",
      "[CV]  clf__max_depth=5, clf__max_features=auto, clf__min_samples_leaf=6, clf__min_samples_split=5, total=   3.6s\n",
      "[CV]  clf__max_depth=5, clf__max_features=auto, clf__min_samples_leaf=6, clf__min_samples_split=5, total=   3.6s\n",
      "[CV] clf__max_depth=5, clf__max_features=auto, clf__min_samples_leaf=6, clf__min_samples_split=7 \n",
      "[CV]  clf__max_depth=5, clf__max_features=auto, clf__min_samples_leaf=6, clf__min_samples_split=5, total=   3.5s\n",
      "[CV] clf__max_depth=5, clf__max_features=auto, clf__min_samples_leaf=6, clf__min_samples_split=7 \n",
      "[CV] clf__max_depth=5, clf__max_features=auto, clf__min_samples_leaf=6, clf__min_samples_split=7 \n",
      "[CV]  clf__max_depth=5, clf__max_features=auto, clf__min_samples_leaf=6, clf__min_samples_split=5, total=   3.6s\n",
      "[CV]  clf__max_depth=5, clf__max_features=auto, clf__min_samples_leaf=6, clf__min_samples_split=5, total=   3.5s\n",
      "[CV] clf__max_depth=5, clf__max_features=log2, clf__min_samples_leaf=4, clf__min_samples_split=5 \n",
      "[CV]  clf__max_depth=5, clf__max_features=auto, clf__min_samples_leaf=6, clf__min_samples_split=6, total=   3.4s\n",
      "[CV] clf__max_depth=5, clf__max_features=log2, clf__min_samples_leaf=4, clf__min_samples_split=5 \n",
      "[CV] clf__max_depth=5, clf__max_features=log2, clf__min_samples_leaf=4, clf__min_samples_split=5 \n",
      "[CV]  clf__max_depth=5, clf__max_features=auto, clf__min_samples_leaf=6, clf__min_samples_split=6, total=   3.7s\n",
      "[CV] clf__max_depth=5, clf__max_features=log2, clf__min_samples_leaf=4, clf__min_samples_split=5 \n",
      "[CV]  clf__max_depth=5, clf__max_features=auto, clf__min_samples_leaf=6, clf__min_samples_split=6, total=   4.0s\n",
      "[CV]  clf__max_depth=5, clf__max_features=auto, clf__min_samples_leaf=6, clf__min_samples_split=6, total=   3.7s\n",
      "[CV] clf__max_depth=5, clf__max_features=log2, clf__min_samples_leaf=4, clf__min_samples_split=5 \n",
      "[CV]  clf__max_depth=5, clf__max_features=auto, clf__min_samples_leaf=6, clf__min_samples_split=7, total=   3.5s\n",
      "[CV] clf__max_depth=5, clf__max_features=log2, clf__min_samples_leaf=4, clf__min_samples_split=6 \n",
      "[CV]  clf__max_depth=5, clf__max_features=auto, clf__min_samples_leaf=6, clf__min_samples_split=6, total=   3.7s\n",
      "[CV] clf__max_depth=5, clf__max_features=log2, clf__min_samples_leaf=4, clf__min_samples_split=6 \n",
      "[CV] clf__max_depth=5, clf__max_features=log2, clf__min_samples_leaf=4, clf__min_samples_split=6 \n",
      "[CV]  clf__max_depth=5, clf__max_features=auto, clf__min_samples_leaf=6, clf__min_samples_split=7, total=   3.6s\n",
      "[CV] clf__max_depth=5, clf__max_features=log2, clf__min_samples_leaf=4, clf__min_samples_split=6 \n",
      "[CV]  clf__max_depth=5, clf__max_features=auto, clf__min_samples_leaf=6, clf__min_samples_split=7, total=   3.8s\n",
      "[CV]  clf__max_depth=5, clf__max_features=auto, clf__min_samples_leaf=6, clf__min_samples_split=7, total=   3.5s\n",
      "[CV] clf__max_depth=5, clf__max_features=log2, clf__min_samples_leaf=4, clf__min_samples_split=6 \n",
      "[CV]  clf__max_depth=5, clf__max_features=auto, clf__min_samples_leaf=6, clf__min_samples_split=7, total=   3.7s\n",
      "[CV]  clf__max_depth=5, clf__max_features=log2, clf__min_samples_leaf=4, clf__min_samples_split=5, total=   3.5s\n",
      "[CV] clf__max_depth=5, clf__max_features=log2, clf__min_samples_leaf=4, clf__min_samples_split=7 \n",
      "[CV]  clf__max_depth=5, clf__max_features=log2, clf__min_samples_leaf=4, clf__min_samples_split=5, total=   3.5s\n",
      "[CV] clf__max_depth=5, clf__max_features=log2, clf__min_samples_leaf=4, clf__min_samples_split=7 \n",
      "[CV] clf__max_depth=5, clf__max_features=log2, clf__min_samples_leaf=4, clf__min_samples_split=7 \n",
      "[CV] clf__max_depth=5, clf__max_features=log2, clf__min_samples_leaf=4, clf__min_samples_split=7 \n",
      "[CV]  clf__max_depth=5, clf__max_features=log2, clf__min_samples_leaf=4, clf__min_samples_split=5, total=   3.6s\n",
      "[CV] clf__max_depth=5, clf__max_features=log2, clf__min_samples_leaf=4, clf__min_samples_split=7 \n",
      "[CV]  clf__max_depth=5, clf__max_features=log2, clf__min_samples_leaf=4, clf__min_samples_split=5, total=   3.7s\n",
      "[CV]  clf__max_depth=5, clf__max_features=log2, clf__min_samples_leaf=4, clf__min_samples_split=5, total=   3.8s\n",
      "[CV] clf__max_depth=5, clf__max_features=log2, clf__min_samples_leaf=5, clf__min_samples_split=5 \n",
      "[CV] clf__max_depth=5, clf__max_features=log2, clf__min_samples_leaf=5, clf__min_samples_split=5 \n",
      "[CV]  clf__max_depth=5, clf__max_features=log2, clf__min_samples_leaf=4, clf__min_samples_split=6, total=   3.7s\n",
      "[CV]  clf__max_depth=5, clf__max_features=log2, clf__min_samples_leaf=4, clf__min_samples_split=6, total=   3.6s\n",
      "[CV] clf__max_depth=5, clf__max_features=log2, clf__min_samples_leaf=5, clf__min_samples_split=5 \n",
      "[CV] clf__max_depth=5, clf__max_features=log2, clf__min_samples_leaf=5, clf__min_samples_split=5 \n",
      "[CV]  clf__max_depth=5, clf__max_features=log2, clf__min_samples_leaf=4, clf__min_samples_split=6, total=   4.1s\n",
      "[CV]  clf__max_depth=5, clf__max_features=log2, clf__min_samples_leaf=4, clf__min_samples_split=6, total=   3.5s\n",
      "[CV] clf__max_depth=5, clf__max_features=log2, clf__min_samples_leaf=5, clf__min_samples_split=5 \n",
      "[CV]  clf__max_depth=5, clf__max_features=log2, clf__min_samples_leaf=4, clf__min_samples_split=6, total=   3.6s\n",
      "[CV]  clf__max_depth=5, clf__max_features=log2, clf__min_samples_leaf=4, clf__min_samples_split=7, total=   3.5s\n",
      "[CV] clf__max_depth=5, clf__max_features=log2, clf__min_samples_leaf=5, clf__min_samples_split=6 \n",
      "[CV] clf__max_depth=5, clf__max_features=log2, clf__min_samples_leaf=5, clf__min_samples_split=6 \n"
     ]
    },
    {
     "name": "stdout",
     "output_type": "stream",
     "text": [
      "[CV]  clf__max_depth=5, clf__max_features=log2, clf__min_samples_leaf=4, clf__min_samples_split=7, total=   3.7s\n",
      "[CV] clf__max_depth=5, clf__max_features=log2, clf__min_samples_leaf=5, clf__min_samples_split=6 \n",
      "[CV]  clf__max_depth=5, clf__max_features=log2, clf__min_samples_leaf=4, clf__min_samples_split=7, total=   3.6s\n",
      "[CV] clf__max_depth=5, clf__max_features=log2, clf__min_samples_leaf=5, clf__min_samples_split=6 \n",
      "[CV] clf__max_depth=5, clf__max_features=log2, clf__min_samples_leaf=5, clf__min_samples_split=6 \n",
      "[CV]  clf__max_depth=5, clf__max_features=log2, clf__min_samples_leaf=4, clf__min_samples_split=7, total=   3.7s\n",
      "[CV] clf__max_depth=5, clf__max_features=log2, clf__min_samples_leaf=5, clf__min_samples_split=7 \n",
      "[CV]  clf__max_depth=5, clf__max_features=log2, clf__min_samples_leaf=4, clf__min_samples_split=7, total=   3.5s\n",
      "[CV] clf__max_depth=5, clf__max_features=log2, clf__min_samples_leaf=5, clf__min_samples_split=7 \n",
      "[CV]  clf__max_depth=5, clf__max_features=log2, clf__min_samples_leaf=5, clf__min_samples_split=5, total=   3.6s\n",
      "[CV]  clf__max_depth=5, clf__max_features=log2, clf__min_samples_leaf=5, clf__min_samples_split=5, total=   3.7s\n",
      "[CV] clf__max_depth=5, clf__max_features=log2, clf__min_samples_leaf=5, clf__min_samples_split=7 \n",
      "[CV] clf__max_depth=5, clf__max_features=log2, clf__min_samples_leaf=5, clf__min_samples_split=7 \n",
      "[CV]  clf__max_depth=5, clf__max_features=log2, clf__min_samples_leaf=5, clf__min_samples_split=5, total=   3.7s\n",
      "[CV]  clf__max_depth=5, clf__max_features=log2, clf__min_samples_leaf=5, clf__min_samples_split=5, total=   3.9s\n",
      "[CV] clf__max_depth=5, clf__max_features=log2, clf__min_samples_leaf=5, clf__min_samples_split=7 \n",
      "[CV]  clf__max_depth=5, clf__max_features=log2, clf__min_samples_leaf=5, clf__min_samples_split=6, total=   3.5s\n",
      "[CV]  clf__max_depth=5, clf__max_features=log2, clf__min_samples_leaf=5, clf__min_samples_split=6, total=   3.5s\n",
      "[CV] clf__max_depth=5, clf__max_features=log2, clf__min_samples_leaf=6, clf__min_samples_split=5 \n",
      "[CV]  clf__max_depth=5, clf__max_features=log2, clf__min_samples_leaf=5, clf__min_samples_split=5, total=   3.8s\n",
      "[CV] clf__max_depth=5, clf__max_features=log2, clf__min_samples_leaf=6, clf__min_samples_split=5 \n",
      "[CV] clf__max_depth=5, clf__max_features=log2, clf__min_samples_leaf=6, clf__min_samples_split=5 \n",
      "[CV] clf__max_depth=5, clf__max_features=log2, clf__min_samples_leaf=6, clf__min_samples_split=5 \n",
      "[CV]  clf__max_depth=5, clf__max_features=log2, clf__min_samples_leaf=5, clf__min_samples_split=6, total=   3.5s\n",
      "[CV]  clf__max_depth=5, clf__max_features=log2, clf__min_samples_leaf=5, clf__min_samples_split=6, total=   3.4s\n",
      "[CV]  clf__max_depth=5, clf__max_features=log2, clf__min_samples_leaf=5, clf__min_samples_split=6, total=   3.6s\n",
      "[CV] clf__max_depth=5, clf__max_features=log2, clf__min_samples_leaf=6, clf__min_samples_split=5 \n",
      "[CV] clf__max_depth=5, clf__max_features=log2, clf__min_samples_leaf=6, clf__min_samples_split=6 \n",
      "[CV]  clf__max_depth=5, clf__max_features=log2, clf__min_samples_leaf=5, clf__min_samples_split=7, total=   3.5s\n",
      "[CV] clf__max_depth=5, clf__max_features=log2, clf__min_samples_leaf=6, clf__min_samples_split=6 \n",
      "[CV]  clf__max_depth=5, clf__max_features=log2, clf__min_samples_leaf=5, clf__min_samples_split=7, total=   3.4s\n",
      "[CV] clf__max_depth=5, clf__max_features=log2, clf__min_samples_leaf=6, clf__min_samples_split=6 \n",
      "[CV] clf__max_depth=5, clf__max_features=log2, clf__min_samples_leaf=6, clf__min_samples_split=6 \n",
      "[CV]  clf__max_depth=5, clf__max_features=log2, clf__min_samples_leaf=5, clf__min_samples_split=7, total=   3.7s\n",
      "[CV] clf__max_depth=5, clf__max_features=log2, clf__min_samples_leaf=6, clf__min_samples_split=6 \n",
      "[CV]  clf__max_depth=5, clf__max_features=log2, clf__min_samples_leaf=5, clf__min_samples_split=7, total=   3.8s\n",
      "[CV] clf__max_depth=5, clf__max_features=log2, clf__min_samples_leaf=6, clf__min_samples_split=7 \n",
      "[CV]  clf__max_depth=5, clf__max_features=log2, clf__min_samples_leaf=6, clf__min_samples_split=5, total=   3.5s\n",
      "[CV]  clf__max_depth=5, clf__max_features=log2, clf__min_samples_leaf=5, clf__min_samples_split=7, total=   3.8s\n",
      "[CV]  clf__max_depth=5, clf__max_features=log2, clf__min_samples_leaf=6, clf__min_samples_split=5, total=   3.5s\n",
      "[CV]  clf__max_depth=5, clf__max_features=log2, clf__min_samples_leaf=6, clf__min_samples_split=5, total=   3.8s\n",
      "[CV] clf__max_depth=5, clf__max_features=log2, clf__min_samples_leaf=6, clf__min_samples_split=7 \n",
      "[CV] clf__max_depth=5, clf__max_features=log2, clf__min_samples_leaf=6, clf__min_samples_split=7 \n",
      "[CV]  clf__max_depth=5, clf__max_features=log2, clf__min_samples_leaf=6, clf__min_samples_split=5, total=   3.5s\n",
      "[CV] clf__max_depth=5, clf__max_features=log2, clf__min_samples_leaf=6, clf__min_samples_split=7 \n",
      "[CV] clf__max_depth=5, clf__max_features=log2, clf__min_samples_leaf=6, clf__min_samples_split=7 \n",
      "[CV]  clf__max_depth=5, clf__max_features=log2, clf__min_samples_leaf=6, clf__min_samples_split=5, total=   3.6s\n",
      "[CV] clf__max_depth=5, clf__max_features=sqrt, clf__min_samples_leaf=4, clf__min_samples_split=5 \n",
      "[CV]  clf__max_depth=5, clf__max_features=log2, clf__min_samples_leaf=6, clf__min_samples_split=6, total=   3.5s\n",
      "[CV]  clf__max_depth=5, clf__max_features=log2, clf__min_samples_leaf=6, clf__min_samples_split=6, total=   3.5s\n",
      "[CV] clf__max_depth=5, clf__max_features=sqrt, clf__min_samples_leaf=4, clf__min_samples_split=5 \n",
      "[CV] clf__max_depth=5, clf__max_features=sqrt, clf__min_samples_leaf=4, clf__min_samples_split=5 \n",
      "[CV]  clf__max_depth=5, clf__max_features=log2, clf__min_samples_leaf=6, clf__min_samples_split=6, total=   3.6s\n",
      "[CV]  clf__max_depth=5, clf__max_features=log2, clf__min_samples_leaf=6, clf__min_samples_split=6, total=   3.5s\n",
      "[CV] clf__max_depth=5, clf__max_features=sqrt, clf__min_samples_leaf=4, clf__min_samples_split=5 \n",
      "[CV] clf__max_depth=5, clf__max_features=sqrt, clf__min_samples_leaf=4, clf__min_samples_split=5 \n",
      "[CV] clf__max_depth=5, clf__max_features=sqrt, clf__min_samples_leaf=4, clf__min_samples_split=6 \n",
      "[CV]  clf__max_depth=5, clf__max_features=log2, clf__min_samples_leaf=6, clf__min_samples_split=6, total=   3.6s\n",
      "[CV] clf__max_depth=5, clf__max_features=sqrt, clf__min_samples_leaf=4, clf__min_samples_split=6 \n",
      "[CV]  clf__max_depth=5, clf__max_features=log2, clf__min_samples_leaf=6, clf__min_samples_split=7, total=   3.5s\n",
      "[CV] clf__max_depth=5, clf__max_features=sqrt, clf__min_samples_leaf=4, clf__min_samples_split=6 \n",
      "[CV]  clf__max_depth=5, clf__max_features=log2, clf__min_samples_leaf=6, clf__min_samples_split=7, total=   3.5s\n",
      "[CV] clf__max_depth=5, clf__max_features=sqrt, clf__min_samples_leaf=4, clf__min_samples_split=6 \n",
      "[CV]  clf__max_depth=5, clf__max_features=log2, clf__min_samples_leaf=6, clf__min_samples_split=7, total=   3.7s\n",
      "[CV]  clf__max_depth=5, clf__max_features=log2, clf__min_samples_leaf=6, clf__min_samples_split=7, total=   3.6s\n",
      "[CV] clf__max_depth=5, clf__max_features=sqrt, clf__min_samples_leaf=4, clf__min_samples_split=6 \n",
      "[CV]  clf__max_depth=5, clf__max_features=log2, clf__min_samples_leaf=6, clf__min_samples_split=7, total=   3.5s\n",
      "[CV]  clf__max_depth=5, clf__max_features=sqrt, clf__min_samples_leaf=4, clf__min_samples_split=5, total=   3.5s\n",
      "[CV] clf__max_depth=5, clf__max_features=sqrt, clf__min_samples_leaf=4, clf__min_samples_split=7 \n",
      "[CV] clf__max_depth=5, clf__max_features=sqrt, clf__min_samples_leaf=4, clf__min_samples_split=7 \n",
      "[CV] clf__max_depth=5, clf__max_features=sqrt, clf__min_samples_leaf=4, clf__min_samples_split=7 \n",
      "[CV]  clf__max_depth=5, clf__max_features=sqrt, clf__min_samples_leaf=4, clf__min_samples_split=5, total=   3.6s\n",
      "[CV]  clf__max_depth=5, clf__max_features=sqrt, clf__min_samples_leaf=4, clf__min_samples_split=5, total=   3.6s\n",
      "[CV] clf__max_depth=5, clf__max_features=sqrt, clf__min_samples_leaf=4, clf__min_samples_split=7 \n",
      "[CV]  clf__max_depth=5, clf__max_features=sqrt, clf__min_samples_leaf=4, clf__min_samples_split=5, total=   3.5s\n",
      "[CV]  clf__max_depth=5, clf__max_features=sqrt, clf__min_samples_leaf=4, clf__min_samples_split=5, total=   3.5s\n",
      "[CV] clf__max_depth=5, clf__max_features=sqrt, clf__min_samples_leaf=4, clf__min_samples_split=7 \n",
      "[CV] clf__max_depth=5, clf__max_features=sqrt, clf__min_samples_leaf=5, clf__min_samples_split=5 \n"
     ]
    },
    {
     "name": "stdout",
     "output_type": "stream",
     "text": [
      "[CV]  clf__max_depth=5, clf__max_features=sqrt, clf__min_samples_leaf=4, clf__min_samples_split=6, total=   3.5s\n",
      "[CV] clf__max_depth=5, clf__max_features=sqrt, clf__min_samples_leaf=5, clf__min_samples_split=5 \n",
      "[CV] clf__max_depth=5, clf__max_features=sqrt, clf__min_samples_leaf=5, clf__min_samples_split=5 \n",
      "[CV]  clf__max_depth=5, clf__max_features=sqrt, clf__min_samples_leaf=4, clf__min_samples_split=6, total=   3.7s\n",
      "[CV] clf__max_depth=5, clf__max_features=sqrt, clf__min_samples_leaf=5, clf__min_samples_split=5 \n",
      "[CV]  clf__max_depth=5, clf__max_features=sqrt, clf__min_samples_leaf=4, clf__min_samples_split=6, total=   3.5s\n",
      "[CV] clf__max_depth=5, clf__max_features=sqrt, clf__min_samples_leaf=5, clf__min_samples_split=5 \n",
      "[CV]  clf__max_depth=5, clf__max_features=sqrt, clf__min_samples_leaf=4, clf__min_samples_split=6, total=   3.6s\n",
      "[CV]  clf__max_depth=5, clf__max_features=sqrt, clf__min_samples_leaf=4, clf__min_samples_split=7, total=   3.5s\n",
      "[CV]  clf__max_depth=5, clf__max_features=sqrt, clf__min_samples_leaf=4, clf__min_samples_split=6, total=   3.9s\n",
      "[CV] clf__max_depth=5, clf__max_features=sqrt, clf__min_samples_leaf=5, clf__min_samples_split=6 \n",
      "[CV] clf__max_depth=5, clf__max_features=sqrt, clf__min_samples_leaf=5, clf__min_samples_split=6 \n",
      "[CV]  clf__max_depth=5, clf__max_features=sqrt, clf__min_samples_leaf=4, clf__min_samples_split=7, total=   3.6s\n",
      "[CV] clf__max_depth=5, clf__max_features=sqrt, clf__min_samples_leaf=5, clf__min_samples_split=6 \n",
      "[CV] clf__max_depth=5, clf__max_features=sqrt, clf__min_samples_leaf=5, clf__min_samples_split=6 \n",
      "[CV]  clf__max_depth=5, clf__max_features=sqrt, clf__min_samples_leaf=4, clf__min_samples_split=7, total=   3.7s\n",
      "[CV] clf__max_depth=5, clf__max_features=sqrt, clf__min_samples_leaf=5, clf__min_samples_split=6 \n",
      "[CV]  clf__max_depth=5, clf__max_features=sqrt, clf__min_samples_leaf=4, clf__min_samples_split=7, total=   3.6s\n",
      "[CV]  clf__max_depth=5, clf__max_features=sqrt, clf__min_samples_leaf=4, clf__min_samples_split=7, total=   3.5s\n",
      "[CV] clf__max_depth=5, clf__max_features=sqrt, clf__min_samples_leaf=5, clf__min_samples_split=7 \n",
      "[CV]  clf__max_depth=5, clf__max_features=sqrt, clf__min_samples_leaf=5, clf__min_samples_split=5, total=   3.5s\n",
      "[CV] clf__max_depth=5, clf__max_features=sqrt, clf__min_samples_leaf=5, clf__min_samples_split=7 \n",
      "[CV]  clf__max_depth=5, clf__max_features=sqrt, clf__min_samples_leaf=5, clf__min_samples_split=5, total=   3.5s\n",
      "[CV] clf__max_depth=5, clf__max_features=sqrt, clf__min_samples_leaf=5, clf__min_samples_split=7 \n",
      "[CV]  clf__max_depth=5, clf__max_features=sqrt, clf__min_samples_leaf=5, clf__min_samples_split=5, total=   3.5s\n",
      "[CV] clf__max_depth=5, clf__max_features=sqrt, clf__min_samples_leaf=5, clf__min_samples_split=7 \n",
      "[CV] clf__max_depth=5, clf__max_features=sqrt, clf__min_samples_leaf=5, clf__min_samples_split=7 \n",
      "[CV]  clf__max_depth=5, clf__max_features=sqrt, clf__min_samples_leaf=5, clf__min_samples_split=5, total=   3.5s\n",
      "[CV]  clf__max_depth=5, clf__max_features=sqrt, clf__min_samples_leaf=5, clf__min_samples_split=5, total=   3.9s\n",
      "[CV] clf__max_depth=5, clf__max_features=sqrt, clf__min_samples_leaf=6, clf__min_samples_split=5 \n",
      "[CV]  clf__max_depth=5, clf__max_features=sqrt, clf__min_samples_leaf=5, clf__min_samples_split=6, total=   3.5s\n",
      "[CV] clf__max_depth=5, clf__max_features=sqrt, clf__min_samples_leaf=6, clf__min_samples_split=5 \n",
      "[CV] clf__max_depth=5, clf__max_features=sqrt, clf__min_samples_leaf=6, clf__min_samples_split=5 \n",
      "[CV]  clf__max_depth=5, clf__max_features=sqrt, clf__min_samples_leaf=5, clf__min_samples_split=6, total=   3.5s\n",
      "[CV]  clf__max_depth=5, clf__max_features=sqrt, clf__min_samples_leaf=5, clf__min_samples_split=6, total=   3.6s\n",
      "[CV] clf__max_depth=5, clf__max_features=sqrt, clf__min_samples_leaf=6, clf__min_samples_split=5 \n",
      "[CV]  clf__max_depth=5, clf__max_features=sqrt, clf__min_samples_leaf=5, clf__min_samples_split=6, total=   3.5s\n",
      "[CV] clf__max_depth=5, clf__max_features=sqrt, clf__min_samples_leaf=6, clf__min_samples_split=5 \n",
      "[CV] clf__max_depth=5, clf__max_features=sqrt, clf__min_samples_leaf=6, clf__min_samples_split=6 \n",
      "[CV]  clf__max_depth=5, clf__max_features=sqrt, clf__min_samples_leaf=5, clf__min_samples_split=6, total=   3.5s\n",
      "[CV] clf__max_depth=5, clf__max_features=sqrt, clf__min_samples_leaf=6, clf__min_samples_split=6 \n",
      "[CV]  clf__max_depth=5, clf__max_features=sqrt, clf__min_samples_leaf=5, clf__min_samples_split=7, total=   3.7s\n",
      "[CV]  clf__max_depth=5, clf__max_features=sqrt, clf__min_samples_leaf=5, clf__min_samples_split=7, total=   3.5s\n",
      "[CV] clf__max_depth=5, clf__max_features=sqrt, clf__min_samples_leaf=6, clf__min_samples_split=6 \n",
      "[CV]  clf__max_depth=5, clf__max_features=sqrt, clf__min_samples_leaf=5, clf__min_samples_split=7, total=   3.8s\n",
      "[CV] clf__max_depth=5, clf__max_features=sqrt, clf__min_samples_leaf=6, clf__min_samples_split=6 \n",
      "[CV] clf__max_depth=5, clf__max_features=sqrt, clf__min_samples_leaf=6, clf__min_samples_split=6 \n",
      "[CV]  clf__max_depth=5, clf__max_features=sqrt, clf__min_samples_leaf=5, clf__min_samples_split=7, total=   3.4s\n",
      "[CV] clf__max_depth=5, clf__max_features=sqrt, clf__min_samples_leaf=6, clf__min_samples_split=7 \n",
      "[CV]  clf__max_depth=5, clf__max_features=sqrt, clf__min_samples_leaf=5, clf__min_samples_split=7, total=   3.6s\n",
      "[CV] clf__max_depth=5, clf__max_features=sqrt, clf__min_samples_leaf=6, clf__min_samples_split=7 \n",
      "[CV]  clf__max_depth=5, clf__max_features=sqrt, clf__min_samples_leaf=6, clf__min_samples_split=5, total=   3.6s\n",
      "[CV] clf__max_depth=5, clf__max_features=sqrt, clf__min_samples_leaf=6, clf__min_samples_split=7 \n",
      "[CV]  clf__max_depth=5, clf__max_features=sqrt, clf__min_samples_leaf=6, clf__min_samples_split=5, total=   3.7s\n",
      "[CV] clf__max_depth=5, clf__max_features=sqrt, clf__min_samples_leaf=6, clf__min_samples_split=7 \n",
      "[CV]  clf__max_depth=5, clf__max_features=sqrt, clf__min_samples_leaf=6, clf__min_samples_split=5, total=   3.6s\n",
      "[CV] clf__max_depth=5, clf__max_features=sqrt, clf__min_samples_leaf=6, clf__min_samples_split=7 \n",
      "[CV]  clf__max_depth=5, clf__max_features=sqrt, clf__min_samples_leaf=6, clf__min_samples_split=5, total=   3.5s\n",
      "[CV]  clf__max_depth=5, clf__max_features=sqrt, clf__min_samples_leaf=6, clf__min_samples_split=5, total=   3.9s\n",
      "[CV] clf__max_depth=6, clf__max_features=auto, clf__min_samples_leaf=4, clf__min_samples_split=5 \n",
      "[CV]  clf__max_depth=5, clf__max_features=sqrt, clf__min_samples_leaf=6, clf__min_samples_split=6, total=   3.5s\n",
      "[CV] clf__max_depth=6, clf__max_features=auto, clf__min_samples_leaf=4, clf__min_samples_split=5 \n",
      "[CV] clf__max_depth=6, clf__max_features=auto, clf__min_samples_leaf=4, clf__min_samples_split=5 \n",
      "[CV]  clf__max_depth=5, clf__max_features=sqrt, clf__min_samples_leaf=6, clf__min_samples_split=6, total=   3.6s\n",
      "[CV]  clf__max_depth=5, clf__max_features=sqrt, clf__min_samples_leaf=6, clf__min_samples_split=6, total=   3.5s\n",
      "[CV] clf__max_depth=6, clf__max_features=auto, clf__min_samples_leaf=4, clf__min_samples_split=5 \n",
      "[CV] clf__max_depth=6, clf__max_features=auto, clf__min_samples_leaf=4, clf__min_samples_split=5 \n",
      "[CV]  clf__max_depth=5, clf__max_features=sqrt, clf__min_samples_leaf=6, clf__min_samples_split=6, total=   3.6s\n",
      "[CV] clf__max_depth=6, clf__max_features=auto, clf__min_samples_leaf=4, clf__min_samples_split=6 \n",
      "[CV]  clf__max_depth=5, clf__max_features=sqrt, clf__min_samples_leaf=6, clf__min_samples_split=6, total=   3.7s\n",
      "[CV] clf__max_depth=6, clf__max_features=auto, clf__min_samples_leaf=4, clf__min_samples_split=6 \n",
      "[CV]  clf__max_depth=5, clf__max_features=sqrt, clf__min_samples_leaf=6, clf__min_samples_split=7, total=   3.4s\n",
      "[CV]  clf__max_depth=5, clf__max_features=sqrt, clf__min_samples_leaf=6, clf__min_samples_split=7, total=   3.5s\n",
      "[CV] clf__max_depth=6, clf__max_features=auto, clf__min_samples_leaf=4, clf__min_samples_split=6 \n",
      "[CV] clf__max_depth=6, clf__max_features=auto, clf__min_samples_leaf=4, clf__min_samples_split=6 \n",
      "[CV]  clf__max_depth=5, clf__max_features=sqrt, clf__min_samples_leaf=6, clf__min_samples_split=7, total=   3.6s\n",
      "[CV] clf__max_depth=6, clf__max_features=auto, clf__min_samples_leaf=4, clf__min_samples_split=6 \n",
      "[CV]  clf__max_depth=5, clf__max_features=sqrt, clf__min_samples_leaf=6, clf__min_samples_split=7, total=   3.5s\n"
     ]
    },
    {
     "name": "stdout",
     "output_type": "stream",
     "text": [
      "[CV] clf__max_depth=6, clf__max_features=auto, clf__min_samples_leaf=4, clf__min_samples_split=7 \n",
      "[CV]  clf__max_depth=5, clf__max_features=sqrt, clf__min_samples_leaf=6, clf__min_samples_split=7, total=   3.7s\n",
      "[CV] clf__max_depth=6, clf__max_features=auto, clf__min_samples_leaf=4, clf__min_samples_split=7 \n",
      "[CV]  clf__max_depth=6, clf__max_features=auto, clf__min_samples_leaf=4, clf__min_samples_split=5, total=   3.8s\n",
      "[CV] clf__max_depth=6, clf__max_features=auto, clf__min_samples_leaf=4, clf__min_samples_split=7 \n",
      "[CV]  clf__max_depth=6, clf__max_features=auto, clf__min_samples_leaf=4, clf__min_samples_split=5, total=   3.6s\n",
      "[CV] clf__max_depth=6, clf__max_features=auto, clf__min_samples_leaf=4, clf__min_samples_split=7 \n",
      "[CV]  clf__max_depth=6, clf__max_features=auto, clf__min_samples_leaf=4, clf__min_samples_split=5, total=   3.8s\n",
      "[CV]  clf__max_depth=6, clf__max_features=auto, clf__min_samples_leaf=4, clf__min_samples_split=5, total=   3.5s\n",
      "[CV] clf__max_depth=6, clf__max_features=auto, clf__min_samples_leaf=4, clf__min_samples_split=7 \n"
     ]
    },
    {
     "name": "stderr",
     "output_type": "stream",
     "text": [
      "[Parallel(n_jobs=-1)]: Done 138 tasks      | elapsed:  1.6min\n"
     ]
    },
    {
     "name": "stdout",
     "output_type": "stream",
     "text": [
      "[CV]  clf__max_depth=6, clf__max_features=auto, clf__min_samples_leaf=4, clf__min_samples_split=5, total=   3.9s\n",
      "[CV] clf__max_depth=6, clf__max_features=auto, clf__min_samples_leaf=5, clf__min_samples_split=5 \n",
      "[CV]  clf__max_depth=6, clf__max_features=auto, clf__min_samples_leaf=4, clf__min_samples_split=6, total=   3.5s\n",
      "[CV] clf__max_depth=6, clf__max_features=auto, clf__min_samples_leaf=5, clf__min_samples_split=5 \n",
      "[CV] clf__max_depth=6, clf__max_features=auto, clf__min_samples_leaf=5, clf__min_samples_split=5 \n",
      "[CV]  clf__max_depth=6, clf__max_features=auto, clf__min_samples_leaf=4, clf__min_samples_split=6, total=   3.5s\n",
      "[CV]  clf__max_depth=6, clf__max_features=auto, clf__min_samples_leaf=4, clf__min_samples_split=6, total=   3.5s\n",
      "[CV]  clf__max_depth=6, clf__max_features=auto, clf__min_samples_leaf=4, clf__min_samples_split=6, total=   3.5s\n",
      "[CV] clf__max_depth=6, clf__max_features=auto, clf__min_samples_leaf=5, clf__min_samples_split=5 \n",
      "[CV] clf__max_depth=6, clf__max_features=auto, clf__min_samples_leaf=5, clf__min_samples_split=5 \n",
      "[CV] clf__max_depth=6, clf__max_features=auto, clf__min_samples_leaf=5, clf__min_samples_split=6 \n",
      "[CV]  clf__max_depth=6, clf__max_features=auto, clf__min_samples_leaf=4, clf__min_samples_split=6, total=   3.6s\n",
      "[CV] clf__max_depth=6, clf__max_features=auto, clf__min_samples_leaf=5, clf__min_samples_split=6 \n",
      "[CV]  clf__max_depth=6, clf__max_features=auto, clf__min_samples_leaf=4, clf__min_samples_split=7, total=   3.5s\n",
      "[CV] clf__max_depth=6, clf__max_features=auto, clf__min_samples_leaf=5, clf__min_samples_split=6 \n",
      "[CV]  clf__max_depth=6, clf__max_features=auto, clf__min_samples_leaf=4, clf__min_samples_split=7, total=   3.5s\n",
      "[CV]  clf__max_depth=6, clf__max_features=auto, clf__min_samples_leaf=4, clf__min_samples_split=7, total=   3.5s\n",
      "[CV] clf__max_depth=6, clf__max_features=auto, clf__min_samples_leaf=5, clf__min_samples_split=6 \n",
      "[CV] clf__max_depth=6, clf__max_features=auto, clf__min_samples_leaf=5, clf__min_samples_split=6 \n",
      "[CV]  clf__max_depth=6, clf__max_features=auto, clf__min_samples_leaf=4, clf__min_samples_split=7, total=   3.6s\n",
      "[CV] clf__max_depth=6, clf__max_features=auto, clf__min_samples_leaf=5, clf__min_samples_split=7 \n",
      "[CV]  clf__max_depth=6, clf__max_features=auto, clf__min_samples_leaf=4, clf__min_samples_split=7, total=   3.8s\n",
      "[CV]  clf__max_depth=6, clf__max_features=auto, clf__min_samples_leaf=5, clf__min_samples_split=5, total=   3.6s\n",
      "[CV]  clf__max_depth=6, clf__max_features=auto, clf__min_samples_leaf=5, clf__min_samples_split=5, total=   3.6s\n",
      "[CV] clf__max_depth=6, clf__max_features=auto, clf__min_samples_leaf=5, clf__min_samples_split=7 \n",
      "[CV] clf__max_depth=6, clf__max_features=auto, clf__min_samples_leaf=5, clf__min_samples_split=7 \n",
      "[CV] clf__max_depth=6, clf__max_features=auto, clf__min_samples_leaf=5, clf__min_samples_split=7 \n",
      "[CV]  clf__max_depth=6, clf__max_features=auto, clf__min_samples_leaf=5, clf__min_samples_split=5, total=   3.6s\n",
      "[CV]  clf__max_depth=6, clf__max_features=auto, clf__min_samples_leaf=5, clf__min_samples_split=5, total=   3.5s\n",
      "[CV] clf__max_depth=6, clf__max_features=auto, clf__min_samples_leaf=5, clf__min_samples_split=7 \n",
      "[CV] clf__max_depth=6, clf__max_features=auto, clf__min_samples_leaf=6, clf__min_samples_split=5 \n",
      "[CV]  clf__max_depth=6, clf__max_features=auto, clf__min_samples_leaf=5, clf__min_samples_split=6, total=   3.5s\n",
      "[CV]  clf__max_depth=6, clf__max_features=auto, clf__min_samples_leaf=5, clf__min_samples_split=5, total=   3.5s\n",
      "[CV] clf__max_depth=6, clf__max_features=auto, clf__min_samples_leaf=6, clf__min_samples_split=5 \n",
      "[CV] clf__max_depth=6, clf__max_features=auto, clf__min_samples_leaf=6, clf__min_samples_split=5 \n",
      "[CV]  clf__max_depth=6, clf__max_features=auto, clf__min_samples_leaf=5, clf__min_samples_split=6, total=   3.7s\n",
      "[CV] clf__max_depth=6, clf__max_features=auto, clf__min_samples_leaf=6, clf__min_samples_split=5 \n",
      "[CV]  clf__max_depth=6, clf__max_features=auto, clf__min_samples_leaf=5, clf__min_samples_split=6, total=   3.7s\n",
      "[CV] clf__max_depth=6, clf__max_features=auto, clf__min_samples_leaf=6, clf__min_samples_split=5 \n",
      "[CV]  clf__max_depth=6, clf__max_features=auto, clf__min_samples_leaf=5, clf__min_samples_split=6, total=   3.5s\n",
      "[CV]  clf__max_depth=6, clf__max_features=auto, clf__min_samples_leaf=5, clf__min_samples_split=6, total=   3.6s\n",
      "[CV] clf__max_depth=6, clf__max_features=auto, clf__min_samples_leaf=6, clf__min_samples_split=6 \n",
      "[CV] clf__max_depth=6, clf__max_features=auto, clf__min_samples_leaf=6, clf__min_samples_split=6 \n",
      "[CV]  clf__max_depth=6, clf__max_features=auto, clf__min_samples_leaf=5, clf__min_samples_split=7, total=   3.5s\n",
      "[CV] clf__max_depth=6, clf__max_features=auto, clf__min_samples_leaf=6, clf__min_samples_split=6 \n",
      "[CV]  clf__max_depth=6, clf__max_features=auto, clf__min_samples_leaf=5, clf__min_samples_split=7, total=   3.6s\n",
      "[CV]  clf__max_depth=6, clf__max_features=auto, clf__min_samples_leaf=5, clf__min_samples_split=7, total=   3.6s\n",
      "[CV]  clf__max_depth=6, clf__max_features=auto, clf__min_samples_leaf=5, clf__min_samples_split=7, total=   3.6s\n",
      "[CV] clf__max_depth=6, clf__max_features=auto, clf__min_samples_leaf=6, clf__min_samples_split=6 \n",
      "[CV] clf__max_depth=6, clf__max_features=auto, clf__min_samples_leaf=6, clf__min_samples_split=6 \n",
      "[CV] clf__max_depth=6, clf__max_features=auto, clf__min_samples_leaf=6, clf__min_samples_split=7 \n",
      "[CV]  clf__max_depth=6, clf__max_features=auto, clf__min_samples_leaf=5, clf__min_samples_split=7, total=   3.5s\n",
      "[CV]  clf__max_depth=6, clf__max_features=auto, clf__min_samples_leaf=6, clf__min_samples_split=5, total=   3.6s\n",
      "[CV] clf__max_depth=6, clf__max_features=auto, clf__min_samples_leaf=6, clf__min_samples_split=7 \n",
      "[CV]  clf__max_depth=6, clf__max_features=auto, clf__min_samples_leaf=6, clf__min_samples_split=5, total=   3.4s\n",
      "[CV] clf__max_depth=6, clf__max_features=auto, clf__min_samples_leaf=6, clf__min_samples_split=7 \n",
      "[CV]  clf__max_depth=6, clf__max_features=auto, clf__min_samples_leaf=6, clf__min_samples_split=5, total=   3.5s\n",
      "[CV] clf__max_depth=6, clf__max_features=auto, clf__min_samples_leaf=6, clf__min_samples_split=7 \n",
      "[CV] clf__max_depth=6, clf__max_features=auto, clf__min_samples_leaf=6, clf__min_samples_split=7 \n",
      "[CV]  clf__max_depth=6, clf__max_features=auto, clf__min_samples_leaf=6, clf__min_samples_split=5, total=   3.6s\n",
      "[CV] clf__max_depth=6, clf__max_features=log2, clf__min_samples_leaf=4, clf__min_samples_split=5 \n",
      "[CV]  clf__max_depth=6, clf__max_features=auto, clf__min_samples_leaf=6, clf__min_samples_split=5, total=   3.5s\n",
      "[CV] clf__max_depth=6, clf__max_features=log2, clf__min_samples_leaf=4, clf__min_samples_split=5 \n",
      "[CV]  clf__max_depth=6, clf__max_features=auto, clf__min_samples_leaf=6, clf__min_samples_split=6, total=   3.7s\n",
      "[CV] clf__max_depth=6, clf__max_features=log2, clf__min_samples_leaf=4, clf__min_samples_split=5 \n",
      "[CV]  clf__max_depth=6, clf__max_features=auto, clf__min_samples_leaf=6, clf__min_samples_split=6, total=   3.7s\n",
      "[CV] clf__max_depth=6, clf__max_features=log2, clf__min_samples_leaf=4, clf__min_samples_split=5 \n",
      "[CV]  clf__max_depth=6, clf__max_features=auto, clf__min_samples_leaf=6, clf__min_samples_split=6, total=   3.6s\n",
      "[CV]  clf__max_depth=6, clf__max_features=auto, clf__min_samples_leaf=6, clf__min_samples_split=6, total=   3.5s\n",
      "[CV] clf__max_depth=6, clf__max_features=log2, clf__min_samples_leaf=4, clf__min_samples_split=5 \n",
      "[CV] clf__max_depth=6, clf__max_features=log2, clf__min_samples_leaf=4, clf__min_samples_split=6 \n",
      "[CV]  clf__max_depth=6, clf__max_features=auto, clf__min_samples_leaf=6, clf__min_samples_split=6, total=   3.8s\n",
      "[CV]  clf__max_depth=6, clf__max_features=auto, clf__min_samples_leaf=6, clf__min_samples_split=7, total=   3.6s\n",
      "[CV] clf__max_depth=6, clf__max_features=log2, clf__min_samples_leaf=4, clf__min_samples_split=6 \n",
      "[CV] clf__max_depth=6, clf__max_features=log2, clf__min_samples_leaf=4, clf__min_samples_split=6 \n",
      "[CV]  clf__max_depth=6, clf__max_features=auto, clf__min_samples_leaf=6, clf__min_samples_split=7, total=   3.5s\n",
      "[CV]  clf__max_depth=6, clf__max_features=auto, clf__min_samples_leaf=6, clf__min_samples_split=7, total=   3.6s\n",
      "[CV] clf__max_depth=6, clf__max_features=log2, clf__min_samples_leaf=4, clf__min_samples_split=6 \n"
     ]
    },
    {
     "name": "stdout",
     "output_type": "stream",
     "text": [
      "[CV] clf__max_depth=6, clf__max_features=log2, clf__min_samples_leaf=4, clf__min_samples_split=6 \n",
      "[CV]  clf__max_depth=6, clf__max_features=auto, clf__min_samples_leaf=6, clf__min_samples_split=7, total=   3.5s\n",
      "[CV] clf__max_depth=6, clf__max_features=log2, clf__min_samples_leaf=4, clf__min_samples_split=7 \n",
      "[CV]  clf__max_depth=6, clf__max_features=auto, clf__min_samples_leaf=6, clf__min_samples_split=7, total=   3.5s\n",
      "[CV] clf__max_depth=6, clf__max_features=log2, clf__min_samples_leaf=4, clf__min_samples_split=7 \n",
      "[CV]  clf__max_depth=6, clf__max_features=log2, clf__min_samples_leaf=4, clf__min_samples_split=5, total=   3.6s\n",
      "[CV] clf__max_depth=6, clf__max_features=log2, clf__min_samples_leaf=4, clf__min_samples_split=7 \n",
      "[CV]  clf__max_depth=6, clf__max_features=log2, clf__min_samples_leaf=4, clf__min_samples_split=5, total=   3.6s\n",
      "[CV] clf__max_depth=6, clf__max_features=log2, clf__min_samples_leaf=4, clf__min_samples_split=7 \n",
      "[CV]  clf__max_depth=6, clf__max_features=log2, clf__min_samples_leaf=4, clf__min_samples_split=5, total=   3.8s\n",
      "[CV]  clf__max_depth=6, clf__max_features=log2, clf__min_samples_leaf=4, clf__min_samples_split=5, total=   3.6s\n",
      "[CV] clf__max_depth=6, clf__max_features=log2, clf__min_samples_leaf=4, clf__min_samples_split=7 \n",
      "[CV] clf__max_depth=6, clf__max_features=log2, clf__min_samples_leaf=5, clf__min_samples_split=5 \n",
      "[CV]  clf__max_depth=6, clf__max_features=log2, clf__min_samples_leaf=4, clf__min_samples_split=5, total=   3.5s\n",
      "[CV] clf__max_depth=6, clf__max_features=log2, clf__min_samples_leaf=5, clf__min_samples_split=5 \n",
      "[CV]  clf__max_depth=6, clf__max_features=log2, clf__min_samples_leaf=4, clf__min_samples_split=6, total=   3.7s\n",
      "[CV] clf__max_depth=6, clf__max_features=log2, clf__min_samples_leaf=5, clf__min_samples_split=5 \n",
      "[CV]  clf__max_depth=6, clf__max_features=log2, clf__min_samples_leaf=4, clf__min_samples_split=6, total=   3.6s\n",
      "[CV] clf__max_depth=6, clf__max_features=log2, clf__min_samples_leaf=5, clf__min_samples_split=5 \n",
      "[CV]  clf__max_depth=6, clf__max_features=log2, clf__min_samples_leaf=4, clf__min_samples_split=6, total=   3.6s\n",
      "[CV] clf__max_depth=6, clf__max_features=log2, clf__min_samples_leaf=5, clf__min_samples_split=5 \n",
      "[CV]  clf__max_depth=6, clf__max_features=log2, clf__min_samples_leaf=4, clf__min_samples_split=6, total=   3.5s\n",
      "[CV]  clf__max_depth=6, clf__max_features=log2, clf__min_samples_leaf=4, clf__min_samples_split=6, total=   3.5s\n",
      "[CV] clf__max_depth=6, clf__max_features=log2, clf__min_samples_leaf=5, clf__min_samples_split=6 \n",
      "[CV]  clf__max_depth=6, clf__max_features=log2, clf__min_samples_leaf=4, clf__min_samples_split=7, total=   3.5s\n",
      "[CV] clf__max_depth=6, clf__max_features=log2, clf__min_samples_leaf=5, clf__min_samples_split=6 \n",
      "[CV]  clf__max_depth=6, clf__max_features=log2, clf__min_samples_leaf=4, clf__min_samples_split=7, total=   3.5s\n",
      "[CV] clf__max_depth=6, clf__max_features=log2, clf__min_samples_leaf=5, clf__min_samples_split=6 \n",
      "[CV] clf__max_depth=6, clf__max_features=log2, clf__min_samples_leaf=5, clf__min_samples_split=6 \n",
      "[CV]  clf__max_depth=6, clf__max_features=log2, clf__min_samples_leaf=4, clf__min_samples_split=7, total=   3.6s\n",
      "[CV] clf__max_depth=6, clf__max_features=log2, clf__min_samples_leaf=5, clf__min_samples_split=6 \n",
      "[CV]  clf__max_depth=6, clf__max_features=log2, clf__min_samples_leaf=4, clf__min_samples_split=7, total=   3.8s\n",
      "[CV] clf__max_depth=6, clf__max_features=log2, clf__min_samples_leaf=5, clf__min_samples_split=7 \n",
      "[CV]  clf__max_depth=6, clf__max_features=log2, clf__min_samples_leaf=4, clf__min_samples_split=7, total=   3.7s\n",
      "[CV]  clf__max_depth=6, clf__max_features=log2, clf__min_samples_leaf=5, clf__min_samples_split=5, total=   3.6s\n",
      "[CV] clf__max_depth=6, clf__max_features=log2, clf__min_samples_leaf=5, clf__min_samples_split=7 \n",
      "[CV] clf__max_depth=6, clf__max_features=log2, clf__min_samples_leaf=5, clf__min_samples_split=7 \n",
      "[CV]  clf__max_depth=6, clf__max_features=log2, clf__min_samples_leaf=5, clf__min_samples_split=5, total=   3.8s\n",
      "[CV]  clf__max_depth=6, clf__max_features=log2, clf__min_samples_leaf=5, clf__min_samples_split=5, total=   3.5s\n",
      "[CV] clf__max_depth=6, clf__max_features=log2, clf__min_samples_leaf=5, clf__min_samples_split=7 \n",
      "[CV] clf__max_depth=6, clf__max_features=log2, clf__min_samples_leaf=5, clf__min_samples_split=7 \n",
      "[CV]  clf__max_depth=6, clf__max_features=log2, clf__min_samples_leaf=5, clf__min_samples_split=5, total=   3.5s\n",
      "[CV]  clf__max_depth=6, clf__max_features=log2, clf__min_samples_leaf=5, clf__min_samples_split=5, total=   3.5s\n",
      "[CV] clf__max_depth=6, clf__max_features=log2, clf__min_samples_leaf=6, clf__min_samples_split=5 \n",
      "[CV] clf__max_depth=6, clf__max_features=log2, clf__min_samples_leaf=6, clf__min_samples_split=5 \n",
      "[CV]  clf__max_depth=6, clf__max_features=log2, clf__min_samples_leaf=5, clf__min_samples_split=6, total=   3.5s\n",
      "[CV] clf__max_depth=6, clf__max_features=log2, clf__min_samples_leaf=6, clf__min_samples_split=5 \n",
      "[CV]  clf__max_depth=6, clf__max_features=log2, clf__min_samples_leaf=5, clf__min_samples_split=6, total=   3.5s\n",
      "[CV]  clf__max_depth=6, clf__max_features=log2, clf__min_samples_leaf=5, clf__min_samples_split=6, total=   3.4s\n",
      "[CV] clf__max_depth=6, clf__max_features=log2, clf__min_samples_leaf=6, clf__min_samples_split=5 \n",
      "[CV] clf__max_depth=6, clf__max_features=log2, clf__min_samples_leaf=6, clf__min_samples_split=5 \n",
      "[CV]  clf__max_depth=6, clf__max_features=log2, clf__min_samples_leaf=5, clf__min_samples_split=6, total=   3.5s\n",
      "[CV] clf__max_depth=6, clf__max_features=log2, clf__min_samples_leaf=6, clf__min_samples_split=6 \n",
      "[CV]  clf__max_depth=6, clf__max_features=log2, clf__min_samples_leaf=5, clf__min_samples_split=6, total=   3.5s\n",
      "[CV] clf__max_depth=6, clf__max_features=log2, clf__min_samples_leaf=6, clf__min_samples_split=6 \n",
      "[CV]  clf__max_depth=6, clf__max_features=log2, clf__min_samples_leaf=5, clf__min_samples_split=7, total=   3.7s\n",
      "[CV] clf__max_depth=6, clf__max_features=log2, clf__min_samples_leaf=6, clf__min_samples_split=6 \n",
      "[CV]  clf__max_depth=6, clf__max_features=log2, clf__min_samples_leaf=5, clf__min_samples_split=7, total=   3.9s\n",
      "[CV]  clf__max_depth=6, clf__max_features=log2, clf__min_samples_leaf=5, clf__min_samples_split=7, total=   4.0s\n",
      "[CV] clf__max_depth=6, clf__max_features=log2, clf__min_samples_leaf=6, clf__min_samples_split=6 \n",
      "[CV]  clf__max_depth=6, clf__max_features=log2, clf__min_samples_leaf=5, clf__min_samples_split=7, total=   3.6s\n",
      "[CV] clf__max_depth=6, clf__max_features=log2, clf__min_samples_leaf=6, clf__min_samples_split=6 \n",
      "[CV]  clf__max_depth=6, clf__max_features=log2, clf__min_samples_leaf=5, clf__min_samples_split=7, total=   3.9s\n",
      "[CV] clf__max_depth=6, clf__max_features=log2, clf__min_samples_leaf=6, clf__min_samples_split=7 \n",
      "[CV]  clf__max_depth=6, clf__max_features=log2, clf__min_samples_leaf=6, clf__min_samples_split=5, total=   3.5s\n",
      "[CV] clf__max_depth=6, clf__max_features=log2, clf__min_samples_leaf=6, clf__min_samples_split=7 \n",
      "[CV] clf__max_depth=6, clf__max_features=log2, clf__min_samples_leaf=6, clf__min_samples_split=7 \n",
      "[CV]  clf__max_depth=6, clf__max_features=log2, clf__min_samples_leaf=6, clf__min_samples_split=5, total=   3.5s\n",
      "[CV] clf__max_depth=6, clf__max_features=log2, clf__min_samples_leaf=6, clf__min_samples_split=7 \n",
      "[CV]  clf__max_depth=6, clf__max_features=log2, clf__min_samples_leaf=6, clf__min_samples_split=5, total=   3.5s\n",
      "[CV] clf__max_depth=6, clf__max_features=log2, clf__min_samples_leaf=6, clf__min_samples_split=7 \n",
      "[CV]  clf__max_depth=6, clf__max_features=log2, clf__min_samples_leaf=6, clf__min_samples_split=5, total=   3.4s\n",
      "[CV] clf__max_depth=6, clf__max_features=sqrt, clf__min_samples_leaf=4, clf__min_samples_split=5 \n",
      "[CV]  clf__max_depth=6, clf__max_features=log2, clf__min_samples_leaf=6, clf__min_samples_split=5, total=   3.5s\n",
      "[CV]  clf__max_depth=6, clf__max_features=log2, clf__min_samples_leaf=6, clf__min_samples_split=6, total=   3.4s\n",
      "[CV] clf__max_depth=6, clf__max_features=sqrt, clf__min_samples_leaf=4, clf__min_samples_split=5 \n",
      "[CV] clf__max_depth=6, clf__max_features=sqrt, clf__min_samples_leaf=4, clf__min_samples_split=5 \n",
      "[CV]  clf__max_depth=6, clf__max_features=log2, clf__min_samples_leaf=6, clf__min_samples_split=6, total=   3.5s\n"
     ]
    },
    {
     "name": "stdout",
     "output_type": "stream",
     "text": [
      "[CV] clf__max_depth=6, clf__max_features=sqrt, clf__min_samples_leaf=4, clf__min_samples_split=5 \n",
      "[CV]  clf__max_depth=6, clf__max_features=log2, clf__min_samples_leaf=6, clf__min_samples_split=6, total=   3.6s\n",
      "[CV] clf__max_depth=6, clf__max_features=sqrt, clf__min_samples_leaf=4, clf__min_samples_split=5 \n",
      "[CV]  clf__max_depth=6, clf__max_features=log2, clf__min_samples_leaf=6, clf__min_samples_split=6, total=   3.5s\n",
      "[CV] clf__max_depth=6, clf__max_features=sqrt, clf__min_samples_leaf=4, clf__min_samples_split=6 \n",
      "[CV]  clf__max_depth=6, clf__max_features=log2, clf__min_samples_leaf=6, clf__min_samples_split=6, total=   3.6s\n",
      "[CV]  clf__max_depth=6, clf__max_features=log2, clf__min_samples_leaf=6, clf__min_samples_split=7, total=   3.5s\n",
      "[CV] clf__max_depth=6, clf__max_features=sqrt, clf__min_samples_leaf=4, clf__min_samples_split=6 \n",
      "[CV]  clf__max_depth=6, clf__max_features=log2, clf__min_samples_leaf=6, clf__min_samples_split=7, total=   3.7s\n",
      "[CV] clf__max_depth=6, clf__max_features=sqrt, clf__min_samples_leaf=4, clf__min_samples_split=6 \n",
      "[CV] clf__max_depth=6, clf__max_features=sqrt, clf__min_samples_leaf=4, clf__min_samples_split=6 \n",
      "[CV]  clf__max_depth=6, clf__max_features=log2, clf__min_samples_leaf=6, clf__min_samples_split=7, total=   3.6s\n",
      "[CV] clf__max_depth=6, clf__max_features=sqrt, clf__min_samples_leaf=4, clf__min_samples_split=6 \n",
      "[CV]  clf__max_depth=6, clf__max_features=log2, clf__min_samples_leaf=6, clf__min_samples_split=7, total=   3.6s\n",
      "[CV]  clf__max_depth=6, clf__max_features=log2, clf__min_samples_leaf=6, clf__min_samples_split=7, total=   3.7s\n",
      "[CV] clf__max_depth=6, clf__max_features=sqrt, clf__min_samples_leaf=4, clf__min_samples_split=7 \n",
      "[CV] clf__max_depth=6, clf__max_features=sqrt, clf__min_samples_leaf=4, clf__min_samples_split=7 \n",
      "[CV]  clf__max_depth=6, clf__max_features=sqrt, clf__min_samples_leaf=4, clf__min_samples_split=5, total=   3.6s\n",
      "[CV] clf__max_depth=6, clf__max_features=sqrt, clf__min_samples_leaf=4, clf__min_samples_split=7 \n",
      "[CV]  clf__max_depth=6, clf__max_features=sqrt, clf__min_samples_leaf=4, clf__min_samples_split=5, total=   3.5s\n",
      "[CV]  clf__max_depth=6, clf__max_features=sqrt, clf__min_samples_leaf=4, clf__min_samples_split=5, total=   3.5s\n",
      "[CV] clf__max_depth=6, clf__max_features=sqrt, clf__min_samples_leaf=4, clf__min_samples_split=7 \n",
      "[CV] clf__max_depth=6, clf__max_features=sqrt, clf__min_samples_leaf=4, clf__min_samples_split=7 \n",
      "[CV]  clf__max_depth=6, clf__max_features=sqrt, clf__min_samples_leaf=4, clf__min_samples_split=5, total=   3.8s\n",
      "[CV] clf__max_depth=6, clf__max_features=sqrt, clf__min_samples_leaf=5, clf__min_samples_split=5 \n",
      "[CV]  clf__max_depth=6, clf__max_features=sqrt, clf__min_samples_leaf=4, clf__min_samples_split=5, total=   3.5s\n",
      "[CV] clf__max_depth=6, clf__max_features=sqrt, clf__min_samples_leaf=5, clf__min_samples_split=5 \n",
      "[CV]  clf__max_depth=6, clf__max_features=sqrt, clf__min_samples_leaf=4, clf__min_samples_split=6, total=   3.7s\n",
      "[CV] clf__max_depth=6, clf__max_features=sqrt, clf__min_samples_leaf=5, clf__min_samples_split=5 \n",
      "[CV]  clf__max_depth=6, clf__max_features=sqrt, clf__min_samples_leaf=4, clf__min_samples_split=6, total=   3.6s\n",
      "[CV]  clf__max_depth=6, clf__max_features=sqrt, clf__min_samples_leaf=4, clf__min_samples_split=6, total=   3.5s\n",
      "[CV] clf__max_depth=6, clf__max_features=sqrt, clf__min_samples_leaf=5, clf__min_samples_split=5 \n",
      "[CV] clf__max_depth=6, clf__max_features=sqrt, clf__min_samples_leaf=5, clf__min_samples_split=5 \n",
      "[CV]  clf__max_depth=6, clf__max_features=sqrt, clf__min_samples_leaf=4, clf__min_samples_split=6, total=   3.8s\n",
      "[CV] clf__max_depth=6, clf__max_features=sqrt, clf__min_samples_leaf=5, clf__min_samples_split=6 \n",
      "[CV]  clf__max_depth=6, clf__max_features=sqrt, clf__min_samples_leaf=4, clf__min_samples_split=6, total=   3.6s\n",
      "[CV]  clf__max_depth=6, clf__max_features=sqrt, clf__min_samples_leaf=4, clf__min_samples_split=7, total=   3.5s\n",
      "[CV] clf__max_depth=6, clf__max_features=sqrt, clf__min_samples_leaf=5, clf__min_samples_split=6 \n",
      "[CV]  clf__max_depth=6, clf__max_features=sqrt, clf__min_samples_leaf=4, clf__min_samples_split=7, total=   3.7s\n",
      "[CV] clf__max_depth=6, clf__max_features=sqrt, clf__min_samples_leaf=5, clf__min_samples_split=6 \n",
      "[CV] clf__max_depth=6, clf__max_features=sqrt, clf__min_samples_leaf=5, clf__min_samples_split=6 \n",
      "[CV]  clf__max_depth=6, clf__max_features=sqrt, clf__min_samples_leaf=4, clf__min_samples_split=7, total=   3.4s\n",
      "[CV] clf__max_depth=6, clf__max_features=sqrt, clf__min_samples_leaf=5, clf__min_samples_split=6 \n",
      "[CV]  clf__max_depth=6, clf__max_features=sqrt, clf__min_samples_leaf=4, clf__min_samples_split=7, total=   3.5s\n",
      "[CV] clf__max_depth=6, clf__max_features=sqrt, clf__min_samples_leaf=5, clf__min_samples_split=7 \n",
      "[CV]  clf__max_depth=6, clf__max_features=sqrt, clf__min_samples_leaf=4, clf__min_samples_split=7, total=   3.5s\n",
      "[CV] clf__max_depth=6, clf__max_features=sqrt, clf__min_samples_leaf=5, clf__min_samples_split=7 \n",
      "[CV]  clf__max_depth=6, clf__max_features=sqrt, clf__min_samples_leaf=5, clf__min_samples_split=5, total=   3.7s\n",
      "[CV] clf__max_depth=6, clf__max_features=sqrt, clf__min_samples_leaf=5, clf__min_samples_split=7 \n",
      "[CV]  clf__max_depth=6, clf__max_features=sqrt, clf__min_samples_leaf=5, clf__min_samples_split=5, total=   3.5s\n",
      "[CV] clf__max_depth=6, clf__max_features=sqrt, clf__min_samples_leaf=5, clf__min_samples_split=7 \n",
      "[CV]  clf__max_depth=6, clf__max_features=sqrt, clf__min_samples_leaf=5, clf__min_samples_split=5, total=   3.7s\n",
      "[CV] clf__max_depth=6, clf__max_features=sqrt, clf__min_samples_leaf=5, clf__min_samples_split=7 \n",
      "[CV]  clf__max_depth=6, clf__max_features=sqrt, clf__min_samples_leaf=5, clf__min_samples_split=5, total=   3.6s\n",
      "[CV] clf__max_depth=6, clf__max_features=sqrt, clf__min_samples_leaf=6, clf__min_samples_split=5 \n",
      "[CV]  clf__max_depth=6, clf__max_features=sqrt, clf__min_samples_leaf=5, clf__min_samples_split=5, total=   3.5s\n",
      "[CV] clf__max_depth=6, clf__max_features=sqrt, clf__min_samples_leaf=6, clf__min_samples_split=5 \n",
      "[CV]  clf__max_depth=6, clf__max_features=sqrt, clf__min_samples_leaf=5, clf__min_samples_split=6, total=   3.5s\n",
      "[CV]  clf__max_depth=6, clf__max_features=sqrt, clf__min_samples_leaf=5, clf__min_samples_split=6, total=   3.6s\n",
      "[CV] clf__max_depth=6, clf__max_features=sqrt, clf__min_samples_leaf=6, clf__min_samples_split=5 \n",
      "[CV]  clf__max_depth=6, clf__max_features=sqrt, clf__min_samples_leaf=5, clf__min_samples_split=6, total=   3.5s\n",
      "[CV] clf__max_depth=6, clf__max_features=sqrt, clf__min_samples_leaf=6, clf__min_samples_split=5 \n",
      "[CV] clf__max_depth=6, clf__max_features=sqrt, clf__min_samples_leaf=6, clf__min_samples_split=5 \n",
      "[CV]  clf__max_depth=6, clf__max_features=sqrt, clf__min_samples_leaf=5, clf__min_samples_split=6, total=   3.6s\n",
      "[CV] clf__max_depth=6, clf__max_features=sqrt, clf__min_samples_leaf=6, clf__min_samples_split=6 \n",
      "[CV]  clf__max_depth=6, clf__max_features=sqrt, clf__min_samples_leaf=5, clf__min_samples_split=6, total=   3.8s\n",
      "[CV]  clf__max_depth=6, clf__max_features=sqrt, clf__min_samples_leaf=5, clf__min_samples_split=7, total=   3.5s\n",
      "[CV] clf__max_depth=6, clf__max_features=sqrt, clf__min_samples_leaf=6, clf__min_samples_split=6 \n",
      "[CV] clf__max_depth=6, clf__max_features=sqrt, clf__min_samples_leaf=6, clf__min_samples_split=6 \n",
      "[CV]  clf__max_depth=6, clf__max_features=sqrt, clf__min_samples_leaf=5, clf__min_samples_split=7, total=   3.6s\n",
      "[CV] clf__max_depth=6, clf__max_features=sqrt, clf__min_samples_leaf=6, clf__min_samples_split=6 \n",
      "[CV]  clf__max_depth=6, clf__max_features=sqrt, clf__min_samples_leaf=5, clf__min_samples_split=7, total=   4.0s\n",
      "[CV]  clf__max_depth=6, clf__max_features=sqrt, clf__min_samples_leaf=5, clf__min_samples_split=7, total=   3.7s\n",
      "[CV] clf__max_depth=6, clf__max_features=sqrt, clf__min_samples_leaf=6, clf__min_samples_split=6 \n",
      "[CV] clf__max_depth=6, clf__max_features=sqrt, clf__min_samples_leaf=6, clf__min_samples_split=7 \n",
      "[CV]  clf__max_depth=6, clf__max_features=sqrt, clf__min_samples_leaf=5, clf__min_samples_split=7, total=   3.8s\n",
      "[CV] clf__max_depth=6, clf__max_features=sqrt, clf__min_samples_leaf=6, clf__min_samples_split=7 \n",
      "[CV]  clf__max_depth=6, clf__max_features=sqrt, clf__min_samples_leaf=6, clf__min_samples_split=5, total=   4.2s\n"
     ]
    },
    {
     "name": "stdout",
     "output_type": "stream",
     "text": [
      "[CV]  clf__max_depth=6, clf__max_features=sqrt, clf__min_samples_leaf=6, clf__min_samples_split=5, total=   3.7s\n",
      "[CV] clf__max_depth=6, clf__max_features=sqrt, clf__min_samples_leaf=6, clf__min_samples_split=7 \n",
      "[CV]  clf__max_depth=6, clf__max_features=sqrt, clf__min_samples_leaf=6, clf__min_samples_split=5, total=   3.7s\n",
      "[CV]  clf__max_depth=6, clf__max_features=sqrt, clf__min_samples_leaf=6, clf__min_samples_split=5, total=   3.6s\n",
      "[CV] clf__max_depth=6, clf__max_features=sqrt, clf__min_samples_leaf=6, clf__min_samples_split=7 \n",
      "[CV]  clf__max_depth=6, clf__max_features=sqrt, clf__min_samples_leaf=6, clf__min_samples_split=5, total=   3.6s\n",
      "[CV] clf__max_depth=6, clf__max_features=sqrt, clf__min_samples_leaf=6, clf__min_samples_split=7 \n",
      "[CV] clf__max_depth=7, clf__max_features=auto, clf__min_samples_leaf=4, clf__min_samples_split=5 \n",
      "[CV] clf__max_depth=7, clf__max_features=auto, clf__min_samples_leaf=4, clf__min_samples_split=5 \n",
      "[CV]  clf__max_depth=6, clf__max_features=sqrt, clf__min_samples_leaf=6, clf__min_samples_split=6, total=   3.7s\n",
      "[CV] clf__max_depth=7, clf__max_features=auto, clf__min_samples_leaf=4, clf__min_samples_split=5 \n",
      "[CV]  clf__max_depth=6, clf__max_features=sqrt, clf__min_samples_leaf=6, clf__min_samples_split=6, total=   3.6s\n",
      "[CV]  clf__max_depth=6, clf__max_features=sqrt, clf__min_samples_leaf=6, clf__min_samples_split=6, total=   3.7s\n",
      "[CV] clf__max_depth=7, clf__max_features=auto, clf__min_samples_leaf=4, clf__min_samples_split=5 \n",
      "[CV] clf__max_depth=7, clf__max_features=auto, clf__min_samples_leaf=4, clf__min_samples_split=5 \n",
      "[CV]  clf__max_depth=6, clf__max_features=sqrt, clf__min_samples_leaf=6, clf__min_samples_split=6, total=   3.5s\n",
      "[CV] clf__max_depth=7, clf__max_features=auto, clf__min_samples_leaf=4, clf__min_samples_split=6 \n",
      "[CV]  clf__max_depth=6, clf__max_features=sqrt, clf__min_samples_leaf=6, clf__min_samples_split=6, total=   3.7s\n",
      "[CV] clf__max_depth=7, clf__max_features=auto, clf__min_samples_leaf=4, clf__min_samples_split=6 \n",
      "[CV]  clf__max_depth=6, clf__max_features=sqrt, clf__min_samples_leaf=6, clf__min_samples_split=7, total=   3.7s\n",
      "[CV] clf__max_depth=7, clf__max_features=auto, clf__min_samples_leaf=4, clf__min_samples_split=6 \n",
      "[CV]  clf__max_depth=6, clf__max_features=sqrt, clf__min_samples_leaf=6, clf__min_samples_split=7, total=   3.8s\n",
      "[CV] clf__max_depth=7, clf__max_features=auto, clf__min_samples_leaf=4, clf__min_samples_split=6 \n",
      "[CV]  clf__max_depth=6, clf__max_features=sqrt, clf__min_samples_leaf=6, clf__min_samples_split=7, total=   3.6s\n",
      "[CV] clf__max_depth=7, clf__max_features=auto, clf__min_samples_leaf=4, clf__min_samples_split=6 \n",
      "[CV]  clf__max_depth=6, clf__max_features=sqrt, clf__min_samples_leaf=6, clf__min_samples_split=7, total=   3.7s\n",
      "[CV] clf__max_depth=7, clf__max_features=auto, clf__min_samples_leaf=4, clf__min_samples_split=7 \n",
      "[CV]  clf__max_depth=7, clf__max_features=auto, clf__min_samples_leaf=4, clf__min_samples_split=5, total=   3.9s\n",
      "[CV]  clf__max_depth=7, clf__max_features=auto, clf__min_samples_leaf=4, clf__min_samples_split=5, total=   3.8s\n",
      "[CV]  clf__max_depth=6, clf__max_features=sqrt, clf__min_samples_leaf=6, clf__min_samples_split=7, total=   3.8s\n",
      "[CV] clf__max_depth=7, clf__max_features=auto, clf__min_samples_leaf=4, clf__min_samples_split=7 \n",
      "[CV] clf__max_depth=7, clf__max_features=auto, clf__min_samples_leaf=4, clf__min_samples_split=7 \n",
      "[CV]  clf__max_depth=7, clf__max_features=auto, clf__min_samples_leaf=4, clf__min_samples_split=5, total=   3.7s\n",
      "[CV] clf__max_depth=7, clf__max_features=auto, clf__min_samples_leaf=4, clf__min_samples_split=7 \n",
      "[CV] clf__max_depth=7, clf__max_features=auto, clf__min_samples_leaf=4, clf__min_samples_split=7 \n",
      "[CV]  clf__max_depth=7, clf__max_features=auto, clf__min_samples_leaf=4, clf__min_samples_split=6, total=   3.5s\n",
      "[CV] clf__max_depth=7, clf__max_features=auto, clf__min_samples_leaf=5, clf__min_samples_split=5 \n",
      "[CV]  clf__max_depth=7, clf__max_features=auto, clf__min_samples_leaf=4, clf__min_samples_split=5, total=   4.0s\n",
      "[CV]  clf__max_depth=7, clf__max_features=auto, clf__min_samples_leaf=4, clf__min_samples_split=5, total=   4.2s\n",
      "[CV] clf__max_depth=7, clf__max_features=auto, clf__min_samples_leaf=5, clf__min_samples_split=5 \n",
      "[CV] clf__max_depth=7, clf__max_features=auto, clf__min_samples_leaf=5, clf__min_samples_split=5 \n",
      "[CV]  clf__max_depth=7, clf__max_features=auto, clf__min_samples_leaf=4, clf__min_samples_split=6, total=   3.6s\n",
      "[CV] clf__max_depth=7, clf__max_features=auto, clf__min_samples_leaf=5, clf__min_samples_split=5 \n",
      "[CV]  clf__max_depth=7, clf__max_features=auto, clf__min_samples_leaf=4, clf__min_samples_split=6, total=   3.9s\n",
      "[CV]  clf__max_depth=7, clf__max_features=auto, clf__min_samples_leaf=4, clf__min_samples_split=6, total=   3.6s\n",
      "[CV] clf__max_depth=7, clf__max_features=auto, clf__min_samples_leaf=5, clf__min_samples_split=5 \n",
      "[CV] clf__max_depth=7, clf__max_features=auto, clf__min_samples_leaf=5, clf__min_samples_split=6 \n",
      "[CV]  clf__max_depth=7, clf__max_features=auto, clf__min_samples_leaf=4, clf__min_samples_split=6, total=   3.7s\n",
      "[CV] clf__max_depth=7, clf__max_features=auto, clf__min_samples_leaf=5, clf__min_samples_split=6 \n",
      "[CV]  clf__max_depth=7, clf__max_features=auto, clf__min_samples_leaf=4, clf__min_samples_split=7, total=   3.5s\n",
      "[CV] clf__max_depth=7, clf__max_features=auto, clf__min_samples_leaf=5, clf__min_samples_split=6 \n",
      "[CV]  clf__max_depth=7, clf__max_features=auto, clf__min_samples_leaf=4, clf__min_samples_split=7, total=   3.6s\n",
      "[CV] clf__max_depth=7, clf__max_features=auto, clf__min_samples_leaf=5, clf__min_samples_split=6 \n",
      "[CV]  clf__max_depth=7, clf__max_features=auto, clf__min_samples_leaf=4, clf__min_samples_split=7, total=   3.5s\n",
      "[CV]  clf__max_depth=7, clf__max_features=auto, clf__min_samples_leaf=4, clf__min_samples_split=7, total=   4.3s\n",
      "[CV] clf__max_depth=7, clf__max_features=auto, clf__min_samples_leaf=5, clf__min_samples_split=6 \n",
      "[CV] clf__max_depth=7, clf__max_features=auto, clf__min_samples_leaf=5, clf__min_samples_split=7 \n",
      "[CV]  clf__max_depth=7, clf__max_features=auto, clf__min_samples_leaf=4, clf__min_samples_split=7, total=   3.9s\n",
      "[CV] clf__max_depth=7, clf__max_features=auto, clf__min_samples_leaf=5, clf__min_samples_split=7 \n",
      "[CV]  clf__max_depth=7, clf__max_features=auto, clf__min_samples_leaf=5, clf__min_samples_split=5, total=   3.6s\n",
      "[CV] clf__max_depth=7, clf__max_features=auto, clf__min_samples_leaf=5, clf__min_samples_split=7 \n",
      "[CV]  clf__max_depth=7, clf__max_features=auto, clf__min_samples_leaf=5, clf__min_samples_split=5, total=   3.5s\n",
      "[CV] clf__max_depth=7, clf__max_features=auto, clf__min_samples_leaf=5, clf__min_samples_split=7 \n",
      "[CV]  clf__max_depth=7, clf__max_features=auto, clf__min_samples_leaf=5, clf__min_samples_split=5, total=   3.8s\n",
      "[CV] clf__max_depth=7, clf__max_features=auto, clf__min_samples_leaf=5, clf__min_samples_split=7 \n",
      "[CV]  clf__max_depth=7, clf__max_features=auto, clf__min_samples_leaf=5, clf__min_samples_split=5, total=   3.8s\n",
      "[CV] clf__max_depth=7, clf__max_features=auto, clf__min_samples_leaf=6, clf__min_samples_split=5 \n",
      "[CV]  clf__max_depth=7, clf__max_features=auto, clf__min_samples_leaf=5, clf__min_samples_split=6, total=   3.8s\n",
      "[CV] clf__max_depth=7, clf__max_features=auto, clf__min_samples_leaf=6, clf__min_samples_split=5 \n",
      "[CV]  clf__max_depth=7, clf__max_features=auto, clf__min_samples_leaf=5, clf__min_samples_split=5, total=   4.3s\n",
      "[CV] clf__max_depth=7, clf__max_features=auto, clf__min_samples_leaf=6, clf__min_samples_split=5 \n",
      "[CV]  clf__max_depth=7, clf__max_features=auto, clf__min_samples_leaf=5, clf__min_samples_split=6, total=   4.2s\n",
      "[CV] clf__max_depth=7, clf__max_features=auto, clf__min_samples_leaf=6, clf__min_samples_split=5 \n",
      "[CV]  clf__max_depth=7, clf__max_features=auto, clf__min_samples_leaf=5, clf__min_samples_split=6, total=   3.6s\n",
      "[CV] clf__max_depth=7, clf__max_features=auto, clf__min_samples_leaf=6, clf__min_samples_split=5 \n",
      "[CV]  clf__max_depth=7, clf__max_features=auto, clf__min_samples_leaf=5, clf__min_samples_split=6, total=   3.7s\n",
      "[CV] clf__max_depth=7, clf__max_features=auto, clf__min_samples_leaf=6, clf__min_samples_split=6 \n",
      "[CV]  clf__max_depth=7, clf__max_features=auto, clf__min_samples_leaf=5, clf__min_samples_split=6, total=   3.5s\n"
     ]
    },
    {
     "name": "stdout",
     "output_type": "stream",
     "text": [
      "[CV]  clf__max_depth=7, clf__max_features=auto, clf__min_samples_leaf=5, clf__min_samples_split=7, total=   3.5s\n",
      "[CV] clf__max_depth=7, clf__max_features=auto, clf__min_samples_leaf=6, clf__min_samples_split=6 \n",
      "[CV] clf__max_depth=7, clf__max_features=auto, clf__min_samples_leaf=6, clf__min_samples_split=6 \n",
      "[CV]  clf__max_depth=7, clf__max_features=auto, clf__min_samples_leaf=5, clf__min_samples_split=7, total=   3.6s\n",
      "[CV] clf__max_depth=7, clf__max_features=auto, clf__min_samples_leaf=6, clf__min_samples_split=6 \n",
      "[CV]  clf__max_depth=7, clf__max_features=auto, clf__min_samples_leaf=5, clf__min_samples_split=7, total=   3.5s\n",
      "[CV] clf__max_depth=7, clf__max_features=auto, clf__min_samples_leaf=6, clf__min_samples_split=6 \n",
      "[CV]  clf__max_depth=7, clf__max_features=auto, clf__min_samples_leaf=5, clf__min_samples_split=7, total=   3.9s\n",
      "[CV] clf__max_depth=7, clf__max_features=auto, clf__min_samples_leaf=6, clf__min_samples_split=7 \n",
      "[CV]  clf__max_depth=7, clf__max_features=auto, clf__min_samples_leaf=5, clf__min_samples_split=7, total=   3.6s\n",
      "[CV] clf__max_depth=7, clf__max_features=auto, clf__min_samples_leaf=6, clf__min_samples_split=7 \n",
      "[CV]  clf__max_depth=7, clf__max_features=auto, clf__min_samples_leaf=6, clf__min_samples_split=5, total=   3.6s\n",
      "[CV] clf__max_depth=7, clf__max_features=auto, clf__min_samples_leaf=6, clf__min_samples_split=7 \n",
      "[CV]  clf__max_depth=7, clf__max_features=auto, clf__min_samples_leaf=6, clf__min_samples_split=5, total=   3.6s\n",
      "[CV] clf__max_depth=7, clf__max_features=auto, clf__min_samples_leaf=6, clf__min_samples_split=7 \n",
      "[CV]  clf__max_depth=7, clf__max_features=auto, clf__min_samples_leaf=6, clf__min_samples_split=5, total=   3.6s\n",
      "[CV] clf__max_depth=7, clf__max_features=auto, clf__min_samples_leaf=6, clf__min_samples_split=7 \n",
      "[CV]  clf__max_depth=7, clf__max_features=auto, clf__min_samples_leaf=6, clf__min_samples_split=5, total=   3.8s\n",
      "[CV] clf__max_depth=7, clf__max_features=log2, clf__min_samples_leaf=4, clf__min_samples_split=5 \n",
      "[CV]  clf__max_depth=7, clf__max_features=auto, clf__min_samples_leaf=6, clf__min_samples_split=6, total=   3.5s\n",
      "[CV]  clf__max_depth=7, clf__max_features=auto, clf__min_samples_leaf=6, clf__min_samples_split=6, total=   3.6s\n",
      "[CV] clf__max_depth=7, clf__max_features=log2, clf__min_samples_leaf=4, clf__min_samples_split=5 \n",
      "[CV] clf__max_depth=7, clf__max_features=log2, clf__min_samples_leaf=4, clf__min_samples_split=5 \n",
      "[CV]  clf__max_depth=7, clf__max_features=auto, clf__min_samples_leaf=6, clf__min_samples_split=5, total=   3.8s\n",
      "[CV]  clf__max_depth=7, clf__max_features=auto, clf__min_samples_leaf=6, clf__min_samples_split=6, total=   3.7s\n",
      "[CV] clf__max_depth=7, clf__max_features=log2, clf__min_samples_leaf=4, clf__min_samples_split=5 \n",
      "[CV] clf__max_depth=7, clf__max_features=log2, clf__min_samples_leaf=4, clf__min_samples_split=5 \n",
      "[CV]  clf__max_depth=7, clf__max_features=auto, clf__min_samples_leaf=6, clf__min_samples_split=6, total=   3.7s\n",
      "[CV] clf__max_depth=7, clf__max_features=log2, clf__min_samples_leaf=4, clf__min_samples_split=6 \n",
      "[CV]  clf__max_depth=7, clf__max_features=auto, clf__min_samples_leaf=6, clf__min_samples_split=6, total=   3.6s\n",
      "[CV] clf__max_depth=7, clf__max_features=log2, clf__min_samples_leaf=4, clf__min_samples_split=6 \n",
      "[CV]  clf__max_depth=7, clf__max_features=auto, clf__min_samples_leaf=6, clf__min_samples_split=7, total=   3.6s\n",
      "[CV] clf__max_depth=7, clf__max_features=log2, clf__min_samples_leaf=4, clf__min_samples_split=6 \n",
      "[CV]  clf__max_depth=7, clf__max_features=auto, clf__min_samples_leaf=6, clf__min_samples_split=7, total=   3.9s\n",
      "[CV] clf__max_depth=7, clf__max_features=log2, clf__min_samples_leaf=4, clf__min_samples_split=6 \n",
      "[CV]  clf__max_depth=7, clf__max_features=auto, clf__min_samples_leaf=6, clf__min_samples_split=7, total=   3.7s\n",
      "[CV] clf__max_depth=7, clf__max_features=log2, clf__min_samples_leaf=4, clf__min_samples_split=6 \n",
      "[CV]  clf__max_depth=7, clf__max_features=auto, clf__min_samples_leaf=6, clf__min_samples_split=7, total=   3.7s\n",
      "[CV] clf__max_depth=7, clf__max_features=log2, clf__min_samples_leaf=4, clf__min_samples_split=7 \n",
      "[CV]  clf__max_depth=7, clf__max_features=auto, clf__min_samples_leaf=6, clf__min_samples_split=7, total=   3.6s\n",
      "[CV] clf__max_depth=7, clf__max_features=log2, clf__min_samples_leaf=4, clf__min_samples_split=7 \n",
      "[CV]  clf__max_depth=7, clf__max_features=log2, clf__min_samples_leaf=4, clf__min_samples_split=5, total=   3.5s\n",
      "[CV] clf__max_depth=7, clf__max_features=log2, clf__min_samples_leaf=4, clf__min_samples_split=7 \n",
      "[CV]  clf__max_depth=7, clf__max_features=log2, clf__min_samples_leaf=4, clf__min_samples_split=5, total=   3.7s\n",
      "[CV]  clf__max_depth=7, clf__max_features=log2, clf__min_samples_leaf=4, clf__min_samples_split=5, total=   3.6s\n",
      "[CV] clf__max_depth=7, clf__max_features=log2, clf__min_samples_leaf=4, clf__min_samples_split=7 \n",
      "[CV] clf__max_depth=7, clf__max_features=log2, clf__min_samples_leaf=4, clf__min_samples_split=7 \n",
      "[CV]  clf__max_depth=7, clf__max_features=log2, clf__min_samples_leaf=4, clf__min_samples_split=5, total=   3.6s\n",
      "[CV]  clf__max_depth=7, clf__max_features=log2, clf__min_samples_leaf=4, clf__min_samples_split=5, total=   3.7s\n",
      "[CV] clf__max_depth=7, clf__max_features=log2, clf__min_samples_leaf=5, clf__min_samples_split=5 \n",
      "[CV] clf__max_depth=7, clf__max_features=log2, clf__min_samples_leaf=5, clf__min_samples_split=5 \n",
      "[CV]  clf__max_depth=7, clf__max_features=log2, clf__min_samples_leaf=4, clf__min_samples_split=6, total=   3.6s\n",
      "[CV] clf__max_depth=7, clf__max_features=log2, clf__min_samples_leaf=5, clf__min_samples_split=5 \n",
      "[CV]  clf__max_depth=7, clf__max_features=log2, clf__min_samples_leaf=4, clf__min_samples_split=6, total=   4.1s\n",
      "[CV] clf__max_depth=7, clf__max_features=log2, clf__min_samples_leaf=5, clf__min_samples_split=5 \n",
      "[CV]  clf__max_depth=7, clf__max_features=log2, clf__min_samples_leaf=4, clf__min_samples_split=6, total=   3.5s\n",
      "[CV] clf__max_depth=7, clf__max_features=log2, clf__min_samples_leaf=5, clf__min_samples_split=5 \n",
      "[CV]  clf__max_depth=7, clf__max_features=log2, clf__min_samples_leaf=4, clf__min_samples_split=6, total=   4.0s\n",
      "[CV] clf__max_depth=7, clf__max_features=log2, clf__min_samples_leaf=5, clf__min_samples_split=6 \n",
      "[CV]  clf__max_depth=7, clf__max_features=log2, clf__min_samples_leaf=4, clf__min_samples_split=6, total=   3.6s\n",
      "[CV] clf__max_depth=7, clf__max_features=log2, clf__min_samples_leaf=5, clf__min_samples_split=6 \n",
      "[CV]  clf__max_depth=7, clf__max_features=log2, clf__min_samples_leaf=4, clf__min_samples_split=7, total=   3.7s\n",
      "[CV] clf__max_depth=7, clf__max_features=log2, clf__min_samples_leaf=5, clf__min_samples_split=6 \n",
      "[CV]  clf__max_depth=7, clf__max_features=log2, clf__min_samples_leaf=4, clf__min_samples_split=7, total=   3.8s\n",
      "[CV] clf__max_depth=7, clf__max_features=log2, clf__min_samples_leaf=5, clf__min_samples_split=6 \n",
      "[CV]  clf__max_depth=7, clf__max_features=log2, clf__min_samples_leaf=4, clf__min_samples_split=7, total=   3.6s\n",
      "[CV] clf__max_depth=7, clf__max_features=log2, clf__min_samples_leaf=5, clf__min_samples_split=6 \n",
      "[CV]  clf__max_depth=7, clf__max_features=log2, clf__min_samples_leaf=4, clf__min_samples_split=7, total=   3.6s\n",
      "[CV] clf__max_depth=7, clf__max_features=log2, clf__min_samples_leaf=5, clf__min_samples_split=7 \n",
      "[CV]  clf__max_depth=7, clf__max_features=log2, clf__min_samples_leaf=5, clf__min_samples_split=5, total=   3.5s\n",
      "[CV]  clf__max_depth=7, clf__max_features=log2, clf__min_samples_leaf=4, clf__min_samples_split=7, total=   3.7s\n",
      "[CV] clf__max_depth=7, clf__max_features=log2, clf__min_samples_leaf=5, clf__min_samples_split=7 \n",
      "[CV]  clf__max_depth=7, clf__max_features=log2, clf__min_samples_leaf=5, clf__min_samples_split=5, total=   3.5s\n",
      "[CV] clf__max_depth=7, clf__max_features=log2, clf__min_samples_leaf=5, clf__min_samples_split=7 \n",
      "[CV] clf__max_depth=7, clf__max_features=log2, clf__min_samples_leaf=5, clf__min_samples_split=7 \n",
      "[CV]  clf__max_depth=7, clf__max_features=log2, clf__min_samples_leaf=5, clf__min_samples_split=5, total=   3.5s\n",
      "[CV] clf__max_depth=7, clf__max_features=log2, clf__min_samples_leaf=5, clf__min_samples_split=7 \n",
      "[CV]  clf__max_depth=7, clf__max_features=log2, clf__min_samples_leaf=5, clf__min_samples_split=5, total=   3.7s\n"
     ]
    },
    {
     "name": "stdout",
     "output_type": "stream",
     "text": [
      "[CV] clf__max_depth=7, clf__max_features=log2, clf__min_samples_leaf=6, clf__min_samples_split=5 \n",
      "[CV]  clf__max_depth=7, clf__max_features=log2, clf__min_samples_leaf=5, clf__min_samples_split=5, total=   3.4s\n",
      "[CV] clf__max_depth=7, clf__max_features=log2, clf__min_samples_leaf=6, clf__min_samples_split=5 \n",
      "[CV]  clf__max_depth=7, clf__max_features=log2, clf__min_samples_leaf=5, clf__min_samples_split=6, total=   3.6s\n",
      "[CV] clf__max_depth=7, clf__max_features=log2, clf__min_samples_leaf=6, clf__min_samples_split=5 \n",
      "[CV]  clf__max_depth=7, clf__max_features=log2, clf__min_samples_leaf=5, clf__min_samples_split=6, total=   3.6s\n",
      "[CV] clf__max_depth=7, clf__max_features=log2, clf__min_samples_leaf=6, clf__min_samples_split=5 \n",
      "[CV]  clf__max_depth=7, clf__max_features=log2, clf__min_samples_leaf=5, clf__min_samples_split=6, total=   3.5s\n",
      "[CV] clf__max_depth=7, clf__max_features=log2, clf__min_samples_leaf=6, clf__min_samples_split=5 \n",
      "[CV]  clf__max_depth=7, clf__max_features=log2, clf__min_samples_leaf=5, clf__min_samples_split=6, total=   3.6s\n",
      "[CV] clf__max_depth=7, clf__max_features=log2, clf__min_samples_leaf=6, clf__min_samples_split=6 \n",
      "[CV]  clf__max_depth=7, clf__max_features=log2, clf__min_samples_leaf=5, clf__min_samples_split=6, total=   3.5s\n",
      "[CV] clf__max_depth=7, clf__max_features=log2, clf__min_samples_leaf=6, clf__min_samples_split=6 \n",
      "[CV]  clf__max_depth=7, clf__max_features=log2, clf__min_samples_leaf=5, clf__min_samples_split=7, total=   3.7s\n",
      "[CV] clf__max_depth=7, clf__max_features=log2, clf__min_samples_leaf=6, clf__min_samples_split=6 \n"
     ]
    },
    {
     "name": "stderr",
     "output_type": "stream",
     "text": [
      "[Parallel(n_jobs=-1)]: Done 341 tasks      | elapsed:  3.9min\n"
     ]
    },
    {
     "name": "stdout",
     "output_type": "stream",
     "text": [
      "[CV]  clf__max_depth=7, clf__max_features=log2, clf__min_samples_leaf=5, clf__min_samples_split=7, total=   3.6s\n",
      "[CV]  clf__max_depth=7, clf__max_features=log2, clf__min_samples_leaf=5, clf__min_samples_split=7, total=   3.9s\n",
      "[CV] clf__max_depth=7, clf__max_features=log2, clf__min_samples_leaf=6, clf__min_samples_split=6 \n",
      "[CV]  clf__max_depth=7, clf__max_features=log2, clf__min_samples_leaf=5, clf__min_samples_split=7, total=   3.6s\n",
      "[CV] clf__max_depth=7, clf__max_features=log2, clf__min_samples_leaf=6, clf__min_samples_split=6 \n",
      "[CV] clf__max_depth=7, clf__max_features=log2, clf__min_samples_leaf=6, clf__min_samples_split=7 \n",
      "[CV]  clf__max_depth=7, clf__max_features=log2, clf__min_samples_leaf=5, clf__min_samples_split=7, total=   3.7s\n",
      "[CV] clf__max_depth=7, clf__max_features=log2, clf__min_samples_leaf=6, clf__min_samples_split=7 \n",
      "[CV]  clf__max_depth=7, clf__max_features=log2, clf__min_samples_leaf=6, clf__min_samples_split=5, total=   3.5s\n",
      "[CV] clf__max_depth=7, clf__max_features=log2, clf__min_samples_leaf=6, clf__min_samples_split=7 \n",
      "[CV]  clf__max_depth=7, clf__max_features=log2, clf__min_samples_leaf=6, clf__min_samples_split=5, total=   3.6s\n",
      "[CV] clf__max_depth=7, clf__max_features=log2, clf__min_samples_leaf=6, clf__min_samples_split=7 \n",
      "[CV]  clf__max_depth=7, clf__max_features=log2, clf__min_samples_leaf=6, clf__min_samples_split=5, total=   3.5s\n",
      "[CV] clf__max_depth=7, clf__max_features=log2, clf__min_samples_leaf=6, clf__min_samples_split=7 \n",
      "[CV]  clf__max_depth=7, clf__max_features=log2, clf__min_samples_leaf=6, clf__min_samples_split=5, total=   3.7s\n",
      "[CV] clf__max_depth=7, clf__max_features=sqrt, clf__min_samples_leaf=4, clf__min_samples_split=5 \n",
      "[CV]  clf__max_depth=7, clf__max_features=log2, clf__min_samples_leaf=6, clf__min_samples_split=5, total=   3.6s\n",
      "[CV] clf__max_depth=7, clf__max_features=sqrt, clf__min_samples_leaf=4, clf__min_samples_split=5 \n",
      "[CV]  clf__max_depth=7, clf__max_features=log2, clf__min_samples_leaf=6, clf__min_samples_split=6, total=   3.6s\n",
      "[CV]  clf__max_depth=7, clf__max_features=log2, clf__min_samples_leaf=6, clf__min_samples_split=6, total=   3.9s\n",
      "[CV] clf__max_depth=7, clf__max_features=sqrt, clf__min_samples_leaf=4, clf__min_samples_split=5 \n",
      "[CV] clf__max_depth=7, clf__max_features=sqrt, clf__min_samples_leaf=4, clf__min_samples_split=5 \n",
      "[CV]  clf__max_depth=7, clf__max_features=log2, clf__min_samples_leaf=6, clf__min_samples_split=6, total=   3.6s\n",
      "[CV] clf__max_depth=7, clf__max_features=sqrt, clf__min_samples_leaf=4, clf__min_samples_split=5 \n",
      "[CV]  clf__max_depth=7, clf__max_features=log2, clf__min_samples_leaf=6, clf__min_samples_split=6, total=   3.5s\n",
      "[CV] clf__max_depth=7, clf__max_features=sqrt, clf__min_samples_leaf=4, clf__min_samples_split=6 \n",
      "[CV]  clf__max_depth=7, clf__max_features=log2, clf__min_samples_leaf=6, clf__min_samples_split=6, total=   3.5s\n",
      "[CV] clf__max_depth=7, clf__max_features=sqrt, clf__min_samples_leaf=4, clf__min_samples_split=6 \n",
      "[CV]  clf__max_depth=7, clf__max_features=log2, clf__min_samples_leaf=6, clf__min_samples_split=7, total=   3.6s\n",
      "[CV] clf__max_depth=7, clf__max_features=sqrt, clf__min_samples_leaf=4, clf__min_samples_split=6 \n",
      "[CV]  clf__max_depth=7, clf__max_features=log2, clf__min_samples_leaf=6, clf__min_samples_split=7, total=   3.4s\n",
      "[CV]  clf__max_depth=7, clf__max_features=log2, clf__min_samples_leaf=6, clf__min_samples_split=7, total=   3.8s\n",
      "[CV] clf__max_depth=7, clf__max_features=sqrt, clf__min_samples_leaf=4, clf__min_samples_split=6 \n",
      "[CV] clf__max_depth=7, clf__max_features=sqrt, clf__min_samples_leaf=4, clf__min_samples_split=6 \n",
      "[CV]  clf__max_depth=7, clf__max_features=log2, clf__min_samples_leaf=6, clf__min_samples_split=7, total=   3.5s\n",
      "[CV] clf__max_depth=7, clf__max_features=sqrt, clf__min_samples_leaf=4, clf__min_samples_split=7 \n",
      "[CV]  clf__max_depth=7, clf__max_features=log2, clf__min_samples_leaf=6, clf__min_samples_split=7, total=   3.7s\n",
      "[CV] clf__max_depth=7, clf__max_features=sqrt, clf__min_samples_leaf=4, clf__min_samples_split=7 \n",
      "[CV]  clf__max_depth=7, clf__max_features=sqrt, clf__min_samples_leaf=4, clf__min_samples_split=5, total=   3.7s\n",
      "[CV] clf__max_depth=7, clf__max_features=sqrt, clf__min_samples_leaf=4, clf__min_samples_split=7 \n",
      "[CV]  clf__max_depth=7, clf__max_features=sqrt, clf__min_samples_leaf=4, clf__min_samples_split=5, total=   3.5s\n",
      "[CV]  clf__max_depth=7, clf__max_features=sqrt, clf__min_samples_leaf=4, clf__min_samples_split=5, total=   4.1s\n",
      "[CV] clf__max_depth=7, clf__max_features=sqrt, clf__min_samples_leaf=4, clf__min_samples_split=7 \n",
      "[CV]  clf__max_depth=7, clf__max_features=sqrt, clf__min_samples_leaf=4, clf__min_samples_split=5, total=   3.7s\n",
      "[CV] clf__max_depth=7, clf__max_features=sqrt, clf__min_samples_leaf=4, clf__min_samples_split=7 \n",
      "[CV] clf__max_depth=7, clf__max_features=sqrt, clf__min_samples_leaf=5, clf__min_samples_split=5 \n",
      "[CV]  clf__max_depth=7, clf__max_features=sqrt, clf__min_samples_leaf=4, clf__min_samples_split=5, total=   3.6s\n",
      "[CV] clf__max_depth=7, clf__max_features=sqrt, clf__min_samples_leaf=5, clf__min_samples_split=5 \n",
      "[CV]  clf__max_depth=7, clf__max_features=sqrt, clf__min_samples_leaf=4, clf__min_samples_split=6, total=   3.6s\n",
      "[CV] clf__max_depth=7, clf__max_features=sqrt, clf__min_samples_leaf=5, clf__min_samples_split=5 \n",
      "[CV]  clf__max_depth=7, clf__max_features=sqrt, clf__min_samples_leaf=4, clf__min_samples_split=6, total=   3.5s\n",
      "[CV] clf__max_depth=7, clf__max_features=sqrt, clf__min_samples_leaf=5, clf__min_samples_split=5 \n",
      "[CV]  clf__max_depth=7, clf__max_features=sqrt, clf__min_samples_leaf=4, clf__min_samples_split=6, total=   3.7s\n",
      "[CV] clf__max_depth=7, clf__max_features=sqrt, clf__min_samples_leaf=5, clf__min_samples_split=5 \n",
      "[CV]  clf__max_depth=7, clf__max_features=sqrt, clf__min_samples_leaf=4, clf__min_samples_split=6, total=   3.5s\n",
      "[CV]  clf__max_depth=7, clf__max_features=sqrt, clf__min_samples_leaf=4, clf__min_samples_split=6, total=   3.5s\n",
      "[CV] clf__max_depth=7, clf__max_features=sqrt, clf__min_samples_leaf=5, clf__min_samples_split=6 \n",
      "[CV] clf__max_depth=7, clf__max_features=sqrt, clf__min_samples_leaf=5, clf__min_samples_split=6 \n",
      "[CV]  clf__max_depth=7, clf__max_features=sqrt, clf__min_samples_leaf=4, clf__min_samples_split=7, total=   3.4s\n",
      "[CV] clf__max_depth=7, clf__max_features=sqrt, clf__min_samples_leaf=5, clf__min_samples_split=6 \n",
      "[CV]  clf__max_depth=7, clf__max_features=sqrt, clf__min_samples_leaf=4, clf__min_samples_split=7, total=   3.8s\n",
      "[CV] clf__max_depth=7, clf__max_features=sqrt, clf__min_samples_leaf=5, clf__min_samples_split=6 \n",
      "[CV]  clf__max_depth=7, clf__max_features=sqrt, clf__min_samples_leaf=4, clf__min_samples_split=7, total=   3.5s\n",
      "[CV] clf__max_depth=7, clf__max_features=sqrt, clf__min_samples_leaf=5, clf__min_samples_split=6 \n",
      "[CV]  clf__max_depth=7, clf__max_features=sqrt, clf__min_samples_leaf=4, clf__min_samples_split=7, total=   3.7s\n",
      "[CV] clf__max_depth=7, clf__max_features=sqrt, clf__min_samples_leaf=5, clf__min_samples_split=7 \n",
      "[CV]  clf__max_depth=7, clf__max_features=sqrt, clf__min_samples_leaf=5, clf__min_samples_split=5, total=   3.8s\n",
      "[CV]  clf__max_depth=7, clf__max_features=sqrt, clf__min_samples_leaf=4, clf__min_samples_split=7, total=   4.2s\n",
      "[CV] clf__max_depth=7, clf__max_features=sqrt, clf__min_samples_leaf=5, clf__min_samples_split=7 \n",
      "[CV]  clf__max_depth=7, clf__max_features=sqrt, clf__min_samples_leaf=5, clf__min_samples_split=5, total=   3.6s\n",
      "[CV] clf__max_depth=7, clf__max_features=sqrt, clf__min_samples_leaf=5, clf__min_samples_split=7 \n",
      "[CV] clf__max_depth=7, clf__max_features=sqrt, clf__min_samples_leaf=5, clf__min_samples_split=7 \n",
      "[CV]  clf__max_depth=7, clf__max_features=sqrt, clf__min_samples_leaf=5, clf__min_samples_split=5, total=   3.5s\n",
      "[CV]  clf__max_depth=7, clf__max_features=sqrt, clf__min_samples_leaf=5, clf__min_samples_split=5, total=   3.6s\n",
      "[CV] clf__max_depth=7, clf__max_features=sqrt, clf__min_samples_leaf=5, clf__min_samples_split=7 \n",
      "[CV] clf__max_depth=7, clf__max_features=sqrt, clf__min_samples_leaf=6, clf__min_samples_split=5 \n",
      "[CV]  clf__max_depth=7, clf__max_features=sqrt, clf__min_samples_leaf=5, clf__min_samples_split=5, total=   3.5s\n",
      "[CV] clf__max_depth=7, clf__max_features=sqrt, clf__min_samples_leaf=6, clf__min_samples_split=5 \n"
     ]
    },
    {
     "name": "stdout",
     "output_type": "stream",
     "text": [
      "[CV]  clf__max_depth=7, clf__max_features=sqrt, clf__min_samples_leaf=5, clf__min_samples_split=6, total=   3.5s\n",
      "[CV] clf__max_depth=7, clf__max_features=sqrt, clf__min_samples_leaf=6, clf__min_samples_split=5 \n",
      "[CV]  clf__max_depth=7, clf__max_features=sqrt, clf__min_samples_leaf=5, clf__min_samples_split=6, total=   3.5s\n",
      "[CV]  clf__max_depth=7, clf__max_features=sqrt, clf__min_samples_leaf=5, clf__min_samples_split=6, total=   3.4s\n",
      "[CV] clf__max_depth=7, clf__max_features=sqrt, clf__min_samples_leaf=6, clf__min_samples_split=5 \n",
      "[CV] clf__max_depth=7, clf__max_features=sqrt, clf__min_samples_leaf=6, clf__min_samples_split=5 \n",
      "[CV]  clf__max_depth=7, clf__max_features=sqrt, clf__min_samples_leaf=5, clf__min_samples_split=6, total=   3.5s\n",
      "[CV] clf__max_depth=7, clf__max_features=sqrt, clf__min_samples_leaf=6, clf__min_samples_split=6 \n",
      "[CV]  clf__max_depth=7, clf__max_features=sqrt, clf__min_samples_leaf=5, clf__min_samples_split=6, total=   3.8s\n",
      "[CV] clf__max_depth=7, clf__max_features=sqrt, clf__min_samples_leaf=6, clf__min_samples_split=6 \n",
      "[CV]  clf__max_depth=7, clf__max_features=sqrt, clf__min_samples_leaf=5, clf__min_samples_split=7, total=   3.7s\n",
      "[CV]  clf__max_depth=7, clf__max_features=sqrt, clf__min_samples_leaf=5, clf__min_samples_split=7, total=   4.2s\n",
      "[CV] clf__max_depth=7, clf__max_features=sqrt, clf__min_samples_leaf=6, clf__min_samples_split=6 \n",
      "[CV]  clf__max_depth=7, clf__max_features=sqrt, clf__min_samples_leaf=5, clf__min_samples_split=7, total=   3.5s\n",
      "[CV] clf__max_depth=7, clf__max_features=sqrt, clf__min_samples_leaf=6, clf__min_samples_split=6 \n",
      "[CV]  clf__max_depth=7, clf__max_features=sqrt, clf__min_samples_leaf=5, clf__min_samples_split=7, total=   3.8s\n",
      "[CV]  clf__max_depth=7, clf__max_features=sqrt, clf__min_samples_leaf=5, clf__min_samples_split=7, total=   3.5s\n",
      "[CV] clf__max_depth=7, clf__max_features=sqrt, clf__min_samples_leaf=6, clf__min_samples_split=6 \n",
      "[CV] clf__max_depth=7, clf__max_features=sqrt, clf__min_samples_leaf=6, clf__min_samples_split=7 \n",
      "[CV] clf__max_depth=7, clf__max_features=sqrt, clf__min_samples_leaf=6, clf__min_samples_split=7 \n",
      "[CV]  clf__max_depth=7, clf__max_features=sqrt, clf__min_samples_leaf=6, clf__min_samples_split=5, total=   3.8s\n",
      "[CV] clf__max_depth=7, clf__max_features=sqrt, clf__min_samples_leaf=6, clf__min_samples_split=7 \n",
      "[CV]  clf__max_depth=7, clf__max_features=sqrt, clf__min_samples_leaf=6, clf__min_samples_split=5, total=   3.5s\n",
      "[CV] clf__max_depth=7, clf__max_features=sqrt, clf__min_samples_leaf=6, clf__min_samples_split=7 \n",
      "[CV]  clf__max_depth=7, clf__max_features=sqrt, clf__min_samples_leaf=6, clf__min_samples_split=5, total=   3.4s\n",
      "[CV]  clf__max_depth=7, clf__max_features=sqrt, clf__min_samples_leaf=6, clf__min_samples_split=5, total=   3.5s\n",
      "[CV] clf__max_depth=7, clf__max_features=sqrt, clf__min_samples_leaf=6, clf__min_samples_split=7 \n",
      "[CV] clf__max_depth=5, clf__max_features=auto, clf__min_samples_leaf=4, clf__min_samples_split=5 \n",
      "[CV]  clf__max_depth=7, clf__max_features=sqrt, clf__min_samples_leaf=6, clf__min_samples_split=5, total=   3.6s\n",
      "[CV] clf__max_depth=5, clf__max_features=auto, clf__min_samples_leaf=4, clf__min_samples_split=5 \n",
      "[CV]  clf__max_depth=7, clf__max_features=sqrt, clf__min_samples_leaf=6, clf__min_samples_split=6, total=   3.5s\n",
      "[CV] clf__max_depth=5, clf__max_features=auto, clf__min_samples_leaf=4, clf__min_samples_split=5 \n",
      "[CV]  clf__max_depth=7, clf__max_features=sqrt, clf__min_samples_leaf=6, clf__min_samples_split=6, total=   3.9s\n",
      "[CV] clf__max_depth=5, clf__max_features=auto, clf__min_samples_leaf=4, clf__min_samples_split=5 \n",
      "[CV]  clf__max_depth=7, clf__max_features=sqrt, clf__min_samples_leaf=6, clf__min_samples_split=6, total=   3.7s\n",
      "[CV]  clf__max_depth=7, clf__max_features=sqrt, clf__min_samples_leaf=6, clf__min_samples_split=6, total=   3.5s\n",
      "[CV] clf__max_depth=5, clf__max_features=auto, clf__min_samples_leaf=4, clf__min_samples_split=5 \n",
      "[CV] clf__max_depth=5, clf__max_features=auto, clf__min_samples_leaf=4, clf__min_samples_split=6 \n",
      "[CV]  clf__max_depth=7, clf__max_features=sqrt, clf__min_samples_leaf=6, clf__min_samples_split=7, total=   3.6s\n",
      "[CV]  clf__max_depth=7, clf__max_features=sqrt, clf__min_samples_leaf=6, clf__min_samples_split=6, total=   4.0s\n",
      "[CV]  clf__max_depth=7, clf__max_features=sqrt, clf__min_samples_leaf=6, clf__min_samples_split=7, total=   3.8s\n",
      "[CV] clf__max_depth=5, clf__max_features=auto, clf__min_samples_leaf=4, clf__min_samples_split=6 \n",
      "[CV] clf__max_depth=5, clf__max_features=auto, clf__min_samples_leaf=4, clf__min_samples_split=6 \n",
      "[CV] clf__max_depth=5, clf__max_features=auto, clf__min_samples_leaf=4, clf__min_samples_split=6 \n",
      "[CV]  clf__max_depth=7, clf__max_features=sqrt, clf__min_samples_leaf=6, clf__min_samples_split=7, total=   3.5s\n",
      "[CV] clf__max_depth=5, clf__max_features=auto, clf__min_samples_leaf=4, clf__min_samples_split=6 \n",
      "[CV]  clf__max_depth=7, clf__max_features=sqrt, clf__min_samples_leaf=6, clf__min_samples_split=7, total=   3.5s\n",
      "[CV] clf__max_depth=5, clf__max_features=auto, clf__min_samples_leaf=4, clf__min_samples_split=7 \n",
      "[CV]  clf__max_depth=5, clf__max_features=auto, clf__min_samples_leaf=4, clf__min_samples_split=5, total=   3.7s\n",
      "[CV]  clf__max_depth=7, clf__max_features=sqrt, clf__min_samples_leaf=6, clf__min_samples_split=7, total=   4.1s\n",
      "[CV] clf__max_depth=5, clf__max_features=auto, clf__min_samples_leaf=4, clf__min_samples_split=7 \n",
      "[CV] clf__max_depth=5, clf__max_features=auto, clf__min_samples_leaf=4, clf__min_samples_split=7 \n",
      "[CV]  clf__max_depth=5, clf__max_features=auto, clf__min_samples_leaf=4, clf__min_samples_split=5, total=   3.6s\n",
      "[CV] clf__max_depth=5, clf__max_features=auto, clf__min_samples_leaf=4, clf__min_samples_split=7 \n",
      "[CV]  clf__max_depth=5, clf__max_features=auto, clf__min_samples_leaf=4, clf__min_samples_split=5, total=   3.5s\n",
      "[CV] clf__max_depth=5, clf__max_features=auto, clf__min_samples_leaf=4, clf__min_samples_split=7 \n",
      "[CV]  clf__max_depth=5, clf__max_features=auto, clf__min_samples_leaf=4, clf__min_samples_split=5, total=   3.6s\n",
      "[CV] clf__max_depth=5, clf__max_features=auto, clf__min_samples_leaf=5, clf__min_samples_split=5 \n",
      "[CV]  clf__max_depth=5, clf__max_features=auto, clf__min_samples_leaf=4, clf__min_samples_split=5, total=   3.5s\n",
      "[CV] clf__max_depth=5, clf__max_features=auto, clf__min_samples_leaf=5, clf__min_samples_split=5 \n",
      "[CV]  clf__max_depth=5, clf__max_features=auto, clf__min_samples_leaf=4, clf__min_samples_split=6, total=   3.6s\n",
      "[CV]  clf__max_depth=5, clf__max_features=auto, clf__min_samples_leaf=4, clf__min_samples_split=6, total=   3.6s\n",
      "[CV] clf__max_depth=5, clf__max_features=auto, clf__min_samples_leaf=5, clf__min_samples_split=5 \n",
      "[CV] clf__max_depth=5, clf__max_features=auto, clf__min_samples_leaf=5, clf__min_samples_split=5 \n",
      "[CV]  clf__max_depth=5, clf__max_features=auto, clf__min_samples_leaf=4, clf__min_samples_split=6, total=   3.5s\n",
      "[CV]  clf__max_depth=5, clf__max_features=auto, clf__min_samples_leaf=4, clf__min_samples_split=6, total=   3.9s\n",
      "[CV] clf__max_depth=5, clf__max_features=auto, clf__min_samples_leaf=5, clf__min_samples_split=5 \n",
      "[CV]  clf__max_depth=5, clf__max_features=auto, clf__min_samples_leaf=4, clf__min_samples_split=6, total=   4.0s\n",
      "[CV] clf__max_depth=5, clf__max_features=auto, clf__min_samples_leaf=5, clf__min_samples_split=6 \n",
      "[CV] clf__max_depth=5, clf__max_features=auto, clf__min_samples_leaf=5, clf__min_samples_split=6 \n",
      "[CV]  clf__max_depth=5, clf__max_features=auto, clf__min_samples_leaf=4, clf__min_samples_split=7, total=   3.7s\n",
      "[CV] clf__max_depth=5, clf__max_features=auto, clf__min_samples_leaf=5, clf__min_samples_split=6 \n",
      "[CV]  clf__max_depth=5, clf__max_features=auto, clf__min_samples_leaf=4, clf__min_samples_split=7, total=   3.9s\n",
      "[CV] clf__max_depth=5, clf__max_features=auto, clf__min_samples_leaf=5, clf__min_samples_split=6 \n",
      "[CV]  clf__max_depth=5, clf__max_features=auto, clf__min_samples_leaf=4, clf__min_samples_split=7, total=   3.9s\n",
      "[CV] clf__max_depth=5, clf__max_features=auto, clf__min_samples_leaf=5, clf__min_samples_split=6 \n",
      "[CV]  clf__max_depth=5, clf__max_features=auto, clf__min_samples_leaf=4, clf__min_samples_split=7, total=   3.5s\n",
      "[CV] clf__max_depth=5, clf__max_features=auto, clf__min_samples_leaf=5, clf__min_samples_split=7 \n"
     ]
    },
    {
     "name": "stdout",
     "output_type": "stream",
     "text": [
      "[CV]  clf__max_depth=5, clf__max_features=auto, clf__min_samples_leaf=4, clf__min_samples_split=7, total=   3.7s\n",
      "[CV] clf__max_depth=5, clf__max_features=auto, clf__min_samples_leaf=5, clf__min_samples_split=7 \n",
      "[CV]  clf__max_depth=5, clf__max_features=auto, clf__min_samples_leaf=5, clf__min_samples_split=5, total=   3.7s\n",
      "[CV] clf__max_depth=5, clf__max_features=auto, clf__min_samples_leaf=5, clf__min_samples_split=7 \n",
      "[CV]  clf__max_depth=5, clf__max_features=auto, clf__min_samples_leaf=5, clf__min_samples_split=5, total=   3.6s\n",
      "[CV] clf__max_depth=5, clf__max_features=auto, clf__min_samples_leaf=5, clf__min_samples_split=7 \n",
      "[CV]  clf__max_depth=5, clf__max_features=auto, clf__min_samples_leaf=5, clf__min_samples_split=5, total=   3.7s\n",
      "[CV] clf__max_depth=5, clf__max_features=auto, clf__min_samples_leaf=5, clf__min_samples_split=7 \n",
      "[CV]  clf__max_depth=5, clf__max_features=auto, clf__min_samples_leaf=5, clf__min_samples_split=5, total=   3.8s\n",
      "[CV] clf__max_depth=5, clf__max_features=auto, clf__min_samples_leaf=6, clf__min_samples_split=5 \n",
      "[CV]  clf__max_depth=5, clf__max_features=auto, clf__min_samples_leaf=5, clf__min_samples_split=6, total=   3.6s\n",
      "[CV]  clf__max_depth=5, clf__max_features=auto, clf__min_samples_leaf=5, clf__min_samples_split=6, total=   3.7s\n",
      "[CV]  clf__max_depth=5, clf__max_features=auto, clf__min_samples_leaf=5, clf__min_samples_split=5, total=   3.6s\n",
      "[CV] clf__max_depth=5, clf__max_features=auto, clf__min_samples_leaf=6, clf__min_samples_split=5 \n",
      "[CV] clf__max_depth=5, clf__max_features=auto, clf__min_samples_leaf=6, clf__min_samples_split=5 \n",
      "[CV] clf__max_depth=5, clf__max_features=auto, clf__min_samples_leaf=6, clf__min_samples_split=5 \n",
      "[CV]  clf__max_depth=5, clf__max_features=auto, clf__min_samples_leaf=5, clf__min_samples_split=6, total=   3.5s\n",
      "[CV] clf__max_depth=5, clf__max_features=auto, clf__min_samples_leaf=6, clf__min_samples_split=5 \n",
      "[CV]  clf__max_depth=5, clf__max_features=auto, clf__min_samples_leaf=5, clf__min_samples_split=6, total=   3.5s\n",
      "[CV] clf__max_depth=5, clf__max_features=auto, clf__min_samples_leaf=6, clf__min_samples_split=6 \n",
      "[CV]  clf__max_depth=5, clf__max_features=auto, clf__min_samples_leaf=5, clf__min_samples_split=6, total=   3.5s\n",
      "[CV] clf__max_depth=5, clf__max_features=auto, clf__min_samples_leaf=6, clf__min_samples_split=6 \n",
      "[CV]  clf__max_depth=5, clf__max_features=auto, clf__min_samples_leaf=5, clf__min_samples_split=7, total=   4.0s\n",
      "[CV] clf__max_depth=5, clf__max_features=auto, clf__min_samples_leaf=6, clf__min_samples_split=6 \n",
      "[CV]  clf__max_depth=5, clf__max_features=auto, clf__min_samples_leaf=5, clf__min_samples_split=7, total=   3.6s\n",
      "[CV] clf__max_depth=5, clf__max_features=auto, clf__min_samples_leaf=6, clf__min_samples_split=6 \n",
      "[CV]  clf__max_depth=5, clf__max_features=auto, clf__min_samples_leaf=5, clf__min_samples_split=7, total=   3.5s\n",
      "[CV] clf__max_depth=5, clf__max_features=auto, clf__min_samples_leaf=6, clf__min_samples_split=6 \n",
      "[CV]  clf__max_depth=5, clf__max_features=auto, clf__min_samples_leaf=5, clf__min_samples_split=7, total=   3.6s\n",
      "[CV] clf__max_depth=5, clf__max_features=auto, clf__min_samples_leaf=6, clf__min_samples_split=7 \n",
      "[CV]  clf__max_depth=5, clf__max_features=auto, clf__min_samples_leaf=5, clf__min_samples_split=7, total=   3.5s\n",
      "[CV] clf__max_depth=5, clf__max_features=auto, clf__min_samples_leaf=6, clf__min_samples_split=7 \n",
      "[CV]  clf__max_depth=5, clf__max_features=auto, clf__min_samples_leaf=6, clf__min_samples_split=5, total=   3.8s\n",
      "[CV] clf__max_depth=5, clf__max_features=auto, clf__min_samples_leaf=6, clf__min_samples_split=7 \n",
      "[CV]  clf__max_depth=5, clf__max_features=auto, clf__min_samples_leaf=6, clf__min_samples_split=5, total=   3.5s\n",
      "[CV] clf__max_depth=5, clf__max_features=auto, clf__min_samples_leaf=6, clf__min_samples_split=7 \n",
      "[CV]  clf__max_depth=5, clf__max_features=auto, clf__min_samples_leaf=6, clf__min_samples_split=5, total=   3.5s\n",
      "[CV]  clf__max_depth=5, clf__max_features=auto, clf__min_samples_leaf=6, clf__min_samples_split=5, total=   3.7s\n",
      "[CV] clf__max_depth=5, clf__max_features=auto, clf__min_samples_leaf=6, clf__min_samples_split=7 \n",
      "[CV] clf__max_depth=5, clf__max_features=log2, clf__min_samples_leaf=4, clf__min_samples_split=5 \n",
      "[CV]  clf__max_depth=5, clf__max_features=auto, clf__min_samples_leaf=6, clf__min_samples_split=5, total=   3.8s\n",
      "[CV]  clf__max_depth=5, clf__max_features=auto, clf__min_samples_leaf=6, clf__min_samples_split=6, total=   3.4s\n",
      "[CV] clf__max_depth=5, clf__max_features=log2, clf__min_samples_leaf=4, clf__min_samples_split=5 \n",
      "[CV] clf__max_depth=5, clf__max_features=log2, clf__min_samples_leaf=4, clf__min_samples_split=5 \n",
      "[CV]  clf__max_depth=5, clf__max_features=auto, clf__min_samples_leaf=6, clf__min_samples_split=6, total=   3.5s\n",
      "[CV] clf__max_depth=5, clf__max_features=log2, clf__min_samples_leaf=4, clf__min_samples_split=5 \n",
      "[CV]  clf__max_depth=5, clf__max_features=auto, clf__min_samples_leaf=6, clf__min_samples_split=6, total=   3.6s\n",
      "[CV] clf__max_depth=5, clf__max_features=log2, clf__min_samples_leaf=4, clf__min_samples_split=5 \n",
      "[CV]  clf__max_depth=5, clf__max_features=auto, clf__min_samples_leaf=6, clf__min_samples_split=6, total=   3.6s\n",
      "[CV] clf__max_depth=5, clf__max_features=log2, clf__min_samples_leaf=4, clf__min_samples_split=6 \n",
      "[CV]  clf__max_depth=5, clf__max_features=auto, clf__min_samples_leaf=6, clf__min_samples_split=6, total=   3.6s\n",
      "[CV] clf__max_depth=5, clf__max_features=log2, clf__min_samples_leaf=4, clf__min_samples_split=6 \n",
      "[CV]  clf__max_depth=5, clf__max_features=auto, clf__min_samples_leaf=6, clf__min_samples_split=7, total=   3.7s\n",
      "[CV] clf__max_depth=5, clf__max_features=log2, clf__min_samples_leaf=4, clf__min_samples_split=6 \n",
      "[CV]  clf__max_depth=5, clf__max_features=auto, clf__min_samples_leaf=6, clf__min_samples_split=7, total=   3.6s\n",
      "[CV] clf__max_depth=5, clf__max_features=log2, clf__min_samples_leaf=4, clf__min_samples_split=6 \n",
      "[CV]  clf__max_depth=5, clf__max_features=auto, clf__min_samples_leaf=6, clf__min_samples_split=7, total=   3.5s\n",
      "[CV] clf__max_depth=5, clf__max_features=log2, clf__min_samples_leaf=4, clf__min_samples_split=6 \n",
      "[CV]  clf__max_depth=5, clf__max_features=auto, clf__min_samples_leaf=6, clf__min_samples_split=7, total=   3.5s\n",
      "[CV] clf__max_depth=5, clf__max_features=log2, clf__min_samples_leaf=4, clf__min_samples_split=7 \n",
      "[CV]  clf__max_depth=5, clf__max_features=log2, clf__min_samples_leaf=4, clf__min_samples_split=5, total=   3.6s\n",
      "[CV]  clf__max_depth=5, clf__max_features=auto, clf__min_samples_leaf=6, clf__min_samples_split=7, total=   3.8s\n",
      "[CV] clf__max_depth=5, clf__max_features=log2, clf__min_samples_leaf=4, clf__min_samples_split=7 \n",
      "[CV]  clf__max_depth=5, clf__max_features=log2, clf__min_samples_leaf=4, clf__min_samples_split=5, total=   3.6s\n",
      "[CV] clf__max_depth=5, clf__max_features=log2, clf__min_samples_leaf=4, clf__min_samples_split=7 \n",
      "[CV] clf__max_depth=5, clf__max_features=log2, clf__min_samples_leaf=4, clf__min_samples_split=7 \n",
      "[CV]  clf__max_depth=5, clf__max_features=log2, clf__min_samples_leaf=4, clf__min_samples_split=5, total=   3.6s\n",
      "[CV] clf__max_depth=5, clf__max_features=log2, clf__min_samples_leaf=4, clf__min_samples_split=7 \n",
      "[CV]  clf__max_depth=5, clf__max_features=log2, clf__min_samples_leaf=4, clf__min_samples_split=5, total=   3.6s\n",
      "[CV] clf__max_depth=5, clf__max_features=log2, clf__min_samples_leaf=5, clf__min_samples_split=5 \n",
      "[CV]  clf__max_depth=5, clf__max_features=log2, clf__min_samples_leaf=4, clf__min_samples_split=5, total=   3.6s\n",
      "[CV] clf__max_depth=5, clf__max_features=log2, clf__min_samples_leaf=5, clf__min_samples_split=5 \n",
      "[CV]  clf__max_depth=5, clf__max_features=log2, clf__min_samples_leaf=4, clf__min_samples_split=6, total=   3.6s\n",
      "[CV] clf__max_depth=5, clf__max_features=log2, clf__min_samples_leaf=5, clf__min_samples_split=5 \n",
      "[CV]  clf__max_depth=5, clf__max_features=log2, clf__min_samples_leaf=4, clf__min_samples_split=6, total=   3.6s\n",
      "[CV] clf__max_depth=5, clf__max_features=log2, clf__min_samples_leaf=5, clf__min_samples_split=5 \n",
      "[CV]  clf__max_depth=5, clf__max_features=log2, clf__min_samples_leaf=4, clf__min_samples_split=6, total=   3.5s\n",
      "[CV] clf__max_depth=5, clf__max_features=log2, clf__min_samples_leaf=5, clf__min_samples_split=5 \n"
     ]
    },
    {
     "name": "stdout",
     "output_type": "stream",
     "text": [
      "[CV]  clf__max_depth=5, clf__max_features=log2, clf__min_samples_leaf=4, clf__min_samples_split=6, total=   4.0s\n",
      "[CV]  clf__max_depth=5, clf__max_features=log2, clf__min_samples_leaf=4, clf__min_samples_split=6, total=   3.8s\n",
      "[CV] clf__max_depth=5, clf__max_features=log2, clf__min_samples_leaf=5, clf__min_samples_split=6 \n",
      "[CV] clf__max_depth=5, clf__max_features=log2, clf__min_samples_leaf=5, clf__min_samples_split=6 \n",
      "[CV]  clf__max_depth=5, clf__max_features=log2, clf__min_samples_leaf=4, clf__min_samples_split=7, total=   3.8s\n",
      "[CV] clf__max_depth=5, clf__max_features=log2, clf__min_samples_leaf=5, clf__min_samples_split=6 \n",
      "[CV]  clf__max_depth=5, clf__max_features=log2, clf__min_samples_leaf=4, clf__min_samples_split=7, total=   3.7s\n",
      "[CV]  clf__max_depth=5, clf__max_features=log2, clf__min_samples_leaf=4, clf__min_samples_split=7, total=   4.0s\n",
      "[CV] clf__max_depth=5, clf__max_features=log2, clf__min_samples_leaf=5, clf__min_samples_split=6 \n",
      "[CV] clf__max_depth=5, clf__max_features=log2, clf__min_samples_leaf=5, clf__min_samples_split=6 \n",
      "[CV]  clf__max_depth=5, clf__max_features=log2, clf__min_samples_leaf=4, clf__min_samples_split=7, total=   4.1s\n",
      "[CV] clf__max_depth=5, clf__max_features=log2, clf__min_samples_leaf=5, clf__min_samples_split=7 \n",
      "[CV]  clf__max_depth=5, clf__max_features=log2, clf__min_samples_leaf=4, clf__min_samples_split=7, total=   3.5s\n",
      "[CV] clf__max_depth=5, clf__max_features=log2, clf__min_samples_leaf=5, clf__min_samples_split=7 \n",
      "[CV]  clf__max_depth=5, clf__max_features=log2, clf__min_samples_leaf=5, clf__min_samples_split=5, total=   4.0s\n",
      "[CV] clf__max_depth=5, clf__max_features=log2, clf__min_samples_leaf=5, clf__min_samples_split=7 \n",
      "[CV]  clf__max_depth=5, clf__max_features=log2, clf__min_samples_leaf=5, clf__min_samples_split=5, total=   3.5s\n",
      "[CV] clf__max_depth=5, clf__max_features=log2, clf__min_samples_leaf=5, clf__min_samples_split=7 \n",
      "[CV]  clf__max_depth=5, clf__max_features=log2, clf__min_samples_leaf=5, clf__min_samples_split=5, total=   4.3s\n",
      "[CV] clf__max_depth=5, clf__max_features=log2, clf__min_samples_leaf=5, clf__min_samples_split=7 \n",
      "[CV]  clf__max_depth=5, clf__max_features=log2, clf__min_samples_leaf=5, clf__min_samples_split=5, total=   3.9s\n",
      "[CV] clf__max_depth=5, clf__max_features=log2, clf__min_samples_leaf=6, clf__min_samples_split=5 \n",
      "[CV]  clf__max_depth=5, clf__max_features=log2, clf__min_samples_leaf=5, clf__min_samples_split=5, total=   3.6s\n",
      "[CV] clf__max_depth=5, clf__max_features=log2, clf__min_samples_leaf=6, clf__min_samples_split=5 \n",
      "[CV]  clf__max_depth=5, clf__max_features=log2, clf__min_samples_leaf=5, clf__min_samples_split=6, total=   4.0s\n",
      "[CV]  clf__max_depth=5, clf__max_features=log2, clf__min_samples_leaf=5, clf__min_samples_split=6, total=   3.7s\n",
      "[CV] clf__max_depth=5, clf__max_features=log2, clf__min_samples_leaf=6, clf__min_samples_split=5 \n",
      "[CV]  clf__max_depth=5, clf__max_features=log2, clf__min_samples_leaf=5, clf__min_samples_split=6, total=   4.1s\n",
      "[CV] clf__max_depth=5, clf__max_features=log2, clf__min_samples_leaf=6, clf__min_samples_split=5 \n",
      "[CV] clf__max_depth=5, clf__max_features=log2, clf__min_samples_leaf=6, clf__min_samples_split=5 \n",
      "[CV]  clf__max_depth=5, clf__max_features=log2, clf__min_samples_leaf=5, clf__min_samples_split=6, total=   3.6s\n",
      "[CV] clf__max_depth=5, clf__max_features=log2, clf__min_samples_leaf=6, clf__min_samples_split=6 \n",
      "[CV]  clf__max_depth=5, clf__max_features=log2, clf__min_samples_leaf=5, clf__min_samples_split=6, total=   3.5s\n",
      "[CV] clf__max_depth=5, clf__max_features=log2, clf__min_samples_leaf=6, clf__min_samples_split=6 \n",
      "[CV]  clf__max_depth=5, clf__max_features=log2, clf__min_samples_leaf=5, clf__min_samples_split=7, total=   3.7s\n",
      "[CV]  clf__max_depth=5, clf__max_features=log2, clf__min_samples_leaf=5, clf__min_samples_split=7, total=   3.5s\n",
      "[CV] clf__max_depth=5, clf__max_features=log2, clf__min_samples_leaf=6, clf__min_samples_split=6 \n",
      "[CV] clf__max_depth=5, clf__max_features=log2, clf__min_samples_leaf=6, clf__min_samples_split=6 \n",
      "[CV]  clf__max_depth=5, clf__max_features=log2, clf__min_samples_leaf=5, clf__min_samples_split=7, total=   3.5s\n",
      "[CV] clf__max_depth=5, clf__max_features=log2, clf__min_samples_leaf=6, clf__min_samples_split=6 \n",
      "[CV]  clf__max_depth=5, clf__max_features=log2, clf__min_samples_leaf=5, clf__min_samples_split=7, total=   3.5s\n",
      "[CV] clf__max_depth=5, clf__max_features=log2, clf__min_samples_leaf=6, clf__min_samples_split=7 \n",
      "[CV]  clf__max_depth=5, clf__max_features=log2, clf__min_samples_leaf=5, clf__min_samples_split=7, total=   3.5s\n",
      "[CV] clf__max_depth=5, clf__max_features=log2, clf__min_samples_leaf=6, clf__min_samples_split=7 \n",
      "[CV]  clf__max_depth=5, clf__max_features=log2, clf__min_samples_leaf=6, clf__min_samples_split=5, total=   3.5s\n",
      "[CV] clf__max_depth=5, clf__max_features=log2, clf__min_samples_leaf=6, clf__min_samples_split=7 \n",
      "[CV]  clf__max_depth=5, clf__max_features=log2, clf__min_samples_leaf=6, clf__min_samples_split=5, total=   3.7s\n",
      "[CV] clf__max_depth=5, clf__max_features=log2, clf__min_samples_leaf=6, clf__min_samples_split=7 \n",
      "[CV]  clf__max_depth=5, clf__max_features=log2, clf__min_samples_leaf=6, clf__min_samples_split=5, total=   3.5s\n",
      "[CV]  clf__max_depth=5, clf__max_features=log2, clf__min_samples_leaf=6, clf__min_samples_split=5, total=   3.6s\n",
      "[CV] clf__max_depth=5, clf__max_features=log2, clf__min_samples_leaf=6, clf__min_samples_split=7 \n",
      "[CV]  clf__max_depth=5, clf__max_features=log2, clf__min_samples_leaf=6, clf__min_samples_split=5, total=   3.6s\n",
      "[CV] clf__max_depth=5, clf__max_features=sqrt, clf__min_samples_leaf=4, clf__min_samples_split=5 \n",
      "[CV] clf__max_depth=5, clf__max_features=sqrt, clf__min_samples_leaf=4, clf__min_samples_split=5 \n",
      "[CV]  clf__max_depth=5, clf__max_features=log2, clf__min_samples_leaf=6, clf__min_samples_split=6, total=   3.4s\n",
      "[CV] clf__max_depth=5, clf__max_features=sqrt, clf__min_samples_leaf=4, clf__min_samples_split=5 \n",
      "[CV]  clf__max_depth=5, clf__max_features=log2, clf__min_samples_leaf=6, clf__min_samples_split=6, total=   3.6s\n",
      "[CV] clf__max_depth=5, clf__max_features=sqrt, clf__min_samples_leaf=4, clf__min_samples_split=5 \n",
      "[CV]  clf__max_depth=5, clf__max_features=log2, clf__min_samples_leaf=6, clf__min_samples_split=6, total=   3.8s\n",
      "[CV] clf__max_depth=5, clf__max_features=sqrt, clf__min_samples_leaf=4, clf__min_samples_split=5 \n",
      "[CV]  clf__max_depth=5, clf__max_features=log2, clf__min_samples_leaf=6, clf__min_samples_split=6, total=   3.9s\n",
      "[CV] clf__max_depth=5, clf__max_features=sqrt, clf__min_samples_leaf=4, clf__min_samples_split=6 \n",
      "[CV]  clf__max_depth=5, clf__max_features=log2, clf__min_samples_leaf=6, clf__min_samples_split=6, total=   3.4s\n",
      "[CV] clf__max_depth=5, clf__max_features=sqrt, clf__min_samples_leaf=4, clf__min_samples_split=6 \n",
      "[CV]  clf__max_depth=5, clf__max_features=log2, clf__min_samples_leaf=6, clf__min_samples_split=7, total=   3.4s\n",
      "[CV] clf__max_depth=5, clf__max_features=sqrt, clf__min_samples_leaf=4, clf__min_samples_split=6 \n",
      "[CV]  clf__max_depth=5, clf__max_features=log2, clf__min_samples_leaf=6, clf__min_samples_split=7, total=   3.4s\n",
      "[CV] clf__max_depth=5, clf__max_features=sqrt, clf__min_samples_leaf=4, clf__min_samples_split=6 \n",
      "[CV]  clf__max_depth=5, clf__max_features=log2, clf__min_samples_leaf=6, clf__min_samples_split=7, total=   3.5s\n",
      "[CV] clf__max_depth=5, clf__max_features=sqrt, clf__min_samples_leaf=4, clf__min_samples_split=6 \n",
      "[CV]  clf__max_depth=5, clf__max_features=log2, clf__min_samples_leaf=6, clf__min_samples_split=7, total=   3.6s\n",
      "[CV] clf__max_depth=5, clf__max_features=sqrt, clf__min_samples_leaf=4, clf__min_samples_split=7 \n",
      "[CV]  clf__max_depth=5, clf__max_features=log2, clf__min_samples_leaf=6, clf__min_samples_split=7, total=   3.5s\n",
      "[CV] clf__max_depth=5, clf__max_features=sqrt, clf__min_samples_leaf=4, clf__min_samples_split=7 \n",
      "[CV]  clf__max_depth=5, clf__max_features=sqrt, clf__min_samples_leaf=4, clf__min_samples_split=5, total=   3.7s\n",
      "[CV]  clf__max_depth=5, clf__max_features=sqrt, clf__min_samples_leaf=4, clf__min_samples_split=5, total=   4.0s\n",
      "[CV] clf__max_depth=5, clf__max_features=sqrt, clf__min_samples_leaf=4, clf__min_samples_split=7 \n",
      "[CV] clf__max_depth=5, clf__max_features=sqrt, clf__min_samples_leaf=4, clf__min_samples_split=7 \n"
     ]
    },
    {
     "name": "stdout",
     "output_type": "stream",
     "text": [
      "[CV]  clf__max_depth=5, clf__max_features=sqrt, clf__min_samples_leaf=4, clf__min_samples_split=5, total=   3.7s\n",
      "[CV] clf__max_depth=5, clf__max_features=sqrt, clf__min_samples_leaf=4, clf__min_samples_split=7 \n",
      "[CV]  clf__max_depth=5, clf__max_features=sqrt, clf__min_samples_leaf=4, clf__min_samples_split=5, total=   3.5s\n",
      "[CV] clf__max_depth=5, clf__max_features=sqrt, clf__min_samples_leaf=5, clf__min_samples_split=5 \n",
      "[CV]  clf__max_depth=5, clf__max_features=sqrt, clf__min_samples_leaf=4, clf__min_samples_split=5, total=   3.9s\n",
      "[CV] clf__max_depth=5, clf__max_features=sqrt, clf__min_samples_leaf=5, clf__min_samples_split=5 \n",
      "[CV]  clf__max_depth=5, clf__max_features=sqrt, clf__min_samples_leaf=4, clf__min_samples_split=6, total=   3.5s\n",
      "[CV]  clf__max_depth=5, clf__max_features=sqrt, clf__min_samples_leaf=4, clf__min_samples_split=6, total=   3.5s\n",
      "[CV]  clf__max_depth=5, clf__max_features=sqrt, clf__min_samples_leaf=4, clf__min_samples_split=6, total=   3.7s\n",
      "[CV] clf__max_depth=5, clf__max_features=sqrt, clf__min_samples_leaf=5, clf__min_samples_split=5 \n",
      "[CV] clf__max_depth=5, clf__max_features=sqrt, clf__min_samples_leaf=5, clf__min_samples_split=5 \n",
      "[CV] clf__max_depth=5, clf__max_features=sqrt, clf__min_samples_leaf=5, clf__min_samples_split=5 \n",
      "[CV]  clf__max_depth=5, clf__max_features=sqrt, clf__min_samples_leaf=4, clf__min_samples_split=6, total=   3.5s\n",
      "[CV] clf__max_depth=5, clf__max_features=sqrt, clf__min_samples_leaf=5, clf__min_samples_split=6 \n",
      "[CV]  clf__max_depth=5, clf__max_features=sqrt, clf__min_samples_leaf=4, clf__min_samples_split=6, total=   3.5s\n",
      "[CV] clf__max_depth=5, clf__max_features=sqrt, clf__min_samples_leaf=5, clf__min_samples_split=6 \n",
      "[CV]  clf__max_depth=5, clf__max_features=sqrt, clf__min_samples_leaf=4, clf__min_samples_split=7, total=   3.6s\n",
      "[CV] clf__max_depth=5, clf__max_features=sqrt, clf__min_samples_leaf=5, clf__min_samples_split=6 \n",
      "[CV]  clf__max_depth=5, clf__max_features=sqrt, clf__min_samples_leaf=4, clf__min_samples_split=7, total=   3.8s\n",
      "[CV]  clf__max_depth=5, clf__max_features=sqrt, clf__min_samples_leaf=4, clf__min_samples_split=7, total=   3.6s\n",
      "[CV] clf__max_depth=5, clf__max_features=sqrt, clf__min_samples_leaf=5, clf__min_samples_split=6 \n",
      "[CV] clf__max_depth=5, clf__max_features=sqrt, clf__min_samples_leaf=5, clf__min_samples_split=6 \n",
      "[CV]  clf__max_depth=5, clf__max_features=sqrt, clf__min_samples_leaf=4, clf__min_samples_split=7, total=   3.8s\n",
      "[CV] clf__max_depth=5, clf__max_features=sqrt, clf__min_samples_leaf=5, clf__min_samples_split=7 \n",
      "[CV]  clf__max_depth=5, clf__max_features=sqrt, clf__min_samples_leaf=4, clf__min_samples_split=7, total=   3.6s\n",
      "[CV] clf__max_depth=5, clf__max_features=sqrt, clf__min_samples_leaf=5, clf__min_samples_split=7 \n",
      "[CV]  clf__max_depth=5, clf__max_features=sqrt, clf__min_samples_leaf=5, clf__min_samples_split=5, total=   3.7s\n",
      "[CV]  clf__max_depth=5, clf__max_features=sqrt, clf__min_samples_leaf=5, clf__min_samples_split=5, total=   3.6s\n",
      "[CV] clf__max_depth=5, clf__max_features=sqrt, clf__min_samples_leaf=5, clf__min_samples_split=7 \n",
      "[CV] clf__max_depth=5, clf__max_features=sqrt, clf__min_samples_leaf=5, clf__min_samples_split=7 \n",
      "[CV]  clf__max_depth=5, clf__max_features=sqrt, clf__min_samples_leaf=5, clf__min_samples_split=5, total=   3.6s\n",
      "[CV]  clf__max_depth=5, clf__max_features=sqrt, clf__min_samples_leaf=5, clf__min_samples_split=5, total=   3.7s\n",
      "[CV] clf__max_depth=5, clf__max_features=sqrt, clf__min_samples_leaf=5, clf__min_samples_split=7 \n",
      "[CV]  clf__max_depth=5, clf__max_features=sqrt, clf__min_samples_leaf=5, clf__min_samples_split=5, total=   3.7s\n",
      "[CV] clf__max_depth=5, clf__max_features=sqrt, clf__min_samples_leaf=6, clf__min_samples_split=5 \n",
      "[CV] clf__max_depth=5, clf__max_features=sqrt, clf__min_samples_leaf=6, clf__min_samples_split=5 \n",
      "[CV]  clf__max_depth=5, clf__max_features=sqrt, clf__min_samples_leaf=5, clf__min_samples_split=6, total=   3.5s\n",
      "[CV] clf__max_depth=5, clf__max_features=sqrt, clf__min_samples_leaf=6, clf__min_samples_split=5 \n",
      "[CV]  clf__max_depth=5, clf__max_features=sqrt, clf__min_samples_leaf=5, clf__min_samples_split=6, total=   3.6s\n",
      "[CV] clf__max_depth=5, clf__max_features=sqrt, clf__min_samples_leaf=6, clf__min_samples_split=5 \n",
      "[CV]  clf__max_depth=5, clf__max_features=sqrt, clf__min_samples_leaf=5, clf__min_samples_split=6, total=   3.5s\n",
      "[CV] clf__max_depth=5, clf__max_features=sqrt, clf__min_samples_leaf=6, clf__min_samples_split=5 \n",
      "[CV]  clf__max_depth=5, clf__max_features=sqrt, clf__min_samples_leaf=5, clf__min_samples_split=6, total=   3.7s\n",
      "[CV] clf__max_depth=5, clf__max_features=sqrt, clf__min_samples_leaf=6, clf__min_samples_split=6 \n",
      "[CV]  clf__max_depth=5, clf__max_features=sqrt, clf__min_samples_leaf=5, clf__min_samples_split=7, total=   3.6s\n",
      "[CV] clf__max_depth=5, clf__max_features=sqrt, clf__min_samples_leaf=6, clf__min_samples_split=6 \n",
      "[CV]  clf__max_depth=5, clf__max_features=sqrt, clf__min_samples_leaf=5, clf__min_samples_split=6, total=   3.7s\n",
      "[CV] clf__max_depth=5, clf__max_features=sqrt, clf__min_samples_leaf=6, clf__min_samples_split=6 \n",
      "[CV]  clf__max_depth=5, clf__max_features=sqrt, clf__min_samples_leaf=5, clf__min_samples_split=7, total=   3.6s\n",
      "[CV]  clf__max_depth=5, clf__max_features=sqrt, clf__min_samples_leaf=5, clf__min_samples_split=7, total=   3.5s\n",
      "[CV] clf__max_depth=5, clf__max_features=sqrt, clf__min_samples_leaf=6, clf__min_samples_split=6 \n",
      "[CV] clf__max_depth=5, clf__max_features=sqrt, clf__min_samples_leaf=6, clf__min_samples_split=6 \n",
      "[CV]  clf__max_depth=5, clf__max_features=sqrt, clf__min_samples_leaf=5, clf__min_samples_split=7, total=   3.6s\n",
      "[CV] clf__max_depth=5, clf__max_features=sqrt, clf__min_samples_leaf=6, clf__min_samples_split=7 \n",
      "[CV]  clf__max_depth=5, clf__max_features=sqrt, clf__min_samples_leaf=6, clf__min_samples_split=5, total=   3.5s\n",
      "[CV]  clf__max_depth=5, clf__max_features=sqrt, clf__min_samples_leaf=5, clf__min_samples_split=7, total=   3.6s\n",
      "[CV] clf__max_depth=5, clf__max_features=sqrt, clf__min_samples_leaf=6, clf__min_samples_split=7 \n",
      "[CV] clf__max_depth=5, clf__max_features=sqrt, clf__min_samples_leaf=6, clf__min_samples_split=7 \n",
      "[CV]  clf__max_depth=5, clf__max_features=sqrt, clf__min_samples_leaf=6, clf__min_samples_split=5, total=   3.6s\n",
      "[CV] clf__max_depth=5, clf__max_features=sqrt, clf__min_samples_leaf=6, clf__min_samples_split=7 \n",
      "[CV]  clf__max_depth=5, clf__max_features=sqrt, clf__min_samples_leaf=6, clf__min_samples_split=5, total=   3.5s\n",
      "[CV] clf__max_depth=5, clf__max_features=sqrt, clf__min_samples_leaf=6, clf__min_samples_split=7 \n",
      "[CV]  clf__max_depth=5, clf__max_features=sqrt, clf__min_samples_leaf=6, clf__min_samples_split=5, total=   3.4s\n",
      "[CV] clf__max_depth=6, clf__max_features=auto, clf__min_samples_leaf=4, clf__min_samples_split=5 \n",
      "[CV]  clf__max_depth=5, clf__max_features=sqrt, clf__min_samples_leaf=6, clf__min_samples_split=5, total=   3.7s\n",
      "[CV] clf__max_depth=6, clf__max_features=auto, clf__min_samples_leaf=4, clf__min_samples_split=5 \n",
      "[CV]  clf__max_depth=5, clf__max_features=sqrt, clf__min_samples_leaf=6, clf__min_samples_split=6, total=   3.8s\n",
      "[CV] clf__max_depth=6, clf__max_features=auto, clf__min_samples_leaf=4, clf__min_samples_split=5 \n",
      "[CV]  clf__max_depth=5, clf__max_features=sqrt, clf__min_samples_leaf=6, clf__min_samples_split=6, total=   3.8s\n",
      "[CV] clf__max_depth=6, clf__max_features=auto, clf__min_samples_leaf=4, clf__min_samples_split=5 \n",
      "[CV]  clf__max_depth=5, clf__max_features=sqrt, clf__min_samples_leaf=6, clf__min_samples_split=6, total=   3.5s\n",
      "[CV]  clf__max_depth=5, clf__max_features=sqrt, clf__min_samples_leaf=6, clf__min_samples_split=6, total=   4.1s\n",
      "[CV] clf__max_depth=6, clf__max_features=auto, clf__min_samples_leaf=4, clf__min_samples_split=5 \n",
      "[CV] clf__max_depth=6, clf__max_features=auto, clf__min_samples_leaf=4, clf__min_samples_split=6 \n",
      "[CV]  clf__max_depth=5, clf__max_features=sqrt, clf__min_samples_leaf=6, clf__min_samples_split=7, total=   3.6s\n",
      "[CV]  clf__max_depth=5, clf__max_features=sqrt, clf__min_samples_leaf=6, clf__min_samples_split=6, total=   4.0s\n",
      "[CV]  clf__max_depth=5, clf__max_features=sqrt, clf__min_samples_leaf=6, clf__min_samples_split=7, total=   3.5s\n",
      "[CV] clf__max_depth=6, clf__max_features=auto, clf__min_samples_leaf=4, clf__min_samples_split=6 \n"
     ]
    },
    {
     "name": "stdout",
     "output_type": "stream",
     "text": [
      "[CV] clf__max_depth=6, clf__max_features=auto, clf__min_samples_leaf=4, clf__min_samples_split=6 \n",
      "[CV]  clf__max_depth=5, clf__max_features=sqrt, clf__min_samples_leaf=6, clf__min_samples_split=7, total=   3.6s\n",
      "[CV]  clf__max_depth=5, clf__max_features=sqrt, clf__min_samples_leaf=6, clf__min_samples_split=7, total=   3.4s\n",
      "[CV] clf__max_depth=6, clf__max_features=auto, clf__min_samples_leaf=4, clf__min_samples_split=6 \n",
      "[CV] clf__max_depth=6, clf__max_features=auto, clf__min_samples_leaf=4, clf__min_samples_split=6 \n",
      "[CV] clf__max_depth=6, clf__max_features=auto, clf__min_samples_leaf=4, clf__min_samples_split=7 \n",
      "[CV]  clf__max_depth=6, clf__max_features=auto, clf__min_samples_leaf=4, clf__min_samples_split=5, total=   3.4s\n",
      "[CV]  clf__max_depth=5, clf__max_features=sqrt, clf__min_samples_leaf=6, clf__min_samples_split=7, total=   3.6s\n",
      "[CV] clf__max_depth=6, clf__max_features=auto, clf__min_samples_leaf=4, clf__min_samples_split=7 \n",
      "[CV] clf__max_depth=6, clf__max_features=auto, clf__min_samples_leaf=4, clf__min_samples_split=7 \n",
      "[CV]  clf__max_depth=6, clf__max_features=auto, clf__min_samples_leaf=4, clf__min_samples_split=5, total=   3.6s\n",
      "[CV] clf__max_depth=6, clf__max_features=auto, clf__min_samples_leaf=4, clf__min_samples_split=7 \n",
      "[CV]  clf__max_depth=6, clf__max_features=auto, clf__min_samples_leaf=4, clf__min_samples_split=5, total=   3.6s\n",
      "[CV] clf__max_depth=6, clf__max_features=auto, clf__min_samples_leaf=4, clf__min_samples_split=7 \n",
      "[CV]  clf__max_depth=6, clf__max_features=auto, clf__min_samples_leaf=4, clf__min_samples_split=5, total=   3.5s\n",
      "[CV]  clf__max_depth=6, clf__max_features=auto, clf__min_samples_leaf=4, clf__min_samples_split=5, total=   3.9s\n",
      "[CV] clf__max_depth=6, clf__max_features=auto, clf__min_samples_leaf=5, clf__min_samples_split=5 \n",
      "[CV] clf__max_depth=6, clf__max_features=auto, clf__min_samples_leaf=5, clf__min_samples_split=5 \n",
      "[CV]  clf__max_depth=6, clf__max_features=auto, clf__min_samples_leaf=4, clf__min_samples_split=6, total=   3.7s\n",
      "[CV] clf__max_depth=6, clf__max_features=auto, clf__min_samples_leaf=5, clf__min_samples_split=5 \n",
      "[CV]  clf__max_depth=6, clf__max_features=auto, clf__min_samples_leaf=4, clf__min_samples_split=6, total=   3.5s\n",
      "[CV]  clf__max_depth=6, clf__max_features=auto, clf__min_samples_leaf=4, clf__min_samples_split=6, total=   3.6s\n",
      "[CV] clf__max_depth=6, clf__max_features=auto, clf__min_samples_leaf=5, clf__min_samples_split=5 \n",
      "[CV]  clf__max_depth=6, clf__max_features=auto, clf__min_samples_leaf=4, clf__min_samples_split=6, total=   3.5s\n",
      "[CV] clf__max_depth=6, clf__max_features=auto, clf__min_samples_leaf=5, clf__min_samples_split=5 \n",
      "[CV] clf__max_depth=6, clf__max_features=auto, clf__min_samples_leaf=5, clf__min_samples_split=6 \n",
      "[CV]  clf__max_depth=6, clf__max_features=auto, clf__min_samples_leaf=4, clf__min_samples_split=7, total=   3.5s\n",
      "[CV]  clf__max_depth=6, clf__max_features=auto, clf__min_samples_leaf=4, clf__min_samples_split=6, total=   3.9s\n",
      "[CV] clf__max_depth=6, clf__max_features=auto, clf__min_samples_leaf=5, clf__min_samples_split=6 \n",
      "[CV] clf__max_depth=6, clf__max_features=auto, clf__min_samples_leaf=5, clf__min_samples_split=6 \n",
      "[CV]  clf__max_depth=6, clf__max_features=auto, clf__min_samples_leaf=4, clf__min_samples_split=7, total=   3.4s\n",
      "[CV] clf__max_depth=6, clf__max_features=auto, clf__min_samples_leaf=5, clf__min_samples_split=6 \n",
      "[CV]  clf__max_depth=6, clf__max_features=auto, clf__min_samples_leaf=4, clf__min_samples_split=7, total=   3.5s\n",
      "[CV] clf__max_depth=6, clf__max_features=auto, clf__min_samples_leaf=5, clf__min_samples_split=6 \n",
      "[CV]  clf__max_depth=6, clf__max_features=auto, clf__min_samples_leaf=4, clf__min_samples_split=7, total=   3.5s\n",
      "[CV] clf__max_depth=6, clf__max_features=auto, clf__min_samples_leaf=5, clf__min_samples_split=7 \n",
      "[CV]  clf__max_depth=6, clf__max_features=auto, clf__min_samples_leaf=4, clf__min_samples_split=7, total=   3.5s\n",
      "[CV] clf__max_depth=6, clf__max_features=auto, clf__min_samples_leaf=5, clf__min_samples_split=7 \n",
      "[CV]  clf__max_depth=6, clf__max_features=auto, clf__min_samples_leaf=5, clf__min_samples_split=5, total=   3.6s\n",
      "[CV]  clf__max_depth=6, clf__max_features=auto, clf__min_samples_leaf=5, clf__min_samples_split=5, total=   3.5s\n",
      "[CV] clf__max_depth=6, clf__max_features=auto, clf__min_samples_leaf=5, clf__min_samples_split=7 \n",
      "[CV] clf__max_depth=6, clf__max_features=auto, clf__min_samples_leaf=5, clf__min_samples_split=7 \n",
      "[CV]  clf__max_depth=6, clf__max_features=auto, clf__min_samples_leaf=5, clf__min_samples_split=5, total=   3.8s\n",
      "[CV] clf__max_depth=6, clf__max_features=auto, clf__min_samples_leaf=5, clf__min_samples_split=7 \n",
      "[CV]  clf__max_depth=6, clf__max_features=auto, clf__min_samples_leaf=5, clf__min_samples_split=5, total=   3.6s\n",
      "[CV] clf__max_depth=6, clf__max_features=auto, clf__min_samples_leaf=6, clf__min_samples_split=5 \n",
      "[CV]  clf__max_depth=6, clf__max_features=auto, clf__min_samples_leaf=5, clf__min_samples_split=5, total=   3.5s\n",
      "[CV]  clf__max_depth=6, clf__max_features=auto, clf__min_samples_leaf=5, clf__min_samples_split=6, total=   3.6s\n",
      "[CV] clf__max_depth=6, clf__max_features=auto, clf__min_samples_leaf=6, clf__min_samples_split=5 \n",
      "[CV] clf__max_depth=6, clf__max_features=auto, clf__min_samples_leaf=6, clf__min_samples_split=5 \n",
      "[CV]  clf__max_depth=6, clf__max_features=auto, clf__min_samples_leaf=5, clf__min_samples_split=6, total=   3.6s\n",
      "[CV] clf__max_depth=6, clf__max_features=auto, clf__min_samples_leaf=6, clf__min_samples_split=5 \n",
      "[CV]  clf__max_depth=6, clf__max_features=auto, clf__min_samples_leaf=5, clf__min_samples_split=6, total=   3.7s\n",
      "[CV] clf__max_depth=6, clf__max_features=auto, clf__min_samples_leaf=6, clf__min_samples_split=5 \n",
      "[CV]  clf__max_depth=6, clf__max_features=auto, clf__min_samples_leaf=5, clf__min_samples_split=6, total=   3.4s\n",
      "[CV] clf__max_depth=6, clf__max_features=auto, clf__min_samples_leaf=6, clf__min_samples_split=6 \n",
      "[CV]  clf__max_depth=6, clf__max_features=auto, clf__min_samples_leaf=5, clf__min_samples_split=6, total=   3.4s\n",
      "[CV] clf__max_depth=6, clf__max_features=auto, clf__min_samples_leaf=6, clf__min_samples_split=6 \n",
      "[CV]  clf__max_depth=6, clf__max_features=auto, clf__min_samples_leaf=5, clf__min_samples_split=7, total=   4.0s\n",
      "[CV] clf__max_depth=6, clf__max_features=auto, clf__min_samples_leaf=6, clf__min_samples_split=6 \n",
      "[CV]  clf__max_depth=6, clf__max_features=auto, clf__min_samples_leaf=5, clf__min_samples_split=7, total=   3.6s\n",
      "[CV] clf__max_depth=6, clf__max_features=auto, clf__min_samples_leaf=6, clf__min_samples_split=6 \n",
      "[CV]  clf__max_depth=6, clf__max_features=auto, clf__min_samples_leaf=5, clf__min_samples_split=7, total=   3.5s\n",
      "[CV] clf__max_depth=6, clf__max_features=auto, clf__min_samples_leaf=6, clf__min_samples_split=6 \n",
      "[CV]  clf__max_depth=6, clf__max_features=auto, clf__min_samples_leaf=5, clf__min_samples_split=7, total=   3.5s\n",
      "[CV] clf__max_depth=6, clf__max_features=auto, clf__min_samples_leaf=6, clf__min_samples_split=7 \n",
      "[CV]  clf__max_depth=6, clf__max_features=auto, clf__min_samples_leaf=5, clf__min_samples_split=7, total=   3.4s\n",
      "[CV] clf__max_depth=6, clf__max_features=auto, clf__min_samples_leaf=6, clf__min_samples_split=7 \n",
      "[CV]  clf__max_depth=6, clf__max_features=auto, clf__min_samples_leaf=6, clf__min_samples_split=5, total=   3.6s\n",
      "[CV] clf__max_depth=6, clf__max_features=auto, clf__min_samples_leaf=6, clf__min_samples_split=7 \n",
      "[CV]  clf__max_depth=6, clf__max_features=auto, clf__min_samples_leaf=6, clf__min_samples_split=5, total=   3.9s\n",
      "[CV]  clf__max_depth=6, clf__max_features=auto, clf__min_samples_leaf=6, clf__min_samples_split=5, total=   3.7s\n",
      "[CV] clf__max_depth=6, clf__max_features=auto, clf__min_samples_leaf=6, clf__min_samples_split=7 \n",
      "[CV]  clf__max_depth=6, clf__max_features=auto, clf__min_samples_leaf=6, clf__min_samples_split=5, total=   3.7s\n",
      "[CV] clf__max_depth=6, clf__max_features=auto, clf__min_samples_leaf=6, clf__min_samples_split=7 \n",
      "[CV]  clf__max_depth=6, clf__max_features=auto, clf__min_samples_leaf=6, clf__min_samples_split=5, total=   3.6s\n",
      "[CV] clf__max_depth=6, clf__max_features=log2, clf__min_samples_leaf=4, clf__min_samples_split=5 \n",
      "[CV] clf__max_depth=6, clf__max_features=log2, clf__min_samples_leaf=4, clf__min_samples_split=5 \n"
     ]
    },
    {
     "name": "stdout",
     "output_type": "stream",
     "text": [
      "[CV]  clf__max_depth=6, clf__max_features=auto, clf__min_samples_leaf=6, clf__min_samples_split=6, total=   3.6s\n",
      "[CV] clf__max_depth=6, clf__max_features=log2, clf__min_samples_leaf=4, clf__min_samples_split=5 \n",
      "[CV]  clf__max_depth=6, clf__max_features=auto, clf__min_samples_leaf=6, clf__min_samples_split=6, total=   3.4s\n",
      "[CV] clf__max_depth=6, clf__max_features=log2, clf__min_samples_leaf=4, clf__min_samples_split=5 \n",
      "[CV]  clf__max_depth=6, clf__max_features=auto, clf__min_samples_leaf=6, clf__min_samples_split=6, total=   3.8s\n",
      "[CV] clf__max_depth=6, clf__max_features=log2, clf__min_samples_leaf=4, clf__min_samples_split=5 \n",
      "[CV]  clf__max_depth=6, clf__max_features=auto, clf__min_samples_leaf=6, clf__min_samples_split=6, total=   3.6s\n",
      "[CV] clf__max_depth=6, clf__max_features=log2, clf__min_samples_leaf=4, clf__min_samples_split=6 \n",
      "[CV]  clf__max_depth=6, clf__max_features=auto, clf__min_samples_leaf=6, clf__min_samples_split=6, total=   3.8s\n",
      "[CV] clf__max_depth=6, clf__max_features=log2, clf__min_samples_leaf=4, clf__min_samples_split=6 \n",
      "[CV]  clf__max_depth=6, clf__max_features=auto, clf__min_samples_leaf=6, clf__min_samples_split=7, total=   3.8s\n",
      "[CV] clf__max_depth=6, clf__max_features=log2, clf__min_samples_leaf=4, clf__min_samples_split=6 \n",
      "[CV]  clf__max_depth=6, clf__max_features=auto, clf__min_samples_leaf=6, clf__min_samples_split=7, total=   3.8s\n",
      "[CV] clf__max_depth=6, clf__max_features=log2, clf__min_samples_leaf=4, clf__min_samples_split=6 \n",
      "[CV]  clf__max_depth=6, clf__max_features=auto, clf__min_samples_leaf=6, clf__min_samples_split=7, total=   3.6s\n",
      "[CV] clf__max_depth=6, clf__max_features=log2, clf__min_samples_leaf=4, clf__min_samples_split=6 \n",
      "[CV]  clf__max_depth=6, clf__max_features=auto, clf__min_samples_leaf=6, clf__min_samples_split=7, total=   3.6s\n",
      "[CV]  clf__max_depth=6, clf__max_features=auto, clf__min_samples_leaf=6, clf__min_samples_split=7, total=   3.7s\n",
      "[CV] clf__max_depth=6, clf__max_features=log2, clf__min_samples_leaf=4, clf__min_samples_split=7 \n",
      "[CV]  clf__max_depth=6, clf__max_features=log2, clf__min_samples_leaf=4, clf__min_samples_split=5, total=   3.6s\n",
      "[CV] clf__max_depth=6, clf__max_features=log2, clf__min_samples_leaf=4, clf__min_samples_split=7 \n",
      "[CV] clf__max_depth=6, clf__max_features=log2, clf__min_samples_leaf=4, clf__min_samples_split=7 \n",
      "[CV]  clf__max_depth=6, clf__max_features=log2, clf__min_samples_leaf=4, clf__min_samples_split=5, total=   3.7s\n",
      "[CV] clf__max_depth=6, clf__max_features=log2, clf__min_samples_leaf=4, clf__min_samples_split=7 \n",
      "[CV]  clf__max_depth=6, clf__max_features=log2, clf__min_samples_leaf=4, clf__min_samples_split=5, total=   3.5s\n",
      "[CV]  clf__max_depth=6, clf__max_features=log2, clf__min_samples_leaf=4, clf__min_samples_split=5, total=   3.6s\n",
      "[CV] clf__max_depth=6, clf__max_features=log2, clf__min_samples_leaf=4, clf__min_samples_split=7 \n",
      "[CV] clf__max_depth=6, clf__max_features=log2, clf__min_samples_leaf=5, clf__min_samples_split=5 \n",
      "[CV]  clf__max_depth=6, clf__max_features=log2, clf__min_samples_leaf=4, clf__min_samples_split=5, total=   3.5s\n",
      "[CV] clf__max_depth=6, clf__max_features=log2, clf__min_samples_leaf=5, clf__min_samples_split=5 \n",
      "[CV]  clf__max_depth=6, clf__max_features=log2, clf__min_samples_leaf=4, clf__min_samples_split=6, total=   3.6s\n",
      "[CV] clf__max_depth=6, clf__max_features=log2, clf__min_samples_leaf=5, clf__min_samples_split=5 \n",
      "[CV]  clf__max_depth=6, clf__max_features=log2, clf__min_samples_leaf=4, clf__min_samples_split=6, total=   3.7s\n",
      "[CV]  clf__max_depth=6, clf__max_features=log2, clf__min_samples_leaf=4, clf__min_samples_split=6, total=   3.9s\n",
      "[CV] clf__max_depth=6, clf__max_features=log2, clf__min_samples_leaf=5, clf__min_samples_split=5 \n",
      "[CV]  clf__max_depth=6, clf__max_features=log2, clf__min_samples_leaf=4, clf__min_samples_split=6, total=   3.7s\n",
      "[CV] clf__max_depth=6, clf__max_features=log2, clf__min_samples_leaf=5, clf__min_samples_split=5 \n",
      "[CV] clf__max_depth=6, clf__max_features=log2, clf__min_samples_leaf=5, clf__min_samples_split=6 \n",
      "[CV]  clf__max_depth=6, clf__max_features=log2, clf__min_samples_leaf=4, clf__min_samples_split=6, total=   3.6s\n",
      "[CV] clf__max_depth=6, clf__max_features=log2, clf__min_samples_leaf=5, clf__min_samples_split=6 \n",
      "[CV]  clf__max_depth=6, clf__max_features=log2, clf__min_samples_leaf=4, clf__min_samples_split=7, total=   3.6s\n",
      "[CV]  clf__max_depth=6, clf__max_features=log2, clf__min_samples_leaf=4, clf__min_samples_split=7, total=   3.5s\n",
      "[CV]  clf__max_depth=6, clf__max_features=log2, clf__min_samples_leaf=4, clf__min_samples_split=7, total=   3.5s\n",
      "[CV] clf__max_depth=6, clf__max_features=log2, clf__min_samples_leaf=5, clf__min_samples_split=6 \n",
      "[CV] clf__max_depth=6, clf__max_features=log2, clf__min_samples_leaf=5, clf__min_samples_split=6 \n",
      "[CV]  clf__max_depth=6, clf__max_features=log2, clf__min_samples_leaf=4, clf__min_samples_split=7, total=   3.5s\n",
      "[CV] clf__max_depth=6, clf__max_features=log2, clf__min_samples_leaf=5, clf__min_samples_split=6 \n",
      "[CV] clf__max_depth=6, clf__max_features=log2, clf__min_samples_leaf=5, clf__min_samples_split=7 \n",
      "[CV]  clf__max_depth=6, clf__max_features=log2, clf__min_samples_leaf=4, clf__min_samples_split=7, total=   3.5s\n",
      "[CV] clf__max_depth=6, clf__max_features=log2, clf__min_samples_leaf=5, clf__min_samples_split=7 \n",
      "[CV]  clf__max_depth=6, clf__max_features=log2, clf__min_samples_leaf=5, clf__min_samples_split=5, total=   3.6s\n",
      "[CV] clf__max_depth=6, clf__max_features=log2, clf__min_samples_leaf=5, clf__min_samples_split=7 \n",
      "[CV]  clf__max_depth=6, clf__max_features=log2, clf__min_samples_leaf=5, clf__min_samples_split=5, total=   3.5s\n",
      "[CV] clf__max_depth=6, clf__max_features=log2, clf__min_samples_leaf=5, clf__min_samples_split=7 \n",
      "[CV]  clf__max_depth=6, clf__max_features=log2, clf__min_samples_leaf=5, clf__min_samples_split=5, total=   3.7s\n",
      "[CV] clf__max_depth=6, clf__max_features=log2, clf__min_samples_leaf=5, clf__min_samples_split=7 \n",
      "[CV]  clf__max_depth=6, clf__max_features=log2, clf__min_samples_leaf=5, clf__min_samples_split=5, total=   3.6s\n",
      "[CV] clf__max_depth=6, clf__max_features=log2, clf__min_samples_leaf=6, clf__min_samples_split=5 \n",
      "[CV]  clf__max_depth=6, clf__max_features=log2, clf__min_samples_leaf=5, clf__min_samples_split=5, total=   3.7s\n",
      "[CV] clf__max_depth=6, clf__max_features=log2, clf__min_samples_leaf=6, clf__min_samples_split=5 \n",
      "[CV]  clf__max_depth=6, clf__max_features=log2, clf__min_samples_leaf=5, clf__min_samples_split=6, total=   3.7s\n",
      "[CV] clf__max_depth=6, clf__max_features=log2, clf__min_samples_leaf=6, clf__min_samples_split=5 \n",
      "[CV]  clf__max_depth=6, clf__max_features=log2, clf__min_samples_leaf=5, clf__min_samples_split=6, total=   3.6s\n",
      "[CV] clf__max_depth=6, clf__max_features=log2, clf__min_samples_leaf=6, clf__min_samples_split=5 \n",
      "[CV]  clf__max_depth=6, clf__max_features=log2, clf__min_samples_leaf=5, clf__min_samples_split=6, total=   3.4s\n",
      "[CV] clf__max_depth=6, clf__max_features=log2, clf__min_samples_leaf=6, clf__min_samples_split=5 \n",
      "[CV]  clf__max_depth=6, clf__max_features=log2, clf__min_samples_leaf=5, clf__min_samples_split=6, total=   3.5s\n",
      "[CV] clf__max_depth=6, clf__max_features=log2, clf__min_samples_leaf=6, clf__min_samples_split=6 \n",
      "[CV]  clf__max_depth=6, clf__max_features=log2, clf__min_samples_leaf=5, clf__min_samples_split=6, total=   3.5s\n",
      "[CV]  clf__max_depth=6, clf__max_features=log2, clf__min_samples_leaf=5, clf__min_samples_split=7, total=   3.7s\n",
      "[CV] clf__max_depth=6, clf__max_features=log2, clf__min_samples_leaf=6, clf__min_samples_split=6 \n",
      "[CV] clf__max_depth=6, clf__max_features=log2, clf__min_samples_leaf=6, clf__min_samples_split=6 \n",
      "[CV]  clf__max_depth=6, clf__max_features=log2, clf__min_samples_leaf=5, clf__min_samples_split=7, total=   3.5s\n",
      "[CV] clf__max_depth=6, clf__max_features=log2, clf__min_samples_leaf=6, clf__min_samples_split=6 \n",
      "[CV]  clf__max_depth=6, clf__max_features=log2, clf__min_samples_leaf=5, clf__min_samples_split=7, total=   3.4s\n",
      "[CV] clf__max_depth=6, clf__max_features=log2, clf__min_samples_leaf=6, clf__min_samples_split=6 \n",
      "[CV]  clf__max_depth=6, clf__max_features=log2, clf__min_samples_leaf=5, clf__min_samples_split=7, total=   3.6s\n",
      "[CV] clf__max_depth=6, clf__max_features=log2, clf__min_samples_leaf=6, clf__min_samples_split=7 \n"
     ]
    },
    {
     "name": "stdout",
     "output_type": "stream",
     "text": [
      "[CV]  clf__max_depth=6, clf__max_features=log2, clf__min_samples_leaf=5, clf__min_samples_split=7, total=   4.0s\n",
      "[CV] clf__max_depth=6, clf__max_features=log2, clf__min_samples_leaf=6, clf__min_samples_split=7 \n",
      "[CV]  clf__max_depth=6, clf__max_features=log2, clf__min_samples_leaf=6, clf__min_samples_split=5, total=   3.6s\n",
      "[CV] clf__max_depth=6, clf__max_features=log2, clf__min_samples_leaf=6, clf__min_samples_split=7 \n",
      "[CV]  clf__max_depth=6, clf__max_features=log2, clf__min_samples_leaf=6, clf__min_samples_split=5, total=   3.5s\n",
      "[CV] clf__max_depth=6, clf__max_features=log2, clf__min_samples_leaf=6, clf__min_samples_split=7 \n",
      "[CV]  clf__max_depth=6, clf__max_features=log2, clf__min_samples_leaf=6, clf__min_samples_split=5, total=   3.6s\n",
      "[CV] clf__max_depth=6, clf__max_features=log2, clf__min_samples_leaf=6, clf__min_samples_split=7 \n",
      "[CV]  clf__max_depth=6, clf__max_features=log2, clf__min_samples_leaf=6, clf__min_samples_split=5, total=   3.6s\n",
      "[CV] clf__max_depth=6, clf__max_features=sqrt, clf__min_samples_leaf=4, clf__min_samples_split=5 \n",
      "[CV]  clf__max_depth=6, clf__max_features=log2, clf__min_samples_leaf=6, clf__min_samples_split=5, total=   3.8s\n",
      "[CV] clf__max_depth=6, clf__max_features=sqrt, clf__min_samples_leaf=4, clf__min_samples_split=5 \n",
      "[CV]  clf__max_depth=6, clf__max_features=log2, clf__min_samples_leaf=6, clf__min_samples_split=6, total=   3.5s\n",
      "[CV] clf__max_depth=6, clf__max_features=sqrt, clf__min_samples_leaf=4, clf__min_samples_split=5 \n",
      "[CV]  clf__max_depth=6, clf__max_features=log2, clf__min_samples_leaf=6, clf__min_samples_split=6, total=   3.6s\n",
      "[CV]  clf__max_depth=6, clf__max_features=log2, clf__min_samples_leaf=6, clf__min_samples_split=6, total=   3.5s\n",
      "[CV] clf__max_depth=6, clf__max_features=sqrt, clf__min_samples_leaf=4, clf__min_samples_split=5 \n",
      "[CV] clf__max_depth=6, clf__max_features=sqrt, clf__min_samples_leaf=4, clf__min_samples_split=5 \n",
      "[CV]  clf__max_depth=6, clf__max_features=log2, clf__min_samples_leaf=6, clf__min_samples_split=6, total=   3.4s\n",
      "[CV] clf__max_depth=6, clf__max_features=sqrt, clf__min_samples_leaf=4, clf__min_samples_split=6 \n"
     ]
    },
    {
     "name": "stderr",
     "output_type": "stream",
     "text": [
      "[Parallel(n_jobs=-1)]: Done 624 tasks      | elapsed:  7.1min\n"
     ]
    },
    {
     "name": "stdout",
     "output_type": "stream",
     "text": [
      "[CV]  clf__max_depth=6, clf__max_features=log2, clf__min_samples_leaf=6, clf__min_samples_split=6, total=   3.4s\n",
      "[CV] clf__max_depth=6, clf__max_features=sqrt, clf__min_samples_leaf=4, clf__min_samples_split=6 \n",
      "[CV]  clf__max_depth=6, clf__max_features=log2, clf__min_samples_leaf=6, clf__min_samples_split=7, total=   3.5s\n",
      "[CV] clf__max_depth=6, clf__max_features=sqrt, clf__min_samples_leaf=4, clf__min_samples_split=6 \n",
      "[CV]  clf__max_depth=6, clf__max_features=log2, clf__min_samples_leaf=6, clf__min_samples_split=7, total=   3.5s\n",
      "[CV] clf__max_depth=6, clf__max_features=sqrt, clf__min_samples_leaf=4, clf__min_samples_split=6 \n",
      "[CV]  clf__max_depth=6, clf__max_features=log2, clf__min_samples_leaf=6, clf__min_samples_split=7, total=   3.8s\n",
      "[CV]  clf__max_depth=6, clf__max_features=log2, clf__min_samples_leaf=6, clf__min_samples_split=7, total=   3.5s\n",
      "[CV] clf__max_depth=6, clf__max_features=sqrt, clf__min_samples_leaf=4, clf__min_samples_split=6 \n",
      "[CV] clf__max_depth=6, clf__max_features=sqrt, clf__min_samples_leaf=4, clf__min_samples_split=7 \n",
      "[CV]  clf__max_depth=6, clf__max_features=log2, clf__min_samples_leaf=6, clf__min_samples_split=7, total=   3.6s\n",
      "[CV] clf__max_depth=6, clf__max_features=sqrt, clf__min_samples_leaf=4, clf__min_samples_split=7 \n",
      "[CV]  clf__max_depth=6, clf__max_features=sqrt, clf__min_samples_leaf=4, clf__min_samples_split=5, total=   3.5s\n",
      "[CV] clf__max_depth=6, clf__max_features=sqrt, clf__min_samples_leaf=4, clf__min_samples_split=7 \n",
      "[CV]  clf__max_depth=6, clf__max_features=sqrt, clf__min_samples_leaf=4, clf__min_samples_split=5, total=   3.7s\n",
      "[CV] clf__max_depth=6, clf__max_features=sqrt, clf__min_samples_leaf=4, clf__min_samples_split=7 \n",
      "[CV]  clf__max_depth=6, clf__max_features=sqrt, clf__min_samples_leaf=4, clf__min_samples_split=5, total=   3.5s\n",
      "[CV]  clf__max_depth=6, clf__max_features=sqrt, clf__min_samples_leaf=4, clf__min_samples_split=5, total=   3.6s\n",
      "[CV] clf__max_depth=6, clf__max_features=sqrt, clf__min_samples_leaf=4, clf__min_samples_split=7 \n",
      "[CV] clf__max_depth=6, clf__max_features=sqrt, clf__min_samples_leaf=5, clf__min_samples_split=5 \n",
      "[CV]  clf__max_depth=6, clf__max_features=sqrt, clf__min_samples_leaf=4, clf__min_samples_split=5, total=   3.6s\n",
      "[CV] clf__max_depth=6, clf__max_features=sqrt, clf__min_samples_leaf=5, clf__min_samples_split=5 \n",
      "[CV]  clf__max_depth=6, clf__max_features=sqrt, clf__min_samples_leaf=4, clf__min_samples_split=6, total=   3.6s\n",
      "[CV] clf__max_depth=6, clf__max_features=sqrt, clf__min_samples_leaf=5, clf__min_samples_split=5 \n",
      "[CV]  clf__max_depth=6, clf__max_features=sqrt, clf__min_samples_leaf=4, clf__min_samples_split=6, total=   3.6s\n",
      "[CV] clf__max_depth=6, clf__max_features=sqrt, clf__min_samples_leaf=5, clf__min_samples_split=5 \n",
      "[CV]  clf__max_depth=6, clf__max_features=sqrt, clf__min_samples_leaf=4, clf__min_samples_split=6, total=   3.7s\n",
      "[CV] clf__max_depth=6, clf__max_features=sqrt, clf__min_samples_leaf=5, clf__min_samples_split=5 \n",
      "[CV]  clf__max_depth=6, clf__max_features=sqrt, clf__min_samples_leaf=4, clf__min_samples_split=6, total=   3.6s\n",
      "[CV] clf__max_depth=6, clf__max_features=sqrt, clf__min_samples_leaf=5, clf__min_samples_split=6 \n",
      "[CV]  clf__max_depth=6, clf__max_features=sqrt, clf__min_samples_leaf=4, clf__min_samples_split=7, total=   3.7s\n",
      "[CV] clf__max_depth=6, clf__max_features=sqrt, clf__min_samples_leaf=5, clf__min_samples_split=6 \n",
      "[CV]  clf__max_depth=6, clf__max_features=sqrt, clf__min_samples_leaf=4, clf__min_samples_split=6, total=   4.1s\n",
      "[CV]  clf__max_depth=6, clf__max_features=sqrt, clf__min_samples_leaf=4, clf__min_samples_split=7, total=   3.8s\n",
      "[CV] clf__max_depth=6, clf__max_features=sqrt, clf__min_samples_leaf=5, clf__min_samples_split=6 \n",
      "[CV] clf__max_depth=6, clf__max_features=sqrt, clf__min_samples_leaf=5, clf__min_samples_split=6 \n",
      "[CV]  clf__max_depth=6, clf__max_features=sqrt, clf__min_samples_leaf=4, clf__min_samples_split=7, total=   3.5s\n",
      "[CV] clf__max_depth=6, clf__max_features=sqrt, clf__min_samples_leaf=5, clf__min_samples_split=6 \n",
      "[CV]  clf__max_depth=6, clf__max_features=sqrt, clf__min_samples_leaf=4, clf__min_samples_split=7, total=   3.5s\n",
      "[CV] clf__max_depth=6, clf__max_features=sqrt, clf__min_samples_leaf=5, clf__min_samples_split=7 \n",
      "[CV]  clf__max_depth=6, clf__max_features=sqrt, clf__min_samples_leaf=4, clf__min_samples_split=7, total=   3.6s\n",
      "[CV] clf__max_depth=6, clf__max_features=sqrt, clf__min_samples_leaf=5, clf__min_samples_split=7 \n",
      "[CV]  clf__max_depth=6, clf__max_features=sqrt, clf__min_samples_leaf=5, clf__min_samples_split=5, total=   3.7s\n",
      "[CV] clf__max_depth=6, clf__max_features=sqrt, clf__min_samples_leaf=5, clf__min_samples_split=7 \n",
      "[CV]  clf__max_depth=6, clf__max_features=sqrt, clf__min_samples_leaf=5, clf__min_samples_split=5, total=   3.6s\n",
      "[CV] clf__max_depth=6, clf__max_features=sqrt, clf__min_samples_leaf=5, clf__min_samples_split=7 \n",
      "[CV]  clf__max_depth=6, clf__max_features=sqrt, clf__min_samples_leaf=5, clf__min_samples_split=5, total=   3.5s\n",
      "[CV] clf__max_depth=6, clf__max_features=sqrt, clf__min_samples_leaf=5, clf__min_samples_split=7 \n",
      "[CV]  clf__max_depth=6, clf__max_features=sqrt, clf__min_samples_leaf=5, clf__min_samples_split=5, total=   3.5s\n",
      "[CV] clf__max_depth=6, clf__max_features=sqrt, clf__min_samples_leaf=6, clf__min_samples_split=5 \n",
      "[CV]  clf__max_depth=6, clf__max_features=sqrt, clf__min_samples_leaf=5, clf__min_samples_split=5, total=   3.5s\n",
      "[CV] clf__max_depth=6, clf__max_features=sqrt, clf__min_samples_leaf=6, clf__min_samples_split=5 \n",
      "[CV]  clf__max_depth=6, clf__max_features=sqrt, clf__min_samples_leaf=5, clf__min_samples_split=6, total=   3.9s\n",
      "[CV] clf__max_depth=6, clf__max_features=sqrt, clf__min_samples_leaf=6, clf__min_samples_split=5 \n",
      "[CV]  clf__max_depth=6, clf__max_features=sqrt, clf__min_samples_leaf=5, clf__min_samples_split=6, total=   3.5s\n",
      "[CV] clf__max_depth=6, clf__max_features=sqrt, clf__min_samples_leaf=6, clf__min_samples_split=5 \n",
      "[CV]  clf__max_depth=6, clf__max_features=sqrt, clf__min_samples_leaf=5, clf__min_samples_split=6, total=   3.7s\n",
      "[CV]  clf__max_depth=6, clf__max_features=sqrt, clf__min_samples_leaf=5, clf__min_samples_split=6, total=   3.8s\n",
      "[CV] clf__max_depth=6, clf__max_features=sqrt, clf__min_samples_leaf=6, clf__min_samples_split=5 \n",
      "[CV]  clf__max_depth=6, clf__max_features=sqrt, clf__min_samples_leaf=5, clf__min_samples_split=6, total=   3.5s\n",
      "[CV] clf__max_depth=6, clf__max_features=sqrt, clf__min_samples_leaf=6, clf__min_samples_split=6 \n",
      "[CV] clf__max_depth=6, clf__max_features=sqrt, clf__min_samples_leaf=6, clf__min_samples_split=6 \n",
      "[CV]  clf__max_depth=6, clf__max_features=sqrt, clf__min_samples_leaf=5, clf__min_samples_split=7, total=   3.9s\n",
      "[CV]  clf__max_depth=6, clf__max_features=sqrt, clf__min_samples_leaf=5, clf__min_samples_split=7, total=   3.7s\n",
      "[CV] clf__max_depth=6, clf__max_features=sqrt, clf__min_samples_leaf=6, clf__min_samples_split=6 \n",
      "[CV]  clf__max_depth=6, clf__max_features=sqrt, clf__min_samples_leaf=5, clf__min_samples_split=7, total=   3.6s\n",
      "[CV] clf__max_depth=6, clf__max_features=sqrt, clf__min_samples_leaf=6, clf__min_samples_split=6 \n",
      "[CV] clf__max_depth=6, clf__max_features=sqrt, clf__min_samples_leaf=6, clf__min_samples_split=6 \n",
      "[CV]  clf__max_depth=6, clf__max_features=sqrt, clf__min_samples_leaf=5, clf__min_samples_split=7, total=   3.6s\n",
      "[CV] clf__max_depth=6, clf__max_features=sqrt, clf__min_samples_leaf=6, clf__min_samples_split=7 \n",
      "[CV]  clf__max_depth=6, clf__max_features=sqrt, clf__min_samples_leaf=5, clf__min_samples_split=7, total=   3.5s\n",
      "[CV] clf__max_depth=6, clf__max_features=sqrt, clf__min_samples_leaf=6, clf__min_samples_split=7 \n",
      "[CV]  clf__max_depth=6, clf__max_features=sqrt, clf__min_samples_leaf=6, clf__min_samples_split=5, total=   3.7s\n",
      "[CV] clf__max_depth=6, clf__max_features=sqrt, clf__min_samples_leaf=6, clf__min_samples_split=7 \n",
      "[CV]  clf__max_depth=6, clf__max_features=sqrt, clf__min_samples_leaf=6, clf__min_samples_split=5, total=   3.5s\n",
      "[CV] clf__max_depth=6, clf__max_features=sqrt, clf__min_samples_leaf=6, clf__min_samples_split=7 \n",
      "[CV]  clf__max_depth=6, clf__max_features=sqrt, clf__min_samples_leaf=6, clf__min_samples_split=5, total=   3.5s\n",
      "[CV] clf__max_depth=6, clf__max_features=sqrt, clf__min_samples_leaf=6, clf__min_samples_split=7 \n"
     ]
    },
    {
     "name": "stdout",
     "output_type": "stream",
     "text": [
      "[CV]  clf__max_depth=6, clf__max_features=sqrt, clf__min_samples_leaf=6, clf__min_samples_split=5, total=   4.1s\n",
      "[CV]  clf__max_depth=6, clf__max_features=sqrt, clf__min_samples_leaf=6, clf__min_samples_split=6, total=   3.6s\n",
      "[CV] clf__max_depth=7, clf__max_features=auto, clf__min_samples_leaf=4, clf__min_samples_split=5 \n",
      "[CV]  clf__max_depth=6, clf__max_features=sqrt, clf__min_samples_leaf=6, clf__min_samples_split=6, total=   3.5s\n",
      "[CV] clf__max_depth=7, clf__max_features=auto, clf__min_samples_leaf=4, clf__min_samples_split=5 \n",
      "[CV]  clf__max_depth=6, clf__max_features=sqrt, clf__min_samples_leaf=6, clf__min_samples_split=5, total=   3.9s\n",
      "[CV] clf__max_depth=7, clf__max_features=auto, clf__min_samples_leaf=4, clf__min_samples_split=5 \n",
      "[CV] clf__max_depth=7, clf__max_features=auto, clf__min_samples_leaf=4, clf__min_samples_split=5 \n",
      "[CV]  clf__max_depth=6, clf__max_features=sqrt, clf__min_samples_leaf=6, clf__min_samples_split=6, total=   3.5s\n",
      "[CV]  clf__max_depth=6, clf__max_features=sqrt, clf__min_samples_leaf=6, clf__min_samples_split=6, total=   3.5s\n",
      "[CV] clf__max_depth=7, clf__max_features=auto, clf__min_samples_leaf=4, clf__min_samples_split=5 \n",
      "[CV]  clf__max_depth=6, clf__max_features=sqrt, clf__min_samples_leaf=6, clf__min_samples_split=6, total=   3.6s\n",
      "[CV] clf__max_depth=7, clf__max_features=auto, clf__min_samples_leaf=4, clf__min_samples_split=6 \n",
      "[CV] clf__max_depth=7, clf__max_features=auto, clf__min_samples_leaf=4, clf__min_samples_split=6 \n",
      "[CV]  clf__max_depth=6, clf__max_features=sqrt, clf__min_samples_leaf=6, clf__min_samples_split=7, total=   3.6s\n",
      "[CV] clf__max_depth=7, clf__max_features=auto, clf__min_samples_leaf=4, clf__min_samples_split=6 \n",
      "[CV]  clf__max_depth=6, clf__max_features=sqrt, clf__min_samples_leaf=6, clf__min_samples_split=7, total=   3.5s\n",
      "[CV] clf__max_depth=7, clf__max_features=auto, clf__min_samples_leaf=4, clf__min_samples_split=6 \n",
      "[CV]  clf__max_depth=6, clf__max_features=sqrt, clf__min_samples_leaf=6, clf__min_samples_split=7, total=   3.4s\n",
      "[CV] clf__max_depth=7, clf__max_features=auto, clf__min_samples_leaf=4, clf__min_samples_split=6 \n",
      "[CV]  clf__max_depth=6, clf__max_features=sqrt, clf__min_samples_leaf=6, clf__min_samples_split=7, total=   3.7s\n",
      "[CV] clf__max_depth=7, clf__max_features=auto, clf__min_samples_leaf=4, clf__min_samples_split=7 \n",
      "[CV]  clf__max_depth=6, clf__max_features=sqrt, clf__min_samples_leaf=6, clf__min_samples_split=7, total=   3.6s\n",
      "[CV] clf__max_depth=7, clf__max_features=auto, clf__min_samples_leaf=4, clf__min_samples_split=7 \n",
      "[CV]  clf__max_depth=7, clf__max_features=auto, clf__min_samples_leaf=4, clf__min_samples_split=5, total=   3.9s\n",
      "[CV]  clf__max_depth=7, clf__max_features=auto, clf__min_samples_leaf=4, clf__min_samples_split=5, total=   3.7s\n",
      "[CV] clf__max_depth=7, clf__max_features=auto, clf__min_samples_leaf=4, clf__min_samples_split=7 \n",
      "[CV]  clf__max_depth=7, clf__max_features=auto, clf__min_samples_leaf=4, clf__min_samples_split=5, total=   3.5s\n",
      "[CV]  clf__max_depth=7, clf__max_features=auto, clf__min_samples_leaf=4, clf__min_samples_split=5, total=   3.6s\n",
      "[CV] clf__max_depth=7, clf__max_features=auto, clf__min_samples_leaf=4, clf__min_samples_split=7 \n",
      "[CV] clf__max_depth=7, clf__max_features=auto, clf__min_samples_leaf=4, clf__min_samples_split=7 \n",
      "[CV] clf__max_depth=7, clf__max_features=auto, clf__min_samples_leaf=5, clf__min_samples_split=5 \n",
      "[CV]  clf__max_depth=7, clf__max_features=auto, clf__min_samples_leaf=4, clf__min_samples_split=6, total=   3.6s\n",
      "[CV]  clf__max_depth=7, clf__max_features=auto, clf__min_samples_leaf=4, clf__min_samples_split=5, total=   3.7s\n",
      "[CV] clf__max_depth=7, clf__max_features=auto, clf__min_samples_leaf=5, clf__min_samples_split=5 \n",
      "[CV]  clf__max_depth=7, clf__max_features=auto, clf__min_samples_leaf=4, clf__min_samples_split=6, total=   3.5s\n",
      "[CV] clf__max_depth=7, clf__max_features=auto, clf__min_samples_leaf=5, clf__min_samples_split=5 \n",
      "[CV] clf__max_depth=7, clf__max_features=auto, clf__min_samples_leaf=5, clf__min_samples_split=5 \n",
      "[CV]  clf__max_depth=7, clf__max_features=auto, clf__min_samples_leaf=4, clf__min_samples_split=6, total=   3.6s\n",
      "[CV] clf__max_depth=7, clf__max_features=auto, clf__min_samples_leaf=5, clf__min_samples_split=5 \n",
      "[CV]  clf__max_depth=7, clf__max_features=auto, clf__min_samples_leaf=4, clf__min_samples_split=6, total=   4.0s\n",
      "[CV] clf__max_depth=7, clf__max_features=auto, clf__min_samples_leaf=5, clf__min_samples_split=6 \n",
      "[CV]  clf__max_depth=7, clf__max_features=auto, clf__min_samples_leaf=4, clf__min_samples_split=6, total=   3.5s\n",
      "[CV] clf__max_depth=7, clf__max_features=auto, clf__min_samples_leaf=5, clf__min_samples_split=6 \n",
      "[CV]  clf__max_depth=7, clf__max_features=auto, clf__min_samples_leaf=4, clf__min_samples_split=7, total=   3.5s\n",
      "[CV] clf__max_depth=7, clf__max_features=auto, clf__min_samples_leaf=5, clf__min_samples_split=6 \n",
      "[CV]  clf__max_depth=7, clf__max_features=auto, clf__min_samples_leaf=4, clf__min_samples_split=7, total=   3.7s\n",
      "[CV] clf__max_depth=7, clf__max_features=auto, clf__min_samples_leaf=5, clf__min_samples_split=6 \n",
      "[CV]  clf__max_depth=7, clf__max_features=auto, clf__min_samples_leaf=4, clf__min_samples_split=7, total=   3.6s\n",
      "[CV]  clf__max_depth=7, clf__max_features=auto, clf__min_samples_leaf=4, clf__min_samples_split=7, total=   3.6s\n",
      "[CV] clf__max_depth=7, clf__max_features=auto, clf__min_samples_leaf=5, clf__min_samples_split=6 \n",
      "[CV] clf__max_depth=7, clf__max_features=auto, clf__min_samples_leaf=5, clf__min_samples_split=7 \n",
      "[CV]  clf__max_depth=7, clf__max_features=auto, clf__min_samples_leaf=4, clf__min_samples_split=7, total=   3.6s\n",
      "[CV]  clf__max_depth=7, clf__max_features=auto, clf__min_samples_leaf=5, clf__min_samples_split=5, total=   3.6s\n",
      "[CV] clf__max_depth=7, clf__max_features=auto, clf__min_samples_leaf=5, clf__min_samples_split=7 \n",
      "[CV] clf__max_depth=7, clf__max_features=auto, clf__min_samples_leaf=5, clf__min_samples_split=7 \n",
      "[CV]  clf__max_depth=7, clf__max_features=auto, clf__min_samples_leaf=5, clf__min_samples_split=5, total=   3.5s\n",
      "[CV] clf__max_depth=7, clf__max_features=auto, clf__min_samples_leaf=5, clf__min_samples_split=7 \n",
      "[CV]  clf__max_depth=7, clf__max_features=auto, clf__min_samples_leaf=5, clf__min_samples_split=5, total=   3.8s\n",
      "[CV]  clf__max_depth=7, clf__max_features=auto, clf__min_samples_leaf=5, clf__min_samples_split=5, total=   3.6s\n",
      "[CV] clf__max_depth=7, clf__max_features=auto, clf__min_samples_leaf=5, clf__min_samples_split=7 \n",
      "[CV] clf__max_depth=7, clf__max_features=auto, clf__min_samples_leaf=6, clf__min_samples_split=5 \n",
      "[CV]  clf__max_depth=7, clf__max_features=auto, clf__min_samples_leaf=5, clf__min_samples_split=6, total=   3.5s\n",
      "[CV]  clf__max_depth=7, clf__max_features=auto, clf__min_samples_leaf=5, clf__min_samples_split=5, total=   3.8s\n",
      "[CV] clf__max_depth=7, clf__max_features=auto, clf__min_samples_leaf=6, clf__min_samples_split=5 \n",
      "[CV] clf__max_depth=7, clf__max_features=auto, clf__min_samples_leaf=6, clf__min_samples_split=5 \n",
      "[CV]  clf__max_depth=7, clf__max_features=auto, clf__min_samples_leaf=5, clf__min_samples_split=6, total=   3.5s\n",
      "[CV] clf__max_depth=7, clf__max_features=auto, clf__min_samples_leaf=6, clf__min_samples_split=5 \n",
      "[CV]  clf__max_depth=7, clf__max_features=auto, clf__min_samples_leaf=5, clf__min_samples_split=6, total=   3.7s\n",
      "[CV] clf__max_depth=7, clf__max_features=auto, clf__min_samples_leaf=6, clf__min_samples_split=5 \n",
      "[CV]  clf__max_depth=7, clf__max_features=auto, clf__min_samples_leaf=5, clf__min_samples_split=6, total=   3.5s\n",
      "[CV] clf__max_depth=7, clf__max_features=auto, clf__min_samples_leaf=6, clf__min_samples_split=6 \n",
      "[CV]  clf__max_depth=7, clf__max_features=auto, clf__min_samples_leaf=5, clf__min_samples_split=6, total=   3.7s\n",
      "[CV] clf__max_depth=7, clf__max_features=auto, clf__min_samples_leaf=6, clf__min_samples_split=6 \n",
      "[CV]  clf__max_depth=7, clf__max_features=auto, clf__min_samples_leaf=5, clf__min_samples_split=7, total=   3.6s\n",
      "[CV] clf__max_depth=7, clf__max_features=auto, clf__min_samples_leaf=6, clf__min_samples_split=6 \n",
      "[CV]  clf__max_depth=7, clf__max_features=auto, clf__min_samples_leaf=5, clf__min_samples_split=7, total=   3.6s\n",
      "[CV]  clf__max_depth=7, clf__max_features=auto, clf__min_samples_leaf=5, clf__min_samples_split=7, total=   3.7s\n"
     ]
    },
    {
     "name": "stdout",
     "output_type": "stream",
     "text": [
      "[CV] clf__max_depth=7, clf__max_features=auto, clf__min_samples_leaf=6, clf__min_samples_split=6 \n",
      "[CV] clf__max_depth=7, clf__max_features=auto, clf__min_samples_leaf=6, clf__min_samples_split=6 \n",
      "[CV]  clf__max_depth=7, clf__max_features=auto, clf__min_samples_leaf=5, clf__min_samples_split=7, total=   3.5s\n",
      "[CV]  clf__max_depth=7, clf__max_features=auto, clf__min_samples_leaf=5, clf__min_samples_split=7, total=   3.6s\n",
      "[CV] clf__max_depth=7, clf__max_features=auto, clf__min_samples_leaf=6, clf__min_samples_split=7 \n",
      "[CV] clf__max_depth=7, clf__max_features=auto, clf__min_samples_leaf=6, clf__min_samples_split=7 \n",
      "[CV]  clf__max_depth=7, clf__max_features=auto, clf__min_samples_leaf=6, clf__min_samples_split=5, total=   3.6s\n",
      "[CV] clf__max_depth=7, clf__max_features=auto, clf__min_samples_leaf=6, clf__min_samples_split=7 \n",
      "[CV]  clf__max_depth=7, clf__max_features=auto, clf__min_samples_leaf=6, clf__min_samples_split=5, total=   3.5s\n",
      "[CV]  clf__max_depth=7, clf__max_features=auto, clf__min_samples_leaf=6, clf__min_samples_split=5, total=   3.6s\n",
      "[CV] clf__max_depth=7, clf__max_features=auto, clf__min_samples_leaf=6, clf__min_samples_split=7 \n",
      "[CV] clf__max_depth=7, clf__max_features=auto, clf__min_samples_leaf=6, clf__min_samples_split=7 \n",
      "[CV]  clf__max_depth=7, clf__max_features=auto, clf__min_samples_leaf=6, clf__min_samples_split=5, total=   3.6s\n",
      "[CV] clf__max_depth=7, clf__max_features=log2, clf__min_samples_leaf=4, clf__min_samples_split=5 \n",
      "[CV]  clf__max_depth=7, clf__max_features=auto, clf__min_samples_leaf=6, clf__min_samples_split=5, total=   3.6s\n",
      "[CV] clf__max_depth=7, clf__max_features=log2, clf__min_samples_leaf=4, clf__min_samples_split=5 \n",
      "[CV]  clf__max_depth=7, clf__max_features=auto, clf__min_samples_leaf=6, clf__min_samples_split=6, total=   3.7s\n",
      "[CV] clf__max_depth=7, clf__max_features=log2, clf__min_samples_leaf=4, clf__min_samples_split=5 \n",
      "[CV]  clf__max_depth=7, clf__max_features=auto, clf__min_samples_leaf=6, clf__min_samples_split=6, total=   3.8s\n",
      "[CV]  clf__max_depth=7, clf__max_features=auto, clf__min_samples_leaf=6, clf__min_samples_split=6, total=   3.7s\n",
      "[CV] clf__max_depth=7, clf__max_features=log2, clf__min_samples_leaf=4, clf__min_samples_split=5 \n",
      "[CV]  clf__max_depth=7, clf__max_features=auto, clf__min_samples_leaf=6, clf__min_samples_split=6, total=   3.6s\n",
      "[CV] clf__max_depth=7, clf__max_features=log2, clf__min_samples_leaf=4, clf__min_samples_split=5 \n",
      "[CV] clf__max_depth=7, clf__max_features=log2, clf__min_samples_leaf=4, clf__min_samples_split=6 \n",
      "[CV]  clf__max_depth=7, clf__max_features=auto, clf__min_samples_leaf=6, clf__min_samples_split=6, total=   3.7s\n",
      "[CV] clf__max_depth=7, clf__max_features=log2, clf__min_samples_leaf=4, clf__min_samples_split=6 \n",
      "[CV]  clf__max_depth=7, clf__max_features=auto, clf__min_samples_leaf=6, clf__min_samples_split=7, total=   3.6s\n",
      "[CV] clf__max_depth=7, clf__max_features=log2, clf__min_samples_leaf=4, clf__min_samples_split=6 \n",
      "[CV]  clf__max_depth=7, clf__max_features=auto, clf__min_samples_leaf=6, clf__min_samples_split=7, total=   3.6s\n",
      "[CV] clf__max_depth=7, clf__max_features=log2, clf__min_samples_leaf=4, clf__min_samples_split=6 \n",
      "[CV]  clf__max_depth=7, clf__max_features=auto, clf__min_samples_leaf=6, clf__min_samples_split=7, total=   3.5s\n",
      "[CV] clf__max_depth=7, clf__max_features=log2, clf__min_samples_leaf=4, clf__min_samples_split=6 \n",
      "[CV]  clf__max_depth=7, clf__max_features=auto, clf__min_samples_leaf=6, clf__min_samples_split=7, total=   3.5s\n",
      "[CV] clf__max_depth=7, clf__max_features=log2, clf__min_samples_leaf=4, clf__min_samples_split=7 \n",
      "[CV]  clf__max_depth=7, clf__max_features=auto, clf__min_samples_leaf=6, clf__min_samples_split=7, total=   3.5s\n",
      "[CV] clf__max_depth=7, clf__max_features=log2, clf__min_samples_leaf=4, clf__min_samples_split=7 \n",
      "[CV]  clf__max_depth=7, clf__max_features=log2, clf__min_samples_leaf=4, clf__min_samples_split=5, total=   3.5s\n",
      "[CV] clf__max_depth=7, clf__max_features=log2, clf__min_samples_leaf=4, clf__min_samples_split=7 \n",
      "[CV]  clf__max_depth=7, clf__max_features=log2, clf__min_samples_leaf=4, clf__min_samples_split=5, total=   3.7s\n",
      "[CV] clf__max_depth=7, clf__max_features=log2, clf__min_samples_leaf=4, clf__min_samples_split=7 \n",
      "[CV]  clf__max_depth=7, clf__max_features=log2, clf__min_samples_leaf=4, clf__min_samples_split=5, total=   3.5s\n",
      "[CV] clf__max_depth=7, clf__max_features=log2, clf__min_samples_leaf=4, clf__min_samples_split=7 \n",
      "[CV]  clf__max_depth=7, clf__max_features=log2, clf__min_samples_leaf=4, clf__min_samples_split=5, total=   3.9s\n",
      "[CV] clf__max_depth=7, clf__max_features=log2, clf__min_samples_leaf=5, clf__min_samples_split=5 \n",
      "[CV]  clf__max_depth=7, clf__max_features=log2, clf__min_samples_leaf=4, clf__min_samples_split=6, total=   3.7s\n",
      "[CV]  clf__max_depth=7, clf__max_features=log2, clf__min_samples_leaf=4, clf__min_samples_split=5, total=   3.6s\n",
      "[CV]  clf__max_depth=7, clf__max_features=log2, clf__min_samples_leaf=4, clf__min_samples_split=6, total=   3.6s\n",
      "[CV] clf__max_depth=7, clf__max_features=log2, clf__min_samples_leaf=5, clf__min_samples_split=5 \n",
      "[CV] clf__max_depth=7, clf__max_features=log2, clf__min_samples_leaf=5, clf__min_samples_split=5 \n",
      "[CV]  clf__max_depth=7, clf__max_features=log2, clf__min_samples_leaf=4, clf__min_samples_split=6, total=   3.5s\n",
      "[CV] clf__max_depth=7, clf__max_features=log2, clf__min_samples_leaf=5, clf__min_samples_split=5 \n",
      "[CV] clf__max_depth=7, clf__max_features=log2, clf__min_samples_leaf=5, clf__min_samples_split=5 \n",
      "[CV]  clf__max_depth=7, clf__max_features=log2, clf__min_samples_leaf=4, clf__min_samples_split=6, total=   3.6s\n",
      "[CV] clf__max_depth=7, clf__max_features=log2, clf__min_samples_leaf=5, clf__min_samples_split=6 \n",
      "[CV]  clf__max_depth=7, clf__max_features=log2, clf__min_samples_leaf=4, clf__min_samples_split=6, total=   3.6s\n",
      "[CV] clf__max_depth=7, clf__max_features=log2, clf__min_samples_leaf=5, clf__min_samples_split=6 \n",
      "[CV]  clf__max_depth=7, clf__max_features=log2, clf__min_samples_leaf=4, clf__min_samples_split=7, total=   3.5s\n",
      "[CV] clf__max_depth=7, clf__max_features=log2, clf__min_samples_leaf=5, clf__min_samples_split=6 \n",
      "[CV]  clf__max_depth=7, clf__max_features=log2, clf__min_samples_leaf=4, clf__min_samples_split=7, total=   3.5s\n",
      "[CV] clf__max_depth=7, clf__max_features=log2, clf__min_samples_leaf=5, clf__min_samples_split=6 \n",
      "[CV]  clf__max_depth=7, clf__max_features=log2, clf__min_samples_leaf=4, clf__min_samples_split=7, total=   3.4s\n",
      "[CV] clf__max_depth=7, clf__max_features=log2, clf__min_samples_leaf=5, clf__min_samples_split=6 \n",
      "[CV]  clf__max_depth=7, clf__max_features=log2, clf__min_samples_leaf=4, clf__min_samples_split=7, total=   3.6s\n",
      "[CV] clf__max_depth=7, clf__max_features=log2, clf__min_samples_leaf=5, clf__min_samples_split=7 \n",
      "[CV]  clf__max_depth=7, clf__max_features=log2, clf__min_samples_leaf=4, clf__min_samples_split=7, total=   3.5s\n",
      "[CV] clf__max_depth=7, clf__max_features=log2, clf__min_samples_leaf=5, clf__min_samples_split=7 \n",
      "[CV]  clf__max_depth=7, clf__max_features=log2, clf__min_samples_leaf=5, clf__min_samples_split=5, total=   3.7s\n",
      "[CV]  clf__max_depth=7, clf__max_features=log2, clf__min_samples_leaf=5, clf__min_samples_split=5, total=   3.7s\n",
      "[CV] clf__max_depth=7, clf__max_features=log2, clf__min_samples_leaf=5, clf__min_samples_split=7 \n",
      "[CV]  clf__max_depth=7, clf__max_features=log2, clf__min_samples_leaf=5, clf__min_samples_split=5, total=   3.7s\n",
      "[CV] clf__max_depth=7, clf__max_features=log2, clf__min_samples_leaf=5, clf__min_samples_split=7 \n",
      "[CV]  clf__max_depth=7, clf__max_features=log2, clf__min_samples_leaf=5, clf__min_samples_split=5, total=   3.6s\n",
      "[CV]  clf__max_depth=7, clf__max_features=log2, clf__min_samples_leaf=5, clf__min_samples_split=5, total=   3.7s\n",
      "[CV] clf__max_depth=7, clf__max_features=log2, clf__min_samples_leaf=5, clf__min_samples_split=7 \n",
      "[CV] clf__max_depth=7, clf__max_features=log2, clf__min_samples_leaf=6, clf__min_samples_split=5 \n",
      "[CV] clf__max_depth=7, clf__max_features=log2, clf__min_samples_leaf=6, clf__min_samples_split=5 \n",
      "[CV]  clf__max_depth=7, clf__max_features=log2, clf__min_samples_leaf=5, clf__min_samples_split=6, total=   3.5s\n",
      "[CV]  clf__max_depth=7, clf__max_features=log2, clf__min_samples_leaf=5, clf__min_samples_split=6, total=   3.8s\n"
     ]
    },
    {
     "name": "stdout",
     "output_type": "stream",
     "text": [
      "[CV] clf__max_depth=7, clf__max_features=log2, clf__min_samples_leaf=6, clf__min_samples_split=5 \n",
      "[CV]  clf__max_depth=7, clf__max_features=log2, clf__min_samples_leaf=5, clf__min_samples_split=6, total=   3.5s\n",
      "[CV] clf__max_depth=7, clf__max_features=log2, clf__min_samples_leaf=6, clf__min_samples_split=5 \n",
      "[CV] clf__max_depth=7, clf__max_features=log2, clf__min_samples_leaf=6, clf__min_samples_split=5 \n",
      "[CV]  clf__max_depth=7, clf__max_features=log2, clf__min_samples_leaf=5, clf__min_samples_split=6, total=   3.4s\n",
      "[CV] clf__max_depth=7, clf__max_features=log2, clf__min_samples_leaf=6, clf__min_samples_split=6 \n",
      "[CV]  clf__max_depth=7, clf__max_features=log2, clf__min_samples_leaf=5, clf__min_samples_split=6, total=   3.5s\n",
      "[CV] clf__max_depth=7, clf__max_features=log2, clf__min_samples_leaf=6, clf__min_samples_split=6 \n",
      "[CV]  clf__max_depth=7, clf__max_features=log2, clf__min_samples_leaf=5, clf__min_samples_split=7, total=   3.5s\n",
      "[CV] clf__max_depth=7, clf__max_features=log2, clf__min_samples_leaf=6, clf__min_samples_split=6 \n",
      "[CV]  clf__max_depth=7, clf__max_features=log2, clf__min_samples_leaf=5, clf__min_samples_split=7, total=   3.5s\n",
      "[CV] clf__max_depth=7, clf__max_features=log2, clf__min_samples_leaf=6, clf__min_samples_split=6 \n",
      "[CV]  clf__max_depth=7, clf__max_features=log2, clf__min_samples_leaf=5, clf__min_samples_split=7, total=   3.6s\n",
      "[CV] clf__max_depth=7, clf__max_features=log2, clf__min_samples_leaf=6, clf__min_samples_split=6 \n",
      "[CV]  clf__max_depth=7, clf__max_features=log2, clf__min_samples_leaf=5, clf__min_samples_split=7, total=   3.6s\n",
      "[CV]  clf__max_depth=7, clf__max_features=log2, clf__min_samples_leaf=5, clf__min_samples_split=7, total=   3.8s\n",
      "[CV] clf__max_depth=7, clf__max_features=log2, clf__min_samples_leaf=6, clf__min_samples_split=7 \n",
      "[CV] clf__max_depth=7, clf__max_features=log2, clf__min_samples_leaf=6, clf__min_samples_split=7 \n",
      "[CV]  clf__max_depth=7, clf__max_features=log2, clf__min_samples_leaf=6, clf__min_samples_split=5, total=   3.6s\n",
      "[CV]  clf__max_depth=7, clf__max_features=log2, clf__min_samples_leaf=6, clf__min_samples_split=5, total=   3.8s\n",
      "[CV] clf__max_depth=7, clf__max_features=log2, clf__min_samples_leaf=6, clf__min_samples_split=7 \n",
      "[CV] clf__max_depth=7, clf__max_features=log2, clf__min_samples_leaf=6, clf__min_samples_split=7 \n",
      "[CV]  clf__max_depth=7, clf__max_features=log2, clf__min_samples_leaf=6, clf__min_samples_split=5, total=   3.5s\n",
      "[CV] clf__max_depth=7, clf__max_features=log2, clf__min_samples_leaf=6, clf__min_samples_split=7 \n",
      "[CV]  clf__max_depth=7, clf__max_features=log2, clf__min_samples_leaf=6, clf__min_samples_split=5, total=   3.5s\n",
      "[CV] clf__max_depth=7, clf__max_features=sqrt, clf__min_samples_leaf=4, clf__min_samples_split=5 \n",
      "[CV]  clf__max_depth=7, clf__max_features=log2, clf__min_samples_leaf=6, clf__min_samples_split=5, total=   3.7s\n",
      "[CV]  clf__max_depth=7, clf__max_features=log2, clf__min_samples_leaf=6, clf__min_samples_split=6, total=   3.6s\n",
      "[CV] clf__max_depth=7, clf__max_features=sqrt, clf__min_samples_leaf=4, clf__min_samples_split=5 \n",
      "[CV] clf__max_depth=7, clf__max_features=sqrt, clf__min_samples_leaf=4, clf__min_samples_split=5 \n",
      "[CV]  clf__max_depth=7, clf__max_features=log2, clf__min_samples_leaf=6, clf__min_samples_split=6, total=   3.7s\n",
      "[CV] clf__max_depth=7, clf__max_features=sqrt, clf__min_samples_leaf=4, clf__min_samples_split=5 \n",
      "[CV]  clf__max_depth=7, clf__max_features=log2, clf__min_samples_leaf=6, clf__min_samples_split=6, total=   3.6s\n",
      "[CV] clf__max_depth=7, clf__max_features=sqrt, clf__min_samples_leaf=4, clf__min_samples_split=5 \n",
      "[CV]  clf__max_depth=7, clf__max_features=log2, clf__min_samples_leaf=6, clf__min_samples_split=6, total=   3.6s\n",
      "[CV] clf__max_depth=7, clf__max_features=sqrt, clf__min_samples_leaf=4, clf__min_samples_split=6 \n",
      "[CV]  clf__max_depth=7, clf__max_features=log2, clf__min_samples_leaf=6, clf__min_samples_split=6, total=   3.6s\n",
      "[CV] clf__max_depth=7, clf__max_features=sqrt, clf__min_samples_leaf=4, clf__min_samples_split=6 \n",
      "[CV]  clf__max_depth=7, clf__max_features=log2, clf__min_samples_leaf=6, clf__min_samples_split=7, total=   3.6s\n",
      "[CV]  clf__max_depth=7, clf__max_features=log2, clf__min_samples_leaf=6, clf__min_samples_split=7, total=   3.5s\n",
      "[CV] clf__max_depth=7, clf__max_features=sqrt, clf__min_samples_leaf=4, clf__min_samples_split=6 \n",
      "[CV]  clf__max_depth=7, clf__max_features=log2, clf__min_samples_leaf=6, clf__min_samples_split=7, total=   3.5s\n",
      "[CV] clf__max_depth=7, clf__max_features=sqrt, clf__min_samples_leaf=4, clf__min_samples_split=6 \n",
      "[CV]  clf__max_depth=7, clf__max_features=log2, clf__min_samples_leaf=6, clf__min_samples_split=7, total=   3.5s\n",
      "[CV] clf__max_depth=7, clf__max_features=sqrt, clf__min_samples_leaf=4, clf__min_samples_split=6 \n",
      "[CV] clf__max_depth=7, clf__max_features=sqrt, clf__min_samples_leaf=4, clf__min_samples_split=7 \n",
      "[CV]  clf__max_depth=7, clf__max_features=log2, clf__min_samples_leaf=6, clf__min_samples_split=7, total=   4.2s\n",
      "[CV] clf__max_depth=7, clf__max_features=sqrt, clf__min_samples_leaf=4, clf__min_samples_split=7 \n",
      "[CV]  clf__max_depth=7, clf__max_features=sqrt, clf__min_samples_leaf=4, clf__min_samples_split=5, total=   3.5s\n",
      "[CV]  clf__max_depth=7, clf__max_features=sqrt, clf__min_samples_leaf=4, clf__min_samples_split=5, total=   3.6s\n",
      "[CV] clf__max_depth=7, clf__max_features=sqrt, clf__min_samples_leaf=4, clf__min_samples_split=7 \n",
      "[CV] clf__max_depth=7, clf__max_features=sqrt, clf__min_samples_leaf=4, clf__min_samples_split=7 \n",
      "[CV]  clf__max_depth=7, clf__max_features=sqrt, clf__min_samples_leaf=4, clf__min_samples_split=5, total=   3.6s\n",
      "[CV] clf__max_depth=7, clf__max_features=sqrt, clf__min_samples_leaf=4, clf__min_samples_split=7 \n",
      "[CV]  clf__max_depth=7, clf__max_features=sqrt, clf__min_samples_leaf=4, clf__min_samples_split=5, total=   3.5s\n",
      "[CV] clf__max_depth=7, clf__max_features=sqrt, clf__min_samples_leaf=5, clf__min_samples_split=5 \n",
      "[CV]  clf__max_depth=7, clf__max_features=sqrt, clf__min_samples_leaf=4, clf__min_samples_split=5, total=   3.6s\n",
      "[CV] clf__max_depth=7, clf__max_features=sqrt, clf__min_samples_leaf=5, clf__min_samples_split=5 \n",
      "[CV]  clf__max_depth=7, clf__max_features=sqrt, clf__min_samples_leaf=4, clf__min_samples_split=6, total=   3.7s\n",
      "[CV] clf__max_depth=7, clf__max_features=sqrt, clf__min_samples_leaf=5, clf__min_samples_split=5 \n",
      "[CV]  clf__max_depth=7, clf__max_features=sqrt, clf__min_samples_leaf=4, clf__min_samples_split=6, total=   3.6s\n",
      "[CV] clf__max_depth=7, clf__max_features=sqrt, clf__min_samples_leaf=5, clf__min_samples_split=5 \n",
      "[CV]  clf__max_depth=7, clf__max_features=sqrt, clf__min_samples_leaf=4, clf__min_samples_split=6, total=   3.6s\n",
      "[CV]  clf__max_depth=7, clf__max_features=sqrt, clf__min_samples_leaf=4, clf__min_samples_split=6, total=   3.6s\n",
      "[CV] clf__max_depth=7, clf__max_features=sqrt, clf__min_samples_leaf=5, clf__min_samples_split=5 \n",
      "[CV] clf__max_depth=7, clf__max_features=sqrt, clf__min_samples_leaf=5, clf__min_samples_split=6 \n",
      "[CV]  clf__max_depth=7, clf__max_features=sqrt, clf__min_samples_leaf=4, clf__min_samples_split=7, total=   3.5s\n",
      "[CV] clf__max_depth=7, clf__max_features=sqrt, clf__min_samples_leaf=5, clf__min_samples_split=6 \n",
      "[CV]  clf__max_depth=7, clf__max_features=sqrt, clf__min_samples_leaf=4, clf__min_samples_split=6, total=   3.7s\n",
      "[CV] clf__max_depth=7, clf__max_features=sqrt, clf__min_samples_leaf=5, clf__min_samples_split=6 \n",
      "[CV]  clf__max_depth=7, clf__max_features=sqrt, clf__min_samples_leaf=4, clf__min_samples_split=7, total=   3.6s\n",
      "[CV]  clf__max_depth=7, clf__max_features=sqrt, clf__min_samples_leaf=4, clf__min_samples_split=7, total=   3.5s\n",
      "[CV] clf__max_depth=7, clf__max_features=sqrt, clf__min_samples_leaf=5, clf__min_samples_split=6 \n",
      "[CV]  clf__max_depth=7, clf__max_features=sqrt, clf__min_samples_leaf=4, clf__min_samples_split=7, total=   3.7s\n",
      "[CV]  clf__max_depth=7, clf__max_features=sqrt, clf__min_samples_leaf=4, clf__min_samples_split=7, total=   3.4s\n",
      "[CV] clf__max_depth=7, clf__max_features=sqrt, clf__min_samples_leaf=5, clf__min_samples_split=6 \n",
      "[CV] clf__max_depth=7, clf__max_features=sqrt, clf__min_samples_leaf=5, clf__min_samples_split=7 \n",
      "[CV] clf__max_depth=7, clf__max_features=sqrt, clf__min_samples_leaf=5, clf__min_samples_split=7 \n"
     ]
    },
    {
     "name": "stdout",
     "output_type": "stream",
     "text": [
      "[CV]  clf__max_depth=7, clf__max_features=sqrt, clf__min_samples_leaf=5, clf__min_samples_split=5, total=   3.7s\n",
      "[CV] clf__max_depth=7, clf__max_features=sqrt, clf__min_samples_leaf=5, clf__min_samples_split=7 \n",
      "[CV]  clf__max_depth=7, clf__max_features=sqrt, clf__min_samples_leaf=5, clf__min_samples_split=5, total=   3.4s\n",
      "[CV] clf__max_depth=7, clf__max_features=sqrt, clf__min_samples_leaf=5, clf__min_samples_split=7 \n",
      "[CV]  clf__max_depth=7, clf__max_features=sqrt, clf__min_samples_leaf=5, clf__min_samples_split=5, total=   3.5s\n",
      "[CV] clf__max_depth=7, clf__max_features=sqrt, clf__min_samples_leaf=5, clf__min_samples_split=7 \n",
      "[CV]  clf__max_depth=7, clf__max_features=sqrt, clf__min_samples_leaf=5, clf__min_samples_split=5, total=   3.5s\n",
      "[CV] clf__max_depth=7, clf__max_features=sqrt, clf__min_samples_leaf=6, clf__min_samples_split=5 \n",
      "[CV]  clf__max_depth=7, clf__max_features=sqrt, clf__min_samples_leaf=5, clf__min_samples_split=5, total=   3.5s\n",
      "[CV]  clf__max_depth=7, clf__max_features=sqrt, clf__min_samples_leaf=5, clf__min_samples_split=6, total=   3.6s\n",
      "[CV] clf__max_depth=7, clf__max_features=sqrt, clf__min_samples_leaf=6, clf__min_samples_split=5 \n",
      "[CV]  clf__max_depth=7, clf__max_features=sqrt, clf__min_samples_leaf=5, clf__min_samples_split=6, total=   3.5s\n",
      "[CV] clf__max_depth=7, clf__max_features=sqrt, clf__min_samples_leaf=6, clf__min_samples_split=5 \n",
      "[CV] clf__max_depth=7, clf__max_features=sqrt, clf__min_samples_leaf=6, clf__min_samples_split=5 \n",
      "[CV]  clf__max_depth=7, clf__max_features=sqrt, clf__min_samples_leaf=5, clf__min_samples_split=6, total=   3.8s\n",
      "[CV] clf__max_depth=7, clf__max_features=sqrt, clf__min_samples_leaf=6, clf__min_samples_split=5 \n",
      "[CV]  clf__max_depth=7, clf__max_features=sqrt, clf__min_samples_leaf=5, clf__min_samples_split=6, total=   3.5s\n",
      "[CV]  clf__max_depth=7, clf__max_features=sqrt, clf__min_samples_leaf=5, clf__min_samples_split=6, total=   3.5s\n",
      "[CV] clf__max_depth=7, clf__max_features=sqrt, clf__min_samples_leaf=6, clf__min_samples_split=6 \n",
      "[CV]  clf__max_depth=7, clf__max_features=sqrt, clf__min_samples_leaf=5, clf__min_samples_split=7, total=   3.6s\n",
      "[CV] clf__max_depth=7, clf__max_features=sqrt, clf__min_samples_leaf=6, clf__min_samples_split=6 \n",
      "[CV]  clf__max_depth=7, clf__max_features=sqrt, clf__min_samples_leaf=5, clf__min_samples_split=7, total=   3.5s\n",
      "[CV] clf__max_depth=7, clf__max_features=sqrt, clf__min_samples_leaf=6, clf__min_samples_split=6 \n",
      "[CV] clf__max_depth=7, clf__max_features=sqrt, clf__min_samples_leaf=6, clf__min_samples_split=6 \n",
      "[CV]  clf__max_depth=7, clf__max_features=sqrt, clf__min_samples_leaf=5, clf__min_samples_split=7, total=   3.4s\n",
      "[CV] clf__max_depth=7, clf__max_features=sqrt, clf__min_samples_leaf=6, clf__min_samples_split=6 \n",
      "[CV]  clf__max_depth=7, clf__max_features=sqrt, clf__min_samples_leaf=5, clf__min_samples_split=7, total=   3.4s\n",
      "[CV] clf__max_depth=7, clf__max_features=sqrt, clf__min_samples_leaf=6, clf__min_samples_split=7 \n",
      "[CV]  clf__max_depth=7, clf__max_features=sqrt, clf__min_samples_leaf=5, clf__min_samples_split=7, total=   3.7s\n",
      "[CV] clf__max_depth=7, clf__max_features=sqrt, clf__min_samples_leaf=6, clf__min_samples_split=7 \n",
      "[CV]  clf__max_depth=7, clf__max_features=sqrt, clf__min_samples_leaf=6, clf__min_samples_split=5, total=   3.6s\n",
      "[CV] clf__max_depth=7, clf__max_features=sqrt, clf__min_samples_leaf=6, clf__min_samples_split=7 \n",
      "[CV]  clf__max_depth=7, clf__max_features=sqrt, clf__min_samples_leaf=6, clf__min_samples_split=5, total=   3.5s\n",
      "[CV] clf__max_depth=7, clf__max_features=sqrt, clf__min_samples_leaf=6, clf__min_samples_split=7 \n",
      "[CV]  clf__max_depth=7, clf__max_features=sqrt, clf__min_samples_leaf=6, clf__min_samples_split=5, total=   3.8s\n",
      "[CV]  clf__max_depth=7, clf__max_features=sqrt, clf__min_samples_leaf=6, clf__min_samples_split=5, total=   3.6s\n",
      "[CV] clf__max_depth=7, clf__max_features=sqrt, clf__min_samples_leaf=6, clf__min_samples_split=7 \n",
      "[CV]  clf__max_depth=7, clf__max_features=sqrt, clf__min_samples_leaf=6, clf__min_samples_split=5, total=   3.7s\n",
      "[CV]  clf__max_depth=7, clf__max_features=sqrt, clf__min_samples_leaf=6, clf__min_samples_split=6, total=   3.5s\n",
      "[CV]  clf__max_depth=7, clf__max_features=sqrt, clf__min_samples_leaf=6, clf__min_samples_split=6, total=   3.6s\n",
      "[CV]  clf__max_depth=7, clf__max_features=sqrt, clf__min_samples_leaf=6, clf__min_samples_split=6, total=   3.6s\n",
      "[CV]  clf__max_depth=7, clf__max_features=sqrt, clf__min_samples_leaf=6, clf__min_samples_split=6, total=   3.7s\n",
      "[CV]  clf__max_depth=7, clf__max_features=sqrt, clf__min_samples_leaf=6, clf__min_samples_split=6, total=   3.6s\n",
      "[CV]  clf__max_depth=7, clf__max_features=sqrt, clf__min_samples_leaf=6, clf__min_samples_split=7, total=   3.5s\n",
      "[CV]  clf__max_depth=7, clf__max_features=sqrt, clf__min_samples_leaf=6, clf__min_samples_split=7, total=   3.7s\n",
      "[CV]  clf__max_depth=7, clf__max_features=sqrt, clf__min_samples_leaf=6, clf__min_samples_split=7, total=   3.0s\n",
      "[CV]  clf__max_depth=7, clf__max_features=sqrt, clf__min_samples_leaf=6, clf__min_samples_split=7, total=   2.9s\n",
      "[CV]  clf__max_depth=7, clf__max_features=sqrt, clf__min_samples_leaf=6, clf__min_samples_split=7, total=   2.7s\n"
     ]
    },
    {
     "name": "stderr",
     "output_type": "stream",
     "text": [
      "[Parallel(n_jobs=-1)]: Done 810 out of 810 | elapsed:  9.1min finished\n"
     ]
    },
    {
     "data": {
      "text/plain": [
       "GridSearchCV(cv=5, error_score='raise',\n",
       "       estimator=Pipeline(memory=None,\n",
       "     steps=[('vect', TfidfVectorizer(analyzer='word', binary=False, decode_error='strict',\n",
       "        dtype=<class 'numpy.int64'>, encoding='utf-8', input='content',\n",
       "        lowercase=False, max_df=1.0, max_features=None, min_df=1,\n",
       "        ngram_range=(1, 1), norm='l2', preprocessor=None, smooth_idf=True,\n",
       " ...        min_weight_fraction_leaf=0.0, presort=False, random_state=42,\n",
       "            splitter='best'))]),\n",
       "       fit_params=None, iid=True, n_jobs=-1,\n",
       "       param_grid=[{'clf__max_depth': [5, 6, 7], 'clf__min_samples_leaf': [4, 5, 6], 'clf__min_samples_split': [5, 6, 7], 'clf__max_features': ['auto', 'log2', 'sqrt']}, {'clf__max_depth': [5, 6, 7], 'clf__min_samples_leaf': [4, 5, 6], 'clf__min_samples_split': [5, 6, 7], 'clf__max_features': ['auto', 'log2', 'sqrt']}],\n",
       "       pre_dispatch='2*n_jobs', refit='f1_micro',\n",
       "       return_train_score='warn', scoring=['accuracy', 'f1_micro'],\n",
       "       verbose=2)"
      ]
     },
     "execution_count": 34,
     "metadata": {},
     "output_type": "execute_result"
    }
   ],
   "source": [
    "gs_lr_tfidf.fit(X_train, y_train)"
   ]
  },
  {
   "cell_type": "code",
   "execution_count": 35,
   "metadata": {},
   "outputs": [],
   "source": [
    "best_parameters = gs_lr_tfidf.best_params_\n",
    "best_estimator = gs_lr_tfidf.best_estimator_\n",
    "result = gs_lr_tfidf.cv_results_"
   ]
  },
  {
   "cell_type": "code",
   "execution_count": 36,
   "metadata": {},
   "outputs": [
    {
     "data": {
      "text/plain": [
       "{'clf__max_depth': 5,\n",
       " 'clf__max_features': 'auto',\n",
       " 'clf__min_samples_leaf': 4,\n",
       " 'clf__min_samples_split': 5}"
      ]
     },
     "execution_count": 36,
     "metadata": {},
     "output_type": "execute_result"
    }
   ],
   "source": [
    "best_parameters"
   ]
  },
  {
   "cell_type": "code",
   "execution_count": 37,
   "metadata": {},
   "outputs": [
    {
     "name": "stdout",
     "output_type": "stream",
     "text": [
      "0.2869640135197826\n",
      "0.24717090547593407\n",
      "0.2212244221688344\n",
      "0.7431156178546575\n",
      "0.7553062813778934\n"
     ]
    }
   ],
   "source": [
    "# PERFORMANCE MEASURE\n",
    "#####################\n",
    "# Stratified k-fold CV\n",
    "from sklearn.model_selection import StratifiedKFold\n",
    "from sklearn.base import clone\n",
    "\n",
    "skfolds = StratifiedKFold(n_splits=5, random_state=42, shuffle=True)\n",
    "\n",
    "for train_index, test_index in skfolds.split(X_train, y_train):\n",
    "    clone_estimator = clone(best_estimator)\n",
    "    X_train_folds = X_train[train_index]\n",
    "    y_train_folds = (y_train[train_index])\n",
    "    X_test_fold = X_train[test_index]\n",
    "    y_test_fold = (y_train[test_index])\n",
    "\n",
    "    clone_estimator.fit(X_train_folds, y_train_folds)\n",
    "    y_pred = clone_estimator.predict(X_test_fold)\n",
    "    n_correct = sum(y_pred == y_test_fold)\n",
    "    print(n_correct / len(y_pred))"
   ]
  },
  {
   "cell_type": "code",
   "execution_count": 38,
   "metadata": {},
   "outputs": [
    {
     "name": "stderr",
     "output_type": "stream",
     "text": [
      "[Parallel(n_jobs=-1)]: Done   3 out of   5 | elapsed:    2.4s remaining:    1.6s\n",
      "[Parallel(n_jobs=-1)]: Done   5 out of   5 | elapsed:    2.5s finished\n"
     ]
    }
   ],
   "source": [
    "y_train_pred = cross_val_predict(best_estimator, X_train, y_train, cv=5,\n",
    "        verbose=2, n_jobs=-1)\n",
    "\n",
    "conf_mx = confusion_matrix(y_train, y_train_pred)"
   ]
  },
  {
   "cell_type": "code",
   "execution_count": 39,
   "metadata": {},
   "outputs": [
    {
     "data": {
      "text/plain": [
       "array([[  1553,   2375,   2355],\n",
       "       [ 13765,  27615,  26266],\n",
       "       [ 47276,  69716, 110852]])"
      ]
     },
     "execution_count": 39,
     "metadata": {},
     "output_type": "execute_result"
    }
   ],
   "source": [
    "conf_mx"
   ]
  },
  {
   "cell_type": "code",
   "execution_count": 40,
   "metadata": {},
   "outputs": [
    {
     "data": {
      "text/plain": [
       "(0.46399114566246813, 0.46399114566246813)"
      ]
     },
     "execution_count": 40,
     "metadata": {},
     "output_type": "execute_result"
    }
   ],
   "source": [
    "(precision_score(y_train, y_train_pred, average='micro'),\n",
    "        recall_score(y_train, y_train_pred, average='micro'))"
   ]
  },
  {
   "cell_type": "code",
   "execution_count": 41,
   "metadata": {},
   "outputs": [
    {
     "data": {
      "text/plain": [
       "0.46399114566246813"
      ]
     },
     "execution_count": 41,
     "metadata": {},
     "output_type": "execute_result"
    }
   ],
   "source": [
    "f1_score(y_train, y_train_pred, average='micro')"
   ]
  },
  {
   "cell_type": "code",
   "execution_count": 42,
   "metadata": {},
   "outputs": [
    {
     "name": "stderr",
     "output_type": "stream",
     "text": [
      "[Parallel(n_jobs=-1)]: Done   3 out of   5 | elapsed:    2.3s remaining:    1.6s\n",
      "[Parallel(n_jobs=-1)]: Done   5 out of   5 | elapsed:    2.5s finished\n"
     ]
    }
   ],
   "source": [
    "# TEST MODEL ON TEST DATA\n",
    "#########################\n",
    "y_test_pred = cross_val_predict(best_estimator, X_test, y_test, cv=5,\n",
    "        verbose=2, n_jobs=-1)\n",
    "\n",
    "conf_mx = confusion_matrix(y_test, y_test_pred)"
   ]
  },
  {
   "cell_type": "code",
   "execution_count": 43,
   "metadata": {},
   "outputs": [
    {
     "data": {
      "text/plain": [
       "array([[   659,   2210,   3414],\n",
       "       [   780,  26621,  40245],\n",
       "       [  1795,  88986, 137064]])"
      ]
     },
     "execution_count": 43,
     "metadata": {},
     "output_type": "execute_result"
    }
   ],
   "source": [
    "conf_mx"
   ]
  },
  {
   "cell_type": "code",
   "execution_count": 44,
   "metadata": {},
   "outputs": [
    {
     "data": {
      "text/plain": [
       "(0.5445929735497426, 0.5445929735497426)"
      ]
     },
     "execution_count": 44,
     "metadata": {},
     "output_type": "execute_result"
    }
   ],
   "source": [
    "(precision_score(y_test, y_test_pred, average='micro'),\n",
    "        recall_score(y_test, y_test_pred, average='micro'))"
   ]
  },
  {
   "cell_type": "code",
   "execution_count": 45,
   "metadata": {},
   "outputs": [
    {
     "data": {
      "text/plain": [
       "0.5445929735497426"
      ]
     },
     "execution_count": 45,
     "metadata": {},
     "output_type": "execute_result"
    }
   ],
   "source": [
    "f1_score(y_test, y_test_pred, average='micro')"
   ]
  },
  {
   "cell_type": "code",
   "execution_count": 46,
   "metadata": {},
   "outputs": [
    {
     "data": {
      "text/plain": [
       "['./training/sentiment_destree_undersample.pkl']"
      ]
     },
     "execution_count": 46,
     "metadata": {},
     "output_type": "execute_result"
    }
   ],
   "source": [
    "joblib.dump(best_estimator, './training/sentiment_destree_undersample.pkl')"
   ]
  },
  {
   "cell_type": "markdown",
   "metadata": {},
   "source": [
    "# 3 - SGDClassifier behaves like Linear SVC"
   ]
  },
  {
   "cell_type": "code",
   "execution_count": 47,
   "metadata": {},
   "outputs": [],
   "source": [
    "# hence loss='hinge' and penalty='l2'"
   ]
  },
  {
   "cell_type": "code",
   "execution_count": 7,
   "metadata": {},
   "outputs": [],
   "source": [
    "from sklearn.linear_model import SGDClassifier"
   ]
  },
  {
   "cell_type": "code",
   "execution_count": 52,
   "metadata": {},
   "outputs": [],
   "source": [
    "# The text data is already cleaned\n",
    "inputfile = './csvfiles/output_sentiment.csv'\n",
    "review = pd.read_csv(inputfile, skip_blank_lines=False)\n",
    "review = review[['text', 'ovsentiment']]\n",
    "# exclude NaN in 'text' column (count: 11248)\n",
    "review = review[~pd.isna(review['text'])]\n",
    "X = review['text'].values\n",
    "y = review['ovsentiment'].values\n",
    "\n",
    "# len(review[review['ovsentiment'] == -1])\n",
    "# total number of -1 (negative review) is 12566\n",
    "\n",
    "# len(review[review['ovsentiment'] == 0])\n",
    "# total number of 0 (neutral) is 135292\n",
    "\n",
    "# len(review[review['ovsentiment'] == 1])\n",
    "# total number of 1 (positive review) is 455689\n",
    "\n",
    "# splitting the dataset into the training set and test set\n",
    "# stratify=y --> stratified sampling\n",
    "X_train, X_test, y_train, y_test = train_test_split(X, y, test_size=0.2, \n",
    "        random_state=42, shuffle=True, stratify=y)"
   ]
  },
  {
   "cell_type": "code",
   "execution_count": 53,
   "metadata": {},
   "outputs": [
    {
     "data": {
      "text/plain": [
       "(482837,)"
      ]
     },
     "execution_count": 53,
     "metadata": {},
     "output_type": "execute_result"
    }
   ],
   "source": [
    "X_train.shape"
   ]
  },
  {
   "cell_type": "code",
   "execution_count": 54,
   "metadata": {},
   "outputs": [],
   "source": [
    "rus = RandomUnderSampler(random_state=42, replacement=True)\n",
    "\n",
    "tfidf = TfidfVectorizer(strip_accents=None, lowercase=False, preprocessor=None,\n",
    "                       ngram_range=(1,1), stop_words=None, tokenizer=str.split)\n",
    "\n",
    "param_grid = [{'clf__loss': ['hinge'],\n",
    "               'clf__penalty': ['l2'],\n",
    "               'clf__max_iter': [200, 300, 400, 500, 600]\n",
    "              }\n",
    "             ]\n",
    "\n",
    "lr_tfidf = Pipeline([('vect', tfidf),\n",
    "                     ('run', rus),\n",
    "                     ('clf', SGDClassifier(random_state=42))\n",
    "                     ])\n",
    "\n",
    "gs_lr_tfidf = GridSearchCV(estimator=lr_tfidf,\n",
    "        param_grid=param_grid,\n",
    "        scoring=['accuracy', 'f1_macro', 'f1_micro'],\n",
    "        cv=5,\n",
    "        verbose=2,\n",
    "        refit='f1_micro',\n",
    "        n_jobs=-1)"
   ]
  },
  {
   "cell_type": "code",
   "execution_count": 55,
   "metadata": {
    "scrolled": true
   },
   "outputs": [
    {
     "name": "stdout",
     "output_type": "stream",
     "text": [
      "Fitting 5 folds for each of 5 candidates, totalling 25 fits\n",
      "[CV] clf__loss=hinge, clf__max_iter=200, clf__penalty=l2 .............\n",
      "[CV] clf__loss=hinge, clf__max_iter=200, clf__penalty=l2 .............\n",
      "[CV] clf__loss=hinge, clf__max_iter=200, clf__penalty=l2 .............\n",
      "[CV] clf__loss=hinge, clf__max_iter=200, clf__penalty=l2 .............\n",
      "[CV] clf__loss=hinge, clf__max_iter=200, clf__penalty=l2 .............\n",
      "[CV] clf__loss=hinge, clf__max_iter=300, clf__penalty=l2 .............\n",
      "[CV] clf__loss=hinge, clf__max_iter=300, clf__penalty=l2 .............\n",
      "[CV] clf__loss=hinge, clf__max_iter=300, clf__penalty=l2 .............\n",
      "[CV] clf__loss=hinge, clf__max_iter=300, clf__penalty=l2 .............\n",
      "[CV] clf__loss=hinge, clf__max_iter=300, clf__penalty=l2 .............\n",
      "[CV] clf__loss=hinge, clf__max_iter=400, clf__penalty=l2 .............\n",
      "[CV] clf__loss=hinge, clf__max_iter=400, clf__penalty=l2 .............\n",
      "[CV]  clf__loss=hinge, clf__max_iter=200, clf__penalty=l2, total=   8.8s\n",
      "[CV] clf__loss=hinge, clf__max_iter=400, clf__penalty=l2 .............\n",
      "[CV]  clf__loss=hinge, clf__max_iter=200, clf__penalty=l2, total=   9.7s\n",
      "[CV]  clf__loss=hinge, clf__max_iter=200, clf__penalty=l2, total=   9.2s\n",
      "[CV] clf__loss=hinge, clf__max_iter=400, clf__penalty=l2 .............\n",
      "[CV] clf__loss=hinge, clf__max_iter=400, clf__penalty=l2 .............\n",
      "[CV]  clf__loss=hinge, clf__max_iter=200, clf__penalty=l2, total=  10.1s\n",
      "[CV] clf__loss=hinge, clf__max_iter=500, clf__penalty=l2 .............\n",
      "[CV]  clf__loss=hinge, clf__max_iter=200, clf__penalty=l2, total=  10.1s\n",
      "[CV] clf__loss=hinge, clf__max_iter=500, clf__penalty=l2 .............\n",
      "[CV]  clf__loss=hinge, clf__max_iter=300, clf__penalty=l2, total=  11.2s\n",
      "[CV]  clf__loss=hinge, clf__max_iter=300, clf__penalty=l2, total=  11.5s\n",
      "[CV] clf__loss=hinge, clf__max_iter=500, clf__penalty=l2 .............\n",
      "[CV]  clf__loss=hinge, clf__max_iter=300, clf__penalty=l2, total=  11.0s\n",
      "[CV]  clf__loss=hinge, clf__max_iter=300, clf__penalty=l2, total=  11.1s\n",
      "[CV] clf__loss=hinge, clf__max_iter=500, clf__penalty=l2 .............\n",
      "[CV]  clf__loss=hinge, clf__max_iter=300, clf__penalty=l2, total=  11.1s\n",
      "[CV] clf__loss=hinge, clf__max_iter=500, clf__penalty=l2 .............\n",
      "[CV] clf__loss=hinge, clf__max_iter=600, clf__penalty=l2 .............\n",
      "[CV] clf__loss=hinge, clf__max_iter=600, clf__penalty=l2 .............\n",
      "[CV]  clf__loss=hinge, clf__max_iter=400, clf__penalty=l2, total=  12.1s\n",
      "[CV] clf__loss=hinge, clf__max_iter=600, clf__penalty=l2 .............\n",
      "[CV]  clf__loss=hinge, clf__max_iter=400, clf__penalty=l2, total=  11.8s\n",
      "[CV] clf__loss=hinge, clf__max_iter=600, clf__penalty=l2 .............\n",
      "[CV]  clf__loss=hinge, clf__max_iter=400, clf__penalty=l2, total=  11.5s\n",
      "[CV] clf__loss=hinge, clf__max_iter=600, clf__penalty=l2 .............\n",
      "[CV]  clf__loss=hinge, clf__max_iter=400, clf__penalty=l2, total=  12.9s\n",
      "[CV]  clf__loss=hinge, clf__max_iter=400, clf__penalty=l2, total=  13.4s\n"
     ]
    },
    {
     "name": "stderr",
     "output_type": "stream",
     "text": [
      "[Parallel(n_jobs=-1)]: Done  15 out of  25 | elapsed:   45.2s remaining:   30.2s\n"
     ]
    },
    {
     "name": "stdout",
     "output_type": "stream",
     "text": [
      "[CV]  clf__loss=hinge, clf__max_iter=500, clf__penalty=l2, total=  13.0s\n",
      "[CV]  clf__loss=hinge, clf__max_iter=500, clf__penalty=l2, total=  13.8s\n",
      "[CV]  clf__loss=hinge, clf__max_iter=500, clf__penalty=l2, total=  14.1s\n",
      "[CV]  clf__loss=hinge, clf__max_iter=500, clf__penalty=l2, total=  14.0s\n",
      "[CV]  clf__loss=hinge, clf__max_iter=600, clf__penalty=l2, total=  15.7s\n",
      "[CV]  clf__loss=hinge, clf__max_iter=500, clf__penalty=l2, total=  15.2s\n",
      "[CV]  clf__loss=hinge, clf__max_iter=600, clf__penalty=l2, total=  15.3s\n",
      "[CV]  clf__loss=hinge, clf__max_iter=600, clf__penalty=l2, total=  15.2s\n",
      "[CV]  clf__loss=hinge, clf__max_iter=600, clf__penalty=l2, total=  15.1s\n",
      "[CV]  clf__loss=hinge, clf__max_iter=600, clf__penalty=l2, total=   8.8s\n"
     ]
    },
    {
     "name": "stderr",
     "output_type": "stream",
     "text": [
      "[Parallel(n_jobs=-1)]: Done  25 out of  25 | elapsed:   57.5s finished\n"
     ]
    }
   ],
   "source": [
    "gs_lr_tfidf.fit(X_train, y_train)\n",
    "\n",
    "best_parameters = gs_lr_tfidf.best_params_\n",
    "best_estimator = gs_lr_tfidf.best_estimator_\n",
    "result = gs_lr_tfidf.cv_results_"
   ]
  },
  {
   "cell_type": "code",
   "execution_count": 56,
   "metadata": {},
   "outputs": [
    {
     "data": {
      "text/plain": [
       "{'clf__loss': 'hinge', 'clf__max_iter': 400, 'clf__penalty': 'l2'}"
      ]
     },
     "execution_count": 56,
     "metadata": {},
     "output_type": "execute_result"
    }
   ],
   "source": [
    "best_parameters"
   ]
  },
  {
   "cell_type": "code",
   "execution_count": 57,
   "metadata": {},
   "outputs": [
    {
     "name": "stdout",
     "output_type": "stream",
     "text": [
      "0.9467945199805321\n",
      "0.9480469720818491\n",
      "0.9486993621075305\n",
      "0.947362425698486\n",
      "0.9485222542095562\n"
     ]
    }
   ],
   "source": [
    "# PERFORMANCE MEASURE\n",
    "#####################\n",
    "# Stratified k-fold CV\n",
    "from sklearn.model_selection import StratifiedKFold\n",
    "from sklearn.base import clone\n",
    "\n",
    "skfolds = StratifiedKFold(n_splits=5, random_state=42, shuffle=True)\n",
    "\n",
    "for train_index, test_index in skfolds.split(X_train, y_train):\n",
    "    clone_estimator = clone(best_estimator)\n",
    "    X_train_folds = X_train[train_index]\n",
    "    y_train_folds = (y_train[train_index])\n",
    "    X_test_fold = X_train[test_index]\n",
    "    y_test_fold = (y_train[test_index])\n",
    "\n",
    "    clone_estimator.fit(X_train_folds, y_train_folds)\n",
    "    y_pred = clone_estimator.predict(X_test_fold)\n",
    "    n_correct = sum(y_pred == y_test_fold)\n",
    "    print(n_correct / len(y_pred))"
   ]
  },
  {
   "cell_type": "code",
   "execution_count": 58,
   "metadata": {},
   "outputs": [
    {
     "name": "stderr",
     "output_type": "stream",
     "text": [
      "[Parallel(n_jobs=-1)]: Done   3 out of   5 | elapsed:    6.2s remaining:    4.2s\n",
      "[Parallel(n_jobs=-1)]: Done   5 out of   5 | elapsed:    6.7s finished\n"
     ]
    }
   ],
   "source": [
    "# confusion matrix\n",
    "from sklearn.metrics import confusion_matrix\n",
    "from sklearn.model_selection import cross_val_predict\n",
    "\n",
    "y_train_pred = cross_val_predict(best_estimator, X_train, y_train, cv=5,\n",
    "        verbose=2, n_jobs=-1)\n",
    "\n",
    "conf_mx = confusion_matrix(y_train, y_train_pred)"
   ]
  },
  {
   "cell_type": "code",
   "execution_count": 59,
   "metadata": {},
   "outputs": [
    {
     "data": {
      "text/plain": [
       "array([[  9686,    265,    102],\n",
       "       [  6309,  99557,   2367],\n",
       "       [  6338,   9655, 348558]])"
      ]
     },
     "execution_count": 59,
     "metadata": {},
     "output_type": "execute_result"
    }
   ],
   "source": [
    "conf_mx"
   ]
  },
  {
   "cell_type": "code",
   "execution_count": 60,
   "metadata": {},
   "outputs": [
    {
     "data": {
      "text/plain": [
       "(0.9481481328067236, 0.9481481328067236)"
      ]
     },
     "execution_count": 60,
     "metadata": {},
     "output_type": "execute_result"
    }
   ],
   "source": [
    "(precision_score(y_train, y_train_pred, average='micro'),\n",
    "        recall_score(y_train, y_train_pred, average='micro'))"
   ]
  },
  {
   "cell_type": "code",
   "execution_count": 61,
   "metadata": {},
   "outputs": [
    {
     "data": {
      "text/plain": [
       "0.9481481328067236"
      ]
     },
     "execution_count": 61,
     "metadata": {},
     "output_type": "execute_result"
    }
   ],
   "source": [
    "f1_score(y_train, y_train_pred, average='micro')"
   ]
  },
  {
   "cell_type": "code",
   "execution_count": 62,
   "metadata": {},
   "outputs": [
    {
     "name": "stderr",
     "output_type": "stream",
     "text": [
      "[Parallel(n_jobs=-1)]: Done   3 out of   5 | elapsed:    1.8s remaining:    1.2s\n",
      "[Parallel(n_jobs=-1)]: Done   5 out of   5 | elapsed:    2.0s finished\n"
     ]
    }
   ],
   "source": [
    "# TEST MODEL ON TEST DATA\n",
    "#########################\n",
    "y_test_pred = cross_val_predict(best_estimator, X_test, y_test, cv=5,\n",
    "        verbose=2, n_jobs=-1)\n",
    "\n",
    "conf_mx = confusion_matrix(y_test, y_test_pred)"
   ]
  },
  {
   "cell_type": "code",
   "execution_count": 63,
   "metadata": {},
   "outputs": [
    {
     "data": {
      "text/plain": [
       "array([[ 2388,   103,    22],\n",
       "       [ 1799, 24594,   666],\n",
       "       [ 1614,  2828, 86696]])"
      ]
     },
     "execution_count": 63,
     "metadata": {},
     "output_type": "execute_result"
    }
   ],
   "source": [
    "conf_mx"
   ]
  },
  {
   "cell_type": "code",
   "execution_count": 64,
   "metadata": {},
   "outputs": [
    {
     "data": {
      "text/plain": [
       "(0.9417446773258222, 0.9417446773258222)"
      ]
     },
     "execution_count": 64,
     "metadata": {},
     "output_type": "execute_result"
    }
   ],
   "source": [
    "(precision_score(y_test, y_test_pred, average='micro'),\n",
    "        recall_score(y_test, y_test_pred, average='micro'))"
   ]
  },
  {
   "cell_type": "code",
   "execution_count": 65,
   "metadata": {},
   "outputs": [
    {
     "data": {
      "text/plain": [
       "0.9417446773258222"
      ]
     },
     "execution_count": 65,
     "metadata": {},
     "output_type": "execute_result"
    }
   ],
   "source": [
    "f1_score(y_test, y_test_pred, average='micro')"
   ]
  },
  {
   "cell_type": "code",
   "execution_count": 66,
   "metadata": {},
   "outputs": [
    {
     "data": {
      "text/plain": [
       "['./training/sentiment_svm_undersample.pkl']"
      ]
     },
     "execution_count": 66,
     "metadata": {},
     "output_type": "execute_result"
    }
   ],
   "source": [
    "joblib.dump(best_estimator, './training/sentiment_svm_undersample.pkl')"
   ]
  },
  {
   "cell_type": "markdown",
   "metadata": {},
   "source": [
    "# 4 - SGD"
   ]
  },
  {
   "cell_type": "code",
   "execution_count": 8,
   "metadata": {},
   "outputs": [],
   "source": [
    "from sklearn.linear_model import SGDClassifier"
   ]
  },
  {
   "cell_type": "code",
   "execution_count": 68,
   "metadata": {},
   "outputs": [],
   "source": [
    "rus = RandomUnderSampler(random_state=42, replacement=True)\n",
    "\n",
    "tfidf = TfidfVectorizer(strip_accents=None, lowercase=False, preprocessor=None,\n",
    "                       ngram_range=(1,1), stop_words=None, tokenizer=str.split)\n",
    "param_grid = [{'clf__loss': ['hinge', 'modified_huber', 'squared_hinge', 'perceptron', 'log'],\n",
    "               'clf__penalty': ['l2', 'l1', 'elasticnet'],\n",
    "               'clf__max_iter': [200, 300, 400, 500, 600]\n",
    "            }]\n",
    "\n",
    "lr_tfidf = Pipeline([('vect', tfidf),\n",
    "                     ('rus', rus),\n",
    "                     ('clf', SGDClassifier(random_state=42))\n",
    "                    ])\n",
    "\n",
    "gs_lr_tfidf = GridSearchCV(estimator=lr_tfidf,\n",
    "        param_grid=param_grid,\n",
    "        scoring=['accuracy', 'f1_macro', 'f1_micro'],\n",
    "        cv=5,\n",
    "        verbose=2,\n",
    "        refit='f1_micro',\n",
    "        n_jobs=-1)"
   ]
  },
  {
   "cell_type": "code",
   "execution_count": 69,
   "metadata": {
    "scrolled": true
   },
   "outputs": [
    {
     "name": "stdout",
     "output_type": "stream",
     "text": [
      "Fitting 5 folds for each of 75 candidates, totalling 375 fits\n",
      "[CV] clf__loss=hinge, clf__max_iter=200, clf__penalty=l2 .............\n",
      "[CV] clf__loss=hinge, clf__max_iter=200, clf__penalty=l2 .............\n",
      "[CV] clf__loss=hinge, clf__max_iter=200, clf__penalty=l2 .............\n",
      "[CV] clf__loss=hinge, clf__max_iter=200, clf__penalty=l2 .............\n",
      "[CV] clf__loss=hinge, clf__max_iter=200, clf__penalty=l2 .............\n",
      "[CV] clf__loss=hinge, clf__max_iter=200, clf__penalty=l1 .............\n",
      "[CV] clf__loss=hinge, clf__max_iter=200, clf__penalty=l1 .............\n",
      "[CV] clf__loss=hinge, clf__max_iter=200, clf__penalty=l1 .............\n",
      "[CV] clf__loss=hinge, clf__max_iter=200, clf__penalty=l1 .............\n",
      "[CV] clf__loss=hinge, clf__max_iter=200, clf__penalty=l1 .............\n",
      "[CV] clf__loss=hinge, clf__max_iter=200, clf__penalty=elasticnet .....\n",
      "[CV] clf__loss=hinge, clf__max_iter=200, clf__penalty=elasticnet .....\n",
      "[CV]  clf__loss=hinge, clf__max_iter=200, clf__penalty=l2, total=   8.5s\n",
      "[CV] clf__loss=hinge, clf__max_iter=200, clf__penalty=elasticnet .....\n",
      "[CV]  clf__loss=hinge, clf__max_iter=200, clf__penalty=l2, total=   9.6s\n",
      "[CV]  clf__loss=hinge, clf__max_iter=200, clf__penalty=l2, total=   9.7s\n",
      "[CV] clf__loss=hinge, clf__max_iter=200, clf__penalty=elasticnet .....\n",
      "[CV] clf__loss=hinge, clf__max_iter=200, clf__penalty=elasticnet .....\n",
      "[CV]  clf__loss=hinge, clf__max_iter=200, clf__penalty=l2, total=  10.2s\n",
      "[CV] clf__loss=hinge, clf__max_iter=300, clf__penalty=l2 .............\n",
      "[CV]  clf__loss=hinge, clf__max_iter=200, clf__penalty=l2, total=  10.1s\n",
      "[CV] clf__loss=hinge, clf__max_iter=300, clf__penalty=l2 .............\n",
      "[CV]  clf__loss=hinge, clf__max_iter=200, clf__penalty=l1, total=  11.4s\n",
      "[CV]  clf__loss=hinge, clf__max_iter=200, clf__penalty=l1, total=  11.5s\n",
      "[CV] clf__loss=hinge, clf__max_iter=300, clf__penalty=l2 .............\n",
      "[CV]  clf__loss=hinge, clf__max_iter=200, clf__penalty=l1, total=  11.3s\n",
      "[CV] clf__loss=hinge, clf__max_iter=300, clf__penalty=l2 .............\n",
      "[CV]  clf__loss=hinge, clf__max_iter=200, clf__penalty=l1, total=  11.1s\n",
      "[CV]  clf__loss=hinge, clf__max_iter=200, clf__penalty=l1, total=  10.9s\n",
      "[CV] clf__loss=hinge, clf__max_iter=300, clf__penalty=l2 .............\n",
      "[CV]  clf__loss=hinge, clf__max_iter=200, clf__penalty=elasticnet, total=  11.0s\n",
      "[CV]  clf__loss=hinge, clf__max_iter=200, clf__penalty=elasticnet, total=  11.2s\n",
      "[CV] clf__loss=hinge, clf__max_iter=300, clf__penalty=l1 .............\n",
      "[CV] clf__loss=hinge, clf__max_iter=300, clf__penalty=l1 .............\n",
      "[CV] clf__loss=hinge, clf__max_iter=300, clf__penalty=l1 .............\n",
      "[CV] clf__loss=hinge, clf__max_iter=300, clf__penalty=l1 .............\n",
      "[CV]  clf__loss=hinge, clf__max_iter=200, clf__penalty=elasticnet, total=  10.8s\n",
      "[CV] clf__loss=hinge, clf__max_iter=300, clf__penalty=l1 .............\n",
      "[CV]  clf__loss=hinge, clf__max_iter=200, clf__penalty=elasticnet, total=  11.6s\n",
      "[CV] clf__loss=hinge, clf__max_iter=300, clf__penalty=elasticnet .....\n",
      "[CV]  clf__loss=hinge, clf__max_iter=200, clf__penalty=elasticnet, total=  12.0s\n",
      "[CV]  clf__loss=hinge, clf__max_iter=300, clf__penalty=l2, total=  11.4s\n",
      "[CV] clf__loss=hinge, clf__max_iter=300, clf__penalty=elasticnet .....\n",
      "[CV] clf__loss=hinge, clf__max_iter=300, clf__penalty=elasticnet .....\n",
      "[CV]  clf__loss=hinge, clf__max_iter=300, clf__penalty=l2, total=  11.7s\n"
     ]
    },
    {
     "name": "stderr",
     "output_type": "stream",
     "text": [
      "[Parallel(n_jobs=-1)]: Done  17 tasks      | elapsed:   45.2s\n"
     ]
    },
    {
     "name": "stdout",
     "output_type": "stream",
     "text": [
      "[CV] clf__loss=hinge, clf__max_iter=300, clf__penalty=elasticnet .....\n",
      "[CV]  clf__loss=hinge, clf__max_iter=300, clf__penalty=l2, total=  11.2s\n",
      "[CV]  clf__loss=hinge, clf__max_iter=300, clf__penalty=l2, total=  11.9s\n",
      "[CV] clf__loss=hinge, clf__max_iter=300, clf__penalty=elasticnet .....\n",
      "[CV] clf__loss=hinge, clf__max_iter=400, clf__penalty=l2 .............\n",
      "[CV]  clf__loss=hinge, clf__max_iter=300, clf__penalty=l2, total=  11.4s\n",
      "[CV] clf__loss=hinge, clf__max_iter=400, clf__penalty=l2 .............\n",
      "[CV]  clf__loss=hinge, clf__max_iter=300, clf__penalty=l1, total=  12.5s\n",
      "[CV] clf__loss=hinge, clf__max_iter=400, clf__penalty=l2 .............\n",
      "[CV]  clf__loss=hinge, clf__max_iter=300, clf__penalty=l1, total=  13.3s\n",
      "[CV]  clf__loss=hinge, clf__max_iter=300, clf__penalty=l1, total=  13.3s\n",
      "[CV] clf__loss=hinge, clf__max_iter=400, clf__penalty=l2 .............\n",
      "[CV]  clf__loss=hinge, clf__max_iter=300, clf__penalty=l1, total=  13.2s\n",
      "[CV] clf__loss=hinge, clf__max_iter=400, clf__penalty=l2 .............\n",
      "[CV] clf__loss=hinge, clf__max_iter=400, clf__penalty=l1 .............\n",
      "[CV]  clf__loss=hinge, clf__max_iter=300, clf__penalty=l1, total=  13.7s\n",
      "[CV] clf__loss=hinge, clf__max_iter=400, clf__penalty=l1 .............\n",
      "[CV]  clf__loss=hinge, clf__max_iter=300, clf__penalty=elasticnet, total=  14.0s\n",
      "[CV]  clf__loss=hinge, clf__max_iter=300, clf__penalty=elasticnet, total=  13.2s\n",
      "[CV] clf__loss=hinge, clf__max_iter=400, clf__penalty=l1 .............\n",
      "[CV] clf__loss=hinge, clf__max_iter=400, clf__penalty=l1 .............\n",
      "[CV]  clf__loss=hinge, clf__max_iter=300, clf__penalty=elasticnet, total=  14.3s\n",
      "[CV] clf__loss=hinge, clf__max_iter=400, clf__penalty=l1 .............\n",
      "[CV]  clf__loss=hinge, clf__max_iter=400, clf__penalty=l2, total=  12.4s\n",
      "[CV] clf__loss=hinge, clf__max_iter=400, clf__penalty=elasticnet .....\n",
      "[CV]  clf__loss=hinge, clf__max_iter=400, clf__penalty=l2, total=  12.5s\n",
      "[CV] clf__loss=hinge, clf__max_iter=400, clf__penalty=elasticnet .....\n",
      "[CV]  clf__loss=hinge, clf__max_iter=300, clf__penalty=elasticnet, total=  14.3s\n",
      "[CV]  clf__loss=hinge, clf__max_iter=300, clf__penalty=elasticnet, total=  13.7s\n",
      "[CV] clf__loss=hinge, clf__max_iter=400, clf__penalty=elasticnet .....\n",
      "[CV]  clf__loss=hinge, clf__max_iter=400, clf__penalty=l2, total=  11.8s\n",
      "[CV] clf__loss=hinge, clf__max_iter=400, clf__penalty=elasticnet .....\n",
      "[CV] clf__loss=hinge, clf__max_iter=400, clf__penalty=elasticnet .....\n",
      "[CV]  clf__loss=hinge, clf__max_iter=400, clf__penalty=l2, total=  12.3s\n",
      "[CV] clf__loss=hinge, clf__max_iter=500, clf__penalty=l2 .............\n",
      "[CV]  clf__loss=hinge, clf__max_iter=400, clf__penalty=l2, total=  12.5s\n",
      "[CV] clf__loss=hinge, clf__max_iter=500, clf__penalty=l2 .............\n",
      "[CV]  clf__loss=hinge, clf__max_iter=400, clf__penalty=l1, total=  13.9s\n",
      "[CV] clf__loss=hinge, clf__max_iter=500, clf__penalty=l2 .............\n",
      "[CV]  clf__loss=hinge, clf__max_iter=400, clf__penalty=l1, total=  13.5s\n",
      "[CV] clf__loss=hinge, clf__max_iter=500, clf__penalty=l2 .............\n",
      "[CV]  clf__loss=hinge, clf__max_iter=400, clf__penalty=l1, total=  15.7s\n",
      "[CV]  clf__loss=hinge, clf__max_iter=400, clf__penalty=l1, total=  15.9s\n",
      "[CV] clf__loss=hinge, clf__max_iter=500, clf__penalty=l2 .............\n",
      "[CV] clf__loss=hinge, clf__max_iter=500, clf__penalty=l1 .............\n",
      "[CV]  clf__loss=hinge, clf__max_iter=400, clf__penalty=l1, total=  16.1s\n",
      "[CV] clf__loss=hinge, clf__max_iter=500, clf__penalty=l1 .............\n",
      "[CV]  clf__loss=hinge, clf__max_iter=500, clf__penalty=l2, total=  14.1s\n",
      "[CV] clf__loss=hinge, clf__max_iter=500, clf__penalty=l1 .............\n",
      "[CV]  clf__loss=hinge, clf__max_iter=400, clf__penalty=elasticnet, total=  16.7s\n",
      "[CV]  clf__loss=hinge, clf__max_iter=400, clf__penalty=elasticnet, total=  16.0s\n",
      "[CV] clf__loss=hinge, clf__max_iter=500, clf__penalty=l1 .............\n",
      "[CV]  clf__loss=hinge, clf__max_iter=400, clf__penalty=elasticnet, total=  16.5s\n",
      "[CV]  clf__loss=hinge, clf__max_iter=500, clf__penalty=l2, total=  14.3s\n",
      "[CV] clf__loss=hinge, clf__max_iter=500, clf__penalty=l1 .............\n",
      "[CV]  clf__loss=hinge, clf__max_iter=400, clf__penalty=elasticnet, total=  16.0s\n",
      "[CV] clf__loss=hinge, clf__max_iter=500, clf__penalty=elasticnet .....\n",
      "[CV]  clf__loss=hinge, clf__max_iter=400, clf__penalty=elasticnet, total=  16.0s\n",
      "[CV] clf__loss=hinge, clf__max_iter=500, clf__penalty=elasticnet .....\n",
      "[CV] clf__loss=hinge, clf__max_iter=500, clf__penalty=elasticnet .....\n",
      "[CV] clf__loss=hinge, clf__max_iter=500, clf__penalty=elasticnet .....\n",
      "[CV]  clf__loss=hinge, clf__max_iter=500, clf__penalty=l2, total=  13.2s\n",
      "[CV] clf__loss=hinge, clf__max_iter=500, clf__penalty=elasticnet .....\n",
      "[CV]  clf__loss=hinge, clf__max_iter=500, clf__penalty=l2, total=  11.1s\n",
      "[CV] clf__loss=hinge, clf__max_iter=600, clf__penalty=l2 .............\n",
      "[CV]  clf__loss=hinge, clf__max_iter=500, clf__penalty=l2, total=  12.9s\n",
      "[CV] clf__loss=hinge, clf__max_iter=600, clf__penalty=l2 .............\n",
      "[CV]  clf__loss=hinge, clf__max_iter=500, clf__penalty=l1, total=  17.2s\n",
      "[CV] clf__loss=hinge, clf__max_iter=600, clf__penalty=l2 .............\n",
      "[CV]  clf__loss=hinge, clf__max_iter=500, clf__penalty=l1, total=  17.4s\n",
      "[CV] clf__loss=hinge, clf__max_iter=600, clf__penalty=l2 .............\n",
      "[CV]  clf__loss=hinge, clf__max_iter=500, clf__penalty=l1, total=  16.8s\n",
      "[CV] clf__loss=hinge, clf__max_iter=600, clf__penalty=l2 .............\n",
      "[CV]  clf__loss=hinge, clf__max_iter=500, clf__penalty=l1, total=  17.3s\n",
      "[CV]  clf__loss=hinge, clf__max_iter=500, clf__penalty=l1, total=  16.9s\n",
      "[CV] clf__loss=hinge, clf__max_iter=600, clf__penalty=l1 .............\n",
      "[CV] clf__loss=hinge, clf__max_iter=600, clf__penalty=l1 .............\n",
      "[CV]  clf__loss=hinge, clf__max_iter=500, clf__penalty=elasticnet, total=  16.8s\n",
      "[CV] clf__loss=hinge, clf__max_iter=600, clf__penalty=l1 .............\n",
      "[CV]  clf__loss=hinge, clf__max_iter=500, clf__penalty=elasticnet, total=  19.1s\n",
      "[CV] clf__loss=hinge, clf__max_iter=600, clf__penalty=l1 .............\n",
      "[CV]  clf__loss=hinge, clf__max_iter=500, clf__penalty=elasticnet, total=  18.4s\n",
      "[CV]  clf__loss=hinge, clf__max_iter=500, clf__penalty=elasticnet, total=  18.8s\n",
      "[CV] clf__loss=hinge, clf__max_iter=600, clf__penalty=l1 .............\n",
      "[CV]  clf__loss=hinge, clf__max_iter=500, clf__penalty=elasticnet, total=  18.8s\n",
      "[CV] clf__loss=hinge, clf__max_iter=600, clf__penalty=elasticnet .....\n",
      "[CV] clf__loss=hinge, clf__max_iter=600, clf__penalty=elasticnet .....\n",
      "[CV]  clf__loss=hinge, clf__max_iter=600, clf__penalty=l2, total=  11.9s\n",
      "[CV] clf__loss=hinge, clf__max_iter=600, clf__penalty=elasticnet .....\n",
      "[CV]  clf__loss=hinge, clf__max_iter=600, clf__penalty=l2, total=  12.3s\n",
      "[CV] clf__loss=hinge, clf__max_iter=600, clf__penalty=elasticnet .....\n",
      "[CV]  clf__loss=hinge, clf__max_iter=600, clf__penalty=l2, total=  12.6s\n",
      "[CV]  clf__loss=hinge, clf__max_iter=600, clf__penalty=l2, total=  13.5s\n",
      "[CV] clf__loss=hinge, clf__max_iter=600, clf__penalty=elasticnet .....\n",
      "[CV] clf__loss=modified_huber, clf__max_iter=200, clf__penalty=l2 ....\n",
      "[CV]  clf__loss=hinge, clf__max_iter=600, clf__penalty=l2, total=  15.5s\n",
      "[CV] clf__loss=modified_huber, clf__max_iter=200, clf__penalty=l2 ....\n",
      "[CV]  clf__loss=hinge, clf__max_iter=600, clf__penalty=l1, total=  20.1s\n",
      "[CV]  clf__loss=hinge, clf__max_iter=600, clf__penalty=l1, total=  20.1s\n",
      "[CV] clf__loss=modified_huber, clf__max_iter=200, clf__penalty=l2 ....\n",
      "[CV] clf__loss=modified_huber, clf__max_iter=200, clf__penalty=l2 ....\n",
      "[CV]  clf__loss=hinge, clf__max_iter=600, clf__penalty=elasticnet, total=  17.4s\n",
      "[CV] clf__loss=modified_huber, clf__max_iter=200, clf__penalty=l2 ....\n",
      "[CV]  clf__loss=hinge, clf__max_iter=600, clf__penalty=elasticnet, total=  17.3s\n",
      "[CV] clf__loss=modified_huber, clf__max_iter=200, clf__penalty=l1 ....\n",
      "[CV]  clf__loss=hinge, clf__max_iter=600, clf__penalty=l1, total=  19.8s\n",
      "[CV] clf__loss=modified_huber, clf__max_iter=200, clf__penalty=l1 ....\n",
      "[CV]  clf__loss=hinge, clf__max_iter=600, clf__penalty=l1, total=  19.9s\n",
      "[CV] clf__loss=modified_huber, clf__max_iter=200, clf__penalty=l1 ....\n",
      "[CV]  clf__loss=hinge, clf__max_iter=600, clf__penalty=l1, total=  19.8s\n",
      "[CV] clf__loss=modified_huber, clf__max_iter=200, clf__penalty=l1 ....\n",
      "[CV]  clf__loss=hinge, clf__max_iter=600, clf__penalty=elasticnet, total=  16.4s\n"
     ]
    },
    {
     "name": "stdout",
     "output_type": "stream",
     "text": [
      "[CV] clf__loss=modified_huber, clf__max_iter=200, clf__penalty=l1 ....\n",
      "[CV]  clf__loss=modified_huber, clf__max_iter=200, clf__penalty=l2, total=   9.3s\n",
      "[CV] clf__loss=modified_huber, clf__max_iter=200, clf__penalty=elasticnet \n",
      "[CV]  clf__loss=hinge, clf__max_iter=600, clf__penalty=elasticnet, total=  16.6s\n",
      "[CV] clf__loss=modified_huber, clf__max_iter=200, clf__penalty=elasticnet \n",
      "[CV]  clf__loss=modified_huber, clf__max_iter=200, clf__penalty=l2, total=   8.7s\n",
      "[CV] clf__loss=modified_huber, clf__max_iter=200, clf__penalty=elasticnet \n",
      "[CV]  clf__loss=hinge, clf__max_iter=600, clf__penalty=elasticnet, total=  16.5s\n",
      "[CV] clf__loss=modified_huber, clf__max_iter=200, clf__penalty=elasticnet \n",
      "[CV]  clf__loss=modified_huber, clf__max_iter=200, clf__penalty=l2, total=   8.9s\n",
      "[CV] clf__loss=modified_huber, clf__max_iter=200, clf__penalty=elasticnet \n",
      "[CV]  clf__loss=modified_huber, clf__max_iter=200, clf__penalty=l2, total=  10.2s\n",
      "[CV] clf__loss=modified_huber, clf__max_iter=300, clf__penalty=l2 ....\n",
      "[CV]  clf__loss=modified_huber, clf__max_iter=200, clf__penalty=l2, total=   9.8s\n",
      "[CV]  clf__loss=modified_huber, clf__max_iter=200, clf__penalty=l1, total=   9.7s\n",
      "[CV] clf__loss=modified_huber, clf__max_iter=300, clf__penalty=l2 ....\n",
      "[CV] clf__loss=modified_huber, clf__max_iter=300, clf__penalty=l2 ....\n",
      "[CV]  clf__loss=modified_huber, clf__max_iter=200, clf__penalty=l1, total=  10.7s\n",
      "[CV] clf__loss=modified_huber, clf__max_iter=300, clf__penalty=l2 ....\n",
      "[CV]  clf__loss=modified_huber, clf__max_iter=200, clf__penalty=l1, total=  10.3s\n",
      "[CV]  clf__loss=modified_huber, clf__max_iter=200, clf__penalty=l1, total=  10.6s\n",
      "[CV] clf__loss=modified_huber, clf__max_iter=300, clf__penalty=l2 ....\n",
      "[CV] clf__loss=modified_huber, clf__max_iter=300, clf__penalty=l1 ....\n",
      "[CV]  clf__loss=modified_huber, clf__max_iter=200, clf__penalty=l1, total=   9.6s\n",
      "[CV] clf__loss=modified_huber, clf__max_iter=300, clf__penalty=l1 ....\n",
      "[CV]  clf__loss=modified_huber, clf__max_iter=200, clf__penalty=elasticnet, total=   9.7s\n",
      "[CV] clf__loss=modified_huber, clf__max_iter=300, clf__penalty=l1 ....\n",
      "[CV]  clf__loss=modified_huber, clf__max_iter=200, clf__penalty=elasticnet, total=  10.1s\n",
      "[CV] clf__loss=modified_huber, clf__max_iter=300, clf__penalty=l1 ....\n",
      "[CV]  clf__loss=modified_huber, clf__max_iter=200, clf__penalty=elasticnet, total=  10.2s\n",
      "[CV] clf__loss=modified_huber, clf__max_iter=300, clf__penalty=l1 ....\n",
      "[CV]  clf__loss=modified_huber, clf__max_iter=200, clf__penalty=elasticnet, total=  10.4s\n",
      "[CV] clf__loss=modified_huber, clf__max_iter=300, clf__penalty=elasticnet \n",
      "[CV]  clf__loss=modified_huber, clf__max_iter=200, clf__penalty=elasticnet, total=  10.3s\n",
      "[CV]  clf__loss=modified_huber, clf__max_iter=300, clf__penalty=l2, total=   9.8s\n",
      "[CV] clf__loss=modified_huber, clf__max_iter=300, clf__penalty=elasticnet \n",
      "[CV] clf__loss=modified_huber, clf__max_iter=300, clf__penalty=elasticnet \n",
      "[CV]  clf__loss=modified_huber, clf__max_iter=300, clf__penalty=l2, total=  10.7s\n",
      "[CV]  clf__loss=modified_huber, clf__max_iter=300, clf__penalty=l2, total=  10.8s\n",
      "[CV] clf__loss=modified_huber, clf__max_iter=300, clf__penalty=elasticnet \n",
      "[CV] clf__loss=modified_huber, clf__max_iter=300, clf__penalty=elasticnet \n",
      "[CV]  clf__loss=modified_huber, clf__max_iter=300, clf__penalty=l2, total=  10.4s\n",
      "[CV] clf__loss=modified_huber, clf__max_iter=400, clf__penalty=l2 ....\n",
      "[CV]  clf__loss=modified_huber, clf__max_iter=300, clf__penalty=l2, total=  10.1s\n",
      "[CV] clf__loss=modified_huber, clf__max_iter=400, clf__penalty=l2 ....\n",
      "[CV]  clf__loss=modified_huber, clf__max_iter=300, clf__penalty=l1, total=  12.0s\n",
      "[CV] clf__loss=modified_huber, clf__max_iter=400, clf__penalty=l2 ....\n",
      "[CV]  clf__loss=modified_huber, clf__max_iter=300, clf__penalty=l1, total=  10.8s\n",
      "[CV] clf__loss=modified_huber, clf__max_iter=400, clf__penalty=l2 ....\n",
      "[CV]  clf__loss=modified_huber, clf__max_iter=300, clf__penalty=l1, total=  11.3s\n",
      "[CV] clf__loss=modified_huber, clf__max_iter=400, clf__penalty=l2 ....\n",
      "[CV]  clf__loss=modified_huber, clf__max_iter=300, clf__penalty=l1, total=  11.8s\n",
      "[CV] clf__loss=modified_huber, clf__max_iter=400, clf__penalty=l1 ....\n",
      "[CV]  clf__loss=modified_huber, clf__max_iter=300, clf__penalty=l1, total=  11.9s\n",
      "[CV] clf__loss=modified_huber, clf__max_iter=400, clf__penalty=l1 ....\n",
      "[CV]  clf__loss=modified_huber, clf__max_iter=300, clf__penalty=elasticnet, total=  12.8s\n",
      "[CV] clf__loss=modified_huber, clf__max_iter=400, clf__penalty=l1 ....\n",
      "[CV]  clf__loss=modified_huber, clf__max_iter=300, clf__penalty=elasticnet, total=  13.1s\n",
      "[CV] clf__loss=modified_huber, clf__max_iter=400, clf__penalty=l1 ....\n",
      "[CV]  clf__loss=modified_huber, clf__max_iter=300, clf__penalty=elasticnet, total=  13.5s\n",
      "[CV] clf__loss=modified_huber, clf__max_iter=400, clf__penalty=l1 ....\n",
      "[CV]  clf__loss=modified_huber, clf__max_iter=400, clf__penalty=l2, total=  11.9s\n",
      "[CV] clf__loss=modified_huber, clf__max_iter=400, clf__penalty=elasticnet \n",
      "[CV]  clf__loss=modified_huber, clf__max_iter=400, clf__penalty=l2, total=  11.3s\n",
      "[CV] clf__loss=modified_huber, clf__max_iter=400, clf__penalty=elasticnet \n",
      "[CV]  clf__loss=modified_huber, clf__max_iter=300, clf__penalty=elasticnet, total=  13.1s\n",
      "[CV]  clf__loss=modified_huber, clf__max_iter=300, clf__penalty=elasticnet, total=  13.0s\n",
      "[CV] clf__loss=modified_huber, clf__max_iter=400, clf__penalty=elasticnet \n",
      "[CV] clf__loss=modified_huber, clf__max_iter=400, clf__penalty=elasticnet \n",
      "[CV]  clf__loss=modified_huber, clf__max_iter=400, clf__penalty=l2, total=  11.3s\n",
      "[CV] clf__loss=modified_huber, clf__max_iter=400, clf__penalty=elasticnet \n",
      "[CV]  clf__loss=modified_huber, clf__max_iter=400, clf__penalty=l2, total=  10.4s\n",
      "[CV] clf__loss=modified_huber, clf__max_iter=500, clf__penalty=l2 ....\n",
      "[CV]  clf__loss=modified_huber, clf__max_iter=400, clf__penalty=l2, total=  10.1s\n",
      "[CV] clf__loss=modified_huber, clf__max_iter=500, clf__penalty=l2 ....\n",
      "[CV]  clf__loss=modified_huber, clf__max_iter=400, clf__penalty=l1, total=  13.1s\n",
      "[CV] clf__loss=modified_huber, clf__max_iter=500, clf__penalty=l2 ....\n",
      "[CV]  clf__loss=modified_huber, clf__max_iter=400, clf__penalty=l1, total=  13.6s\n",
      "[CV] clf__loss=modified_huber, clf__max_iter=500, clf__penalty=l2 ....\n",
      "[CV]  clf__loss=modified_huber, clf__max_iter=400, clf__penalty=l1, total=  13.3s\n",
      "[CV]  clf__loss=modified_huber, clf__max_iter=400, clf__penalty=l1, total=  14.6s\n",
      "[CV] clf__loss=modified_huber, clf__max_iter=500, clf__penalty=l2 ....\n",
      "[CV] clf__loss=modified_huber, clf__max_iter=500, clf__penalty=l1 ....\n",
      "[CV]  clf__loss=modified_huber, clf__max_iter=400, clf__penalty=elasticnet, total=  13.8s\n",
      "[CV]  clf__loss=modified_huber, clf__max_iter=400, clf__penalty=l1, total=  16.1s\n",
      "[CV] clf__loss=modified_huber, clf__max_iter=500, clf__penalty=l1 ....\n",
      "[CV] clf__loss=modified_huber, clf__max_iter=500, clf__penalty=l1 ....\n",
      "[CV]  clf__loss=modified_huber, clf__max_iter=400, clf__penalty=elasticnet, total=  16.9s\n",
      "[CV]  clf__loss=modified_huber, clf__max_iter=400, clf__penalty=elasticnet, total=  16.5s\n",
      "[CV] clf__loss=modified_huber, clf__max_iter=500, clf__penalty=l1 ....\n",
      "[CV] clf__loss=modified_huber, clf__max_iter=500, clf__penalty=l1 ....\n",
      "[CV]  clf__loss=modified_huber, clf__max_iter=400, clf__penalty=elasticnet, total=  16.7s\n",
      "[CV] clf__loss=modified_huber, clf__max_iter=500, clf__penalty=elasticnet \n",
      "[CV]  clf__loss=modified_huber, clf__max_iter=400, clf__penalty=elasticnet, total=  16.4s\n",
      "[CV] clf__loss=modified_huber, clf__max_iter=500, clf__penalty=elasticnet \n",
      "[CV]  clf__loss=modified_huber, clf__max_iter=500, clf__penalty=l2, total=  11.6s\n",
      "[CV] clf__loss=modified_huber, clf__max_iter=500, clf__penalty=elasticnet \n",
      "[CV]  clf__loss=modified_huber, clf__max_iter=500, clf__penalty=l2, total=  11.4s\n",
      "[CV] clf__loss=modified_huber, clf__max_iter=500, clf__penalty=elasticnet \n",
      "[CV]  clf__loss=modified_huber, clf__max_iter=500, clf__penalty=l2, total=  12.1s\n",
      "[CV] clf__loss=modified_huber, clf__max_iter=500, clf__penalty=elasticnet \n",
      "[CV]  clf__loss=modified_huber, clf__max_iter=500, clf__penalty=l2, total=  11.9s\n",
      "[CV] clf__loss=modified_huber, clf__max_iter=600, clf__penalty=l2 ....\n",
      "[CV]  clf__loss=modified_huber, clf__max_iter=500, clf__penalty=l2, total=  12.1s\n",
      "[CV] clf__loss=modified_huber, clf__max_iter=600, clf__penalty=l2 ....\n"
     ]
    },
    {
     "name": "stdout",
     "output_type": "stream",
     "text": [
      "[CV]  clf__loss=modified_huber, clf__max_iter=500, clf__penalty=l1, total=  15.4s\n",
      "[CV] clf__loss=modified_huber, clf__max_iter=600, clf__penalty=l2 ....\n",
      "[CV]  clf__loss=modified_huber, clf__max_iter=500, clf__penalty=l1, total=  17.1s\n",
      "[CV]  clf__loss=modified_huber, clf__max_iter=500, clf__penalty=l1, total=  17.3s\n",
      "[CV] clf__loss=modified_huber, clf__max_iter=600, clf__penalty=l2 ....\n",
      "[CV] clf__loss=modified_huber, clf__max_iter=600, clf__penalty=l2 ....\n",
      "[CV]  clf__loss=modified_huber, clf__max_iter=500, clf__penalty=l1, total=  18.1s\n",
      "[CV]  clf__loss=modified_huber, clf__max_iter=500, clf__penalty=l1, total=  18.2s\n",
      "[CV] clf__loss=modified_huber, clf__max_iter=600, clf__penalty=l1 ....\n",
      "[CV]  clf__loss=modified_huber, clf__max_iter=500, clf__penalty=elasticnet, total=  18.2s\n",
      "[CV] clf__loss=modified_huber, clf__max_iter=600, clf__penalty=l1 ....\n",
      "[CV] clf__loss=modified_huber, clf__max_iter=600, clf__penalty=l1 ....\n",
      "[CV]  clf__loss=modified_huber, clf__max_iter=500, clf__penalty=elasticnet, total=  15.8s\n",
      "[CV] clf__loss=modified_huber, clf__max_iter=600, clf__penalty=l1 ....\n",
      "[CV]  clf__loss=modified_huber, clf__max_iter=500, clf__penalty=elasticnet, total=  17.8s\n",
      "[CV] clf__loss=modified_huber, clf__max_iter=600, clf__penalty=l1 ....\n",
      "[CV]  clf__loss=modified_huber, clf__max_iter=500, clf__penalty=elasticnet, total=  16.1s\n",
      "[CV] clf__loss=modified_huber, clf__max_iter=600, clf__penalty=elasticnet \n",
      "[CV]  clf__loss=modified_huber, clf__max_iter=600, clf__penalty=l2, total=  13.2s\n",
      "[CV] clf__loss=modified_huber, clf__max_iter=600, clf__penalty=elasticnet \n",
      "[CV]  clf__loss=modified_huber, clf__max_iter=500, clf__penalty=elasticnet, total=  15.9s\n",
      "[CV] clf__loss=modified_huber, clf__max_iter=600, clf__penalty=elasticnet \n",
      "[CV]  clf__loss=modified_huber, clf__max_iter=600, clf__penalty=l2, total=  12.5s\n",
      "[CV] clf__loss=modified_huber, clf__max_iter=600, clf__penalty=elasticnet \n",
      "[CV]  clf__loss=modified_huber, clf__max_iter=600, clf__penalty=l2, total=  12.1s\n"
     ]
    },
    {
     "name": "stderr",
     "output_type": "stream",
     "text": [
      "[Parallel(n_jobs=-1)]: Done 138 tasks      | elapsed:  4.9min\n"
     ]
    },
    {
     "name": "stdout",
     "output_type": "stream",
     "text": [
      "[CV] clf__loss=modified_huber, clf__max_iter=600, clf__penalty=elasticnet \n",
      "[CV]  clf__loss=modified_huber, clf__max_iter=600, clf__penalty=l2, total=  13.9s\n",
      "[CV] clf__loss=squared_hinge, clf__max_iter=200, clf__penalty=l2 .....\n",
      "[CV]  clf__loss=modified_huber, clf__max_iter=600, clf__penalty=l2, total=  14.1s\n",
      "[CV] clf__loss=squared_hinge, clf__max_iter=200, clf__penalty=l2 .....\n",
      "[CV]  clf__loss=modified_huber, clf__max_iter=600, clf__penalty=l1, total=  18.2s\n",
      "[CV] clf__loss=squared_hinge, clf__max_iter=200, clf__penalty=l2 .....\n",
      "[CV]  clf__loss=modified_huber, clf__max_iter=600, clf__penalty=l1, total=  18.4s\n",
      "[CV]  clf__loss=modified_huber, clf__max_iter=600, clf__penalty=l1, total=  19.0s\n",
      "[CV] clf__loss=squared_hinge, clf__max_iter=200, clf__penalty=l2 .....\n",
      "[CV] clf__loss=squared_hinge, clf__max_iter=200, clf__penalty=l2 .....\n",
      "[CV]  clf__loss=modified_huber, clf__max_iter=600, clf__penalty=l1, total=  17.8s\n",
      "[CV] clf__loss=squared_hinge, clf__max_iter=200, clf__penalty=l1 .....\n",
      "[CV]  clf__loss=modified_huber, clf__max_iter=600, clf__penalty=l1, total=  18.6s\n",
      "[CV] clf__loss=squared_hinge, clf__max_iter=200, clf__penalty=l1 .....\n",
      "[CV]  clf__loss=modified_huber, clf__max_iter=600, clf__penalty=elasticnet, total=  19.2s\n",
      "[CV] clf__loss=squared_hinge, clf__max_iter=200, clf__penalty=l1 .....\n",
      "[CV]  clf__loss=modified_huber, clf__max_iter=600, clf__penalty=elasticnet, total=  19.3s\n",
      "[CV] clf__loss=squared_hinge, clf__max_iter=200, clf__penalty=l1 .....\n",
      "[CV]  clf__loss=modified_huber, clf__max_iter=600, clf__penalty=elasticnet, total=  18.4s\n",
      "[CV] clf__loss=squared_hinge, clf__max_iter=200, clf__penalty=l1 .....\n",
      "[CV]  clf__loss=modified_huber, clf__max_iter=600, clf__penalty=elasticnet, total=  15.9s\n",
      "[CV]  clf__loss=squared_hinge, clf__max_iter=200, clf__penalty=l2, total=   8.4s\n",
      "[CV] clf__loss=squared_hinge, clf__max_iter=200, clf__penalty=elasticnet \n",
      "[CV] clf__loss=squared_hinge, clf__max_iter=200, clf__penalty=elasticnet \n",
      "[CV]  clf__loss=squared_hinge, clf__max_iter=200, clf__penalty=l2, total=   8.9s\n",
      "[CV] clf__loss=squared_hinge, clf__max_iter=200, clf__penalty=elasticnet \n",
      "[CV]  clf__loss=modified_huber, clf__max_iter=600, clf__penalty=elasticnet, total=  17.5s\n",
      "[CV] clf__loss=squared_hinge, clf__max_iter=200, clf__penalty=elasticnet \n",
      "[CV]  clf__loss=squared_hinge, clf__max_iter=200, clf__penalty=l2, total=   8.6s\n",
      "[CV] clf__loss=squared_hinge, clf__max_iter=200, clf__penalty=elasticnet \n",
      "[CV]  clf__loss=squared_hinge, clf__max_iter=200, clf__penalty=l2, total=   8.4s\n",
      "[CV] clf__loss=squared_hinge, clf__max_iter=300, clf__penalty=l2 .....\n",
      "[CV]  clf__loss=squared_hinge, clf__max_iter=200, clf__penalty=l2, total=   8.7s\n",
      "[CV] clf__loss=squared_hinge, clf__max_iter=300, clf__penalty=l2 .....\n",
      "[CV]  clf__loss=squared_hinge, clf__max_iter=200, clf__penalty=l1, total=   9.8s\n",
      "[CV]  clf__loss=squared_hinge, clf__max_iter=200, clf__penalty=l1, total=   9.7s\n",
      "[CV] clf__loss=squared_hinge, clf__max_iter=300, clf__penalty=l2 .....\n",
      "[CV] clf__loss=squared_hinge, clf__max_iter=300, clf__penalty=l2 .....\n",
      "[CV]  clf__loss=squared_hinge, clf__max_iter=200, clf__penalty=l1, total=   9.8s\n",
      "[CV] clf__loss=squared_hinge, clf__max_iter=300, clf__penalty=l2 .....\n",
      "[CV]  clf__loss=squared_hinge, clf__max_iter=200, clf__penalty=l1, total=  10.0s\n",
      "[CV] clf__loss=squared_hinge, clf__max_iter=300, clf__penalty=l1 .....\n",
      "[CV]  clf__loss=squared_hinge, clf__max_iter=200, clf__penalty=l1, total=   9.9s\n",
      "[CV] clf__loss=squared_hinge, clf__max_iter=300, clf__penalty=l1 .....\n",
      "[CV]  clf__loss=squared_hinge, clf__max_iter=200, clf__penalty=elasticnet, total=  10.0s\n",
      "[CV] clf__loss=squared_hinge, clf__max_iter=300, clf__penalty=l1 .....\n",
      "[CV]  clf__loss=squared_hinge, clf__max_iter=200, clf__penalty=elasticnet, total=   9.8s\n",
      "[CV] clf__loss=squared_hinge, clf__max_iter=300, clf__penalty=l1 .....\n",
      "[CV]  clf__loss=squared_hinge, clf__max_iter=200, clf__penalty=elasticnet, total=   9.7s\n",
      "[CV] clf__loss=squared_hinge, clf__max_iter=300, clf__penalty=l1 .....\n",
      "[CV]  clf__loss=squared_hinge, clf__max_iter=200, clf__penalty=elasticnet, total=   9.8s\n",
      "[CV] clf__loss=squared_hinge, clf__max_iter=300, clf__penalty=elasticnet \n",
      "[CV]  clf__loss=squared_hinge, clf__max_iter=200, clf__penalty=elasticnet, total=   9.6s\n",
      "[CV] clf__loss=squared_hinge, clf__max_iter=300, clf__penalty=elasticnet \n",
      "[CV]  clf__loss=squared_hinge, clf__max_iter=300, clf__penalty=l2, total=   9.3s\n",
      "[CV] clf__loss=squared_hinge, clf__max_iter=300, clf__penalty=elasticnet \n",
      "[CV]  clf__loss=squared_hinge, clf__max_iter=300, clf__penalty=l2, total=   9.7s\n",
      "[CV] clf__loss=squared_hinge, clf__max_iter=300, clf__penalty=elasticnet \n",
      "[CV]  clf__loss=squared_hinge, clf__max_iter=300, clf__penalty=l2, total=   9.5s\n",
      "[CV]  clf__loss=squared_hinge, clf__max_iter=300, clf__penalty=l2, total=   9.4s\n",
      "[CV] clf__loss=squared_hinge, clf__max_iter=300, clf__penalty=elasticnet \n",
      "[CV] clf__loss=squared_hinge, clf__max_iter=400, clf__penalty=l2 .....\n",
      "[CV]  clf__loss=squared_hinge, clf__max_iter=300, clf__penalty=l2, total=   8.9s\n",
      "[CV] clf__loss=squared_hinge, clf__max_iter=400, clf__penalty=l2 .....\n",
      "[CV]  clf__loss=squared_hinge, clf__max_iter=300, clf__penalty=l1, total=  11.2s\n",
      "[CV] clf__loss=squared_hinge, clf__max_iter=400, clf__penalty=l2 .....\n",
      "[CV]  clf__loss=squared_hinge, clf__max_iter=300, clf__penalty=l1, total=  11.6s\n",
      "[CV] clf__loss=squared_hinge, clf__max_iter=400, clf__penalty=l2 .....\n",
      "[CV]  clf__loss=squared_hinge, clf__max_iter=300, clf__penalty=l1, total=  11.7s\n",
      "[CV]  clf__loss=squared_hinge, clf__max_iter=300, clf__penalty=l1, total=  11.7s\n",
      "[CV]  clf__loss=squared_hinge, clf__max_iter=300, clf__penalty=l1, total=  11.4s\n",
      "[CV] clf__loss=squared_hinge, clf__max_iter=400, clf__penalty=l2 .....\n",
      "[CV] clf__loss=squared_hinge, clf__max_iter=400, clf__penalty=l1 .....\n",
      "[CV] clf__loss=squared_hinge, clf__max_iter=400, clf__penalty=l1 .....\n",
      "[CV]  clf__loss=squared_hinge, clf__max_iter=300, clf__penalty=elasticnet, total=  11.6s\n",
      "[CV] clf__loss=squared_hinge, clf__max_iter=400, clf__penalty=l1 .....\n",
      "[CV]  clf__loss=squared_hinge, clf__max_iter=300, clf__penalty=elasticnet, total=  11.3s\n",
      "[CV] clf__loss=squared_hinge, clf__max_iter=400, clf__penalty=l1 .....\n",
      "[CV]  clf__loss=squared_hinge, clf__max_iter=300, clf__penalty=elasticnet, total=  11.4s\n",
      "[CV] clf__loss=squared_hinge, clf__max_iter=400, clf__penalty=l1 .....\n",
      "[CV]  clf__loss=squared_hinge, clf__max_iter=300, clf__penalty=elasticnet, total=  11.6s\n",
      "[CV] clf__loss=squared_hinge, clf__max_iter=400, clf__penalty=elasticnet \n",
      "[CV]  clf__loss=squared_hinge, clf__max_iter=300, clf__penalty=elasticnet, total=  11.0s\n",
      "[CV]  clf__loss=squared_hinge, clf__max_iter=400, clf__penalty=l2, total=  10.5s\n",
      "[CV] clf__loss=squared_hinge, clf__max_iter=400, clf__penalty=elasticnet \n",
      "[CV] clf__loss=squared_hinge, clf__max_iter=400, clf__penalty=elasticnet \n",
      "[CV]  clf__loss=squared_hinge, clf__max_iter=400, clf__penalty=l2, total=  10.1s\n",
      "[CV] clf__loss=squared_hinge, clf__max_iter=400, clf__penalty=elasticnet \n",
      "[CV]  clf__loss=squared_hinge, clf__max_iter=400, clf__penalty=l2, total=   9.6s\n",
      "[CV] clf__loss=squared_hinge, clf__max_iter=400, clf__penalty=elasticnet \n",
      "[CV]  clf__loss=squared_hinge, clf__max_iter=400, clf__penalty=l2, total=  10.3s\n",
      "[CV] clf__loss=squared_hinge, clf__max_iter=500, clf__penalty=l2 .....\n",
      "[CV]  clf__loss=squared_hinge, clf__max_iter=400, clf__penalty=l2, total=  10.3s\n",
      "[CV] clf__loss=squared_hinge, clf__max_iter=500, clf__penalty=l2 .....\n",
      "[CV]  clf__loss=squared_hinge, clf__max_iter=400, clf__penalty=l1, total=  13.4s\n",
      "[CV]  clf__loss=squared_hinge, clf__max_iter=400, clf__penalty=l1, total=  13.1s\n",
      "[CV] clf__loss=squared_hinge, clf__max_iter=500, clf__penalty=l2 .....\n",
      "[CV] clf__loss=squared_hinge, clf__max_iter=500, clf__penalty=l2 .....\n",
      "[CV]  clf__loss=squared_hinge, clf__max_iter=400, clf__penalty=l1, total=  13.0s\n",
      "[CV] clf__loss=squared_hinge, clf__max_iter=500, clf__penalty=l2 .....\n",
      "[CV]  clf__loss=squared_hinge, clf__max_iter=400, clf__penalty=elasticnet, total=  12.4s\n",
      "[CV] clf__loss=squared_hinge, clf__max_iter=500, clf__penalty=l1 .....\n",
      "[CV]  clf__loss=squared_hinge, clf__max_iter=400, clf__penalty=l1, total=  14.5s\n",
      "[CV]  clf__loss=squared_hinge, clf__max_iter=400, clf__penalty=l1, total=  14.3s\n",
      "[CV] clf__loss=squared_hinge, clf__max_iter=500, clf__penalty=l1 .....\n"
     ]
    },
    {
     "name": "stdout",
     "output_type": "stream",
     "text": [
      "[CV] clf__loss=squared_hinge, clf__max_iter=500, clf__penalty=l1 .....\n",
      "[CV]  clf__loss=squared_hinge, clf__max_iter=400, clf__penalty=elasticnet, total=  12.3s\n",
      "[CV]  clf__loss=squared_hinge, clf__max_iter=400, clf__penalty=elasticnet, total=  14.4s\n",
      "[CV]  clf__loss=squared_hinge, clf__max_iter=400, clf__penalty=elasticnet, total=  14.2s\n",
      "[CV] clf__loss=squared_hinge, clf__max_iter=500, clf__penalty=l1 .....\n",
      "[CV] clf__loss=squared_hinge, clf__max_iter=500, clf__penalty=l1 .....\n",
      "[CV] clf__loss=squared_hinge, clf__max_iter=500, clf__penalty=elasticnet \n",
      "[CV]  clf__loss=squared_hinge, clf__max_iter=400, clf__penalty=elasticnet, total=  12.1s\n",
      "[CV] clf__loss=squared_hinge, clf__max_iter=500, clf__penalty=elasticnet \n",
      "[CV]  clf__loss=squared_hinge, clf__max_iter=500, clf__penalty=l2, total=  10.8s\n",
      "[CV]  clf__loss=squared_hinge, clf__max_iter=500, clf__penalty=l2, total=  11.1s\n",
      "[CV] clf__loss=squared_hinge, clf__max_iter=500, clf__penalty=elasticnet \n",
      "[CV] clf__loss=squared_hinge, clf__max_iter=500, clf__penalty=elasticnet \n",
      "[CV]  clf__loss=squared_hinge, clf__max_iter=500, clf__penalty=l2, total=  10.8s\n",
      "[CV] clf__loss=squared_hinge, clf__max_iter=500, clf__penalty=elasticnet \n",
      "[CV]  clf__loss=squared_hinge, clf__max_iter=500, clf__penalty=l2, total=  11.2s\n",
      "[CV] clf__loss=squared_hinge, clf__max_iter=600, clf__penalty=l2 .....\n",
      "[CV]  clf__loss=squared_hinge, clf__max_iter=500, clf__penalty=l2, total=  11.4s\n",
      "[CV] clf__loss=squared_hinge, clf__max_iter=600, clf__penalty=l2 .....\n",
      "[CV]  clf__loss=squared_hinge, clf__max_iter=500, clf__penalty=l1, total=  15.2s\n",
      "[CV] clf__loss=squared_hinge, clf__max_iter=600, clf__penalty=l2 .....\n",
      "[CV]  clf__loss=squared_hinge, clf__max_iter=500, clf__penalty=l1, total=  16.0s\n",
      "[CV]  clf__loss=squared_hinge, clf__max_iter=500, clf__penalty=l1, total=  15.9s\n",
      "[CV] clf__loss=squared_hinge, clf__max_iter=600, clf__penalty=l2 .....\n",
      "[CV] clf__loss=squared_hinge, clf__max_iter=600, clf__penalty=l2 .....\n",
      "[CV]  clf__loss=squared_hinge, clf__max_iter=500, clf__penalty=l1, total=  16.2s\n",
      "[CV] clf__loss=squared_hinge, clf__max_iter=600, clf__penalty=l1 .....\n",
      "[CV]  clf__loss=squared_hinge, clf__max_iter=500, clf__penalty=elasticnet, total=  15.6s\n",
      "[CV] clf__loss=squared_hinge, clf__max_iter=600, clf__penalty=l1 .....\n",
      "[CV]  clf__loss=squared_hinge, clf__max_iter=500, clf__penalty=l1, total=  16.9s\n",
      "[CV] clf__loss=squared_hinge, clf__max_iter=600, clf__penalty=l1 .....\n",
      "[CV]  clf__loss=squared_hinge, clf__max_iter=500, clf__penalty=elasticnet, total=  15.3s\n",
      "[CV] clf__loss=squared_hinge, clf__max_iter=600, clf__penalty=l1 .....\n",
      "[CV]  clf__loss=squared_hinge, clf__max_iter=500, clf__penalty=elasticnet, total=  15.3s\n",
      "[CV] clf__loss=squared_hinge, clf__max_iter=600, clf__penalty=l1 .....\n",
      "[CV]  clf__loss=squared_hinge, clf__max_iter=500, clf__penalty=elasticnet, total=  14.5s\n",
      "[CV] clf__loss=squared_hinge, clf__max_iter=600, clf__penalty=elasticnet \n",
      "[CV]  clf__loss=squared_hinge, clf__max_iter=600, clf__penalty=l2, total=  13.1s\n",
      "[CV] clf__loss=squared_hinge, clf__max_iter=600, clf__penalty=elasticnet \n",
      "[CV]  clf__loss=squared_hinge, clf__max_iter=500, clf__penalty=elasticnet, total=  15.5s\n",
      "[CV]  clf__loss=squared_hinge, clf__max_iter=600, clf__penalty=l2, total=  12.5s\n",
      "[CV] clf__loss=squared_hinge, clf__max_iter=600, clf__penalty=elasticnet \n",
      "[CV] clf__loss=squared_hinge, clf__max_iter=600, clf__penalty=elasticnet \n",
      "[CV]  clf__loss=squared_hinge, clf__max_iter=600, clf__penalty=l2, total=  11.5s\n",
      "[CV] clf__loss=squared_hinge, clf__max_iter=600, clf__penalty=elasticnet \n",
      "[CV]  clf__loss=squared_hinge, clf__max_iter=600, clf__penalty=l2, total=  13.7s\n",
      "[CV] clf__loss=perceptron, clf__max_iter=200, clf__penalty=l2 ........\n",
      "[CV]  clf__loss=squared_hinge, clf__max_iter=600, clf__penalty=l2, total=  14.1s\n",
      "[CV] clf__loss=perceptron, clf__max_iter=200, clf__penalty=l2 ........\n",
      "[CV]  clf__loss=squared_hinge, clf__max_iter=600, clf__penalty=l1, total=  16.2s\n",
      "[CV] clf__loss=perceptron, clf__max_iter=200, clf__penalty=l2 ........\n",
      "[CV]  clf__loss=squared_hinge, clf__max_iter=600, clf__penalty=l1, total=  17.5s\n",
      "[CV] clf__loss=perceptron, clf__max_iter=200, clf__penalty=l2 ........\n",
      "[CV]  clf__loss=squared_hinge, clf__max_iter=600, clf__penalty=l1, total=  18.2s\n",
      "[CV] clf__loss=perceptron, clf__max_iter=200, clf__penalty=l2 ........\n",
      "[CV]  clf__loss=squared_hinge, clf__max_iter=600, clf__penalty=l1, total=  17.1s\n",
      "[CV] clf__loss=perceptron, clf__max_iter=200, clf__penalty=l1 ........\n",
      "[CV]  clf__loss=squared_hinge, clf__max_iter=600, clf__penalty=elasticnet, total=  16.1s\n",
      "[CV] clf__loss=perceptron, clf__max_iter=200, clf__penalty=l1 ........\n",
      "[CV]  clf__loss=squared_hinge, clf__max_iter=600, clf__penalty=l1, total=  17.9s\n",
      "[CV] clf__loss=perceptron, clf__max_iter=200, clf__penalty=l1 ........\n",
      "[CV]  clf__loss=squared_hinge, clf__max_iter=600, clf__penalty=elasticnet, total=  17.4s\n",
      "[CV] clf__loss=perceptron, clf__max_iter=200, clf__penalty=l1 ........\n",
      "[CV]  clf__loss=squared_hinge, clf__max_iter=600, clf__penalty=elasticnet, total=  17.2s\n",
      "[CV] clf__loss=perceptron, clf__max_iter=200, clf__penalty=l1 ........\n",
      "[CV]  clf__loss=squared_hinge, clf__max_iter=600, clf__penalty=elasticnet, total=  17.9s\n",
      "[CV] clf__loss=perceptron, clf__max_iter=200, clf__penalty=elasticnet \n",
      "[CV]  clf__loss=perceptron, clf__max_iter=200, clf__penalty=l2, total=   9.0s\n",
      "[CV] clf__loss=perceptron, clf__max_iter=200, clf__penalty=elasticnet \n",
      "[CV]  clf__loss=perceptron, clf__max_iter=200, clf__penalty=l2, total=   8.9s\n",
      "[CV] clf__loss=perceptron, clf__max_iter=200, clf__penalty=elasticnet \n",
      "[CV]  clf__loss=squared_hinge, clf__max_iter=600, clf__penalty=elasticnet, total=  16.2s\n",
      "[CV] clf__loss=perceptron, clf__max_iter=200, clf__penalty=elasticnet \n",
      "[CV]  clf__loss=perceptron, clf__max_iter=200, clf__penalty=l2, total=   8.4s\n",
      "[CV] clf__loss=perceptron, clf__max_iter=200, clf__penalty=elasticnet \n",
      "[CV]  clf__loss=perceptron, clf__max_iter=200, clf__penalty=l2, total=   8.1s\n",
      "[CV] clf__loss=perceptron, clf__max_iter=300, clf__penalty=l2 ........\n",
      "[CV]  clf__loss=perceptron, clf__max_iter=200, clf__penalty=l2, total=   8.3s\n",
      "[CV] clf__loss=perceptron, clf__max_iter=300, clf__penalty=l2 ........\n",
      "[CV]  clf__loss=perceptron, clf__max_iter=200, clf__penalty=l1, total=   9.8s\n",
      "[CV] clf__loss=perceptron, clf__max_iter=300, clf__penalty=l2 ........\n",
      "[CV]  clf__loss=perceptron, clf__max_iter=200, clf__penalty=l1, total=   9.6s\n",
      "[CV] clf__loss=perceptron, clf__max_iter=300, clf__penalty=l2 ........\n",
      "[CV]  clf__loss=perceptron, clf__max_iter=200, clf__penalty=l1, total=   9.4s\n",
      "[CV] clf__loss=perceptron, clf__max_iter=300, clf__penalty=l2 ........\n",
      "[CV]  clf__loss=perceptron, clf__max_iter=200, clf__penalty=l1, total=   9.4s\n",
      "[CV] clf__loss=perceptron, clf__max_iter=300, clf__penalty=l1 ........\n",
      "[CV]  clf__loss=perceptron, clf__max_iter=200, clf__penalty=l1, total=  10.0s\n",
      "[CV] clf__loss=perceptron, clf__max_iter=300, clf__penalty=l1 ........\n",
      "[CV]  clf__loss=perceptron, clf__max_iter=200, clf__penalty=elasticnet, total=   9.9s\n",
      "[CV] clf__loss=perceptron, clf__max_iter=300, clf__penalty=l1 ........\n",
      "[CV]  clf__loss=perceptron, clf__max_iter=200, clf__penalty=elasticnet, total=  10.1s\n",
      "[CV] clf__loss=perceptron, clf__max_iter=300, clf__penalty=l1 ........\n",
      "[CV]  clf__loss=perceptron, clf__max_iter=200, clf__penalty=elasticnet, total=  10.1s\n",
      "[CV] clf__loss=perceptron, clf__max_iter=300, clf__penalty=l1 ........\n",
      "[CV]  clf__loss=perceptron, clf__max_iter=200, clf__penalty=elasticnet, total=   9.6s\n",
      "[CV] clf__loss=perceptron, clf__max_iter=300, clf__penalty=elasticnet \n",
      "[CV]  clf__loss=perceptron, clf__max_iter=200, clf__penalty=elasticnet, total=   9.5s\n",
      "[CV] clf__loss=perceptron, clf__max_iter=300, clf__penalty=elasticnet \n",
      "[CV]  clf__loss=perceptron, clf__max_iter=300, clf__penalty=l2, total=   9.4s\n",
      "[CV] clf__loss=perceptron, clf__max_iter=300, clf__penalty=elasticnet \n",
      "[CV]  clf__loss=perceptron, clf__max_iter=300, clf__penalty=l2, total=   9.4s\n",
      "[CV] clf__loss=perceptron, clf__max_iter=300, clf__penalty=elasticnet \n",
      "[CV]  clf__loss=perceptron, clf__max_iter=300, clf__penalty=l2, total=   9.2s\n",
      "[CV] clf__loss=perceptron, clf__max_iter=300, clf__penalty=elasticnet \n",
      "[CV]  clf__loss=perceptron, clf__max_iter=300, clf__penalty=l2, total=   9.4s\n",
      "[CV] clf__loss=perceptron, clf__max_iter=400, clf__penalty=l2 ........\n"
     ]
    },
    {
     "name": "stdout",
     "output_type": "stream",
     "text": [
      "[CV]  clf__loss=perceptron, clf__max_iter=300, clf__penalty=l2, total=   9.0s\n",
      "[CV] clf__loss=perceptron, clf__max_iter=400, clf__penalty=l2 ........\n",
      "[CV]  clf__loss=perceptron, clf__max_iter=300, clf__penalty=l1, total=  10.9s\n",
      "[CV] clf__loss=perceptron, clf__max_iter=400, clf__penalty=l2 ........\n",
      "[CV]  clf__loss=perceptron, clf__max_iter=300, clf__penalty=l1, total=  10.5s\n",
      "[CV] clf__loss=perceptron, clf__max_iter=400, clf__penalty=l2 ........\n",
      "[CV]  clf__loss=perceptron, clf__max_iter=300, clf__penalty=l1, total=  11.2s\n",
      "[CV] clf__loss=perceptron, clf__max_iter=400, clf__penalty=l2 ........\n",
      "[CV]  clf__loss=perceptron, clf__max_iter=300, clf__penalty=l1, total=  11.0s\n",
      "[CV] clf__loss=perceptron, clf__max_iter=400, clf__penalty=l1 ........\n",
      "[CV]  clf__loss=perceptron, clf__max_iter=300, clf__penalty=l1, total=  10.7s\n",
      "[CV] clf__loss=perceptron, clf__max_iter=400, clf__penalty=l1 ........\n",
      "[CV]  clf__loss=perceptron, clf__max_iter=300, clf__penalty=elasticnet, total=  11.3s\n",
      "[CV] clf__loss=perceptron, clf__max_iter=400, clf__penalty=l1 ........\n",
      "[CV]  clf__loss=perceptron, clf__max_iter=300, clf__penalty=elasticnet, total=  11.0s\n",
      "[CV] clf__loss=perceptron, clf__max_iter=400, clf__penalty=l1 ........\n",
      "[CV]  clf__loss=perceptron, clf__max_iter=300, clf__penalty=elasticnet, total=  10.8s\n",
      "[CV] clf__loss=perceptron, clf__max_iter=400, clf__penalty=l1 ........\n",
      "[CV]  clf__loss=perceptron, clf__max_iter=300, clf__penalty=elasticnet, total=  10.8s\n",
      "[CV] clf__loss=perceptron, clf__max_iter=400, clf__penalty=elasticnet \n",
      "[CV]  clf__loss=perceptron, clf__max_iter=300, clf__penalty=elasticnet, total=  10.5s\n",
      "[CV] clf__loss=perceptron, clf__max_iter=400, clf__penalty=elasticnet \n",
      "[CV]  clf__loss=perceptron, clf__max_iter=400, clf__penalty=l2, total=  10.0s\n",
      "[CV] clf__loss=perceptron, clf__max_iter=400, clf__penalty=elasticnet \n",
      "[CV]  clf__loss=perceptron, clf__max_iter=400, clf__penalty=l2, total=   9.8s\n",
      "[CV] clf__loss=perceptron, clf__max_iter=400, clf__penalty=elasticnet \n",
      "[CV]  clf__loss=perceptron, clf__max_iter=400, clf__penalty=l2, total=  10.2s\n",
      "[CV] clf__loss=perceptron, clf__max_iter=400, clf__penalty=elasticnet \n",
      "[CV]  clf__loss=perceptron, clf__max_iter=400, clf__penalty=l2, total=   9.4s\n",
      "[CV] clf__loss=perceptron, clf__max_iter=500, clf__penalty=l2 ........\n",
      "[CV]  clf__loss=perceptron, clf__max_iter=400, clf__penalty=l2, total=  10.2s\n",
      "[CV] clf__loss=perceptron, clf__max_iter=500, clf__penalty=l2 ........\n",
      "[CV]  clf__loss=perceptron, clf__max_iter=400, clf__penalty=l1, total=  12.0s\n",
      "[CV] clf__loss=perceptron, clf__max_iter=500, clf__penalty=l2 ........\n",
      "[CV]  clf__loss=perceptron, clf__max_iter=400, clf__penalty=l1, total=  12.6s\n",
      "[CV] clf__loss=perceptron, clf__max_iter=500, clf__penalty=l2 ........\n",
      "[CV]  clf__loss=perceptron, clf__max_iter=400, clf__penalty=l1, total=  11.6s\n",
      "[CV] clf__loss=perceptron, clf__max_iter=500, clf__penalty=l2 ........\n",
      "[CV]  clf__loss=perceptron, clf__max_iter=400, clf__penalty=l1, total=  13.6s\n",
      "[CV] clf__loss=perceptron, clf__max_iter=500, clf__penalty=l1 ........\n",
      "[CV]  clf__loss=perceptron, clf__max_iter=400, clf__penalty=l1, total=  13.7s\n",
      "[CV] clf__loss=perceptron, clf__max_iter=500, clf__penalty=l1 ........\n",
      "[CV]  clf__loss=perceptron, clf__max_iter=400, clf__penalty=elasticnet, total=  14.2s\n",
      "[CV] clf__loss=perceptron, clf__max_iter=500, clf__penalty=l1 ........\n",
      "[CV]  clf__loss=perceptron, clf__max_iter=400, clf__penalty=elasticnet, total=  13.3s\n",
      "[CV] clf__loss=perceptron, clf__max_iter=500, clf__penalty=l1 ........\n",
      "[CV]  clf__loss=perceptron, clf__max_iter=400, clf__penalty=elasticnet, total=  12.2s\n",
      "[CV] clf__loss=perceptron, clf__max_iter=500, clf__penalty=l1 ........\n",
      "[CV]  clf__loss=perceptron, clf__max_iter=400, clf__penalty=elasticnet, total=  11.6s\n",
      "[CV] clf__loss=perceptron, clf__max_iter=500, clf__penalty=elasticnet \n",
      "[CV]  clf__loss=perceptron, clf__max_iter=500, clf__penalty=l2, total=  10.7s\n",
      "[CV]  clf__loss=perceptron, clf__max_iter=400, clf__penalty=elasticnet, total=  11.9s\n",
      "[CV] clf__loss=perceptron, clf__max_iter=500, clf__penalty=elasticnet \n",
      "[CV] clf__loss=perceptron, clf__max_iter=500, clf__penalty=elasticnet \n",
      "[CV]  clf__loss=perceptron, clf__max_iter=500, clf__penalty=l2, total=  10.9s\n",
      "[CV] clf__loss=perceptron, clf__max_iter=500, clf__penalty=elasticnet \n",
      "[CV]  clf__loss=perceptron, clf__max_iter=500, clf__penalty=l2, total=  10.8s\n",
      "[CV] clf__loss=perceptron, clf__max_iter=500, clf__penalty=elasticnet \n",
      "[CV]  clf__loss=perceptron, clf__max_iter=500, clf__penalty=l2, total=  10.5s\n",
      "[CV] clf__loss=perceptron, clf__max_iter=600, clf__penalty=l2 ........\n",
      "[CV]  clf__loss=perceptron, clf__max_iter=500, clf__penalty=l2, total=  10.7s\n",
      "[CV] clf__loss=perceptron, clf__max_iter=600, clf__penalty=l2 ........\n",
      "[CV]  clf__loss=perceptron, clf__max_iter=500, clf__penalty=l1, total=  13.9s\n",
      "[CV] clf__loss=perceptron, clf__max_iter=600, clf__penalty=l2 ........\n",
      "[CV]  clf__loss=perceptron, clf__max_iter=500, clf__penalty=l1, total=  13.0s\n",
      "[CV] clf__loss=perceptron, clf__max_iter=600, clf__penalty=l2 ........\n",
      "[CV]  clf__loss=perceptron, clf__max_iter=500, clf__penalty=l1, total=  14.5s\n",
      "[CV] clf__loss=perceptron, clf__max_iter=600, clf__penalty=l2 ........\n",
      "[CV]  clf__loss=perceptron, clf__max_iter=500, clf__penalty=l1, total=  13.3s\n",
      "[CV] clf__loss=perceptron, clf__max_iter=600, clf__penalty=l1 ........\n",
      "[CV]  clf__loss=perceptron, clf__max_iter=500, clf__penalty=l1, total=  14.5s\n",
      "[CV] clf__loss=perceptron, clf__max_iter=600, clf__penalty=l1 ........\n",
      "[CV]  clf__loss=perceptron, clf__max_iter=500, clf__penalty=elasticnet, total=  15.3s\n",
      "[CV] clf__loss=perceptron, clf__max_iter=600, clf__penalty=l1 ........\n",
      "[CV]  clf__loss=perceptron, clf__max_iter=500, clf__penalty=elasticnet, total=  14.3s\n",
      "[CV] clf__loss=perceptron, clf__max_iter=600, clf__penalty=l1 ........\n",
      "[CV]  clf__loss=perceptron, clf__max_iter=500, clf__penalty=elasticnet, total=  14.1s\n",
      "[CV] clf__loss=perceptron, clf__max_iter=600, clf__penalty=l1 ........\n",
      "[CV]  clf__loss=perceptron, clf__max_iter=500, clf__penalty=elasticnet, total=  14.4s\n",
      "[CV] clf__loss=perceptron, clf__max_iter=600, clf__penalty=elasticnet \n",
      "[CV]  clf__loss=perceptron, clf__max_iter=600, clf__penalty=l2, total=  12.3s\n",
      "[CV] clf__loss=perceptron, clf__max_iter=600, clf__penalty=elasticnet \n",
      "[CV]  clf__loss=perceptron, clf__max_iter=500, clf__penalty=elasticnet, total=  14.6s\n",
      "[CV] clf__loss=perceptron, clf__max_iter=600, clf__penalty=elasticnet \n",
      "[CV]  clf__loss=perceptron, clf__max_iter=600, clf__penalty=l2, total=  12.6s\n",
      "[CV] clf__loss=perceptron, clf__max_iter=600, clf__penalty=elasticnet \n",
      "[CV]  clf__loss=perceptron, clf__max_iter=600, clf__penalty=l2, total=  11.9s\n",
      "[CV]  clf__loss=perceptron, clf__max_iter=600, clf__penalty=l2, total=  13.0s\n",
      "[CV] clf__loss=perceptron, clf__max_iter=600, clf__penalty=elasticnet \n",
      "[CV] clf__loss=log, clf__max_iter=200, clf__penalty=l2 ...............\n",
      "[CV]  clf__loss=perceptron, clf__max_iter=600, clf__penalty=l2, total=  12.0s\n",
      "[CV] clf__loss=log, clf__max_iter=200, clf__penalty=l2 ...............\n",
      "[CV]  clf__loss=perceptron, clf__max_iter=600, clf__penalty=l1, total=  16.6s\n",
      "[CV] clf__loss=log, clf__max_iter=200, clf__penalty=l2 ...............\n",
      "[CV]  clf__loss=perceptron, clf__max_iter=600, clf__penalty=l1, total=  15.9s\n",
      "[CV]  clf__loss=perceptron, clf__max_iter=600, clf__penalty=l1, total=  17.3s\n",
      "[CV] clf__loss=log, clf__max_iter=200, clf__penalty=l2 ...............\n",
      "[CV] clf__loss=log, clf__max_iter=200, clf__penalty=l2 ...............\n",
      "[CV]  clf__loss=perceptron, clf__max_iter=600, clf__penalty=l1, total=  16.9s\n",
      "[CV] clf__loss=log, clf__max_iter=200, clf__penalty=l1 ...............\n",
      "[CV]  clf__loss=perceptron, clf__max_iter=600, clf__penalty=l1, total=  17.0s\n",
      "[CV]  clf__loss=perceptron, clf__max_iter=600, clf__penalty=elasticnet, total=  16.4s\n",
      "[CV] clf__loss=log, clf__max_iter=200, clf__penalty=l1 ...............\n",
      "[CV] clf__loss=log, clf__max_iter=200, clf__penalty=l1 ...............\n",
      "[CV]  clf__loss=perceptron, clf__max_iter=600, clf__penalty=elasticnet, total=  17.9s\n",
      "[CV]  clf__loss=perceptron, clf__max_iter=600, clf__penalty=elasticnet, total=  17.2s\n",
      "[CV] clf__loss=log, clf__max_iter=200, clf__penalty=l1 ...............\n",
      "[CV] clf__loss=log, clf__max_iter=200, clf__penalty=l1 ...............\n",
      "[CV]  clf__loss=perceptron, clf__max_iter=600, clf__penalty=elasticnet, total=  17.4s\n"
     ]
    },
    {
     "name": "stdout",
     "output_type": "stream",
     "text": [
      "[CV] clf__loss=log, clf__max_iter=200, clf__penalty=elasticnet .......\n",
      "[CV]  clf__loss=log, clf__max_iter=200, clf__penalty=l2, total=  12.2s\n",
      "[CV] clf__loss=log, clf__max_iter=200, clf__penalty=elasticnet .......\n",
      "[CV]  clf__loss=log, clf__max_iter=200, clf__penalty=l2, total=  10.9s\n",
      "[CV] clf__loss=log, clf__max_iter=200, clf__penalty=elasticnet .......\n",
      "[CV]  clf__loss=perceptron, clf__max_iter=600, clf__penalty=elasticnet, total=  16.1s\n",
      "[CV] clf__loss=log, clf__max_iter=200, clf__penalty=elasticnet .......\n",
      "[CV]  clf__loss=log, clf__max_iter=200, clf__penalty=l2, total=  10.9s\n",
      "[CV] clf__loss=log, clf__max_iter=200, clf__penalty=elasticnet .......\n",
      "[CV]  clf__loss=log, clf__max_iter=200, clf__penalty=l2, total=  10.8s\n",
      "[CV]  clf__loss=log, clf__max_iter=200, clf__penalty=l2, total=  10.5s\n",
      "[CV] clf__loss=log, clf__max_iter=300, clf__penalty=l2 ...............\n",
      "[CV] clf__loss=log, clf__max_iter=300, clf__penalty=l2 ...............\n",
      "[CV]  clf__loss=log, clf__max_iter=200, clf__penalty=l1, total=  12.4s\n",
      "[CV] clf__loss=log, clf__max_iter=300, clf__penalty=l2 ...............\n",
      "[CV]  clf__loss=log, clf__max_iter=200, clf__penalty=l1, total=  12.5s\n",
      "[CV] clf__loss=log, clf__max_iter=300, clf__penalty=l2 ...............\n",
      "[CV]  clf__loss=log, clf__max_iter=200, clf__penalty=l1, total=  12.3s\n",
      "[CV] clf__loss=log, clf__max_iter=300, clf__penalty=l2 ...............\n",
      "[CV]  clf__loss=log, clf__max_iter=200, clf__penalty=l1, total=  11.5s\n",
      "[CV]  clf__loss=log, clf__max_iter=200, clf__penalty=l1, total=  12.2s\n",
      "[CV] clf__loss=log, clf__max_iter=300, clf__penalty=l1 ...............\n",
      "[CV] clf__loss=log, clf__max_iter=300, clf__penalty=l1 ...............\n",
      "[CV]  clf__loss=log, clf__max_iter=200, clf__penalty=elasticnet, total=  12.7s\n",
      "[CV] clf__loss=log, clf__max_iter=300, clf__penalty=l1 ...............\n",
      "[CV]  clf__loss=log, clf__max_iter=200, clf__penalty=elasticnet, total=  12.3s\n",
      "[CV] clf__loss=log, clf__max_iter=300, clf__penalty=l1 ...............\n",
      "[CV]  clf__loss=log, clf__max_iter=200, clf__penalty=elasticnet, total=  12.9s\n",
      "[CV] clf__loss=log, clf__max_iter=300, clf__penalty=l1 ...............\n",
      "[CV]  clf__loss=log, clf__max_iter=200, clf__penalty=elasticnet, total=  12.4s\n",
      "[CV] clf__loss=log, clf__max_iter=300, clf__penalty=elasticnet .......\n",
      "[CV]  clf__loss=log, clf__max_iter=200, clf__penalty=elasticnet, total=  12.4s\n",
      "[CV] clf__loss=log, clf__max_iter=300, clf__penalty=elasticnet .......\n",
      "[CV]  clf__loss=log, clf__max_iter=300, clf__penalty=l2, total=  12.4s\n",
      "[CV]  clf__loss=log, clf__max_iter=300, clf__penalty=l2, total=  12.7s\n",
      "[CV] clf__loss=log, clf__max_iter=300, clf__penalty=elasticnet .......\n",
      "[CV] clf__loss=log, clf__max_iter=300, clf__penalty=elasticnet .......\n",
      "[CV]  clf__loss=log, clf__max_iter=300, clf__penalty=l2, total=  12.4s\n",
      "[CV] clf__loss=log, clf__max_iter=300, clf__penalty=elasticnet .......\n",
      "[CV]  clf__loss=log, clf__max_iter=300, clf__penalty=l2, total=  12.8s\n",
      "[CV] clf__loss=log, clf__max_iter=400, clf__penalty=l2 ...............\n",
      "[CV]  clf__loss=log, clf__max_iter=300, clf__penalty=l2, total=  12.9s\n",
      "[CV] clf__loss=log, clf__max_iter=400, clf__penalty=l2 ...............\n",
      "[CV]  clf__loss=log, clf__max_iter=300, clf__penalty=l1, total=  14.8s\n",
      "[CV] clf__loss=log, clf__max_iter=400, clf__penalty=l2 ...............\n",
      "[CV]  clf__loss=log, clf__max_iter=300, clf__penalty=l1, total=  14.6s\n",
      "[CV] clf__loss=log, clf__max_iter=400, clf__penalty=l2 ...............\n",
      "[CV]  clf__loss=log, clf__max_iter=300, clf__penalty=l1, total=  15.0s\n",
      "[CV] clf__loss=log, clf__max_iter=400, clf__penalty=l2 ...............\n",
      "[CV]  clf__loss=log, clf__max_iter=300, clf__penalty=l1, total=  14.7s\n",
      "[CV] clf__loss=log, clf__max_iter=400, clf__penalty=l1 ...............\n",
      "[CV]  clf__loss=log, clf__max_iter=300, clf__penalty=l1, total=  14.4s\n",
      "[CV] clf__loss=log, clf__max_iter=400, clf__penalty=l1 ...............\n",
      "[CV]  clf__loss=log, clf__max_iter=300, clf__penalty=elasticnet, total=  14.5s\n",
      "[CV] clf__loss=log, clf__max_iter=400, clf__penalty=l1 ...............\n",
      "[CV]  clf__loss=log, clf__max_iter=300, clf__penalty=elasticnet, total=  15.2s\n",
      "[CV] clf__loss=log, clf__max_iter=400, clf__penalty=l1 ...............\n",
      "[CV]  clf__loss=log, clf__max_iter=300, clf__penalty=elasticnet, total=  14.6s\n",
      "[CV] clf__loss=log, clf__max_iter=400, clf__penalty=l1 ...............\n",
      "[CV]  clf__loss=log, clf__max_iter=300, clf__penalty=elasticnet, total=  15.5s\n",
      "[CV] clf__loss=log, clf__max_iter=400, clf__penalty=elasticnet .......\n",
      "[CV]  clf__loss=log, clf__max_iter=300, clf__penalty=elasticnet, total=  14.6s\n",
      "[CV] clf__loss=log, clf__max_iter=400, clf__penalty=elasticnet .......\n",
      "[CV]  clf__loss=log, clf__max_iter=400, clf__penalty=l2, total=  15.0s\n",
      "[CV] clf__loss=log, clf__max_iter=400, clf__penalty=elasticnet .......\n",
      "[CV]  clf__loss=log, clf__max_iter=400, clf__penalty=l2, total=  15.6s\n",
      "[CV] clf__loss=log, clf__max_iter=400, clf__penalty=elasticnet .......\n",
      "[CV]  clf__loss=log, clf__max_iter=400, clf__penalty=l2, total=  15.0s\n",
      "[CV]  clf__loss=log, clf__max_iter=400, clf__penalty=l2, total=  15.1s\n",
      "[CV] clf__loss=log, clf__max_iter=400, clf__penalty=elasticnet .......\n",
      "[CV] clf__loss=log, clf__max_iter=500, clf__penalty=l2 ...............\n",
      "[CV]  clf__loss=log, clf__max_iter=400, clf__penalty=l2, total=  16.2s\n",
      "[CV] clf__loss=log, clf__max_iter=500, clf__penalty=l2 ...............\n",
      "[CV]  clf__loss=log, clf__max_iter=400, clf__penalty=l1, total=  18.0s\n",
      "[CV] clf__loss=log, clf__max_iter=500, clf__penalty=l2 ...............\n",
      "[CV]  clf__loss=log, clf__max_iter=400, clf__penalty=l1, total=  18.2s\n",
      "[CV] clf__loss=log, clf__max_iter=500, clf__penalty=l2 ...............\n",
      "[CV]  clf__loss=log, clf__max_iter=400, clf__penalty=l1, total=  18.0s\n",
      "[CV] clf__loss=log, clf__max_iter=500, clf__penalty=l2 ...............\n",
      "[CV]  clf__loss=log, clf__max_iter=400, clf__penalty=l1, total=  17.1s\n",
      "[CV] clf__loss=log, clf__max_iter=500, clf__penalty=l1 ...............\n",
      "[CV]  clf__loss=log, clf__max_iter=400, clf__penalty=l1, total=  17.0s\n",
      "[CV] clf__loss=log, clf__max_iter=500, clf__penalty=l1 ...............\n",
      "[CV]  clf__loss=log, clf__max_iter=400, clf__penalty=elasticnet, total=  19.2s\n"
     ]
    },
    {
     "name": "stderr",
     "output_type": "stream",
     "text": [
      "[Parallel(n_jobs=-1)]: Done 341 tasks      | elapsed: 11.7min\n"
     ]
    },
    {
     "name": "stdout",
     "output_type": "stream",
     "text": [
      "[CV] clf__loss=log, clf__max_iter=500, clf__penalty=l1 ...............\n",
      "[CV]  clf__loss=log, clf__max_iter=400, clf__penalty=elasticnet, total=  19.1s\n",
      "[CV] clf__loss=log, clf__max_iter=500, clf__penalty=l1 ...............\n",
      "[CV]  clf__loss=log, clf__max_iter=400, clf__penalty=elasticnet, total=  18.8s\n",
      "[CV] clf__loss=log, clf__max_iter=500, clf__penalty=l1 ...............\n",
      "[CV]  clf__loss=log, clf__max_iter=400, clf__penalty=elasticnet, total=  18.8s\n",
      "[CV] clf__loss=log, clf__max_iter=500, clf__penalty=elasticnet .......\n",
      "[CV]  clf__loss=log, clf__max_iter=500, clf__penalty=l2, total=  17.3s\n",
      "[CV]  clf__loss=log, clf__max_iter=400, clf__penalty=elasticnet, total=  18.0s\n",
      "[CV] clf__loss=log, clf__max_iter=500, clf__penalty=elasticnet .......\n",
      "[CV] clf__loss=log, clf__max_iter=500, clf__penalty=elasticnet .......\n",
      "[CV]  clf__loss=log, clf__max_iter=500, clf__penalty=l2, total=  17.8s\n",
      "[CV] clf__loss=log, clf__max_iter=500, clf__penalty=elasticnet .......\n",
      "[CV]  clf__loss=log, clf__max_iter=500, clf__penalty=l2, total=  16.5s\n",
      "[CV] clf__loss=log, clf__max_iter=500, clf__penalty=elasticnet .......\n",
      "[CV]  clf__loss=log, clf__max_iter=500, clf__penalty=l2, total=  17.2s\n",
      "[CV] clf__loss=log, clf__max_iter=600, clf__penalty=l2 ...............\n",
      "[CV]  clf__loss=log, clf__max_iter=500, clf__penalty=l2, total=  18.1s\n",
      "[CV] clf__loss=log, clf__max_iter=600, clf__penalty=l2 ...............\n",
      "[CV]  clf__loss=log, clf__max_iter=500, clf__penalty=l1, total=  20.4s\n",
      "[CV] clf__loss=log, clf__max_iter=600, clf__penalty=l2 ...............\n",
      "[CV]  clf__loss=log, clf__max_iter=500, clf__penalty=l1, total=  20.0s\n",
      "[CV] clf__loss=log, clf__max_iter=600, clf__penalty=l2 ...............\n",
      "[CV]  clf__loss=log, clf__max_iter=500, clf__penalty=l1, total=  20.5s\n",
      "[CV] clf__loss=log, clf__max_iter=600, clf__penalty=l2 ...............\n",
      "[CV]  clf__loss=log, clf__max_iter=500, clf__penalty=l1, total=  21.4s\n",
      "[CV] clf__loss=log, clf__max_iter=600, clf__penalty=l1 ...............\n",
      "[CV]  clf__loss=log, clf__max_iter=500, clf__penalty=l1, total=  22.4s\n",
      "[CV] clf__loss=log, clf__max_iter=600, clf__penalty=l1 ...............\n",
      "[CV]  clf__loss=log, clf__max_iter=500, clf__penalty=elasticnet, total=  22.5s\n",
      "[CV] clf__loss=log, clf__max_iter=600, clf__penalty=l1 ...............\n",
      "[CV]  clf__loss=log, clf__max_iter=500, clf__penalty=elasticnet, total=  20.7s\n",
      "[CV] clf__loss=log, clf__max_iter=600, clf__penalty=l1 ...............\n",
      "[CV]  clf__loss=log, clf__max_iter=500, clf__penalty=elasticnet, total=  22.1s\n",
      "[CV] clf__loss=log, clf__max_iter=600, clf__penalty=l1 ...............\n",
      "[CV]  clf__loss=log, clf__max_iter=500, clf__penalty=elasticnet, total=  21.4s\n",
      "[CV] clf__loss=log, clf__max_iter=600, clf__penalty=elasticnet .......\n",
      "[CV]  clf__loss=log, clf__max_iter=600, clf__penalty=l2, total=  19.5s\n",
      "[CV] clf__loss=log, clf__max_iter=600, clf__penalty=elasticnet .......\n",
      "[CV]  clf__loss=log, clf__max_iter=500, clf__penalty=elasticnet, total=  21.7s\n",
      "[CV] clf__loss=log, clf__max_iter=600, clf__penalty=elasticnet .......\n",
      "[CV]  clf__loss=log, clf__max_iter=600, clf__penalty=l2, total=  18.7s\n",
      "[CV] clf__loss=log, clf__max_iter=600, clf__penalty=elasticnet .......\n",
      "[CV]  clf__loss=log, clf__max_iter=600, clf__penalty=l2, total=  18.9s\n",
      "[CV] clf__loss=log, clf__max_iter=600, clf__penalty=elasticnet .......\n",
      "[CV]  clf__loss=log, clf__max_iter=600, clf__penalty=l2, total=  18.8s\n",
      "[CV]  clf__loss=log, clf__max_iter=600, clf__penalty=l2, total=  18.9s\n",
      "[CV]  clf__loss=log, clf__max_iter=600, clf__penalty=l1, total=  23.0s\n",
      "[CV]  clf__loss=log, clf__max_iter=600, clf__penalty=l1, total=  23.9s\n",
      "[CV]  clf__loss=log, clf__max_iter=600, clf__penalty=l1, total=  24.1s\n",
      "[CV]  clf__loss=log, clf__max_iter=600, clf__penalty=l1, total=  23.8s\n",
      "[CV]  clf__loss=log, clf__max_iter=600, clf__penalty=l1, total=  25.8s\n",
      "[CV]  clf__loss=log, clf__max_iter=600, clf__penalty=elasticnet, total=  22.6s\n",
      "[CV]  clf__loss=log, clf__max_iter=600, clf__penalty=elasticnet, total=  23.7s\n",
      "[CV]  clf__loss=log, clf__max_iter=600, clf__penalty=elasticnet, total=  23.1s\n",
      "[CV]  clf__loss=log, clf__max_iter=600, clf__penalty=elasticnet, total=  21.7s\n",
      "[CV]  clf__loss=log, clf__max_iter=600, clf__penalty=elasticnet, total=  20.4s\n"
     ]
    },
    {
     "name": "stderr",
     "output_type": "stream",
     "text": [
      "[Parallel(n_jobs=-1)]: Done 375 out of 375 | elapsed: 13.1min finished\n"
     ]
    }
   ],
   "source": [
    "gs_lr_tfidf.fit(X_train, y_train)\n",
    "\n",
    "best_parameters = gs_lr_tfidf.best_params_\n",
    "best_estimator = gs_lr_tfidf.best_estimator_\n",
    "result = gs_lr_tfidf.cv_results_"
   ]
  },
  {
   "cell_type": "code",
   "execution_count": 73,
   "metadata": {},
   "outputs": [
    {
     "data": {
      "text/plain": [
       "{'clf__loss': 'modified_huber', 'clf__max_iter': 400, 'clf__penalty': 'l1'}"
      ]
     },
     "execution_count": 73,
     "metadata": {},
     "output_type": "execute_result"
    }
   ],
   "source": [
    "best_parameters"
   ]
  },
  {
   "cell_type": "code",
   "execution_count": 74,
   "metadata": {},
   "outputs": [
    {
     "name": "stdout",
     "output_type": "stream",
     "text": [
      "0.9655790160403442\n",
      "0.9668420180598127\n",
      "0.9683849722475354\n",
      "0.9678665368763333\n",
      "0.9673384006793281\n"
     ]
    }
   ],
   "source": [
    "skfolds = StratifiedKFold(n_splits=5, random_state=42, shuffle=True)\n",
    "\n",
    "for train_index, test_index in skfolds.split(X_train, y_train):\n",
    "    clone_estimator = clone(best_estimator)\n",
    "    X_train_folds = X_train[train_index]\n",
    "    y_train_folds = (y_train[train_index])\n",
    "    X_test_fold = X_train[test_index]\n",
    "    y_test_fold = (y_train[test_index])\n",
    "\n",
    "    clone_estimator.fit(X_train_folds, y_train_folds)\n",
    "    y_pred = clone_estimator.predict(X_test_fold)\n",
    "    n_correct = sum(y_pred == y_test_fold)\n",
    "    print(n_correct / len(y_pred))"
   ]
  },
  {
   "cell_type": "code",
   "execution_count": 75,
   "metadata": {},
   "outputs": [
    {
     "name": "stderr",
     "output_type": "stream",
     "text": [
      "[Parallel(n_jobs=-1)]: Done   3 out of   5 | elapsed:    8.1s remaining:    5.4s\n",
      "[Parallel(n_jobs=-1)]: Done   5 out of   5 | elapsed:    8.5s finished\n"
     ]
    }
   ],
   "source": [
    "y_train_pred = cross_val_predict(best_estimator, X_train, y_train, cv=5,\n",
    "        verbose=2, n_jobs=-1)\n",
    "\n",
    "conf_mx = confusion_matrix(y_train, y_train_pred)"
   ]
  },
  {
   "cell_type": "code",
   "execution_count": 76,
   "metadata": {},
   "outputs": [
    {
     "data": {
      "text/plain": [
       "array([[  9732,    245,     76],\n",
       "       [  5540, 100840,   1853],\n",
       "       [  2282,   5434, 356835]])"
      ]
     },
     "execution_count": 76,
     "metadata": {},
     "output_type": "execute_result"
    }
   ],
   "source": [
    "conf_mx"
   ]
  },
  {
   "cell_type": "code",
   "execution_count": 77,
   "metadata": {},
   "outputs": [
    {
     "data": {
      "text/plain": [
       "(0.9680430455826707, 0.9680430455826707)"
      ]
     },
     "execution_count": 77,
     "metadata": {},
     "output_type": "execute_result"
    }
   ],
   "source": [
    "(precision_score(y_train, y_train_pred, average='micro'),\n",
    "        recall_score(y_train, y_train_pred, average='micro'))"
   ]
  },
  {
   "cell_type": "code",
   "execution_count": 78,
   "metadata": {},
   "outputs": [
    {
     "data": {
      "text/plain": [
       "0.9680430455826707"
      ]
     },
     "execution_count": 78,
     "metadata": {},
     "output_type": "execute_result"
    }
   ],
   "source": [
    "f1_score(y_train, y_train_pred, average='micro')"
   ]
  },
  {
   "cell_type": "code",
   "execution_count": 79,
   "metadata": {},
   "outputs": [
    {
     "name": "stderr",
     "output_type": "stream",
     "text": [
      "[Parallel(n_jobs=-1)]: Done   3 out of   5 | elapsed:    2.2s remaining:    1.5s\n",
      "[Parallel(n_jobs=-1)]: Done   5 out of   5 | elapsed:    2.3s finished\n"
     ]
    }
   ],
   "source": [
    "y_test_pred = cross_val_predict(best_estimator, X_test, y_test, cv=5,\n",
    "        verbose=2, n_jobs=-1)\n",
    "\n",
    "conf_mx = confusion_matrix(y_test, y_test_pred)"
   ]
  },
  {
   "cell_type": "code",
   "execution_count": 80,
   "metadata": {},
   "outputs": [
    {
     "data": {
      "text/plain": [
       "array([[ 2354,   129,    30],\n",
       "       [ 1968, 24449,   642],\n",
       "       [ 1039,  2832, 87267]])"
      ]
     },
     "execution_count": 80,
     "metadata": {},
     "output_type": "execute_result"
    }
   ],
   "source": [
    "conf_mx"
   ]
  },
  {
   "cell_type": "code",
   "execution_count": 81,
   "metadata": {},
   "outputs": [
    {
     "data": {
      "text/plain": [
       "(0.9449921298981029, 0.9449921298981029)"
      ]
     },
     "execution_count": 81,
     "metadata": {},
     "output_type": "execute_result"
    }
   ],
   "source": [
    "(precision_score(y_test, y_test_pred, average='micro'),\n",
    "        recall_score(y_test, y_test_pred, average='micro'))"
   ]
  },
  {
   "cell_type": "code",
   "execution_count": 82,
   "metadata": {},
   "outputs": [
    {
     "data": {
      "text/plain": [
       "0.9449921298981029"
      ]
     },
     "execution_count": 82,
     "metadata": {},
     "output_type": "execute_result"
    }
   ],
   "source": [
    "f1_score(y_test, y_test_pred, average='micro')"
   ]
  },
  {
   "cell_type": "code",
   "execution_count": 83,
   "metadata": {},
   "outputs": [
    {
     "data": {
      "text/plain": [
       "['./training/sentiment_sgd_undersample.pkl']"
      ]
     },
     "execution_count": 83,
     "metadata": {},
     "output_type": "execute_result"
    }
   ],
   "source": [
    "joblib.dump(best_estimator, './training/sentiment_sgd_undersample.pkl')"
   ]
  },
  {
   "cell_type": "markdown",
   "metadata": {},
   "source": [
    "# 5 - Passive Aggressive Classifier"
   ]
  },
  {
   "cell_type": "code",
   "execution_count": 9,
   "metadata": {},
   "outputs": [],
   "source": [
    "from sklearn.linear_model import PassiveAggressiveClassifier"
   ]
  },
  {
   "cell_type": "code",
   "execution_count": 85,
   "metadata": {},
   "outputs": [],
   "source": [
    "rus = RandomUnderSampler(random_state=42, replacement=True)\n",
    "\n",
    "tfidf = TfidfVectorizer(strip_accents=None, lowercase=False, preprocessor=None,\n",
    "                       ngram_range=(1,1), stop_words=None, tokenizer=str.split)\n",
    "\n",
    "param_grid = [{'clf__loss': ['hinge', 'squared_hinge'],\n",
    "               'clf__C': [0.1, 0.5, 1.0, 1.5],\n",
    "               'clf__shuffle': [True, False]\n",
    "              }]\n",
    "\n",
    "lr_tfidf = Pipeline([('vect', tfidf),\n",
    "                     ('rus', rus),\n",
    "                     ('clf', PassiveAggressiveClassifier(random_state=42))\n",
    "                    ])\n",
    "\n",
    "gs_lr_tfidf = GridSearchCV(estimator=lr_tfidf,\n",
    "        param_grid=param_grid,\n",
    "        scoring=['accuracy', 'f1_micro'],\n",
    "        cv=5,\n",
    "        verbose=2,\n",
    "        refit='f1_micro',\n",
    "        n_jobs=-1)"
   ]
  },
  {
   "cell_type": "code",
   "execution_count": 86,
   "metadata": {
    "scrolled": true
   },
   "outputs": [
    {
     "name": "stdout",
     "output_type": "stream",
     "text": [
      "Fitting 5 folds for each of 16 candidates, totalling 80 fits\n",
      "[CV] clf__C=0.1, clf__loss=hinge, clf__shuffle=True ..................\n",
      "[CV] clf__C=0.1, clf__loss=hinge, clf__shuffle=True ..................\n",
      "[CV] clf__C=0.1, clf__loss=hinge, clf__shuffle=True ..................\n",
      "[CV] clf__C=0.1, clf__loss=hinge, clf__shuffle=True ..................\n",
      "[CV] clf__C=0.1, clf__loss=hinge, clf__shuffle=True ..................\n",
      "[CV] clf__C=0.1, clf__loss=hinge, clf__shuffle=False .................\n",
      "[CV] clf__C=0.1, clf__loss=hinge, clf__shuffle=False .................\n",
      "[CV] clf__C=0.1, clf__loss=hinge, clf__shuffle=False .................\n",
      "[CV] clf__C=0.1, clf__loss=hinge, clf__shuffle=False .................\n",
      "[CV] clf__C=0.1, clf__loss=hinge, clf__shuffle=False .................\n",
      "[CV] clf__C=0.1, clf__loss=squared_hinge, clf__shuffle=True ..........\n",
      "[CV] clf__C=0.1, clf__loss=squared_hinge, clf__shuffle=True ..........\n"
     ]
    },
    {
     "name": "stderr",
     "output_type": "stream",
     "text": [
      "/usr/lib/python3.6/site-packages/sklearn/linear_model/stochastic_gradient.py:128: FutureWarning: max_iter and tol parameters have been added in <class 'sklearn.linear_model.passive_aggressive.PassiveAggressiveClassifier'> in 0.19. If both are left unset, they default to max_iter=5 and tol=None. If tol is not None, max_iter defaults to max_iter=1000. From 0.21, default max_iter will be 1000, and default tol will be 1e-3.\n",
      "  \"and default tol will be 1e-3.\" % type(self), FutureWarning)\n",
      "/usr/lib/python3.6/site-packages/sklearn/linear_model/stochastic_gradient.py:128: FutureWarning: max_iter and tol parameters have been added in <class 'sklearn.linear_model.passive_aggressive.PassiveAggressiveClassifier'> in 0.19. If both are left unset, they default to max_iter=5 and tol=None. If tol is not None, max_iter defaults to max_iter=1000. From 0.21, default max_iter will be 1000, and default tol will be 1e-3.\n",
      "  \"and default tol will be 1e-3.\" % type(self), FutureWarning)\n",
      "/usr/lib/python3.6/site-packages/sklearn/linear_model/stochastic_gradient.py:128: FutureWarning: max_iter and tol parameters have been added in <class 'sklearn.linear_model.passive_aggressive.PassiveAggressiveClassifier'> in 0.19. If both are left unset, they default to max_iter=5 and tol=None. If tol is not None, max_iter defaults to max_iter=1000. From 0.21, default max_iter will be 1000, and default tol will be 1e-3.\n",
      "  \"and default tol will be 1e-3.\" % type(self), FutureWarning)\n",
      "/usr/lib/python3.6/site-packages/sklearn/linear_model/stochastic_gradient.py:128: FutureWarning: max_iter and tol parameters have been added in <class 'sklearn.linear_model.passive_aggressive.PassiveAggressiveClassifier'> in 0.19. If both are left unset, they default to max_iter=5 and tol=None. If tol is not None, max_iter defaults to max_iter=1000. From 0.21, default max_iter will be 1000, and default tol will be 1e-3.\n",
      "  \"and default tol will be 1e-3.\" % type(self), FutureWarning)\n",
      "/usr/lib/python3.6/site-packages/sklearn/linear_model/stochastic_gradient.py:128: FutureWarning: max_iter and tol parameters have been added in <class 'sklearn.linear_model.passive_aggressive.PassiveAggressiveClassifier'> in 0.19. If both are left unset, they default to max_iter=5 and tol=None. If tol is not None, max_iter defaults to max_iter=1000. From 0.21, default max_iter will be 1000, and default tol will be 1e-3.\n",
      "  \"and default tol will be 1e-3.\" % type(self), FutureWarning)\n",
      "/usr/lib/python3.6/site-packages/sklearn/linear_model/stochastic_gradient.py:128: FutureWarning: max_iter and tol parameters have been added in <class 'sklearn.linear_model.passive_aggressive.PassiveAggressiveClassifier'> in 0.19. If both are left unset, they default to max_iter=5 and tol=None. If tol is not None, max_iter defaults to max_iter=1000. From 0.21, default max_iter will be 1000, and default tol will be 1e-3.\n",
      "  \"and default tol will be 1e-3.\" % type(self), FutureWarning)\n",
      "/usr/lib/python3.6/site-packages/sklearn/linear_model/stochastic_gradient.py:128: FutureWarning: max_iter and tol parameters have been added in <class 'sklearn.linear_model.passive_aggressive.PassiveAggressiveClassifier'> in 0.19. If both are left unset, they default to max_iter=5 and tol=None. If tol is not None, max_iter defaults to max_iter=1000. From 0.21, default max_iter will be 1000, and default tol will be 1e-3.\n",
      "  \"and default tol will be 1e-3.\" % type(self), FutureWarning)\n",
      "/usr/lib/python3.6/site-packages/sklearn/linear_model/stochastic_gradient.py:128: FutureWarning: max_iter and tol parameters have been added in <class 'sklearn.linear_model.passive_aggressive.PassiveAggressiveClassifier'> in 0.19. If both are left unset, they default to max_iter=5 and tol=None. If tol is not None, max_iter defaults to max_iter=1000. From 0.21, default max_iter will be 1000, and default tol will be 1e-3.\n",
      "  \"and default tol will be 1e-3.\" % type(self), FutureWarning)\n",
      "/usr/lib/python3.6/site-packages/sklearn/linear_model/stochastic_gradient.py:128: FutureWarning: max_iter and tol parameters have been added in <class 'sklearn.linear_model.passive_aggressive.PassiveAggressiveClassifier'> in 0.19. If both are left unset, they default to max_iter=5 and tol=None. If tol is not None, max_iter defaults to max_iter=1000. From 0.21, default max_iter will be 1000, and default tol will be 1e-3.\n",
      "  \"and default tol will be 1e-3.\" % type(self), FutureWarning)\n",
      "/usr/lib/python3.6/site-packages/sklearn/linear_model/stochastic_gradient.py:128: FutureWarning: max_iter and tol parameters have been added in <class 'sklearn.linear_model.passive_aggressive.PassiveAggressiveClassifier'> in 0.19. If both are left unset, they default to max_iter=5 and tol=None. If tol is not None, max_iter defaults to max_iter=1000. From 0.21, default max_iter will be 1000, and default tol will be 1e-3.\n",
      "  \"and default tol will be 1e-3.\" % type(self), FutureWarning)\n",
      "/usr/lib/python3.6/site-packages/sklearn/linear_model/stochastic_gradient.py:128: FutureWarning: max_iter and tol parameters have been added in <class 'sklearn.linear_model.passive_aggressive.PassiveAggressiveClassifier'> in 0.19. If both are left unset, they default to max_iter=5 and tol=None. If tol is not None, max_iter defaults to max_iter=1000. From 0.21, default max_iter will be 1000, and default tol will be 1e-3.\n",
      "  \"and default tol will be 1e-3.\" % type(self), FutureWarning)\n",
      "/usr/lib/python3.6/site-packages/sklearn/linear_model/stochastic_gradient.py:128: FutureWarning: max_iter and tol parameters have been added in <class 'sklearn.linear_model.passive_aggressive.PassiveAggressiveClassifier'> in 0.19. If both are left unset, they default to max_iter=5 and tol=None. If tol is not None, max_iter defaults to max_iter=1000. From 0.21, default max_iter will be 1000, and default tol will be 1e-3.\n",
      "  \"and default tol will be 1e-3.\" % type(self), FutureWarning)\n"
     ]
    },
    {
     "name": "stdout",
     "output_type": "stream",
     "text": [
      "[CV] ... clf__C=0.1, clf__loss=hinge, clf__shuffle=True, total=   5.6s\n",
      "[CV] ... clf__C=0.1, clf__loss=hinge, clf__shuffle=True, total=   5.6s\n",
      "[CV] clf__C=0.1, clf__loss=squared_hinge, clf__shuffle=True ..........\n",
      "[CV] ... clf__C=0.1, clf__loss=hinge, clf__shuffle=True, total=   5.5s\n",
      "[CV] clf__C=0.1, clf__loss=squared_hinge, clf__shuffle=True ..........\n",
      "[CV] clf__C=0.1, clf__loss=squared_hinge, clf__shuffle=True ..........\n",
      "[CV] ... clf__C=0.1, clf__loss=hinge, clf__shuffle=True, total=   6.1s\n",
      "[CV] clf__C=0.1, clf__loss=squared_hinge, clf__shuffle=False .........\n",
      "[CV] ... clf__C=0.1, clf__loss=hinge, clf__shuffle=True, total=   6.3s\n",
      "[CV] clf__C=0.1, clf__loss=squared_hinge, clf__shuffle=False .........\n",
      "[CV] .. clf__C=0.1, clf__loss=hinge, clf__shuffle=False, total=   6.5s\n",
      "[CV] .. clf__C=0.1, clf__loss=hinge, clf__shuffle=False, total=   6.3s\n",
      "[CV] .. clf__C=0.1, clf__loss=hinge, clf__shuffle=False, total=   6.2s\n",
      "[CV] clf__C=0.1, clf__loss=squared_hinge, clf__shuffle=False .........\n",
      "[CV] clf__C=0.1, clf__loss=squared_hinge, clf__shuffle=False .........\n",
      "[CV] clf__C=0.1, clf__loss=squared_hinge, clf__shuffle=False .........\n",
      "[CV] .. clf__C=0.1, clf__loss=hinge, clf__shuffle=False, total=   6.5s\n",
      "[CV]  clf__C=0.1, clf__loss=squared_hinge, clf__shuffle=True, total=   6.5s\n",
      "[CV] clf__C=0.5, clf__loss=hinge, clf__shuffle=True ..................\n",
      "[CV] .. clf__C=0.1, clf__loss=hinge, clf__shuffle=False, total=   6.7s\n",
      "[CV] clf__C=0.5, clf__loss=hinge, clf__shuffle=True ..................\n",
      "[CV]  clf__C=0.1, clf__loss=squared_hinge, clf__shuffle=True, total=   6.4s\n",
      "[CV] clf__C=0.5, clf__loss=hinge, clf__shuffle=True ..................\n",
      "[CV] clf__C=0.5, clf__loss=hinge, clf__shuffle=True ..................\n"
     ]
    },
    {
     "name": "stderr",
     "output_type": "stream",
     "text": [
      "/usr/lib/python3.6/site-packages/sklearn/linear_model/stochastic_gradient.py:128: FutureWarning: max_iter and tol parameters have been added in <class 'sklearn.linear_model.passive_aggressive.PassiveAggressiveClassifier'> in 0.19. If both are left unset, they default to max_iter=5 and tol=None. If tol is not None, max_iter defaults to max_iter=1000. From 0.21, default max_iter will be 1000, and default tol will be 1e-3.\n",
      "  \"and default tol will be 1e-3.\" % type(self), FutureWarning)\n",
      "/usr/lib/python3.6/site-packages/sklearn/linear_model/stochastic_gradient.py:128: FutureWarning: max_iter and tol parameters have been added in <class 'sklearn.linear_model.passive_aggressive.PassiveAggressiveClassifier'> in 0.19. If both are left unset, they default to max_iter=5 and tol=None. If tol is not None, max_iter defaults to max_iter=1000. From 0.21, default max_iter will be 1000, and default tol will be 1e-3.\n",
      "  \"and default tol will be 1e-3.\" % type(self), FutureWarning)\n",
      "/usr/lib/python3.6/site-packages/sklearn/linear_model/stochastic_gradient.py:128: FutureWarning: max_iter and tol parameters have been added in <class 'sklearn.linear_model.passive_aggressive.PassiveAggressiveClassifier'> in 0.19. If both are left unset, they default to max_iter=5 and tol=None. If tol is not None, max_iter defaults to max_iter=1000. From 0.21, default max_iter will be 1000, and default tol will be 1e-3.\n",
      "  \"and default tol will be 1e-3.\" % type(self), FutureWarning)\n",
      "/usr/lib/python3.6/site-packages/sklearn/linear_model/stochastic_gradient.py:128: FutureWarning: max_iter and tol parameters have been added in <class 'sklearn.linear_model.passive_aggressive.PassiveAggressiveClassifier'> in 0.19. If both are left unset, they default to max_iter=5 and tol=None. If tol is not None, max_iter defaults to max_iter=1000. From 0.21, default max_iter will be 1000, and default tol will be 1e-3.\n",
      "  \"and default tol will be 1e-3.\" % type(self), FutureWarning)\n",
      "/usr/lib/python3.6/site-packages/sklearn/linear_model/stochastic_gradient.py:128: FutureWarning: max_iter and tol parameters have been added in <class 'sklearn.linear_model.passive_aggressive.PassiveAggressiveClassifier'> in 0.19. If both are left unset, they default to max_iter=5 and tol=None. If tol is not None, max_iter defaults to max_iter=1000. From 0.21, default max_iter will be 1000, and default tol will be 1e-3.\n",
      "  \"and default tol will be 1e-3.\" % type(self), FutureWarning)\n",
      "/usr/lib/python3.6/site-packages/sklearn/linear_model/stochastic_gradient.py:128: FutureWarning: max_iter and tol parameters have been added in <class 'sklearn.linear_model.passive_aggressive.PassiveAggressiveClassifier'> in 0.19. If both are left unset, they default to max_iter=5 and tol=None. If tol is not None, max_iter defaults to max_iter=1000. From 0.21, default max_iter will be 1000, and default tol will be 1e-3.\n",
      "  \"and default tol will be 1e-3.\" % type(self), FutureWarning)\n",
      "/usr/lib/python3.6/site-packages/sklearn/linear_model/stochastic_gradient.py:128: FutureWarning: max_iter and tol parameters have been added in <class 'sklearn.linear_model.passive_aggressive.PassiveAggressiveClassifier'> in 0.19. If both are left unset, they default to max_iter=5 and tol=None. If tol is not None, max_iter defaults to max_iter=1000. From 0.21, default max_iter will be 1000, and default tol will be 1e-3.\n",
      "  \"and default tol will be 1e-3.\" % type(self), FutureWarning)\n",
      "/usr/lib/python3.6/site-packages/sklearn/linear_model/stochastic_gradient.py:128: FutureWarning: max_iter and tol parameters have been added in <class 'sklearn.linear_model.passive_aggressive.PassiveAggressiveClassifier'> in 0.19. If both are left unset, they default to max_iter=5 and tol=None. If tol is not None, max_iter defaults to max_iter=1000. From 0.21, default max_iter will be 1000, and default tol will be 1e-3.\n",
      "  \"and default tol will be 1e-3.\" % type(self), FutureWarning)\n",
      "/usr/lib/python3.6/site-packages/sklearn/linear_model/stochastic_gradient.py:128: FutureWarning: max_iter and tol parameters have been added in <class 'sklearn.linear_model.passive_aggressive.PassiveAggressiveClassifier'> in 0.19. If both are left unset, they default to max_iter=5 and tol=None. If tol is not None, max_iter defaults to max_iter=1000. From 0.21, default max_iter will be 1000, and default tol will be 1e-3.\n",
      "  \"and default tol will be 1e-3.\" % type(self), FutureWarning)\n",
      "/usr/lib/python3.6/site-packages/sklearn/linear_model/stochastic_gradient.py:128: FutureWarning: max_iter and tol parameters have been added in <class 'sklearn.linear_model.passive_aggressive.PassiveAggressiveClassifier'> in 0.19. If both are left unset, they default to max_iter=5 and tol=None. If tol is not None, max_iter defaults to max_iter=1000. From 0.21, default max_iter will be 1000, and default tol will be 1e-3.\n",
      "  \"and default tol will be 1e-3.\" % type(self), FutureWarning)\n",
      "/usr/lib/python3.6/site-packages/sklearn/linear_model/stochastic_gradient.py:128: FutureWarning: max_iter and tol parameters have been added in <class 'sklearn.linear_model.passive_aggressive.PassiveAggressiveClassifier'> in 0.19. If both are left unset, they default to max_iter=5 and tol=None. If tol is not None, max_iter defaults to max_iter=1000. From 0.21, default max_iter will be 1000, and default tol will be 1e-3.\n",
      "  \"and default tol will be 1e-3.\" % type(self), FutureWarning)\n",
      "/usr/lib/python3.6/site-packages/sklearn/linear_model/stochastic_gradient.py:128: FutureWarning: max_iter and tol parameters have been added in <class 'sklearn.linear_model.passive_aggressive.PassiveAggressiveClassifier'> in 0.19. If both are left unset, they default to max_iter=5 and tol=None. If tol is not None, max_iter defaults to max_iter=1000. From 0.21, default max_iter will be 1000, and default tol will be 1e-3.\n",
      "  \"and default tol will be 1e-3.\" % type(self), FutureWarning)\n"
     ]
    },
    {
     "name": "stdout",
     "output_type": "stream",
     "text": [
      "[CV]  clf__C=0.1, clf__loss=squared_hinge, clf__shuffle=True, total=   6.4s\n",
      "[CV]  clf__C=0.1, clf__loss=squared_hinge, clf__shuffle=True, total=   6.5s\n",
      "[CV] clf__C=0.5, clf__loss=hinge, clf__shuffle=True ..................\n",
      "[CV] clf__C=0.5, clf__loss=hinge, clf__shuffle=False .................\n",
      "[CV]  clf__C=0.1, clf__loss=squared_hinge, clf__shuffle=True, total=   6.6s\n",
      "[CV] clf__C=0.5, clf__loss=hinge, clf__shuffle=False .................\n",
      "[CV]  clf__C=0.1, clf__loss=squared_hinge, clf__shuffle=False, total=   6.5s\n",
      "[CV] clf__C=0.5, clf__loss=hinge, clf__shuffle=False .................\n",
      "[CV]  clf__C=0.1, clf__loss=squared_hinge, clf__shuffle=False, total=   6.7s\n"
     ]
    },
    {
     "name": "stderr",
     "output_type": "stream",
     "text": [
      "[Parallel(n_jobs=-1)]: Done  17 tasks      | elapsed:   28.0s\n"
     ]
    },
    {
     "name": "stdout",
     "output_type": "stream",
     "text": [
      "[CV] clf__C=0.5, clf__loss=hinge, clf__shuffle=False .................\n",
      "[CV]  clf__C=0.1, clf__loss=squared_hinge, clf__shuffle=False, total=   6.4s\n",
      "[CV]  clf__C=0.1, clf__loss=squared_hinge, clf__shuffle=False, total=   7.1s\n",
      "[CV] clf__C=0.5, clf__loss=hinge, clf__shuffle=False .................\n",
      "[CV] ... clf__C=0.5, clf__loss=hinge, clf__shuffle=True, total=   6.0s\n",
      "[CV] clf__C=0.5, clf__loss=squared_hinge, clf__shuffle=True ..........\n",
      "[CV]  clf__C=0.1, clf__loss=squared_hinge, clf__shuffle=False, total=   7.0s\n",
      "[CV] ... clf__C=0.5, clf__loss=hinge, clf__shuffle=True, total=   6.6s\n",
      "[CV] ... clf__C=0.5, clf__loss=hinge, clf__shuffle=True, total=   6.3s\n",
      "[CV] clf__C=0.5, clf__loss=squared_hinge, clf__shuffle=True ..........\n",
      "[CV] clf__C=0.5, clf__loss=squared_hinge, clf__shuffle=True ..........\n",
      "[CV] ... clf__C=0.5, clf__loss=hinge, clf__shuffle=True, total=   6.1s\n",
      "[CV] clf__C=0.5, clf__loss=squared_hinge, clf__shuffle=True ..........\n",
      "[CV] clf__C=0.5, clf__loss=squared_hinge, clf__shuffle=True ..........\n",
      "[CV] clf__C=0.5, clf__loss=squared_hinge, clf__shuffle=False .........\n"
     ]
    },
    {
     "name": "stderr",
     "output_type": "stream",
     "text": [
      "/usr/lib/python3.6/site-packages/sklearn/linear_model/stochastic_gradient.py:128: FutureWarning: max_iter and tol parameters have been added in <class 'sklearn.linear_model.passive_aggressive.PassiveAggressiveClassifier'> in 0.19. If both are left unset, they default to max_iter=5 and tol=None. If tol is not None, max_iter defaults to max_iter=1000. From 0.21, default max_iter will be 1000, and default tol will be 1e-3.\n",
      "  \"and default tol will be 1e-3.\" % type(self), FutureWarning)\n",
      "/usr/lib/python3.6/site-packages/sklearn/linear_model/stochastic_gradient.py:128: FutureWarning: max_iter and tol parameters have been added in <class 'sklearn.linear_model.passive_aggressive.PassiveAggressiveClassifier'> in 0.19. If both are left unset, they default to max_iter=5 and tol=None. If tol is not None, max_iter defaults to max_iter=1000. From 0.21, default max_iter will be 1000, and default tol will be 1e-3.\n",
      "  \"and default tol will be 1e-3.\" % type(self), FutureWarning)\n",
      "/usr/lib/python3.6/site-packages/sklearn/linear_model/stochastic_gradient.py:128: FutureWarning: max_iter and tol parameters have been added in <class 'sklearn.linear_model.passive_aggressive.PassiveAggressiveClassifier'> in 0.19. If both are left unset, they default to max_iter=5 and tol=None. If tol is not None, max_iter defaults to max_iter=1000. From 0.21, default max_iter will be 1000, and default tol will be 1e-3.\n",
      "  \"and default tol will be 1e-3.\" % type(self), FutureWarning)\n",
      "/usr/lib/python3.6/site-packages/sklearn/linear_model/stochastic_gradient.py:128: FutureWarning: max_iter and tol parameters have been added in <class 'sklearn.linear_model.passive_aggressive.PassiveAggressiveClassifier'> in 0.19. If both are left unset, they default to max_iter=5 and tol=None. If tol is not None, max_iter defaults to max_iter=1000. From 0.21, default max_iter will be 1000, and default tol will be 1e-3.\n",
      "  \"and default tol will be 1e-3.\" % type(self), FutureWarning)\n",
      "/usr/lib/python3.6/site-packages/sklearn/linear_model/stochastic_gradient.py:128: FutureWarning: max_iter and tol parameters have been added in <class 'sklearn.linear_model.passive_aggressive.PassiveAggressiveClassifier'> in 0.19. If both are left unset, they default to max_iter=5 and tol=None. If tol is not None, max_iter defaults to max_iter=1000. From 0.21, default max_iter will be 1000, and default tol will be 1e-3.\n",
      "  \"and default tol will be 1e-3.\" % type(self), FutureWarning)\n",
      "/usr/lib/python3.6/site-packages/sklearn/linear_model/stochastic_gradient.py:128: FutureWarning: max_iter and tol parameters have been added in <class 'sklearn.linear_model.passive_aggressive.PassiveAggressiveClassifier'> in 0.19. If both are left unset, they default to max_iter=5 and tol=None. If tol is not None, max_iter defaults to max_iter=1000. From 0.21, default max_iter will be 1000, and default tol will be 1e-3.\n",
      "  \"and default tol will be 1e-3.\" % type(self), FutureWarning)\n",
      "/usr/lib/python3.6/site-packages/sklearn/linear_model/stochastic_gradient.py:128: FutureWarning: max_iter and tol parameters have been added in <class 'sklearn.linear_model.passive_aggressive.PassiveAggressiveClassifier'> in 0.19. If both are left unset, they default to max_iter=5 and tol=None. If tol is not None, max_iter defaults to max_iter=1000. From 0.21, default max_iter will be 1000, and default tol will be 1e-3.\n",
      "  \"and default tol will be 1e-3.\" % type(self), FutureWarning)\n",
      "/usr/lib/python3.6/site-packages/sklearn/linear_model/stochastic_gradient.py:128: FutureWarning: max_iter and tol parameters have been added in <class 'sklearn.linear_model.passive_aggressive.PassiveAggressiveClassifier'> in 0.19. If both are left unset, they default to max_iter=5 and tol=None. If tol is not None, max_iter defaults to max_iter=1000. From 0.21, default max_iter will be 1000, and default tol will be 1e-3.\n",
      "  \"and default tol will be 1e-3.\" % type(self), FutureWarning)\n",
      "/usr/lib/python3.6/site-packages/sklearn/linear_model/stochastic_gradient.py:128: FutureWarning: max_iter and tol parameters have been added in <class 'sklearn.linear_model.passive_aggressive.PassiveAggressiveClassifier'> in 0.19. If both are left unset, they default to max_iter=5 and tol=None. If tol is not None, max_iter defaults to max_iter=1000. From 0.21, default max_iter will be 1000, and default tol will be 1e-3.\n",
      "  \"and default tol will be 1e-3.\" % type(self), FutureWarning)\n",
      "/usr/lib/python3.6/site-packages/sklearn/linear_model/stochastic_gradient.py:128: FutureWarning: max_iter and tol parameters have been added in <class 'sklearn.linear_model.passive_aggressive.PassiveAggressiveClassifier'> in 0.19. If both are left unset, they default to max_iter=5 and tol=None. If tol is not None, max_iter defaults to max_iter=1000. From 0.21, default max_iter will be 1000, and default tol will be 1e-3.\n",
      "  \"and default tol will be 1e-3.\" % type(self), FutureWarning)\n",
      "/usr/lib/python3.6/site-packages/sklearn/linear_model/stochastic_gradient.py:128: FutureWarning: max_iter and tol parameters have been added in <class 'sklearn.linear_model.passive_aggressive.PassiveAggressiveClassifier'> in 0.19. If both are left unset, they default to max_iter=5 and tol=None. If tol is not None, max_iter defaults to max_iter=1000. From 0.21, default max_iter will be 1000, and default tol will be 1e-3.\n",
      "  \"and default tol will be 1e-3.\" % type(self), FutureWarning)\n",
      "/usr/lib/python3.6/site-packages/sklearn/linear_model/stochastic_gradient.py:128: FutureWarning: max_iter and tol parameters have been added in <class 'sklearn.linear_model.passive_aggressive.PassiveAggressiveClassifier'> in 0.19. If both are left unset, they default to max_iter=5 and tol=None. If tol is not None, max_iter defaults to max_iter=1000. From 0.21, default max_iter will be 1000, and default tol will be 1e-3.\n",
      "  \"and default tol will be 1e-3.\" % type(self), FutureWarning)\n"
     ]
    },
    {
     "name": "stdout",
     "output_type": "stream",
     "text": [
      "[CV] .. clf__C=0.5, clf__loss=hinge, clf__shuffle=False, total=   6.1s\n",
      "[CV] clf__C=0.5, clf__loss=squared_hinge, clf__shuffle=False .........\n",
      "[CV] ... clf__C=0.5, clf__loss=hinge, clf__shuffle=True, total=   6.4s\n",
      "[CV] .. clf__C=0.5, clf__loss=hinge, clf__shuffle=False, total=   6.4s\n",
      "[CV] clf__C=0.5, clf__loss=squared_hinge, clf__shuffle=False .........\n",
      "[CV] .. clf__C=0.5, clf__loss=hinge, clf__shuffle=False, total=   6.7s\n",
      "[CV] clf__C=0.5, clf__loss=squared_hinge, clf__shuffle=False .........\n",
      "[CV] clf__C=0.5, clf__loss=squared_hinge, clf__shuffle=False .........\n",
      "[CV] .. clf__C=0.5, clf__loss=hinge, clf__shuffle=False, total=   6.2s\n",
      "[CV] .. clf__C=0.5, clf__loss=hinge, clf__shuffle=False, total=   7.0s\n",
      "[CV] clf__C=1.0, clf__loss=hinge, clf__shuffle=True ..................\n",
      "[CV]  clf__C=0.5, clf__loss=squared_hinge, clf__shuffle=True, total=   6.5s\n",
      "[CV] clf__C=1.0, clf__loss=hinge, clf__shuffle=True ..................\n",
      "[CV]  clf__C=0.5, clf__loss=squared_hinge, clf__shuffle=True, total=   6.5s\n",
      "[CV]  clf__C=0.5, clf__loss=squared_hinge, clf__shuffle=True, total=   6.2s\n",
      "[CV] clf__C=1.0, clf__loss=hinge, clf__shuffle=True ..................\n",
      "[CV]  clf__C=0.5, clf__loss=squared_hinge, clf__shuffle=True, total=   6.1s\n",
      "[CV] clf__C=1.0, clf__loss=hinge, clf__shuffle=True ..................\n",
      "[CV]  clf__C=0.5, clf__loss=squared_hinge, clf__shuffle=True, total=   6.5s\n",
      "[CV] clf__C=1.0, clf__loss=hinge, clf__shuffle=True ..................\n",
      "[CV]  clf__C=0.5, clf__loss=squared_hinge, clf__shuffle=False, total=   6.4s\n",
      "[CV] clf__C=1.0, clf__loss=hinge, clf__shuffle=False .................\n",
      "[CV] clf__C=1.0, clf__loss=hinge, clf__shuffle=False .................\n",
      "[CV] clf__C=1.0, clf__loss=hinge, clf__shuffle=False .................\n"
     ]
    },
    {
     "name": "stderr",
     "output_type": "stream",
     "text": [
      "/usr/lib/python3.6/site-packages/sklearn/linear_model/stochastic_gradient.py:128: FutureWarning: max_iter and tol parameters have been added in <class 'sklearn.linear_model.passive_aggressive.PassiveAggressiveClassifier'> in 0.19. If both are left unset, they default to max_iter=5 and tol=None. If tol is not None, max_iter defaults to max_iter=1000. From 0.21, default max_iter will be 1000, and default tol will be 1e-3.\n",
      "  \"and default tol will be 1e-3.\" % type(self), FutureWarning)\n",
      "/usr/lib/python3.6/site-packages/sklearn/linear_model/stochastic_gradient.py:128: FutureWarning: max_iter and tol parameters have been added in <class 'sklearn.linear_model.passive_aggressive.PassiveAggressiveClassifier'> in 0.19. If both are left unset, they default to max_iter=5 and tol=None. If tol is not None, max_iter defaults to max_iter=1000. From 0.21, default max_iter will be 1000, and default tol will be 1e-3.\n",
      "  \"and default tol will be 1e-3.\" % type(self), FutureWarning)\n",
      "/usr/lib/python3.6/site-packages/sklearn/linear_model/stochastic_gradient.py:128: FutureWarning: max_iter and tol parameters have been added in <class 'sklearn.linear_model.passive_aggressive.PassiveAggressiveClassifier'> in 0.19. If both are left unset, they default to max_iter=5 and tol=None. If tol is not None, max_iter defaults to max_iter=1000. From 0.21, default max_iter will be 1000, and default tol will be 1e-3.\n",
      "  \"and default tol will be 1e-3.\" % type(self), FutureWarning)\n",
      "/usr/lib/python3.6/site-packages/sklearn/linear_model/stochastic_gradient.py:128: FutureWarning: max_iter and tol parameters have been added in <class 'sklearn.linear_model.passive_aggressive.PassiveAggressiveClassifier'> in 0.19. If both are left unset, they default to max_iter=5 and tol=None. If tol is not None, max_iter defaults to max_iter=1000. From 0.21, default max_iter will be 1000, and default tol will be 1e-3.\n",
      "  \"and default tol will be 1e-3.\" % type(self), FutureWarning)\n",
      "/usr/lib/python3.6/site-packages/sklearn/linear_model/stochastic_gradient.py:128: FutureWarning: max_iter and tol parameters have been added in <class 'sklearn.linear_model.passive_aggressive.PassiveAggressiveClassifier'> in 0.19. If both are left unset, they default to max_iter=5 and tol=None. If tol is not None, max_iter defaults to max_iter=1000. From 0.21, default max_iter will be 1000, and default tol will be 1e-3.\n",
      "  \"and default tol will be 1e-3.\" % type(self), FutureWarning)\n",
      "/usr/lib/python3.6/site-packages/sklearn/linear_model/stochastic_gradient.py:128: FutureWarning: max_iter and tol parameters have been added in <class 'sklearn.linear_model.passive_aggressive.PassiveAggressiveClassifier'> in 0.19. If both are left unset, they default to max_iter=5 and tol=None. If tol is not None, max_iter defaults to max_iter=1000. From 0.21, default max_iter will be 1000, and default tol will be 1e-3.\n",
      "  \"and default tol will be 1e-3.\" % type(self), FutureWarning)\n",
      "/usr/lib/python3.6/site-packages/sklearn/linear_model/stochastic_gradient.py:128: FutureWarning: max_iter and tol parameters have been added in <class 'sklearn.linear_model.passive_aggressive.PassiveAggressiveClassifier'> in 0.19. If both are left unset, they default to max_iter=5 and tol=None. If tol is not None, max_iter defaults to max_iter=1000. From 0.21, default max_iter will be 1000, and default tol will be 1e-3.\n",
      "  \"and default tol will be 1e-3.\" % type(self), FutureWarning)\n",
      "/usr/lib/python3.6/site-packages/sklearn/linear_model/stochastic_gradient.py:128: FutureWarning: max_iter and tol parameters have been added in <class 'sklearn.linear_model.passive_aggressive.PassiveAggressiveClassifier'> in 0.19. If both are left unset, they default to max_iter=5 and tol=None. If tol is not None, max_iter defaults to max_iter=1000. From 0.21, default max_iter will be 1000, and default tol will be 1e-3.\n",
      "  \"and default tol will be 1e-3.\" % type(self), FutureWarning)\n",
      "/usr/lib/python3.6/site-packages/sklearn/linear_model/stochastic_gradient.py:128: FutureWarning: max_iter and tol parameters have been added in <class 'sklearn.linear_model.passive_aggressive.PassiveAggressiveClassifier'> in 0.19. If both are left unset, they default to max_iter=5 and tol=None. If tol is not None, max_iter defaults to max_iter=1000. From 0.21, default max_iter will be 1000, and default tol will be 1e-3.\n",
      "  \"and default tol will be 1e-3.\" % type(self), FutureWarning)\n",
      "/usr/lib/python3.6/site-packages/sklearn/linear_model/stochastic_gradient.py:128: FutureWarning: max_iter and tol parameters have been added in <class 'sklearn.linear_model.passive_aggressive.PassiveAggressiveClassifier'> in 0.19. If both are left unset, they default to max_iter=5 and tol=None. If tol is not None, max_iter defaults to max_iter=1000. From 0.21, default max_iter will be 1000, and default tol will be 1e-3.\n",
      "  \"and default tol will be 1e-3.\" % type(self), FutureWarning)\n",
      "/usr/lib/python3.6/site-packages/sklearn/linear_model/stochastic_gradient.py:128: FutureWarning: max_iter and tol parameters have been added in <class 'sklearn.linear_model.passive_aggressive.PassiveAggressiveClassifier'> in 0.19. If both are left unset, they default to max_iter=5 and tol=None. If tol is not None, max_iter defaults to max_iter=1000. From 0.21, default max_iter will be 1000, and default tol will be 1e-3.\n",
      "  \"and default tol will be 1e-3.\" % type(self), FutureWarning)\n",
      "/usr/lib/python3.6/site-packages/sklearn/linear_model/stochastic_gradient.py:128: FutureWarning: max_iter and tol parameters have been added in <class 'sklearn.linear_model.passive_aggressive.PassiveAggressiveClassifier'> in 0.19. If both are left unset, they default to max_iter=5 and tol=None. If tol is not None, max_iter defaults to max_iter=1000. From 0.21, default max_iter will be 1000, and default tol will be 1e-3.\n",
      "  \"and default tol will be 1e-3.\" % type(self), FutureWarning)\n"
     ]
    },
    {
     "name": "stdout",
     "output_type": "stream",
     "text": [
      "[CV]  clf__C=0.5, clf__loss=squared_hinge, clf__shuffle=False, total=   6.3s\n",
      "[CV]  clf__C=0.5, clf__loss=squared_hinge, clf__shuffle=False, total=   5.9s\n",
      "[CV]  clf__C=0.5, clf__loss=squared_hinge, clf__shuffle=False, total=   6.2s\n",
      "[CV] clf__C=1.0, clf__loss=hinge, clf__shuffle=False .................\n",
      "[CV] clf__C=1.0, clf__loss=hinge, clf__shuffle=False .................\n",
      "[CV] clf__C=1.0, clf__loss=squared_hinge, clf__shuffle=True ..........\n",
      "[CV]  clf__C=0.5, clf__loss=squared_hinge, clf__shuffle=False, total=   6.6s\n",
      "[CV] ... clf__C=1.0, clf__loss=hinge, clf__shuffle=True, total=   6.2s\n",
      "[CV] clf__C=1.0, clf__loss=squared_hinge, clf__shuffle=True ..........\n",
      "[CV] ... clf__C=1.0, clf__loss=hinge, clf__shuffle=True, total=   6.3s\n",
      "[CV] ... clf__C=1.0, clf__loss=hinge, clf__shuffle=True, total=   6.0s\n",
      "[CV] clf__C=1.0, clf__loss=squared_hinge, clf__shuffle=True ..........\n",
      "[CV] clf__C=1.0, clf__loss=squared_hinge, clf__shuffle=True ..........\n",
      "[CV] .. clf__C=1.0, clf__loss=hinge, clf__shuffle=False, total=   5.8s\n",
      "[CV] clf__C=1.0, clf__loss=squared_hinge, clf__shuffle=True ..........\n",
      "[CV] ... clf__C=1.0, clf__loss=hinge, clf__shuffle=True, total=   6.5s\n",
      "[CV] ... clf__C=1.0, clf__loss=hinge, clf__shuffle=True, total=   6.1s\n",
      "[CV] .. clf__C=1.0, clf__loss=hinge, clf__shuffle=False, total=   6.2s\n",
      "[CV] clf__C=1.0, clf__loss=squared_hinge, clf__shuffle=False .........\n",
      "[CV] clf__C=1.0, clf__loss=squared_hinge, clf__shuffle=False .........\n",
      "[CV] clf__C=1.0, clf__loss=squared_hinge, clf__shuffle=False .........\n",
      "[CV] .. clf__C=1.0, clf__loss=hinge, clf__shuffle=False, total=   6.3s\n",
      "[CV] clf__C=1.0, clf__loss=squared_hinge, clf__shuffle=False .........\n",
      "[CV] clf__C=1.0, clf__loss=squared_hinge, clf__shuffle=False .........\n"
     ]
    },
    {
     "name": "stderr",
     "output_type": "stream",
     "text": [
      "/usr/lib/python3.6/site-packages/sklearn/linear_model/stochastic_gradient.py:128: FutureWarning: max_iter and tol parameters have been added in <class 'sklearn.linear_model.passive_aggressive.PassiveAggressiveClassifier'> in 0.19. If both are left unset, they default to max_iter=5 and tol=None. If tol is not None, max_iter defaults to max_iter=1000. From 0.21, default max_iter will be 1000, and default tol will be 1e-3.\n",
      "  \"and default tol will be 1e-3.\" % type(self), FutureWarning)\n",
      "/usr/lib/python3.6/site-packages/sklearn/linear_model/stochastic_gradient.py:128: FutureWarning: max_iter and tol parameters have been added in <class 'sklearn.linear_model.passive_aggressive.PassiveAggressiveClassifier'> in 0.19. If both are left unset, they default to max_iter=5 and tol=None. If tol is not None, max_iter defaults to max_iter=1000. From 0.21, default max_iter will be 1000, and default tol will be 1e-3.\n",
      "  \"and default tol will be 1e-3.\" % type(self), FutureWarning)\n",
      "/usr/lib/python3.6/site-packages/sklearn/linear_model/stochastic_gradient.py:128: FutureWarning: max_iter and tol parameters have been added in <class 'sklearn.linear_model.passive_aggressive.PassiveAggressiveClassifier'> in 0.19. If both are left unset, they default to max_iter=5 and tol=None. If tol is not None, max_iter defaults to max_iter=1000. From 0.21, default max_iter will be 1000, and default tol will be 1e-3.\n",
      "  \"and default tol will be 1e-3.\" % type(self), FutureWarning)\n",
      "/usr/lib/python3.6/site-packages/sklearn/linear_model/stochastic_gradient.py:128: FutureWarning: max_iter and tol parameters have been added in <class 'sklearn.linear_model.passive_aggressive.PassiveAggressiveClassifier'> in 0.19. If both are left unset, they default to max_iter=5 and tol=None. If tol is not None, max_iter defaults to max_iter=1000. From 0.21, default max_iter will be 1000, and default tol will be 1e-3.\n",
      "  \"and default tol will be 1e-3.\" % type(self), FutureWarning)\n",
      "/usr/lib/python3.6/site-packages/sklearn/linear_model/stochastic_gradient.py:128: FutureWarning: max_iter and tol parameters have been added in <class 'sklearn.linear_model.passive_aggressive.PassiveAggressiveClassifier'> in 0.19. If both are left unset, they default to max_iter=5 and tol=None. If tol is not None, max_iter defaults to max_iter=1000. From 0.21, default max_iter will be 1000, and default tol will be 1e-3.\n",
      "  \"and default tol will be 1e-3.\" % type(self), FutureWarning)\n",
      "/usr/lib/python3.6/site-packages/sklearn/linear_model/stochastic_gradient.py:128: FutureWarning: max_iter and tol parameters have been added in <class 'sklearn.linear_model.passive_aggressive.PassiveAggressiveClassifier'> in 0.19. If both are left unset, they default to max_iter=5 and tol=None. If tol is not None, max_iter defaults to max_iter=1000. From 0.21, default max_iter will be 1000, and default tol will be 1e-3.\n",
      "  \"and default tol will be 1e-3.\" % type(self), FutureWarning)\n",
      "/usr/lib/python3.6/site-packages/sklearn/linear_model/stochastic_gradient.py:128: FutureWarning: max_iter and tol parameters have been added in <class 'sklearn.linear_model.passive_aggressive.PassiveAggressiveClassifier'> in 0.19. If both are left unset, they default to max_iter=5 and tol=None. If tol is not None, max_iter defaults to max_iter=1000. From 0.21, default max_iter will be 1000, and default tol will be 1e-3.\n",
      "  \"and default tol will be 1e-3.\" % type(self), FutureWarning)\n",
      "/usr/lib/python3.6/site-packages/sklearn/linear_model/stochastic_gradient.py:128: FutureWarning: max_iter and tol parameters have been added in <class 'sklearn.linear_model.passive_aggressive.PassiveAggressiveClassifier'> in 0.19. If both are left unset, they default to max_iter=5 and tol=None. If tol is not None, max_iter defaults to max_iter=1000. From 0.21, default max_iter will be 1000, and default tol will be 1e-3.\n",
      "  \"and default tol will be 1e-3.\" % type(self), FutureWarning)\n",
      "/usr/lib/python3.6/site-packages/sklearn/linear_model/stochastic_gradient.py:128: FutureWarning: max_iter and tol parameters have been added in <class 'sklearn.linear_model.passive_aggressive.PassiveAggressiveClassifier'> in 0.19. If both are left unset, they default to max_iter=5 and tol=None. If tol is not None, max_iter defaults to max_iter=1000. From 0.21, default max_iter will be 1000, and default tol will be 1e-3.\n",
      "  \"and default tol will be 1e-3.\" % type(self), FutureWarning)\n",
      "/usr/lib/python3.6/site-packages/sklearn/linear_model/stochastic_gradient.py:128: FutureWarning: max_iter and tol parameters have been added in <class 'sklearn.linear_model.passive_aggressive.PassiveAggressiveClassifier'> in 0.19. If both are left unset, they default to max_iter=5 and tol=None. If tol is not None, max_iter defaults to max_iter=1000. From 0.21, default max_iter will be 1000, and default tol will be 1e-3.\n",
      "  \"and default tol will be 1e-3.\" % type(self), FutureWarning)\n",
      "/usr/lib/python3.6/site-packages/sklearn/linear_model/stochastic_gradient.py:128: FutureWarning: max_iter and tol parameters have been added in <class 'sklearn.linear_model.passive_aggressive.PassiveAggressiveClassifier'> in 0.19. If both are left unset, they default to max_iter=5 and tol=None. If tol is not None, max_iter defaults to max_iter=1000. From 0.21, default max_iter will be 1000, and default tol will be 1e-3.\n",
      "  \"and default tol will be 1e-3.\" % type(self), FutureWarning)\n",
      "/usr/lib/python3.6/site-packages/sklearn/linear_model/stochastic_gradient.py:128: FutureWarning: max_iter and tol parameters have been added in <class 'sklearn.linear_model.passive_aggressive.PassiveAggressiveClassifier'> in 0.19. If both are left unset, they default to max_iter=5 and tol=None. If tol is not None, max_iter defaults to max_iter=1000. From 0.21, default max_iter will be 1000, and default tol will be 1e-3.\n",
      "  \"and default tol will be 1e-3.\" % type(self), FutureWarning)\n"
     ]
    },
    {
     "name": "stdout",
     "output_type": "stream",
     "text": [
      "[CV] .. clf__C=1.0, clf__loss=hinge, clf__shuffle=False, total=   6.0s\n",
      "[CV] clf__C=1.5, clf__loss=hinge, clf__shuffle=True ..................\n",
      "[CV]  clf__C=1.0, clf__loss=squared_hinge, clf__shuffle=True, total=   6.2s\n",
      "[CV] .. clf__C=1.0, clf__loss=hinge, clf__shuffle=False, total=   6.6s\n",
      "[CV] clf__C=1.5, clf__loss=hinge, clf__shuffle=True ..................\n",
      "[CV] clf__C=1.5, clf__loss=hinge, clf__shuffle=True ..................\n",
      "[CV]  clf__C=1.0, clf__loss=squared_hinge, clf__shuffle=True, total=   6.3s\n",
      "[CV]  clf__C=1.0, clf__loss=squared_hinge, clf__shuffle=True, total=   6.3s\n",
      "[CV] clf__C=1.5, clf__loss=hinge, clf__shuffle=True ..................\n",
      "[CV] clf__C=1.5, clf__loss=hinge, clf__shuffle=True ..................\n",
      "[CV]  clf__C=1.0, clf__loss=squared_hinge, clf__shuffle=True, total=   6.2s\n",
      "[CV]  clf__C=1.0, clf__loss=squared_hinge, clf__shuffle=True, total=   6.7s\n",
      "[CV] clf__C=1.5, clf__loss=hinge, clf__shuffle=False .................\n",
      "[CV]  clf__C=1.0, clf__loss=squared_hinge, clf__shuffle=False, total=   6.2s\n",
      "[CV] clf__C=1.5, clf__loss=hinge, clf__shuffle=False .................\n",
      "[CV]  clf__C=1.0, clf__loss=squared_hinge, clf__shuffle=False, total=   6.2s\n",
      "[CV] clf__C=1.5, clf__loss=hinge, clf__shuffle=False .................\n",
      "[CV]  clf__C=1.0, clf__loss=squared_hinge, clf__shuffle=False, total=   6.3s\n",
      "[CV]  clf__C=1.0, clf__loss=squared_hinge, clf__shuffle=False, total=   6.6s\n",
      "[CV]  clf__C=1.0, clf__loss=squared_hinge, clf__shuffle=False, total=   6.0s\n",
      "[CV] clf__C=1.5, clf__loss=hinge, clf__shuffle=False .................\n",
      "[CV] clf__C=1.5, clf__loss=hinge, clf__shuffle=False .................\n",
      "[CV] clf__C=1.5, clf__loss=squared_hinge, clf__shuffle=True ..........\n",
      "[CV] clf__C=1.5, clf__loss=squared_hinge, clf__shuffle=True ..........\n"
     ]
    },
    {
     "name": "stderr",
     "output_type": "stream",
     "text": [
      "/usr/lib/python3.6/site-packages/sklearn/linear_model/stochastic_gradient.py:128: FutureWarning: max_iter and tol parameters have been added in <class 'sklearn.linear_model.passive_aggressive.PassiveAggressiveClassifier'> in 0.19. If both are left unset, they default to max_iter=5 and tol=None. If tol is not None, max_iter defaults to max_iter=1000. From 0.21, default max_iter will be 1000, and default tol will be 1e-3.\n",
      "  \"and default tol will be 1e-3.\" % type(self), FutureWarning)\n",
      "/usr/lib/python3.6/site-packages/sklearn/linear_model/stochastic_gradient.py:128: FutureWarning: max_iter and tol parameters have been added in <class 'sklearn.linear_model.passive_aggressive.PassiveAggressiveClassifier'> in 0.19. If both are left unset, they default to max_iter=5 and tol=None. If tol is not None, max_iter defaults to max_iter=1000. From 0.21, default max_iter will be 1000, and default tol will be 1e-3.\n",
      "  \"and default tol will be 1e-3.\" % type(self), FutureWarning)\n",
      "/usr/lib/python3.6/site-packages/sklearn/linear_model/stochastic_gradient.py:128: FutureWarning: max_iter and tol parameters have been added in <class 'sklearn.linear_model.passive_aggressive.PassiveAggressiveClassifier'> in 0.19. If both are left unset, they default to max_iter=5 and tol=None. If tol is not None, max_iter defaults to max_iter=1000. From 0.21, default max_iter will be 1000, and default tol will be 1e-3.\n",
      "  \"and default tol will be 1e-3.\" % type(self), FutureWarning)\n",
      "/usr/lib/python3.6/site-packages/sklearn/linear_model/stochastic_gradient.py:128: FutureWarning: max_iter and tol parameters have been added in <class 'sklearn.linear_model.passive_aggressive.PassiveAggressiveClassifier'> in 0.19. If both are left unset, they default to max_iter=5 and tol=None. If tol is not None, max_iter defaults to max_iter=1000. From 0.21, default max_iter will be 1000, and default tol will be 1e-3.\n",
      "  \"and default tol will be 1e-3.\" % type(self), FutureWarning)\n",
      "/usr/lib/python3.6/site-packages/sklearn/linear_model/stochastic_gradient.py:128: FutureWarning: max_iter and tol parameters have been added in <class 'sklearn.linear_model.passive_aggressive.PassiveAggressiveClassifier'> in 0.19. If both are left unset, they default to max_iter=5 and tol=None. If tol is not None, max_iter defaults to max_iter=1000. From 0.21, default max_iter will be 1000, and default tol will be 1e-3.\n",
      "  \"and default tol will be 1e-3.\" % type(self), FutureWarning)\n",
      "/usr/lib/python3.6/site-packages/sklearn/linear_model/stochastic_gradient.py:128: FutureWarning: max_iter and tol parameters have been added in <class 'sklearn.linear_model.passive_aggressive.PassiveAggressiveClassifier'> in 0.19. If both are left unset, they default to max_iter=5 and tol=None. If tol is not None, max_iter defaults to max_iter=1000. From 0.21, default max_iter will be 1000, and default tol will be 1e-3.\n",
      "  \"and default tol will be 1e-3.\" % type(self), FutureWarning)\n",
      "/usr/lib/python3.6/site-packages/sklearn/linear_model/stochastic_gradient.py:128: FutureWarning: max_iter and tol parameters have been added in <class 'sklearn.linear_model.passive_aggressive.PassiveAggressiveClassifier'> in 0.19. If both are left unset, they default to max_iter=5 and tol=None. If tol is not None, max_iter defaults to max_iter=1000. From 0.21, default max_iter will be 1000, and default tol will be 1e-3.\n",
      "  \"and default tol will be 1e-3.\" % type(self), FutureWarning)\n",
      "/usr/lib/python3.6/site-packages/sklearn/linear_model/stochastic_gradient.py:128: FutureWarning: max_iter and tol parameters have been added in <class 'sklearn.linear_model.passive_aggressive.PassiveAggressiveClassifier'> in 0.19. If both are left unset, they default to max_iter=5 and tol=None. If tol is not None, max_iter defaults to max_iter=1000. From 0.21, default max_iter will be 1000, and default tol will be 1e-3.\n",
      "  \"and default tol will be 1e-3.\" % type(self), FutureWarning)\n",
      "/usr/lib/python3.6/site-packages/sklearn/linear_model/stochastic_gradient.py:128: FutureWarning: max_iter and tol parameters have been added in <class 'sklearn.linear_model.passive_aggressive.PassiveAggressiveClassifier'> in 0.19. If both are left unset, they default to max_iter=5 and tol=None. If tol is not None, max_iter defaults to max_iter=1000. From 0.21, default max_iter will be 1000, and default tol will be 1e-3.\n",
      "  \"and default tol will be 1e-3.\" % type(self), FutureWarning)\n",
      "/usr/lib/python3.6/site-packages/sklearn/linear_model/stochastic_gradient.py:128: FutureWarning: max_iter and tol parameters have been added in <class 'sklearn.linear_model.passive_aggressive.PassiveAggressiveClassifier'> in 0.19. If both are left unset, they default to max_iter=5 and tol=None. If tol is not None, max_iter defaults to max_iter=1000. From 0.21, default max_iter will be 1000, and default tol will be 1e-3.\n",
      "  \"and default tol will be 1e-3.\" % type(self), FutureWarning)\n",
      "/usr/lib/python3.6/site-packages/sklearn/linear_model/stochastic_gradient.py:128: FutureWarning: max_iter and tol parameters have been added in <class 'sklearn.linear_model.passive_aggressive.PassiveAggressiveClassifier'> in 0.19. If both are left unset, they default to max_iter=5 and tol=None. If tol is not None, max_iter defaults to max_iter=1000. From 0.21, default max_iter will be 1000, and default tol will be 1e-3.\n",
      "  \"and default tol will be 1e-3.\" % type(self), FutureWarning)\n",
      "/usr/lib/python3.6/site-packages/sklearn/linear_model/stochastic_gradient.py:128: FutureWarning: max_iter and tol parameters have been added in <class 'sklearn.linear_model.passive_aggressive.PassiveAggressiveClassifier'> in 0.19. If both are left unset, they default to max_iter=5 and tol=None. If tol is not None, max_iter defaults to max_iter=1000. From 0.21, default max_iter will be 1000, and default tol will be 1e-3.\n",
      "  \"and default tol will be 1e-3.\" % type(self), FutureWarning)\n"
     ]
    },
    {
     "name": "stdout",
     "output_type": "stream",
     "text": [
      "[CV] ... clf__C=1.5, clf__loss=hinge, clf__shuffle=True, total=   6.1s\n",
      "[CV] clf__C=1.5, clf__loss=squared_hinge, clf__shuffle=True ..........\n",
      "[CV] ... clf__C=1.5, clf__loss=hinge, clf__shuffle=True, total=   6.4s\n",
      "[CV] ... clf__C=1.5, clf__loss=hinge, clf__shuffle=True, total=   6.3s\n",
      "[CV] clf__C=1.5, clf__loss=squared_hinge, clf__shuffle=True ..........\n",
      "[CV] clf__C=1.5, clf__loss=squared_hinge, clf__shuffle=True ..........\n",
      "[CV] ... clf__C=1.5, clf__loss=hinge, clf__shuffle=True, total=   6.3s\n",
      "[CV] ... clf__C=1.5, clf__loss=hinge, clf__shuffle=True, total=   6.5s\n",
      "[CV] clf__C=1.5, clf__loss=squared_hinge, clf__shuffle=False .........\n",
      "[CV] clf__C=1.5, clf__loss=squared_hinge, clf__shuffle=False .........\n",
      "[CV] .. clf__C=1.5, clf__loss=hinge, clf__shuffle=False, total=   6.7s\n",
      "[CV] .. clf__C=1.5, clf__loss=hinge, clf__shuffle=False, total=   6.7s\n",
      "[CV] .. clf__C=1.5, clf__loss=hinge, clf__shuffle=False, total=   6.1s\n",
      "[CV] clf__C=1.5, clf__loss=squared_hinge, clf__shuffle=False .........\n",
      "[CV] .. clf__C=1.5, clf__loss=hinge, clf__shuffle=False, total=   6.0s\n",
      "[CV] clf__C=1.5, clf__loss=squared_hinge, clf__shuffle=False .........\n",
      "[CV] clf__C=1.5, clf__loss=squared_hinge, clf__shuffle=False .........\n",
      "[CV] .. clf__C=1.5, clf__loss=hinge, clf__shuffle=False, total=   6.4s\n",
      "[CV]  clf__C=1.5, clf__loss=squared_hinge, clf__shuffle=True, total=   6.5s\n",
      "[CV]  clf__C=1.5, clf__loss=squared_hinge, clf__shuffle=True, total=   6.4s\n"
     ]
    },
    {
     "name": "stderr",
     "output_type": "stream",
     "text": [
      "/usr/lib/python3.6/site-packages/sklearn/linear_model/stochastic_gradient.py:128: FutureWarning: max_iter and tol parameters have been added in <class 'sklearn.linear_model.passive_aggressive.PassiveAggressiveClassifier'> in 0.19. If both are left unset, they default to max_iter=5 and tol=None. If tol is not None, max_iter defaults to max_iter=1000. From 0.21, default max_iter will be 1000, and default tol will be 1e-3.\n",
      "  \"and default tol will be 1e-3.\" % type(self), FutureWarning)\n",
      "/usr/lib/python3.6/site-packages/sklearn/linear_model/stochastic_gradient.py:128: FutureWarning: max_iter and tol parameters have been added in <class 'sklearn.linear_model.passive_aggressive.PassiveAggressiveClassifier'> in 0.19. If both are left unset, they default to max_iter=5 and tol=None. If tol is not None, max_iter defaults to max_iter=1000. From 0.21, default max_iter will be 1000, and default tol will be 1e-3.\n",
      "  \"and default tol will be 1e-3.\" % type(self), FutureWarning)\n",
      "/usr/lib/python3.6/site-packages/sklearn/linear_model/stochastic_gradient.py:128: FutureWarning: max_iter and tol parameters have been added in <class 'sklearn.linear_model.passive_aggressive.PassiveAggressiveClassifier'> in 0.19. If both are left unset, they default to max_iter=5 and tol=None. If tol is not None, max_iter defaults to max_iter=1000. From 0.21, default max_iter will be 1000, and default tol will be 1e-3.\n",
      "  \"and default tol will be 1e-3.\" % type(self), FutureWarning)\n",
      "/usr/lib/python3.6/site-packages/sklearn/linear_model/stochastic_gradient.py:128: FutureWarning: max_iter and tol parameters have been added in <class 'sklearn.linear_model.passive_aggressive.PassiveAggressiveClassifier'> in 0.19. If both are left unset, they default to max_iter=5 and tol=None. If tol is not None, max_iter defaults to max_iter=1000. From 0.21, default max_iter will be 1000, and default tol will be 1e-3.\n",
      "  \"and default tol will be 1e-3.\" % type(self), FutureWarning)\n",
      "/usr/lib/python3.6/site-packages/sklearn/linear_model/stochastic_gradient.py:128: FutureWarning: max_iter and tol parameters have been added in <class 'sklearn.linear_model.passive_aggressive.PassiveAggressiveClassifier'> in 0.19. If both are left unset, they default to max_iter=5 and tol=None. If tol is not None, max_iter defaults to max_iter=1000. From 0.21, default max_iter will be 1000, and default tol will be 1e-3.\n",
      "  \"and default tol will be 1e-3.\" % type(self), FutureWarning)\n",
      "/usr/lib/python3.6/site-packages/sklearn/linear_model/stochastic_gradient.py:128: FutureWarning: max_iter and tol parameters have been added in <class 'sklearn.linear_model.passive_aggressive.PassiveAggressiveClassifier'> in 0.19. If both are left unset, they default to max_iter=5 and tol=None. If tol is not None, max_iter defaults to max_iter=1000. From 0.21, default max_iter will be 1000, and default tol will be 1e-3.\n",
      "  \"and default tol will be 1e-3.\" % type(self), FutureWarning)\n",
      "/usr/lib/python3.6/site-packages/sklearn/linear_model/stochastic_gradient.py:128: FutureWarning: max_iter and tol parameters have been added in <class 'sklearn.linear_model.passive_aggressive.PassiveAggressiveClassifier'> in 0.19. If both are left unset, they default to max_iter=5 and tol=None. If tol is not None, max_iter defaults to max_iter=1000. From 0.21, default max_iter will be 1000, and default tol will be 1e-3.\n",
      "  \"and default tol will be 1e-3.\" % type(self), FutureWarning)\n",
      "/usr/lib/python3.6/site-packages/sklearn/linear_model/stochastic_gradient.py:128: FutureWarning: max_iter and tol parameters have been added in <class 'sklearn.linear_model.passive_aggressive.PassiveAggressiveClassifier'> in 0.19. If both are left unset, they default to max_iter=5 and tol=None. If tol is not None, max_iter defaults to max_iter=1000. From 0.21, default max_iter will be 1000, and default tol will be 1e-3.\n",
      "  \"and default tol will be 1e-3.\" % type(self), FutureWarning)\n"
     ]
    },
    {
     "name": "stdout",
     "output_type": "stream",
     "text": [
      "[CV]  clf__C=1.5, clf__loss=squared_hinge, clf__shuffle=True, total=   5.1s\n",
      "[CV]  clf__C=1.5, clf__loss=squared_hinge, clf__shuffle=False, total=   4.4s\n",
      "[CV]  clf__C=1.5, clf__loss=squared_hinge, clf__shuffle=False, total=   5.0s\n",
      "[CV]  clf__C=1.5, clf__loss=squared_hinge, clf__shuffle=False, total=   4.2s\n",
      "[CV]  clf__C=1.5, clf__loss=squared_hinge, clf__shuffle=False, total=   4.8s\n",
      "[CV]  clf__C=1.5, clf__loss=squared_hinge, clf__shuffle=True, total=   5.2s\n",
      "[CV]  clf__C=1.5, clf__loss=squared_hinge, clf__shuffle=True, total=   5.7s\n",
      "[CV]  clf__C=1.5, clf__loss=squared_hinge, clf__shuffle=False, total=   5.8s\n"
     ]
    },
    {
     "name": "stderr",
     "output_type": "stream",
     "text": [
      "[Parallel(n_jobs=-1)]: Done  80 out of  80 | elapsed:  1.6min finished\n",
      "/usr/lib/python3.6/site-packages/sklearn/linear_model/stochastic_gradient.py:128: FutureWarning: max_iter and tol parameters have been added in <class 'sklearn.linear_model.passive_aggressive.PassiveAggressiveClassifier'> in 0.19. If both are left unset, they default to max_iter=5 and tol=None. If tol is not None, max_iter defaults to max_iter=1000. From 0.21, default max_iter will be 1000, and default tol will be 1e-3.\n",
      "  \"and default tol will be 1e-3.\" % type(self), FutureWarning)\n"
     ]
    }
   ],
   "source": [
    "gs_lr_tfidf.fit(X_train, y_train)\n",
    "\n",
    "best_parameters = gs_lr_tfidf.best_params_\n",
    "best_estimator = gs_lr_tfidf.best_estimator_\n",
    "result = gs_lr_tfidf.cv_results_"
   ]
  },
  {
   "cell_type": "code",
   "execution_count": 87,
   "metadata": {},
   "outputs": [
    {
     "data": {
      "text/plain": [
       "{'clf__C': 0.1, 'clf__loss': 'hinge', 'clf__shuffle': True}"
      ]
     },
     "execution_count": 87,
     "metadata": {},
     "output_type": "execute_result"
    }
   ],
   "source": [
    "best_parameters"
   ]
  },
  {
   "cell_type": "code",
   "execution_count": 88,
   "metadata": {
    "scrolled": true
   },
   "outputs": [
    {
     "name": "stderr",
     "output_type": "stream",
     "text": [
      "/usr/lib/python3.6/site-packages/sklearn/linear_model/stochastic_gradient.py:128: FutureWarning: max_iter and tol parameters have been added in <class 'sklearn.linear_model.passive_aggressive.PassiveAggressiveClassifier'> in 0.19. If both are left unset, they default to max_iter=5 and tol=None. If tol is not None, max_iter defaults to max_iter=1000. From 0.21, default max_iter will be 1000, and default tol will be 1e-3.\n",
      "  \"and default tol will be 1e-3.\" % type(self), FutureWarning)\n"
     ]
    },
    {
     "name": "stdout",
     "output_type": "stream",
     "text": [
      "0.95499590966045\n"
     ]
    },
    {
     "name": "stderr",
     "output_type": "stream",
     "text": [
      "/usr/lib/python3.6/site-packages/sklearn/linear_model/stochastic_gradient.py:128: FutureWarning: max_iter and tol parameters have been added in <class 'sklearn.linear_model.passive_aggressive.PassiveAggressiveClassifier'> in 0.19. If both are left unset, they default to max_iter=5 and tol=None. If tol is not None, max_iter defaults to max_iter=1000. From 0.21, default max_iter will be 1000, and default tol will be 1e-3.\n",
      "  \"and default tol will be 1e-3.\" % type(self), FutureWarning)\n"
     ]
    },
    {
     "name": "stdout",
     "output_type": "stream",
     "text": [
      "0.9559170739789579\n"
     ]
    },
    {
     "name": "stderr",
     "output_type": "stream",
     "text": [
      "/usr/lib/python3.6/site-packages/sklearn/linear_model/stochastic_gradient.py:128: FutureWarning: max_iter and tol parameters have been added in <class 'sklearn.linear_model.passive_aggressive.PassiveAggressiveClassifier'> in 0.19. If both are left unset, they default to max_iter=5 and tol=None. If tol is not None, max_iter defaults to max_iter=1000. From 0.21, default max_iter will be 1000, and default tol will be 1e-3.\n",
      "  \"and default tol will be 1e-3.\" % type(self), FutureWarning)\n"
     ]
    },
    {
     "name": "stdout",
     "output_type": "stream",
     "text": [
      "0.9575325159473117\n"
     ]
    },
    {
     "name": "stderr",
     "output_type": "stream",
     "text": [
      "/usr/lib/python3.6/site-packages/sklearn/linear_model/stochastic_gradient.py:128: FutureWarning: max_iter and tol parameters have been added in <class 'sklearn.linear_model.passive_aggressive.PassiveAggressiveClassifier'> in 0.19. If both are left unset, they default to max_iter=5 and tol=None. If tol is not None, max_iter defaults to max_iter=1000. From 0.21, default max_iter will be 1000, and default tol will be 1e-3.\n",
      "  \"and default tol will be 1e-3.\" % type(self), FutureWarning)\n"
     ]
    },
    {
     "name": "stdout",
     "output_type": "stream",
     "text": [
      "0.9571070563138164\n"
     ]
    },
    {
     "name": "stderr",
     "output_type": "stream",
     "text": [
      "/usr/lib/python3.6/site-packages/sklearn/linear_model/stochastic_gradient.py:128: FutureWarning: max_iter and tol parameters have been added in <class 'sklearn.linear_model.passive_aggressive.PassiveAggressiveClassifier'> in 0.19. If both are left unset, they default to max_iter=5 and tol=None. If tol is not None, max_iter defaults to max_iter=1000. From 0.21, default max_iter will be 1000, and default tol will be 1e-3.\n",
      "  \"and default tol will be 1e-3.\" % type(self), FutureWarning)\n"
     ]
    },
    {
     "name": "stdout",
     "output_type": "stream",
     "text": [
      "0.9579562164737071\n"
     ]
    }
   ],
   "source": [
    "# PERFORMANCE MEASURE\n",
    "#####################\n",
    "# Stratified k-fold CV\n",
    "from sklearn.model_selection import StratifiedKFold\n",
    "from sklearn.base import clone\n",
    "\n",
    "skfolds = StratifiedKFold(n_splits=5, random_state=42, shuffle=True)\n",
    "\n",
    "for train_index, test_index in skfolds.split(X_train, y_train):\n",
    "    clone_estimator = clone(best_estimator)\n",
    "    X_train_folds = X_train[train_index]\n",
    "    y_train_folds = (y_train[train_index])\n",
    "    X_test_fold = X_train[test_index]\n",
    "    y_test_fold = (y_train[test_index])\n",
    "\n",
    "    clone_estimator.fit(X_train_folds, y_train_folds)\n",
    "    y_pred = clone_estimator.predict(X_test_fold)\n",
    "    n_correct = sum(y_pred == y_test_fold)\n",
    "    print(n_correct / len(y_pred))"
   ]
  },
  {
   "cell_type": "code",
   "execution_count": 89,
   "metadata": {
    "scrolled": true
   },
   "outputs": [
    {
     "name": "stderr",
     "output_type": "stream",
     "text": [
      "/usr/lib/python3.6/site-packages/sklearn/linear_model/stochastic_gradient.py:128: FutureWarning: max_iter and tol parameters have been added in <class 'sklearn.linear_model.passive_aggressive.PassiveAggressiveClassifier'> in 0.19. If both are left unset, they default to max_iter=5 and tol=None. If tol is not None, max_iter defaults to max_iter=1000. From 0.21, default max_iter will be 1000, and default tol will be 1e-3.\n",
      "  \"and default tol will be 1e-3.\" % type(self), FutureWarning)\n",
      "/usr/lib/python3.6/site-packages/sklearn/linear_model/stochastic_gradient.py:128: FutureWarning: max_iter and tol parameters have been added in <class 'sklearn.linear_model.passive_aggressive.PassiveAggressiveClassifier'> in 0.19. If both are left unset, they default to max_iter=5 and tol=None. If tol is not None, max_iter defaults to max_iter=1000. From 0.21, default max_iter will be 1000, and default tol will be 1e-3.\n",
      "  \"and default tol will be 1e-3.\" % type(self), FutureWarning)\n",
      "/usr/lib/python3.6/site-packages/sklearn/linear_model/stochastic_gradient.py:128: FutureWarning: max_iter and tol parameters have been added in <class 'sklearn.linear_model.passive_aggressive.PassiveAggressiveClassifier'> in 0.19. If both are left unset, they default to max_iter=5 and tol=None. If tol is not None, max_iter defaults to max_iter=1000. From 0.21, default max_iter will be 1000, and default tol will be 1e-3.\n",
      "  \"and default tol will be 1e-3.\" % type(self), FutureWarning)\n",
      "/usr/lib/python3.6/site-packages/sklearn/linear_model/stochastic_gradient.py:128: FutureWarning: max_iter and tol parameters have been added in <class 'sklearn.linear_model.passive_aggressive.PassiveAggressiveClassifier'> in 0.19. If both are left unset, they default to max_iter=5 and tol=None. If tol is not None, max_iter defaults to max_iter=1000. From 0.21, default max_iter will be 1000, and default tol will be 1e-3.\n",
      "  \"and default tol will be 1e-3.\" % type(self), FutureWarning)\n",
      "/usr/lib/python3.6/site-packages/sklearn/linear_model/stochastic_gradient.py:128: FutureWarning: max_iter and tol parameters have been added in <class 'sklearn.linear_model.passive_aggressive.PassiveAggressiveClassifier'> in 0.19. If both are left unset, they default to max_iter=5 and tol=None. If tol is not None, max_iter defaults to max_iter=1000. From 0.21, default max_iter will be 1000, and default tol will be 1e-3.\n",
      "  \"and default tol will be 1e-3.\" % type(self), FutureWarning)\n",
      "[Parallel(n_jobs=-1)]: Done   3 out of   5 | elapsed:    4.0s remaining:    2.7s\n",
      "[Parallel(n_jobs=-1)]: Done   5 out of   5 | elapsed:    4.3s finished\n"
     ]
    }
   ],
   "source": [
    "y_train_pred = cross_val_predict(best_estimator, X_train, y_train, cv=5,\n",
    "        verbose=2, n_jobs=-1)\n",
    "\n",
    "conf_mx = confusion_matrix(y_train, y_train_pred)"
   ]
  },
  {
   "cell_type": "code",
   "execution_count": 90,
   "metadata": {},
   "outputs": [
    {
     "data": {
      "text/plain": [
       "array([[  9706,    237,    110],\n",
       "       [  6202,  99493,   2538],\n",
       "       [  5378,   6565, 352608]])"
      ]
     },
     "execution_count": 90,
     "metadata": {},
     "output_type": "execute_result"
    }
   ],
   "source": [
    "conf_mx"
   ]
  },
  {
   "cell_type": "code",
   "execution_count": 91,
   "metadata": {},
   "outputs": [
    {
     "data": {
      "text/plain": [
       "(0.9564449286198033, 0.9564449286198033)"
      ]
     },
     "execution_count": 91,
     "metadata": {},
     "output_type": "execute_result"
    }
   ],
   "source": [
    "(precision_score(y_train, y_train_pred, average='micro'),\n",
    "        recall_score(y_train, y_train_pred, average='micro'))"
   ]
  },
  {
   "cell_type": "code",
   "execution_count": 92,
   "metadata": {},
   "outputs": [
    {
     "data": {
      "text/plain": [
       "0.9564449286198033"
      ]
     },
     "execution_count": 92,
     "metadata": {},
     "output_type": "execute_result"
    }
   ],
   "source": [
    "f1_score(y_train, y_train_pred, average='micro')"
   ]
  },
  {
   "cell_type": "code",
   "execution_count": 93,
   "metadata": {
    "scrolled": true
   },
   "outputs": [
    {
     "name": "stderr",
     "output_type": "stream",
     "text": [
      "/usr/lib/python3.6/site-packages/sklearn/linear_model/stochastic_gradient.py:128: FutureWarning: max_iter and tol parameters have been added in <class 'sklearn.linear_model.passive_aggressive.PassiveAggressiveClassifier'> in 0.19. If both are left unset, they default to max_iter=5 and tol=None. If tol is not None, max_iter defaults to max_iter=1000. From 0.21, default max_iter will be 1000, and default tol will be 1e-3.\n",
      "  \"and default tol will be 1e-3.\" % type(self), FutureWarning)\n",
      "/usr/lib/python3.6/site-packages/sklearn/linear_model/stochastic_gradient.py:128: FutureWarning: max_iter and tol parameters have been added in <class 'sklearn.linear_model.passive_aggressive.PassiveAggressiveClassifier'> in 0.19. If both are left unset, they default to max_iter=5 and tol=None. If tol is not None, max_iter defaults to max_iter=1000. From 0.21, default max_iter will be 1000, and default tol will be 1e-3.\n",
      "  \"and default tol will be 1e-3.\" % type(self), FutureWarning)\n",
      "/usr/lib/python3.6/site-packages/sklearn/linear_model/stochastic_gradient.py:128: FutureWarning: max_iter and tol parameters have been added in <class 'sklearn.linear_model.passive_aggressive.PassiveAggressiveClassifier'> in 0.19. If both are left unset, they default to max_iter=5 and tol=None. If tol is not None, max_iter defaults to max_iter=1000. From 0.21, default max_iter will be 1000, and default tol will be 1e-3.\n",
      "  \"and default tol will be 1e-3.\" % type(self), FutureWarning)\n",
      "/usr/lib/python3.6/site-packages/sklearn/linear_model/stochastic_gradient.py:128: FutureWarning: max_iter and tol parameters have been added in <class 'sklearn.linear_model.passive_aggressive.PassiveAggressiveClassifier'> in 0.19. If both are left unset, they default to max_iter=5 and tol=None. If tol is not None, max_iter defaults to max_iter=1000. From 0.21, default max_iter will be 1000, and default tol will be 1e-3.\n",
      "  \"and default tol will be 1e-3.\" % type(self), FutureWarning)\n",
      "/usr/lib/python3.6/site-packages/sklearn/linear_model/stochastic_gradient.py:128: FutureWarning: max_iter and tol parameters have been added in <class 'sklearn.linear_model.passive_aggressive.PassiveAggressiveClassifier'> in 0.19. If both are left unset, they default to max_iter=5 and tol=None. If tol is not None, max_iter defaults to max_iter=1000. From 0.21, default max_iter will be 1000, and default tol will be 1e-3.\n",
      "  \"and default tol will be 1e-3.\" % type(self), FutureWarning)\n",
      "[Parallel(n_jobs=-1)]: Done   3 out of   5 | elapsed:    1.2s remaining:    0.8s\n",
      "[Parallel(n_jobs=-1)]: Done   5 out of   5 | elapsed:    1.3s finished\n"
     ]
    }
   ],
   "source": [
    "# TEST MODEL ON TEST DATA\n",
    "#########################\n",
    "y_test_pred = cross_val_predict(best_estimator, X_test, y_test, cv=5,\n",
    "        verbose=2, n_jobs=-1)\n",
    "\n",
    "conf_mx = confusion_matrix(y_test, y_test_pred)"
   ]
  },
  {
   "cell_type": "code",
   "execution_count": 94,
   "metadata": {},
   "outputs": [
    {
     "data": {
      "text/plain": [
       "array([[ 2351,   131,    31],\n",
       "       [ 1937, 24427,   695],\n",
       "       [ 1746,  2738, 86654]])"
      ]
     },
     "execution_count": 94,
     "metadata": {},
     "output_type": "execute_result"
    }
   ],
   "source": [
    "conf_mx"
   ]
  },
  {
   "cell_type": "code",
   "execution_count": 95,
   "metadata": {},
   "outputs": [
    {
     "data": {
      "text/plain": [
       "(0.9397067351503604, 0.9397067351503604)"
      ]
     },
     "execution_count": 95,
     "metadata": {},
     "output_type": "execute_result"
    }
   ],
   "source": [
    "(precision_score(y_test, y_test_pred, average='micro'),\n",
    "        recall_score(y_test, y_test_pred, average='micro'))"
   ]
  },
  {
   "cell_type": "code",
   "execution_count": 96,
   "metadata": {},
   "outputs": [
    {
     "data": {
      "text/plain": [
       "0.9397067351503604"
      ]
     },
     "execution_count": 96,
     "metadata": {},
     "output_type": "execute_result"
    }
   ],
   "source": [
    "f1_score(y_test, y_test_pred, average='micro')"
   ]
  },
  {
   "cell_type": "code",
   "execution_count": 97,
   "metadata": {},
   "outputs": [
    {
     "data": {
      "text/plain": [
       "['./training/sentiment_passiveagressive_undersample.pkl']"
      ]
     },
     "execution_count": 97,
     "metadata": {},
     "output_type": "execute_result"
    }
   ],
   "source": [
    "joblib.dump(best_estimator, './training/sentiment_passiveagressive_undersample.pkl')"
   ]
  },
  {
   "cell_type": "markdown",
   "metadata": {},
   "source": [
    "# 6 - Perceptron"
   ]
  },
  {
   "cell_type": "code",
   "execution_count": 10,
   "metadata": {},
   "outputs": [],
   "source": [
    "from sklearn.linear_model import Perceptron"
   ]
  },
  {
   "cell_type": "code",
   "execution_count": 99,
   "metadata": {},
   "outputs": [],
   "source": [
    "rus = RandomUnderSampler(random_state=42, replacement=True)\n",
    "\n",
    "tfidf = TfidfVectorizer(strip_accents=None, lowercase=False, preprocessor=None,\n",
    "                       ngram_range=(1,1), stop_words=None, tokenizer=str.split)\n",
    "\n",
    "param_grid = [{'clf__penalty': ['l2', 'l1', 'elasticnet'],\n",
    "               'clf__alpha': [0.0001, 0.001, 0.01, 1],\n",
    "               'clf__max_iter': [1000],\n",
    "               'clf__warm_start': [0.0001]\n",
    "              }]\n",
    "\n",
    "lr_tfidf = Pipeline([('vect', tfidf),\n",
    "                     ('rus', rus),\n",
    "                     ('clf', Perceptron(random_state=42))\n",
    "                    ])\n",
    "\n",
    "gs_lr_tfidf = GridSearchCV(estimator=lr_tfidf,\n",
    "        param_grid=param_grid,\n",
    "        scoring=['accuracy', 'f1_micro'],\n",
    "        cv=5,\n",
    "        verbose=2,\n",
    "        refit='f1_micro',\n",
    "        n_jobs=-1)"
   ]
  },
  {
   "cell_type": "code",
   "execution_count": 100,
   "metadata": {
    "scrolled": true
   },
   "outputs": [
    {
     "name": "stdout",
     "output_type": "stream",
     "text": [
      "Fitting 5 folds for each of 12 candidates, totalling 60 fits\n",
      "[CV] clf__alpha=0.0001, clf__max_iter=1000, clf__penalty=l2, clf__warm_start=0.0001 \n",
      "[CV] clf__alpha=0.0001, clf__max_iter=1000, clf__penalty=l2, clf__warm_start=0.0001 \n",
      "[CV] clf__alpha=0.0001, clf__max_iter=1000, clf__penalty=l2, clf__warm_start=0.0001 \n",
      "[CV] clf__alpha=0.0001, clf__max_iter=1000, clf__penalty=l2, clf__warm_start=0.0001 \n",
      "[CV] clf__alpha=0.0001, clf__max_iter=1000, clf__penalty=l2, clf__warm_start=0.0001 \n",
      "[CV] clf__alpha=0.0001, clf__max_iter=1000, clf__penalty=l1, clf__warm_start=0.0001 \n",
      "[CV] clf__alpha=0.0001, clf__max_iter=1000, clf__penalty=l1, clf__warm_start=0.0001 \n",
      "[CV] clf__alpha=0.0001, clf__max_iter=1000, clf__penalty=l1, clf__warm_start=0.0001 \n",
      "[CV] clf__alpha=0.0001, clf__max_iter=1000, clf__penalty=l1, clf__warm_start=0.0001 \n",
      "[CV] clf__alpha=0.0001, clf__max_iter=1000, clf__penalty=l1, clf__warm_start=0.0001 \n",
      "[CV] clf__alpha=0.0001, clf__max_iter=1000, clf__penalty=elasticnet, clf__warm_start=0.0001 \n",
      "[CV] clf__alpha=0.0001, clf__max_iter=1000, clf__penalty=elasticnet, clf__warm_start=0.0001 \n",
      "[CV]  clf__alpha=0.0001, clf__max_iter=1000, clf__penalty=l2, clf__warm_start=0.0001, total=  19.5s\n",
      "[CV] clf__alpha=0.0001, clf__max_iter=1000, clf__penalty=elasticnet, clf__warm_start=0.0001 \n",
      "[CV]  clf__alpha=0.0001, clf__max_iter=1000, clf__penalty=l2, clf__warm_start=0.0001, total=  21.2s\n",
      "[CV] clf__alpha=0.0001, clf__max_iter=1000, clf__penalty=elasticnet, clf__warm_start=0.0001 \n",
      "[CV]  clf__alpha=0.0001, clf__max_iter=1000, clf__penalty=l2, clf__warm_start=0.0001, total=  21.5s\n",
      "[CV]  clf__alpha=0.0001, clf__max_iter=1000, clf__penalty=l2, clf__warm_start=0.0001, total=  21.4s\n",
      "[CV] clf__alpha=0.0001, clf__max_iter=1000, clf__penalty=elasticnet, clf__warm_start=0.0001 \n",
      "[CV]  clf__alpha=0.0001, clf__max_iter=1000, clf__penalty=l2, clf__warm_start=0.0001, total=  21.5s\n",
      "[CV] clf__alpha=0.001, clf__max_iter=1000, clf__penalty=l2, clf__warm_start=0.0001 \n",
      "[CV] clf__alpha=0.001, clf__max_iter=1000, clf__penalty=l2, clf__warm_start=0.0001 \n",
      "[CV]  clf__alpha=0.0001, clf__max_iter=1000, clf__penalty=l1, clf__warm_start=0.0001, total=  25.0s\n",
      "[CV] clf__alpha=0.001, clf__max_iter=1000, clf__penalty=l2, clf__warm_start=0.0001 \n",
      "[CV]  clf__alpha=0.0001, clf__max_iter=1000, clf__penalty=l1, clf__warm_start=0.0001, total=  27.7s\n",
      "[CV]  clf__alpha=0.0001, clf__max_iter=1000, clf__penalty=l1, clf__warm_start=0.0001, total=  27.5s\n",
      "[CV] clf__alpha=0.001, clf__max_iter=1000, clf__penalty=l2, clf__warm_start=0.0001 \n",
      "[CV]  clf__alpha=0.0001, clf__max_iter=1000, clf__penalty=l1, clf__warm_start=0.0001, total=  27.9s\n",
      "[CV] clf__alpha=0.001, clf__max_iter=1000, clf__penalty=l2, clf__warm_start=0.0001 \n",
      "[CV]  clf__alpha=0.0001, clf__max_iter=1000, clf__penalty=l1, clf__warm_start=0.0001, total=  28.0s\n",
      "[CV] clf__alpha=0.001, clf__max_iter=1000, clf__penalty=l1, clf__warm_start=0.0001 \n",
      "[CV] clf__alpha=0.001, clf__max_iter=1000, clf__penalty=l1, clf__warm_start=0.0001 \n",
      "[CV]  clf__alpha=0.0001, clf__max_iter=1000, clf__penalty=elasticnet, clf__warm_start=0.0001, total=  27.4s\n",
      "[CV] clf__alpha=0.001, clf__max_iter=1000, clf__penalty=l1, clf__warm_start=0.0001 \n",
      "[CV]  clf__alpha=0.0001, clf__max_iter=1000, clf__penalty=elasticnet, clf__warm_start=0.0001, total=  29.2s\n",
      "[CV] clf__alpha=0.001, clf__max_iter=1000, clf__penalty=l1, clf__warm_start=0.0001 \n",
      "[CV]  clf__alpha=0.001, clf__max_iter=1000, clf__penalty=l2, clf__warm_start=0.0001, total=  16.5s\n",
      "[CV] clf__alpha=0.001, clf__max_iter=1000, clf__penalty=l1, clf__warm_start=0.0001 \n",
      "[CV]  clf__alpha=0.001, clf__max_iter=1000, clf__penalty=l2, clf__warm_start=0.0001, total=  19.5s\n",
      "[CV] clf__alpha=0.001, clf__max_iter=1000, clf__penalty=elasticnet, clf__warm_start=0.0001 \n",
      "[CV]  clf__alpha=0.001, clf__max_iter=1000, clf__penalty=l2, clf__warm_start=0.0001, total=  19.4s\n",
      "[CV] clf__alpha=0.001, clf__max_iter=1000, clf__penalty=elasticnet, clf__warm_start=0.0001 \n",
      "[CV]  clf__alpha=0.0001, clf__max_iter=1000, clf__penalty=elasticnet, clf__warm_start=0.0001, total=  27.6s\n",
      "[CV] clf__alpha=0.001, clf__max_iter=1000, clf__penalty=elasticnet, clf__warm_start=0.0001 \n",
      "[CV]  clf__alpha=0.0001, clf__max_iter=1000, clf__penalty=elasticnet, clf__warm_start=0.0001, total=  27.9s\n"
     ]
    },
    {
     "name": "stderr",
     "output_type": "stream",
     "text": [
      "[Parallel(n_jobs=-1)]: Done  17 tasks      | elapsed:  1.1min\n"
     ]
    },
    {
     "name": "stdout",
     "output_type": "stream",
     "text": [
      "[CV] clf__alpha=0.001, clf__max_iter=1000, clf__penalty=elasticnet, clf__warm_start=0.0001 \n",
      "[CV]  clf__alpha=0.001, clf__max_iter=1000, clf__penalty=l2, clf__warm_start=0.0001, total=  20.9s\n",
      "[CV]  clf__alpha=0.001, clf__max_iter=1000, clf__penalty=l2, clf__warm_start=0.0001, total=  21.0s\n",
      "[CV] clf__alpha=0.001, clf__max_iter=1000, clf__penalty=elasticnet, clf__warm_start=0.0001 \n",
      "[CV]  clf__alpha=0.0001, clf__max_iter=1000, clf__penalty=elasticnet, clf__warm_start=0.0001, total=  28.2s\n",
      "[CV] clf__alpha=0.01, clf__max_iter=1000, clf__penalty=l2, clf__warm_start=0.0001 \n",
      "[CV] clf__alpha=0.01, clf__max_iter=1000, clf__penalty=l2, clf__warm_start=0.0001 \n",
      "[CV]  clf__alpha=0.001, clf__max_iter=1000, clf__penalty=l1, clf__warm_start=0.0001, total=  24.1s\n",
      "[CV] clf__alpha=0.01, clf__max_iter=1000, clf__penalty=l2, clf__warm_start=0.0001 \n",
      "[CV]  clf__alpha=0.001, clf__max_iter=1000, clf__penalty=l1, clf__warm_start=0.0001, total=  26.5s\n",
      "[CV]  clf__alpha=0.001, clf__max_iter=1000, clf__penalty=l1, clf__warm_start=0.0001, total=  26.3s\n",
      "[CV] clf__alpha=0.01, clf__max_iter=1000, clf__penalty=l2, clf__warm_start=0.0001 \n",
      "[CV] clf__alpha=0.01, clf__max_iter=1000, clf__penalty=l2, clf__warm_start=0.0001 \n",
      "[CV]  clf__alpha=0.001, clf__max_iter=1000, clf__penalty=l1, clf__warm_start=0.0001, total=  25.4s\n",
      "[CV] clf__alpha=0.01, clf__max_iter=1000, clf__penalty=l1, clf__warm_start=0.0001 \n",
      "[CV]  clf__alpha=0.001, clf__max_iter=1000, clf__penalty=l1, clf__warm_start=0.0001, total=  22.2s\n",
      "[CV] clf__alpha=0.01, clf__max_iter=1000, clf__penalty=l1, clf__warm_start=0.0001 \n",
      "[CV]  clf__alpha=0.001, clf__max_iter=1000, clf__penalty=elasticnet, clf__warm_start=0.0001, total=  26.6s\n",
      "[CV] clf__alpha=0.01, clf__max_iter=1000, clf__penalty=l1, clf__warm_start=0.0001 \n",
      "[CV]  clf__alpha=0.01, clf__max_iter=1000, clf__penalty=l2, clf__warm_start=0.0001, total=  20.0s\n",
      "[CV] clf__alpha=0.01, clf__max_iter=1000, clf__penalty=l1, clf__warm_start=0.0001 \n",
      "[CV]  clf__alpha=0.01, clf__max_iter=1000, clf__penalty=l2, clf__warm_start=0.0001, total=  22.4s\n",
      "[CV] clf__alpha=0.01, clf__max_iter=1000, clf__penalty=l1, clf__warm_start=0.0001 \n",
      "[CV]  clf__alpha=0.001, clf__max_iter=1000, clf__penalty=elasticnet, clf__warm_start=0.0001, total=  28.0s\n",
      "[CV] clf__alpha=0.01, clf__max_iter=1000, clf__penalty=elasticnet, clf__warm_start=0.0001 \n",
      "[CV]  clf__alpha=0.01, clf__max_iter=1000, clf__penalty=l2, clf__warm_start=0.0001, total=  21.1s\n",
      "[CV] clf__alpha=0.01, clf__max_iter=1000, clf__penalty=elasticnet, clf__warm_start=0.0001 \n",
      "[CV]  clf__alpha=0.01, clf__max_iter=1000, clf__penalty=l2, clf__warm_start=0.0001, total=  19.8s\n",
      "[CV] clf__alpha=0.01, clf__max_iter=1000, clf__penalty=elasticnet, clf__warm_start=0.0001 \n",
      "[CV]  clf__alpha=0.001, clf__max_iter=1000, clf__penalty=elasticnet, clf__warm_start=0.0001, total=  28.9s\n",
      "[CV] clf__alpha=0.01, clf__max_iter=1000, clf__penalty=elasticnet, clf__warm_start=0.0001 \n",
      "[CV]  clf__alpha=0.01, clf__max_iter=1000, clf__penalty=l2, clf__warm_start=0.0001, total=  20.6s\n",
      "[CV] clf__alpha=0.01, clf__max_iter=1000, clf__penalty=elasticnet, clf__warm_start=0.0001 \n",
      "[CV]  clf__alpha=0.001, clf__max_iter=1000, clf__penalty=elasticnet, clf__warm_start=0.0001, total=  28.8s\n",
      "[CV] clf__alpha=1, clf__max_iter=1000, clf__penalty=l2, clf__warm_start=0.0001 \n",
      "[CV]  clf__alpha=0.001, clf__max_iter=1000, clf__penalty=elasticnet, clf__warm_start=0.0001, total=  28.3s\n",
      "[CV] clf__alpha=1, clf__max_iter=1000, clf__penalty=l2, clf__warm_start=0.0001 \n",
      "[CV]  clf__alpha=0.01, clf__max_iter=1000, clf__penalty=l1, clf__warm_start=0.0001, total=  24.3s\n",
      "[CV] clf__alpha=1, clf__max_iter=1000, clf__penalty=l2, clf__warm_start=0.0001 \n",
      "[CV]  clf__alpha=0.01, clf__max_iter=1000, clf__penalty=l1, clf__warm_start=0.0001, total=  19.8s\n",
      "[CV] clf__alpha=1, clf__max_iter=1000, clf__penalty=l2, clf__warm_start=0.0001 \n",
      "[CV]  clf__alpha=0.01, clf__max_iter=1000, clf__penalty=l1, clf__warm_start=0.0001, total=  21.3s\n",
      "[CV] clf__alpha=1, clf__max_iter=1000, clf__penalty=l2, clf__warm_start=0.0001 \n",
      "[CV]  clf__alpha=0.01, clf__max_iter=1000, clf__penalty=l1, clf__warm_start=0.0001, total=  22.9s\n",
      "[CV] clf__alpha=1, clf__max_iter=1000, clf__penalty=l1, clf__warm_start=0.0001 \n",
      "[CV]  clf__alpha=0.01, clf__max_iter=1000, clf__penalty=l1, clf__warm_start=0.0001, total=  21.8s\n",
      "[CV] clf__alpha=1, clf__max_iter=1000, clf__penalty=l1, clf__warm_start=0.0001 \n",
      "[CV]  clf__alpha=0.01, clf__max_iter=1000, clf__penalty=elasticnet, clf__warm_start=0.0001, total=  22.7s\n",
      "[CV] clf__alpha=1, clf__max_iter=1000, clf__penalty=l1, clf__warm_start=0.0001 \n",
      "[CV]  clf__alpha=0.01, clf__max_iter=1000, clf__penalty=elasticnet, clf__warm_start=0.0001, total=  28.2s\n",
      "[CV] clf__alpha=1, clf__max_iter=1000, clf__penalty=l1, clf__warm_start=0.0001 \n",
      "[CV]  clf__alpha=0.01, clf__max_iter=1000, clf__penalty=elasticnet, clf__warm_start=0.0001, total=  28.8s\n",
      "[CV] clf__alpha=1, clf__max_iter=1000, clf__penalty=l1, clf__warm_start=0.0001 \n",
      "[CV]  clf__alpha=0.01, clf__max_iter=1000, clf__penalty=elasticnet, clf__warm_start=0.0001, total=  27.9s\n",
      "[CV]  clf__alpha=0.01, clf__max_iter=1000, clf__penalty=elasticnet, clf__warm_start=0.0001, total=  27.2s\n",
      "[CV] clf__alpha=1, clf__max_iter=1000, clf__penalty=elasticnet, clf__warm_start=0.0001 \n",
      "[CV] clf__alpha=1, clf__max_iter=1000, clf__penalty=elasticnet, clf__warm_start=0.0001 \n",
      "[CV]  clf__alpha=1, clf__max_iter=1000, clf__penalty=l1, clf__warm_start=0.0001, total=  19.2s\n",
      "[CV] clf__alpha=1, clf__max_iter=1000, clf__penalty=elasticnet, clf__warm_start=0.0001 \n",
      "[CV]  clf__alpha=1, clf__max_iter=1000, clf__penalty=l1, clf__warm_start=0.0001, total=  18.2s\n",
      "[CV] clf__alpha=1, clf__max_iter=1000, clf__penalty=elasticnet, clf__warm_start=0.0001 \n",
      "[CV]  clf__alpha=1, clf__max_iter=1000, clf__penalty=l1, clf__warm_start=0.0001, total=  19.9s\n",
      "[CV] clf__alpha=1, clf__max_iter=1000, clf__penalty=elasticnet, clf__warm_start=0.0001 \n",
      "[CV]  clf__alpha=1, clf__max_iter=1000, clf__penalty=l1, clf__warm_start=0.0001, total=  18.0s\n",
      "[CV]  clf__alpha=1, clf__max_iter=1000, clf__penalty=l1, clf__warm_start=0.0001, total=  19.2s\n",
      "[CV]  clf__alpha=1, clf__max_iter=1000, clf__penalty=elasticnet, clf__warm_start=0.0001, total=11.4min\n",
      "[CV]  clf__alpha=1, clf__max_iter=1000, clf__penalty=l2, clf__warm_start=0.0001, total=12.0min\n",
      "[CV]  clf__alpha=1, clf__max_iter=1000, clf__penalty=l2, clf__warm_start=0.0001, total=12.4min\n",
      "[CV]  clf__alpha=1, clf__max_iter=1000, clf__penalty=elasticnet, clf__warm_start=0.0001, total=12.1min\n",
      "[CV]  clf__alpha=1, clf__max_iter=1000, clf__penalty=l2, clf__warm_start=0.0001, total=13.0min\n",
      "[CV]  clf__alpha=1, clf__max_iter=1000, clf__penalty=elasticnet, clf__warm_start=0.0001, total=12.7min\n",
      "[CV]  clf__alpha=1, clf__max_iter=1000, clf__penalty=l2, clf__warm_start=0.0001, total=14.9min\n",
      "[CV]  clf__alpha=1, clf__max_iter=1000, clf__penalty=elasticnet, clf__warm_start=0.0001, total=14.2min\n",
      "[CV]  clf__alpha=1, clf__max_iter=1000, clf__penalty=l2, clf__warm_start=0.0001, total=15.5min\n",
      "[CV]  clf__alpha=1, clf__max_iter=1000, clf__penalty=elasticnet, clf__warm_start=0.0001, total=15.3min\n"
     ]
    },
    {
     "name": "stderr",
     "output_type": "stream",
     "text": [
      "[Parallel(n_jobs=-1)]: Done  60 out of  60 | elapsed: 17.7min finished\n"
     ]
    }
   ],
   "source": [
    "gs_lr_tfidf.fit(X_train, y_train)\n",
    "\n",
    "best_parameters = gs_lr_tfidf.best_params_\n",
    "best_estimator = gs_lr_tfidf.best_estimator_\n",
    "result = gs_lr_tfidf.cv_results_"
   ]
  },
  {
   "cell_type": "code",
   "execution_count": 101,
   "metadata": {},
   "outputs": [
    {
     "data": {
      "text/plain": [
       "{'clf__alpha': 0.0001,\n",
       " 'clf__max_iter': 1000,\n",
       " 'clf__penalty': 'l1',\n",
       " 'clf__warm_start': 0.0001}"
      ]
     },
     "execution_count": 101,
     "metadata": {},
     "output_type": "execute_result"
    }
   ],
   "source": [
    "best_parameters"
   ]
  },
  {
   "cell_type": "code",
   "execution_count": 102,
   "metadata": {},
   "outputs": [
    {
     "name": "stdout",
     "output_type": "stream",
     "text": [
      "0.9481614182605184\n",
      "0.9194557203214315\n",
      "0.9115649076298566\n",
      "0.9223743346519478\n",
      "0.9337862187519417\n"
     ]
    }
   ],
   "source": [
    "# PERFORMANCE MEASURE\n",
    "#####################\n",
    "# Stratified k-fold CV\n",
    "from sklearn.model_selection import StratifiedKFold\n",
    "from sklearn.base import clone\n",
    "\n",
    "skfolds = StratifiedKFold(n_splits=5, random_state=42, shuffle=True)\n",
    "\n",
    "for train_index, test_index in skfolds.split(X_train, y_train):\n",
    "    clone_estimator = clone(best_estimator)\n",
    "    X_train_folds = X_train[train_index]\n",
    "    y_train_folds = (y_train[train_index])\n",
    "    X_test_fold = X_train[test_index]\n",
    "    y_test_fold = (y_train[test_index])\n",
    "\n",
    "    clone_estimator.fit(X_train_folds, y_train_folds)\n",
    "    y_pred = clone_estimator.predict(X_test_fold)\n",
    "    n_correct = sum(y_pred == y_test_fold)\n",
    "    print(n_correct / len(y_pred))"
   ]
  },
  {
   "cell_type": "code",
   "execution_count": 103,
   "metadata": {},
   "outputs": [
    {
     "name": "stderr",
     "output_type": "stream",
     "text": [
      "[Parallel(n_jobs=-1)]: Done   3 out of   5 | elapsed:   12.9s remaining:    8.6s\n",
      "[Parallel(n_jobs=-1)]: Done   5 out of   5 | elapsed:   13.2s finished\n"
     ]
    }
   ],
   "source": [
    "y_train_pred = cross_val_predict(best_estimator, X_train, y_train, cv=5,\n",
    "        verbose=2, n_jobs=-1)\n",
    "\n",
    "conf_mx = confusion_matrix(y_train, y_train_pred)"
   ]
  },
  {
   "cell_type": "code",
   "execution_count": 104,
   "metadata": {},
   "outputs": [
    {
     "data": {
      "text/plain": [
       "array([[  8688,   1014,    351],\n",
       "       [ 12724,  90147,   5362],\n",
       "       [  5023,  23968, 335560]])"
      ]
     },
     "execution_count": 104,
     "metadata": {},
     "output_type": "execute_result"
    }
   ],
   "source": [
    "conf_mx"
   ]
  },
  {
   "cell_type": "code",
   "execution_count": 105,
   "metadata": {},
   "outputs": [
    {
     "data": {
      "text/plain": [
       "(0.8996721460865675, 0.8996721460865675)"
      ]
     },
     "execution_count": 105,
     "metadata": {},
     "output_type": "execute_result"
    }
   ],
   "source": [
    "(precision_score(y_train, y_train_pred, average='micro'),\n",
    "        recall_score(y_train, y_train_pred, average='micro'))"
   ]
  },
  {
   "cell_type": "code",
   "execution_count": 106,
   "metadata": {},
   "outputs": [
    {
     "data": {
      "text/plain": [
       "0.8996721460865675"
      ]
     },
     "execution_count": 106,
     "metadata": {},
     "output_type": "execute_result"
    }
   ],
   "source": [
    "f1_score(y_train, y_train_pred, average='micro')"
   ]
  },
  {
   "cell_type": "code",
   "execution_count": 107,
   "metadata": {},
   "outputs": [
    {
     "name": "stderr",
     "output_type": "stream",
     "text": [
      "[Parallel(n_jobs=-1)]: Done   3 out of   5 | elapsed:    3.0s remaining:    2.0s\n",
      "[Parallel(n_jobs=-1)]: Done   5 out of   5 | elapsed:    3.3s finished\n"
     ]
    }
   ],
   "source": [
    "y_test_pred = cross_val_predict(best_estimator, X_test, y_test, cv=5,\n",
    "        verbose=2, n_jobs=-1)\n",
    "\n",
    "conf_mx = confusion_matrix(y_test, y_test_pred)"
   ]
  },
  {
   "cell_type": "code",
   "execution_count": 108,
   "metadata": {},
   "outputs": [
    {
     "data": {
      "text/plain": [
       "array([[ 2264,   139,   110],\n",
       "       [ 4345, 21713,  1001],\n",
       "       [ 1867,  2958, 86313]])"
      ]
     },
     "execution_count": 108,
     "metadata": {},
     "output_type": "execute_result"
    }
   ],
   "source": [
    "conf_mx"
   ]
  },
  {
   "cell_type": "code",
   "execution_count": 109,
   "metadata": {},
   "outputs": [
    {
     "data": {
      "text/plain": [
       "(0.9136774086653964, 0.9136774086653964)"
      ]
     },
     "execution_count": 109,
     "metadata": {},
     "output_type": "execute_result"
    }
   ],
   "source": [
    "(precision_score(y_test, y_test_pred, average='micro'),\n",
    "        recall_score(y_test, y_test_pred, average='micro'))"
   ]
  },
  {
   "cell_type": "code",
   "execution_count": 110,
   "metadata": {},
   "outputs": [
    {
     "data": {
      "text/plain": [
       "0.9136774086653964"
      ]
     },
     "execution_count": 110,
     "metadata": {},
     "output_type": "execute_result"
    }
   ],
   "source": [
    "f1_score(y_test, y_test_pred, average='micro')"
   ]
  },
  {
   "cell_type": "code",
   "execution_count": 112,
   "metadata": {},
   "outputs": [
    {
     "data": {
      "text/plain": [
       "['./training/sentiment_perceptron_undersample.pkl']"
      ]
     },
     "execution_count": 112,
     "metadata": {},
     "output_type": "execute_result"
    }
   ],
   "source": [
    "joblib.dump(best_estimator, './training/sentiment_perceptron_undersample.pkl')"
   ]
  },
  {
   "cell_type": "code",
   "execution_count": null,
   "metadata": {},
   "outputs": [],
   "source": []
  },
  {
   "cell_type": "code",
   "execution_count": 55,
   "metadata": {},
   "outputs": [],
   "source": [
    "estimator = joblib.load('./training/sentiment_perceptron_undersample.pkl')"
   ]
  },
  {
   "cell_type": "code",
   "execution_count": 56,
   "metadata": {
    "scrolled": true
   },
   "outputs": [
    {
     "name": "stderr",
     "output_type": "stream",
     "text": [
      "[Parallel(n_jobs=-1)]: Done   5 out of   5 | elapsed:   47.4s finished\n"
     ]
    }
   ],
   "source": [
    "y_train_pred = cross_val_predict(estimator, X_train, y_train, cv=5,\n",
    "        verbose=2, n_jobs=-1)"
   ]
  },
  {
   "cell_type": "code",
   "execution_count": 57,
   "metadata": {},
   "outputs": [
    {
     "data": {
      "text/plain": [
       "(0.698307851142644, 0.8725306522869007)"
      ]
     },
     "execution_count": 57,
     "metadata": {},
     "output_type": "execute_result"
    }
   ],
   "source": [
    "(precision_score(y_train, y_train_pred, average='macro'),\n",
    "        recall_score(y_train, y_train_pred, average='macro'))"
   ]
  },
  {
   "cell_type": "code",
   "execution_count": 58,
   "metadata": {},
   "outputs": [
    {
     "data": {
      "text/plain": [
       "0.7447420837346092"
      ]
     },
     "execution_count": 58,
     "metadata": {},
     "output_type": "execute_result"
    }
   ],
   "source": [
    "f1_score(y_train, y_train_pred, average='macro')"
   ]
  },
  {
   "cell_type": "code",
   "execution_count": 59,
   "metadata": {},
   "outputs": [
    {
     "name": "stderr",
     "output_type": "stream",
     "text": [
      "[Parallel(n_jobs=-1)]: Done   5 out of   5 | elapsed:    8.4s finished\n"
     ]
    }
   ],
   "source": [
    "y_test_pred = cross_val_predict(estimator, X_test, y_test, cv=5,\n",
    "        verbose=2, n_jobs=-1)"
   ]
  },
  {
   "cell_type": "code",
   "execution_count": 60,
   "metadata": {},
   "outputs": [
    {
     "data": {
      "text/plain": [
       "(0.7098567490257722, 0.8834684237339981)"
      ]
     },
     "execution_count": 60,
     "metadata": {},
     "output_type": "execute_result"
    }
   ],
   "source": [
    "(precision_score(y_test, y_test_pred, average='macro'),\n",
    "        recall_score(y_test, y_test_pred, average='macro'))"
   ]
  },
  {
   "cell_type": "code",
   "execution_count": 61,
   "metadata": {},
   "outputs": [
    {
     "data": {
      "text/plain": [
       "0.738676534417607"
      ]
     },
     "execution_count": 61,
     "metadata": {},
     "output_type": "execute_result"
    }
   ],
   "source": [
    "f1_score(y_test, y_test_pred, average='macro')"
   ]
  },
  {
   "cell_type": "code",
   "execution_count": null,
   "metadata": {},
   "outputs": [],
   "source": []
  }
 ],
 "metadata": {
  "kernelspec": {
   "display_name": "Python 3",
   "language": "python",
   "name": "python3"
  },
  "language_info": {
   "codemirror_mode": {
    "name": "ipython",
    "version": 3
   },
   "file_extension": ".py",
   "mimetype": "text/x-python",
   "name": "python",
   "nbconvert_exporter": "python",
   "pygments_lexer": "ipython3",
   "version": "3.6.6"
  }
 },
 "nbformat": 4,
 "nbformat_minor": 2
}
